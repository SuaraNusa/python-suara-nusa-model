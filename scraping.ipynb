{
 "cells": [
  {
   "cell_type": "code",
   "execution_count": 1,
   "metadata": {},
   "outputs": [],
   "source": [
    "import pandas as pd\n",
    "from youtube_search import YoutubeSearch\n",
    "from pytubefix import YouTube\n",
    "import re"
   ]
  },
  {
   "cell_type": "markdown",
   "metadata": {},
   "source": [
    "### Load Scrapping Result"
   ]
  },
  {
   "cell_type": "code",
   "execution_count": 2,
   "metadata": {},
   "outputs": [
    {
     "data": {
      "text/html": [
       "<div>\n",
       "<style scoped>\n",
       "    .dataframe tbody tr th:only-of-type {\n",
       "        vertical-align: middle;\n",
       "    }\n",
       "\n",
       "    .dataframe tbody tr th {\n",
       "        vertical-align: top;\n",
       "    }\n",
       "\n",
       "    .dataframe thead th {\n",
       "        text-align: right;\n",
       "    }\n",
       "</style>\n",
       "<table border=\"1\" class=\"dataframe\">\n",
       "  <thead>\n",
       "    <tr style=\"text-align: right;\">\n",
       "      <th></th>\n",
       "      <th>nama</th>\n",
       "      <th>daerah</th>\n",
       "      <th>keyword</th>\n",
       "      <th>lirik</th>\n",
       "    </tr>\n",
       "  </thead>\n",
       "  <tbody>\n",
       "    <tr>\n",
       "      <th>0</th>\n",
       "      <td>Kicir-Kicir</td>\n",
       "      <td>Jakarta</td>\n",
       "      <td>jakarta</td>\n",
       "      <td>NaN</td>\n",
       "    </tr>\n",
       "    <tr>\n",
       "      <th>1</th>\n",
       "      <td>Ondel Ondel</td>\n",
       "      <td>jakarta</td>\n",
       "      <td>Jakarta</td>\n",
       "      <td>NaN</td>\n",
       "    </tr>\n",
       "    <tr>\n",
       "      <th>2</th>\n",
       "      <td>Manuk Dadali</td>\n",
       "      <td>jawa barat</td>\n",
       "      <td>jawa barat</td>\n",
       "      <td>NaN</td>\n",
       "    </tr>\n",
       "  </tbody>\n",
       "</table>\n",
       "</div>"
      ],
      "text/plain": [
       "           nama      daerah     keyword  lirik\n",
       "0   Kicir-Kicir     Jakarta     jakarta    NaN\n",
       "1   Ondel Ondel     jakarta     Jakarta    NaN\n",
       "2  Manuk Dadali  jawa barat  jawa barat    NaN"
      ]
     },
     "execution_count": 2,
     "metadata": {},
     "output_type": "execute_result"
    }
   ],
   "source": [
    "data = pd.read_csv('data/data.csv', sep=';')\n",
    "\n",
    "data.head()"
   ]
  },
  {
   "cell_type": "markdown",
   "metadata": {},
   "source": [
    "### Search and Download Music Function"
   ]
  },
  {
   "cell_type": "code",
   "execution_count": 3,
   "metadata": {},
   "outputs": [],
   "source": [
    "def search_yt(query):\n",
    "    results = YoutubeSearch(query, max_results=3).to_dict()\n",
    "\n",
    "    for i in range(len(results)):\n",
    "        results[i]['url'] = 'https://www.youtube.com' + results[i]['url_suffix']\n",
    "        \n",
    "    return results\n",
    "\n",
    "def normalized_yt_title(title):\n",
    "    text = title.lower()\n",
    "    text = text.replace(' ', '_')\n",
    "    text = re.sub(r'[^a-z0-9_]', '', text)\n",
    "    text = re.sub(r'_{2,}', '_', text)\n",
    "    \n",
    "    return text\n",
    "\n",
    "def dl_video(query):\n",
    "    try:\n",
    "        yt = YouTube(query, 'ANDROID')\n",
    "        print(f'Downloading {yt.title}...')\n",
    "        \n",
    "        normalized_title = normalized_yt_title(yt.title)\n",
    "        \n",
    "        ys = yt.streams.get_audio_only()\n",
    "        ys.download(mp3=True, output_path='songs', filename=normalized_title)\n",
    "        \n",
    "        return f'/songs/{normalized_title}.mp3'\n",
    "    except Exception as e:\n",
    "        print(e)\n",
    "        return None\n",
    "    "
   ]
  },
  {
   "cell_type": "code",
   "execution_count": 4,
   "metadata": {},
   "outputs": [
    {
     "name": "stderr",
     "output_type": "stream",
     "text": [
      "The ANDROID client requires PoToken to obtain functional streams, See more details at https://github.com/JuanBindez/pytubefix/pull/209\n",
      "The ANDROID client requires PoToken to obtain functional streams, See more details at https://github.com/JuanBindez/pytubefix/pull/209\n"
     ]
    },
    {
     "name": "stdout",
     "output_type": "stream",
     "text": [
      "Downloading KICIR KICIR - Lagu dan Tari Nusantara - Lagu Anak...\n"
     ]
    },
    {
     "name": "stderr",
     "output_type": "stream",
     "text": [
      "The ANDROID client requires PoToken to obtain functional streams, See more details at https://github.com/JuanBindez/pytubefix/pull/209\n",
      "The ANDROID client requires PoToken to obtain functional streams, See more details at https://github.com/JuanBindez/pytubefix/pull/209\n"
     ]
    },
    {
     "name": "stdout",
     "output_type": "stream",
     "text": [
      "Downloading senam kicir kicir lomba 2024...\n"
     ]
    },
    {
     "name": "stderr",
     "output_type": "stream",
     "text": [
      "The ANDROID client requires PoToken to obtain functional streams, See more details at https://github.com/JuanBindez/pytubefix/pull/209\n",
      "The ANDROID client requires PoToken to obtain functional streams, See more details at https://github.com/JuanBindez/pytubefix/pull/209\n"
     ]
    },
    {
     "name": "stdout",
     "output_type": "stream",
     "text": [
      "Downloading Kicir Kicir Jakarta...\n"
     ]
    },
    {
     "name": "stderr",
     "output_type": "stream",
     "text": [
      "The ANDROID client requires PoToken to obtain functional streams, See more details at https://github.com/JuanBindez/pytubefix/pull/209\n",
      "The ANDROID client requires PoToken to obtain functional streams, See more details at https://github.com/JuanBindez/pytubefix/pull/209\n"
     ]
    },
    {
     "name": "stdout",
     "output_type": "stream",
     "text": [
      "Downloading ONDEL ONDEL | Lagu Daerah DKI Jakarta - Betawi | Budaya Indonesia | Dongeng Kita...\n"
     ]
    },
    {
     "name": "stderr",
     "output_type": "stream",
     "text": [
      "The ANDROID client requires PoToken to obtain functional streams, See more details at https://github.com/JuanBindez/pytubefix/pull/209\n",
      "The ANDROID client requires PoToken to obtain functional streams, See more details at https://github.com/JuanBindez/pytubefix/pull/209\n"
     ]
    },
    {
     "name": "stdout",
     "output_type": "stream",
     "text": [
      "Downloading ONDEL ONDEL 💞 LAGU DAERAH DKI JAKARTA | ONDEL ONDEL BETAWI REMIX...\n"
     ]
    },
    {
     "name": "stderr",
     "output_type": "stream",
     "text": [
      "The ANDROID client requires PoToken to obtain functional streams, See more details at https://github.com/JuanBindez/pytubefix/pull/209\n",
      "The ANDROID client requires PoToken to obtain functional streams, See more details at https://github.com/JuanBindez/pytubefix/pull/209\n"
     ]
    },
    {
     "name": "stdout",
     "output_type": "stream",
     "text": [
      "Downloading Parade Ondel ondeL Betawi di Pantai ANCOL ~ Komunitas Ondel-ondel Dki Jakarta...\n"
     ]
    },
    {
     "name": "stderr",
     "output_type": "stream",
     "text": [
      "The ANDROID client requires PoToken to obtain functional streams, See more details at https://github.com/JuanBindez/pytubefix/pull/209\n",
      "The ANDROID client requires PoToken to obtain functional streams, See more details at https://github.com/JuanBindez/pytubefix/pull/209\n"
     ]
    },
    {
     "name": "stdout",
     "output_type": "stream",
     "text": [
      "Downloading Lagu manuk dadali...\n"
     ]
    },
    {
     "name": "stderr",
     "output_type": "stream",
     "text": [
      "The ANDROID client requires PoToken to obtain functional streams, See more details at https://github.com/JuanBindez/pytubefix/pull/209\n",
      "The ANDROID client requires PoToken to obtain functional streams, See more details at https://github.com/JuanBindez/pytubefix/pull/209\n"
     ]
    },
    {
     "name": "stdout",
     "output_type": "stream",
     "text": [
      "Downloading Aty Surya - Manuk Dadali...\n"
     ]
    },
    {
     "name": "stderr",
     "output_type": "stream",
     "text": [
      "The ANDROID client requires PoToken to obtain functional streams, See more details at https://github.com/JuanBindez/pytubefix/pull/209\n",
      "The ANDROID client requires PoToken to obtain functional streams, See more details at https://github.com/JuanBindez/pytubefix/pull/209\n"
     ]
    },
    {
     "name": "stdout",
     "output_type": "stream",
     "text": [
      "Downloading Lagu Daerah Manuk Dadali dan Lirik \"Apa Ya Makna Lagu Daerah Kita?\"...\n"
     ]
    }
   ],
   "source": [
    "results = []\n",
    "\n",
    "for index, row in data.iterrows():\n",
    "    songs = search_yt(f\"{row['nama']} asal {row['daerah']}\")\n",
    "    \n",
    "    result_entry = {\n",
    "        'nama': row['nama'],\n",
    "        'daerah': row['daerah'],\n",
    "        'keyword': row['keyword'],\n",
    "        'songs': []\n",
    "    }\n",
    "\n",
    "    for song in songs:\n",
    "        path = dl_video(song['url'])\n",
    "        result_entry['songs'].append({\n",
    "            'title': song['title'],\n",
    "            'url': song['url'],\n",
    "            'path': path\n",
    "        })\n",
    "    \n",
    "    results.append(result_entry)\n"
   ]
  },
  {
   "cell_type": "markdown",
   "metadata": {},
   "source": [
    "### Data Selection"
   ]
  },
  {
   "cell_type": "code",
   "execution_count": 28,
   "metadata": {},
   "outputs": [],
   "source": [
    "df = pd.DataFrame(results)\n",
    "df_songs = pd.DataFrame([song for result in results for song in result['songs']])"
   ]
  },
  {
   "cell_type": "code",
   "execution_count": 6,
   "metadata": {},
   "outputs": [
    {
     "data": {
      "text/html": [
       "<div>\n",
       "<style scoped>\n",
       "    .dataframe tbody tr th:only-of-type {\n",
       "        vertical-align: middle;\n",
       "    }\n",
       "\n",
       "    .dataframe tbody tr th {\n",
       "        vertical-align: top;\n",
       "    }\n",
       "\n",
       "    .dataframe thead th {\n",
       "        text-align: right;\n",
       "    }\n",
       "</style>\n",
       "<table border=\"1\" class=\"dataframe\">\n",
       "  <thead>\n",
       "    <tr style=\"text-align: right;\">\n",
       "      <th></th>\n",
       "      <th>nama</th>\n",
       "      <th>daerah</th>\n",
       "      <th>keyword</th>\n",
       "      <th>songs</th>\n",
       "    </tr>\n",
       "  </thead>\n",
       "  <tbody>\n",
       "    <tr>\n",
       "      <th>0</th>\n",
       "      <td>Kicir-Kicir</td>\n",
       "      <td>Jakarta</td>\n",
       "      <td>jakarta</td>\n",
       "      <td>[{'title': 'KICIR KICIR - Lagu dan Tari Nusant...</td>\n",
       "    </tr>\n",
       "    <tr>\n",
       "      <th>1</th>\n",
       "      <td>Ondel Ondel</td>\n",
       "      <td>jakarta</td>\n",
       "      <td>Jakarta</td>\n",
       "      <td>[{'title': 'ONDEL ONDEL | Lagu Daerah DKI Jaka...</td>\n",
       "    </tr>\n",
       "    <tr>\n",
       "      <th>2</th>\n",
       "      <td>Manuk Dadali</td>\n",
       "      <td>jawa barat</td>\n",
       "      <td>jawa barat</td>\n",
       "      <td>[{'title': 'Lagu manuk dadali', 'url': 'https:...</td>\n",
       "    </tr>\n",
       "  </tbody>\n",
       "</table>\n",
       "</div>"
      ],
      "text/plain": [
       "           nama      daerah     keyword  \\\n",
       "0   Kicir-Kicir     Jakarta     jakarta   \n",
       "1   Ondel Ondel     jakarta     Jakarta   \n",
       "2  Manuk Dadali  jawa barat  jawa barat   \n",
       "\n",
       "                                               songs  \n",
       "0  [{'title': 'KICIR KICIR - Lagu dan Tari Nusant...  \n",
       "1  [{'title': 'ONDEL ONDEL | Lagu Daerah DKI Jaka...  \n",
       "2  [{'title': 'Lagu manuk dadali', 'url': 'https:...  "
      ]
     },
     "execution_count": 6,
     "metadata": {},
     "output_type": "execute_result"
    }
   ],
   "source": [
    "df.head()"
   ]
  },
  {
   "cell_type": "code",
   "execution_count": 30,
   "metadata": {},
   "outputs": [
    {
     "data": {
      "text/html": [
       "<div>\n",
       "<style scoped>\n",
       "    .dataframe tbody tr th:only-of-type {\n",
       "        vertical-align: middle;\n",
       "    }\n",
       "\n",
       "    .dataframe tbody tr th {\n",
       "        vertical-align: top;\n",
       "    }\n",
       "\n",
       "    .dataframe thead th {\n",
       "        text-align: right;\n",
       "    }\n",
       "</style>\n",
       "<table border=\"1\" class=\"dataframe\">\n",
       "  <thead>\n",
       "    <tr style=\"text-align: right;\">\n",
       "      <th></th>\n",
       "      <th>title</th>\n",
       "      <th>url</th>\n",
       "      <th>path</th>\n",
       "    </tr>\n",
       "  </thead>\n",
       "  <tbody>\n",
       "    <tr>\n",
       "      <th>0</th>\n",
       "      <td>KICIR KICIR - Lagu dan Tari Nusantara - Lagu Anak</td>\n",
       "      <td>https://www.youtube.com/watch?v=0wTJULU2REc&amp;pp...</td>\n",
       "      <td>/songs/kicir_kicir_lagu_dan_tari_nusantara_lag...</td>\n",
       "    </tr>\n",
       "    <tr>\n",
       "      <th>1</th>\n",
       "      <td>senam kicir kicir lomba 2024</td>\n",
       "      <td>https://www.youtube.com/watch?v=NzWTp-eX02g&amp;pp...</td>\n",
       "      <td>/songs/senam_kicir_kicir_lomba_2024.mp3</td>\n",
       "    </tr>\n",
       "    <tr>\n",
       "      <th>2</th>\n",
       "      <td>Kicir Kicir Jakarta</td>\n",
       "      <td>https://www.youtube.com/watch?v=jMynoFKskhc&amp;pp...</td>\n",
       "      <td>/songs/kicir_kicir_jakarta.mp3</td>\n",
       "    </tr>\n",
       "    <tr>\n",
       "      <th>3</th>\n",
       "      <td>ONDEL ONDEL | Lagu Daerah DKI Jakarta - Betawi...</td>\n",
       "      <td>https://www.youtube.com/watch?v=wardyOl-EHo&amp;pp...</td>\n",
       "      <td>/songs/ondel_ondel_lagu_daerah_dki_jakarta_bet...</td>\n",
       "    </tr>\n",
       "    <tr>\n",
       "      <th>4</th>\n",
       "      <td>ONDEL ONDEL 💞 LAGU DAERAH DKI JAKARTA | ONDEL ...</td>\n",
       "      <td>https://www.youtube.com/watch?v=_X39qcf41ZU&amp;pp...</td>\n",
       "      <td>/songs/ondel_ondel_lagu_daerah_dki_jakarta_ond...</td>\n",
       "    </tr>\n",
       "  </tbody>\n",
       "</table>\n",
       "</div>"
      ],
      "text/plain": [
       "                                               title  \\\n",
       "0  KICIR KICIR - Lagu dan Tari Nusantara - Lagu Anak   \n",
       "1                       senam kicir kicir lomba 2024   \n",
       "2                                Kicir Kicir Jakarta   \n",
       "3  ONDEL ONDEL | Lagu Daerah DKI Jakarta - Betawi...   \n",
       "4  ONDEL ONDEL 💞 LAGU DAERAH DKI JAKARTA | ONDEL ...   \n",
       "\n",
       "                                                 url  \\\n",
       "0  https://www.youtube.com/watch?v=0wTJULU2REc&pp...   \n",
       "1  https://www.youtube.com/watch?v=NzWTp-eX02g&pp...   \n",
       "2  https://www.youtube.com/watch?v=jMynoFKskhc&pp...   \n",
       "3  https://www.youtube.com/watch?v=wardyOl-EHo&pp...   \n",
       "4  https://www.youtube.com/watch?v=_X39qcf41ZU&pp...   \n",
       "\n",
       "                                                path  \n",
       "0  /songs/kicir_kicir_lagu_dan_tari_nusantara_lag...  \n",
       "1            /songs/senam_kicir_kicir_lomba_2024.mp3  \n",
       "2                     /songs/kicir_kicir_jakarta.mp3  \n",
       "3  /songs/ondel_ondel_lagu_daerah_dki_jakarta_bet...  \n",
       "4  /songs/ondel_ondel_lagu_daerah_dki_jakarta_ond...  "
      ]
     },
     "execution_count": 30,
     "metadata": {},
     "output_type": "execute_result"
    }
   ],
   "source": [
    "df_songs.head()"
   ]
  },
  {
   "cell_type": "code",
   "execution_count": 31,
   "metadata": {},
   "outputs": [],
   "source": [
    "import os\n",
    "\n",
    "def convert_path(path):\n",
    "    if path is None:\n",
    "        return None\n",
    "    return str(os.path.abspath(path))\n",
    "\n",
    "df_songs['path'] = df_songs['path'].apply(convert_path)"
   ]
  },
  {
   "cell_type": "code",
   "execution_count": 32,
   "metadata": {},
   "outputs": [
    {
     "data": {
      "text/html": [
       "<div>\n",
       "<style scoped>\n",
       "    .dataframe tbody tr th:only-of-type {\n",
       "        vertical-align: middle;\n",
       "    }\n",
       "\n",
       "    .dataframe tbody tr th {\n",
       "        vertical-align: top;\n",
       "    }\n",
       "\n",
       "    .dataframe thead th {\n",
       "        text-align: right;\n",
       "    }\n",
       "</style>\n",
       "<table border=\"1\" class=\"dataframe\">\n",
       "  <thead>\n",
       "    <tr style=\"text-align: right;\">\n",
       "      <th></th>\n",
       "      <th>title</th>\n",
       "      <th>url</th>\n",
       "      <th>path</th>\n",
       "    </tr>\n",
       "  </thead>\n",
       "  <tbody>\n",
       "    <tr>\n",
       "      <th>0</th>\n",
       "      <td>KICIR KICIR - Lagu dan Tari Nusantara - Lagu Anak</td>\n",
       "      <td>https://www.youtube.com/watch?v=0wTJULU2REc&amp;pp...</td>\n",
       "      <td>/songs/kicir_kicir_lagu_dan_tari_nusantara_lag...</td>\n",
       "    </tr>\n",
       "    <tr>\n",
       "      <th>1</th>\n",
       "      <td>senam kicir kicir lomba 2024</td>\n",
       "      <td>https://www.youtube.com/watch?v=NzWTp-eX02g&amp;pp...</td>\n",
       "      <td>/songs/senam_kicir_kicir_lomba_2024.mp3</td>\n",
       "    </tr>\n",
       "    <tr>\n",
       "      <th>2</th>\n",
       "      <td>Kicir Kicir Jakarta</td>\n",
       "      <td>https://www.youtube.com/watch?v=jMynoFKskhc&amp;pp...</td>\n",
       "      <td>/songs/kicir_kicir_jakarta.mp3</td>\n",
       "    </tr>\n",
       "    <tr>\n",
       "      <th>3</th>\n",
       "      <td>ONDEL ONDEL | Lagu Daerah DKI Jakarta - Betawi...</td>\n",
       "      <td>https://www.youtube.com/watch?v=wardyOl-EHo&amp;pp...</td>\n",
       "      <td>/songs/ondel_ondel_lagu_daerah_dki_jakarta_bet...</td>\n",
       "    </tr>\n",
       "    <tr>\n",
       "      <th>4</th>\n",
       "      <td>ONDEL ONDEL 💞 LAGU DAERAH DKI JAKARTA | ONDEL ...</td>\n",
       "      <td>https://www.youtube.com/watch?v=_X39qcf41ZU&amp;pp...</td>\n",
       "      <td>/songs/ondel_ondel_lagu_daerah_dki_jakarta_ond...</td>\n",
       "    </tr>\n",
       "  </tbody>\n",
       "</table>\n",
       "</div>"
      ],
      "text/plain": [
       "                                               title  \\\n",
       "0  KICIR KICIR - Lagu dan Tari Nusantara - Lagu Anak   \n",
       "1                       senam kicir kicir lomba 2024   \n",
       "2                                Kicir Kicir Jakarta   \n",
       "3  ONDEL ONDEL | Lagu Daerah DKI Jakarta - Betawi...   \n",
       "4  ONDEL ONDEL 💞 LAGU DAERAH DKI JAKARTA | ONDEL ...   \n",
       "\n",
       "                                                 url  \\\n",
       "0  https://www.youtube.com/watch?v=0wTJULU2REc&pp...   \n",
       "1  https://www.youtube.com/watch?v=NzWTp-eX02g&pp...   \n",
       "2  https://www.youtube.com/watch?v=jMynoFKskhc&pp...   \n",
       "3  https://www.youtube.com/watch?v=wardyOl-EHo&pp...   \n",
       "4  https://www.youtube.com/watch?v=_X39qcf41ZU&pp...   \n",
       "\n",
       "                                                path  \n",
       "0  /songs/kicir_kicir_lagu_dan_tari_nusantara_lag...  \n",
       "1            /songs/senam_kicir_kicir_lomba_2024.mp3  \n",
       "2                     /songs/kicir_kicir_jakarta.mp3  \n",
       "3  /songs/ondel_ondel_lagu_daerah_dki_jakarta_bet...  \n",
       "4  /songs/ondel_ondel_lagu_daerah_dki_jakarta_ond...  "
      ]
     },
     "execution_count": 32,
     "metadata": {},
     "output_type": "execute_result"
    }
   ],
   "source": [
    "df_songs.head()"
   ]
  },
  {
   "cell_type": "code",
   "execution_count": 26,
   "metadata": {},
   "outputs": [],
   "source": [
    "#remove the first three character of path\n",
    "def remove_first_three(path):\n",
    "    if path is None:\n",
    "        return None\n",
    "    return path[3:]\n",
    "\n",
    "df_songs['path'] = df_songs['path'].apply(remove_first_three)"
   ]
  },
  {
   "cell_type": "code",
   "execution_count": 27,
   "metadata": {},
   "outputs": [
    {
     "data": {
      "text/html": [
       "<div>\n",
       "<style scoped>\n",
       "    .dataframe tbody tr th:only-of-type {\n",
       "        vertical-align: middle;\n",
       "    }\n",
       "\n",
       "    .dataframe tbody tr th {\n",
       "        vertical-align: top;\n",
       "    }\n",
       "\n",
       "    .dataframe thead th {\n",
       "        text-align: right;\n",
       "    }\n",
       "</style>\n",
       "<table border=\"1\" class=\"dataframe\">\n",
       "  <thead>\n",
       "    <tr style=\"text-align: right;\">\n",
       "      <th></th>\n",
       "      <th>title</th>\n",
       "      <th>url</th>\n",
       "      <th>path</th>\n",
       "    </tr>\n",
       "  </thead>\n",
       "  <tbody>\n",
       "    <tr>\n",
       "      <th>0</th>\n",
       "      <td>KICIR KICIR - Lagu dan Tari Nusantara - Lagu Anak</td>\n",
       "      <td>https://www.youtube.com/watch?v=0wTJULU2REc&amp;pp...</td>\n",
       "      <td>ri_nusantara_lagu_anak.mp3</td>\n",
       "    </tr>\n",
       "    <tr>\n",
       "      <th>1</th>\n",
       "      <td>senam kicir kicir lomba 2024</td>\n",
       "      <td>https://www.youtube.com/watch?v=NzWTp-eX02g&amp;pp...</td>\n",
       "      <td>_2024.mp3</td>\n",
       "    </tr>\n",
       "    <tr>\n",
       "      <th>2</th>\n",
       "      <td>Kicir Kicir Jakarta</td>\n",
       "      <td>https://www.youtube.com/watch?v=jMynoFKskhc&amp;pp...</td>\n",
       "      <td></td>\n",
       "    </tr>\n",
       "    <tr>\n",
       "      <th>3</th>\n",
       "      <td>ONDEL ONDEL | Lagu Daerah DKI Jakarta - Betawi...</td>\n",
       "      <td>https://www.youtube.com/watch?v=wardyOl-EHo&amp;pp...</td>\n",
       "      <td>_dki_jakarta_betawi_budaya_indonesia_dongeng_k...</td>\n",
       "    </tr>\n",
       "    <tr>\n",
       "      <th>4</th>\n",
       "      <td>ONDEL ONDEL 💞 LAGU DAERAH DKI JAKARTA | ONDEL ...</td>\n",
       "      <td>https://www.youtube.com/watch?v=_X39qcf41ZU&amp;pp...</td>\n",
       "      <td>_dki_jakarta_ondel_ondel_betawi_remix.mp3</td>\n",
       "    </tr>\n",
       "  </tbody>\n",
       "</table>\n",
       "</div>"
      ],
      "text/plain": [
       "                                               title  \\\n",
       "0  KICIR KICIR - Lagu dan Tari Nusantara - Lagu Anak   \n",
       "1                       senam kicir kicir lomba 2024   \n",
       "2                                Kicir Kicir Jakarta   \n",
       "3  ONDEL ONDEL | Lagu Daerah DKI Jakarta - Betawi...   \n",
       "4  ONDEL ONDEL 💞 LAGU DAERAH DKI JAKARTA | ONDEL ...   \n",
       "\n",
       "                                                 url  \\\n",
       "0  https://www.youtube.com/watch?v=0wTJULU2REc&pp...   \n",
       "1  https://www.youtube.com/watch?v=NzWTp-eX02g&pp...   \n",
       "2  https://www.youtube.com/watch?v=jMynoFKskhc&pp...   \n",
       "3  https://www.youtube.com/watch?v=wardyOl-EHo&pp...   \n",
       "4  https://www.youtube.com/watch?v=_X39qcf41ZU&pp...   \n",
       "\n",
       "                                                path  \n",
       "0                         ri_nusantara_lagu_anak.mp3  \n",
       "1                                          _2024.mp3  \n",
       "2                                                     \n",
       "3  _dki_jakarta_betawi_budaya_indonesia_dongeng_k...  \n",
       "4          _dki_jakarta_ondel_ondel_betawi_remix.mp3  "
      ]
     },
     "execution_count": 27,
     "metadata": {},
     "output_type": "execute_result"
    }
   ],
   "source": [
    "df_songs.head()"
   ]
  },
  {
   "cell_type": "code",
   "execution_count": 62,
   "metadata": {},
   "outputs": [],
   "source": [
    "import subprocess\n",
    "\n",
    "os.makedirs('wav_songs', exist_ok=True)\n",
    "\n",
    "def convert_to_wav(path):\n",
    "    if path is None:\n",
    "        print(f'File is not found: {path}')\n",
    "        return None\n",
    "    try:\n",
    "        abs_path = '.' + os.path.abspath(path)\n",
    "        wav_path = abs_path.replace('songs', 'wav_songs').replace('.mp3', '.wav')\n",
    "        \n",
    "        print(abs_path)\n",
    "        print(wav_path)\n",
    "        \n",
    "        subprocess.run(['ffmpeg', '-i', abs_path, wav_path])\n",
    "        \n",
    "        return wav_path\n",
    "    except Exception as e:\n",
    "        print(e)\n",
    "        return None"
   ]
  },
  {
   "cell_type": "code",
   "execution_count": 64,
   "metadata": {},
   "outputs": [
    {
     "name": "stdout",
     "output_type": "stream",
     "text": [
      "./songs/kicir_kicir_lagu_dan_tari_nusantara_lagu_anak.mp3\n",
      "./wav_songs/kicir_kicir_lagu_dan_tari_nusantara_lagu_anak.wav\n"
     ]
    },
    {
     "name": "stderr",
     "output_type": "stream",
     "text": [
      "ffmpeg version 6.0-6ubuntu1.1 Copyright (c) 2000-2023 the FFmpeg developers\n",
      "  built with gcc 13 (Ubuntu 13.2.0-4ubuntu3)\n",
      "  configuration: --prefix=/usr --extra-version=6ubuntu1.1 --toolchain=hardened --libdir=/usr/lib/x86_64-linux-gnu --incdir=/usr/include/x86_64-linux-gnu --arch=amd64 --enable-gpl --disable-stripping --enable-gnutls --enable-ladspa --enable-libaom --enable-libass --enable-libbluray --enable-libbs2b --enable-libcaca --enable-libcdio --enable-libcodec2 --enable-libdav1d --enable-libflite --enable-libfontconfig --enable-libfreetype --enable-libfribidi --enable-libglslang --enable-libgme --enable-libgsm --enable-libjack --enable-libmp3lame --enable-libmysofa --enable-libopenjpeg --enable-libopenmpt --enable-libopus --enable-libpulse --enable-librabbitmq --enable-librist --enable-librubberband --enable-libshine --enable-libsnappy --enable-libsoxr --enable-libspeex --enable-libsrt --enable-libssh --enable-libsvtav1 --enable-libtheora --enable-libtwolame --enable-libvidstab --enable-libvorbis --enable-libvpx --enable-libwebp --enable-libx265 --enable-libxml2 --enable-libxvid --enable-libzimg --enable-libzmq --enable-libzvbi --enable-lv2 --enable-omx --enable-openal --enable-opencl --enable-opengl --enable-sdl2 --disable-sndio --enable-libjxl --enable-pocketsphinx --enable-librsvg --enable-libvpl --disable-libmfx --enable-libdc1394 --enable-libdrm --enable-libiec61883 --enable-chromaprint --enable-frei0r --enable-libx264 --enable-libplacebo --enable-librav1e --enable-shared\n",
      "  libavutil      58.  2.100 / 58.  2.100\n",
      "  libavcodec     60.  3.100 / 60.  3.100\n",
      "  libavformat    60.  3.100 / 60.  3.100\n",
      "  libavdevice    60.  1.100 / 60.  1.100\n",
      "  libavfilter     9.  3.100 /  9.  3.100\n",
      "  libswscale      7.  1.100 /  7.  1.100\n",
      "  libswresample   4. 10.100 /  4. 10.100\n",
      "  libpostproc    57.  1.100 / 57.  1.100\n",
      "Input #0, mov,mp4,m4a,3gp,3g2,mj2, from './songs/kicir_kicir_lagu_dan_tari_nusantara_lagu_anak.mp3':\n",
      "  Metadata:\n",
      "    major_brand     : dash\n",
      "    minor_version   : 0\n",
      "    compatible_brands: iso6mp41\n",
      "    creation_time   : 2024-03-09T03:07:01.000000Z\n",
      "  Duration: 00:03:53.89, start: 0.000000, bitrate: 129 kb/s\n",
      "  Stream #0:0[0x1](eng): Audio: aac (LC) (mp4a / 0x6134706D), 44100 Hz, stereo, fltp, 5 kb/s (default)\n",
      "    Metadata:\n",
      "      creation_time   : 2024-03-09T03:07:01.000000Z\n",
      "      handler_name    : ISO Media file produced by Google Inc.\n",
      "      vendor_id       : [0][0][0][0]\n",
      "Stream mapping:\n",
      "  Stream #0:0 -> #0:0 (aac (native) -> pcm_s16le (native))\n",
      "Press [q] to stop, [?] for help\n",
      "Output #0, wav, to './wav_songs/kicir_kicir_lagu_dan_tari_nusantara_lagu_anak.wav':\n",
      "  Metadata:\n",
      "    major_brand     : dash\n",
      "    minor_version   : 0\n",
      "    compatible_brands: iso6mp41\n",
      "    ISFT            : Lavf60.3.100\n",
      "  Stream #0:0(eng): Audio: pcm_s16le ([1][0][0][0] / 0x0001), 44100 Hz, stereo, s16, 1411 kb/s (default)\n",
      "    Metadata:\n",
      "      creation_time   : 2024-03-09T03:07:01.000000Z\n",
      "      handler_name    : ISO Media file produced by Google Inc.\n",
      "      vendor_id       : [0][0][0][0]\n",
      "      encoder         : Lavc60.3.100 pcm_s16le\n",
      "size=   40292kB time=00:03:53.87 bitrate=1411.3kbits/s speed= 602x    \n",
      "video:0kB audio:40292kB subtitle:0kB other streams:0kB global headers:0kB muxing overhead: 0.000189%\n",
      "ffmpeg version 6.0-6ubuntu1.1 Copyright (c) 2000-2023 the FFmpeg developers\n",
      "  built with gcc 13 (Ubuntu 13.2.0-4ubuntu3)\n",
      "  configuration: --prefix=/usr --extra-version=6ubuntu1.1 --toolchain=hardened --libdir=/usr/lib/x86_64-linux-gnu --incdir=/usr/include/x86_64-linux-gnu --arch=amd64 --enable-gpl --disable-stripping --enable-gnutls --enable-ladspa --enable-libaom --enable-libass --enable-libbluray --enable-libbs2b --enable-libcaca --enable-libcdio --enable-libcodec2 --enable-libdav1d --enable-libflite --enable-libfontconfig --enable-libfreetype --enable-libfribidi --enable-libglslang --enable-libgme --enable-libgsm --enable-libjack --enable-libmp3lame --enable-libmysofa --enable-libopenjpeg --enable-libopenmpt --enable-libopus --enable-libpulse --enable-librabbitmq --enable-librist --enable-librubberband --enable-libshine --enable-libsnappy --enable-libsoxr --enable-libspeex --enable-libsrt --enable-libssh --enable-libsvtav1 --enable-libtheora --enable-libtwolame --enable-libvidstab --enable-libvorbis --enable-libvpx --enable-libwebp --enable-libx265 --enable-libxml2 --enable-libxvid --enable-libzimg --enable-libzmq --enable-libzvbi --enable-lv2 --enable-omx --enable-openal --enable-opencl --enable-opengl --enable-sdl2 --disable-sndio --enable-libjxl --enable-pocketsphinx --enable-librsvg --enable-libvpl --disable-libmfx --enable-libdc1394 --enable-libdrm --enable-libiec61883 --enable-chromaprint --enable-frei0r --enable-libx264 --enable-libplacebo --enable-librav1e --enable-shared\n",
      "  libavutil      58.  2.100 / 58.  2.100\n",
      "  libavcodec     60.  3.100 / 60.  3.100\n",
      "  libavformat    60.  3.100 / 60.  3.100\n",
      "  libavdevice    60.  1.100 / 60.  1.100\n",
      "  libavfilter     9.  3.100 /  9.  3.100\n",
      "  libswscale      7.  1.100 /  7.  1.100\n",
      "  libswresample   4. 10.100 /  4. 10.100\n",
      "  libpostproc    57.  1.100 / 57.  1.100\n",
      "Input #0, mov,mp4,m4a,3gp,3g2,mj2, from './songs/senam_kicir_kicir_lomba_2024.mp3':\n",
      "  Metadata:\n",
      "    major_brand     : dash\n",
      "    minor_version   : 0\n",
      "    compatible_brands: iso6mp41\n",
      "    creation_time   : 2024-04-23T14:56:10.000000Z\n",
      "    encoder         : Google\n",
      "  Duration: 00:03:34.88, start: 0.000000, bitrate: 129 kb/s\n",
      "  Stream #0:0[0x1](und): Audio: aac (LC) (mp4a / 0x6134706D), 44100 Hz, stereo, fltp, 5 kb/s (default)\n",
      "    Metadata:\n",
      "      creation_time   : 2024-04-23T14:56:10.000000Z\n",
      "      handler_name    : ISO Media file produced by Google Inc.\n",
      "      vendor_id       : [0][0][0][0]\n",
      "Stream mapping:\n",
      "  Stream #0:0 -> #0:0 (aac (native) -> pcm_s16le (native))\n",
      "Press [q] to stop, [?] for help\n",
      "Output #0, wav, to './wav_songs/senam_kicir_kicir_lomba_2024.wav':\n",
      "  Metadata:\n",
      "    major_brand     : dash\n",
      "    minor_version   : 0\n",
      "    compatible_brands: iso6mp41\n",
      "    ISFT            : Lavf60.3.100\n",
      "  Stream #0:0(und): Audio: pcm_s16le ([1][0][0][0] / 0x0001), 44100 Hz, stereo, s16, 1411 kb/s (default)\n",
      "    Metadata:\n",
      "      creation_time   : 2024-04-23T14:56:10.000000Z\n",
      "      handler_name    : ISO Media file produced by Google Inc.\n",
      "      vendor_id       : [0][0][0][0]\n",
      "      encoder         : Lavc60.3.100 pcm_s16le\n",
      "size=       0kB time=00:00:00.00 bitrate=N/A speed=N/A    \r"
     ]
    },
    {
     "name": "stdout",
     "output_type": "stream",
     "text": [
      "./songs/senam_kicir_kicir_lomba_2024.mp3\n",
      "./wav_songs/senam_kicir_kicir_lomba_2024.wav\n"
     ]
    },
    {
     "name": "stderr",
     "output_type": "stream",
     "text": [
      "size=   37016kB time=00:03:34.85 bitrate=1411.4kbits/s speed= 745x    \n",
      "video:0kB audio:37016kB subtitle:0kB other streams:0kB global headers:0kB muxing overhead: 0.000206%\n",
      "ffmpeg version 6.0-6ubuntu1.1 Copyright (c) 2000-2023 the FFmpeg developers\n",
      "  built with gcc 13 (Ubuntu 13.2.0-4ubuntu3)\n",
      "  configuration: --prefix=/usr --extra-version=6ubuntu1.1 --toolchain=hardened --libdir=/usr/lib/x86_64-linux-gnu --incdir=/usr/include/x86_64-linux-gnu --arch=amd64 --enable-gpl --disable-stripping --enable-gnutls --enable-ladspa --enable-libaom --enable-libass --enable-libbluray --enable-libbs2b --enable-libcaca --enable-libcdio --enable-libcodec2 --enable-libdav1d --enable-libflite --enable-libfontconfig --enable-libfreetype --enable-libfribidi --enable-libglslang --enable-libgme --enable-libgsm --enable-libjack --enable-libmp3lame --enable-libmysofa --enable-libopenjpeg --enable-libopenmpt --enable-libopus --enable-libpulse --enable-librabbitmq --enable-librist --enable-librubberband --enable-libshine --enable-libsnappy --enable-libsoxr --enable-libspeex --enable-libsrt --enable-libssh --enable-libsvtav1 --enable-libtheora --enable-libtwolame --enable-libvidstab --enable-libvorbis --enable-libvpx --enable-libwebp --enable-libx265 --enable-libxml2 --enable-libxvid --enable-libzimg --enable-libzmq --enable-libzvbi --enable-lv2 --enable-omx --enable-openal --enable-opencl --enable-opengl --enable-sdl2 --disable-sndio --enable-libjxl --enable-pocketsphinx --enable-librsvg --enable-libvpl --disable-libmfx --enable-libdc1394 --enable-libdrm --enable-libiec61883 --enable-chromaprint --enable-frei0r --enable-libx264 --enable-libplacebo --enable-librav1e --enable-shared\n",
      "  libavutil      58.  2.100 / 58.  2.100\n",
      "  libavcodec     60.  3.100 / 60.  3.100\n",
      "  libavformat    60.  3.100 / 60.  3.100\n",
      "  libavdevice    60.  1.100 / 60.  1.100\n",
      "  libavfilter     9.  3.100 /  9.  3.100\n",
      "  libswscale      7.  1.100 /  7.  1.100\n",
      "  libswresample   4. 10.100 /  4. 10.100\n",
      "  libpostproc    57.  1.100 / 57.  1.100\n",
      "Input #0, mov,mp4,m4a,3gp,3g2,mj2, from './songs/kicir_kicir_jakarta.mp3':\n",
      "  Metadata:\n",
      "    major_brand     : dash\n",
      "    minor_version   : 0\n",
      "    compatible_brands: iso6mp41\n",
      "    creation_time   : 2023-09-28T09:06:30.000000Z\n",
      "  Duration: 00:03:51.26, start: 0.000000, bitrate: 129 kb/s\n",
      "  Stream #0:0[0x1](und): Audio: aac (LC) (mp4a / 0x6134706D), 44100 Hz, stereo, fltp, 5 kb/s (default)\n",
      "    Metadata:\n",
      "      creation_time   : 2023-09-28T09:06:30.000000Z\n",
      "      handler_name    : ISO Media file produced by Google Inc.\n",
      "      vendor_id       : [0][0][0][0]\n",
      "Stream mapping:\n",
      "  Stream #0:0 -> #0:0 (aac (native) -> pcm_s16le (native))\n",
      "Press [q] to stop, [?] for help\n",
      "Output #0, wav, to './wav_songs/kicir_kicir_jakarta.wav':\n",
      "  Metadata:\n",
      "    major_brand     : dash\n",
      "    minor_version   : 0\n",
      "    compatible_brands: iso6mp41\n",
      "    ISFT            : Lavf60.3.100\n",
      "  Stream #0:0(und): Audio: pcm_s16le ([1][0][0][0] / 0x0001), 44100 Hz, stereo, s16, 1411 kb/s (default)\n",
      "    Metadata:\n",
      "      creation_time   : 2023-09-28T09:06:30.000000Z\n",
      "      handler_name    : ISO Media file produced by Google Inc.\n",
      "      vendor_id       : [0][0][0][0]\n",
      "      encoder         : Lavc60.3.100 pcm_s16le\n",
      "size=       0kB time=00:00:00.00 bitrate=N/A speed=   0x    \r"
     ]
    },
    {
     "name": "stdout",
     "output_type": "stream",
     "text": [
      "./songs/kicir_kicir_jakarta.mp3\n",
      "./wav_songs/kicir_kicir_jakarta.wav\n"
     ]
    },
    {
     "name": "stderr",
     "output_type": "stream",
     "text": [
      "size=   39842kB time=00:03:51.25 bitrate=1411.3kbits/s speed= 767x    \n",
      "video:0kB audio:39842kB subtitle:0kB other streams:0kB global headers:0kB muxing overhead: 0.000191%\n",
      "ffmpeg version 6.0-6ubuntu1.1 Copyright (c) 2000-2023 the FFmpeg developers\n",
      "  built with gcc 13 (Ubuntu 13.2.0-4ubuntu3)\n",
      "  configuration: --prefix=/usr --extra-version=6ubuntu1.1 --toolchain=hardened --libdir=/usr/lib/x86_64-linux-gnu --incdir=/usr/include/x86_64-linux-gnu --arch=amd64 --enable-gpl --disable-stripping --enable-gnutls --enable-ladspa --enable-libaom --enable-libass --enable-libbluray --enable-libbs2b --enable-libcaca --enable-libcdio --enable-libcodec2 --enable-libdav1d --enable-libflite --enable-libfontconfig --enable-libfreetype --enable-libfribidi --enable-libglslang --enable-libgme --enable-libgsm --enable-libjack --enable-libmp3lame --enable-libmysofa --enable-libopenjpeg --enable-libopenmpt --enable-libopus --enable-libpulse --enable-librabbitmq --enable-librist --enable-librubberband --enable-libshine --enable-libsnappy --enable-libsoxr --enable-libspeex --enable-libsrt --enable-libssh --enable-libsvtav1 --enable-libtheora --enable-libtwolame --enable-libvidstab --enable-libvorbis --enable-libvpx --enable-libwebp --enable-libx265 --enable-libxml2 --enable-libxvid --enable-libzimg --enable-libzmq --enable-libzvbi --enable-lv2 --enable-omx --enable-openal --enable-opencl --enable-opengl --enable-sdl2 --disable-sndio --enable-libjxl --enable-pocketsphinx --enable-librsvg --enable-libvpl --disable-libmfx --enable-libdc1394 --enable-libdrm --enable-libiec61883 --enable-chromaprint --enable-frei0r --enable-libx264 --enable-libplacebo --enable-librav1e --enable-shared\n",
      "  libavutil      58.  2.100 / 58.  2.100\n",
      "  libavcodec     60.  3.100 / 60.  3.100\n",
      "  libavformat    60.  3.100 / 60.  3.100\n",
      "  libavdevice    60.  1.100 / 60.  1.100\n",
      "  libavfilter     9.  3.100 /  9.  3.100\n",
      "  libswscale      7.  1.100 /  7.  1.100\n",
      "  libswresample   4. 10.100 /  4. 10.100\n",
      "  libpostproc    57.  1.100 / 57.  1.100\n",
      "Input #0, mov,mp4,m4a,3gp,3g2,mj2, from './songs/ondel_ondel_lagu_daerah_dki_jakarta_betawi_budaya_indonesia_dongeng_kita.mp3':\n",
      "  Metadata:\n",
      "    major_brand     : dash\n",
      "    minor_version   : 0\n",
      "    compatible_brands: iso6mp41\n",
      "    creation_time   : 2024-02-26T10:37:49.000000Z\n",
      "  Duration: 00:03:38.17, start: 0.000000, bitrate: 129 kb/s\n",
      "  Stream #0:0[0x1](eng): Audio: aac (LC) (mp4a / 0x6134706D), 44100 Hz, stereo, fltp, 5 kb/s (default)\n",
      "    Metadata:\n",
      "      creation_time   : 2024-02-26T10:37:49.000000Z\n",
      "      handler_name    : ISO Media file produced by Google Inc.\n",
      "      vendor_id       : [0][0][0][0]\n",
      "Stream mapping:\n",
      "  Stream #0:0 -> #0:0 (aac (native) -> pcm_s16le (native))\n",
      "Press [q] to stop, [?] for help\n",
      "Output #0, wav, to './wav_songs/ondel_ondel_lagu_daerah_dki_jakarta_betawi_budaya_indonesia_dongeng_kita.wav':\n",
      "  Metadata:\n",
      "    major_brand     : dash\n",
      "    minor_version   : 0\n",
      "    compatible_brands: iso6mp41\n",
      "    ISFT            : Lavf60.3.100\n",
      "  Stream #0:0(eng): Audio: pcm_s16le ([1][0][0][0] / 0x0001), 44100 Hz, stereo, s16, 1411 kb/s (default)\n",
      "    Metadata:\n",
      "      creation_time   : 2024-02-26T10:37:49.000000Z\n",
      "      handler_name    : ISO Media file produced by Google Inc.\n",
      "      vendor_id       : [0][0][0][0]\n",
      "      encoder         : Lavc60.3.100 pcm_s16le\n",
      "size=       0kB time=00:00:00.00 bitrate=N/A speed=N/A    \r"
     ]
    },
    {
     "name": "stdout",
     "output_type": "stream",
     "text": [
      "./songs/ondel_ondel_lagu_daerah_dki_jakarta_betawi_budaya_indonesia_dongeng_kita.mp3\n",
      "./wav_songs/ondel_ondel_lagu_daerah_dki_jakarta_betawi_budaya_indonesia_dongeng_kita.wav\n"
     ]
    },
    {
     "name": "stderr",
     "output_type": "stream",
     "text": [
      "size=   37584kB time=00:03:38.15 bitrate=1411.4kbits/s speed= 757x    \n",
      "video:0kB audio:37584kB subtitle:0kB other streams:0kB global headers:0kB muxing overhead: 0.000203%\n",
      "ffmpeg version 6.0-6ubuntu1.1 Copyright (c) 2000-2023 the FFmpeg developers\n",
      "  built with gcc 13 (Ubuntu 13.2.0-4ubuntu3)\n",
      "  configuration: --prefix=/usr --extra-version=6ubuntu1.1 --toolchain=hardened --libdir=/usr/lib/x86_64-linux-gnu --incdir=/usr/include/x86_64-linux-gnu --arch=amd64 --enable-gpl --disable-stripping --enable-gnutls --enable-ladspa --enable-libaom --enable-libass --enable-libbluray --enable-libbs2b --enable-libcaca --enable-libcdio --enable-libcodec2 --enable-libdav1d --enable-libflite --enable-libfontconfig --enable-libfreetype --enable-libfribidi --enable-libglslang --enable-libgme --enable-libgsm --enable-libjack --enable-libmp3lame --enable-libmysofa --enable-libopenjpeg --enable-libopenmpt --enable-libopus --enable-libpulse --enable-librabbitmq --enable-librist --enable-librubberband --enable-libshine --enable-libsnappy --enable-libsoxr --enable-libspeex --enable-libsrt --enable-libssh --enable-libsvtav1 --enable-libtheora --enable-libtwolame --enable-libvidstab --enable-libvorbis --enable-libvpx --enable-libwebp --enable-libx265 --enable-libxml2 --enable-libxvid --enable-libzimg --enable-libzmq --enable-libzvbi --enable-lv2 --enable-omx --enable-openal --enable-opencl --enable-opengl --enable-sdl2 --disable-sndio --enable-libjxl --enable-pocketsphinx --enable-librsvg --enable-libvpl --disable-libmfx --enable-libdc1394 --enable-libdrm --enable-libiec61883 --enable-chromaprint --enable-frei0r --enable-libx264 --enable-libplacebo --enable-librav1e --enable-shared\n",
      "  libavutil      58.  2.100 / 58.  2.100\n",
      "  libavcodec     60.  3.100 / 60.  3.100\n",
      "  libavformat    60.  3.100 / 60.  3.100\n",
      "  libavdevice    60.  1.100 / 60.  1.100\n",
      "  libavfilter     9.  3.100 /  9.  3.100\n",
      "  libswscale      7.  1.100 /  7.  1.100\n",
      "  libswresample   4. 10.100 /  4. 10.100\n",
      "  libpostproc    57.  1.100 / 57.  1.100\n",
      "Input #0, mov,mp4,m4a,3gp,3g2,mj2, from './songs/ondel_ondel_lagu_daerah_dki_jakarta_ondel_ondel_betawi_remix.mp3':\n",
      "  Metadata:\n",
      "    major_brand     : dash\n",
      "    minor_version   : 0\n",
      "    compatible_brands: iso6mp41\n",
      "    creation_time   : 2024-10-01T20:15:17.000000Z\n",
      "    encoder         : Google\n",
      "  Duration: 00:04:43.40, start: 0.000000, bitrate: 129 kb/s\n",
      "  Stream #0:0[0x1](und): Audio: aac (LC) (mp4a / 0x6134706D), 44100 Hz, stereo, fltp, 4 kb/s (default)\n",
      "    Metadata:\n",
      "      creation_time   : 2024-10-01T20:15:17.000000Z\n",
      "      handler_name    : ISO Media file produced by Google Inc.\n",
      "      vendor_id       : [0][0][0][0]\n",
      "Stream mapping:\n",
      "  Stream #0:0 -> #0:0 (aac (native) -> pcm_s16le (native))\n",
      "Press [q] to stop, [?] for help\n",
      "Output #0, wav, to './wav_songs/ondel_ondel_lagu_daerah_dki_jakarta_ondel_ondel_betawi_remix.wav':\n",
      "  Metadata:\n",
      "    major_brand     : dash\n",
      "    minor_version   : 0\n",
      "    compatible_brands: iso6mp41\n",
      "    ISFT            : Lavf60.3.100\n",
      "  Stream #0:0(und): Audio: pcm_s16le ([1][0][0][0] / 0x0001), 44100 Hz, stereo, s16, 1411 kb/s (default)\n",
      "    Metadata:\n",
      "      creation_time   : 2024-10-01T20:15:17.000000Z\n",
      "      handler_name    : ISO Media file produced by Google Inc.\n",
      "      vendor_id       : [0][0][0][0]\n",
      "      encoder         : Lavc60.3.100 pcm_s16le\n",
      "size=       0kB time=00:00:00.00 bitrate=N/A speed=N/A    \r"
     ]
    },
    {
     "name": "stdout",
     "output_type": "stream",
     "text": [
      "./songs/ondel_ondel_lagu_daerah_dki_jakarta_ondel_ondel_betawi_remix.mp3\n",
      "./wav_songs/ondel_ondel_lagu_daerah_dki_jakarta_ondel_ondel_betawi_remix.wav\n"
     ]
    },
    {
     "name": "stderr",
     "output_type": "stream",
     "text": [
      "size=   48820kB time=00:04:43.37 bitrate=1411.3kbits/s speed= 762x    \n",
      "video:0kB audio:48820kB subtitle:0kB other streams:0kB global headers:0kB muxing overhead: 0.000156%\n",
      "ffmpeg version 6.0-6ubuntu1.1 Copyright (c) 2000-2023 the FFmpeg developers\n",
      "  built with gcc 13 (Ubuntu 13.2.0-4ubuntu3)\n",
      "  configuration: --prefix=/usr --extra-version=6ubuntu1.1 --toolchain=hardened --libdir=/usr/lib/x86_64-linux-gnu --incdir=/usr/include/x86_64-linux-gnu --arch=amd64 --enable-gpl --disable-stripping --enable-gnutls --enable-ladspa --enable-libaom --enable-libass --enable-libbluray --enable-libbs2b --enable-libcaca --enable-libcdio --enable-libcodec2 --enable-libdav1d --enable-libflite --enable-libfontconfig --enable-libfreetype --enable-libfribidi --enable-libglslang --enable-libgme --enable-libgsm --enable-libjack --enable-libmp3lame --enable-libmysofa --enable-libopenjpeg --enable-libopenmpt --enable-libopus --enable-libpulse --enable-librabbitmq --enable-librist --enable-librubberband --enable-libshine --enable-libsnappy --enable-libsoxr --enable-libspeex --enable-libsrt --enable-libssh --enable-libsvtav1 --enable-libtheora --enable-libtwolame --enable-libvidstab --enable-libvorbis --enable-libvpx --enable-libwebp --enable-libx265 --enable-libxml2 --enable-libxvid --enable-libzimg --enable-libzmq --enable-libzvbi --enable-lv2 --enable-omx --enable-openal --enable-opencl --enable-opengl --enable-sdl2 --disable-sndio --enable-libjxl --enable-pocketsphinx --enable-librsvg --enable-libvpl --disable-libmfx --enable-libdc1394 --enable-libdrm --enable-libiec61883 --enable-chromaprint --enable-frei0r --enable-libx264 --enable-libplacebo --enable-librav1e --enable-shared\n",
      "  libavutil      58.  2.100 / 58.  2.100\n",
      "  libavcodec     60.  3.100 / 60.  3.100\n",
      "  libavformat    60.  3.100 / 60.  3.100\n",
      "  libavdevice    60.  1.100 / 60.  1.100\n",
      "  libavfilter     9.  3.100 /  9.  3.100\n",
      "  libswscale      7.  1.100 /  7.  1.100\n",
      "  libswresample   4. 10.100 /  4. 10.100\n",
      "  libpostproc    57.  1.100 / 57.  1.100\n",
      "Input #0, mov,mp4,m4a,3gp,3g2,mj2, from './songs/parade_ondel_ondel_betawi_di_pantai_ancol_komunitas_ondelondel_dki_jakarta.mp3':\n",
      "  Metadata:\n",
      "    major_brand     : dash\n",
      "    minor_version   : 0\n",
      "    compatible_brands: iso6mp41\n",
      "    creation_time   : 2024-03-07T13:16:47.000000Z\n",
      "  Duration: 00:10:24.13, start: 0.000000, bitrate: 129 kb/s\n",
      "  Stream #0:0[0x1](eng): Audio: aac (LC) (mp4a / 0x6134706D), 44100 Hz, stereo, fltp, 2 kb/s (default)\n",
      "    Metadata:\n",
      "      creation_time   : 2024-03-07T13:16:47.000000Z\n",
      "      handler_name    : ISO Media file produced by Google Inc.\n",
      "      vendor_id       : [0][0][0][0]\n",
      "Stream mapping:\n",
      "  Stream #0:0 -> #0:0 (aac (native) -> pcm_s16le (native))\n",
      "Press [q] to stop, [?] for help\n",
      "Output #0, wav, to './wav_songs/parade_ondel_ondel_betawi_di_pantai_ancol_komunitas_ondelondel_dki_jakarta.wav':\n",
      "  Metadata:\n",
      "    major_brand     : dash\n",
      "    minor_version   : 0\n",
      "    compatible_brands: iso6mp41\n",
      "    ISFT            : Lavf60.3.100\n",
      "  Stream #0:0(eng): Audio: pcm_s16le ([1][0][0][0] / 0x0001), 44100 Hz, stereo, s16, 1411 kb/s (default)\n",
      "    Metadata:\n",
      "      creation_time   : 2024-03-07T13:16:47.000000Z\n",
      "      handler_name    : ISO Media file produced by Google Inc.\n",
      "      vendor_id       : [0][0][0][0]\n",
      "      encoder         : Lavc60.3.100 pcm_s16le\n",
      "size=       0kB time=00:00:00.00 bitrate=N/A speed=N/A    \r"
     ]
    },
    {
     "name": "stdout",
     "output_type": "stream",
     "text": [
      "./songs/parade_ondel_ondel_betawi_di_pantai_ancol_komunitas_ondelondel_dki_jakarta.mp3\n",
      "./wav_songs/parade_ondel_ondel_betawi_di_pantai_ancol_komunitas_ondelondel_dki_jakarta.wav\n"
     ]
    },
    {
     "name": "stderr",
     "output_type": "stream",
     "text": [
      "size=  107516kB time=00:10:24.10 bitrate=1411.3kbits/s speed= 750x    \n",
      "video:0kB audio:107516kB subtitle:0kB other streams:0kB global headers:0kB muxing overhead: 0.000071%\n",
      "ffmpeg version 6.0-6ubuntu1.1 Copyright (c) 2000-2023 the FFmpeg developers\n",
      "  built with gcc 13 (Ubuntu 13.2.0-4ubuntu3)\n",
      "  configuration: --prefix=/usr --extra-version=6ubuntu1.1 --toolchain=hardened --libdir=/usr/lib/x86_64-linux-gnu --incdir=/usr/include/x86_64-linux-gnu --arch=amd64 --enable-gpl --disable-stripping --enable-gnutls --enable-ladspa --enable-libaom --enable-libass --enable-libbluray --enable-libbs2b --enable-libcaca --enable-libcdio --enable-libcodec2 --enable-libdav1d --enable-libflite --enable-libfontconfig --enable-libfreetype --enable-libfribidi --enable-libglslang --enable-libgme --enable-libgsm --enable-libjack --enable-libmp3lame --enable-libmysofa --enable-libopenjpeg --enable-libopenmpt --enable-libopus --enable-libpulse --enable-librabbitmq --enable-librist --enable-librubberband --enable-libshine --enable-libsnappy --enable-libsoxr --enable-libspeex --enable-libsrt --enable-libssh --enable-libsvtav1 --enable-libtheora --enable-libtwolame --enable-libvidstab --enable-libvorbis --enable-libvpx --enable-libwebp --enable-libx265 --enable-libxml2 --enable-libxvid --enable-libzimg --enable-libzmq --enable-libzvbi --enable-lv2 --enable-omx --enable-openal --enable-opencl --enable-opengl --enable-sdl2 --disable-sndio --enable-libjxl --enable-pocketsphinx --enable-librsvg --enable-libvpl --disable-libmfx --enable-libdc1394 --enable-libdrm --enable-libiec61883 --enable-chromaprint --enable-frei0r --enable-libx264 --enable-libplacebo --enable-librav1e --enable-shared\n",
      "  libavutil      58.  2.100 / 58.  2.100\n",
      "  libavcodec     60.  3.100 / 60.  3.100\n",
      "  libavformat    60.  3.100 / 60.  3.100\n",
      "  libavdevice    60.  1.100 / 60.  1.100\n",
      "  libavfilter     9.  3.100 /  9.  3.100\n",
      "  libswscale      7.  1.100 /  7.  1.100\n",
      "  libswresample   4. 10.100 /  4. 10.100\n",
      "  libpostproc    57.  1.100 / 57.  1.100\n",
      "Input #0, mov,mp4,m4a,3gp,3g2,mj2, from './songs/lagu_manuk_dadali.mp3':\n",
      "  Metadata:\n",
      "    major_brand     : dash\n",
      "    minor_version   : 0\n",
      "    compatible_brands: iso6mp41\n",
      "    creation_time   : 2024-05-22T02:24:04.000000Z\n",
      "    encoder         : Google\n",
      "  Duration: 00:03:55.80, start: 0.000000, bitrate: 129 kb/s\n",
      "  Stream #0:0[0x1](eng): Audio: aac (LC) (mp4a / 0x6134706D), 44100 Hz, stereo, fltp, 5 kb/s (default)\n",
      "    Metadata:\n",
      "      creation_time   : 2024-05-22T02:24:04.000000Z\n",
      "      handler_name    : ISO Media file produced by Google Inc.\n",
      "      vendor_id       : [0][0][0][0]\n",
      "Stream mapping:\n",
      "  Stream #0:0 -> #0:0 (aac (native) -> pcm_s16le (native))\n",
      "Press [q] to stop, [?] for help\n",
      "Output #0, wav, to './wav_songs/lagu_manuk_dadali.wav':\n",
      "  Metadata:\n",
      "    major_brand     : dash\n",
      "    minor_version   : 0\n",
      "    compatible_brands: iso6mp41\n",
      "    ISFT            : Lavf60.3.100\n",
      "  Stream #0:0(eng): Audio: pcm_s16le ([1][0][0][0] / 0x0001), 44100 Hz, stereo, s16, 1411 kb/s (default)\n",
      "    Metadata:\n",
      "      creation_time   : 2024-05-22T02:24:04.000000Z\n",
      "      handler_name    : ISO Media file produced by Google Inc.\n",
      "      vendor_id       : [0][0][0][0]\n",
      "      encoder         : Lavc60.3.100 pcm_s16le\n",
      "size=       0kB time=00:00:00.00 bitrate=N/A speed=N/A    \r"
     ]
    },
    {
     "name": "stdout",
     "output_type": "stream",
     "text": [
      "./songs/lagu_manuk_dadali.mp3\n",
      "./wav_songs/lagu_manuk_dadali.wav\n"
     ]
    },
    {
     "name": "stderr",
     "output_type": "stream",
     "text": [
      "size=   40620kB time=00:03:55.77 bitrate=1411.3kbits/s speed= 778x    \n",
      "video:0kB audio:40620kB subtitle:0kB other streams:0kB global headers:0kB muxing overhead: 0.000188%\n",
      "ffmpeg version 6.0-6ubuntu1.1 Copyright (c) 2000-2023 the FFmpeg developers\n",
      "  built with gcc 13 (Ubuntu 13.2.0-4ubuntu3)\n",
      "  configuration: --prefix=/usr --extra-version=6ubuntu1.1 --toolchain=hardened --libdir=/usr/lib/x86_64-linux-gnu --incdir=/usr/include/x86_64-linux-gnu --arch=amd64 --enable-gpl --disable-stripping --enable-gnutls --enable-ladspa --enable-libaom --enable-libass --enable-libbluray --enable-libbs2b --enable-libcaca --enable-libcdio --enable-libcodec2 --enable-libdav1d --enable-libflite --enable-libfontconfig --enable-libfreetype --enable-libfribidi --enable-libglslang --enable-libgme --enable-libgsm --enable-libjack --enable-libmp3lame --enable-libmysofa --enable-libopenjpeg --enable-libopenmpt --enable-libopus --enable-libpulse --enable-librabbitmq --enable-librist --enable-librubberband --enable-libshine --enable-libsnappy --enable-libsoxr --enable-libspeex --enable-libsrt --enable-libssh --enable-libsvtav1 --enable-libtheora --enable-libtwolame --enable-libvidstab --enable-libvorbis --enable-libvpx --enable-libwebp --enable-libx265 --enable-libxml2 --enable-libxvid --enable-libzimg --enable-libzmq --enable-libzvbi --enable-lv2 --enable-omx --enable-openal --enable-opencl --enable-opengl --enable-sdl2 --disable-sndio --enable-libjxl --enable-pocketsphinx --enable-librsvg --enable-libvpl --disable-libmfx --enable-libdc1394 --enable-libdrm --enable-libiec61883 --enable-chromaprint --enable-frei0r --enable-libx264 --enable-libplacebo --enable-librav1e --enable-shared\n",
      "  libavutil      58.  2.100 / 58.  2.100\n",
      "  libavcodec     60.  3.100 / 60.  3.100\n",
      "  libavformat    60.  3.100 / 60.  3.100\n",
      "  libavdevice    60.  1.100 / 60.  1.100\n",
      "  libavfilter     9.  3.100 /  9.  3.100\n",
      "  libswscale      7.  1.100 /  7.  1.100\n",
      "  libswresample   4. 10.100 /  4. 10.100\n",
      "  libpostproc    57.  1.100 / 57.  1.100\n",
      "Input #0, mov,mp4,m4a,3gp,3g2,mj2, from './songs/aty_surya_manuk_dadali.mp3':\n",
      "  Metadata:\n",
      "    major_brand     : dash\n",
      "    minor_version   : 0\n",
      "    compatible_brands: iso6mp41\n",
      "    creation_time   : 2024-08-26T06:16:20.000000Z\n",
      "    encoder         : Google\n",
      "  Duration: 00:03:53.08, start: 0.000000, bitrate: 129 kb/s\n",
      "  Stream #0:0[0x1](eng): Audio: aac (LC) (mp4a / 0x6134706D), 44100 Hz, stereo, fltp, 5 kb/s (default)\n",
      "    Metadata:\n",
      "      creation_time   : 2024-08-26T06:16:20.000000Z\n",
      "      handler_name    : ISO Media file produced by Google Inc.\n",
      "      vendor_id       : [0][0][0][0]\n",
      "Stream mapping:\n",
      "  Stream #0:0 -> #0:0 (aac (native) -> pcm_s16le (native))\n",
      "Press [q] to stop, [?] for help\n",
      "Output #0, wav, to './wav_songs/aty_surya_manuk_dadali.wav':\n",
      "  Metadata:\n",
      "    major_brand     : dash\n",
      "    minor_version   : 0\n",
      "    compatible_brands: iso6mp41\n",
      "    ISFT            : Lavf60.3.100\n",
      "  Stream #0:0(eng): Audio: pcm_s16le ([1][0][0][0] / 0x0001), 44100 Hz, stereo, s16, 1411 kb/s (default)\n",
      "    Metadata:\n",
      "      creation_time   : 2024-08-26T06:16:20.000000Z\n",
      "      handler_name    : ISO Media file produced by Google Inc.\n",
      "      vendor_id       : [0][0][0][0]\n",
      "      encoder         : Lavc60.3.100 pcm_s16le\n",
      "size=       0kB time=00:00:00.00 bitrate=N/A speed=N/A    \r"
     ]
    },
    {
     "name": "stdout",
     "output_type": "stream",
     "text": [
      "./songs/aty_surya_manuk_dadali.mp3\n",
      "./wav_songs/aty_surya_manuk_dadali.wav\n",
      "./songs/lagu_daerah_manuk_dadali_dan_lirik_apa_ya_makna_lagu_daerah_kita.mp3\n",
      "./wav_songs/lagu_daerah_manuk_dadali_dan_lirik_apa_ya_makna_lagu_daerah_kita.wav\n"
     ]
    },
    {
     "name": "stderr",
     "output_type": "stream",
     "text": [
      "size=   40152kB time=00:03:53.05 bitrate=1411.3kbits/s speed= 759x    \n",
      "video:0kB audio:40152kB subtitle:0kB other streams:0kB global headers:0kB muxing overhead: 0.000190%\n",
      "ffmpeg version 6.0-6ubuntu1.1 Copyright (c) 2000-2023 the FFmpeg developers\n",
      "  built with gcc 13 (Ubuntu 13.2.0-4ubuntu3)\n",
      "  configuration: --prefix=/usr --extra-version=6ubuntu1.1 --toolchain=hardened --libdir=/usr/lib/x86_64-linux-gnu --incdir=/usr/include/x86_64-linux-gnu --arch=amd64 --enable-gpl --disable-stripping --enable-gnutls --enable-ladspa --enable-libaom --enable-libass --enable-libbluray --enable-libbs2b --enable-libcaca --enable-libcdio --enable-libcodec2 --enable-libdav1d --enable-libflite --enable-libfontconfig --enable-libfreetype --enable-libfribidi --enable-libglslang --enable-libgme --enable-libgsm --enable-libjack --enable-libmp3lame --enable-libmysofa --enable-libopenjpeg --enable-libopenmpt --enable-libopus --enable-libpulse --enable-librabbitmq --enable-librist --enable-librubberband --enable-libshine --enable-libsnappy --enable-libsoxr --enable-libspeex --enable-libsrt --enable-libssh --enable-libsvtav1 --enable-libtheora --enable-libtwolame --enable-libvidstab --enable-libvorbis --enable-libvpx --enable-libwebp --enable-libx265 --enable-libxml2 --enable-libxvid --enable-libzimg --enable-libzmq --enable-libzvbi --enable-lv2 --enable-omx --enable-openal --enable-opencl --enable-opengl --enable-sdl2 --disable-sndio --enable-libjxl --enable-pocketsphinx --enable-librsvg --enable-libvpl --disable-libmfx --enable-libdc1394 --enable-libdrm --enable-libiec61883 --enable-chromaprint --enable-frei0r --enable-libx264 --enable-libplacebo --enable-librav1e --enable-shared\n",
      "  libavutil      58.  2.100 / 58.  2.100\n",
      "  libavcodec     60.  3.100 / 60.  3.100\n",
      "  libavformat    60.  3.100 / 60.  3.100\n",
      "  libavdevice    60.  1.100 / 60.  1.100\n",
      "  libavfilter     9.  3.100 /  9.  3.100\n",
      "  libswscale      7.  1.100 /  7.  1.100\n",
      "  libswresample   4. 10.100 /  4. 10.100\n",
      "  libpostproc    57.  1.100 / 57.  1.100\n",
      "Input #0, mov,mp4,m4a,3gp,3g2,mj2, from './songs/lagu_daerah_manuk_dadali_dan_lirik_apa_ya_makna_lagu_daerah_kita.mp3':\n",
      "  Metadata:\n",
      "    major_brand     : dash\n",
      "    minor_version   : 0\n",
      "    compatible_brands: iso6mp41\n",
      "    creation_time   : 2022-06-28T02:23:28.000000Z\n",
      "  Duration: 00:01:45.63, start: 0.000000, bitrate: 129 kb/s\n",
      "  Stream #0:0[0x1](eng): Audio: aac (LC) (mp4a / 0x6134706D), 44100 Hz, stereo, fltp, 12 kb/s (default)\n",
      "    Metadata:\n",
      "      creation_time   : 2022-06-28T02:23:28.000000Z\n",
      "      handler_name    : ISO Media file produced by Google Inc.\n",
      "      vendor_id       : [0][0][0][0]\n",
      "Stream mapping:\n",
      "  Stream #0:0 -> #0:0 (aac (native) -> pcm_s16le (native))\n",
      "Press [q] to stop, [?] for help\n",
      "Output #0, wav, to './wav_songs/lagu_daerah_manuk_dadali_dan_lirik_apa_ya_makna_lagu_daerah_kita.wav':\n",
      "  Metadata:\n",
      "    major_brand     : dash\n",
      "    minor_version   : 0\n",
      "    compatible_brands: iso6mp41\n",
      "    ISFT            : Lavf60.3.100\n",
      "  Stream #0:0(eng): Audio: pcm_s16le ([1][0][0][0] / 0x0001), 44100 Hz, stereo, s16, 1411 kb/s (default)\n",
      "    Metadata:\n",
      "      creation_time   : 2022-06-28T02:23:28.000000Z\n",
      "      handler_name    : ISO Media file produced by Google Inc.\n",
      "      vendor_id       : [0][0][0][0]\n",
      "      encoder         : Lavc60.3.100 pcm_s16le\n",
      "size=   18196kB time=00:01:45.60 bitrate=1411.5kbits/s speed= 761x    \n",
      "video:0kB audio:18196kB subtitle:0kB other streams:0kB global headers:0kB muxing overhead: 0.000419%\n"
     ]
    }
   ],
   "source": [
    "df_songs['wav_path'] = df_songs['path'].apply(convert_to_wav)"
   ]
  },
  {
   "cell_type": "code",
   "execution_count": 65,
   "metadata": {},
   "outputs": [
    {
     "data": {
      "text/html": [
       "<div>\n",
       "<style scoped>\n",
       "    .dataframe tbody tr th:only-of-type {\n",
       "        vertical-align: middle;\n",
       "    }\n",
       "\n",
       "    .dataframe tbody tr th {\n",
       "        vertical-align: top;\n",
       "    }\n",
       "\n",
       "    .dataframe thead th {\n",
       "        text-align: right;\n",
       "    }\n",
       "</style>\n",
       "<table border=\"1\" class=\"dataframe\">\n",
       "  <thead>\n",
       "    <tr style=\"text-align: right;\">\n",
       "      <th></th>\n",
       "      <th>title</th>\n",
       "      <th>url</th>\n",
       "      <th>path</th>\n",
       "      <th>wav_path</th>\n",
       "    </tr>\n",
       "  </thead>\n",
       "  <tbody>\n",
       "    <tr>\n",
       "      <th>0</th>\n",
       "      <td>KICIR KICIR - Lagu dan Tari Nusantara - Lagu Anak</td>\n",
       "      <td>https://www.youtube.com/watch?v=0wTJULU2REc&amp;pp...</td>\n",
       "      <td>/songs/kicir_kicir_lagu_dan_tari_nusantara_lag...</td>\n",
       "      <td>./wav_songs/kicir_kicir_lagu_dan_tari_nusantar...</td>\n",
       "    </tr>\n",
       "    <tr>\n",
       "      <th>1</th>\n",
       "      <td>senam kicir kicir lomba 2024</td>\n",
       "      <td>https://www.youtube.com/watch?v=NzWTp-eX02g&amp;pp...</td>\n",
       "      <td>/songs/senam_kicir_kicir_lomba_2024.mp3</td>\n",
       "      <td>./wav_songs/senam_kicir_kicir_lomba_2024.wav</td>\n",
       "    </tr>\n",
       "    <tr>\n",
       "      <th>2</th>\n",
       "      <td>Kicir Kicir Jakarta</td>\n",
       "      <td>https://www.youtube.com/watch?v=jMynoFKskhc&amp;pp...</td>\n",
       "      <td>/songs/kicir_kicir_jakarta.mp3</td>\n",
       "      <td>./wav_songs/kicir_kicir_jakarta.wav</td>\n",
       "    </tr>\n",
       "    <tr>\n",
       "      <th>3</th>\n",
       "      <td>ONDEL ONDEL | Lagu Daerah DKI Jakarta - Betawi...</td>\n",
       "      <td>https://www.youtube.com/watch?v=wardyOl-EHo&amp;pp...</td>\n",
       "      <td>/songs/ondel_ondel_lagu_daerah_dki_jakarta_bet...</td>\n",
       "      <td>./wav_songs/ondel_ondel_lagu_daerah_dki_jakart...</td>\n",
       "    </tr>\n",
       "    <tr>\n",
       "      <th>4</th>\n",
       "      <td>ONDEL ONDEL 💞 LAGU DAERAH DKI JAKARTA | ONDEL ...</td>\n",
       "      <td>https://www.youtube.com/watch?v=_X39qcf41ZU&amp;pp...</td>\n",
       "      <td>/songs/ondel_ondel_lagu_daerah_dki_jakarta_ond...</td>\n",
       "      <td>./wav_songs/ondel_ondel_lagu_daerah_dki_jakart...</td>\n",
       "    </tr>\n",
       "  </tbody>\n",
       "</table>\n",
       "</div>"
      ],
      "text/plain": [
       "                                               title  \\\n",
       "0  KICIR KICIR - Lagu dan Tari Nusantara - Lagu Anak   \n",
       "1                       senam kicir kicir lomba 2024   \n",
       "2                                Kicir Kicir Jakarta   \n",
       "3  ONDEL ONDEL | Lagu Daerah DKI Jakarta - Betawi...   \n",
       "4  ONDEL ONDEL 💞 LAGU DAERAH DKI JAKARTA | ONDEL ...   \n",
       "\n",
       "                                                 url  \\\n",
       "0  https://www.youtube.com/watch?v=0wTJULU2REc&pp...   \n",
       "1  https://www.youtube.com/watch?v=NzWTp-eX02g&pp...   \n",
       "2  https://www.youtube.com/watch?v=jMynoFKskhc&pp...   \n",
       "3  https://www.youtube.com/watch?v=wardyOl-EHo&pp...   \n",
       "4  https://www.youtube.com/watch?v=_X39qcf41ZU&pp...   \n",
       "\n",
       "                                                path  \\\n",
       "0  /songs/kicir_kicir_lagu_dan_tari_nusantara_lag...   \n",
       "1            /songs/senam_kicir_kicir_lomba_2024.mp3   \n",
       "2                     /songs/kicir_kicir_jakarta.mp3   \n",
       "3  /songs/ondel_ondel_lagu_daerah_dki_jakarta_bet...   \n",
       "4  /songs/ondel_ondel_lagu_daerah_dki_jakarta_ond...   \n",
       "\n",
       "                                            wav_path  \n",
       "0  ./wav_songs/kicir_kicir_lagu_dan_tari_nusantar...  \n",
       "1       ./wav_songs/senam_kicir_kicir_lomba_2024.wav  \n",
       "2                ./wav_songs/kicir_kicir_jakarta.wav  \n",
       "3  ./wav_songs/ondel_ondel_lagu_daerah_dki_jakart...  \n",
       "4  ./wav_songs/ondel_ondel_lagu_daerah_dki_jakart...  "
      ]
     },
     "execution_count": 65,
     "metadata": {},
     "output_type": "execute_result"
    }
   ],
   "source": [
    "df_songs.head()"
   ]
  },
  {
   "cell_type": "markdown",
   "metadata": {},
   "source": [
    "#### Durasi Lagu\n",
    "Masih error, path harus seperti ini:\n",
    "`songs\\senam kicir kicir lomba 2024.mp3`"
   ]
  },
  {
   "cell_type": "code",
   "execution_count": 66,
   "metadata": {},
   "outputs": [
    {
     "name": "stdout",
     "output_type": "stream",
     "text": [
      "Processing /songs/kicir_kicir_lagu_dan_tari_nusantara_lagu_anak.mp3...\n",
      "Processing /songs/senam_kicir_kicir_lomba_2024.mp3...\n",
      "Processing /songs/kicir_kicir_jakarta.mp3...\n",
      "Processing /songs/ondel_ondel_lagu_daerah_dki_jakarta_betawi_budaya_indonesia_dongeng_kita.mp3...\n",
      "Processing /songs/ondel_ondel_lagu_daerah_dki_jakarta_ondel_ondel_betawi_remix.mp3...\n",
      "Processing /songs/parade_ondel_ondel_betawi_di_pantai_ancol_komunitas_ondelondel_dki_jakarta.mp3...\n",
      "Processing /songs/lagu_manuk_dadali.mp3...\n",
      "Processing /songs/aty_surya_manuk_dadali.mp3...\n",
      "Processing /songs/lagu_daerah_manuk_dadali_dan_lirik_apa_ya_makna_lagu_daerah_kita.mp3...\n"
     ]
    }
   ],
   "source": [
    "from pydub import AudioSegment\n",
    "from pydub.utils import which\n",
    "AudioSegment.converter = which(\"ffmpeg\")\n",
    "\n",
    "list_songs = []\n",
    "\n",
    "for row in df_songs.iterrows():\n",
    "    path = row[1]['path']\n",
    "    if path is None:\n",
    "        continue\n",
    "    try:\n",
    "        audio = AudioSegment.from_file('.' + path)\n",
    "        print(f'Processing {path}...')\n",
    "        list_songs.append({\n",
    "            'title': row[1]['title'],\n",
    "            'path': '.' + path,\n",
    "            'duration': len(audio) / 1000  # Duration in seconds\n",
    "        })\n",
    "    except Exception as e:\n",
    "        print(f\"Error processing {path}: {e}\")\n",
    "        continue"
   ]
  },
  {
   "cell_type": "code",
   "execution_count": 69,
   "metadata": {},
   "outputs": [
    {
     "data": {
      "text/html": [
       "<div>\n",
       "<style scoped>\n",
       "    .dataframe tbody tr th:only-of-type {\n",
       "        vertical-align: middle;\n",
       "    }\n",
       "\n",
       "    .dataframe tbody tr th {\n",
       "        vertical-align: top;\n",
       "    }\n",
       "\n",
       "    .dataframe thead th {\n",
       "        text-align: right;\n",
       "    }\n",
       "</style>\n",
       "<table border=\"1\" class=\"dataframe\">\n",
       "  <thead>\n",
       "    <tr style=\"text-align: right;\">\n",
       "      <th></th>\n",
       "      <th>title</th>\n",
       "      <th>path</th>\n",
       "      <th>duration</th>\n",
       "    </tr>\n",
       "  </thead>\n",
       "  <tbody>\n",
       "    <tr>\n",
       "      <th>0</th>\n",
       "      <td>KICIR KICIR - Lagu dan Tari Nusantara - Lagu Anak</td>\n",
       "      <td>./songs/kicir_kicir_lagu_dan_tari_nusantara_la...</td>\n",
       "      <td>233.895</td>\n",
       "    </tr>\n",
       "    <tr>\n",
       "      <th>1</th>\n",
       "      <td>senam kicir kicir lomba 2024</td>\n",
       "      <td>./songs/senam_kicir_kicir_lomba_2024.mp3</td>\n",
       "      <td>214.877</td>\n",
       "    </tr>\n",
       "    <tr>\n",
       "      <th>2</th>\n",
       "      <td>Kicir Kicir Jakarta</td>\n",
       "      <td>./songs/kicir_kicir_jakarta.mp3</td>\n",
       "      <td>231.281</td>\n",
       "    </tr>\n",
       "    <tr>\n",
       "      <th>3</th>\n",
       "      <td>ONDEL ONDEL | Lagu Daerah DKI Jakarta - Betawi...</td>\n",
       "      <td>./songs/ondel_ondel_lagu_daerah_dki_jakarta_be...</td>\n",
       "      <td>218.175</td>\n",
       "    </tr>\n",
       "    <tr>\n",
       "      <th>4</th>\n",
       "      <td>ONDEL ONDEL 💞 LAGU DAERAH DKI JAKARTA | ONDEL ...</td>\n",
       "      <td>./songs/ondel_ondel_lagu_daerah_dki_jakarta_on...</td>\n",
       "      <td>283.400</td>\n",
       "    </tr>\n",
       "  </tbody>\n",
       "</table>\n",
       "</div>"
      ],
      "text/plain": [
       "                                               title  \\\n",
       "0  KICIR KICIR - Lagu dan Tari Nusantara - Lagu Anak   \n",
       "1                       senam kicir kicir lomba 2024   \n",
       "2                                Kicir Kicir Jakarta   \n",
       "3  ONDEL ONDEL | Lagu Daerah DKI Jakarta - Betawi...   \n",
       "4  ONDEL ONDEL 💞 LAGU DAERAH DKI JAKARTA | ONDEL ...   \n",
       "\n",
       "                                                path  duration  \n",
       "0  ./songs/kicir_kicir_lagu_dan_tari_nusantara_la...   233.895  \n",
       "1           ./songs/senam_kicir_kicir_lomba_2024.mp3   214.877  \n",
       "2                    ./songs/kicir_kicir_jakarta.mp3   231.281  \n",
       "3  ./songs/ondel_ondel_lagu_daerah_dki_jakarta_be...   218.175  \n",
       "4  ./songs/ondel_ondel_lagu_daerah_dki_jakarta_on...   283.400  "
      ]
     },
     "execution_count": 69,
     "metadata": {},
     "output_type": "execute_result"
    }
   ],
   "source": [
    "df_list_songs = pd.DataFrame(list_songs)\n",
    "\n",
    "df_list_songs.head()"
   ]
  }
 ],
 "metadata": {
  "kernelspec": {
   "display_name": "Python 3",
   "language": "python",
   "name": "python3"
  },
  "language_info": {
   "codemirror_mode": {
    "name": "ipython",
    "version": 3
   },
   "file_extension": ".py",
   "mimetype": "text/x-python",
   "name": "python",
   "nbconvert_exporter": "python",
   "pygments_lexer": "ipython3",
   "version": "3.11.6"
  }
 },
 "nbformat": 4,
 "nbformat_minor": 2
}
