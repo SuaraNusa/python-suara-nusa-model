{
 "cells": [
  {
   "cell_type": "code",
   "execution_count": 67,
   "metadata": {},
   "outputs": [],
   "source": [
    "import pandas as pd\n",
    "from youtube_search import YoutubeSearch\n",
    "from pytubefix import YouTube\n",
    "import re"
   ]
  },
  {
   "cell_type": "markdown",
   "metadata": {},
   "source": [
    "### Load Scrapping Result"
   ]
  },
  {
   "cell_type": "code",
   "execution_count": 68,
   "metadata": {},
   "outputs": [
    {
     "data": {
      "text/html": [
       "<div>\n",
       "<style scoped>\n",
       "    .dataframe tbody tr th:only-of-type {\n",
       "        vertical-align: middle;\n",
       "    }\n",
       "\n",
       "    .dataframe tbody tr th {\n",
       "        vertical-align: top;\n",
       "    }\n",
       "\n",
       "    .dataframe thead th {\n",
       "        text-align: right;\n",
       "    }\n",
       "</style>\n",
       "<table border=\"1\" class=\"dataframe\">\n",
       "  <thead>\n",
       "    <tr style=\"text-align: right;\">\n",
       "      <th></th>\n",
       "      <th>nama</th>\n",
       "      <th>daerah</th>\n",
       "      <th>keyword</th>\n",
       "      <th>lirik</th>\n",
       "    </tr>\n",
       "  </thead>\n",
       "  <tbody>\n",
       "    <tr>\n",
       "      <th>0</th>\n",
       "      <td>Kicir-Kicir</td>\n",
       "      <td>Jakarta</td>\n",
       "      <td>jakarta</td>\n",
       "      <td>NaN</td>\n",
       "    </tr>\n",
       "    <tr>\n",
       "      <th>1</th>\n",
       "      <td>Ondel Ondel</td>\n",
       "      <td>jakarta</td>\n",
       "      <td>Jakarta</td>\n",
       "      <td>NaN</td>\n",
       "    </tr>\n",
       "    <tr>\n",
       "      <th>2</th>\n",
       "      <td>Manuk Dadali</td>\n",
       "      <td>jawa barat</td>\n",
       "      <td>jawa barat</td>\n",
       "      <td>NaN</td>\n",
       "    </tr>\n",
       "  </tbody>\n",
       "</table>\n",
       "</div>"
      ],
      "text/plain": [
       "           nama      daerah     keyword  lirik\n",
       "0   Kicir-Kicir     Jakarta     jakarta    NaN\n",
       "1   Ondel Ondel     jakarta     Jakarta    NaN\n",
       "2  Manuk Dadali  jawa barat  jawa barat    NaN"
      ]
     },
     "execution_count": 68,
     "metadata": {},
     "output_type": "execute_result"
    }
   ],
   "source": [
    "data = pd.read_csv('data/data.csv', sep=';')\n",
    "\n",
    "data.head()"
   ]
  },
  {
   "cell_type": "markdown",
   "metadata": {},
   "source": [
    "### Search and Download Music Function"
   ]
  },
  {
   "cell_type": "code",
   "execution_count": 69,
   "metadata": {},
   "outputs": [],
   "source": [
    "def search_yt(query):\n",
    "    results = YoutubeSearch(query, max_results=3).to_dict()\n",
    "\n",
    "    for i in range(len(results)):\n",
    "        results[i]['url'] = 'https://www.youtube.com' + results[i]['url_suffix']\n",
    "        \n",
    "    return results\n",
    "\n",
    "def normalized_yt_title(title):\n",
    "    text = title.lower()\n",
    "    text = text.replace(' ', '_')\n",
    "    text = re.sub(r'[^a-z0-9_]', '', text)\n",
    "    text = re.sub(r'_{2,}', '_', text)\n",
    "    \n",
    "    return text\n",
    "\n",
    "def dl_video(query):\n",
    "    try:\n",
    "        yt = YouTube(query, 'MWEB')\n",
    "        print(f'Downloading {yt.title}...')\n",
    "        \n",
    "        normalized_title = normalized_yt_title(yt.title)\n",
    "        \n",
    "        ys = yt.streams.get_audio_only()\n",
    "        ys.download(mp3=True, output_path='songs', filename=normalized_title)\n",
    "        \n",
    "        return f'/songs/{normalized_title}.mp3'\n",
    "    except Exception as e:\n",
    "        print(e)\n",
    "        return None\n",
    "    "
   ]
  },
  {
   "cell_type": "code",
   "execution_count": 70,
   "metadata": {},
   "outputs": [
    {
     "name": "stdout",
     "output_type": "stream",
     "text": [
      "Downloading KICIR KICIR | Lagu Daerah DKI Jakarta - Betawi | Budaya Indonesia | Dongeng Kita...\n",
      "Downloading KARAOKE KICIR KICIR    Lagu Daerah Jakarta...\n",
      "Downloading Kicir Kicir (Lagu Daerah Betawi)...\n",
      "Downloading ONDEL ONDEL | Lagu Daerah DKI Jakarta - Betawi | Budaya Indonesia | Dongeng Kita...\n",
      "Downloading ONDEL ONDEL 💞 LAGU DAERAH DKI JAKARTA | ONDEL ONDEL BETAWI REMIX...\n",
      "Downloading Sejarah Asal Muasal Nama ONDEL - ONDEL...\n",
      "Downloading Lirik Lagu manuk Dadali...\n",
      "Downloading Tari Manuk Dadali-Jawa Barat || \"Keragaman Budaya Indonesia\" XI IPS 4...\n"
     ]
    }
   ],
   "source": [
    "results = []\n",
    "\n",
    "for index, row in data.iterrows():\n",
    "    songs = search_yt(f\"{row['nama']} asal {row['daerah']}\")\n",
    "    \n",
    "    result_entry = {\n",
    "        'nama': row['nama'],\n",
    "        'daerah': row['daerah'],\n",
    "        'keyword': row['keyword'],\n",
    "        'songs': []\n",
    "    }\n",
    "\n",
    "    for song in songs:\n",
    "        path = dl_video(song['url'])\n",
    "        result_entry['songs'].append({\n",
    "            'title': song['title'],\n",
    "            'url': song['url'],\n",
    "            'path': path\n",
    "        })\n",
    "    \n",
    "    results.append(result_entry)\n"
   ]
  },
  {
   "cell_type": "markdown",
   "metadata": {},
   "source": [
    "### Data Selection"
   ]
  },
  {
   "cell_type": "code",
   "execution_count": 65,
   "metadata": {},
   "outputs": [],
   "source": [
    "df = pd.DataFrame(results)\n",
    "df_songs = pd.DataFrame([song for result in results for song in result['songs']])"
   ]
  },
  {
   "cell_type": "code",
   "execution_count": 66,
   "metadata": {},
   "outputs": [
    {
     "data": {
      "text/html": [
       "<div>\n",
       "<style scoped>\n",
       "    .dataframe tbody tr th:only-of-type {\n",
       "        vertical-align: middle;\n",
       "    }\n",
       "\n",
       "    .dataframe tbody tr th {\n",
       "        vertical-align: top;\n",
       "    }\n",
       "\n",
       "    .dataframe thead th {\n",
       "        text-align: right;\n",
       "    }\n",
       "</style>\n",
       "<table border=\"1\" class=\"dataframe\">\n",
       "  <thead>\n",
       "    <tr style=\"text-align: right;\">\n",
       "      <th></th>\n",
       "      <th>title</th>\n",
       "      <th>url</th>\n",
       "      <th>path</th>\n",
       "    </tr>\n",
       "  </thead>\n",
       "  <tbody>\n",
       "    <tr>\n",
       "      <th>0</th>\n",
       "      <td>KICIR KICIR | Lagu Daerah DKI Jakarta - Betawi...</td>\n",
       "      <td>https://www.youtube.com/watch?v=lhZf7qGZzsE&amp;pp...</td>\n",
       "      <td>/songs/kicir_kicir_lagu_daerah_dki_jakarta_bet...</td>\n",
       "    </tr>\n",
       "    <tr>\n",
       "      <th>1</th>\n",
       "      <td>ONDEL ONDEL | Lagu Daerah DKI Jakarta - Betawi...</td>\n",
       "      <td>https://www.youtube.com/watch?v=wardyOl-EHo&amp;pp...</td>\n",
       "      <td>/songs/ondel_ondel_lagu_daerah_dki_jakarta_bet...</td>\n",
       "    </tr>\n",
       "    <tr>\n",
       "      <th>2</th>\n",
       "      <td>Lirik Lagu manuk Dadali</td>\n",
       "      <td>https://www.youtube.com/watch?v=2xMLFGA12F0&amp;pp...</td>\n",
       "      <td>/songs/lirik_lagu_manuk_dadali.mp3</td>\n",
       "    </tr>\n",
       "  </tbody>\n",
       "</table>\n",
       "</div>"
      ],
      "text/plain": [
       "                                               title  \\\n",
       "0  KICIR KICIR | Lagu Daerah DKI Jakarta - Betawi...   \n",
       "1  ONDEL ONDEL | Lagu Daerah DKI Jakarta - Betawi...   \n",
       "2                            Lirik Lagu manuk Dadali   \n",
       "\n",
       "                                                 url  \\\n",
       "0  https://www.youtube.com/watch?v=lhZf7qGZzsE&pp...   \n",
       "1  https://www.youtube.com/watch?v=wardyOl-EHo&pp...   \n",
       "2  https://www.youtube.com/watch?v=2xMLFGA12F0&pp...   \n",
       "\n",
       "                                                path  \n",
       "0  /songs/kicir_kicir_lagu_daerah_dki_jakarta_bet...  \n",
       "1  /songs/ondel_ondel_lagu_daerah_dki_jakarta_bet...  \n",
       "2                 /songs/lirik_lagu_manuk_dadali.mp3  "
      ]
     },
     "execution_count": 66,
     "metadata": {},
     "output_type": "execute_result"
    }
   ],
   "source": [
    "df_songs.head()"
   ]
  },
  {
   "cell_type": "code",
   "execution_count": 37,
   "metadata": {},
   "outputs": [],
   "source": [
    "import os\n",
    "\n",
    "def convert_path(path):\n",
    "    if path is None:\n",
    "        return None\n",
    "    return str(os.path.abspath(path))\n",
    "\n",
    "df_songs['path'] = df_songs['path'].apply(convert_path)"
   ]
  },
  {
   "cell_type": "code",
   "execution_count": 38,
   "metadata": {},
   "outputs": [
    {
     "data": {
      "text/html": [
       "<div>\n",
       "<style scoped>\n",
       "    .dataframe tbody tr th:only-of-type {\n",
       "        vertical-align: middle;\n",
       "    }\n",
       "\n",
       "    .dataframe tbody tr th {\n",
       "        vertical-align: top;\n",
       "    }\n",
       "\n",
       "    .dataframe thead th {\n",
       "        text-align: right;\n",
       "    }\n",
       "</style>\n",
       "<table border=\"1\" class=\"dataframe\">\n",
       "  <thead>\n",
       "    <tr style=\"text-align: right;\">\n",
       "      <th></th>\n",
       "      <th>title</th>\n",
       "      <th>url</th>\n",
       "      <th>path</th>\n",
       "    </tr>\n",
       "  </thead>\n",
       "  <tbody>\n",
       "    <tr>\n",
       "      <th>0</th>\n",
       "      <td>KICIR KICIR | Lagu Daerah DKI Jakarta - Betawi...</td>\n",
       "      <td>https://www.youtube.com/watch?v=lhZf7qGZzsE&amp;pp...</td>\n",
       "      <td>c:\\songs\\kicir_kicir__lagu_daerah_dki_jakarta_...</td>\n",
       "    </tr>\n",
       "    <tr>\n",
       "      <th>1</th>\n",
       "      <td>KARAOKE KICIR KICIR    Lagu Daerah Jakarta</td>\n",
       "      <td>https://www.youtube.com/watch?v=nbO8hjzAN20&amp;pp...</td>\n",
       "      <td>c:\\songs\\karaoke_kicir_kicir____lagu_daerah_ja...</td>\n",
       "    </tr>\n",
       "    <tr>\n",
       "      <th>2</th>\n",
       "      <td>Kicir Kicir (Lagu Daerah Betawi)</td>\n",
       "      <td>https://www.youtube.com/watch?v=CcFbCjM2jsM&amp;pp...</td>\n",
       "      <td>c:\\songs\\kicir_kicir_lagu_daerah_betawi.mp3</td>\n",
       "    </tr>\n",
       "    <tr>\n",
       "      <th>3</th>\n",
       "      <td>senam kicir kicir lomba 2024</td>\n",
       "      <td>https://www.youtube.com/watch?v=NzWTp-eX02g&amp;pp...</td>\n",
       "      <td>c:\\songs\\senam_kicir_kicir_lomba_2024.mp3</td>\n",
       "    </tr>\n",
       "    <tr>\n",
       "      <th>4</th>\n",
       "      <td>Tari Daerah ~ Kicir-kicir DKI Jakarta |Rumah B...</td>\n",
       "      <td>https://www.youtube.com/watch?v=0EJP74A3Ws4&amp;pp...</td>\n",
       "      <td>c:\\songs\\tari_daerah_~_kicir-kicir_dki_jakarta...</td>\n",
       "    </tr>\n",
       "  </tbody>\n",
       "</table>\n",
       "</div>"
      ],
      "text/plain": [
       "                                               title  \\\n",
       "0  KICIR KICIR | Lagu Daerah DKI Jakarta - Betawi...   \n",
       "1         KARAOKE KICIR KICIR    Lagu Daerah Jakarta   \n",
       "2                   Kicir Kicir (Lagu Daerah Betawi)   \n",
       "3                       senam kicir kicir lomba 2024   \n",
       "4  Tari Daerah ~ Kicir-kicir DKI Jakarta |Rumah B...   \n",
       "\n",
       "                                                 url  \\\n",
       "0  https://www.youtube.com/watch?v=lhZf7qGZzsE&pp...   \n",
       "1  https://www.youtube.com/watch?v=nbO8hjzAN20&pp...   \n",
       "2  https://www.youtube.com/watch?v=CcFbCjM2jsM&pp...   \n",
       "3  https://www.youtube.com/watch?v=NzWTp-eX02g&pp...   \n",
       "4  https://www.youtube.com/watch?v=0EJP74A3Ws4&pp...   \n",
       "\n",
       "                                                path  \n",
       "0  c:\\songs\\kicir_kicir__lagu_daerah_dki_jakarta_...  \n",
       "1  c:\\songs\\karaoke_kicir_kicir____lagu_daerah_ja...  \n",
       "2        c:\\songs\\kicir_kicir_lagu_daerah_betawi.mp3  \n",
       "3          c:\\songs\\senam_kicir_kicir_lomba_2024.mp3  \n",
       "4  c:\\songs\\tari_daerah_~_kicir-kicir_dki_jakarta...  "
      ]
     },
     "execution_count": 38,
     "metadata": {},
     "output_type": "execute_result"
    }
   ],
   "source": [
    "df_songs.head()"
   ]
  },
  {
   "cell_type": "code",
   "execution_count": 39,
   "metadata": {},
   "outputs": [],
   "source": [
    "#remove the first three character of path\n",
    "def remove_first_three(path):\n",
    "    if path is None:\n",
    "        return None\n",
    "    return path[3:]\n",
    "\n",
    "df_songs['path'] = df_songs['path'].apply(remove_first_three)"
   ]
  },
  {
   "cell_type": "code",
   "execution_count": 40,
   "metadata": {},
   "outputs": [
    {
     "data": {
      "text/html": [
       "<div>\n",
       "<style scoped>\n",
       "    .dataframe tbody tr th:only-of-type {\n",
       "        vertical-align: middle;\n",
       "    }\n",
       "\n",
       "    .dataframe tbody tr th {\n",
       "        vertical-align: top;\n",
       "    }\n",
       "\n",
       "    .dataframe thead th {\n",
       "        text-align: right;\n",
       "    }\n",
       "</style>\n",
       "<table border=\"1\" class=\"dataframe\">\n",
       "  <thead>\n",
       "    <tr style=\"text-align: right;\">\n",
       "      <th></th>\n",
       "      <th>title</th>\n",
       "      <th>url</th>\n",
       "      <th>path</th>\n",
       "    </tr>\n",
       "  </thead>\n",
       "  <tbody>\n",
       "    <tr>\n",
       "      <th>0</th>\n",
       "      <td>KICIR KICIR | Lagu Daerah DKI Jakarta - Betawi...</td>\n",
       "      <td>https://www.youtube.com/watch?v=lhZf7qGZzsE&amp;pp...</td>\n",
       "      <td>songs\\kicir_kicir__lagu_daerah_dki_jakarta_-_b...</td>\n",
       "    </tr>\n",
       "    <tr>\n",
       "      <th>1</th>\n",
       "      <td>KARAOKE KICIR KICIR    Lagu Daerah Jakarta</td>\n",
       "      <td>https://www.youtube.com/watch?v=nbO8hjzAN20&amp;pp...</td>\n",
       "      <td>songs\\karaoke_kicir_kicir____lagu_daerah_jakar...</td>\n",
       "    </tr>\n",
       "    <tr>\n",
       "      <th>2</th>\n",
       "      <td>Kicir Kicir (Lagu Daerah Betawi)</td>\n",
       "      <td>https://www.youtube.com/watch?v=CcFbCjM2jsM&amp;pp...</td>\n",
       "      <td>songs\\kicir_kicir_lagu_daerah_betawi.mp3</td>\n",
       "    </tr>\n",
       "    <tr>\n",
       "      <th>3</th>\n",
       "      <td>senam kicir kicir lomba 2024</td>\n",
       "      <td>https://www.youtube.com/watch?v=NzWTp-eX02g&amp;pp...</td>\n",
       "      <td>songs\\senam_kicir_kicir_lomba_2024.mp3</td>\n",
       "    </tr>\n",
       "    <tr>\n",
       "      <th>4</th>\n",
       "      <td>Tari Daerah ~ Kicir-kicir DKI Jakarta |Rumah B...</td>\n",
       "      <td>https://www.youtube.com/watch?v=0EJP74A3Ws4&amp;pp...</td>\n",
       "      <td>songs\\tari_daerah_~_kicir-kicir_dki_jakarta_ru...</td>\n",
       "    </tr>\n",
       "  </tbody>\n",
       "</table>\n",
       "</div>"
      ],
      "text/plain": [
       "                                               title  \\\n",
       "0  KICIR KICIR | Lagu Daerah DKI Jakarta - Betawi...   \n",
       "1         KARAOKE KICIR KICIR    Lagu Daerah Jakarta   \n",
       "2                   Kicir Kicir (Lagu Daerah Betawi)   \n",
       "3                       senam kicir kicir lomba 2024   \n",
       "4  Tari Daerah ~ Kicir-kicir DKI Jakarta |Rumah B...   \n",
       "\n",
       "                                                 url  \\\n",
       "0  https://www.youtube.com/watch?v=lhZf7qGZzsE&pp...   \n",
       "1  https://www.youtube.com/watch?v=nbO8hjzAN20&pp...   \n",
       "2  https://www.youtube.com/watch?v=CcFbCjM2jsM&pp...   \n",
       "3  https://www.youtube.com/watch?v=NzWTp-eX02g&pp...   \n",
       "4  https://www.youtube.com/watch?v=0EJP74A3Ws4&pp...   \n",
       "\n",
       "                                                path  \n",
       "0  songs\\kicir_kicir__lagu_daerah_dki_jakarta_-_b...  \n",
       "1  songs\\karaoke_kicir_kicir____lagu_daerah_jakar...  \n",
       "2           songs\\kicir_kicir_lagu_daerah_betawi.mp3  \n",
       "3             songs\\senam_kicir_kicir_lomba_2024.mp3  \n",
       "4  songs\\tari_daerah_~_kicir-kicir_dki_jakarta_ru...  "
      ]
     },
     "execution_count": 40,
     "metadata": {},
     "output_type": "execute_result"
    }
   ],
   "source": [
    "df_songs.head()"
   ]
  },
  {
   "cell_type": "markdown",
   "metadata": {},
   "source": [
    "#### Durasi Lagu\n",
    "Masih error, path harus seperti ini:\n",
    "`songs\\senam kicir kicir lomba 2024.mp3`"
   ]
  },
  {
   "cell_type": "code",
   "execution_count": 41,
   "metadata": {},
   "outputs": [
    {
     "name": "stdout",
     "output_type": "stream",
     "text": [
      "[Errno 2] No such file or directory: 'songs\\\\kicir_kicir__lagu_daerah_dki_jakarta_-_betawi__budaya_indonesia__dongeng_kita.mp3'\n",
      "[Errno 2] No such file or directory: 'songs\\\\karaoke_kicir_kicir____lagu_daerah_jakarta.mp3'\n",
      "[Errno 2] No such file or directory: 'songs\\\\kicir_kicir_lagu_daerah_betawi.mp3'\n",
      "[Errno 2] No such file or directory: 'songs\\\\senam_kicir_kicir_lomba_2024.mp3'\n",
      "[Errno 2] No such file or directory: 'songs\\\\tari_daerah_~_kicir-kicir_dki_jakarta_rumah_belajar_mawinsya.mp3'\n",
      "[Errno 2] No such file or directory: 'songs\\\\ondel_ondel__lagu_daerah_dki_jakarta_-_betawi__budaya_indonesia__dongeng_kita.mp3'\n",
      "[Errno 2] No such file or directory: 'songs\\\\ondel_ondel_💞_lagu_daerah_dki_jakarta__ondel_ondel_betawi_remix.mp3'\n",
      "[Errno 2] No such file or directory: 'songs\\\\sejarah_asal_muasal_nama_ondel_-_ondel.mp3'\n",
      "[Errno 2] No such file or directory: 'songs\\\\asal-usul_ondel-ondel__dongeng_bahasa_indonesia__akm_literasi_sd.mp3'\n",
      "[Errno 2] No such file or directory: 'songs\\\\ondel_ondel_✅️_lagu_daerah_dki_jakarta__lagu_ondel_ondel_betawi_remix.mp3'\n",
      "[Errno 2] No such file or directory: 'songs\\\\lirik_lagu_manuk_dadali.mp3'\n",
      "[Errno 2] No such file or directory: 'songs\\\\tari_manuk_dadali-jawa_barat__\"keragaman_budaya_indonesia\"_xi_ips_4.mp3'\n",
      "[Errno 2] No such file or directory: 'songs\\\\aty_surya_-_manuk_dadali.mp3'\n",
      "[Errno 2] No such file or directory: 'songs\\\\lagu_daerah_manuk_dadali_dan_lirik_\"apa_ya_makna_lagu_daerah_kita?\".mp3'\n",
      "[Errno 2] No such file or directory: 'songs\\\\karaoke_manuk_dadali___lagu_daerah_jawa_barat.mp3'\n"
     ]
    }
   ],
   "source": [
    "from mutagen.mp3 import MP3\n",
    "list_songs = []\n",
    "\n",
    "for row in df_songs.iterrows():\n",
    "    path = row[1]['path']\n",
    "    if path is None:\n",
    "        continue\n",
    "    try:\n",
    "        audio = MP3(path)\n",
    "        print(f'Processing {path}...')\n",
    "        list_songs.append({\n",
    "            'title': row[1]['title'],\n",
    "            'path': path,\n",
    "            'duration': audio.info.length\n",
    "        })\n",
    "    except Exception as e:\n",
    "        print(e)\n",
    "        continue    "
   ]
  },
  {
   "cell_type": "code",
   "execution_count": 42,
   "metadata": {},
   "outputs": [],
   "source": [
    "df_list_songs = pd.DataFrame(list_songs)"
   ]
  },
  {
   "cell_type": "code",
   "execution_count": null,
   "metadata": {},
   "outputs": [],
   "source": []
  }
 ],
 "metadata": {
  "kernelspec": {
   "display_name": "Python 3",
   "language": "python",
   "name": "python3"
  },
  "language_info": {
   "codemirror_mode": {
    "name": "ipython",
    "version": 3
   },
   "file_extension": ".py",
   "mimetype": "text/x-python",
   "name": "python",
   "nbconvert_exporter": "python",
   "pygments_lexer": "ipython3",
   "version": "3.11.9"
  }
 },
 "nbformat": 4,
 "nbformat_minor": 2
}
