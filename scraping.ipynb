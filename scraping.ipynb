{
 "cells": [
  {
   "cell_type": "code",
   "execution_count": 12,
   "metadata": {},
   "outputs": [],
   "source": [
    "import pandas as pd\n",
    "from youtube_search import YoutubeSearch\n",
    "from pytubefix import YouTube"
   ]
  },
  {
   "cell_type": "markdown",
   "metadata": {},
   "source": [
    "### Load Scrapping Result"
   ]
  },
  {
   "cell_type": "code",
   "execution_count": 13,
   "metadata": {},
   "outputs": [
    {
     "data": {
      "text/html": [
       "<div>\n",
       "<style scoped>\n",
       "    .dataframe tbody tr th:only-of-type {\n",
       "        vertical-align: middle;\n",
       "    }\n",
       "\n",
       "    .dataframe tbody tr th {\n",
       "        vertical-align: top;\n",
       "    }\n",
       "\n",
       "    .dataframe thead th {\n",
       "        text-align: right;\n",
       "    }\n",
       "</style>\n",
       "<table border=\"1\" class=\"dataframe\">\n",
       "  <thead>\n",
       "    <tr style=\"text-align: right;\">\n",
       "      <th></th>\n",
       "      <th>nama</th>\n",
       "      <th>daerah</th>\n",
       "      <th>keyword</th>\n",
       "      <th>lirik</th>\n",
       "    </tr>\n",
       "  </thead>\n",
       "  <tbody>\n",
       "    <tr>\n",
       "      <th>0</th>\n",
       "      <td>Kicir-Kicir</td>\n",
       "      <td>Jakarta</td>\n",
       "      <td>jakarta</td>\n",
       "      <td>NaN</td>\n",
       "    </tr>\n",
       "    <tr>\n",
       "      <th>1</th>\n",
       "      <td>Ondel Ondel</td>\n",
       "      <td>jakarta</td>\n",
       "      <td>Jakarta</td>\n",
       "      <td>NaN</td>\n",
       "    </tr>\n",
       "    <tr>\n",
       "      <th>2</th>\n",
       "      <td>Manuk Dadali</td>\n",
       "      <td>jawa barat</td>\n",
       "      <td>jawa barat</td>\n",
       "      <td>NaN</td>\n",
       "    </tr>\n",
       "  </tbody>\n",
       "</table>\n",
       "</div>"
      ],
      "text/plain": [
       "           nama      daerah     keyword  lirik\n",
       "0   Kicir-Kicir     Jakarta     jakarta    NaN\n",
       "1   Ondel Ondel     jakarta     Jakarta    NaN\n",
       "2  Manuk Dadali  jawa barat  jawa barat    NaN"
      ]
     },
     "execution_count": 13,
     "metadata": {},
     "output_type": "execute_result"
    }
   ],
   "source": [
    "data = pd.read_csv('data/data.csv', sep=';')\n",
    "\n",
    "data.head()"
   ]
  },
  {
   "cell_type": "markdown",
   "metadata": {},
   "source": [
    "### Search and Download Music Function"
   ]
  },
  {
   "cell_type": "code",
   "execution_count": 18,
   "metadata": {},
   "outputs": [],
   "source": [
    "def search_yt(query):\n",
    "    results = YoutubeSearch(query, max_results=5).to_dict()\n",
    "\n",
    "    for i in range(len(results)):\n",
    "        results[i]['url'] = 'https://www.youtube.com' + results[i]['url_suffix']\n",
    "        \n",
    "    return results\n",
    "\n",
    "def dl_video(query):\n",
    "    try:\n",
    "        yt = YouTube(query, 'MWEB')\n",
    "        print(f'Downloading {yt.title}...')\n",
    "        \n",
    "        ys = yt.streams.get_audio_only()\n",
    "        ys.download(mp3=True, output_path='songs', filename=yt.title)\n",
    "        \n",
    "        return f'/songs/{yt.title}.mp3'\n",
    "    except Exception as e:\n",
    "        print(e)\n",
    "        return None\n",
    "    "
   ]
  },
  {
   "cell_type": "code",
   "execution_count": 19,
   "metadata": {},
   "outputs": [
    {
     "name": "stdout",
     "output_type": "stream",
     "text": [
      "Downloading KICIR KICIR | Lagu Daerah DKI Jakarta - Betawi | Budaya Indonesia | Dongeng Kita...\n",
      "Downloading KARAOKE KICIR KICIR    Lagu Daerah Jakarta...\n",
      "Downloading Kicir Kicir (Lagu Daerah Betawi)...\n",
      "Downloading senam kicir kicir lomba 2024...\n",
      "Downloading Tari Daerah ~ Kicir-kicir DKI Jakarta |Rumah Belajar Mawinsya...\n",
      "Downloading ONDEL ONDEL 💞 LAGU DAERAH DKI JAKARTA | ONDEL ONDEL BETAWI REMIX...\n",
      "Downloading ONDEL ONDEL | Lagu Daerah DKI Jakarta - Betawi | Budaya Indonesia | Dongeng Kita...\n",
      "Downloading LakonS - Ondel Ondel JKT 2015...\n",
      "Downloading ONDEL ONDEL | PARADE ONDEL ONDEL BETAWI NONSTOP | LAGU DKI JAKARTA REMIX...\n",
      "vtcZcesAk2I is streaming live and cannot be loaded\n",
      "Downloading Sejarah Asal Muasal Nama ONDEL - ONDEL...\n",
      "Downloading Lirik Lagu manuk Dadali...\n",
      "Downloading Tari Manuk Dadali-Jawa Barat || \"Keragaman Budaya Indonesia\" XI IPS 4...\n",
      "Downloading Aty Surya - Manuk Dadali...\n",
      "Downloading Lagu Daerah Manuk Dadali dan Lirik \"Apa Ya Makna Lagu Daerah Kita?\"...\n",
      "Downloading KARAOKE MANUK DADALI   Lagu Daerah Jawa Barat...\n"
     ]
    }
   ],
   "source": [
    "results = []\n",
    "\n",
    "for index, row in data.iterrows():\n",
    "    songs = search_yt(f\"{row['nama']} asal {row['daerah']}\")\n",
    "    \n",
    "    result_entry = {\n",
    "        'nama': row['nama'],\n",
    "        'daerah': row['daerah'],\n",
    "        'keyword': row['keyword'],\n",
    "        'songs': []\n",
    "    }\n",
    "\n",
    "    for song in songs:\n",
    "        path = dl_video(song['url'])\n",
    "        result_entry['songs'].append({\n",
    "            'title': song['title'],\n",
    "            'url': song['url'],\n",
    "            'path': path\n",
    "        })\n",
    "    \n",
    "    results.append(result_entry)\n"
   ]
  },
  {
   "cell_type": "markdown",
   "metadata": {},
   "source": [
    "### Data Selection"
   ]
  },
  {
   "cell_type": "code",
   "execution_count": 21,
   "metadata": {},
   "outputs": [],
   "source": [
    "df = pd.DataFrame(results)\n",
    "df_songs = pd.DataFrame([song for result in results for song in result['songs']])"
   ]
  },
  {
   "cell_type": "code",
   "execution_count": 36,
   "metadata": {},
   "outputs": [
    {
     "data": {
      "text/html": [
       "<div>\n",
       "<style scoped>\n",
       "    .dataframe tbody tr th:only-of-type {\n",
       "        vertical-align: middle;\n",
       "    }\n",
       "\n",
       "    .dataframe tbody tr th {\n",
       "        vertical-align: top;\n",
       "    }\n",
       "\n",
       "    .dataframe thead th {\n",
       "        text-align: right;\n",
       "    }\n",
       "</style>\n",
       "<table border=\"1\" class=\"dataframe\">\n",
       "  <thead>\n",
       "    <tr style=\"text-align: right;\">\n",
       "      <th></th>\n",
       "      <th>title</th>\n",
       "      <th>url</th>\n",
       "      <th>path</th>\n",
       "    </tr>\n",
       "  </thead>\n",
       "  <tbody>\n",
       "    <tr>\n",
       "      <th>0</th>\n",
       "      <td>KICIR KICIR | Lagu Daerah DKI Jakarta - Betawi...</td>\n",
       "      <td>https://www.youtube.com/watch?v=lhZf7qGZzsE&amp;pp...</td>\n",
       "      <td>/songs/KICIR KICIR | Lagu Daerah DKI Jakarta -...</td>\n",
       "    </tr>\n",
       "    <tr>\n",
       "      <th>1</th>\n",
       "      <td>KARAOKE KICIR KICIR    Lagu Daerah Jakarta</td>\n",
       "      <td>https://www.youtube.com/watch?v=nbO8hjzAN20&amp;pp...</td>\n",
       "      <td>/songs/KARAOKE KICIR KICIR    Lagu Daerah Jaka...</td>\n",
       "    </tr>\n",
       "    <tr>\n",
       "      <th>2</th>\n",
       "      <td>Kicir Kicir (Lagu Daerah Betawi)</td>\n",
       "      <td>https://www.youtube.com/watch?v=CcFbCjM2jsM&amp;pp...</td>\n",
       "      <td>/songs/Kicir Kicir (Lagu Daerah Betawi).mp3</td>\n",
       "    </tr>\n",
       "    <tr>\n",
       "      <th>3</th>\n",
       "      <td>senam kicir kicir lomba 2024</td>\n",
       "      <td>https://www.youtube.com/watch?v=NzWTp-eX02g&amp;pp...</td>\n",
       "      <td>/songs/senam kicir kicir lomba 2024.mp3</td>\n",
       "    </tr>\n",
       "    <tr>\n",
       "      <th>4</th>\n",
       "      <td>Tari Daerah ~ Kicir-kicir DKI Jakarta |Rumah B...</td>\n",
       "      <td>https://www.youtube.com/watch?v=0EJP74A3Ws4&amp;pp...</td>\n",
       "      <td>/songs/Tari Daerah ~ Kicir-kicir DKI Jakarta |...</td>\n",
       "    </tr>\n",
       "  </tbody>\n",
       "</table>\n",
       "</div>"
      ],
      "text/plain": [
       "                                               title  \\\n",
       "0  KICIR KICIR | Lagu Daerah DKI Jakarta - Betawi...   \n",
       "1         KARAOKE KICIR KICIR    Lagu Daerah Jakarta   \n",
       "2                   Kicir Kicir (Lagu Daerah Betawi)   \n",
       "3                       senam kicir kicir lomba 2024   \n",
       "4  Tari Daerah ~ Kicir-kicir DKI Jakarta |Rumah B...   \n",
       "\n",
       "                                                 url  \\\n",
       "0  https://www.youtube.com/watch?v=lhZf7qGZzsE&pp...   \n",
       "1  https://www.youtube.com/watch?v=nbO8hjzAN20&pp...   \n",
       "2  https://www.youtube.com/watch?v=CcFbCjM2jsM&pp...   \n",
       "3  https://www.youtube.com/watch?v=NzWTp-eX02g&pp...   \n",
       "4  https://www.youtube.com/watch?v=0EJP74A3Ws4&pp...   \n",
       "\n",
       "                                                path  \n",
       "0  /songs/KICIR KICIR | Lagu Daerah DKI Jakarta -...  \n",
       "1  /songs/KARAOKE KICIR KICIR    Lagu Daerah Jaka...  \n",
       "2        /songs/Kicir Kicir (Lagu Daerah Betawi).mp3  \n",
       "3            /songs/senam kicir kicir lomba 2024.mp3  \n",
       "4  /songs/Tari Daerah ~ Kicir-kicir DKI Jakarta |...  "
      ]
     },
     "execution_count": 36,
     "metadata": {},
     "output_type": "execute_result"
    }
   ],
   "source": [
    "df_songs.head()"
   ]
  },
  {
   "cell_type": "code",
   "execution_count": 37,
   "metadata": {},
   "outputs": [],
   "source": [
    "import os\n",
    "\n",
    "def convert_path(path):\n",
    "    if path is None:\n",
    "        return None\n",
    "    return os.path.abspath(path)\n",
    "\n",
    "df_songs['path'] = df_songs['path'].apply(convert_path)"
   ]
  },
  {
   "cell_type": "code",
   "execution_count": 38,
   "metadata": {},
   "outputs": [
    {
     "data": {
      "text/html": [
       "<div>\n",
       "<style scoped>\n",
       "    .dataframe tbody tr th:only-of-type {\n",
       "        vertical-align: middle;\n",
       "    }\n",
       "\n",
       "    .dataframe tbody tr th {\n",
       "        vertical-align: top;\n",
       "    }\n",
       "\n",
       "    .dataframe thead th {\n",
       "        text-align: right;\n",
       "    }\n",
       "</style>\n",
       "<table border=\"1\" class=\"dataframe\">\n",
       "  <thead>\n",
       "    <tr style=\"text-align: right;\">\n",
       "      <th></th>\n",
       "      <th>title</th>\n",
       "      <th>url</th>\n",
       "      <th>path</th>\n",
       "    </tr>\n",
       "  </thead>\n",
       "  <tbody>\n",
       "    <tr>\n",
       "      <th>0</th>\n",
       "      <td>KICIR KICIR | Lagu Daerah DKI Jakarta - Betawi...</td>\n",
       "      <td>https://www.youtube.com/watch?v=lhZf7qGZzsE&amp;pp...</td>\n",
       "      <td>c:\\songs\\KICIR KICIR | Lagu Daerah DKI Jakarta...</td>\n",
       "    </tr>\n",
       "    <tr>\n",
       "      <th>1</th>\n",
       "      <td>KARAOKE KICIR KICIR    Lagu Daerah Jakarta</td>\n",
       "      <td>https://www.youtube.com/watch?v=nbO8hjzAN20&amp;pp...</td>\n",
       "      <td>c:\\songs\\KARAOKE KICIR KICIR    Lagu Daerah Ja...</td>\n",
       "    </tr>\n",
       "    <tr>\n",
       "      <th>2</th>\n",
       "      <td>Kicir Kicir (Lagu Daerah Betawi)</td>\n",
       "      <td>https://www.youtube.com/watch?v=CcFbCjM2jsM&amp;pp...</td>\n",
       "      <td>c:\\songs\\Kicir Kicir (Lagu Daerah Betawi).mp3</td>\n",
       "    </tr>\n",
       "    <tr>\n",
       "      <th>3</th>\n",
       "      <td>senam kicir kicir lomba 2024</td>\n",
       "      <td>https://www.youtube.com/watch?v=NzWTp-eX02g&amp;pp...</td>\n",
       "      <td>c:\\songs\\senam kicir kicir lomba 2024.mp3</td>\n",
       "    </tr>\n",
       "    <tr>\n",
       "      <th>4</th>\n",
       "      <td>Tari Daerah ~ Kicir-kicir DKI Jakarta |Rumah B...</td>\n",
       "      <td>https://www.youtube.com/watch?v=0EJP74A3Ws4&amp;pp...</td>\n",
       "      <td>c:\\songs\\Tari Daerah ~ Kicir-kicir DKI Jakarta...</td>\n",
       "    </tr>\n",
       "  </tbody>\n",
       "</table>\n",
       "</div>"
      ],
      "text/plain": [
       "                                               title  \\\n",
       "0  KICIR KICIR | Lagu Daerah DKI Jakarta - Betawi...   \n",
       "1         KARAOKE KICIR KICIR    Lagu Daerah Jakarta   \n",
       "2                   Kicir Kicir (Lagu Daerah Betawi)   \n",
       "3                       senam kicir kicir lomba 2024   \n",
       "4  Tari Daerah ~ Kicir-kicir DKI Jakarta |Rumah B...   \n",
       "\n",
       "                                                 url  \\\n",
       "0  https://www.youtube.com/watch?v=lhZf7qGZzsE&pp...   \n",
       "1  https://www.youtube.com/watch?v=nbO8hjzAN20&pp...   \n",
       "2  https://www.youtube.com/watch?v=CcFbCjM2jsM&pp...   \n",
       "3  https://www.youtube.com/watch?v=NzWTp-eX02g&pp...   \n",
       "4  https://www.youtube.com/watch?v=0EJP74A3Ws4&pp...   \n",
       "\n",
       "                                                path  \n",
       "0  c:\\songs\\KICIR KICIR | Lagu Daerah DKI Jakarta...  \n",
       "1  c:\\songs\\KARAOKE KICIR KICIR    Lagu Daerah Ja...  \n",
       "2      c:\\songs\\Kicir Kicir (Lagu Daerah Betawi).mp3  \n",
       "3          c:\\songs\\senam kicir kicir lomba 2024.mp3  \n",
       "4  c:\\songs\\Tari Daerah ~ Kicir-kicir DKI Jakarta...  "
      ]
     },
     "execution_count": 38,
     "metadata": {},
     "output_type": "execute_result"
    }
   ],
   "source": [
    "df_songs.head()\n",
    "\n"
   ]
  },
  {
   "cell_type": "markdown",
   "metadata": {},
   "source": [
    "#### Durasi Lagu\n",
    "Masih error, path harus seperti ini:\n",
    "`songs\\senam kicir kicir lomba 2024.mp3`"
   ]
  },
  {
   "cell_type": "code",
   "execution_count": 40,
   "metadata": {},
   "outputs": [
    {
     "name": "stdout",
     "output_type": "stream",
     "text": [
      "[Errno 2] No such file or directory: 'c:\\\\songs\\\\KICIR KICIR | Lagu Daerah DKI Jakarta - Betawi | Budaya Indonesia | Dongeng Kita.mp3'\n",
      "[Errno 2] No such file or directory: 'c:\\\\songs\\\\KARAOKE KICIR KICIR    Lagu Daerah Jakarta.mp3'\n",
      "[Errno 2] No such file or directory: 'c:\\\\songs\\\\Kicir Kicir (Lagu Daerah Betawi).mp3'\n",
      "[Errno 2] No such file or directory: 'c:\\\\songs\\\\senam kicir kicir lomba 2024.mp3'\n",
      "[Errno 2] No such file or directory: 'c:\\\\songs\\\\Tari Daerah ~ Kicir-kicir DKI Jakarta |Rumah Belajar Mawinsya.mp3'\n",
      "[Errno 2] No such file or directory: 'c:\\\\songs\\\\ONDEL ONDEL 💞 LAGU DAERAH DKI JAKARTA | ONDEL ONDEL BETAWI REMIX.mp3'\n",
      "[Errno 2] No such file or directory: 'c:\\\\songs\\\\ONDEL ONDEL | Lagu Daerah DKI Jakarta - Betawi | Budaya Indonesia | Dongeng Kita.mp3'\n",
      "[Errno 2] No such file or directory: 'c:\\\\songs\\\\LakonS - Ondel Ondel JKT 2015.mp3'\n",
      "[Errno 2] No such file or directory: 'c:\\\\songs\\\\Sejarah Asal Muasal Nama ONDEL - ONDEL.mp3'\n",
      "[Errno 2] No such file or directory: 'c:\\\\songs\\\\Lirik Lagu manuk Dadali.mp3'\n",
      "[Errno 2] No such file or directory: 'c:\\\\songs\\\\Tari Manuk Dadali-Jawa Barat || \"Keragaman Budaya Indonesia\" XI IPS 4.mp3'\n",
      "[Errno 2] No such file or directory: 'c:\\\\songs\\\\Aty Surya - Manuk Dadali.mp3'\n",
      "[Errno 2] No such file or directory: 'c:\\\\songs\\\\Lagu Daerah Manuk Dadali dan Lirik \"Apa Ya Makna Lagu Daerah Kita?\".mp3'\n",
      "[Errno 2] No such file or directory: 'c:\\\\songs\\\\KARAOKE MANUK DADALI   Lagu Daerah Jawa Barat.mp3'\n"
     ]
    }
   ],
   "source": [
    "from mutagen.mp3 import MP3\n",
    "list_songs = []\n",
    "\n",
    "for row in df_songs.iterrows():\n",
    "    path = row[1]['path']\n",
    "    if path is None:\n",
    "        continue\n",
    "    try:\n",
    "        audio = MP3(path)\n",
    "    except Exception as e:\n",
    "        print(e)\n",
    "        continue\n",
    "    "
   ]
  },
  {
   "cell_type": "code",
   "execution_count": null,
   "metadata": {},
   "outputs": [],
   "source": []
  }
 ],
 "metadata": {
  "kernelspec": {
   "display_name": "Python 3",
   "language": "python",
   "name": "python3"
  },
  "language_info": {
   "codemirror_mode": {
    "name": "ipython",
    "version": 3
   },
   "file_extension": ".py",
   "mimetype": "text/x-python",
   "name": "python",
   "nbconvert_exporter": "python",
   "pygments_lexer": "ipython3",
   "version": "3.12.3"
  }
 },
 "nbformat": 4,
 "nbformat_minor": 2
}
