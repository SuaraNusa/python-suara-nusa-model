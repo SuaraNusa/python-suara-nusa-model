{
 "cells": [
  {
   "cell_type": "code",
   "execution_count": 4,
   "metadata": {},
   "outputs": [],
   "source": [
    "import pandas as pd\n",
    "from youtube_search import YoutubeSearch\n",
    "from pytubefix import YouTube\n",
    "import re\n",
    "import os"
   ]
  },
  {
   "cell_type": "markdown",
   "metadata": {},
   "source": [
    "### Load Scrapping Result"
   ]
  },
  {
   "cell_type": "code",
   "execution_count": 5,
   "metadata": {},
   "outputs": [
    {
     "data": {
      "text/html": [
       "<div>\n",
       "<style scoped>\n",
       "    .dataframe tbody tr th:only-of-type {\n",
       "        vertical-align: middle;\n",
       "    }\n",
       "\n",
       "    .dataframe tbody tr th {\n",
       "        vertical-align: top;\n",
       "    }\n",
       "\n",
       "    .dataframe thead th {\n",
       "        text-align: right;\n",
       "    }\n",
       "</style>\n",
       "<table border=\"1\" class=\"dataframe\">\n",
       "  <thead>\n",
       "    <tr style=\"text-align: right;\">\n",
       "      <th></th>\n",
       "      <th>nama</th>\n",
       "      <th>daerah</th>\n",
       "      <th>keyword</th>\n",
       "      <th>lirik</th>\n",
       "    </tr>\n",
       "  </thead>\n",
       "  <tbody>\n",
       "    <tr>\n",
       "      <th>0</th>\n",
       "      <td>Kicir-Kicir</td>\n",
       "      <td>Jakarta</td>\n",
       "      <td>jakarta</td>\n",
       "      <td>NaN</td>\n",
       "    </tr>\n",
       "    <tr>\n",
       "      <th>1</th>\n",
       "      <td>Ondel Ondel</td>\n",
       "      <td>jakarta</td>\n",
       "      <td>Jakarta</td>\n",
       "      <td>NaN</td>\n",
       "    </tr>\n",
       "    <tr>\n",
       "      <th>2</th>\n",
       "      <td>Manuk Dadali</td>\n",
       "      <td>jawa barat</td>\n",
       "      <td>jawa barat</td>\n",
       "      <td>NaN</td>\n",
       "    </tr>\n",
       "  </tbody>\n",
       "</table>\n",
       "</div>"
      ],
      "text/plain": [
       "           nama      daerah     keyword  lirik\n",
       "0   Kicir-Kicir     Jakarta     jakarta    NaN\n",
       "1   Ondel Ondel     jakarta     Jakarta    NaN\n",
       "2  Manuk Dadali  jawa barat  jawa barat    NaN"
      ]
     },
     "execution_count": 5,
     "metadata": {},
     "output_type": "execute_result"
    }
   ],
   "source": [
    "data = pd.read_csv('data/scrapping_result/data.csv', sep=';')\n",
    "\n",
    "data.head()"
   ]
  },
  {
   "cell_type": "markdown",
   "metadata": {},
   "source": [
    "### Search and Download Music Function"
   ]
  },
  {
   "cell_type": "code",
   "execution_count": 6,
   "metadata": {},
   "outputs": [],
   "source": [
    "def search_yt(query):\n",
    "    results = YoutubeSearch(query, max_results=3).to_dict()\n",
    "\n",
    "    for i in range(len(results)):\n",
    "        results[i]['url'] = 'https://www.youtube.com' + results[i]['url_suffix']\n",
    "        \n",
    "    return results\n",
    "\n",
    "def normalized_yt_title(title):\n",
    "    text = title.lower()\n",
    "    text = text.replace(' ', '_')\n",
    "    text = re.sub(r'[^a-z0-9_]', '', text)\n",
    "    text = re.sub(r'_{2,}', '_', text)\n",
    "    \n",
    "    return text\n",
    "\n",
    "def dl_video(query):\n",
    "    try:\n",
    "        yt = YouTube(query, 'ANDROID')\n",
    "        print(f'Downloading {yt.title}...')\n",
    "        \n",
    "        normalized_title = normalized_yt_title(yt.title)\n",
    "        \n",
    "        ys = yt.streams.get_audio_only()\n",
    "        ys.download(mp3=True, output_path='datasets/songs', filename=normalized_title)\n",
    "        \n",
    "        return f'datasets/songs/{normalized_title}.mp3'\n",
    "    except Exception as e:\n",
    "        print(e)\n",
    "        return None\n",
    "    "
   ]
  },
  {
   "cell_type": "code",
   "execution_count": 7,
   "metadata": {},
   "outputs": [
    {
     "name": "stderr",
     "output_type": "stream",
     "text": [
      "The ANDROID client requires PoToken to obtain functional streams, See more details at https://github.com/JuanBindez/pytubefix/pull/209\n",
      "The ANDROID client requires PoToken to obtain functional streams, See more details at https://github.com/JuanBindez/pytubefix/pull/209\n"
     ]
    },
    {
     "name": "stdout",
     "output_type": "stream",
     "text": [
      "Downloading KICIR KICIR - Lagu dan Tari Nusantara - Lagu Anak...\n"
     ]
    },
    {
     "name": "stderr",
     "output_type": "stream",
     "text": [
      "The ANDROID client requires PoToken to obtain functional streams, See more details at https://github.com/JuanBindez/pytubefix/pull/209\n",
      "The ANDROID client requires PoToken to obtain functional streams, See more details at https://github.com/JuanBindez/pytubefix/pull/209\n",
      "The ANDROID client requires PoToken to obtain functional streams, See more details at https://github.com/JuanBindez/pytubefix/pull/209\n",
      "The ANDROID client requires PoToken to obtain functional streams, See more details at https://github.com/JuanBindez/pytubefix/pull/209\n"
     ]
    },
    {
     "name": "stdout",
     "output_type": "stream",
     "text": [
      "Downloading KICIR KICIR | Lagu Daerah Jakarta (Betawi) | Diva bernyanyi | Diva The Series Official...\n",
      "Downloading Kicir Kicir Jakarta...\n"
     ]
    },
    {
     "name": "stderr",
     "output_type": "stream",
     "text": [
      "The ANDROID client requires PoToken to obtain functional streams, See more details at https://github.com/JuanBindez/pytubefix/pull/209\n",
      "The ANDROID client requires PoToken to obtain functional streams, See more details at https://github.com/JuanBindez/pytubefix/pull/209\n"
     ]
    },
    {
     "name": "stdout",
     "output_type": "stream",
     "text": [
      "Downloading ONDEL ONDEL | Lagu Daerah DKI Jakarta - Betawi | Budaya Indonesia | Dongeng Kita...\n"
     ]
    },
    {
     "name": "stderr",
     "output_type": "stream",
     "text": [
      "The ANDROID client requires PoToken to obtain functional streams, See more details at https://github.com/JuanBindez/pytubefix/pull/209\n",
      "The ANDROID client requires PoToken to obtain functional streams, See more details at https://github.com/JuanBindez/pytubefix/pull/209\n",
      "The ANDROID client requires PoToken to obtain functional streams, See more details at https://github.com/JuanBindez/pytubefix/pull/209\n",
      "The ANDROID client requires PoToken to obtain functional streams, See more details at https://github.com/JuanBindez/pytubefix/pull/209\n"
     ]
    },
    {
     "name": "stdout",
     "output_type": "stream",
     "text": [
      "Downloading ONDEL ONDEL 💞 LAGU DAERAH DKI JAKARTA | ONDEL ONDEL BETAWI REMIX...\n",
      "Downloading Lirik Lagu ONDEL ONDEL Benyamin Sueb | Lagu Betawi Asli | Lagu Daerah Provinsi DKI Jakarta...\n"
     ]
    },
    {
     "name": "stderr",
     "output_type": "stream",
     "text": [
      "The ANDROID client requires PoToken to obtain functional streams, See more details at https://github.com/JuanBindez/pytubefix/pull/209\n",
      "The ANDROID client requires PoToken to obtain functional streams, See more details at https://github.com/JuanBindez/pytubefix/pull/209\n"
     ]
    },
    {
     "name": "stdout",
     "output_type": "stream",
     "text": [
      "Downloading Lagu manuk dadali...\n"
     ]
    },
    {
     "name": "stderr",
     "output_type": "stream",
     "text": [
      "The ANDROID client requires PoToken to obtain functional streams, See more details at https://github.com/JuanBindez/pytubefix/pull/209\n",
      "The ANDROID client requires PoToken to obtain functional streams, See more details at https://github.com/JuanBindez/pytubefix/pull/209\n",
      "The ANDROID client requires PoToken to obtain functional streams, See more details at https://github.com/JuanBindez/pytubefix/pull/209\n",
      "The ANDROID client requires PoToken to obtain functional streams, See more details at https://github.com/JuanBindez/pytubefix/pull/209\n"
     ]
    },
    {
     "name": "stdout",
     "output_type": "stream",
     "text": [
      "Downloading Aty Surya - Manuk Dadali...\n",
      "Downloading Lagu Daerah Manuk Dadali dan Lirik \"Apa Ya Makna Lagu Daerah Kita?\"...\n"
     ]
    }
   ],
   "source": [
    "dl_res = []\n",
    "\n",
    "for index, row in data.iterrows():\n",
    "    # search for songs with the name and region keywords\n",
    "    keyword = f\"{row['nama']} asal {row['daerah']}\"\n",
    "    searched_songs = search_yt(keyword)\n",
    "    \n",
    "    # loop through the search results\n",
    "    for song in searched_songs:\n",
    "        # display(song['duration'])\n",
    "        if float(song['duration']) <= 5:\n",
    "            # download the video using dl_video function\n",
    "            path = dl_video(song['url'])\n",
    "            \n",
    "            # append the result to dl_res list\n",
    "            dl_res.append({\n",
    "                'title': song['title'],\n",
    "                'region': row['daerah'],\n",
    "                'keyword': f\"{row['nama']} asal {row['daerah']}\",\n",
    "                'duration': float(song['duration']),\n",
    "                'url': song['url'],\n",
    "                'path': path\n",
    "            })\n",
    "        else:\n",
    "            print(f\"Duration of {song['title']} is too long\")\n",
    "        "
   ]
  },
  {
   "cell_type": "markdown",
   "metadata": {},
   "source": [
    "### Save list of songs to csv"
   ]
  },
  {
   "cell_type": "code",
   "execution_count": 8,
   "metadata": {},
   "outputs": [],
   "source": [
    "df = pd.DataFrame(dl_res)\n",
    "\n",
    "df.to_csv('data/results.csv', sep=';', index=False)"
   ]
  },
  {
   "cell_type": "markdown",
   "metadata": {},
   "source": [
    "### Convert to wav format"
   ]
  },
  {
   "cell_type": "code",
   "execution_count": 11,
   "metadata": {},
   "outputs": [],
   "source": [
    "import os\n",
    "import subprocess\n",
    "\n",
    "os.makedirs('datasets/wav_songs', exist_ok=True)\n",
    "\n",
    "def convert_to_wav(path):\n",
    "    if path is None:\n",
    "        print(f'File is not found: {path}')\n",
    "        return None\n",
    "    try:\n",
    "        # path = path\n",
    "        wav_path = path.replace('songs', 'wav_songs').replace('.mp3', '.wav')\n",
    "        \n",
    "        if os.path.exists(wav_path):\n",
    "            return wav_path\n",
    "        \n",
    "        print(f'Converting {path} to:\\n{wav_path}')\n",
    "        subprocess.run(['ffmpeg', '-i', path, wav_path], stdout=subprocess.PIPE, stderr=subprocess.PIPE)\n",
    "        \n",
    "        return wav_path\n",
    "    except Exception as e:\n",
    "        print(e)\n",
    "        return None"
   ]
  },
  {
   "cell_type": "code",
   "execution_count": 12,
   "metadata": {},
   "outputs": [
    {
     "name": "stdout",
     "output_type": "stream",
     "text": [
      "Converting datasets/songs/lirik_lagu_ondel_ondel_benyamin_sueb_lagu_betawi_asli_lagu_daerah_provinsi_dki_jakarta.mp3 to:\n",
      "datasets/wav_songs/lirik_lagu_ondel_ondel_benyamin_sueb_lagu_betawi_asli_lagu_daerah_provinsi_dki_jakarta.wav\n",
      "Converting datasets/songs/lagu_manuk_dadali.mp3 to:\n",
      "datasets/wav_songs/lagu_manuk_dadali.wav\n"
     ]
    }
   ],
   "source": [
    "df['wav_path'] = df['path'].apply(convert_to_wav)"
   ]
  },
  {
   "cell_type": "code",
   "execution_count": 14,
   "metadata": {},
   "outputs": [],
   "source": [
    "df.head()\n",
    "\n",
    "df.to_csv('data/results_wav.csv', sep=';', index=False)"
   ]
  },
  {
   "cell_type": "code",
   "execution_count": null,
   "metadata": {},
   "outputs": [],
   "source": []
  }
 ],
 "metadata": {
  "kernelspec": {
   "display_name": "Python 3",
   "language": "python",
   "name": "python3"
  },
  "language_info": {
   "codemirror_mode": {
    "name": "ipython",
    "version": 3
   },
   "file_extension": ".py",
   "mimetype": "text/x-python",
   "name": "python",
   "nbconvert_exporter": "python",
   "pygments_lexer": "ipython3",
   "version": "3.10.12"
  }
 },
 "nbformat": 4,
 "nbformat_minor": 2
}
