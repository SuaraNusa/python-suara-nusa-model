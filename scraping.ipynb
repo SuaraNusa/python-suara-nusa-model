{
 "cells": [
  {
   "cell_type": "code",
   "execution_count": 88,
   "metadata": {},
   "outputs": [],
   "source": [
    "import pandas as pd\n",
    "from youtube_search import YoutubeSearch\n",
    "from pytubefix import YouTube\n",
    "import re"
   ]
  },
  {
   "cell_type": "markdown",
   "metadata": {},
   "source": [
    "### Load Scrapping Result"
   ]
  },
  {
   "cell_type": "code",
   "execution_count": 89,
   "metadata": {},
   "outputs": [
    {
     "data": {
      "text/html": [
       "<div>\n",
       "<style scoped>\n",
       "    .dataframe tbody tr th:only-of-type {\n",
       "        vertical-align: middle;\n",
       "    }\n",
       "\n",
       "    .dataframe tbody tr th {\n",
       "        vertical-align: top;\n",
       "    }\n",
       "\n",
       "    .dataframe thead th {\n",
       "        text-align: right;\n",
       "    }\n",
       "</style>\n",
       "<table border=\"1\" class=\"dataframe\">\n",
       "  <thead>\n",
       "    <tr style=\"text-align: right;\">\n",
       "      <th></th>\n",
       "      <th>nama</th>\n",
       "      <th>daerah</th>\n",
       "      <th>keyword</th>\n",
       "      <th>lirik</th>\n",
       "    </tr>\n",
       "  </thead>\n",
       "  <tbody>\n",
       "    <tr>\n",
       "      <th>0</th>\n",
       "      <td>Kicir-Kicir</td>\n",
       "      <td>Jakarta</td>\n",
       "      <td>jakarta</td>\n",
       "      <td>NaN</td>\n",
       "    </tr>\n",
       "    <tr>\n",
       "      <th>1</th>\n",
       "      <td>Ondel Ondel</td>\n",
       "      <td>jakarta</td>\n",
       "      <td>Jakarta</td>\n",
       "      <td>NaN</td>\n",
       "    </tr>\n",
       "    <tr>\n",
       "      <th>2</th>\n",
       "      <td>Manuk Dadali</td>\n",
       "      <td>jawa barat</td>\n",
       "      <td>jawa barat</td>\n",
       "      <td>NaN</td>\n",
       "    </tr>\n",
       "  </tbody>\n",
       "</table>\n",
       "</div>"
      ],
      "text/plain": [
       "           nama      daerah     keyword  lirik\n",
       "0   Kicir-Kicir     Jakarta     jakarta    NaN\n",
       "1   Ondel Ondel     jakarta     Jakarta    NaN\n",
       "2  Manuk Dadali  jawa barat  jawa barat    NaN"
      ]
     },
     "execution_count": 89,
     "metadata": {},
     "output_type": "execute_result"
    }
   ],
   "source": [
    "data = pd.read_csv('data/data.csv', sep=';')\n",
    "\n",
    "data.head()"
   ]
  },
  {
   "cell_type": "markdown",
   "metadata": {},
   "source": [
    "### Search and Download Music Function"
   ]
  },
  {
   "cell_type": "code",
   "execution_count": 90,
   "metadata": {},
   "outputs": [],
   "source": [
    "def search_yt(query):\n",
    "    results = YoutubeSearch(query, max_results=3).to_dict()\n",
    "\n",
    "    for i in range(len(results)):\n",
    "        results[i]['url'] = 'https://www.youtube.com' + results[i]['url_suffix']\n",
    "        \n",
    "    return results\n",
    "\n",
    "def normalized_yt_title(title):\n",
    "    text = title.lower()\n",
    "    text = text.replace(' ', '_')\n",
    "    text = re.sub(r'[^a-z0-9_]', '', text)\n",
    "    text = re.sub(r'_{2,}', '_', text)\n",
    "    \n",
    "    return text\n",
    "\n",
    "def dl_video(query):\n",
    "    try:\n",
    "        yt = YouTube(query, 'MWEB')\n",
    "        print(f'Downloading {yt.title}...')\n",
    "        \n",
    "        normalized_title = normalized_yt_title(yt.title)\n",
    "        \n",
    "        ys = yt.streams.get_audio_only()\n",
    "        ys.download(mp3=True, output_path='songs', filename=normalized_title)\n",
    "        \n",
    "        return f'/songs/{normalized_title}.mp3'\n",
    "    except Exception as e:\n",
    "        print(e)\n",
    "        return None\n",
    "    "
   ]
  },
  {
   "cell_type": "code",
   "execution_count": 91,
   "metadata": {},
   "outputs": [
    {
     "name": "stdout",
     "output_type": "stream",
     "text": [
      "Downloading KICIR KICIR | Lagu Daerah DKI Jakarta - Betawi | Budaya Indonesia | Dongeng Kita...\n",
      "Downloading KARAOKE KICIR KICIR    Lagu Daerah Jakarta...\n",
      "Downloading Kicir Kicir (Lagu Daerah Betawi)...\n",
      "Downloading ONDEL ONDEL | Lagu Daerah DKI Jakarta - Betawi | Budaya Indonesia | Dongeng Kita...\n",
      "Downloading ONDEL ONDEL 💞 LAGU DAERAH DKI JAKARTA | ONDEL ONDEL BETAWI REMIX...\n",
      "Downloading Sejarah Asal Muasal Nama ONDEL - ONDEL...\n",
      "Downloading Lirik Lagu manuk Dadali...\n",
      "Downloading Tari Manuk Dadali-Jawa Barat || \"Keragaman Budaya Indonesia\" XI IPS 4...\n",
      "Downloading Aty Surya - Manuk Dadali...\n"
     ]
    }
   ],
   "source": [
    "results = []\n",
    "\n",
    "for index, row in data.iterrows():\n",
    "    songs = search_yt(f\"{row['nama']} asal {row['daerah']}\")\n",
    "    \n",
    "    result_entry = {\n",
    "        'nama': row['nama'],\n",
    "        'daerah': row['daerah'],\n",
    "        'keyword': row['keyword'],\n",
    "        'songs': []\n",
    "    }\n",
    "\n",
    "    for song in songs:\n",
    "        path = dl_video(song['url'])\n",
    "        result_entry['songs'].append({\n",
    "            'title': song['title'],\n",
    "            'url': song['url'],\n",
    "            'path': path\n",
    "        })\n",
    "    \n",
    "    results.append(result_entry)\n"
   ]
  },
  {
   "cell_type": "markdown",
   "metadata": {},
   "source": [
    "### Data Selection"
   ]
  },
  {
   "cell_type": "code",
   "execution_count": 92,
   "metadata": {},
   "outputs": [],
   "source": [
    "df = pd.DataFrame(results)\n",
    "df_songs = pd.DataFrame([song for result in results for song in result['songs']])"
   ]
  },
  {
   "cell_type": "code",
   "execution_count": 93,
   "metadata": {},
   "outputs": [
    {
     "data": {
      "text/html": [
       "<div>\n",
       "<style scoped>\n",
       "    .dataframe tbody tr th:only-of-type {\n",
       "        vertical-align: middle;\n",
       "    }\n",
       "\n",
       "    .dataframe tbody tr th {\n",
       "        vertical-align: top;\n",
       "    }\n",
       "\n",
       "    .dataframe thead th {\n",
       "        text-align: right;\n",
       "    }\n",
       "</style>\n",
       "<table border=\"1\" class=\"dataframe\">\n",
       "  <thead>\n",
       "    <tr style=\"text-align: right;\">\n",
       "      <th></th>\n",
       "      <th>title</th>\n",
       "      <th>url</th>\n",
       "      <th>path</th>\n",
       "    </tr>\n",
       "  </thead>\n",
       "  <tbody>\n",
       "    <tr>\n",
       "      <th>0</th>\n",
       "      <td>KICIR KICIR | Lagu Daerah DKI Jakarta - Betawi...</td>\n",
       "      <td>https://www.youtube.com/watch?v=lhZf7qGZzsE&amp;pp...</td>\n",
       "      <td>/songs/kicir_kicir_lagu_daerah_dki_jakarta_bet...</td>\n",
       "    </tr>\n",
       "    <tr>\n",
       "      <th>1</th>\n",
       "      <td>KARAOKE KICIR KICIR    Lagu Daerah Jakarta</td>\n",
       "      <td>https://www.youtube.com/watch?v=nbO8hjzAN20&amp;pp...</td>\n",
       "      <td>/songs/karaoke_kicir_kicir_lagu_daerah_jakarta...</td>\n",
       "    </tr>\n",
       "    <tr>\n",
       "      <th>2</th>\n",
       "      <td>Kicir Kicir (Lagu Daerah Betawi)</td>\n",
       "      <td>https://www.youtube.com/watch?v=CcFbCjM2jsM&amp;pp...</td>\n",
       "      <td>/songs/kicir_kicir_lagu_daerah_betawi.mp3</td>\n",
       "    </tr>\n",
       "    <tr>\n",
       "      <th>3</th>\n",
       "      <td>ONDEL ONDEL | Lagu Daerah DKI Jakarta - Betawi...</td>\n",
       "      <td>https://www.youtube.com/watch?v=wardyOl-EHo&amp;pp...</td>\n",
       "      <td>/songs/ondel_ondel_lagu_daerah_dki_jakarta_bet...</td>\n",
       "    </tr>\n",
       "    <tr>\n",
       "      <th>4</th>\n",
       "      <td>ONDEL ONDEL 💞 LAGU DAERAH DKI JAKARTA | ONDEL ...</td>\n",
       "      <td>https://www.youtube.com/watch?v=_X39qcf41ZU&amp;pp...</td>\n",
       "      <td>/songs/ondel_ondel_lagu_daerah_dki_jakarta_ond...</td>\n",
       "    </tr>\n",
       "  </tbody>\n",
       "</table>\n",
       "</div>"
      ],
      "text/plain": [
       "                                               title  \\\n",
       "0  KICIR KICIR | Lagu Daerah DKI Jakarta - Betawi...   \n",
       "1         KARAOKE KICIR KICIR    Lagu Daerah Jakarta   \n",
       "2                   Kicir Kicir (Lagu Daerah Betawi)   \n",
       "3  ONDEL ONDEL | Lagu Daerah DKI Jakarta - Betawi...   \n",
       "4  ONDEL ONDEL 💞 LAGU DAERAH DKI JAKARTA | ONDEL ...   \n",
       "\n",
       "                                                 url  \\\n",
       "0  https://www.youtube.com/watch?v=lhZf7qGZzsE&pp...   \n",
       "1  https://www.youtube.com/watch?v=nbO8hjzAN20&pp...   \n",
       "2  https://www.youtube.com/watch?v=CcFbCjM2jsM&pp...   \n",
       "3  https://www.youtube.com/watch?v=wardyOl-EHo&pp...   \n",
       "4  https://www.youtube.com/watch?v=_X39qcf41ZU&pp...   \n",
       "\n",
       "                                                path  \n",
       "0  /songs/kicir_kicir_lagu_daerah_dki_jakarta_bet...  \n",
       "1  /songs/karaoke_kicir_kicir_lagu_daerah_jakarta...  \n",
       "2          /songs/kicir_kicir_lagu_daerah_betawi.mp3  \n",
       "3  /songs/ondel_ondel_lagu_daerah_dki_jakarta_bet...  \n",
       "4  /songs/ondel_ondel_lagu_daerah_dki_jakarta_ond...  "
      ]
     },
     "execution_count": 93,
     "metadata": {},
     "output_type": "execute_result"
    }
   ],
   "source": [
    "df_songs.head()"
   ]
  },
  {
   "cell_type": "code",
   "execution_count": 94,
   "metadata": {},
   "outputs": [],
   "source": [
    "import os\n",
    "\n",
    "def convert_path(path):\n",
    "    if path is None:\n",
    "        return None\n",
    "    return str(os.path.abspath(path))\n",
    "\n",
    "df_songs['path'] = df_songs['path'].apply(convert_path)"
   ]
  },
  {
   "cell_type": "code",
   "execution_count": 95,
   "metadata": {},
   "outputs": [
    {
     "data": {
      "text/html": [
       "<div>\n",
       "<style scoped>\n",
       "    .dataframe tbody tr th:only-of-type {\n",
       "        vertical-align: middle;\n",
       "    }\n",
       "\n",
       "    .dataframe tbody tr th {\n",
       "        vertical-align: top;\n",
       "    }\n",
       "\n",
       "    .dataframe thead th {\n",
       "        text-align: right;\n",
       "    }\n",
       "</style>\n",
       "<table border=\"1\" class=\"dataframe\">\n",
       "  <thead>\n",
       "    <tr style=\"text-align: right;\">\n",
       "      <th></th>\n",
       "      <th>title</th>\n",
       "      <th>url</th>\n",
       "      <th>path</th>\n",
       "    </tr>\n",
       "  </thead>\n",
       "  <tbody>\n",
       "    <tr>\n",
       "      <th>0</th>\n",
       "      <td>KICIR KICIR | Lagu Daerah DKI Jakarta - Betawi...</td>\n",
       "      <td>https://www.youtube.com/watch?v=lhZf7qGZzsE&amp;pp...</td>\n",
       "      <td>c:\\songs\\kicir_kicir_lagu_daerah_dki_jakarta_b...</td>\n",
       "    </tr>\n",
       "    <tr>\n",
       "      <th>1</th>\n",
       "      <td>KARAOKE KICIR KICIR    Lagu Daerah Jakarta</td>\n",
       "      <td>https://www.youtube.com/watch?v=nbO8hjzAN20&amp;pp...</td>\n",
       "      <td>c:\\songs\\karaoke_kicir_kicir_lagu_daerah_jakar...</td>\n",
       "    </tr>\n",
       "    <tr>\n",
       "      <th>2</th>\n",
       "      <td>Kicir Kicir (Lagu Daerah Betawi)</td>\n",
       "      <td>https://www.youtube.com/watch?v=CcFbCjM2jsM&amp;pp...</td>\n",
       "      <td>c:\\songs\\kicir_kicir_lagu_daerah_betawi.mp3</td>\n",
       "    </tr>\n",
       "    <tr>\n",
       "      <th>3</th>\n",
       "      <td>ONDEL ONDEL | Lagu Daerah DKI Jakarta - Betawi...</td>\n",
       "      <td>https://www.youtube.com/watch?v=wardyOl-EHo&amp;pp...</td>\n",
       "      <td>c:\\songs\\ondel_ondel_lagu_daerah_dki_jakarta_b...</td>\n",
       "    </tr>\n",
       "    <tr>\n",
       "      <th>4</th>\n",
       "      <td>ONDEL ONDEL 💞 LAGU DAERAH DKI JAKARTA | ONDEL ...</td>\n",
       "      <td>https://www.youtube.com/watch?v=_X39qcf41ZU&amp;pp...</td>\n",
       "      <td>c:\\songs\\ondel_ondel_lagu_daerah_dki_jakarta_o...</td>\n",
       "    </tr>\n",
       "  </tbody>\n",
       "</table>\n",
       "</div>"
      ],
      "text/plain": [
       "                                               title  \\\n",
       "0  KICIR KICIR | Lagu Daerah DKI Jakarta - Betawi...   \n",
       "1         KARAOKE KICIR KICIR    Lagu Daerah Jakarta   \n",
       "2                   Kicir Kicir (Lagu Daerah Betawi)   \n",
       "3  ONDEL ONDEL | Lagu Daerah DKI Jakarta - Betawi...   \n",
       "4  ONDEL ONDEL 💞 LAGU DAERAH DKI JAKARTA | ONDEL ...   \n",
       "\n",
       "                                                 url  \\\n",
       "0  https://www.youtube.com/watch?v=lhZf7qGZzsE&pp...   \n",
       "1  https://www.youtube.com/watch?v=nbO8hjzAN20&pp...   \n",
       "2  https://www.youtube.com/watch?v=CcFbCjM2jsM&pp...   \n",
       "3  https://www.youtube.com/watch?v=wardyOl-EHo&pp...   \n",
       "4  https://www.youtube.com/watch?v=_X39qcf41ZU&pp...   \n",
       "\n",
       "                                                path  \n",
       "0  c:\\songs\\kicir_kicir_lagu_daerah_dki_jakarta_b...  \n",
       "1  c:\\songs\\karaoke_kicir_kicir_lagu_daerah_jakar...  \n",
       "2        c:\\songs\\kicir_kicir_lagu_daerah_betawi.mp3  \n",
       "3  c:\\songs\\ondel_ondel_lagu_daerah_dki_jakarta_b...  \n",
       "4  c:\\songs\\ondel_ondel_lagu_daerah_dki_jakarta_o...  "
      ]
     },
     "execution_count": 95,
     "metadata": {},
     "output_type": "execute_result"
    }
   ],
   "source": [
    "df_songs.head()"
   ]
  },
  {
   "cell_type": "code",
   "execution_count": 96,
   "metadata": {},
   "outputs": [],
   "source": [
    "#remove the first three character of path\n",
    "def remove_first_three(path):\n",
    "    if path is None:\n",
    "        return None\n",
    "    return path[3:]\n",
    "\n",
    "df_songs['path'] = df_songs['path'].apply(remove_first_three)"
   ]
  },
  {
   "cell_type": "code",
   "execution_count": 97,
   "metadata": {},
   "outputs": [
    {
     "data": {
      "text/html": [
       "<div>\n",
       "<style scoped>\n",
       "    .dataframe tbody tr th:only-of-type {\n",
       "        vertical-align: middle;\n",
       "    }\n",
       "\n",
       "    .dataframe tbody tr th {\n",
       "        vertical-align: top;\n",
       "    }\n",
       "\n",
       "    .dataframe thead th {\n",
       "        text-align: right;\n",
       "    }\n",
       "</style>\n",
       "<table border=\"1\" class=\"dataframe\">\n",
       "  <thead>\n",
       "    <tr style=\"text-align: right;\">\n",
       "      <th></th>\n",
       "      <th>title</th>\n",
       "      <th>url</th>\n",
       "      <th>path</th>\n",
       "    </tr>\n",
       "  </thead>\n",
       "  <tbody>\n",
       "    <tr>\n",
       "      <th>0</th>\n",
       "      <td>KICIR KICIR | Lagu Daerah DKI Jakarta - Betawi...</td>\n",
       "      <td>https://www.youtube.com/watch?v=lhZf7qGZzsE&amp;pp...</td>\n",
       "      <td>songs\\kicir_kicir_lagu_daerah_dki_jakarta_beta...</td>\n",
       "    </tr>\n",
       "    <tr>\n",
       "      <th>1</th>\n",
       "      <td>KARAOKE KICIR KICIR    Lagu Daerah Jakarta</td>\n",
       "      <td>https://www.youtube.com/watch?v=nbO8hjzAN20&amp;pp...</td>\n",
       "      <td>songs\\karaoke_kicir_kicir_lagu_daerah_jakarta.mp3</td>\n",
       "    </tr>\n",
       "    <tr>\n",
       "      <th>2</th>\n",
       "      <td>Kicir Kicir (Lagu Daerah Betawi)</td>\n",
       "      <td>https://www.youtube.com/watch?v=CcFbCjM2jsM&amp;pp...</td>\n",
       "      <td>songs\\kicir_kicir_lagu_daerah_betawi.mp3</td>\n",
       "    </tr>\n",
       "    <tr>\n",
       "      <th>3</th>\n",
       "      <td>ONDEL ONDEL | Lagu Daerah DKI Jakarta - Betawi...</td>\n",
       "      <td>https://www.youtube.com/watch?v=wardyOl-EHo&amp;pp...</td>\n",
       "      <td>songs\\ondel_ondel_lagu_daerah_dki_jakarta_beta...</td>\n",
       "    </tr>\n",
       "    <tr>\n",
       "      <th>4</th>\n",
       "      <td>ONDEL ONDEL 💞 LAGU DAERAH DKI JAKARTA | ONDEL ...</td>\n",
       "      <td>https://www.youtube.com/watch?v=_X39qcf41ZU&amp;pp...</td>\n",
       "      <td>songs\\ondel_ondel_lagu_daerah_dki_jakarta_onde...</td>\n",
       "    </tr>\n",
       "  </tbody>\n",
       "</table>\n",
       "</div>"
      ],
      "text/plain": [
       "                                               title  \\\n",
       "0  KICIR KICIR | Lagu Daerah DKI Jakarta - Betawi...   \n",
       "1         KARAOKE KICIR KICIR    Lagu Daerah Jakarta   \n",
       "2                   Kicir Kicir (Lagu Daerah Betawi)   \n",
       "3  ONDEL ONDEL | Lagu Daerah DKI Jakarta - Betawi...   \n",
       "4  ONDEL ONDEL 💞 LAGU DAERAH DKI JAKARTA | ONDEL ...   \n",
       "\n",
       "                                                 url  \\\n",
       "0  https://www.youtube.com/watch?v=lhZf7qGZzsE&pp...   \n",
       "1  https://www.youtube.com/watch?v=nbO8hjzAN20&pp...   \n",
       "2  https://www.youtube.com/watch?v=CcFbCjM2jsM&pp...   \n",
       "3  https://www.youtube.com/watch?v=wardyOl-EHo&pp...   \n",
       "4  https://www.youtube.com/watch?v=_X39qcf41ZU&pp...   \n",
       "\n",
       "                                                path  \n",
       "0  songs\\kicir_kicir_lagu_daerah_dki_jakarta_beta...  \n",
       "1  songs\\karaoke_kicir_kicir_lagu_daerah_jakarta.mp3  \n",
       "2           songs\\kicir_kicir_lagu_daerah_betawi.mp3  \n",
       "3  songs\\ondel_ondel_lagu_daerah_dki_jakarta_beta...  \n",
       "4  songs\\ondel_ondel_lagu_daerah_dki_jakarta_onde...  "
      ]
     },
     "execution_count": 97,
     "metadata": {},
     "output_type": "execute_result"
    }
   ],
   "source": [
    "df_songs.head()"
   ]
  },
  {
   "cell_type": "markdown",
   "metadata": {},
   "source": [
    "### Mengubah MP3 menjadi WAV"
   ]
  },
  {
   "cell_type": "code",
   "execution_count": 104,
   "metadata": {},
   "outputs": [],
   "source": [
    "# # mengubah mp3 menjadi wav\n",
    "# import pydub\n",
    "# from pydub import AudioSegment\n",
    "\n",
    "# def mp3_to_wav(path):\n",
    "#     if path is None:\n",
    "#         return None\n",
    "#     try:\n",
    "#         sound = AudioSegment.from_mp3(path)\n",
    "#         path = path.replace('.mp3', '.wav')\n",
    "#         sound.export(path, format='wav')\n",
    "#         return path\n",
    "#     except Exception as e:\n",
    "#         print(e)\n",
    "#         return None"
   ]
  },
  {
   "cell_type": "code",
   "execution_count": 105,
   "metadata": {},
   "outputs": [
    {
     "name": "stderr",
     "output_type": "stream",
     "text": [
      "C:\\Users\\MSI\\AppData\\Local\\Packages\\PythonSoftwareFoundation.Python.3.11_qbz5n2kfra8p0\\LocalCache\\local-packages\\Python311\\site-packages\\pydub\\utils.py:198: RuntimeWarning: Couldn't find ffprobe or avprobe - defaulting to ffprobe, but may not work\n",
      "  warn(\"Couldn't find ffprobe or avprobe - defaulting to ffprobe, but may not work\", RuntimeWarning)\n"
     ]
    },
    {
     "name": "stdout",
     "output_type": "stream",
     "text": [
      "[WinError 2] The system cannot find the file specified\n",
      "[WinError 2] The system cannot find the file specified\n",
      "[WinError 2] The system cannot find the file specified\n",
      "[WinError 2] The system cannot find the file specified\n",
      "[WinError 2] The system cannot find the file specified\n",
      "[WinError 2] The system cannot find the file specified\n",
      "[WinError 2] The system cannot find the file specified\n",
      "[WinError 2] The system cannot find the file specified\n",
      "[WinError 2] The system cannot find the file specified\n"
     ]
    }
   ],
   "source": [
    "# df_songs['path'] = df_songs['path'].apply(mp3_to_wav)"
   ]
  },
  {
   "cell_type": "markdown",
   "metadata": {},
   "source": [
    "#### Durasi Lagu\n",
    "Masih error, path harus seperti ini:\n",
    "`songs\\senam kicir kicir lomba 2024.mp3`"
   ]
  },
  {
   "cell_type": "code",
   "execution_count": 103,
   "metadata": {},
   "outputs": [
    {
     "name": "stdout",
     "output_type": "stream",
     "text": [
      "Error processing songs\\kicir_kicir_lagu_daerah_dki_jakarta_betawi_budaya_indonesia_dongeng_kita.mp3: [WinError 2] The system cannot find the file specified\n",
      "Error processing songs\\karaoke_kicir_kicir_lagu_daerah_jakarta.mp3: [WinError 2] The system cannot find the file specified\n",
      "Error processing songs\\kicir_kicir_lagu_daerah_betawi.mp3: [WinError 2] The system cannot find the file specified\n",
      "Error processing songs\\ondel_ondel_lagu_daerah_dki_jakarta_betawi_budaya_indonesia_dongeng_kita.mp3: [WinError 2] The system cannot find the file specified\n",
      "Error processing songs\\ondel_ondel_lagu_daerah_dki_jakarta_ondel_ondel_betawi_remix.mp3: [WinError 2] The system cannot find the file specified\n",
      "Error processing songs\\sejarah_asal_muasal_nama_ondel_ondel.mp3: [WinError 2] The system cannot find the file specified\n",
      "Error processing songs\\lirik_lagu_manuk_dadali.mp3: [WinError 2] The system cannot find the file specified\n",
      "Error processing songs\\tari_manuk_dadalijawa_barat_keragaman_budaya_indonesia_xi_ips_4.mp3: [WinError 2] The system cannot find the file specified\n",
      "Error processing songs\\aty_surya_manuk_dadali.mp3: [WinError 2] The system cannot find the file specified\n"
     ]
    },
    {
     "name": "stderr",
     "output_type": "stream",
     "text": [
      "C:\\Users\\MSI\\AppData\\Local\\Packages\\PythonSoftwareFoundation.Python.3.11_qbz5n2kfra8p0\\LocalCache\\local-packages\\Python311\\site-packages\\pydub\\utils.py:198: RuntimeWarning: Couldn't find ffprobe or avprobe - defaulting to ffprobe, but may not work\n",
      "  warn(\"Couldn't find ffprobe or avprobe - defaulting to ffprobe, but may not work\", RuntimeWarning)\n"
     ]
    }
   ],
   "source": [
    "from pydub import AudioSegment\n",
    "from pydub.utils import which\n",
    "AudioSegment.converter = which(\"ffmpeg\")\n",
    "\n",
    "list_songs = []\n",
    "\n",
    "for row in df_songs.iterrows():\n",
    "    path = row[1]['path']\n",
    "    if path is None:\n",
    "        continue\n",
    "    try:\n",
    "        audio = AudioSegment.from_file(path)\n",
    "        print(f'Processing {path}...')\n",
    "        list_songs.append({\n",
    "            'title': row[1]['title'],\n",
    "            'path': path,\n",
    "            'duration': len(audio) / 1000  # Duration in seconds\n",
    "        })\n",
    "    except Exception as e:\n",
    "        print(f\"Error processing {path}: {e}\")\n",
    "        continue"
   ]
  },
  {
   "cell_type": "code",
   "execution_count": 102,
   "metadata": {},
   "outputs": [
    {
     "data": {
      "text/html": [
       "<div>\n",
       "<style scoped>\n",
       "    .dataframe tbody tr th:only-of-type {\n",
       "        vertical-align: middle;\n",
       "    }\n",
       "\n",
       "    .dataframe tbody tr th {\n",
       "        vertical-align: top;\n",
       "    }\n",
       "\n",
       "    .dataframe thead th {\n",
       "        text-align: right;\n",
       "    }\n",
       "</style>\n",
       "<table border=\"1\" class=\"dataframe\">\n",
       "  <thead>\n",
       "    <tr style=\"text-align: right;\">\n",
       "      <th></th>\n",
       "    </tr>\n",
       "  </thead>\n",
       "  <tbody>\n",
       "  </tbody>\n",
       "</table>\n",
       "</div>"
      ],
      "text/plain": [
       "Empty DataFrame\n",
       "Columns: []\n",
       "Index: []"
      ]
     },
     "execution_count": 102,
     "metadata": {},
     "output_type": "execute_result"
    }
   ],
   "source": [
    "df_list_songs = pd.DataFrame(list_songs)\n",
    "df_list_songs"
   ]
  },
  {
   "cell_type": "code",
   "execution_count": null,
   "metadata": {},
   "outputs": [],
   "source": []
  }
 ],
 "metadata": {
  "kernelspec": {
   "display_name": "Python 3",
   "language": "python",
   "name": "python3"
  },
  "language_info": {
   "codemirror_mode": {
    "name": "ipython",
    "version": 3
   },
   "file_extension": ".py",
   "mimetype": "text/x-python",
   "name": "python",
   "nbconvert_exporter": "python",
   "pygments_lexer": "ipython3",
   "version": "3.11.9"
  }
 },
 "nbformat": 4,
 "nbformat_minor": 2
}
