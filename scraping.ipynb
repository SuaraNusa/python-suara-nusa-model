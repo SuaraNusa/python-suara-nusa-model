{
 "cells": [
  {
   "cell_type": "code",
   "execution_count": 16,
   "metadata": {},
   "outputs": [],
   "source": [
    "import pandas as pd\n",
    "from youtube_search import YoutubeSearch\n",
    "from pytubefix import YouTube\n",
    "import re\n",
    "import os"
   ]
  },
  {
   "cell_type": "markdown",
   "metadata": {},
   "source": [
    "### Load Scrapping Result"
   ]
  },
  {
   "cell_type": "code",
   "execution_count": 17,
   "metadata": {},
   "outputs": [
    {
     "name": "stdout",
     "output_type": "stream",
     "text": [
      "Index(['No', 'Nama Lagu', 'Asal Daerah'], dtype='object')\n"
     ]
    },
    {
     "data": {
      "text/html": [
       "<div>\n",
       "<style scoped>\n",
       "    .dataframe tbody tr th:only-of-type {\n",
       "        vertical-align: middle;\n",
       "    }\n",
       "\n",
       "    .dataframe tbody tr th {\n",
       "        vertical-align: top;\n",
       "    }\n",
       "\n",
       "    .dataframe thead th {\n",
       "        text-align: right;\n",
       "    }\n",
       "</style>\n",
       "<table border=\"1\" class=\"dataframe\">\n",
       "  <thead>\n",
       "    <tr style=\"text-align: right;\">\n",
       "      <th></th>\n",
       "      <th>No</th>\n",
       "      <th>Nama Lagu</th>\n",
       "      <th>Asal Daerah</th>\n",
       "    </tr>\n",
       "  </thead>\n",
       "  <tbody>\n",
       "    <tr>\n",
       "      <th>0</th>\n",
       "      <td>1</td>\n",
       "      <td>Bungong Jeumpa</td>\n",
       "      <td>Aceh</td>\n",
       "    </tr>\n",
       "    <tr>\n",
       "      <th>1</th>\n",
       "      <td>2</td>\n",
       "      <td>Jambo – Jambo</td>\n",
       "      <td>Aceh</td>\n",
       "    </tr>\n",
       "    <tr>\n",
       "      <th>2</th>\n",
       "      <td>3</td>\n",
       "      <td>Lembah Alas</td>\n",
       "      <td>Aceh</td>\n",
       "    </tr>\n",
       "    <tr>\n",
       "      <th>3</th>\n",
       "      <td>4</td>\n",
       "      <td>Aceh Lon Sayang</td>\n",
       "      <td>Aceh</td>\n",
       "    </tr>\n",
       "    <tr>\n",
       "      <th>4</th>\n",
       "      <td>5</td>\n",
       "      <td>Tawar Sedenge</td>\n",
       "      <td>Aceh</td>\n",
       "    </tr>\n",
       "  </tbody>\n",
       "</table>\n",
       "</div>"
      ],
      "text/plain": [
       "   No        Nama Lagu Asal Daerah\n",
       "0   1   Bungong Jeumpa        Aceh\n",
       "1   2    Jambo – Jambo        Aceh\n",
       "2   3      Lembah Alas        Aceh\n",
       "3   4  Aceh Lon Sayang        Aceh\n",
       "4   5    Tawar Sedenge        Aceh"
      ]
     },
     "execution_count": 17,
     "metadata": {},
     "output_type": "execute_result"
    }
   ],
   "source": [
    "data = pd.read_csv('data/scrapping_result/lagu_daerah.csv', sep=',')\n",
    "\n",
    "print(data.columns)\n",
    "data.head()"
   ]
  },
  {
   "cell_type": "markdown",
   "metadata": {},
   "source": [
    "### Search and Download Music Function"
   ]
  },
  {
   "cell_type": "code",
   "execution_count": 10,
   "metadata": {},
   "outputs": [],
   "source": [
    "def search_yt(query):\n",
    "    results = YoutubeSearch(query, max_results=3).to_dict()\n",
    "\n",
    "    for i in range(len(results)):\n",
    "        results[i]['url'] = 'https://www.youtube.com' + results[i]['url_suffix']\n",
    "        \n",
    "    return results\n",
    "\n",
    "def normalized_yt_title(title):\n",
    "    text = title.lower()\n",
    "    text = text.replace(' ', '_')\n",
    "    text = re.sub(r'[^a-z0-9_]', '', text)\n",
    "    text = re.sub(r'_{2,}', '_', text)\n",
    "    \n",
    "    return text\n",
    "\n",
    "def dl_video(query):\n",
    "    try:\n",
    "        yt = YouTube(query, 'ANDROID')\n",
    "        print(f'Downloading {yt.title}...')\n",
    "        \n",
    "        normalized_title = normalized_yt_title(yt.title)\n",
    "        \n",
    "        ys = yt.streams.get_audio_only()\n",
    "        ys.download(mp3=True, output_path='datasets/songs', filename=normalized_title)\n",
    "        \n",
    "        return f'datasets/songs/{normalized_title}.mp3'\n",
    "    except Exception as e:\n",
    "        print(e)\n",
    "        return None"
   ]
  },
  {
   "cell_type": "code",
   "execution_count": 11,
   "metadata": {},
   "outputs": [
    {
     "name": "stderr",
     "output_type": "stream",
     "text": [
      "The ANDROID client requires PoToken to obtain functional streams, See more details at https://github.com/JuanBindez/pytubefix/pull/209\n",
      "The ANDROID client requires PoToken to obtain functional streams, See more details at https://github.com/JuanBindez/pytubefix/pull/209\n"
     ]
    },
    {
     "name": "stdout",
     "output_type": "stream",
     "text": [
      "Downloading Bungong Jeumpa | Lirik dan Terjemahan | Lagu Daerah Aceh | Dongeng Kita...\n"
     ]
    },
    {
     "name": "stderr",
     "output_type": "stream",
     "text": [
      "The ANDROID client requires PoToken to obtain functional streams, See more details at https://github.com/JuanBindez/pytubefix/pull/209\n",
      "The ANDROID client requires PoToken to obtain functional streams, See more details at https://github.com/JuanBindez/pytubefix/pull/209\n"
     ]
    },
    {
     "name": "stdout",
     "output_type": "stream",
     "text": [
      "Downloading Bungong Jeumpa - Putri Ariani Cover (Lagu Daerah Aceh)...\n"
     ]
    },
    {
     "name": "stderr",
     "output_type": "stream",
     "text": [
      "The ANDROID client requires PoToken to obtain functional streams, See more details at https://github.com/JuanBindez/pytubefix/pull/209\n",
      "The ANDROID client requires PoToken to obtain functional streams, See more details at https://github.com/JuanBindez/pytubefix/pull/209\n"
     ]
    },
    {
     "name": "stdout",
     "output_type": "stream",
     "text": [
      "Downloading Tari Bungong Jeumpa Aceh |Rumah Belajar Mawinsya...\n",
      "Duration of Jambo Jambo - Lagu Daerah Aceh (dengan Lirik) is too long\n"
     ]
    },
    {
     "name": "stderr",
     "output_type": "stream",
     "text": [
      "The ANDROID client requires PoToken to obtain functional streams, See more details at https://github.com/JuanBindez/pytubefix/pull/209\n",
      "The ANDROID client requires PoToken to obtain functional streams, See more details at https://github.com/JuanBindez/pytubefix/pull/209\n"
     ]
    },
    {
     "name": "stdout",
     "output_type": "stream",
     "text": [
      "Downloading Jambo - Safira Amalia (Official Music Video)...\n"
     ]
    },
    {
     "name": "stderr",
     "output_type": "stream",
     "text": [
      "The ANDROID client requires PoToken to obtain functional streams, See more details at https://github.com/JuanBindez/pytubefix/pull/209\n",
      "The ANDROID client requires PoToken to obtain functional streams, See more details at https://github.com/JuanBindez/pytubefix/pull/209\n"
     ]
    },
    {
     "name": "stdout",
     "output_type": "stream",
     "text": [
      "Downloading TARIAN ACEH JAMBO JAMBO...\n",
      "Duration of LAGU ALAS ACEH TENGGRA SANIMAH SULAI - LEMBAH ALAS is too long\n"
     ]
    },
    {
     "name": "stderr",
     "output_type": "stream",
     "text": [
      "The ANDROID client requires PoToken to obtain functional streams, See more details at https://github.com/JuanBindez/pytubefix/pull/209\n",
      "The ANDROID client requires PoToken to obtain functional streams, See more details at https://github.com/JuanBindez/pytubefix/pull/209\n"
     ]
    },
    {
     "name": "stdout",
     "output_type": "stream",
     "text": [
      "Downloading Lembah Alas - Lagu Daerah Aceh (dengan Lirik)...\n"
     ]
    },
    {
     "name": "stderr",
     "output_type": "stream",
     "text": [
      "The ANDROID client requires PoToken to obtain functional streams, See more details at https://github.com/JuanBindez/pytubefix/pull/209\n",
      "The ANDROID client requires PoToken to obtain functional streams, See more details at https://github.com/JuanBindez/pytubefix/pull/209\n"
     ]
    },
    {
     "name": "stdout",
     "output_type": "stream",
     "text": [
      "Downloading LEMBAH ALAS - LAGU DAERAH ACEH - Enjoy Pesona Musik Indonesia...\n"
     ]
    },
    {
     "name": "stderr",
     "output_type": "stream",
     "text": [
      "The ANDROID client requires PoToken to obtain functional streams, See more details at https://github.com/JuanBindez/pytubefix/pull/209\n",
      "The ANDROID client requires PoToken to obtain functional streams, See more details at https://github.com/JuanBindez/pytubefix/pull/209\n"
     ]
    },
    {
     "name": "stdout",
     "output_type": "stream",
     "text": [
      "Downloading Aceh Lon Sayang - Lagu Daerah Aceh (Lirik dan Terjemahan)...\n"
     ]
    },
    {
     "name": "stderr",
     "output_type": "stream",
     "text": [
      "The ANDROID client requires PoToken to obtain functional streams, See more details at https://github.com/JuanBindez/pytubefix/pull/209\n",
      "The ANDROID client requires PoToken to obtain functional streams, See more details at https://github.com/JuanBindez/pytubefix/pull/209\n"
     ]
    },
    {
     "name": "stdout",
     "output_type": "stream",
     "text": [
      "Downloading Lagu Aceh Lon Sayang - Lagu Daerah Aceh...\n"
     ]
    },
    {
     "name": "stderr",
     "output_type": "stream",
     "text": [
      "The ANDROID client requires PoToken to obtain functional streams, See more details at https://github.com/JuanBindez/pytubefix/pull/209\n",
      "The ANDROID client requires PoToken to obtain functional streams, See more details at https://github.com/JuanBindez/pytubefix/pull/209\n"
     ]
    },
    {
     "name": "stdout",
     "output_type": "stream",
     "text": [
      "Downloading Aceh Lon Sayang ( Lagu Aceh )...\n",
      "Duration of Video Lirik Lagu Daerah | Tawar Sedenge is too long\n",
      "Duration of Tawar Sedenge lirik is too long\n"
     ]
    },
    {
     "name": "stderr",
     "output_type": "stream",
     "text": [
      "The ANDROID client requires PoToken to obtain functional streams, See more details at https://github.com/JuanBindez/pytubefix/pull/209\n",
      "The ANDROID client requires PoToken to obtain functional streams, See more details at https://github.com/JuanBindez/pytubefix/pull/209\n"
     ]
    },
    {
     "name": "stdout",
     "output_type": "stream",
     "text": [
      "Downloading Tawar Sedenge - Lagu Wajib Aceh Tengah - AR. Moese - Orchestra...\n",
      "Duration of Rafli - Aneuk Yatim (Lirik) + Acoustic Minus One Vocals is too long\n",
      "Duration of Rafly Kande - Aneuk Yatim (Anak Yatim) is too long\n"
     ]
    },
    {
     "name": "stderr",
     "output_type": "stream",
     "text": [
      "The ANDROID client requires PoToken to obtain functional streams, See more details at https://github.com/JuanBindez/pytubefix/pull/209\n",
      "The ANDROID client requires PoToken to obtain functional streams, See more details at https://github.com/JuanBindez/pytubefix/pull/209\n"
     ]
    },
    {
     "name": "stdout",
     "output_type": "stream",
     "text": [
      "Downloading Tsunami Aceh Lagu Aneuk Yatim Vocal Rafly...\n"
     ]
    },
    {
     "name": "stderr",
     "output_type": "stream",
     "text": [
      "The ANDROID client requires PoToken to obtain functional streams, See more details at https://github.com/JuanBindez/pytubefix/pull/209\n",
      "The ANDROID client requires PoToken to obtain functional streams, See more details at https://github.com/JuanBindez/pytubefix/pull/209\n"
     ]
    },
    {
     "name": "stdout",
     "output_type": "stream",
     "text": [
      "Downloading Dewa Ayu...\n",
      "Duration of Tari Dewa Ayu Tari Paling UNIK dan Sakral Di Bali is too long\n"
     ]
    },
    {
     "name": "stderr",
     "output_type": "stream",
     "text": [
      "The ANDROID client requires PoToken to obtain functional streams, See more details at https://github.com/JuanBindez/pytubefix/pull/209\n",
      "The ANDROID client requires PoToken to obtain functional streams, See more details at https://github.com/JuanBindez/pytubefix/pull/209\n"
     ]
    },
    {
     "name": "stdout",
     "output_type": "stream",
     "text": [
      "Downloading Dewa Ayu  - Lagu Rakyat Bali...\n"
     ]
    },
    {
     "name": "stderr",
     "output_type": "stream",
     "text": [
      "The ANDROID client requires PoToken to obtain functional streams, See more details at https://github.com/JuanBindez/pytubefix/pull/209\n",
      "The ANDROID client requires PoToken to obtain functional streams, See more details at https://github.com/JuanBindez/pytubefix/pull/209\n"
     ]
    },
    {
     "name": "stdout",
     "output_type": "stream",
     "text": [
      "Downloading Video Lirik Lagu Daerah | Macepet-cepetan...\n"
     ]
    },
    {
     "name": "stderr",
     "output_type": "stream",
     "text": [
      "The ANDROID client requires PoToken to obtain functional streams, See more details at https://github.com/JuanBindez/pytubefix/pull/209\n",
      "The ANDROID client requires PoToken to obtain functional streams, See more details at https://github.com/JuanBindez/pytubefix/pull/209\n"
     ]
    },
    {
     "name": "stdout",
     "output_type": "stream",
     "text": [
      "Downloading Macepet cepetan // Lagu Daerah Bali...\n"
     ]
    },
    {
     "name": "stderr",
     "output_type": "stream",
     "text": [
      "The ANDROID client requires PoToken to obtain functional streams, See more details at https://github.com/JuanBindez/pytubefix/pull/209\n",
      "The ANDROID client requires PoToken to obtain functional streams, See more details at https://github.com/JuanBindez/pytubefix/pull/209\n"
     ]
    },
    {
     "name": "stdout",
     "output_type": "stream",
     "text": [
      "Downloading lagu rare bali \"macepet-cepetan\"...\n"
     ]
    },
    {
     "name": "stderr",
     "output_type": "stream",
     "text": [
      "The ANDROID client requires PoToken to obtain functional streams, See more details at https://github.com/JuanBindez/pytubefix/pull/209\n",
      "The ANDROID client requires PoToken to obtain functional streams, See more details at https://github.com/JuanBindez/pytubefix/pull/209\n"
     ]
    },
    {
     "name": "stdout",
     "output_type": "stream",
     "text": [
      "Downloading MEJANGERAN | Lagu Daerah Bali | Diva bernyanyi | Diva The Series Official...\n"
     ]
    },
    {
     "name": "stderr",
     "output_type": "stream",
     "text": [
      "The ANDROID client requires PoToken to obtain functional streams, See more details at https://github.com/JuanBindez/pytubefix/pull/209\n",
      "The ANDROID client requires PoToken to obtain functional streams, See more details at https://github.com/JuanBindez/pytubefix/pull/209\n"
     ]
    },
    {
     "name": "stdout",
     "output_type": "stream",
     "text": [
      "Downloading Sukma Ayu Nariswari - Mejangeran...\n"
     ]
    },
    {
     "name": "stderr",
     "output_type": "stream",
     "text": [
      "The ANDROID client requires PoToken to obtain functional streams, See more details at https://github.com/JuanBindez/pytubefix/pull/209\n",
      "The ANDROID client requires PoToken to obtain functional streams, See more details at https://github.com/JuanBindez/pytubefix/pull/209\n"
     ]
    },
    {
     "name": "stdout",
     "output_type": "stream",
     "text": [
      "Downloading Intan Laksmi - Mejangeran | Lagu Daerah Bali | ( Official Music Video )...\n"
     ]
    },
    {
     "name": "stderr",
     "output_type": "stream",
     "text": [
      "The ANDROID client requires PoToken to obtain functional streams, See more details at https://github.com/JuanBindez/pytubefix/pull/209\n",
      "The ANDROID client requires PoToken to obtain functional streams, See more details at https://github.com/JuanBindez/pytubefix/pull/209\n"
     ]
    },
    {
     "name": "stdout",
     "output_type": "stream",
     "text": [
      "Downloading Meyong-meyong (Bali)...\n"
     ]
    },
    {
     "name": "stderr",
     "output_type": "stream",
     "text": [
      "The ANDROID client requires PoToken to obtain functional streams, See more details at https://github.com/JuanBindez/pytubefix/pull/209\n",
      "The ANDROID client requires PoToken to obtain functional streams, See more details at https://github.com/JuanBindez/pytubefix/pull/209\n"
     ]
    },
    {
     "name": "stdout",
     "output_type": "stream",
     "text": [
      "Downloading Meyong Meyong Bali (Arr. Felix Avi) - Navoska Choir | 18th National Folklore Festival...\n"
     ]
    },
    {
     "name": "stderr",
     "output_type": "stream",
     "text": [
      "The ANDROID client requires PoToken to obtain functional streams, See more details at https://github.com/JuanBindez/pytubefix/pull/209\n",
      "The ANDROID client requires PoToken to obtain functional streams, See more details at https://github.com/JuanBindez/pytubefix/pull/209\n"
     ]
    },
    {
     "name": "stdout",
     "output_type": "stream",
     "text": [
      "Downloading lagu anak-anak ( meong meong) | lagi bali...\n"
     ]
    },
    {
     "name": "stderr",
     "output_type": "stream",
     "text": [
      "The ANDROID client requires PoToken to obtain functional streams, See more details at https://github.com/JuanBindez/pytubefix/pull/209\n",
      "The ANDROID client requires PoToken to obtain functional streams, See more details at https://github.com/JuanBindez/pytubefix/pull/209\n"
     ]
    },
    {
     "name": "stdout",
     "output_type": "stream",
     "text": [
      "Downloading LAGU ANAK NGUSAK ASIK  DARI BALI...\n"
     ]
    },
    {
     "name": "stderr",
     "output_type": "stream",
     "text": [
      "The ANDROID client requires PoToken to obtain functional streams, See more details at https://github.com/JuanBindez/pytubefix/pull/209\n",
      "The ANDROID client requires PoToken to obtain functional streams, See more details at https://github.com/JuanBindez/pytubefix/pull/209\n"
     ]
    },
    {
     "name": "stdout",
     "output_type": "stream",
     "text": [
      "Downloading Chord dan Not Balok Lagu Ngusak Asik...\n"
     ]
    },
    {
     "name": "stderr",
     "output_type": "stream",
     "text": [
      "The ANDROID client requires PoToken to obtain functional streams, See more details at https://github.com/JuanBindez/pytubefix/pull/209\n",
      "The ANDROID client requires PoToken to obtain functional streams, See more details at https://github.com/JuanBindez/pytubefix/pull/209\n"
     ]
    },
    {
     "name": "stdout",
     "output_type": "stream",
     "text": [
      "Downloading Ngusak Asik (Nuusak Asik) lagu daerah Bali untuk Kwartet Gitar Seni Musik UKSW...\n"
     ]
    },
    {
     "name": "stderr",
     "output_type": "stream",
     "text": [
      "The ANDROID client requires PoToken to obtain functional streams, See more details at https://github.com/JuanBindez/pytubefix/pull/209\n",
      "The ANDROID client requires PoToken to obtain functional streams, See more details at https://github.com/JuanBindez/pytubefix/pull/209\n"
     ]
    },
    {
     "name": "stdout",
     "output_type": "stream",
     "text": [
      "Downloading Putri Cening Ayu - Balinese Song - Lagu Bali...\n"
     ]
    },
    {
     "name": "stderr",
     "output_type": "stream",
     "text": [
      "The ANDROID client requires PoToken to obtain functional streams, See more details at https://github.com/JuanBindez/pytubefix/pull/209\n",
      "The ANDROID client requires PoToken to obtain functional streams, See more details at https://github.com/JuanBindez/pytubefix/pull/209\n"
     ]
    },
    {
     "name": "stdout",
     "output_type": "stream",
     "text": [
      "Downloading Lagu Bali Rare - Putri Cening Ayu...\n",
      "Duration of Putri Cening Ayu (Balinese Folks Song) is too long\n"
     ]
    },
    {
     "name": "stderr",
     "output_type": "stream",
     "text": [
      "The ANDROID client requires PoToken to obtain functional streams, See more details at https://github.com/JuanBindez/pytubefix/pull/209\n",
      "The ANDROID client requires PoToken to obtain functional streams, See more details at https://github.com/JuanBindez/pytubefix/pull/209\n"
     ]
    },
    {
     "name": "stdout",
     "output_type": "stream",
     "text": [
      "Downloading TARI PENDET PENYAMBUTAN...\n",
      "Duration of Tari Bali Oleg Tamulilingan is too long\n",
      "Duration of Kelompok 5 Kelas V “DAMAR MESUNAR” Prodi PGSD Undiksha Denpasar is too long\n"
     ]
    },
    {
     "name": "stderr",
     "output_type": "stream",
     "text": [
      "The ANDROID client requires PoToken to obtain functional streams, See more details at https://github.com/JuanBindez/pytubefix/pull/209\n",
      "The ANDROID client requires PoToken to obtain functional streams, See more details at https://github.com/JuanBindez/pytubefix/pull/209\n"
     ]
    },
    {
     "name": "stdout",
     "output_type": "stream",
     "text": [
      "Downloading Ratu Anom by Indi...\n"
     ]
    },
    {
     "name": "stderr",
     "output_type": "stream",
     "text": [
      "The ANDROID client requires PoToken to obtain functional streams, See more details at https://github.com/JuanBindez/pytubefix/pull/209\n",
      "The ANDROID client requires PoToken to obtain functional streams, See more details at https://github.com/JuanBindez/pytubefix/pull/209\n"
     ]
    },
    {
     "name": "stdout",
     "output_type": "stream",
     "text": [
      "Downloading Ratu Anom - Bali Kids Song...\n"
     ]
    },
    {
     "name": "stderr",
     "output_type": "stream",
     "text": [
      "The ANDROID client requires PoToken to obtain functional streams, See more details at https://github.com/JuanBindez/pytubefix/pull/209\n",
      "The ANDROID client requires PoToken to obtain functional streams, See more details at https://github.com/JuanBindez/pytubefix/pull/209\n"
     ]
    },
    {
     "name": "stdout",
     "output_type": "stream",
     "text": [
      "Downloading Ratu Anom...\n"
     ]
    },
    {
     "name": "stderr",
     "output_type": "stream",
     "text": [
      "The ANDROID client requires PoToken to obtain functional streams, See more details at https://github.com/JuanBindez/pytubefix/pull/209\n",
      "The ANDROID client requires PoToken to obtain functional streams, See more details at https://github.com/JuanBindez/pytubefix/pull/209\n"
     ]
    },
    {
     "name": "stdout",
     "output_type": "stream",
     "text": [
      "Downloading Yok Miak - Lagu Daerah Bangka Belitung (dengan Lirik)...\n"
     ]
    },
    {
     "name": "stderr",
     "output_type": "stream",
     "text": [
      "The ANDROID client requires PoToken to obtain functional streams, See more details at https://github.com/JuanBindez/pytubefix/pull/209\n",
      "The ANDROID client requires PoToken to obtain functional streams, See more details at https://github.com/JuanBindez/pytubefix/pull/209\n"
     ]
    },
    {
     "name": "stdout",
     "output_type": "stream",
     "text": [
      "Downloading Yok Miak, Lagu Bangka Belitung (LAGU BABEL)...\n"
     ]
    },
    {
     "name": "stderr",
     "output_type": "stream",
     "text": [
      "The ANDROID client requires PoToken to obtain functional streams, See more details at https://github.com/JuanBindez/pytubefix/pull/209\n",
      "The ANDROID client requires PoToken to obtain functional streams, See more details at https://github.com/JuanBindez/pytubefix/pull/209\n"
     ]
    },
    {
     "name": "stdout",
     "output_type": "stream",
     "text": [
      "Downloading NYOK MIAK  KARAOKE_Lagu Daerah Bangka-Belitung...\n"
     ]
    },
    {
     "name": "stderr",
     "output_type": "stream",
     "text": [
      "The ANDROID client requires PoToken to obtain functional streams, See more details at https://github.com/JuanBindez/pytubefix/pull/209\n",
      "The ANDROID client requires PoToken to obtain functional streams, See more details at https://github.com/JuanBindez/pytubefix/pull/209\n"
     ]
    },
    {
     "name": "stdout",
     "output_type": "stream",
     "text": [
      "Downloading Alam Wisata Pulau Bangka + LIRIK, Lagu Bangka Belitung (LAGU BABEL)...\n"
     ]
    },
    {
     "name": "stderr",
     "output_type": "stream",
     "text": [
      "The ANDROID client requires PoToken to obtain functional streams, See more details at https://github.com/JuanBindez/pytubefix/pull/209\n",
      "The ANDROID client requires PoToken to obtain functional streams, See more details at https://github.com/JuanBindez/pytubefix/pull/209\n"
     ]
    },
    {
     "name": "stdout",
     "output_type": "stream",
     "text": [
      "Downloading LIRIK LAGU BANGKA - ALAM WISATA PULAU BANGKA (HQ AUDIO)...\n"
     ]
    },
    {
     "name": "stderr",
     "output_type": "stream",
     "text": [
      "The ANDROID client requires PoToken to obtain functional streams, See more details at https://github.com/JuanBindez/pytubefix/pull/209\n",
      "The ANDROID client requires PoToken to obtain functional streams, See more details at https://github.com/JuanBindez/pytubefix/pull/209\n"
     ]
    },
    {
     "name": "stdout",
     "output_type": "stream",
     "text": [
      "Downloading RP Project - Alam Wisata Pulau Bangka (Akustik Cover)| Lagu Daerah Bangka Belitung...\n"
     ]
    },
    {
     "name": "stderr",
     "output_type": "stream",
     "text": [
      "The ANDROID client requires PoToken to obtain functional streams, See more details at https://github.com/JuanBindez/pytubefix/pull/209\n",
      "The ANDROID client requires PoToken to obtain functional streams, See more details at https://github.com/JuanBindez/pytubefix/pull/209\n"
     ]
    },
    {
     "name": "stdout",
     "output_type": "stream",
     "text": [
      "Downloading Men Sahang Lah Mirah + LIRIK, Lagu BANGKA BELITUNG...\n"
     ]
    },
    {
     "name": "stderr",
     "output_type": "stream",
     "text": [
      "The ANDROID client requires PoToken to obtain functional streams, See more details at https://github.com/JuanBindez/pytubefix/pull/209\n",
      "The ANDROID client requires PoToken to obtain functional streams, See more details at https://github.com/JuanBindez/pytubefix/pull/209\n"
     ]
    },
    {
     "name": "stdout",
     "output_type": "stream",
     "text": [
      "Downloading LIRIK LAGU BANGKA - MEN SAHANG LAH MIRAH...\n",
      "Duration of Tari Mensahang Sahang is too long\n",
      "Duration of nasib anak saro-lagu bangka belitung is too long\n"
     ]
    },
    {
     "name": "stderr",
     "output_type": "stream",
     "text": [
      "The ANDROID client requires PoToken to obtain functional streams, See more details at https://github.com/JuanBindez/pytubefix/pull/209\n",
      "The ANDROID client requires PoToken to obtain functional streams, See more details at https://github.com/JuanBindez/pytubefix/pull/209\n"
     ]
    },
    {
     "name": "stdout",
     "output_type": "stream",
     "text": [
      "Downloading Nasib Sibujang Saro Erwin Selawang...\n"
     ]
    },
    {
     "name": "stderr",
     "output_type": "stream",
     "text": [
      "The ANDROID client requires PoToken to obtain functional streams, See more details at https://github.com/JuanBindez/pytubefix/pull/209\n",
      "The ANDROID client requires PoToken to obtain functional streams, See more details at https://github.com/JuanBindez/pytubefix/pull/209\n"
     ]
    },
    {
     "name": "stdout",
     "output_type": "stream",
     "text": [
      "Downloading lirik/ lagu bujang tua | lagu bujang tua Bangka VOC. cecep...\n"
     ]
    },
    {
     "name": "stderr",
     "output_type": "stream",
     "text": [
      "The ANDROID client requires PoToken to obtain functional streams, See more details at https://github.com/JuanBindez/pytubefix/pull/209\n",
      "The ANDROID client requires PoToken to obtain functional streams, See more details at https://github.com/JuanBindez/pytubefix/pull/209\n"
     ]
    },
    {
     "name": "stdout",
     "output_type": "stream",
     "text": [
      "Downloading LIRIK LAGU BANGKA - ICAK ICAK DEK TAU (TOMMY ALI HQ AUDIO)...\n"
     ]
    },
    {
     "name": "stderr",
     "output_type": "stream",
     "text": [
      "The ANDROID client requires PoToken to obtain functional streams, See more details at https://github.com/JuanBindez/pytubefix/pull/209\n",
      "The ANDROID client requires PoToken to obtain functional streams, See more details at https://github.com/JuanBindez/pytubefix/pull/209\n"
     ]
    },
    {
     "name": "stdout",
     "output_type": "stream",
     "text": [
      "Downloading RP Project - Icak Icak Dek Tau (Cover) | Lagu Daerah Bangka Belitung...\n"
     ]
    },
    {
     "name": "stderr",
     "output_type": "stream",
     "text": [
      "The ANDROID client requires PoToken to obtain functional streams, See more details at https://github.com/JuanBindez/pytubefix/pull/209\n",
      "The ANDROID client requires PoToken to obtain functional streams, See more details at https://github.com/JuanBindez/pytubefix/pull/209\n"
     ]
    },
    {
     "name": "stdout",
     "output_type": "stream",
     "text": [
      "Downloading Lirik Lagu Daerah terbaik Bangka Belitung Icak-icak dek tau (Video Lirik)...\n"
     ]
    },
    {
     "name": "stderr",
     "output_type": "stream",
     "text": [
      "The ANDROID client requires PoToken to obtain functional streams, See more details at https://github.com/JuanBindez/pytubefix/pull/209\n",
      "The ANDROID client requires PoToken to obtain functional streams, See more details at https://github.com/JuanBindez/pytubefix/pull/209\n"
     ]
    },
    {
     "name": "stdout",
     "output_type": "stream",
     "text": [
      "Downloading Dayung Sampan - Lagu Daerah Banten (dengan Lirik)...\n"
     ]
    },
    {
     "name": "stderr",
     "output_type": "stream",
     "text": [
      "The ANDROID client requires PoToken to obtain functional streams, See more details at https://github.com/JuanBindez/pytubefix/pull/209\n",
      "The ANDROID client requires PoToken to obtain functional streams, See more details at https://github.com/JuanBindez/pytubefix/pull/209\n"
     ]
    },
    {
     "name": "stdout",
     "output_type": "stream",
     "text": [
      "Downloading Video Lirik Lagu Daerah | Dayung Sampan...\n"
     ]
    },
    {
     "name": "stderr",
     "output_type": "stream",
     "text": [
      "The ANDROID client requires PoToken to obtain functional streams, See more details at https://github.com/JuanBindez/pytubefix/pull/209\n",
      "The ANDROID client requires PoToken to obtain functional streams, See more details at https://github.com/JuanBindez/pytubefix/pull/209\n"
     ]
    },
    {
     "name": "stdout",
     "output_type": "stream",
     "text": [
      "Downloading 鄧麗君 Teresa Teng   Dayung Sampan  (Indonesian 印尼語)...\n"
     ]
    },
    {
     "name": "stderr",
     "output_type": "stream",
     "text": [
      "The ANDROID client requires PoToken to obtain functional streams, See more details at https://github.com/JuanBindez/pytubefix/pull/209\n",
      "The ANDROID client requires PoToken to obtain functional streams, See more details at https://github.com/JuanBindez/pytubefix/pull/209\n"
     ]
    },
    {
     "name": "stdout",
     "output_type": "stream",
     "text": [
      "Downloading JEREH BU GURU-Lagu Daerah Banten(Lirik Dan Terjemahan)...\n"
     ]
    },
    {
     "name": "stderr",
     "output_type": "stream",
     "text": [
      "The ANDROID client requires PoToken to obtain functional streams, See more details at https://github.com/JuanBindez/pytubefix/pull/209\n",
      "The ANDROID client requires PoToken to obtain functional streams, See more details at https://github.com/JuanBindez/pytubefix/pull/209\n"
     ]
    },
    {
     "name": "stdout",
     "output_type": "stream",
     "text": [
      "Downloading Jereh Bu Guru - Lagu Daerah Banten (Lirik dan Terjemahan)...\n"
     ]
    },
    {
     "name": "stderr",
     "output_type": "stream",
     "text": [
      "The ANDROID client requires PoToken to obtain functional streams, See more details at https://github.com/JuanBindez/pytubefix/pull/209\n",
      "The ANDROID client requires PoToken to obtain functional streams, See more details at https://github.com/JuanBindez/pytubefix/pull/209\n"
     ]
    },
    {
     "name": "stdout",
     "output_type": "stream",
     "text": [
      "Downloading JEREH BU GURU - Lagu Daerah Banten - Cover Napasha...\n"
     ]
    },
    {
     "name": "stderr",
     "output_type": "stream",
     "text": [
      "The ANDROID client requires PoToken to obtain functional streams, See more details at https://github.com/JuanBindez/pytubefix/pull/209\n",
      "The ANDROID client requires PoToken to obtain functional streams, See more details at https://github.com/JuanBindez/pytubefix/pull/209\n"
     ]
    },
    {
     "name": "stdout",
     "output_type": "stream",
     "text": [
      "Downloading Video Lirik Lagu Daerah | Tong Sarakah...\n"
     ]
    },
    {
     "name": "stderr",
     "output_type": "stream",
     "text": [
      "The ANDROID client requires PoToken to obtain functional streams, See more details at https://github.com/JuanBindez/pytubefix/pull/209\n",
      "The ANDROID client requires PoToken to obtain functional streams, See more details at https://github.com/JuanBindez/pytubefix/pull/209\n"
     ]
    },
    {
     "name": "stdout",
     "output_type": "stream",
     "text": [
      "Downloading Tong Sarakah...\n"
     ]
    },
    {
     "name": "stderr",
     "output_type": "stream",
     "text": [
      "The ANDROID client requires PoToken to obtain functional streams, See more details at https://github.com/JuanBindez/pytubefix/pull/209\n",
      "The ANDROID client requires PoToken to obtain functional streams, See more details at https://github.com/JuanBindez/pytubefix/pull/209\n"
     ]
    },
    {
     "name": "stdout",
     "output_type": "stream",
     "text": [
      "Downloading Lagu daerah Banten - Tong Sarakah...\n",
      "Duration of LALAN BELEK - lagu rejang is too long\n",
      "Duration of Lalan Belek is too long\n",
      "Duration of Cover Lagu Daerah Rejang '' Lalan Belek '' - Bengkulu is too long\n"
     ]
    },
    {
     "name": "stderr",
     "output_type": "stream",
     "text": [
      "The ANDROID client requires PoToken to obtain functional streams, See more details at https://github.com/JuanBindez/pytubefix/pull/209\n",
      "The ANDROID client requires PoToken to obtain functional streams, See more details at https://github.com/JuanBindez/pytubefix/pull/209\n"
     ]
    },
    {
     "name": "stdout",
     "output_type": "stream",
     "text": [
      "Downloading Lirik Lagu: Sungai Suci (Lagu Daerah Bengkulu)...\n",
      "Duration of Pantai Sungai Suci BENGKULU, Sensasi Deburan Ombak & SUNSET di Tanah Lot-nya Bengkulu is too long\n"
     ]
    },
    {
     "name": "stderr",
     "output_type": "stream",
     "text": [
      "The ANDROID client requires PoToken to obtain functional streams, See more details at https://github.com/JuanBindez/pytubefix/pull/209\n",
      "The ANDROID client requires PoToken to obtain functional streams, See more details at https://github.com/JuanBindez/pytubefix/pull/209\n"
     ]
    },
    {
     "name": "stdout",
     "output_type": "stream",
     "text": [
      "Downloading Lagu daerah bengkulu Sungai suci...\n"
     ]
    },
    {
     "name": "stderr",
     "output_type": "stream",
     "text": [
      "The ANDROID client requires PoToken to obtain functional streams, See more details at https://github.com/JuanBindez/pytubefix/pull/209\n",
      "The ANDROID client requires PoToken to obtain functional streams, See more details at https://github.com/JuanBindez/pytubefix/pull/209\n"
     ]
    },
    {
     "name": "stdout",
     "output_type": "stream",
     "text": [
      "Downloading Lagu Daerah Bengkulu - Umang umang...\n"
     ]
    },
    {
     "name": "stderr",
     "output_type": "stream",
     "text": [
      "The ANDROID client requires PoToken to obtain functional streams, See more details at https://github.com/JuanBindez/pytubefix/pull/209\n",
      "The ANDROID client requires PoToken to obtain functional streams, See more details at https://github.com/JuanBindez/pytubefix/pull/209\n"
     ]
    },
    {
     "name": "stdout",
     "output_type": "stream",
     "text": [
      "Downloading Lagu daerah bengkulu Umang (umang)...\n"
     ]
    },
    {
     "name": "stderr",
     "output_type": "stream",
     "text": [
      "The ANDROID client requires PoToken to obtain functional streams, See more details at https://github.com/JuanBindez/pytubefix/pull/209\n",
      "The ANDROID client requires PoToken to obtain functional streams, See more details at https://github.com/JuanBindez/pytubefix/pull/209\n"
     ]
    },
    {
     "name": "stdout",
     "output_type": "stream",
     "text": [
      "Downloading Ketemu jualan kelomang / Umang Umang dipasar, asalnya dari pantai bengkulu #taqykids #youtuberpemula...\n"
     ]
    },
    {
     "name": "stderr",
     "output_type": "stream",
     "text": [
      "The ANDROID client requires PoToken to obtain functional streams, See more details at https://github.com/JuanBindez/pytubefix/pull/209\n",
      "The ANDROID client requires PoToken to obtain functional streams, See more details at https://github.com/JuanBindez/pytubefix/pull/209\n"
     ]
    },
    {
     "name": "stdout",
     "output_type": "stream",
     "text": [
      "Downloading Pegi berayak - Lagu Bengkulu...\n"
     ]
    },
    {
     "name": "stderr",
     "output_type": "stream",
     "text": [
      "The ANDROID client requires PoToken to obtain functional streams, See more details at https://github.com/JuanBindez/pytubefix/pull/209\n",
      "The ANDROID client requires PoToken to obtain functional streams, See more details at https://github.com/JuanBindez/pytubefix/pull/209\n"
     ]
    },
    {
     "name": "stdout",
     "output_type": "stream",
     "text": [
      "Downloading LAGU PEGI BERAYAK || Cover Lirik || Lagu Daerah Bengkulu...\n"
     ]
    },
    {
     "name": "stderr",
     "output_type": "stream",
     "text": [
      "The ANDROID client requires PoToken to obtain functional streams, See more details at https://github.com/JuanBindez/pytubefix/pull/209\n",
      "The ANDROID client requires PoToken to obtain functional streams, See more details at https://github.com/JuanBindez/pytubefix/pull/209\n"
     ]
    },
    {
     "name": "stdout",
     "output_type": "stream",
     "text": [
      "Downloading Pegi berayak - Lagu Bengkulu...\n"
     ]
    },
    {
     "name": "stderr",
     "output_type": "stream",
     "text": [
      "The ANDROID client requires PoToken to obtain functional streams, See more details at https://github.com/JuanBindez/pytubefix/pull/209\n",
      "The ANDROID client requires PoToken to obtain functional streams, See more details at https://github.com/JuanBindez/pytubefix/pull/209\n"
     ]
    },
    {
     "name": "stdout",
     "output_type": "stream",
     "text": [
      "Downloading Indahnya Pantai Panjang | RAGAM INDONESIA...\n",
      "Duration of Lagu Daerah Bengkulu, Pantai Panjang cover by Adeline Lapian is too long\n",
      "Duration of OBJEK WISATA PANTAI PANJANG KOTA BENGKULU 2022 is too long\n"
     ]
    },
    {
     "name": "stderr",
     "output_type": "stream",
     "text": [
      "The ANDROID client requires PoToken to obtain functional streams, See more details at https://github.com/JuanBindez/pytubefix/pull/209\n",
      "The ANDROID client requires PoToken to obtain functional streams, See more details at https://github.com/JuanBindez/pytubefix/pull/209\n"
     ]
    },
    {
     "name": "stdout",
     "output_type": "stream",
     "text": [
      "Downloading Lagu Daerah Bengkulu : \"IBO\" [Official Music Video]...\n",
      "Duration of LAGU LEBONG BENGKULU ~ IBO ATEI || CHACHA ARFANDI ~ Official Music Video  APH Management is too long\n",
      "Duration of Ibo Hatei is too long\n"
     ]
    },
    {
     "name": "stderr",
     "output_type": "stream",
     "text": [
      "The ANDROID client requires PoToken to obtain functional streams, See more details at https://github.com/JuanBindez/pytubefix/pull/209\n",
      "The ANDROID client requires PoToken to obtain functional streams, See more details at https://github.com/JuanBindez/pytubefix/pull/209\n"
     ]
    },
    {
     "name": "stdout",
     "output_type": "stream",
     "text": [
      "Downloading Taneak Tanai - Lagu Daerah Bengkulu (Lirik dan Terjemahan)...\n"
     ]
    },
    {
     "name": "stderr",
     "output_type": "stream",
     "text": [
      "The ANDROID client requires PoToken to obtain functional streams, See more details at https://github.com/JuanBindez/pytubefix/pull/209\n",
      "The ANDROID client requires PoToken to obtain functional streams, See more details at https://github.com/JuanBindez/pytubefix/pull/209\n"
     ]
    },
    {
     "name": "stdout",
     "output_type": "stream",
     "text": [
      "Downloading Taneak Tanai - Lagu Daerah Bengkulu...\n"
     ]
    },
    {
     "name": "stderr",
     "output_type": "stream",
     "text": [
      "The ANDROID client requires PoToken to obtain functional streams, See more details at https://github.com/JuanBindez/pytubefix/pull/209\n",
      "The ANDROID client requires PoToken to obtain functional streams, See more details at https://github.com/JuanBindez/pytubefix/pull/209\n"
     ]
    },
    {
     "name": "stdout",
     "output_type": "stream",
     "text": [
      "Downloading Lagu daerah bengkulu Taneak tanai...\n"
     ]
    },
    {
     "name": "stderr",
     "output_type": "stream",
     "text": [
      "The ANDROID client requires PoToken to obtain functional streams, See more details at https://github.com/JuanBindez/pytubefix/pull/209\n",
      "The ANDROID client requires PoToken to obtain functional streams, See more details at https://github.com/JuanBindez/pytubefix/pull/209\n"
     ]
    },
    {
     "name": "stdout",
     "output_type": "stream",
     "text": [
      "Downloading JIBEAK WEO DAN LIRIK LAGU DAERAH REJANG BENGKULU...\n"
     ]
    },
    {
     "name": "stderr",
     "output_type": "stream",
     "text": [
      "The ANDROID client requires PoToken to obtain functional streams, See more details at https://github.com/JuanBindez/pytubefix/pull/209\n",
      "The ANDROID client requires PoToken to obtain functional streams, See more details at https://github.com/JuanBindez/pytubefix/pull/209\n"
     ]
    },
    {
     "name": "stdout",
     "output_type": "stream",
     "text": [
      "Downloading Jibeak We O - Lagu Daerah Rejang Bengkulu  Cover Bobby Mawardi...\n"
     ]
    },
    {
     "name": "stderr",
     "output_type": "stream",
     "text": [
      "The ANDROID client requires PoToken to obtain functional streams, See more details at https://github.com/JuanBindez/pytubefix/pull/209\n",
      "The ANDROID client requires PoToken to obtain functional streams, See more details at https://github.com/JuanBindez/pytubefix/pull/209\n"
     ]
    },
    {
     "name": "stdout",
     "output_type": "stream",
     "text": [
      "Downloading Lagu daerah bengkulu Rejang Jibeak aweio...\n"
     ]
    },
    {
     "name": "stderr",
     "output_type": "stream",
     "text": [
      "The ANDROID client requires PoToken to obtain functional streams, See more details at https://github.com/JuanBindez/pytubefix/pull/209\n",
      "The ANDROID client requires PoToken to obtain functional streams, See more details at https://github.com/JuanBindez/pytubefix/pull/209\n"
     ]
    },
    {
     "name": "stdout",
     "output_type": "stream",
     "text": [
      "Downloading PANTAI MALABERO ( Lagu Daerah Bengkulu )...\n"
     ]
    },
    {
     "name": "stderr",
     "output_type": "stream",
     "text": [
      "The ANDROID client requires PoToken to obtain functional streams, See more details at https://github.com/JuanBindez/pytubefix/pull/209\n",
      "The ANDROID client requires PoToken to obtain functional streams, See more details at https://github.com/JuanBindez/pytubefix/pull/209\n"
     ]
    },
    {
     "name": "stdout",
     "output_type": "stream",
     "text": [
      "Downloading PANTAI MALABERO-Lagu Daerah Bengkulu...\n"
     ]
    },
    {
     "name": "stderr",
     "output_type": "stream",
     "text": [
      "The ANDROID client requires PoToken to obtain functional streams, See more details at https://github.com/JuanBindez/pytubefix/pull/209\n",
      "The ANDROID client requires PoToken to obtain functional streams, See more details at https://github.com/JuanBindez/pytubefix/pull/209\n"
     ]
    },
    {
     "name": "stdout",
     "output_type": "stream",
     "text": [
      "Downloading Lagu daerah bengkulu Pantai malabero...\n"
     ]
    },
    {
     "name": "stderr",
     "output_type": "stream",
     "text": [
      "The ANDROID client requires PoToken to obtain functional streams, See more details at https://github.com/JuanBindez/pytubefix/pull/209\n",
      "The ANDROID client requires PoToken to obtain functional streams, See more details at https://github.com/JuanBindez/pytubefix/pull/209\n"
     ]
    },
    {
     "name": "stdout",
     "output_type": "stream",
     "text": [
      "Downloading semulen keme...\n"
     ]
    },
    {
     "name": "stderr",
     "output_type": "stream",
     "text": [
      "The ANDROID client requires PoToken to obtain functional streams, See more details at https://github.com/JuanBindez/pytubefix/pull/209\n",
      "The ANDROID client requires PoToken to obtain functional streams, See more details at https://github.com/JuanBindez/pytubefix/pull/209\n"
     ]
    },
    {
     "name": "stdout",
     "output_type": "stream",
     "text": [
      "Downloading Semulen Keme (Gadis Kami) Lagu Daerah Rejang || D'klik Band Cover || Bengkulu, Indonesia...\n"
     ]
    },
    {
     "name": "stderr",
     "output_type": "stream",
     "text": [
      "The ANDROID client requires PoToken to obtain functional streams, See more details at https://github.com/JuanBindez/pytubefix/pull/209\n",
      "The ANDROID client requires PoToken to obtain functional streams, See more details at https://github.com/JuanBindez/pytubefix/pull/209\n"
     ]
    },
    {
     "name": "stdout",
     "output_type": "stream",
     "text": [
      "Downloading LAGU DAERAH REJANG LEBONG SEMULEN KEME...\n"
     ]
    },
    {
     "name": "stderr",
     "output_type": "stream",
     "text": [
      "The ANDROID client requires PoToken to obtain functional streams, See more details at https://github.com/JuanBindez/pytubefix/pull/209\n",
      "The ANDROID client requires PoToken to obtain functional streams, See more details at https://github.com/JuanBindez/pytubefix/pull/209\n"
     ]
    },
    {
     "name": "stdout",
     "output_type": "stream",
     "text": [
      "Downloading Lagu Daerah Kota Cuup Cover Mek.production Ft. Nada Fentia...\n"
     ]
    },
    {
     "name": "stderr",
     "output_type": "stream",
     "text": [
      "The ANDROID client requires PoToken to obtain functional streams, See more details at https://github.com/JuanBindez/pytubefix/pull/209\n",
      "The ANDROID client requires PoToken to obtain functional streams, See more details at https://github.com/JuanBindez/pytubefix/pull/209\n"
     ]
    },
    {
     "name": "stdout",
     "output_type": "stream",
     "text": [
      "Downloading lagu rejang ; cu'up kota idaman...\n"
     ]
    },
    {
     "name": "stderr",
     "output_type": "stream",
     "text": [
      "The ANDROID client requires PoToken to obtain functional streams, See more details at https://github.com/JuanBindez/pytubefix/pull/209\n",
      "The ANDROID client requires PoToken to obtain functional streams, See more details at https://github.com/JuanBindez/pytubefix/pull/209\n"
     ]
    },
    {
     "name": "stdout",
     "output_type": "stream",
     "text": [
      "Downloading Lagu daerah bengkulu Rejang Curup kota idaman...\n"
     ]
    },
    {
     "name": "stderr",
     "output_type": "stream",
     "text": [
      "The ANDROID client requires PoToken to obtain functional streams, See more details at https://github.com/JuanBindez/pytubefix/pull/209\n",
      "The ANDROID client requires PoToken to obtain functional streams, See more details at https://github.com/JuanBindez/pytubefix/pull/209\n"
     ]
    },
    {
     "name": "stdout",
     "output_type": "stream",
     "text": [
      "Downloading Lirik Lagu: Sungai Suci (Lagu Daerah Bengkulu)...\n",
      "Duration of Pantai Sungai Suci BENGKULU, Sensasi Deburan Ombak & SUNSET di Tanah Lot-nya Bengkulu is too long\n"
     ]
    },
    {
     "name": "stderr",
     "output_type": "stream",
     "text": [
      "The ANDROID client requires PoToken to obtain functional streams, See more details at https://github.com/JuanBindez/pytubefix/pull/209\n",
      "The ANDROID client requires PoToken to obtain functional streams, See more details at https://github.com/JuanBindez/pytubefix/pull/209\n"
     ]
    },
    {
     "name": "stdout",
     "output_type": "stream",
     "text": [
      "Downloading Lagu daerah bengkulu Sungai suci...\n"
     ]
    },
    {
     "name": "stderr",
     "output_type": "stream",
     "text": [
      "The ANDROID client requires PoToken to obtain functional streams, See more details at https://github.com/JuanBindez/pytubefix/pull/209\n",
      "The ANDROID client requires PoToken to obtain functional streams, See more details at https://github.com/JuanBindez/pytubefix/pull/209\n"
     ]
    },
    {
     "name": "stdout",
     "output_type": "stream",
     "text": [
      "Downloading LAGU DAERAH BENGKULU, YO BOTOI - BOTOI.mp4...\n"
     ]
    },
    {
     "name": "stderr",
     "output_type": "stream",
     "text": [
      "The ANDROID client requires PoToken to obtain functional streams, See more details at https://github.com/JuanBindez/pytubefix/pull/209\n",
      "The ANDROID client requires PoToken to obtain functional streams, See more details at https://github.com/JuanBindez/pytubefix/pull/209\n"
     ]
    },
    {
     "name": "stdout",
     "output_type": "stream",
     "text": [
      "Downloading TOSCA yobotoi botoi...\n"
     ]
    },
    {
     "name": "stderr",
     "output_type": "stream",
     "text": [
      "The ANDROID client requires PoToken to obtain functional streams, See more details at https://github.com/JuanBindez/pytubefix/pull/209\n",
      "The ANDROID client requires PoToken to obtain functional streams, See more details at https://github.com/JuanBindez/pytubefix/pull/209\n"
     ]
    },
    {
     "name": "stdout",
     "output_type": "stream",
     "text": [
      "Downloading TOSCA Yobotoi botoi...\n"
     ]
    },
    {
     "name": "stderr",
     "output_type": "stream",
     "text": [
      "The ANDROID client requires PoToken to obtain functional streams, See more details at https://github.com/JuanBindez/pytubefix/pull/209\n",
      "The ANDROID client requires PoToken to obtain functional streams, See more details at https://github.com/JuanBindez/pytubefix/pull/209\n"
     ]
    },
    {
     "name": "stdout",
     "output_type": "stream",
     "text": [
      "Downloading LAGU DAERAH BENGKULU SELATAN SEKUNDANG SETUNGGUAN & LIRIK...\n"
     ]
    },
    {
     "name": "stderr",
     "output_type": "stream",
     "text": [
      "The ANDROID client requires PoToken to obtain functional streams, See more details at https://github.com/JuanBindez/pytubefix/pull/209\n",
      "The ANDROID client requires PoToken to obtain functional streams, See more details at https://github.com/JuanBindez/pytubefix/pull/209\n"
     ]
    },
    {
     "name": "stdout",
     "output_type": "stream",
     "text": [
      "Downloading SEKUNDANG SETUNGGUAN-Lagu Daerah Bengkulu...\n"
     ]
    },
    {
     "name": "stderr",
     "output_type": "stream",
     "text": [
      "The ANDROID client requires PoToken to obtain functional streams, See more details at https://github.com/JuanBindez/pytubefix/pull/209\n",
      "The ANDROID client requires PoToken to obtain functional streams, See more details at https://github.com/JuanBindez/pytubefix/pull/209\n"
     ]
    },
    {
     "name": "stdout",
     "output_type": "stream",
     "text": [
      "Downloading Sekundang setungguan-lagu daerah manna...\n"
     ]
    },
    {
     "name": "stderr",
     "output_type": "stream",
     "text": [
      "The ANDROID client requires PoToken to obtain functional streams, See more details at https://github.com/JuanBindez/pytubefix/pull/209\n",
      "The ANDROID client requires PoToken to obtain functional streams, See more details at https://github.com/JuanBindez/pytubefix/pull/209\n"
     ]
    },
    {
     "name": "stdout",
     "output_type": "stream",
     "text": [
      "Downloading lagu daerah Bengkulu \"Ikan Pais\"...\n"
     ]
    },
    {
     "name": "stderr",
     "output_type": "stream",
     "text": [
      "The ANDROID client requires PoToken to obtain functional streams, See more details at https://github.com/JuanBindez/pytubefix/pull/209\n",
      "The ANDROID client requires PoToken to obtain functional streams, See more details at https://github.com/JuanBindez/pytubefix/pull/209\n"
     ]
    },
    {
     "name": "stdout",
     "output_type": "stream",
     "text": [
      "Downloading Ikan Pais - Lagu Daerah Bengkulu (dengan Lirik)...\n"
     ]
    },
    {
     "name": "stderr",
     "output_type": "stream",
     "text": [
      "The ANDROID client requires PoToken to obtain functional streams, See more details at https://github.com/JuanBindez/pytubefix/pull/209\n",
      "The ANDROID client requires PoToken to obtain functional streams, See more details at https://github.com/JuanBindez/pytubefix/pull/209\n"
     ]
    },
    {
     "name": "stdout",
     "output_type": "stream",
     "text": [
      "Downloading JARVIS Ikan pais...\n"
     ]
    },
    {
     "name": "stderr",
     "output_type": "stream",
     "text": [
      "The ANDROID client requires PoToken to obtain functional streams, See more details at https://github.com/JuanBindez/pytubefix/pull/209\n",
      "The ANDROID client requires PoToken to obtain functional streams, See more details at https://github.com/JuanBindez/pytubefix/pull/209\n"
     ]
    },
    {
     "name": "stdout",
     "output_type": "stream",
     "text": [
      "Downloading Lagu Daerah (Gorontalo) - Dabu Dabu Lo Kamate...\n"
     ]
    },
    {
     "name": "stderr",
     "output_type": "stream",
     "text": [
      "The ANDROID client requires PoToken to obtain functional streams, See more details at https://github.com/JuanBindez/pytubefix/pull/209\n",
      "The ANDROID client requires PoToken to obtain functional streams, See more details at https://github.com/JuanBindez/pytubefix/pull/209\n"
     ]
    },
    {
     "name": "stdout",
     "output_type": "stream",
     "text": [
      "Downloading Dabu Dabu Lo Tamate - Cover Udin Ahmad x cha cha tarian tradisi...\n",
      "Duration of Ekor Tuna Bakar + Arang Dabu Dabu dengan Kangkong is too long\n"
     ]
    },
    {
     "name": "stderr",
     "output_type": "stream",
     "text": [
      "The ANDROID client requires PoToken to obtain functional streams, See more details at https://github.com/JuanBindez/pytubefix/pull/209\n",
      "The ANDROID client requires PoToken to obtain functional streams, See more details at https://github.com/JuanBindez/pytubefix/pull/209\n"
     ]
    },
    {
     "name": "stdout",
     "output_type": "stream",
     "text": [
      "Downloading Binde Biluhuta - Evans Siringo ringo I Lagu Gorontalo I Pop Indonesia Timur (Official Video Music)...\n"
     ]
    },
    {
     "name": "stderr",
     "output_type": "stream",
     "text": [
      "The ANDROID client requires PoToken to obtain functional streams, See more details at https://github.com/JuanBindez/pytubefix/pull/209\n",
      "The ANDROID client requires PoToken to obtain functional streams, See more details at https://github.com/JuanBindez/pytubefix/pull/209\n"
     ]
    },
    {
     "name": "stdout",
     "output_type": "stream",
     "text": [
      "Downloading Binde Biluhuta - Lagu Daerah Gorontalo (dengan Lirik)...\n"
     ]
    },
    {
     "name": "stderr",
     "output_type": "stream",
     "text": [
      "The ANDROID client requires PoToken to obtain functional streams, See more details at https://github.com/JuanBindez/pytubefix/pull/209\n",
      "The ANDROID client requires PoToken to obtain functional streams, See more details at https://github.com/JuanBindez/pytubefix/pull/209\n"
     ]
    },
    {
     "name": "stdout",
     "output_type": "stream",
     "text": [
      "Downloading Lagu Gorontalo \" BINTHE BILUHUTA \" I Cover I By. Trio Sagela Ft. Oby CS...\n"
     ]
    },
    {
     "name": "stderr",
     "output_type": "stream",
     "text": [
      "The ANDROID client requires PoToken to obtain functional streams, See more details at https://github.com/JuanBindez/pytubefix/pull/209\n",
      "The ANDROID client requires PoToken to obtain functional streams, See more details at https://github.com/JuanBindez/pytubefix/pull/209\n"
     ]
    },
    {
     "name": "stdout",
     "output_type": "stream",
     "text": [
      "Downloading Lagu Daerah (Gorontalo) - Dabu Dabu Lo Kamate...\n"
     ]
    },
    {
     "name": "stderr",
     "output_type": "stream",
     "text": [
      "The ANDROID client requires PoToken to obtain functional streams, See more details at https://github.com/JuanBindez/pytubefix/pull/209\n",
      "The ANDROID client requires PoToken to obtain functional streams, See more details at https://github.com/JuanBindez/pytubefix/pull/209\n"
     ]
    },
    {
     "name": "stdout",
     "output_type": "stream",
     "text": [
      "Downloading Lagu Daerah Gorontalo | Hulondalo Lipuu | to lo tawu lo hulondalo ma to lipu lo tawu...\n"
     ]
    },
    {
     "name": "stderr",
     "output_type": "stream",
     "text": [
      "The ANDROID client requires PoToken to obtain functional streams, See more details at https://github.com/JuanBindez/pytubefix/pull/209\n",
      "The ANDROID client requires PoToken to obtain functional streams, See more details at https://github.com/JuanBindez/pytubefix/pull/209\n"
     ]
    },
    {
     "name": "stdout",
     "output_type": "stream",
     "text": [
      "Downloading Lagu Daerah (Gorontalo) - Moleleyangi...\n"
     ]
    },
    {
     "name": "stderr",
     "output_type": "stream",
     "text": [
      "The ANDROID client requires PoToken to obtain functional streams, See more details at https://github.com/JuanBindez/pytubefix/pull/209\n",
      "The ANDROID client requires PoToken to obtain functional streams, See more details at https://github.com/JuanBindez/pytubefix/pull/209\n"
     ]
    },
    {
     "name": "stdout",
     "output_type": "stream",
     "text": [
      "Downloading LAGU POP GORONTALO | TAHULI LI MAMA_DAPH ANWAR PASARIBU | (Official Music Video)...\n"
     ]
    },
    {
     "name": "stderr",
     "output_type": "stream",
     "text": [
      "The ANDROID client requires PoToken to obtain functional streams, See more details at https://github.com/JuanBindez/pytubefix/pull/209\n",
      "The ANDROID client requires PoToken to obtain functional streams, See more details at https://github.com/JuanBindez/pytubefix/pull/209\n"
     ]
    },
    {
     "name": "stdout",
     "output_type": "stream",
     "text": [
      "Downloading LAGU GORONTALO - TAHULI LI MAMA...\n",
      "Duration of BULE LI MAMA VOC. A. R ADAM is too long\n"
     ]
    },
    {
     "name": "stderr",
     "output_type": "stream",
     "text": [
      "The ANDROID client requires PoToken to obtain functional streams, See more details at https://github.com/JuanBindez/pytubefix/pull/209\n",
      "The ANDROID client requires PoToken to obtain functional streams, See more details at https://github.com/JuanBindez/pytubefix/pull/209\n"
     ]
    },
    {
     "name": "stdout",
     "output_type": "stream",
     "text": [
      "Downloading Yamko Rambe Yamko (Lirik, Vokal, Terjemahan)...\n"
     ]
    },
    {
     "name": "stderr",
     "output_type": "stream",
     "text": [
      "The ANDROID client requires PoToken to obtain functional streams, See more details at https://github.com/JuanBindez/pytubefix/pull/209\n",
      "The ANDROID client requires PoToken to obtain functional streams, See more details at https://github.com/JuanBindez/pytubefix/pull/209\n"
     ]
    },
    {
     "name": "stdout",
     "output_type": "stream",
     "text": [
      "Downloading Lirik lagu yamko rambe yamko-papua/irian jaya...\n"
     ]
    },
    {
     "name": "stderr",
     "output_type": "stream",
     "text": [
      "The ANDROID client requires PoToken to obtain functional streams, See more details at https://github.com/JuanBindez/pytubefix/pull/209\n",
      "The ANDROID client requires PoToken to obtain functional streams, See more details at https://github.com/JuanBindez/pytubefix/pull/209\n"
     ]
    },
    {
     "name": "stdout",
     "output_type": "stream",
     "text": [
      "Downloading Yamko Rambe Yamko...\n"
     ]
    },
    {
     "name": "stderr",
     "output_type": "stream",
     "text": [
      "The ANDROID client requires PoToken to obtain functional streams, See more details at https://github.com/JuanBindez/pytubefix/pull/209\n",
      "The ANDROID client requires PoToken to obtain functional streams, See more details at https://github.com/JuanBindez/pytubefix/pull/209\n"
     ]
    },
    {
     "name": "stdout",
     "output_type": "stream",
     "text": [
      "Downloading Lagu Jali Jali, Ini dia si jali jali - Lagu Daerah DKI Jakarta 2022 (Lirik dan animasi) Song of Kids...\n"
     ]
    },
    {
     "name": "stderr",
     "output_type": "stream",
     "text": [
      "The ANDROID client requires PoToken to obtain functional streams, See more details at https://github.com/JuanBindez/pytubefix/pull/209\n",
      "The ANDROID client requires PoToken to obtain functional streams, See more details at https://github.com/JuanBindez/pytubefix/pull/209\n"
     ]
    },
    {
     "name": "stdout",
     "output_type": "stream",
     "text": [
      "Downloading LIRIK LAGU JALI JALI - LAGU DAERAH KHAS BETAWI/JAKARTA...\n"
     ]
    },
    {
     "name": "stderr",
     "output_type": "stream",
     "text": [
      "The ANDROID client requires PoToken to obtain functional streams, See more details at https://github.com/JuanBindez/pytubefix/pull/209\n",
      "The ANDROID client requires PoToken to obtain functional streams, See more details at https://github.com/JuanBindez/pytubefix/pull/209\n"
     ]
    },
    {
     "name": "stdout",
     "output_type": "stream",
     "text": [
      "Downloading Jali Jali - Lagu Daerah Jakarta (dengan Lirik)...\n"
     ]
    },
    {
     "name": "stderr",
     "output_type": "stream",
     "text": [
      "The ANDROID client requires PoToken to obtain functional streams, See more details at https://github.com/JuanBindez/pytubefix/pull/209\n",
      "The ANDROID client requires PoToken to obtain functional streams, See more details at https://github.com/JuanBindez/pytubefix/pull/209\n"
     ]
    },
    {
     "name": "stdout",
     "output_type": "stream",
     "text": [
      "Downloading ORKES SEKAR KEDATON - KERONCONG KEMAYORAN (COVER)...\n"
     ]
    },
    {
     "name": "stderr",
     "output_type": "stream",
     "text": [
      "The ANDROID client requires PoToken to obtain functional streams, See more details at https://github.com/JuanBindez/pytubefix/pull/209\n",
      "The ANDROID client requires PoToken to obtain functional streams, See more details at https://github.com/JuanBindez/pytubefix/pull/209\n"
     ]
    },
    {
     "name": "stdout",
     "output_type": "stream",
     "text": [
      "Downloading Keroncong Kemayoran...\n",
      "Duration of Keroncong Kemayoran,Sang Bango&Nonton Bioskop - Iwan Fals feat Bondan Prakoso in Concert Jakarta is too long\n"
     ]
    },
    {
     "name": "stderr",
     "output_type": "stream",
     "text": [
      "The ANDROID client requires PoToken to obtain functional streams, See more details at https://github.com/JuanBindez/pytubefix/pull/209\n",
      "The ANDROID client requires PoToken to obtain functional streams, See more details at https://github.com/JuanBindez/pytubefix/pull/209\n"
     ]
    },
    {
     "name": "stdout",
     "output_type": "stream",
     "text": [
      "Downloading KICIR KICIR - Lagu dan Tari Nusantara - Lagu Anak...\n"
     ]
    },
    {
     "name": "stderr",
     "output_type": "stream",
     "text": [
      "The ANDROID client requires PoToken to obtain functional streams, See more details at https://github.com/JuanBindez/pytubefix/pull/209\n",
      "The ANDROID client requires PoToken to obtain functional streams, See more details at https://github.com/JuanBindez/pytubefix/pull/209\n"
     ]
    },
    {
     "name": "stdout",
     "output_type": "stream",
     "text": [
      "Downloading KICIR KICIR | Lagu Daerah Jakarta (Betawi) | Diva bernyanyi | Diva The Series Official...\n"
     ]
    },
    {
     "name": "stderr",
     "output_type": "stream",
     "text": [
      "The ANDROID client requires PoToken to obtain functional streams, See more details at https://github.com/JuanBindez/pytubefix/pull/209\n",
      "The ANDROID client requires PoToken to obtain functional streams, See more details at https://github.com/JuanBindez/pytubefix/pull/209\n"
     ]
    },
    {
     "name": "stdout",
     "output_type": "stream",
     "text": [
      "Downloading Kicir Kicir Jakarta...\n"
     ]
    },
    {
     "name": "stderr",
     "output_type": "stream",
     "text": [
      "The ANDROID client requires PoToken to obtain functional streams, See more details at https://github.com/JuanBindez/pytubefix/pull/209\n",
      "The ANDROID client requires PoToken to obtain functional streams, See more details at https://github.com/JuanBindez/pytubefix/pull/209\n"
     ]
    },
    {
     "name": "stdout",
     "output_type": "stream",
     "text": [
      "Downloading Lenggang Kangkung (DKI Jakarta)...\n"
     ]
    },
    {
     "name": "stderr",
     "output_type": "stream",
     "text": [
      "The ANDROID client requires PoToken to obtain functional streams, See more details at https://github.com/JuanBindez/pytubefix/pull/209\n",
      "The ANDROID client requires PoToken to obtain functional streams, See more details at https://github.com/JuanBindez/pytubefix/pull/209\n"
     ]
    },
    {
     "name": "stdout",
     "output_type": "stream",
     "text": [
      "Downloading Tarian Lenggang kangkung (Betawi)...\n"
     ]
    },
    {
     "name": "stderr",
     "output_type": "stream",
     "text": [
      "The ANDROID client requires PoToken to obtain functional streams, See more details at https://github.com/JuanBindez/pytubefix/pull/209\n",
      "The ANDROID client requires PoToken to obtain functional streams, See more details at https://github.com/JuanBindez/pytubefix/pull/209\n"
     ]
    },
    {
     "name": "stdout",
     "output_type": "stream",
     "text": [
      "Downloading LAGU ANAK LENGGANG KANGKUNG | KARAOKE LAGU ANAK | VISION KIDS...\n"
     ]
    },
    {
     "name": "stderr",
     "output_type": "stream",
     "text": [
      "The ANDROID client requires PoToken to obtain functional streams, See more details at https://github.com/JuanBindez/pytubefix/pull/209\n",
      "The ANDROID client requires PoToken to obtain functional streams, See more details at https://github.com/JuanBindez/pytubefix/pull/209\n"
     ]
    },
    {
     "name": "stdout",
     "output_type": "stream",
     "text": [
      "Downloading ONDEL ONDEL | Lagu Daerah DKI Jakarta - Betawi | Budaya Indonesia | Dongeng Kita...\n"
     ]
    },
    {
     "name": "stderr",
     "output_type": "stream",
     "text": [
      "The ANDROID client requires PoToken to obtain functional streams, See more details at https://github.com/JuanBindez/pytubefix/pull/209\n",
      "The ANDROID client requires PoToken to obtain functional streams, See more details at https://github.com/JuanBindez/pytubefix/pull/209\n"
     ]
    },
    {
     "name": "stdout",
     "output_type": "stream",
     "text": [
      "Downloading ONDEL ONDEL 💞 LAGU DAERAH DKI JAKARTA | ONDEL ONDEL BETAWI REMIX...\n",
      "Duration of Parade Ondel ondeL Betawi di Pantai ANCOL ~ Komunitas Ondel-ondel Dki Jakarta is too long\n"
     ]
    },
    {
     "name": "stderr",
     "output_type": "stream",
     "text": [
      "The ANDROID client requires PoToken to obtain functional streams, See more details at https://github.com/JuanBindez/pytubefix/pull/209\n",
      "The ANDROID client requires PoToken to obtain functional streams, See more details at https://github.com/JuanBindez/pytubefix/pull/209\n"
     ]
    },
    {
     "name": "stdout",
     "output_type": "stream",
     "text": [
      "Downloading Ronggeng Jakarta...\n"
     ]
    },
    {
     "name": "stderr",
     "output_type": "stream",
     "text": [
      "The ANDROID client requires PoToken to obtain functional streams, See more details at https://github.com/JuanBindez/pytubefix/pull/209\n",
      "The ANDROID client requires PoToken to obtain functional streams, See more details at https://github.com/JuanBindez/pytubefix/pull/209\n"
     ]
    },
    {
     "name": "stdout",
     "output_type": "stream",
     "text": [
      "Downloading Video Lirik Lagu Daerah | Ronggeng Jakarta...\n"
     ]
    },
    {
     "name": "stderr",
     "output_type": "stream",
     "text": [
      "The ANDROID client requires PoToken to obtain functional streams, See more details at https://github.com/JuanBindez/pytubefix/pull/209\n",
      "The ANDROID client requires PoToken to obtain functional streams, See more details at https://github.com/JuanBindez/pytubefix/pull/209\n"
     ]
    },
    {
     "name": "stdout",
     "output_type": "stream",
     "text": [
      "Downloading ronggeng nyentrik...\n"
     ]
    },
    {
     "name": "stderr",
     "output_type": "stream",
     "text": [
      "The ANDROID client requires PoToken to obtain functional streams, See more details at https://github.com/JuanBindez/pytubefix/pull/209\n",
      "The ANDROID client requires PoToken to obtain functional streams, See more details at https://github.com/JuanBindez/pytubefix/pull/209\n"
     ]
    },
    {
     "name": "stdout",
     "output_type": "stream",
     "text": [
      "Downloading Sirih Kuning - Lagu Daerah Jakarta (dengan Lirik)...\n",
      "Duration of Tari Cokek Sirih Kuning (MIRRORED) is too long\n",
      "Duration of Tari sirih kuning Man 19 Jakarta is too long\n"
     ]
    },
    {
     "name": "stderr",
     "output_type": "stream",
     "text": [
      "The ANDROID client requires PoToken to obtain functional streams, See more details at https://github.com/JuanBindez/pytubefix/pull/209\n",
      "The ANDROID client requires PoToken to obtain functional streams, See more details at https://github.com/JuanBindez/pytubefix/pull/209\n"
     ]
    },
    {
     "name": "stdout",
     "output_type": "stream",
     "text": [
      "Downloading Surilang - Lagu Jakarta...\n"
     ]
    },
    {
     "name": "stderr",
     "output_type": "stream",
     "text": [
      "The ANDROID client requires PoToken to obtain functional streams, See more details at https://github.com/JuanBindez/pytubefix/pull/209\n",
      "The ANDROID client requires PoToken to obtain functional streams, See more details at https://github.com/JuanBindez/pytubefix/pull/209\n"
     ]
    },
    {
     "name": "stdout",
     "output_type": "stream",
     "text": [
      "Downloading Surilang - Karaoke...\n"
     ]
    },
    {
     "name": "stderr",
     "output_type": "stream",
     "text": [
      "The ANDROID client requires PoToken to obtain functional streams, See more details at https://github.com/JuanBindez/pytubefix/pull/209\n",
      "The ANDROID client requires PoToken to obtain functional streams, See more details at https://github.com/JuanBindez/pytubefix/pull/209\n"
     ]
    },
    {
     "name": "stdout",
     "output_type": "stream",
     "text": [
      "Downloading Surilang...\n"
     ]
    },
    {
     "name": "stderr",
     "output_type": "stream",
     "text": [
      "The ANDROID client requires PoToken to obtain functional streams, See more details at https://github.com/JuanBindez/pytubefix/pull/209\n",
      "The ANDROID client requires PoToken to obtain functional streams, See more details at https://github.com/JuanBindez/pytubefix/pull/209\n"
     ]
    },
    {
     "name": "stdout",
     "output_type": "stream",
     "text": [
      "Downloading 7. Kelap Kelip...\n"
     ]
    },
    {
     "name": "stderr",
     "output_type": "stream",
     "text": [
      "The ANDROID client requires PoToken to obtain functional streams, See more details at https://github.com/JuanBindez/pytubefix/pull/209\n",
      "The ANDROID client requires PoToken to obtain functional streams, See more details at https://github.com/JuanBindez/pytubefix/pull/209\n"
     ]
    },
    {
     "name": "stdout",
     "output_type": "stream",
     "text": [
      "Downloading Kelap Kelip - Jakarta / Betawi...\n"
     ]
    },
    {
     "name": "stderr",
     "output_type": "stream",
     "text": [
      "The ANDROID client requires PoToken to obtain functional streams, See more details at https://github.com/JuanBindez/pytubefix/pull/209\n",
      "The ANDROID client requires PoToken to obtain functional streams, See more details at https://github.com/JuanBindez/pytubefix/pull/209\n"
     ]
    },
    {
     "name": "stdout",
     "output_type": "stream",
     "text": [
      "Downloading SONG FROM OLD DJAKARTA - KELAP KELIP...\n"
     ]
    },
    {
     "name": "stderr",
     "output_type": "stream",
     "text": [
      "The ANDROID client requires PoToken to obtain functional streams, See more details at https://github.com/JuanBindez/pytubefix/pull/209\n",
      "The ANDROID client requires PoToken to obtain functional streams, See more details at https://github.com/JuanBindez/pytubefix/pull/209\n"
     ]
    },
    {
     "name": "stdout",
     "output_type": "stream",
     "text": [
      "Downloading Hujan Gerimis - Benjamin Sueb at Hotel Grand Sahid Jakarta  | Cover by Deo Entertainment...\n"
     ]
    },
    {
     "name": "stderr",
     "output_type": "stream",
     "text": [
      "The ANDROID client requires PoToken to obtain functional streams, See more details at https://github.com/JuanBindez/pytubefix/pull/209\n",
      "The ANDROID client requires PoToken to obtain functional streams, See more details at https://github.com/JuanBindez/pytubefix/pull/209\n"
     ]
    },
    {
     "name": "stdout",
     "output_type": "stream",
     "text": [
      "Downloading Hujan Gerimis...\n"
     ]
    },
    {
     "name": "stderr",
     "output_type": "stream",
     "text": [
      "The ANDROID client requires PoToken to obtain functional streams, See more details at https://github.com/JuanBindez/pytubefix/pull/209\n",
      "The ANDROID client requires PoToken to obtain functional streams, See more details at https://github.com/JuanBindez/pytubefix/pull/209\n"
     ]
    },
    {
     "name": "stdout",
     "output_type": "stream",
     "text": [
      "Downloading Benyamin S & Ida Royani - Hujan Gerimis...\n"
     ]
    },
    {
     "name": "stderr",
     "output_type": "stream",
     "text": [
      "The ANDROID client requires PoToken to obtain functional streams, See more details at https://github.com/JuanBindez/pytubefix/pull/209\n",
      "The ANDROID client requires PoToken to obtain functional streams, See more details at https://github.com/JuanBindez/pytubefix/pull/209\n"
     ]
    },
    {
     "name": "stdout",
     "output_type": "stream",
     "text": [
      "Downloading Dayung Sampan - Lagu Daerah Banten (dengan Lirik)...\n"
     ]
    },
    {
     "name": "stderr",
     "output_type": "stream",
     "text": [
      "The ANDROID client requires PoToken to obtain functional streams, See more details at https://github.com/JuanBindez/pytubefix/pull/209\n",
      "The ANDROID client requires PoToken to obtain functional streams, See more details at https://github.com/JuanBindez/pytubefix/pull/209\n"
     ]
    },
    {
     "name": "stdout",
     "output_type": "stream",
     "text": [
      "Downloading Dayung Sampan... ekskul paduan suara SMP KK MARSUDIRINI JAKARTA UTARA....\n",
      "Duration of Lgm. Dayung Sampan is too long\n"
     ]
    },
    {
     "name": "stderr",
     "output_type": "stream",
     "text": [
      "The ANDROID client requires PoToken to obtain functional streams, See more details at https://github.com/JuanBindez/pytubefix/pull/209\n",
      "The ANDROID client requires PoToken to obtain functional streams, See more details at https://github.com/JuanBindez/pytubefix/pull/209\n"
     ]
    },
    {
     "name": "stdout",
     "output_type": "stream",
     "text": [
      "Downloading ABANG PULANG  benyamin sueb&ida royani...\n",
      "Duration of TUNGGU ABANG PULANG - ANGGA CANDRA FEAT 3PEMUDA BERBAHAYA & SALLSA BINTAN is too long\n"
     ]
    },
    {
     "name": "stderr",
     "output_type": "stream",
     "text": [
      "The ANDROID client requires PoToken to obtain functional streams, See more details at https://github.com/JuanBindez/pytubefix/pull/209\n",
      "The ANDROID client requires PoToken to obtain functional streams, See more details at https://github.com/JuanBindez/pytubefix/pull/209\n"
     ]
    },
    {
     "name": "stdout",
     "output_type": "stream",
     "text": [
      "Downloading Abang Pulang...\n"
     ]
    },
    {
     "name": "stderr",
     "output_type": "stream",
     "text": [
      "The ANDROID client requires PoToken to obtain functional streams, See more details at https://github.com/JuanBindez/pytubefix/pull/209\n",
      "The ANDROID client requires PoToken to obtain functional streams, See more details at https://github.com/JuanBindez/pytubefix/pull/209\n"
     ]
    },
    {
     "name": "stdout",
     "output_type": "stream",
     "text": [
      "Downloading Sang Bango...\n"
     ]
    },
    {
     "name": "stderr",
     "output_type": "stream",
     "text": [
      "The ANDROID client requires PoToken to obtain functional streams, See more details at https://github.com/JuanBindez/pytubefix/pull/209\n",
      "The ANDROID client requires PoToken to obtain functional streams, See more details at https://github.com/JuanBindez/pytubefix/pull/209\n"
     ]
    },
    {
     "name": "stdout",
     "output_type": "stream",
     "text": [
      "Downloading Sang bango ( Benyamin S )...\n"
     ]
    },
    {
     "name": "stderr",
     "output_type": "stream",
     "text": [
      "The ANDROID client requires PoToken to obtain functional streams, See more details at https://github.com/JuanBindez/pytubefix/pull/209\n",
      "The ANDROID client requires PoToken to obtain functional streams, See more details at https://github.com/JuanBindez/pytubefix/pull/209\n"
     ]
    },
    {
     "name": "stdout",
     "output_type": "stream",
     "text": [
      "Downloading SANG BANGO - Binyamin S. || Cover by - Bang Pengky TOP (Tukang Ojek Pengkolan)...\n",
      "Duration of Batanghari - Lagu Daerah Jambi (Lirik dan Terjemahan) is too long\n",
      "Duration of LAGU JAMBI!!! Batanghari - Erpan LIDA 2020 ( Cover ) is too long\n",
      "Error processing song: could not convert string to float: '2.52.18'\n"
     ]
    },
    {
     "name": "stderr",
     "output_type": "stream",
     "text": [
      "The ANDROID client requires PoToken to obtain functional streams, See more details at https://github.com/JuanBindez/pytubefix/pull/209\n",
      "The ANDROID client requires PoToken to obtain functional streams, See more details at https://github.com/JuanBindez/pytubefix/pull/209\n"
     ]
    },
    {
     "name": "stdout",
     "output_type": "stream",
     "text": [
      "Downloading Dodoi Si Dodoi - Lagu Daerah Jambi (dengan Lirik)...\n"
     ]
    },
    {
     "name": "stderr",
     "output_type": "stream",
     "text": [
      "The ANDROID client requires PoToken to obtain functional streams, See more details at https://github.com/JuanBindez/pytubefix/pull/209\n",
      "The ANDROID client requires PoToken to obtain functional streams, See more details at https://github.com/JuanBindez/pytubefix/pull/209\n"
     ]
    },
    {
     "name": "stdout",
     "output_type": "stream",
     "text": [
      "Downloading Dodoi Si Dodoi   Daniel Saniara...\n",
      "Duration of Dodoi Si Dodoi Cover Lody Tambunan @ZoanTranspose is too long\n"
     ]
    },
    {
     "name": "stderr",
     "output_type": "stream",
     "text": [
      "The ANDROID client requires PoToken to obtain functional streams, See more details at https://github.com/JuanBindez/pytubefix/pull/209\n",
      "The ANDROID client requires PoToken to obtain functional streams, See more details at https://github.com/JuanBindez/pytubefix/pull/209\n"
     ]
    },
    {
     "name": "stdout",
     "output_type": "stream",
     "text": [
      "Downloading Tari Injit Injit Semut - Tari Kreasi Daerah Jambi - Mudah untuk Anak Tk Paud & Pemula...\n"
     ]
    },
    {
     "name": "stderr",
     "output_type": "stream",
     "text": [
      "The ANDROID client requires PoToken to obtain functional streams, See more details at https://github.com/JuanBindez/pytubefix/pull/209\n",
      "The ANDROID client requires PoToken to obtain functional streams, See more details at https://github.com/JuanBindez/pytubefix/pull/209\n"
     ]
    },
    {
     "name": "stdout",
     "output_type": "stream",
     "text": [
      "Downloading INJIT-INJIT SEMUT | Lagu Daerah Jambi | Lirik Lagu...\n"
     ]
    },
    {
     "name": "stderr",
     "output_type": "stream",
     "text": [
      "The ANDROID client requires PoToken to obtain functional streams, See more details at https://github.com/JuanBindez/pytubefix/pull/209\n",
      "The ANDROID client requires PoToken to obtain functional streams, See more details at https://github.com/JuanBindez/pytubefix/pull/209\n"
     ]
    },
    {
     "name": "stdout",
     "output_type": "stream",
     "text": [
      "Downloading Terbaik || Lirik Lagu Injit-injit Semut || Lagu Tematik || Ceo Jati Atmodjo...\n"
     ]
    },
    {
     "name": "stderr",
     "output_type": "stream",
     "text": [
      "The ANDROID client requires PoToken to obtain functional streams, See more details at https://github.com/JuanBindez/pytubefix/pull/209\n",
      "The ANDROID client requires PoToken to obtain functional streams, See more details at https://github.com/JuanBindez/pytubefix/pull/209\n"
     ]
    },
    {
     "name": "stdout",
     "output_type": "stream",
     "text": [
      "Downloading Pinang Muda (Jambi)...\n"
     ]
    },
    {
     "name": "stderr",
     "output_type": "stream",
     "text": [
      "The ANDROID client requires PoToken to obtain functional streams, See more details at https://github.com/JuanBindez/pytubefix/pull/209\n",
      "The ANDROID client requires PoToken to obtain functional streams, See more details at https://github.com/JuanBindez/pytubefix/pull/209\n"
     ]
    },
    {
     "name": "stdout",
     "output_type": "stream",
     "text": [
      "Downloading Pinang Muda - Lagu Daerah Jambi (dengan Lirik)...\n"
     ]
    },
    {
     "name": "stderr",
     "output_type": "stream",
     "text": [
      "The ANDROID client requires PoToken to obtain functional streams, See more details at https://github.com/JuanBindez/pytubefix/pull/209\n",
      "The ANDROID client requires PoToken to obtain functional streams, See more details at https://github.com/JuanBindez/pytubefix/pull/209\n"
     ]
    },
    {
     "name": "stdout",
     "output_type": "stream",
     "text": [
      "Downloading Manfaat Buah Pinang Muda || Efek Sampingnya untuk Kesehatan...\n",
      "Duration of Rika Amir Feat Abdil - SELENDANG MAYANG - Cipt. NN is too long\n",
      "Duration of LAGU DAERAH JAMBI TERBARU 2021 (reupload) || SELENDANG MAYANG-MATAGUAL (Piul Melayu) #muaratembesi is too long\n",
      "Duration of Lagu Daerah JAMBI - SELENDANG MAYANG - KARAOKE is too long\n"
     ]
    },
    {
     "name": "stderr",
     "output_type": "stream",
     "text": [
      "The ANDROID client requires PoToken to obtain functional streams, See more details at https://github.com/JuanBindez/pytubefix/pull/209\n",
      "The ANDROID client requires PoToken to obtain functional streams, See more details at https://github.com/JuanBindez/pytubefix/pull/209\n"
     ]
    },
    {
     "name": "stdout",
     "output_type": "stream",
     "text": [
      "Downloading Timang Timang Anakku Sayang // Lagu Daerah Jambi...\n",
      "Duration of Timang-Timang Anakku Sayang - Cover by Alfin Habib is too long\n",
      "Duration of Sanggar bina tasik - jamming musik - timang timang anakku sayang ( Live recording ) is too long\n",
      "Duration of Timang-Timang Anakku Sayang - Cover by Alfin Habib is too long\n"
     ]
    },
    {
     "name": "stderr",
     "output_type": "stream",
     "text": [
      "The ANDROID client requires PoToken to obtain functional streams, See more details at https://github.com/JuanBindez/pytubefix/pull/209\n",
      "The ANDROID client requires PoToken to obtain functional streams, See more details at https://github.com/JuanBindez/pytubefix/pull/209\n"
     ]
    },
    {
     "name": "stdout",
     "output_type": "stream",
     "text": [
      "Downloading Timang Timang Anakku Sayang // Lagu Daerah Jambi...\n",
      "Duration of Sanggar bina tasik - jamming musik - timang timang anakku sayang ( Live recording ) is too long\n"
     ]
    },
    {
     "name": "stderr",
     "output_type": "stream",
     "text": [
      "The ANDROID client requires PoToken to obtain functional streams, See more details at https://github.com/JuanBindez/pytubefix/pull/209\n",
      "The ANDROID client requires PoToken to obtain functional streams, See more details at https://github.com/JuanBindez/pytubefix/pull/209\n"
     ]
    },
    {
     "name": "stdout",
     "output_type": "stream",
     "text": [
      "Downloading Jambi Mantap Ala Supik Lancip Edisi-6...\n",
      "Duration of Cerita Rakyat Jambi - Asal Usul Negeri Jambi | Dongeng Kita is too long\n"
     ]
    },
    {
     "name": "stderr",
     "output_type": "stream",
     "text": [
      "The ANDROID client requires PoToken to obtain functional streams, See more details at https://github.com/JuanBindez/pytubefix/pull/209\n",
      "The ANDROID client requires PoToken to obtain functional streams, See more details at https://github.com/JuanBindez/pytubefix/pull/209\n"
     ]
    },
    {
     "name": "stdout",
     "output_type": "stream",
     "text": [
      "Downloading VIDEO LIRIK - NEGERI JAMBI...\n"
     ]
    },
    {
     "name": "stderr",
     "output_type": "stream",
     "text": [
      "The ANDROID client requires PoToken to obtain functional streams, See more details at https://github.com/JuanBindez/pytubefix/pull/209\n",
      "The ANDROID client requires PoToken to obtain functional streams, See more details at https://github.com/JuanBindez/pytubefix/pull/209\n"
     ]
    },
    {
     "name": "stdout",
     "output_type": "stream",
     "text": [
      "Downloading ASAL USUL ANGSO DUO JAMBI...\n"
     ]
    },
    {
     "name": "stderr",
     "output_type": "stream",
     "text": [
      "The ANDROID client requires PoToken to obtain functional streams, See more details at https://github.com/JuanBindez/pytubefix/pull/209\n",
      "The ANDROID client requires PoToken to obtain functional streams, See more details at https://github.com/JuanBindez/pytubefix/pull/209\n"
     ]
    },
    {
     "name": "stdout",
     "output_type": "stream",
     "text": [
      "Downloading LAGU JAMBI ~ IDAK DISANGKO SANGKO ~ NARA AFRIANI...\n"
     ]
    },
    {
     "name": "stderr",
     "output_type": "stream",
     "text": [
      "The ANDROID client requires PoToken to obtain functional streams, See more details at https://github.com/JuanBindez/pytubefix/pull/209\n",
      "The ANDROID client requires PoToken to obtain functional streams, See more details at https://github.com/JuanBindez/pytubefix/pull/209\n"
     ]
    },
    {
     "name": "stdout",
     "output_type": "stream",
     "text": [
      "Downloading lagu angso duo daerah jambi...\n",
      "Duration of ORANG KAYO HITAM | ASAL USUL NEGERI JAMBI is too long\n"
     ]
    },
    {
     "name": "stderr",
     "output_type": "stream",
     "text": [
      "The ANDROID client requires PoToken to obtain functional streams, See more details at https://github.com/JuanBindez/pytubefix/pull/209\n",
      "The ANDROID client requires PoToken to obtain functional streams, See more details at https://github.com/JuanBindez/pytubefix/pull/209\n"
     ]
    },
    {
     "name": "stdout",
     "output_type": "stream",
     "text": [
      "Downloading Orang Kayo Hitam - lagu jambi...\n",
      "Duration of ORANG KAYO HITAM JAMBI | KISAH ORANG KAYO HITAM JAMBI is too long\n"
     ]
    },
    {
     "name": "stderr",
     "output_type": "stream",
     "text": [
      "The ANDROID client requires PoToken to obtain functional streams, See more details at https://github.com/JuanBindez/pytubefix/pull/209\n",
      "The ANDROID client requires PoToken to obtain functional streams, See more details at https://github.com/JuanBindez/pytubefix/pull/209\n"
     ]
    },
    {
     "name": "stdout",
     "output_type": "stream",
     "text": [
      "Downloading Ayu - Muaro Jambi ( Lagu Daerah Provinsi Jambi )...\n",
      "Duration of Cerita Rakyat Jambi - Asal Usul Negeri Jambi | Dongeng Kita is too long\n",
      "Duration of Putri Raden - Adli Hutman [Original Video] is too long\n"
     ]
    },
    {
     "name": "stderr",
     "output_type": "stream",
     "text": [
      "The ANDROID client requires PoToken to obtain functional streams, See more details at https://github.com/JuanBindez/pytubefix/pull/209\n",
      "The ANDROID client requires PoToken to obtain functional streams, See more details at https://github.com/JuanBindez/pytubefix/pull/209\n"
     ]
    },
    {
     "name": "stdout",
     "output_type": "stream",
     "text": [
      "Downloading SELAYANG PANDANG KABUPATEN SAROLANGUN 2020...\n",
      "Duration of PROFIL KABUPATEN SAROLANGUN 2022 is too long\n",
      "Duration of SEJARAH ASAL DAM AYIK MUAP l Jernih Sarolangun Jambi is too long\n"
     ]
    },
    {
     "name": "stderr",
     "output_type": "stream",
     "text": [
      "The ANDROID client requires PoToken to obtain functional streams, See more details at https://github.com/JuanBindez/pytubefix/pull/209\n",
      "The ANDROID client requires PoToken to obtain functional streams, See more details at https://github.com/JuanBindez/pytubefix/pull/209\n"
     ]
    },
    {
     "name": "stdout",
     "output_type": "stream",
     "text": [
      "Downloading Ratusan Nelayan di Jambi Takut Melaut Akibat Cuaca Ekstrem...\n"
     ]
    },
    {
     "name": "stderr",
     "output_type": "stream",
     "text": [
      "The ANDROID client requires PoToken to obtain functional streams, See more details at https://github.com/JuanBindez/pytubefix/pull/209\n",
      "The ANDROID client requires PoToken to obtain functional streams, See more details at https://github.com/JuanBindez/pytubefix/pull/209\n"
     ]
    },
    {
     "name": "stdout",
     "output_type": "stream",
     "text": [
      "Downloading Ratusan Nelayan di Jambi Sambut Gerakan Pengibaran Seribu Merah Putih...\n"
     ]
    },
    {
     "name": "stderr",
     "output_type": "stream",
     "text": [
      "The ANDROID client requires PoToken to obtain functional streams, See more details at https://github.com/JuanBindez/pytubefix/pull/209\n",
      "The ANDROID client requires PoToken to obtain functional streams, See more details at https://github.com/JuanBindez/pytubefix/pull/209\n"
     ]
    },
    {
     "name": "stdout",
     "output_type": "stream",
     "text": [
      "Downloading Cuaca Exstrem, Permukiman Nelayan di Tanjung Jabung, Jambi, Diterpa Ombak Besar - iNews Sore 17/01...\n",
      "Duration of LAGU JAMBI ~ GADIS RIMBO BUJANG ~ ZONA IRAMA & YANTI is too long\n"
     ]
    },
    {
     "name": "stderr",
     "output_type": "stream",
     "text": [
      "The ANDROID client requires PoToken to obtain functional streams, See more details at https://github.com/JuanBindez/pytubefix/pull/209\n",
      "The ANDROID client requires PoToken to obtain functional streams, See more details at https://github.com/JuanBindez/pytubefix/pull/209\n"
     ]
    },
    {
     "name": "stdout",
     "output_type": "stream",
     "text": [
      "Downloading Lagu Jambi - Gadis Rimbo Bujang - Denies & Sary bae - Official Video Music Amran Arzuna...\n",
      "Duration of Saputra & Nunung - Gadis Rimbo Bujang (Original) is too long\n"
     ]
    },
    {
     "name": "stderr",
     "output_type": "stream",
     "text": [
      "The ANDROID client requires PoToken to obtain functional streams, See more details at https://github.com/JuanBindez/pytubefix/pull/209\n",
      "The ANDROID client requires PoToken to obtain functional streams, See more details at https://github.com/JuanBindez/pytubefix/pull/209\n"
     ]
    },
    {
     "name": "stdout",
     "output_type": "stream",
     "text": [
      "Downloading Nostalgia Lagu daerah Jambi CIK MINAH (Dagang manumpang~ Abdi Bagawie...\n"
     ]
    },
    {
     "name": "stderr",
     "output_type": "stream",
     "text": [
      "The ANDROID client requires PoToken to obtain functional streams, See more details at https://github.com/JuanBindez/pytubefix/pull/209\n",
      "The ANDROID client requires PoToken to obtain functional streams, See more details at https://github.com/JuanBindez/pytubefix/pull/209\n"
     ]
    },
    {
     "name": "stdout",
     "output_type": "stream",
     "text": [
      "Downloading Lagu daerah jambi - DAGANG MANUMPANG - CIK MINAH - KARAOKE...\n"
     ]
    },
    {
     "name": "stderr",
     "output_type": "stream",
     "text": [
      "The ANDROID client requires PoToken to obtain functional streams, See more details at https://github.com/JuanBindez/pytubefix/pull/209\n",
      "The ANDROID client requires PoToken to obtain functional streams, See more details at https://github.com/JuanBindez/pytubefix/pull/209\n"
     ]
    },
    {
     "name": "stdout",
     "output_type": "stream",
     "text": [
      "Downloading DAGANG MENUMPANG | Karaoke Lagu Daerah Jambi...\n",
      "Duration of Lagu Daerah Jambi ketimun bungkuk is too long\n",
      "Duration of KETIMUN BUNGKUK || SUSI - LAGU JAMBI - Chanel Official Netti Thamrin MJR Group Management is too long\n",
      "Duration of Ketimun Bungkuk - Lagu Daerah Jambi | Lirik, Aksara dan Terjemahan is too long\n",
      "Duration of LAGU KERINCI TANJUNG BAJURE ANDRIA RECORD Channel is too long\n"
     ]
    },
    {
     "name": "stderr",
     "output_type": "stream",
     "text": [
      "The ANDROID client requires PoToken to obtain functional streams, See more details at https://github.com/JuanBindez/pytubefix/pull/209\n",
      "The ANDROID client requires PoToken to obtain functional streams, See more details at https://github.com/JuanBindez/pytubefix/pull/209\n"
     ]
    },
    {
     "name": "stdout",
     "output_type": "stream",
     "text": [
      "Downloading HUSNI THAMRIN  ||Tanjung Bajure || Lagu daerah Jambi...\n"
     ]
    },
    {
     "name": "stderr",
     "output_type": "stream",
     "text": [
      "The ANDROID client requires PoToken to obtain functional streams, See more details at https://github.com/JuanBindez/pytubefix/pull/209\n",
      "The ANDROID client requires PoToken to obtain functional streams, See more details at https://github.com/JuanBindez/pytubefix/pull/209\n"
     ]
    },
    {
     "name": "stdout",
     "output_type": "stream",
     "text": [
      "Downloading TANJUNG BAJURE - LAGU DAERAH JAMBI...\n"
     ]
    },
    {
     "name": "stderr",
     "output_type": "stream",
     "text": [
      "The ANDROID client requires PoToken to obtain functional streams, See more details at https://github.com/JuanBindez/pytubefix/pull/209\n",
      "The ANDROID client requires PoToken to obtain functional streams, See more details at https://github.com/JuanBindez/pytubefix/pull/209\n"
     ]
    },
    {
     "name": "stdout",
     "output_type": "stream",
     "text": [
      "Downloading Nining Meida - Bajing Luncat (Official Lyric Version)...\n",
      "Duration of CAMPURSARI BAJING LONCAT - kendang jaipong is too long\n"
     ]
    },
    {
     "name": "stderr",
     "output_type": "stream",
     "text": [
      "The ANDROID client requires PoToken to obtain functional streams, See more details at https://github.com/JuanBindez/pytubefix/pull/209\n",
      "The ANDROID client requires PoToken to obtain functional streams, See more details at https://github.com/JuanBindez/pytubefix/pull/209\n"
     ]
    },
    {
     "name": "stdout",
     "output_type": "stream",
     "text": [
      "Downloading Bajing Luncat...\n"
     ]
    },
    {
     "name": "stderr",
     "output_type": "stream",
     "text": [
      "The ANDROID client requires PoToken to obtain functional streams, See more details at https://github.com/JuanBindez/pytubefix/pull/209\n",
      "The ANDROID client requires PoToken to obtain functional streams, See more details at https://github.com/JuanBindez/pytubefix/pull/209\n"
     ]
    },
    {
     "name": "stdout",
     "output_type": "stream",
     "text": [
      "Downloading Lirik Lagu Bubuy Bulan - Lagu Daerah Jawa Barat...\n"
     ]
    },
    {
     "name": "stderr",
     "output_type": "stream",
     "text": [
      "The ANDROID client requires PoToken to obtain functional streams, See more details at https://github.com/JuanBindez/pytubefix/pull/209\n",
      "The ANDROID client requires PoToken to obtain functional streams, See more details at https://github.com/JuanBindez/pytubefix/pull/209\n"
     ]
    },
    {
     "name": "stdout",
     "output_type": "stream",
     "text": [
      "Downloading BUBUY BULAN (Lirik) - Lagu Daerah Jawa Barat Versi Anak | Tema 7 Kelas 4 SD | VOCAL SHEMA...\n"
     ]
    },
    {
     "name": "stderr",
     "output_type": "stream",
     "text": [
      "The ANDROID client requires PoToken to obtain functional streams, See more details at https://github.com/JuanBindez/pytubefix/pull/209\n",
      "The ANDROID client requires PoToken to obtain functional streams, See more details at https://github.com/JuanBindez/pytubefix/pull/209\n"
     ]
    },
    {
     "name": "stdout",
     "output_type": "stream",
     "text": [
      "Downloading Bubuy Bulan...\n"
     ]
    },
    {
     "name": "stderr",
     "output_type": "stream",
     "text": [
      "The ANDROID client requires PoToken to obtain functional streams, See more details at https://github.com/JuanBindez/pytubefix/pull/209\n",
      "The ANDROID client requires PoToken to obtain functional streams, See more details at https://github.com/JuanBindez/pytubefix/pull/209\n"
     ]
    },
    {
     "name": "stdout",
     "output_type": "stream",
     "text": [
      "Downloading Cing Cangkeling - Lagu Daerah Jawa Barat (dengan Lirik)...\n"
     ]
    },
    {
     "name": "stderr",
     "output_type": "stream",
     "text": [
      "The ANDROID client requires PoToken to obtain functional streams, See more details at https://github.com/JuanBindez/pytubefix/pull/209\n",
      "The ANDROID client requires PoToken to obtain functional streams, See more details at https://github.com/JuanBindez/pytubefix/pull/209\n"
     ]
    },
    {
     "name": "stdout",
     "output_type": "stream",
     "text": [
      "Downloading tarian cing cangkeling anak tk...\n",
      "Duration of Lagu Sunda Lawas Paling Banyak Dicari || Cingcangkeling is too long\n"
     ]
    },
    {
     "name": "stderr",
     "output_type": "stream",
     "text": [
      "The ANDROID client requires PoToken to obtain functional streams, See more details at https://github.com/JuanBindez/pytubefix/pull/209\n",
      "The ANDROID client requires PoToken to obtain functional streams, See more details at https://github.com/JuanBindez/pytubefix/pull/209\n"
     ]
    },
    {
     "name": "stdout",
     "output_type": "stream",
     "text": [
      "Downloading LAGU ANAK TERBARU & TERPOPULER - ES LILIN (LAGU DAERAH JAWA BARAT)...\n"
     ]
    },
    {
     "name": "stderr",
     "output_type": "stream",
     "text": [
      "The ANDROID client requires PoToken to obtain functional streams, See more details at https://github.com/JuanBindez/pytubefix/pull/209\n",
      "The ANDROID client requires PoToken to obtain functional streams, See more details at https://github.com/JuanBindez/pytubefix/pull/209\n"
     ]
    },
    {
     "name": "stdout",
     "output_type": "stream",
     "text": [
      "Downloading Es Lilin - Lagu Daerah Jawa Barat (Lirik dan Terjemahan)...\n",
      "Duration of Es Lilin - Yani Purbasari is too long\n"
     ]
    },
    {
     "name": "stderr",
     "output_type": "stream",
     "text": [
      "The ANDROID client requires PoToken to obtain functional streams, See more details at https://github.com/JuanBindez/pytubefix/pull/209\n",
      "The ANDROID client requires PoToken to obtain functional streams, See more details at https://github.com/JuanBindez/pytubefix/pull/209\n"
     ]
    },
    {
     "name": "stdout",
     "output_type": "stream",
     "text": [
      "Downloading Lirik Lagu manuk Dadali...\n"
     ]
    },
    {
     "name": "stderr",
     "output_type": "stream",
     "text": [
      "The ANDROID client requires PoToken to obtain functional streams, See more details at https://github.com/JuanBindez/pytubefix/pull/209\n",
      "The ANDROID client requires PoToken to obtain functional streams, See more details at https://github.com/JuanBindez/pytubefix/pull/209\n"
     ]
    },
    {
     "name": "stdout",
     "output_type": "stream",
     "text": [
      "Downloading Tari Manuk Dadali-Jawa Barat || \"Keragaman Budaya Indonesia\" XI IPS 4...\n"
     ]
    },
    {
     "name": "stderr",
     "output_type": "stream",
     "text": [
      "The ANDROID client requires PoToken to obtain functional streams, See more details at https://github.com/JuanBindez/pytubefix/pull/209\n",
      "The ANDROID client requires PoToken to obtain functional streams, See more details at https://github.com/JuanBindez/pytubefix/pull/209\n"
     ]
    },
    {
     "name": "stdout",
     "output_type": "stream",
     "text": [
      "Downloading Aty Surya - Manuk Dadali...\n",
      "Duration of Neng Geulis - Alfian (Cover by @anjarboleaz  Ft. @sorasaparakanca) is too long\n"
     ]
    },
    {
     "name": "stderr",
     "output_type": "stream",
     "text": [
      "The ANDROID client requires PoToken to obtain functional streams, See more details at https://github.com/JuanBindez/pytubefix/pull/209\n",
      "The ANDROID client requires PoToken to obtain functional streams, See more details at https://github.com/JuanBindez/pytubefix/pull/209\n"
     ]
    },
    {
     "name": "stdout",
     "output_type": "stream",
     "text": [
      "Downloading Neng Geulis - Lagu Daerah Jawa Barat (Lirik dan Terjemahan)...\n"
     ]
    },
    {
     "name": "stderr",
     "output_type": "stream",
     "text": [
      "The ANDROID client requires PoToken to obtain functional streams, See more details at https://github.com/JuanBindez/pytubefix/pull/209\n",
      "The ANDROID client requires PoToken to obtain functional streams, See more details at https://github.com/JuanBindez/pytubefix/pull/209\n"
     ]
    },
    {
     "name": "stdout",
     "output_type": "stream",
     "text": [
      "Downloading Neng Geulis...\n"
     ]
    },
    {
     "name": "stderr",
     "output_type": "stream",
     "text": [
      "The ANDROID client requires PoToken to obtain functional streams, See more details at https://github.com/JuanBindez/pytubefix/pull/209\n",
      "The ANDROID client requires PoToken to obtain functional streams, See more details at https://github.com/JuanBindez/pytubefix/pull/209\n"
     ]
    },
    {
     "name": "stdout",
     "output_type": "stream",
     "text": [
      "Downloading BI Jawa Barat Studi Banding ke Industri Tenun NTT...\n",
      "Duration of Tenun Gadod Yang Menolak Punah is too long\n"
     ]
    },
    {
     "name": "stderr",
     "output_type": "stream",
     "text": [
      "The ANDROID client requires PoToken to obtain functional streams, See more details at https://github.com/JuanBindez/pytubefix/pull/209\n",
      "The ANDROID client requires PoToken to obtain functional streams, See more details at https://github.com/JuanBindez/pytubefix/pull/209\n"
     ]
    },
    {
     "name": "stdout",
     "output_type": "stream",
     "text": [
      "Downloading Showcasing UMKM Kategori Kain Tenun dan Batik Jawa Barat dalam rangka KKI seri 1 2020 di Jawa Barat...\n"
     ]
    },
    {
     "name": "stderr",
     "output_type": "stream",
     "text": [
      "The ANDROID client requires PoToken to obtain functional streams, See more details at https://github.com/JuanBindez/pytubefix/pull/209\n",
      "The ANDROID client requires PoToken to obtain functional streams, See more details at https://github.com/JuanBindez/pytubefix/pull/209\n"
     ]
    },
    {
     "name": "stdout",
     "output_type": "stream",
     "text": [
      "Downloading Panon hideung lirik - # kawih sunda #urangsunda...\n"
     ]
    },
    {
     "name": "stderr",
     "output_type": "stream",
     "text": [
      "The ANDROID client requires PoToken to obtain functional streams, See more details at https://github.com/JuanBindez/pytubefix/pull/209\n",
      "The ANDROID client requires PoToken to obtain functional streams, See more details at https://github.com/JuanBindez/pytubefix/pull/209\n"
     ]
    },
    {
     "name": "stdout",
     "output_type": "stream",
     "text": [
      "Downloading Panon Hideung (Live Anjar Boleaz ft Sora Saparakanca)...\n"
     ]
    },
    {
     "name": "stderr",
     "output_type": "stream",
     "text": [
      "The ANDROID client requires PoToken to obtain functional streams, See more details at https://github.com/JuanBindez/pytubefix/pull/209\n",
      "The ANDROID client requires PoToken to obtain functional streams, See more details at https://github.com/JuanBindez/pytubefix/pull/209\n"
     ]
    },
    {
     "name": "stdout",
     "output_type": "stream",
     "text": [
      "Downloading PANON HIDEUNG_KARAOKE LAGU DAERAH _ JAWA BARAT...\n",
      "Duration of KAWIH PEPELING 🎵 PANGGEUING BATIN 🔊 is too long\n"
     ]
    },
    {
     "name": "stderr",
     "output_type": "stream",
     "text": [
      "The ANDROID client requires PoToken to obtain functional streams, See more details at https://github.com/JuanBindez/pytubefix/pull/209\n",
      "The ANDROID client requires PoToken to obtain functional streams, See more details at https://github.com/JuanBindez/pytubefix/pull/209\n"
     ]
    },
    {
     "name": "stdout",
     "output_type": "stream",
     "text": [
      "Downloading Deni Kristiani - Pepeling ( Official Music Video )...\n",
      "Duration of LAGU SUNDA \"PEPELING\"  - H. AHMAD SYAIKHU is too long\n"
     ]
    },
    {
     "name": "stderr",
     "output_type": "stream",
     "text": [
      "The ANDROID client requires PoToken to obtain functional streams, See more details at https://github.com/JuanBindez/pytubefix/pull/209\n",
      "The ANDROID client requires PoToken to obtain functional streams, See more details at https://github.com/JuanBindez/pytubefix/pull/209\n"
     ]
    },
    {
     "name": "stdout",
     "output_type": "stream",
     "text": [
      "Downloading Lirik Peyeum Bandung - Lagu Daerah Jawa Barat...\n"
     ]
    },
    {
     "name": "stderr",
     "output_type": "stream",
     "text": [
      "The ANDROID client requires PoToken to obtain functional streams, See more details at https://github.com/JuanBindez/pytubefix/pull/209\n",
      "The ANDROID client requires PoToken to obtain functional streams, See more details at https://github.com/JuanBindez/pytubefix/pull/209\n"
     ]
    },
    {
     "name": "stdout",
     "output_type": "stream",
     "text": [
      "Downloading Begini Lho Cara Membuat Peuyeum | JEJAK ANAK NEGERI...\n"
     ]
    },
    {
     "name": "stderr",
     "output_type": "stream",
     "text": [
      "The ANDROID client requires PoToken to obtain functional streams, See more details at https://github.com/JuanBindez/pytubefix/pull/209\n",
      "The ANDROID client requires PoToken to obtain functional streams, See more details at https://github.com/JuanBindez/pytubefix/pull/209\n"
     ]
    },
    {
     "name": "stdout",
     "output_type": "stream",
     "text": [
      "Downloading Peuyeum Bandung - Nining Meida...\n"
     ]
    },
    {
     "name": "stderr",
     "output_type": "stream",
     "text": [
      "The ANDROID client requires PoToken to obtain functional streams, See more details at https://github.com/JuanBindez/pytubefix/pull/209\n",
      "The ANDROID client requires PoToken to obtain functional streams, See more details at https://github.com/JuanBindez/pytubefix/pull/209\n"
     ]
    },
    {
     "name": "stdout",
     "output_type": "stream",
     "text": [
      "Downloading PILEULEUYAN | Lagu Daerah Jawa Barat | Budaya Indonesia | Dongeng Kita...\n"
     ]
    },
    {
     "name": "stderr",
     "output_type": "stream",
     "text": [
      "The ANDROID client requires PoToken to obtain functional streams, See more details at https://github.com/JuanBindez/pytubefix/pull/209\n",
      "The ANDROID client requires PoToken to obtain functional streams, See more details at https://github.com/JuanBindez/pytubefix/pull/209\n"
     ]
    },
    {
     "name": "stdout",
     "output_type": "stream",
     "text": [
      "Downloading Pileuleuyan...\n"
     ]
    },
    {
     "name": "stderr",
     "output_type": "stream",
     "text": [
      "The ANDROID client requires PoToken to obtain functional streams, See more details at https://github.com/JuanBindez/pytubefix/pull/209\n",
      "The ANDROID client requires PoToken to obtain functional streams, See more details at https://github.com/JuanBindez/pytubefix/pull/209\n"
     ]
    },
    {
     "name": "stdout",
     "output_type": "stream",
     "text": [
      "Downloading Pileuleuyan...\n",
      "Duration of Lagu Sapu Nyéré Pegat Simpay - Lirik Kawih Sunda Ririungan Urang Karumpul is too long\n",
      "Duration of Anjar Boleaz - Sapu Nyere Pegat Simpai is too long\n",
      "Duration of Sapu Nyere is too long\n"
     ]
    },
    {
     "name": "stderr",
     "output_type": "stream",
     "text": [
      "The ANDROID client requires PoToken to obtain functional streams, See more details at https://github.com/JuanBindez/pytubefix/pull/209\n",
      "The ANDROID client requires PoToken to obtain functional streams, See more details at https://github.com/JuanBindez/pytubefix/pull/209\n"
     ]
    },
    {
     "name": "stdout",
     "output_type": "stream",
     "text": [
      "Downloading TOKECANG | Lagu Daerah Jawa barat | Budaya Indonesia | Dongeng Kita...\n"
     ]
    },
    {
     "name": "stderr",
     "output_type": "stream",
     "text": [
      "The ANDROID client requires PoToken to obtain functional streams, See more details at https://github.com/JuanBindez/pytubefix/pull/209\n",
      "The ANDROID client requires PoToken to obtain functional streams, See more details at https://github.com/JuanBindez/pytubefix/pull/209\n"
     ]
    },
    {
     "name": "stdout",
     "output_type": "stream",
     "text": [
      "Downloading Lagu Tokecang Lirik...\n"
     ]
    },
    {
     "name": "stderr",
     "output_type": "stream",
     "text": [
      "The ANDROID client requires PoToken to obtain functional streams, See more details at https://github.com/JuanBindez/pytubefix/pull/209\n",
      "The ANDROID client requires PoToken to obtain functional streams, See more details at https://github.com/JuanBindez/pytubefix/pull/209\n"
     ]
    },
    {
     "name": "stdout",
     "output_type": "stream",
     "text": [
      "Downloading Tokecang - Vito...\n"
     ]
    },
    {
     "name": "stderr",
     "output_type": "stream",
     "text": [
      "The ANDROID client requires PoToken to obtain functional streams, See more details at https://github.com/JuanBindez/pytubefix/pull/209\n",
      "The ANDROID client requires PoToken to obtain functional streams, See more details at https://github.com/JuanBindez/pytubefix/pull/209\n"
     ]
    },
    {
     "name": "stdout",
     "output_type": "stream",
     "text": [
      "Downloading WARUNG POJOK - NAZMI NADIA X KRISHNA SAGARA (Live Session)...\n"
     ]
    },
    {
     "name": "stderr",
     "output_type": "stream",
     "text": [
      "The ANDROID client requires PoToken to obtain functional streams, See more details at https://github.com/JuanBindez/pytubefix/pull/209\n",
      "The ANDROID client requires PoToken to obtain functional streams, See more details at https://github.com/JuanBindez/pytubefix/pull/209\n"
     ]
    },
    {
     "name": "stdout",
     "output_type": "stream",
     "text": [
      "Downloading Warung Pojok - Lagu Daerah Jawa Barat (dengan Lirik)...\n"
     ]
    },
    {
     "name": "stderr",
     "output_type": "stream",
     "text": [
      "The ANDROID client requires PoToken to obtain functional streams, See more details at https://github.com/JuanBindez/pytubefix/pull/209\n",
      "The ANDROID client requires PoToken to obtain functional streams, See more details at https://github.com/JuanBindez/pytubefix/pull/209\n"
     ]
    },
    {
     "name": "stdout",
     "output_type": "stream",
     "text": [
      "Downloading Warung Pojok...\n"
     ]
    },
    {
     "name": "stderr",
     "output_type": "stream",
     "text": [
      "The ANDROID client requires PoToken to obtain functional streams, See more details at https://github.com/JuanBindez/pytubefix/pull/209\n",
      "The ANDROID client requires PoToken to obtain functional streams, See more details at https://github.com/JuanBindez/pytubefix/pull/209\n"
     ]
    },
    {
     "name": "stdout",
     "output_type": "stream",
     "text": [
      "Downloading Kisah Inspiratif, Rina Marlina Atlet Para Bulu Tangkis Asal Tasikmalaya yang Harumkan Nama Bangsa...\n"
     ]
    },
    {
     "name": "stderr",
     "output_type": "stream",
     "text": [
      "The ANDROID client requires PoToken to obtain functional streams, See more details at https://github.com/JuanBindez/pytubefix/pull/209\n",
      "The ANDROID client requires PoToken to obtain functional streams, See more details at https://github.com/JuanBindez/pytubefix/pull/209\n"
     ]
    },
    {
     "name": "stdout",
     "output_type": "stream",
     "text": [
      "Downloading Raih Beasiswa Bulutangkis, 12 Atlet Junior Resmi Gabung PB Djarum!...\n",
      "Error processing song: could not convert string to float: '4.06.23'\n",
      "Duration of Asal Usul Kota Bandung | Cerita Rakyat Jawa Barat | Kisah Nusantara is too long\n",
      "Duration of ASAL USUL KOTA BANDUNG ~ Cerita Rakyat Jawa Barat | Dongeng Kita is too long\n",
      "Duration of BANDUNG AMBLES!! DETIK DETIK BANJIR BANDANG DAHSYAT KOTA BANDUNG JAWA BARAT HARI INI, BANJIR BANDUNG is too long\n"
     ]
    },
    {
     "name": "stderr",
     "output_type": "stream",
     "text": [
      "The ANDROID client requires PoToken to obtain functional streams, See more details at https://github.com/JuanBindez/pytubefix/pull/209\n",
      "The ANDROID client requires PoToken to obtain functional streams, See more details at https://github.com/JuanBindez/pytubefix/pull/209\n"
     ]
    },
    {
     "name": "stdout",
     "output_type": "stream",
     "text": [
      "Downloading CINTA NUSA (kawih) - LAGU DAERAH (media ajar vokal usia SD/SMP/SMA)...\n"
     ]
    },
    {
     "name": "stderr",
     "output_type": "stream",
     "text": [
      "The ANDROID client requires PoToken to obtain functional streams, See more details at https://github.com/JuanBindez/pytubefix/pull/209\n",
      "The ANDROID client requires PoToken to obtain functional streams, See more details at https://github.com/JuanBindez/pytubefix/pull/209\n"
     ]
    },
    {
     "name": "stdout",
     "output_type": "stream",
     "text": [
      "Downloading Cinta Nusa - Lirik Kawih Sunda...\n"
     ]
    },
    {
     "name": "stderr",
     "output_type": "stream",
     "text": [
      "The ANDROID client requires PoToken to obtain functional streams, See more details at https://github.com/JuanBindez/pytubefix/pull/209\n",
      "The ANDROID client requires PoToken to obtain functional streams, See more details at https://github.com/JuanBindez/pytubefix/pull/209\n"
     ]
    },
    {
     "name": "stdout",
     "output_type": "stream",
     "text": [
      "Downloading Cinta Nusa ( Video Lirik, HQ Audio) || Kawih Sunda...\n"
     ]
    },
    {
     "name": "stderr",
     "output_type": "stream",
     "text": [
      "The ANDROID client requires PoToken to obtain functional streams, See more details at https://github.com/JuanBindez/pytubefix/pull/209\n",
      "The ANDROID client requires PoToken to obtain functional streams, See more details at https://github.com/JuanBindez/pytubefix/pull/209\n"
     ]
    },
    {
     "name": "stdout",
     "output_type": "stream",
     "text": [
      "Downloading Colenak, Berasal dari Kata Dicocol Enak, Jajanan Khas Tanah Sunda, Jawa Barat...\n"
     ]
    },
    {
     "name": "stderr",
     "output_type": "stream",
     "text": [
      "The ANDROID client requires PoToken to obtain functional streams, See more details at https://github.com/JuanBindez/pytubefix/pull/209\n",
      "The ANDROID client requires PoToken to obtain functional streams, See more details at https://github.com/JuanBindez/pytubefix/pull/209\n"
     ]
    },
    {
     "name": "stdout",
     "output_type": "stream",
     "text": [
      "Downloading Resep Colenak Bandung super legit,manis,gurih,dijamin ketagihan#resepmasakan#tapesingkong...\n"
     ]
    },
    {
     "name": "stderr",
     "output_type": "stream",
     "text": [
      "The ANDROID client requires PoToken to obtain functional streams, See more details at https://github.com/JuanBindez/pytubefix/pull/209\n",
      "The ANDROID client requires PoToken to obtain functional streams, See more details at https://github.com/JuanBindez/pytubefix/pull/209\n"
     ]
    },
    {
     "name": "stdout",
     "output_type": "stream",
     "text": [
      "Downloading ENAK‼️Resep colenak khas bandung rasa bintang lima...\n"
     ]
    },
    {
     "name": "stderr",
     "output_type": "stream",
     "text": [
      "The ANDROID client requires PoToken to obtain functional streams, See more details at https://github.com/JuanBindez/pytubefix/pull/209\n",
      "The ANDROID client requires PoToken to obtain functional streams, See more details at https://github.com/JuanBindez/pytubefix/pull/209\n"
     ]
    },
    {
     "name": "stdout",
     "output_type": "stream",
     "text": [
      "Downloading Tari Lingkung Lembur (Jawa Barat)...\n"
     ]
    },
    {
     "name": "stderr",
     "output_type": "stream",
     "text": [
      "The ANDROID client requires PoToken to obtain functional streams, See more details at https://github.com/JuanBindez/pytubefix/pull/209\n",
      "The ANDROID client requires PoToken to obtain functional streams, See more details at https://github.com/JuanBindez/pytubefix/pull/209\n"
     ]
    },
    {
     "name": "stdout",
     "output_type": "stream",
     "text": [
      "Downloading Elfa's Singers - 02 Medley Lingkung lembur, Sisindiran, Tokecang, Cingcangkeling (Sunda)...\n"
     ]
    },
    {
     "name": "stderr",
     "output_type": "stream",
     "text": [
      "The ANDROID client requires PoToken to obtain functional streams, See more details at https://github.com/JuanBindez/pytubefix/pull/209\n",
      "The ANDROID client requires PoToken to obtain functional streams, See more details at https://github.com/JuanBindez/pytubefix/pull/209\n"
     ]
    },
    {
     "name": "stdout",
     "output_type": "stream",
     "text": [
      "Downloading KARAOKE LINGKUNG LEMBUR -Cipt.Mang Koko...\n",
      "Duration of Tak Kalah Keren dengan Kartini.!! Biografi dan Fakta Menarik Raden Dewi Sartika Pejuang Emansipasi is too long\n",
      "Duration of Biografi Dewi Sartika Sang Pejuang Pendidikan Bagi Perempuan is too long\n",
      "Duration of Tahukah Kamu Raden Dewi Sartika, Tokoh Pergerakan Wanita Jawa Barat is too long\n"
     ]
    },
    {
     "name": "stderr",
     "output_type": "stream",
     "text": [
      "The ANDROID client requires PoToken to obtain functional streams, See more details at https://github.com/JuanBindez/pytubefix/pull/209\n",
      "The ANDROID client requires PoToken to obtain functional streams, See more details at https://github.com/JuanBindez/pytubefix/pull/209\n"
     ]
    },
    {
     "name": "stdout",
     "output_type": "stream",
     "text": [
      "Downloading Reumbeuy Bandung - Tembang Sunda - Cianjuran - Lagu Sunda - Bunga Dessri (LIVE)...\n"
     ]
    },
    {
     "name": "stderr",
     "output_type": "stream",
     "text": [
      "The ANDROID client requires PoToken to obtain functional streams, See more details at https://github.com/JuanBindez/pytubefix/pull/209\n"
     ]
    },
    {
     "name": "stdout",
     "output_type": "stream",
     "text": [
      "Duration of Puspa Karima - Reumbeuy Bandung (LIVE) is too long\n",
      "Downloading Reumbeuy Bandung+lyrics-Sundanese Classical Music For Sleeping...\n"
     ]
    },
    {
     "name": "stderr",
     "output_type": "stream",
     "text": [
      "The ANDROID client requires PoToken to obtain functional streams, See more details at https://github.com/JuanBindez/pytubefix/pull/209\n"
     ]
    },
    {
     "name": "stdout",
     "output_type": "stream",
     "text": [
      "Duration of SABILULUNGAN ASLI is too long\n",
      "Duration of [SABILULUNGAN] SUNDANESE INSTRUMENTALIA | DEGUNG SUNDA | INDONESIAN TRADITIONAL MUSIC is too long\n",
      "Duration of SABILULUNGAN - AZMY Z Ft. NENG SYELFI (Official Music Video) is too long\n",
      "Duration of Bapak Pucung (Tembang Macapat - Jawa Tengah) is too long\n",
      "Duration of Bapak Pucung Tembang Macapat (Jawa Tengah) is too long\n"
     ]
    },
    {
     "name": "stderr",
     "output_type": "stream",
     "text": [
      "The ANDROID client requires PoToken to obtain functional streams, See more details at https://github.com/JuanBindez/pytubefix/pull/209\n",
      "The ANDROID client requires PoToken to obtain functional streams, See more details at https://github.com/JuanBindez/pytubefix/pull/209\n"
     ]
    },
    {
     "name": "stdout",
     "output_type": "stream",
     "text": [
      "Downloading Tembang Macapat Pocung - Bapak Pocung Dudu Watu Dudu Gunung | Lirik dan Arti/Terjemahan...\n"
     ]
    },
    {
     "name": "stderr",
     "output_type": "stream",
     "text": [
      "The ANDROID client requires PoToken to obtain functional streams, See more details at https://github.com/JuanBindez/pytubefix/pull/209\n",
      "The ANDROID client requires PoToken to obtain functional streams, See more details at https://github.com/JuanBindez/pytubefix/pull/209\n"
     ]
    },
    {
     "name": "stdout",
     "output_type": "stream",
     "text": [
      "Downloading Cublak Cublak Suweng | Lagu Daerah Jawa Tengah | Diva bernyanyi | Diva The Series Official...\n"
     ]
    },
    {
     "name": "stderr",
     "output_type": "stream",
     "text": [
      "The ANDROID client requires PoToken to obtain functional streams, See more details at https://github.com/JuanBindez/pytubefix/pull/209\n",
      "The ANDROID client requires PoToken to obtain functional streams, See more details at https://github.com/JuanBindez/pytubefix/pull/209\n"
     ]
    },
    {
     "name": "stdout",
     "output_type": "stream",
     "text": [
      "Downloading Tari Kreasi Daerah Jawa Tengah - Medley Cublak Suweng, Gundul Pacul, Suwe Ora Jamu, Lir Ilir...\n"
     ]
    },
    {
     "name": "stderr",
     "output_type": "stream",
     "text": [
      "The ANDROID client requires PoToken to obtain functional streams, See more details at https://github.com/JuanBindez/pytubefix/pull/209\n",
      "The ANDROID client requires PoToken to obtain functional streams, See more details at https://github.com/JuanBindez/pytubefix/pull/209\n"
     ]
    },
    {
     "name": "stdout",
     "output_type": "stream",
     "text": [
      "Downloading Cublak Cublak Suweng - Lagu Daerah Jawa Tengah (dengan Lirik)...\n"
     ]
    },
    {
     "name": "stderr",
     "output_type": "stream",
     "text": [
      "The ANDROID client requires PoToken to obtain functional streams, See more details at https://github.com/JuanBindez/pytubefix/pull/209\n",
      "The ANDROID client requires PoToken to obtain functional streams, See more details at https://github.com/JuanBindez/pytubefix/pull/209\n"
     ]
    },
    {
     "name": "stdout",
     "output_type": "stream",
     "text": [
      "Downloading INILAH !!!!  JOGET BARENG - FLASHMOB SEMARANG RUMAH KITA Dalam rangka Hari jadi Kota Semarang ke 476...\n",
      "Duration of Heboh..!!Kehidupan Rumah Nyentrik Paling Unik Terpencil Tersembunyi Di Pinggir Hutan Jawa Tengah🇮🇩 is too long\n",
      "Duration of VIRAL NYATA ! Suku Jawa Asli Tinggal Sendirian di Rumah Terpencil Tengah Hutan Jati is too long\n"
     ]
    },
    {
     "name": "stderr",
     "output_type": "stream",
     "text": [
      "The ANDROID client requires PoToken to obtain functional streams, See more details at https://github.com/JuanBindez/pytubefix/pull/209\n",
      "The ANDROID client requires PoToken to obtain functional streams, See more details at https://github.com/JuanBindez/pytubefix/pull/209\n"
     ]
    },
    {
     "name": "stdout",
     "output_type": "stream",
     "text": [
      "Downloading Gek Kepriye - Lagu Daerah Jawa Tengah...\n"
     ]
    },
    {
     "name": "stderr",
     "output_type": "stream",
     "text": [
      "The ANDROID client requires PoToken to obtain functional streams, See more details at https://github.com/JuanBindez/pytubefix/pull/209\n",
      "The ANDROID client requires PoToken to obtain functional streams, See more details at https://github.com/JuanBindez/pytubefix/pull/209\n"
     ]
    },
    {
     "name": "stdout",
     "output_type": "stream",
     "text": [
      "Downloading GEK KEPRIYE (Lagu Daerah : Jawa Tengah )...\n"
     ]
    },
    {
     "name": "stderr",
     "output_type": "stream",
     "text": [
      "The ANDROID client requires PoToken to obtain functional streams, See more details at https://github.com/JuanBindez/pytubefix/pull/209\n",
      "The ANDROID client requires PoToken to obtain functional streams, See more details at https://github.com/JuanBindez/pytubefix/pull/209\n"
     ]
    },
    {
     "name": "stdout",
     "output_type": "stream",
     "text": [
      "Downloading LAGU DAERAH JAWA TENGAH - Gek Kepriye (lirik lagu)...\n"
     ]
    },
    {
     "name": "stderr",
     "output_type": "stream",
     "text": [
      "The ANDROID client requires PoToken to obtain functional streams, See more details at https://github.com/JuanBindez/pytubefix/pull/209\n",
      "The ANDROID client requires PoToken to obtain functional streams, See more details at https://github.com/JuanBindez/pytubefix/pull/209\n"
     ]
    },
    {
     "name": "stdout",
     "output_type": "stream",
     "text": [
      "Downloading GUNDUL GUNDUL PACUL | LAGU ANAK - LAGU DAERAH JAWA TENGAH...\n"
     ]
    },
    {
     "name": "stderr",
     "output_type": "stream",
     "text": [
      "The ANDROID client requires PoToken to obtain functional streams, See more details at https://github.com/JuanBindez/pytubefix/pull/209\n",
      "The ANDROID client requires PoToken to obtain functional streams, See more details at https://github.com/JuanBindez/pytubefix/pull/209\n"
     ]
    },
    {
     "name": "stdout",
     "output_type": "stream",
     "text": [
      "Downloading Gundul Pacul | Lagu Anak Indonesia...\n"
     ]
    },
    {
     "name": "stderr",
     "output_type": "stream",
     "text": [
      "The ANDROID client requires PoToken to obtain functional streams, See more details at https://github.com/JuanBindez/pytubefix/pull/209\n",
      "The ANDROID client requires PoToken to obtain functional streams, See more details at https://github.com/JuanBindez/pytubefix/pull/209\n"
     ]
    },
    {
     "name": "stdout",
     "output_type": "stream",
     "text": [
      "Downloading Lirik Gundul Pacul - Lagu Daerah Jawa Tengah...\n"
     ]
    },
    {
     "name": "stderr",
     "output_type": "stream",
     "text": [
      "The ANDROID client requires PoToken to obtain functional streams, See more details at https://github.com/JuanBindez/pytubefix/pull/209\n",
      "The ANDROID client requires PoToken to obtain functional streams, See more details at https://github.com/JuanBindez/pytubefix/pull/209\n"
     ]
    },
    {
     "name": "stdout",
     "output_type": "stream",
     "text": [
      "Downloading Lir Ilir| Lagu Daerah Jawa Tengah | Budaya Indonesia | Dongeng Kita...\n",
      "Duration of lir ilir sunan kalijaga beserta lirik & artinya dipopulerkan Emha Ainun Najib beserta Kiai Kanjeng is too long\n",
      "Duration of Lir ilir is too long\n"
     ]
    },
    {
     "name": "stderr",
     "output_type": "stream",
     "text": [
      "The ANDROID client requires PoToken to obtain functional streams, See more details at https://github.com/JuanBindez/pytubefix/pull/209\n",
      "The ANDROID client requires PoToken to obtain functional streams, See more details at https://github.com/JuanBindez/pytubefix/pull/209\n"
     ]
    },
    {
     "name": "stdout",
     "output_type": "stream",
     "text": [
      "Downloading Jamuran - Taman Siswa Yogyakarta (mk)...\n"
     ]
    },
    {
     "name": "stderr",
     "output_type": "stream",
     "text": [
      "The ANDROID client requires PoToken to obtain functional streams, See more details at https://github.com/JuanBindez/pytubefix/pull/209\n",
      "The ANDROID client requires PoToken to obtain functional streams, See more details at https://github.com/JuanBindez/pytubefix/pull/209\n"
     ]
    },
    {
     "name": "stdout",
     "output_type": "stream",
     "text": [
      "Downloading Jamuran (Lirik) | Ciptaan Ki Hadi Sukatno - Vocal Shema | Tembang Dolanan | Lagu Daerah Jawa Tengah...\n"
     ]
    },
    {
     "name": "stderr",
     "output_type": "stream",
     "text": [
      "The ANDROID client requires PoToken to obtain functional streams, See more details at https://github.com/JuanBindez/pytubefix/pull/209\n",
      "The ANDROID client requires PoToken to obtain functional streams, See more details at https://github.com/JuanBindez/pytubefix/pull/209\n"
     ]
    },
    {
     "name": "stdout",
     "output_type": "stream",
     "text": [
      "Downloading Jamuran...\n"
     ]
    },
    {
     "name": "stderr",
     "output_type": "stream",
     "text": [
      "The ANDROID client requires PoToken to obtain functional streams, See more details at https://github.com/JuanBindez/pytubefix/pull/209\n",
      "The ANDROID client requires PoToken to obtain functional streams, See more details at https://github.com/JuanBindez/pytubefix/pull/209\n"
     ]
    },
    {
     "name": "stdout",
     "output_type": "stream",
     "text": [
      "Downloading Jaranan - Lagu Daerah Jawa Tengah (Lirik dan Terjemahan)...\n",
      "Duration of Jaran kepang krida muda pamriyan jateng is too long\n",
      "Error processing song: could not convert string to float: '1.01.29'\n"
     ]
    },
    {
     "name": "stderr",
     "output_type": "stream",
     "text": [
      "The ANDROID client requires PoToken to obtain functional streams, See more details at https://github.com/JuanBindez/pytubefix/pull/209\n",
      "The ANDROID client requires PoToken to obtain functional streams, See more details at https://github.com/JuanBindez/pytubefix/pull/209\n"
     ]
    },
    {
     "name": "stdout",
     "output_type": "stream",
     "text": [
      "Downloading Padang Bulan - Taman Siswa Yogyakarta...\n"
     ]
    },
    {
     "name": "stderr",
     "output_type": "stream",
     "text": [
      "The ANDROID client requires PoToken to obtain functional streams, See more details at https://github.com/JuanBindez/pytubefix/pull/209\n",
      "The ANDROID client requires PoToken to obtain functional streams, See more details at https://github.com/JuanBindez/pytubefix/pull/209\n"
     ]
    },
    {
     "name": "stdout",
     "output_type": "stream",
     "text": [
      "Downloading Lirik Padang Wulan - Lagu Daerah Jawa Tengah...\n"
     ]
    },
    {
     "name": "stderr",
     "output_type": "stream",
     "text": [
      "The ANDROID client requires PoToken to obtain functional streams, See more details at https://github.com/JuanBindez/pytubefix/pull/209\n",
      "The ANDROID client requires PoToken to obtain functional streams, See more details at https://github.com/JuanBindez/pytubefix/pull/209\n"
     ]
    },
    {
     "name": "stdout",
     "output_type": "stream",
     "text": [
      "Downloading Padhang Wulan - Jawa Tengah, Lagu Daerah Indonesia...\n"
     ]
    },
    {
     "name": "stderr",
     "output_type": "stream",
     "text": [
      "The ANDROID client requires PoToken to obtain functional streams, See more details at https://github.com/JuanBindez/pytubefix/pull/209\n",
      "The ANDROID client requires PoToken to obtain functional streams, See more details at https://github.com/JuanBindez/pytubefix/pull/209\n"
     ]
    },
    {
     "name": "stdout",
     "output_type": "stream",
     "text": [
      "Downloading Gambang Suling Ciptaan Ki Narto Sabdo - Vocal Shema | Tembang Dolanan | Lagu Daerah Jawa Tengah...\n"
     ]
    },
    {
     "name": "stderr",
     "output_type": "stream",
     "text": [
      "The ANDROID client requires PoToken to obtain functional streams, See more details at https://github.com/JuanBindez/pytubefix/pull/209\n",
      "The ANDROID client requires PoToken to obtain functional streams, See more details at https://github.com/JuanBindez/pytubefix/pull/209\n"
     ]
    },
    {
     "name": "stdout",
     "output_type": "stream",
     "text": [
      "Downloading Gambang Suling - Lagu Daerah Jawa Tengah (Lirik dan Terjemahan)...\n"
     ]
    },
    {
     "name": "stderr",
     "output_type": "stream",
     "text": [
      "The ANDROID client requires PoToken to obtain functional streams, See more details at https://github.com/JuanBindez/pytubefix/pull/209\n",
      "The ANDROID client requires PoToken to obtain functional streams, See more details at https://github.com/JuanBindez/pytubefix/pull/209\n"
     ]
    },
    {
     "name": "stdout",
     "output_type": "stream",
     "text": [
      "Downloading Tari Gambang Suling - Tari Kreasi Daerah - Mudah untuk Anak PAUD TK SD...\n"
     ]
    },
    {
     "name": "stderr",
     "output_type": "stream",
     "text": [
      "The ANDROID client requires PoToken to obtain functional streams, See more details at https://github.com/JuanBindez/pytubefix/pull/209\n",
      "The ANDROID client requires PoToken to obtain functional streams, See more details at https://github.com/JuanBindez/pytubefix/pull/209\n"
     ]
    },
    {
     "name": "stdout",
     "output_type": "stream",
     "text": [
      "Downloading Gek Kepriye - Lagu Daerah Jawa Tengah...\n"
     ]
    },
    {
     "name": "stderr",
     "output_type": "stream",
     "text": [
      "The ANDROID client requires PoToken to obtain functional streams, See more details at https://github.com/JuanBindez/pytubefix/pull/209\n",
      "The ANDROID client requires PoToken to obtain functional streams, See more details at https://github.com/JuanBindez/pytubefix/pull/209\n"
     ]
    },
    {
     "name": "stdout",
     "output_type": "stream",
     "text": [
      "Downloading GEK KEPRIYE (Lagu Daerah : Jawa Tengah )...\n"
     ]
    },
    {
     "name": "stderr",
     "output_type": "stream",
     "text": [
      "The ANDROID client requires PoToken to obtain functional streams, See more details at https://github.com/JuanBindez/pytubefix/pull/209\n",
      "The ANDROID client requires PoToken to obtain functional streams, See more details at https://github.com/JuanBindez/pytubefix/pull/209\n"
     ]
    },
    {
     "name": "stdout",
     "output_type": "stream",
     "text": [
      "Downloading LAGU DAERAH JAWA TENGAH - Gek Kepriye (lirik lagu)...\n"
     ]
    },
    {
     "name": "stderr",
     "output_type": "stream",
     "text": [
      "The ANDROID client requires PoToken to obtain functional streams, See more details at https://github.com/JuanBindez/pytubefix/pull/209\n",
      "The ANDROID client requires PoToken to obtain functional streams, See more details at https://github.com/JuanBindez/pytubefix/pull/209\n"
     ]
    },
    {
     "name": "stdout",
     "output_type": "stream",
     "text": [
      "Downloading Lir Ilir| Lagu Daerah Jawa Tengah | Budaya Indonesia | Dongeng Kita...\n",
      "Duration of lir ilir sunan kalijaga beserta lirik & artinya dipopulerkan Emha Ainun Najib beserta Kiai Kanjeng is too long\n",
      "Duration of Lir ilir is too long\n",
      "Duration of Jaran kepang krida muda pamriyan jateng is too long\n"
     ]
    },
    {
     "name": "stderr",
     "output_type": "stream",
     "text": [
      "The ANDROID client requires PoToken to obtain functional streams, See more details at https://github.com/JuanBindez/pytubefix/pull/209\n",
      "The ANDROID client requires PoToken to obtain functional streams, See more details at https://github.com/JuanBindez/pytubefix/pull/209\n"
     ]
    },
    {
     "name": "stdout",
     "output_type": "stream",
     "text": [
      "Downloading Jaranan - Lagu Daerah Jawa Tengah (Lirik dan Terjemahan)...\n",
      "Error processing song: could not convert string to float: '1.01.29'\n"
     ]
    },
    {
     "name": "stderr",
     "output_type": "stream",
     "text": [
      "The ANDROID client requires PoToken to obtain functional streams, See more details at https://github.com/JuanBindez/pytubefix/pull/209\n",
      "The ANDROID client requires PoToken to obtain functional streams, See more details at https://github.com/JuanBindez/pytubefix/pull/209\n"
     ]
    },
    {
     "name": "stdout",
     "output_type": "stream",
     "text": [
      "Downloading Jamuran - Taman Siswa Yogyakarta (mk)...\n"
     ]
    },
    {
     "name": "stderr",
     "output_type": "stream",
     "text": [
      "The ANDROID client requires PoToken to obtain functional streams, See more details at https://github.com/JuanBindez/pytubefix/pull/209\n",
      "The ANDROID client requires PoToken to obtain functional streams, See more details at https://github.com/JuanBindez/pytubefix/pull/209\n"
     ]
    },
    {
     "name": "stdout",
     "output_type": "stream",
     "text": [
      "Downloading Jamuran (Lirik) | Ciptaan Ki Hadi Sukatno - Vocal Shema | Tembang Dolanan | Lagu Daerah Jawa Tengah...\n"
     ]
    },
    {
     "name": "stderr",
     "output_type": "stream",
     "text": [
      "The ANDROID client requires PoToken to obtain functional streams, See more details at https://github.com/JuanBindez/pytubefix/pull/209\n",
      "The ANDROID client requires PoToken to obtain functional streams, See more details at https://github.com/JuanBindez/pytubefix/pull/209\n"
     ]
    },
    {
     "name": "stdout",
     "output_type": "stream",
     "text": [
      "Downloading Jamuran...\n",
      "Duration of Ande Ande Lumut | Cerita Rakyat Jawa Timur | Kisah Nusantara is too long\n",
      "Duration of ANDE ANDE LUMUT ~ Cerita Rakyat Jawa Timur | Dongeng Kita is too long\n",
      "Duration of Campursari Terbaru '' ANISA SALMA '' Ande - Ande Lumut is too long\n"
     ]
    },
    {
     "name": "stderr",
     "output_type": "stream",
     "text": [
      "The ANDROID client requires PoToken to obtain functional streams, See more details at https://github.com/JuanBindez/pytubefix/pull/209\n",
      "The ANDROID client requires PoToken to obtain functional streams, See more details at https://github.com/JuanBindez/pytubefix/pull/209\n"
     ]
    },
    {
     "name": "stdout",
     "output_type": "stream",
     "text": [
      "Downloading Lagu Dondong Opo Salak - Animasi Cerita Indonesia (ACI)...\n"
     ]
    },
    {
     "name": "stderr",
     "output_type": "stream",
     "text": [
      "The ANDROID client requires PoToken to obtain functional streams, See more details at https://github.com/JuanBindez/pytubefix/pull/209\n",
      "The ANDROID client requires PoToken to obtain functional streams, See more details at https://github.com/JuanBindez/pytubefix/pull/209\n"
     ]
    },
    {
     "name": "stdout",
     "output_type": "stream",
     "text": [
      "Downloading Lagu Anak DONDONG OPO SALAK - Zafira | Lagu Anak Indonesia | Belajar Menyanyi...\n"
     ]
    },
    {
     "name": "stderr",
     "output_type": "stream",
     "text": [
      "The ANDROID client requires PoToken to obtain functional streams, See more details at https://github.com/JuanBindez/pytubefix/pull/209\n",
      "The ANDROID client requires PoToken to obtain functional streams, See more details at https://github.com/JuanBindez/pytubefix/pull/209\n"
     ]
    },
    {
     "name": "stdout",
     "output_type": "stream",
     "text": [
      "Downloading DONDONG OPO SALAK || SIHO (LIVE ACOUSTIC COVER)...\n"
     ]
    },
    {
     "name": "stderr",
     "output_type": "stream",
     "text": [
      "The ANDROID client requires PoToken to obtain functional streams, See more details at https://github.com/JuanBindez/pytubefix/pull/209\n",
      "The ANDROID client requires PoToken to obtain functional streams, See more details at https://github.com/JuanBindez/pytubefix/pull/209\n"
     ]
    },
    {
     "name": "stdout",
     "output_type": "stream",
     "text": [
      "Downloading 10 SEKOLAH TERBAIK 2021 DI KAB  BANYUMAS JAWA TENGAH...\n"
     ]
    },
    {
     "name": "stderr",
     "output_type": "stream",
     "text": [
      "The ANDROID client requires PoToken to obtain functional streams, See more details at https://github.com/JuanBindez/pytubefix/pull/209\n",
      "The ANDROID client requires PoToken to obtain functional streams, See more details at https://github.com/JuanBindez/pytubefix/pull/209\n"
     ]
    },
    {
     "name": "stdout",
     "output_type": "stream",
     "text": [
      "Downloading TOP 6 SEKOLAH DI KABUPATEN SEMARANG JAWA TENGAH...\n"
     ]
    },
    {
     "name": "stderr",
     "output_type": "stream",
     "text": [
      "The ANDROID client requires PoToken to obtain functional streams, See more details at https://github.com/JuanBindez/pytubefix/pull/209\n",
      "The ANDROID client requires PoToken to obtain functional streams, See more details at https://github.com/JuanBindez/pytubefix/pull/209\n"
     ]
    },
    {
     "name": "stdout",
     "output_type": "stream",
     "text": [
      "Downloading SMKN Jateng, Sekolah Asrama Gratis Unggulan Jawa Tengah...\n",
      "Duration of Prigel Pangayu - Yen Ing Tawang Ono Lintang (Official Music Video) is too long\n",
      "Duration of Yen Ing Tawang - Manthous is too long\n",
      "Duration of Yen Ing Tawang is too long\n"
     ]
    },
    {
     "name": "stderr",
     "output_type": "stream",
     "text": [
      "The ANDROID client requires PoToken to obtain functional streams, See more details at https://github.com/JuanBindez/pytubefix/pull/209\n",
      "The ANDROID client requires PoToken to obtain functional streams, See more details at https://github.com/JuanBindez/pytubefix/pull/209\n"
     ]
    },
    {
     "name": "stdout",
     "output_type": "stream",
     "text": [
      "Downloading Didi Kempot - Stasiun Balapan (Official Music Video)...\n",
      "Duration of Kereta Raja Jawa | Sejarah Stasiun Solo Balapan Mangkunegaran Surakarta is too long\n",
      "Duration of stasiun solo balapan di malam hari II stasiun solo balapan is too long\n"
     ]
    },
    {
     "name": "stderr",
     "output_type": "stream",
     "text": [
      "The ANDROID client requires PoToken to obtain functional streams, See more details at https://github.com/JuanBindez/pytubefix/pull/209\n",
      "The ANDROID client requires PoToken to obtain functional streams, See more details at https://github.com/JuanBindez/pytubefix/pull/209\n"
     ]
    },
    {
     "name": "stdout",
     "output_type": "stream",
     "text": [
      "Downloading LAGU MADURA KEMBANG MALATHE LIRIK DAN TERJEMAHAN...\n"
     ]
    },
    {
     "name": "stderr",
     "output_type": "stream",
     "text": [
      "The ANDROID client requires PoToken to obtain functional streams, See more details at https://github.com/JuanBindez/pytubefix/pull/209\n",
      "The ANDROID client requires PoToken to obtain functional streams, See more details at https://github.com/JuanBindez/pytubefix/pull/209\n"
     ]
    },
    {
     "name": "stdout",
     "output_type": "stream",
     "text": [
      "Downloading Kembang Malathe...\n"
     ]
    },
    {
     "name": "stderr",
     "output_type": "stream",
     "text": [
      "The ANDROID client requires PoToken to obtain functional streams, See more details at https://github.com/JuanBindez/pytubefix/pull/209\n",
      "The ANDROID client requires PoToken to obtain functional streams, See more details at https://github.com/JuanBindez/pytubefix/pull/209\n"
     ]
    },
    {
     "name": "stdout",
     "output_type": "stream",
     "text": [
      "Downloading KEMBANG MALATEH POTE...\n"
     ]
    },
    {
     "name": "stderr",
     "output_type": "stream",
     "text": [
      "The ANDROID client requires PoToken to obtain functional streams, See more details at https://github.com/JuanBindez/pytubefix/pull/209\n",
      "The ANDROID client requires PoToken to obtain functional streams, See more details at https://github.com/JuanBindez/pytubefix/pull/209\n"
     ]
    },
    {
     "name": "stdout",
     "output_type": "stream",
     "text": [
      "Downloading Kerraban Sape - Lagu Daerah Jawa Timur (dengan Lirik)...\n"
     ]
    },
    {
     "name": "stderr",
     "output_type": "stream",
     "text": [
      "The ANDROID client requires PoToken to obtain functional streams, See more details at https://github.com/JuanBindez/pytubefix/pull/209\n",
      "The ANDROID client requires PoToken to obtain functional streams, See more details at https://github.com/JuanBindez/pytubefix/pull/209\n"
     ]
    },
    {
     "name": "stdout",
     "output_type": "stream",
     "text": [
      "Downloading Kerraban Sape...\n"
     ]
    },
    {
     "name": "stderr",
     "output_type": "stream",
     "text": [
      "The ANDROID client requires PoToken to obtain functional streams, See more details at https://github.com/JuanBindez/pytubefix/pull/209\n",
      "The ANDROID client requires PoToken to obtain functional streams, See more details at https://github.com/JuanBindez/pytubefix/pull/209\n"
     ]
    },
    {
     "name": "stdout",
     "output_type": "stream",
     "text": [
      "Downloading Video Lirik Lagu Daerah | Kerraban Sape...\n"
     ]
    },
    {
     "name": "stderr",
     "output_type": "stream",
     "text": [
      "The ANDROID client requires PoToken to obtain functional streams, See more details at https://github.com/JuanBindez/pytubefix/pull/209\n",
      "The ANDROID client requires PoToken to obtain functional streams, See more details at https://github.com/JuanBindez/pytubefix/pull/209\n"
     ]
    },
    {
     "name": "stdout",
     "output_type": "stream",
     "text": [
      "Downloading Rek Ayo Rek | Lagu Daerah Jawa Timur | Diva bernyanyi | Diva The Series Official...\n"
     ]
    },
    {
     "name": "stderr",
     "output_type": "stream",
     "text": [
      "The ANDROID client requires PoToken to obtain functional streams, See more details at https://github.com/JuanBindez/pytubefix/pull/209\n",
      "The ANDROID client requires PoToken to obtain functional streams, See more details at https://github.com/JuanBindez/pytubefix/pull/209\n"
     ]
    },
    {
     "name": "stdout",
     "output_type": "stream",
     "text": [
      "Downloading Lagu Daerah Indonesia - REK AYO REK - JAWA TIMUR [Lirik Lagu ]...\n",
      "Duration of Shinta Gisul Ft. Syahiba Saufa - Rek Ayo Rek (Dangdut Koplo Version) is too long\n"
     ]
    },
    {
     "name": "stderr",
     "output_type": "stream",
     "text": [
      "The ANDROID client requires PoToken to obtain functional streams, See more details at https://github.com/JuanBindez/pytubefix/pull/209\n",
      "The ANDROID client requires PoToken to obtain functional streams, See more details at https://github.com/JuanBindez/pytubefix/pull/209\n"
     ]
    },
    {
     "name": "stdout",
     "output_type": "stream",
     "text": [
      "Downloading TANDUK MAJENG | LAGU DAERAH MADURA...\n",
      "Duration of TANDUK MAJENG - Lagu Madura | Musik Nusantara | energi7 is too long\n"
     ]
    },
    {
     "name": "stderr",
     "output_type": "stream",
     "text": [
      "The ANDROID client requires PoToken to obtain functional streams, See more details at https://github.com/JuanBindez/pytubefix/pull/209\n",
      "The ANDROID client requires PoToken to obtain functional streams, See more details at https://github.com/JuanBindez/pytubefix/pull/209\n"
     ]
    },
    {
     "name": "stdout",
     "output_type": "stream",
     "text": [
      "Downloading Tanduk Majeng (Cover Lagu Daerah Madura)...\n"
     ]
    },
    {
     "name": "stderr",
     "output_type": "stream",
     "text": [
      "The ANDROID client requires PoToken to obtain functional streams, See more details at https://github.com/JuanBindez/pytubefix/pull/209\n",
      "The ANDROID client requires PoToken to obtain functional streams, See more details at https://github.com/JuanBindez/pytubefix/pull/209\n"
     ]
    },
    {
     "name": "stdout",
     "output_type": "stream",
     "text": [
      "Downloading LAGU MADURA - GAI' BINTANG [LIRIK DAN TERJEMAHAN]...\n",
      "Duration of Gai Bintang - ICUNK | HIPHOP MADURA is too long\n"
     ]
    },
    {
     "name": "stderr",
     "output_type": "stream",
     "text": [
      "The ANDROID client requires PoToken to obtain functional streams, See more details at https://github.com/JuanBindez/pytubefix/pull/209\n",
      "The ANDROID client requires PoToken to obtain functional streams, See more details at https://github.com/JuanBindez/pytubefix/pull/209\n"
     ]
    },
    {
     "name": "stdout",
     "output_type": "stream",
     "text": [
      "Downloading Ghai' Bintang...\n"
     ]
    },
    {
     "name": "stderr",
     "output_type": "stream",
     "text": [
      "The ANDROID client requires PoToken to obtain functional streams, See more details at https://github.com/JuanBindez/pytubefix/pull/209\n",
      "The ANDROID client requires PoToken to obtain functional streams, See more details at https://github.com/JuanBindez/pytubefix/pull/209\n"
     ]
    },
    {
     "name": "stdout",
     "output_type": "stream",
     "text": [
      "Downloading LAGU MADURA KEMBANG MALATHE LIRIK DAN TERJEMAHAN...\n"
     ]
    },
    {
     "name": "stderr",
     "output_type": "stream",
     "text": [
      "The ANDROID client requires PoToken to obtain functional streams, See more details at https://github.com/JuanBindez/pytubefix/pull/209\n",
      "The ANDROID client requires PoToken to obtain functional streams, See more details at https://github.com/JuanBindez/pytubefix/pull/209\n",
      "The ANDROID client requires PoToken to obtain functional streams, See more details at https://github.com/JuanBindez/pytubefix/pull/209\n"
     ]
    },
    {
     "name": "stdout",
     "output_type": "stream",
     "text": [
      "Downloading Kembang Malathe...\n",
      "Downloading KEMBANG MALATEH POTE...\n"
     ]
    },
    {
     "name": "stderr",
     "output_type": "stream",
     "text": [
      "The ANDROID client requires PoToken to obtain functional streams, See more details at https://github.com/JuanBindez/pytubefix/pull/209\n",
      "The ANDROID client requires PoToken to obtain functional streams, See more details at https://github.com/JuanBindez/pytubefix/pull/209\n",
      "The ANDROID client requires PoToken to obtain functional streams, See more details at https://github.com/JuanBindez/pytubefix/pull/209\n"
     ]
    },
    {
     "name": "stdout",
     "output_type": "stream",
     "text": [
      "Downloading Lindri - Taman Siswa Yogyakarta...\n"
     ]
    },
    {
     "name": "stderr",
     "output_type": "stream",
     "text": [
      "The ANDROID client requires PoToken to obtain functional streams, See more details at https://github.com/JuanBindez/pytubefix/pull/209\n",
      "The ANDROID client requires PoToken to obtain functional streams, See more details at https://github.com/JuanBindez/pytubefix/pull/209\n"
     ]
    },
    {
     "name": "stdout",
     "output_type": "stream",
     "text": [
      "Downloading Lindri - Taman Siswa (k)...\n"
     ]
    },
    {
     "name": "stderr",
     "output_type": "stream",
     "text": [
      "The ANDROID client requires PoToken to obtain functional streams, See more details at https://github.com/JuanBindez/pytubefix/pull/209\n",
      "The ANDROID client requires PoToken to obtain functional streams, See more details at https://github.com/JuanBindez/pytubefix/pull/209\n"
     ]
    },
    {
     "name": "stdout",
     "output_type": "stream",
     "text": [
      "Downloading Lindri...\n"
     ]
    },
    {
     "name": "stderr",
     "output_type": "stream",
     "text": [
      "The ANDROID client requires PoToken to obtain functional streams, See more details at https://github.com/JuanBindez/pytubefix/pull/209\n",
      "The ANDROID client requires PoToken to obtain functional streams, See more details at https://github.com/JuanBindez/pytubefix/pull/209\n"
     ]
    },
    {
     "name": "stdout",
     "output_type": "stream",
     "text": [
      "Downloading Sentot - Grimis Grimis...\n"
     ]
    },
    {
     "name": "stderr",
     "output_type": "stream",
     "text": [
      "The ANDROID client requires PoToken to obtain functional streams, See more details at https://github.com/JuanBindez/pytubefix/pull/209\n",
      "The ANDROID client requires PoToken to obtain functional streams, See more details at https://github.com/JuanBindez/pytubefix/pull/209\n"
     ]
    },
    {
     "name": "stdout",
     "output_type": "stream",
     "text": [
      "Downloading Tejo - Grimis Grimis...\n",
      "Duration of Gerimis Gerimis is too long\n"
     ]
    },
    {
     "name": "stderr",
     "output_type": "stream",
     "text": [
      "The ANDROID client requires PoToken to obtain functional streams, See more details at https://github.com/JuanBindez/pytubefix/pull/209\n",
      "The ANDROID client requires PoToken to obtain functional streams, See more details at https://github.com/JuanBindez/pytubefix/pull/209\n"
     ]
    },
    {
     "name": "stdout",
     "output_type": "stream",
     "text": [
      "Downloading Bapak Tane...\n"
     ]
    },
    {
     "name": "stderr",
     "output_type": "stream",
     "text": [
      "The ANDROID client requires PoToken to obtain functional streams, See more details at https://github.com/JuanBindez/pytubefix/pull/209\n",
      "The ANDROID client requires PoToken to obtain functional streams, See more details at https://github.com/JuanBindez/pytubefix/pull/209\n"
     ]
    },
    {
     "name": "stdout",
     "output_type": "stream",
     "text": [
      "Downloading Lagu Daerah //BAPAK TANE // Jawa Timur (Lirik)...\n"
     ]
    },
    {
     "name": "stderr",
     "output_type": "stream",
     "text": [
      "The ANDROID client requires PoToken to obtain functional streams, See more details at https://github.com/JuanBindez/pytubefix/pull/209\n",
      "The ANDROID client requires PoToken to obtain functional streams, See more details at https://github.com/JuanBindez/pytubefix/pull/209\n"
     ]
    },
    {
     "name": "stdout",
     "output_type": "stream",
     "text": [
      "Downloading Pajjhar Lagghu...\n"
     ]
    },
    {
     "name": "stderr",
     "output_type": "stream",
     "text": [
      "The ANDROID client requires PoToken to obtain functional streams, See more details at https://github.com/JuanBindez/pytubefix/pull/209\n",
      "The ANDROID client requires PoToken to obtain functional streams, See more details at https://github.com/JuanBindez/pytubefix/pull/209\n"
     ]
    },
    {
     "name": "stdout",
     "output_type": "stream",
     "text": [
      "Downloading Didi Kempot Tanjung Perak Lyric...\n"
     ]
    },
    {
     "name": "stderr",
     "output_type": "stream",
     "text": [
      "The ANDROID client requires PoToken to obtain functional streams, See more details at https://github.com/JuanBindez/pytubefix/pull/209\n",
      "The ANDROID client requires PoToken to obtain functional streams, See more details at https://github.com/JuanBindez/pytubefix/pull/209\n"
     ]
    },
    {
     "name": "stdout",
     "output_type": "stream",
     "text": [
      "Downloading Lagu daerah jawa timur \" Tanjung Perak\"...\n"
     ]
    },
    {
     "name": "stderr",
     "output_type": "stream",
     "text": [
      "The ANDROID client requires PoToken to obtain functional streams, See more details at https://github.com/JuanBindez/pytubefix/pull/209\n",
      "The ANDROID client requires PoToken to obtain functional streams, See more details at https://github.com/JuanBindez/pytubefix/pull/209\n"
     ]
    },
    {
     "name": "stdout",
     "output_type": "stream",
     "text": [
      "Downloading PAKSI BAND - TANJUNG PERAK | KERONCONG MODERN...\n",
      "Duration of TANOKER LEDOKOMBO - TUGAS VIDEOGRAFI SEJARAH is too long\n"
     ]
    },
    {
     "name": "stderr",
     "output_type": "stream",
     "text": [
      "The ANDROID client requires PoToken to obtain functional streams, See more details at https://github.com/JuanBindez/pytubefix/pull/209\n",
      "The ANDROID client requires PoToken to obtain functional streams, See more details at https://github.com/JuanBindez/pytubefix/pull/209\n"
     ]
    },
    {
     "name": "stdout",
     "output_type": "stream",
     "text": [
      "Downloading TANOKER LEDOKOMBO JEMBER || KAMPUNG WISATA BELAJAR...\n",
      "Duration of HUT TANOKER Ke 13 Dan Pasar Lumpur Ledokombo 2022 is too long\n"
     ]
    },
    {
     "name": "stderr",
     "output_type": "stream",
     "text": [
      "The ANDROID client requires PoToken to obtain functional streams, See more details at https://github.com/JuanBindez/pytubefix/pull/209\n",
      "The ANDROID client requires PoToken to obtain functional streams, See more details at https://github.com/JuanBindez/pytubefix/pull/209\n"
     ]
    },
    {
     "name": "stdout",
     "output_type": "stream",
     "text": [
      "Downloading LAGU ANAK DHE' NONG DHE' NI' NANG ( TAN PANGANTANAN) - SUMENEP MADURA - BY MOH LUTFI...\n"
     ]
    },
    {
     "name": "stderr",
     "output_type": "stream",
     "text": [
      "The ANDROID client requires PoToken to obtain functional streams, See more details at https://github.com/JuanBindez/pytubefix/pull/209\n",
      "The ANDROID client requires PoToken to obtain functional streams, See more details at https://github.com/JuanBindez/pytubefix/pull/209\n"
     ]
    },
    {
     "name": "stdout",
     "output_type": "stream",
     "text": [
      "Downloading Tradisi Tan Pangantanan Sumenep \"Dhe' Nong Dhe' Ni' Nang\"...\n",
      "Duration of dhe'nondhe'ni'nang dalam rangka memperingati hari jadi kab. sumenep ke-748 is too long\n",
      "Duration of LAGU MADURA - SESET MALOKO' is too long\n",
      "Duration of Telaah Lagu Tradisional Madura SET SESET MALOKO' is too long\n",
      "Duration of Set-Seset Maloko' oleh Damar Ate is too long\n"
     ]
    },
    {
     "name": "stderr",
     "output_type": "stream",
     "text": [
      "The ANDROID client requires PoToken to obtain functional streams, See more details at https://github.com/JuanBindez/pytubefix/pull/209\n",
      "The ANDROID client requires PoToken to obtain functional streams, See more details at https://github.com/JuanBindez/pytubefix/pull/209\n"
     ]
    },
    {
     "name": "stdout",
     "output_type": "stream",
     "text": [
      "Downloading LIR SA ALIR || FAJAR SYAHID & WINDA NEFIRA...\n"
     ]
    },
    {
     "name": "stderr",
     "output_type": "stream",
     "text": [
      "The ANDROID client requires PoToken to obtain functional streams, See more details at https://github.com/JuanBindez/pytubefix/pull/209\n",
      "The ANDROID client requires PoToken to obtain functional streams, See more details at https://github.com/JuanBindez/pytubefix/pull/209\n"
     ]
    },
    {
     "name": "stdout",
     "output_type": "stream",
     "text": [
      "Downloading Lagu Daerah Madura (Lir Sa'alir) Menggema di Istana Merdeka...\n"
     ]
    },
    {
     "name": "stderr",
     "output_type": "stream",
     "text": [
      "The ANDROID client requires PoToken to obtain functional streams, See more details at https://github.com/JuanBindez/pytubefix/pull/209\n",
      "The ANDROID client requires PoToken to obtain functional streams, See more details at https://github.com/JuanBindez/pytubefix/pull/209\n"
     ]
    },
    {
     "name": "stdout",
     "output_type": "stream",
     "text": [
      "Downloading Lir Sa'alir (Lagu tradisional Madura) + Lirik...\n"
     ]
    },
    {
     "name": "stderr",
     "output_type": "stream",
     "text": [
      "The ANDROID client requires PoToken to obtain functional streams, See more details at https://github.com/JuanBindez/pytubefix/pull/209\n",
      "The ANDROID client requires PoToken to obtain functional streams, See more details at https://github.com/JuanBindez/pytubefix/pull/209\n"
     ]
    },
    {
     "name": "stdout",
     "output_type": "stream",
     "text": [
      "Downloading jan anjin // lagu en-maenan madura...\n"
     ]
    },
    {
     "name": "stderr",
     "output_type": "stream",
     "text": [
      "The ANDROID client requires PoToken to obtain functional streams, See more details at https://github.com/JuanBindez/pytubefix/pull/209\n",
      "The ANDROID client requires PoToken to obtain functional streams, See more details at https://github.com/JuanBindez/pytubefix/pull/209\n"
     ]
    },
    {
     "name": "stdout",
     "output_type": "stream",
     "text": [
      "Downloading Lagu Madura   Amaen  Jen Anjenan...\n"
     ]
    },
    {
     "name": "stderr",
     "output_type": "stream",
     "text": [
      "The ANDROID client requires PoToken to obtain functional streams, See more details at https://github.com/JuanBindez/pytubefix/pull/209\n",
      "The ANDROID client requires PoToken to obtain functional streams, See more details at https://github.com/JuanBindez/pytubefix/pull/209\n"
     ]
    },
    {
     "name": "stdout",
     "output_type": "stream",
     "text": [
      "Downloading Orang naik pesawat di luar...\n",
      "Duration of KAPITAYAN ! AGAMA ASLI ORANG JAWA SEBELUM MASUKNYA HINDU DAN ISLAM AKAN BANGKIT KEMBALI is too long\n",
      "Duration of Fakta Sejarah Masyarakat dan Alam Budaya Provinsi Jawa Timur, Tempat Dukun Sakti & Orang² Keras is too long\n"
     ]
    },
    {
     "name": "stderr",
     "output_type": "stream",
     "text": [
      "The ANDROID client requires PoToken to obtain functional streams, See more details at https://github.com/JuanBindez/pytubefix/pull/209\n"
     ]
    },
    {
     "name": "stdout",
     "output_type": "stream",
     "text": [
      "Downloading 🔴LIVE GAWAT... RADITANNA TEPAR DI DATANGI PENGUSAHA ONLINE BANGKRUT INGINKAN LIONTIN MEANI GAJAH...\n",
      "mT8sOAAUy8A is streaming live and cannot be loaded\n"
     ]
    },
    {
     "name": "stderr",
     "output_type": "stream",
     "text": [
      "The ANDROID client requires PoToken to obtain functional streams, See more details at https://github.com/JuanBindez/pytubefix/pull/209\n",
      "The ANDROID client requires PoToken to obtain functional streams, See more details at https://github.com/JuanBindez/pytubefix/pull/209\n"
     ]
    },
    {
     "name": "stdout",
     "output_type": "stream",
     "text": [
      "Downloading Tari Indang, Din din Badindin di Arena CFD Sudirman street, Pekanbaru...\n"
     ]
    },
    {
     "name": "stderr",
     "output_type": "stream",
     "text": [
      "The ANDROID client requires PoToken to obtain functional streams, See more details at https://github.com/JuanBindez/pytubefix/pull/209\n",
      "The ANDROID client requires PoToken to obtain functional streams, See more details at https://github.com/JuanBindez/pytubefix/pull/209\n"
     ]
    },
    {
     "name": "stdout",
     "output_type": "stream",
     "text": [
      "Downloading Badindin - Lagu Daerah Sumatera Barat (dengan Lirik)...\n"
     ]
    },
    {
     "name": "stderr",
     "output_type": "stream",
     "text": [
      "The ANDROID client requires PoToken to obtain functional streams, See more details at https://github.com/JuanBindez/pytubefix/pull/209\n",
      "The ANDROID client requires PoToken to obtain functional streams, See more details at https://github.com/JuanBindez/pytubefix/pull/209\n"
     ]
    },
    {
     "name": "stdout",
     "output_type": "stream",
     "text": [
      "Downloading Tari Indang Dindin Badindin...\n"
     ]
    },
    {
     "name": "stderr",
     "output_type": "stream",
     "text": [
      "The ANDROID client requires PoToken to obtain functional streams, See more details at https://github.com/JuanBindez/pytubefix/pull/209\n",
      "The ANDROID client requires PoToken to obtain functional streams, See more details at https://github.com/JuanBindez/pytubefix/pull/209\n"
     ]
    },
    {
     "name": "stdout",
     "output_type": "stream",
     "text": [
      "Downloading Yohanis Fransiskus Lema (Ansy Lema) Komitmen Bangun NTT, Rela Melepaskan Kursi DPR RI...\n"
     ]
    },
    {
     "name": "stderr",
     "output_type": "stream",
     "text": [
      "The ANDROID client requires PoToken to obtain functional streams, See more details at https://github.com/JuanBindez/pytubefix/pull/209\n",
      "The ANDROID client requires PoToken to obtain functional streams, See more details at https://github.com/JuanBindez/pytubefix/pull/209\n"
     ]
    },
    {
     "name": "stdout",
     "output_type": "stream",
     "text": [
      "Downloading Yohanis Fransiskus Lema Berbagi Cita - Cita Dan Harapan Bersama Warga Ende...\n",
      "Duration of Best Things To Do In Banyuwangi - East Java Indonesia is too long\n",
      "Duration of TANDUK MAJENG - Lagu Madura | Musik Nusantara | energi7 is too long\n",
      "Downloading Ole Olang...\n"
     ]
    },
    {
     "name": "stderr",
     "output_type": "stream",
     "text": [
      "The ANDROID client requires PoToken to obtain functional streams, See more details at https://github.com/JuanBindez/pytubefix/pull/209\n",
      "The ANDROID client requires PoToken to obtain functional streams, See more details at https://github.com/JuanBindez/pytubefix/pull/209\n",
      "The ANDROID client requires PoToken to obtain functional streams, See more details at https://github.com/JuanBindez/pytubefix/pull/209\n",
      "The ANDROID client requires PoToken to obtain functional streams, See more details at https://github.com/JuanBindez/pytubefix/pull/209\n"
     ]
    },
    {
     "name": "stdout",
     "output_type": "stream",
     "text": [
      "Downloading SELVY AYUNDA - MANIS ROBENAH (Lakar Benyak Oreng Selebur) | NEW RGS...\n",
      "Duration of Pembangunan Tongkonan Pa'tarunan Tongko part 1 is too long\n",
      "Duration of KOKO THOLE :  LAGU TERBAIK [[ TOMBO KANGEN ]] is too long\n"
     ]
    },
    {
     "name": "stderr",
     "output_type": "stream",
     "text": [
      "The ANDROID client requires PoToken to obtain functional streams, See more details at https://github.com/JuanBindez/pytubefix/pull/209\n",
      "The ANDROID client requires PoToken to obtain functional streams, See more details at https://github.com/JuanBindez/pytubefix/pull/209\n"
     ]
    },
    {
     "name": "stdout",
     "output_type": "stream",
     "text": [
      "Downloading Lagu Daerah Indonesia - REK AYO REK - JAWA TIMUR [Lirik Lagu ]...\n",
      "Duration of Ada yang Baru dari Angin Ribut || Ke’ Rangke’ Kakonengan || Musik Tong-tong is too long\n",
      "Duration of Lagu Madura💝Ke’ Rangke’ Kakonengan ( Versi Viqoys Musik 2022) is too long\n",
      "Duration of Telaah Lagu Madura KE' RANGKE' KAKONENGAN is too long\n"
     ]
    },
    {
     "name": "stderr",
     "output_type": "stream",
     "text": [
      "The ANDROID client requires PoToken to obtain functional streams, See more details at https://github.com/JuanBindez/pytubefix/pull/209\n",
      "The ANDROID client requires PoToken to obtain functional streams, See more details at https://github.com/JuanBindez/pytubefix/pull/209\n"
     ]
    },
    {
     "name": "stdout",
     "output_type": "stream",
     "text": [
      "Downloading Obuk Celleng - Selvi Ayunda (Official Live Music)...\n",
      "Duration of Yeni Inka ft Fendik Adella - Mblebes (Official Live Music) is too long\n",
      "Duration of PEPEH KALOMPANG / BOHENK VS NINGSIH DA is too long\n",
      "Duration of Yeni Inka - Hutang Pok Amai Amai Belalang Kupu Kupu | Floor 88 (Official Music Video ANEKA SAFARI) is too long\n",
      "Duration of HUTANG ( POK AMAI AMAI ) - Lala Widy, Arlida Putri, Difarina Indra Adella - OM ADELLA is too long\n"
     ]
    },
    {
     "name": "stderr",
     "output_type": "stream",
     "text": [
      "The ANDROID client requires PoToken to obtain functional streams, See more details at https://github.com/JuanBindez/pytubefix/pull/209\n",
      "The ANDROID client requires PoToken to obtain functional streams, See more details at https://github.com/JuanBindez/pytubefix/pull/209\n"
     ]
    },
    {
     "name": "stdout",
     "output_type": "stream",
     "text": [
      "Downloading Lagu Anak Anak | Pok Ame Ame...\n",
      "Duration of LAILAHAILALLAH - Santri Njoso (Official Music Video) is too long\n",
      "Duration of ELING ELING - Laa Ilaaha Illallah  || Keroncong Version Cover is too long\n"
     ]
    },
    {
     "name": "stderr",
     "output_type": "stream",
     "text": [
      "The ANDROID client requires PoToken to obtain functional streams, See more details at https://github.com/JuanBindez/pytubefix/pull/209\n"
     ]
    },
    {
     "name": "stdout",
     "output_type": "stream",
     "text": [
      "Downloading SHOLAWAT PEMBUKA REZEKI PENUH BERKAH - Laa ilaha illallah al malikul haqqul mubin...\n",
      "iq6naUDtf0I is streaming live and cannot be loaded\n"
     ]
    },
    {
     "name": "stderr",
     "output_type": "stream",
     "text": [
      "The ANDROID client requires PoToken to obtain functional streams, See more details at https://github.com/JuanBindez/pytubefix/pull/209\n",
      "The ANDROID client requires PoToken to obtain functional streams, See more details at https://github.com/JuanBindez/pytubefix/pull/209\n"
     ]
    },
    {
     "name": "stdout",
     "output_type": "stream",
     "text": [
      "Downloading ccp shinbi's house spesial Ramadhan...\n"
     ]
    },
    {
     "name": "stderr",
     "output_type": "stream",
     "text": [
      "The ANDROID client requires PoToken to obtain functional streams, See more details at https://github.com/JuanBindez/pytubefix/pull/209\n",
      "The ANDROID client requires PoToken to obtain functional streams, See more details at https://github.com/JuanBindez/pytubefix/pull/209\n"
     ]
    },
    {
     "name": "stdout",
     "output_type": "stream",
     "text": [
      "Downloading Mop Papua : \"RUMAH SAKIT\" EPENKAH CUPEN TOH Volume 2...\n",
      "Duration of DARI SINI SAMPAI MENYEBAR ADA DI MANA MANA!! BEBEK PURNAMA ASLI TIDAK BUKA CABANG is too long\n",
      "Duration of Triliunan Rupiah Dari Republik Lele is too long\n"
     ]
    },
    {
     "name": "stderr",
     "output_type": "stream",
     "text": [
      "The ANDROID client requires PoToken to obtain functional streams, See more details at https://github.com/JuanBindez/pytubefix/pull/209\n",
      "The ANDROID client requires PoToken to obtain functional streams, See more details at https://github.com/JuanBindez/pytubefix/pull/209\n"
     ]
    },
    {
     "name": "stdout",
     "output_type": "stream",
     "text": [
      "Downloading Bencana Banjir Melanda Beberapa Desa di Jawa Timur...\n",
      "Duration of Waljinah - Lelo Ledung\" Langgam Jawa Nglaras Mat Matan is too long\n"
     ]
    },
    {
     "name": "stderr",
     "output_type": "stream",
     "text": [
      "The ANDROID client requires PoToken to obtain functional streams, See more details at https://github.com/JuanBindez/pytubefix/pull/209\n",
      "The ANDROID client requires PoToken to obtain functional streams, See more details at https://github.com/JuanBindez/pytubefix/pull/209\n"
     ]
    },
    {
     "name": "stdout",
     "output_type": "stream",
     "text": [
      "Downloading Pocong bangun siang bolong...\n"
     ]
    },
    {
     "name": "stderr",
     "output_type": "stream",
     "text": [
      "The ANDROID client requires PoToken to obtain functional streams, See more details at https://github.com/JuanBindez/pytubefix/pull/209\n",
      "The ANDROID client requires PoToken to obtain functional streams, See more details at https://github.com/JuanBindez/pytubefix/pull/209\n"
     ]
    },
    {
     "name": "stdout",
     "output_type": "stream",
     "text": [
      "Downloading Rabbids Invasion - Season 4 Opening...\n"
     ]
    },
    {
     "name": "stderr",
     "output_type": "stream",
     "text": [
      "The ANDROID client requires PoToken to obtain functional streams, See more details at https://github.com/JuanBindez/pytubefix/pull/209\n",
      "The ANDROID client requires PoToken to obtain functional streams, See more details at https://github.com/JuanBindez/pytubefix/pull/209\n"
     ]
    },
    {
     "name": "stdout",
     "output_type": "stream",
     "text": [
      "Downloading Ikan Raksasa...\n",
      "Duration of SMLHD - RUTINITAS RADONG (Official Music Video) is too long\n",
      "Duration of Song of Sabdatama is too long\n",
      "Duration of SEWU KONCO - Pakdhe Baz (official music video) Sewu konco ora njamin nulungi pas kowe tibo.. is too long\n"
     ]
    },
    {
     "name": "stderr",
     "output_type": "stream",
     "text": [
      "The ANDROID client requires PoToken to obtain functional streams, See more details at https://github.com/JuanBindez/pytubefix/pull/209\n",
      "The ANDROID client requires PoToken to obtain functional streams, See more details at https://github.com/JuanBindez/pytubefix/pull/209\n"
     ]
    },
    {
     "name": "stdout",
     "output_type": "stream",
     "text": [
      "Downloading Cublak Cublak Suweng | Lagu Daerah Jawa Tengah | Diva bernyanyi | Diva The Series Official...\n"
     ]
    },
    {
     "name": "stderr",
     "output_type": "stream",
     "text": [
      "The ANDROID client requires PoToken to obtain functional streams, See more details at https://github.com/JuanBindez/pytubefix/pull/209\n",
      "The ANDROID client requires PoToken to obtain functional streams, See more details at https://github.com/JuanBindez/pytubefix/pull/209\n"
     ]
    },
    {
     "name": "stdout",
     "output_type": "stream",
     "text": [
      "Downloading Lagu Cingcangkeling - Animasi Cerita Indonesia (ACI)...\n"
     ]
    },
    {
     "name": "stderr",
     "output_type": "stream",
     "text": [
      "The ANDROID client requires PoToken to obtain functional streams, See more details at https://github.com/JuanBindez/pytubefix/pull/209\n",
      "The ANDROID client requires PoToken to obtain functional streams, See more details at https://github.com/JuanBindez/pytubefix/pull/209\n"
     ]
    },
    {
     "name": "stdout",
     "output_type": "stream",
     "text": [
      "Downloading Tari Cing Cangkeling | Tari Kreasi | Tari Daerah Anak TK PAUD Mudah ditirukan...\n",
      "Duration of IRARI VLOG: Raka Rafi - Cultural Presevation of Cong Kene' Bing Ana' is too long\n"
     ]
    },
    {
     "name": "stderr",
     "output_type": "stream",
     "text": [
      "The ANDROID client requires PoToken to obtain functional streams, See more details at https://github.com/JuanBindez/pytubefix/pull/209\n",
      "The ANDROID client requires PoToken to obtain functional streams, See more details at https://github.com/JuanBindez/pytubefix/pull/209\n"
     ]
    },
    {
     "name": "stdout",
     "output_type": "stream",
     "text": [
      "Downloading LAGU MADURA - BING ANAK (Pantun dalam lagu) || LIRIK DAN TERJEMAHAN #lagumadura...\n"
     ]
    },
    {
     "name": "stderr",
     "output_type": "stream",
     "text": [
      "The ANDROID client requires PoToken to obtain functional streams, See more details at https://github.com/JuanBindez/pytubefix/pull/209\n",
      "The ANDROID client requires PoToken to obtain functional streams, See more details at https://github.com/JuanBindez/pytubefix/pull/209\n"
     ]
    },
    {
     "name": "stdout",
     "output_type": "stream",
     "text": [
      "Downloading Bing Ana...\n"
     ]
    },
    {
     "name": "stderr",
     "output_type": "stream",
     "text": [
      "The ANDROID client requires PoToken to obtain functional streams, See more details at https://github.com/JuanBindez/pytubefix/pull/209\n",
      "The ANDROID client requires PoToken to obtain functional streams, See more details at https://github.com/JuanBindez/pytubefix/pull/209\n"
     ]
    },
    {
     "name": "stdout",
     "output_type": "stream",
     "text": [
      "Downloading LAGU MADURA - GAI' BINTANG [LIRIK DAN TERJEMAHAN]...\n",
      "Duration of Gai Bintang - ICUNK | HIPHOP MADURA is too long\n"
     ]
    },
    {
     "name": "stderr",
     "output_type": "stream",
     "text": [
      "The ANDROID client requires PoToken to obtain functional streams, See more details at https://github.com/JuanBindez/pytubefix/pull/209\n",
      "The ANDROID client requires PoToken to obtain functional streams, See more details at https://github.com/JuanBindez/pytubefix/pull/209\n"
     ]
    },
    {
     "name": "stdout",
     "output_type": "stream",
     "text": [
      "Downloading Ghai' Bintang...\n"
     ]
    },
    {
     "name": "stderr",
     "output_type": "stream",
     "text": [
      "The ANDROID client requires PoToken to obtain functional streams, See more details at https://github.com/JuanBindez/pytubefix/pull/209\n",
      "The ANDROID client requires PoToken to obtain functional streams, See more details at https://github.com/JuanBindez/pytubefix/pull/209\n"
     ]
    },
    {
     "name": "stdout",
     "output_type": "stream",
     "text": [
      "Downloading TANDUK MAJENG | LAGU DAERAH MADURA...\n"
     ]
    },
    {
     "name": "stderr",
     "output_type": "stream",
     "text": [
      "The ANDROID client requires PoToken to obtain functional streams, See more details at https://github.com/JuanBindez/pytubefix/pull/209\n",
      "The ANDROID client requires PoToken to obtain functional streams, See more details at https://github.com/JuanBindez/pytubefix/pull/209\n"
     ]
    },
    {
     "name": "stdout",
     "output_type": "stream",
     "text": [
      "Downloading Tanduk Majeng (Cover Lagu Daerah Madura)...\n",
      "Duration of TANDUK MAJENG - Lagu Madura | Musik Nusantara | energi7 is too long\n"
     ]
    },
    {
     "name": "stderr",
     "output_type": "stream",
     "text": [
      "The ANDROID client requires PoToken to obtain functional streams, See more details at https://github.com/JuanBindez/pytubefix/pull/209\n",
      "The ANDROID client requires PoToken to obtain functional streams, See more details at https://github.com/JuanBindez/pytubefix/pull/209\n"
     ]
    },
    {
     "name": "stdout",
     "output_type": "stream",
     "text": [
      "Downloading CIK CIK PERIUK | Lagu Daerah Kalimantan Barat | Budaya Indonesia | Dongeng Kita...\n"
     ]
    },
    {
     "name": "stderr",
     "output_type": "stream",
     "text": [
      "The ANDROID client requires PoToken to obtain functional streams, See more details at https://github.com/JuanBindez/pytubefix/pull/209\n",
      "The ANDROID client requires PoToken to obtain functional streams, See more details at https://github.com/JuanBindez/pytubefix/pull/209\n"
     ]
    },
    {
     "name": "stdout",
     "output_type": "stream",
     "text": [
      "Downloading Tari Cik Cik Periuk - Tari Kreasi Daerah Kalimantan Barat - Tarian Mudah Anak TK & SD...\n"
     ]
    },
    {
     "name": "stderr",
     "output_type": "stream",
     "text": [
      "The ANDROID client requires PoToken to obtain functional streams, See more details at https://github.com/JuanBindez/pytubefix/pull/209\n",
      "The ANDROID client requires PoToken to obtain functional streams, See more details at https://github.com/JuanBindez/pytubefix/pull/209\n"
     ]
    },
    {
     "name": "stdout",
     "output_type": "stream",
     "text": [
      "Downloading Cik Cik Periuk - Lagu Daerah Kalimantan Barat (Lirik dan Terjemahan)...\n"
     ]
    },
    {
     "name": "stderr",
     "output_type": "stream",
     "text": [
      "The ANDROID client requires PoToken to obtain functional streams, See more details at https://github.com/JuanBindez/pytubefix/pull/209\n",
      "The ANDROID client requires PoToken to obtain functional streams, See more details at https://github.com/JuanBindez/pytubefix/pull/209\n"
     ]
    },
    {
     "name": "stdout",
     "output_type": "stream",
     "text": [
      "Downloading Sungai Kapuas - Lagu Daerah Kalimantan Barat (Lirik dan Terjemahan)...\n"
     ]
    },
    {
     "name": "stderr",
     "output_type": "stream",
     "text": [
      "The ANDROID client requires PoToken to obtain functional streams, See more details at https://github.com/JuanBindez/pytubefix/pull/209\n",
      "The ANDROID client requires PoToken to obtain functional streams, See more details at https://github.com/JuanBindez/pytubefix/pull/209\n"
     ]
    },
    {
     "name": "stdout",
     "output_type": "stream",
     "text": [
      "Downloading Sungai kapuas...\n"
     ]
    },
    {
     "name": "stderr",
     "output_type": "stream",
     "text": [
      "The ANDROID client requires PoToken to obtain functional streams, See more details at https://github.com/JuanBindez/pytubefix/pull/209\n",
      "The ANDROID client requires PoToken to obtain functional streams, See more details at https://github.com/JuanBindez/pytubefix/pull/209\n"
     ]
    },
    {
     "name": "stdout",
     "output_type": "stream",
     "text": [
      "Downloading Aek Kapuas [ Karaoke Version ] Lagu Daerah Kalimantan Barat...\n"
     ]
    },
    {
     "name": "stderr",
     "output_type": "stream",
     "text": [
      "The ANDROID client requires PoToken to obtain functional streams, See more details at https://github.com/JuanBindez/pytubefix/pull/209\n",
      "The ANDROID client requires PoToken to obtain functional streams, See more details at https://github.com/JuanBindez/pytubefix/pull/209\n"
     ]
    },
    {
     "name": "stdout",
     "output_type": "stream",
     "text": [
      "Downloading Masjid Jami Pontianak, Simbol Kemajuan Islam di Kalimantan Barat...\n"
     ]
    },
    {
     "name": "stderr",
     "output_type": "stream",
     "text": [
      "The ANDROID client requires PoToken to obtain functional streams, See more details at https://github.com/JuanBindez/pytubefix/pull/209\n",
      "The ANDROID client requires PoToken to obtain functional streams, See more details at https://github.com/JuanBindez/pytubefix/pull/209\n"
     ]
    },
    {
     "name": "stdout",
     "output_type": "stream",
     "text": [
      "Downloading MASJID TERTUA DAN MASJID TERBESAR DIPONTIANAK - KALIMANTAN BARAT...\n",
      "Duration of 🔴MASJID JAMI' DAN KERATON KADRIAH||CIKAL BAKAL  KOTA PONTIANAK 1771||SITUS PENTING SEJARAH PONTIANAK is too long\n",
      "Duration of Alon Alon |  Lagu Daerah Sambas Kalimantan Barat Indonesia is too long\n"
     ]
    },
    {
     "name": "stderr",
     "output_type": "stream",
     "text": [
      "The ANDROID client requires PoToken to obtain functional streams, See more details at https://github.com/JuanBindez/pytubefix/pull/209\n",
      "The ANDROID client requires PoToken to obtain functional streams, See more details at https://github.com/JuanBindez/pytubefix/pull/209\n"
     ]
    },
    {
     "name": "stdout",
     "output_type": "stream",
     "text": [
      "Downloading ALON ALON | Lagu Daerah SAMBAS | KALIMANTAN BARAT...\n"
     ]
    },
    {
     "name": "stderr",
     "output_type": "stream",
     "text": [
      "The ANDROID client requires PoToken to obtain functional streams, See more details at https://github.com/JuanBindez/pytubefix/pull/209\n",
      "The ANDROID client requires PoToken to obtain functional streams, See more details at https://github.com/JuanBindez/pytubefix/pull/209\n"
     ]
    },
    {
     "name": "stdout",
     "output_type": "stream",
     "text": [
      "Downloading Slank - Alon Alon Asal Kelakon (Official Music Video)...\n"
     ]
    },
    {
     "name": "stderr",
     "output_type": "stream",
     "text": [
      "The ANDROID client requires PoToken to obtain functional streams, See more details at https://github.com/JuanBindez/pytubefix/pull/209\n",
      "The ANDROID client requires PoToken to obtain functional streams, See more details at https://github.com/JuanBindez/pytubefix/pull/209\n"
     ]
    },
    {
     "name": "stdout",
     "output_type": "stream",
     "text": [
      "Downloading KAPAL BELON | Ost. KEMBANG POLARIA (Official Music Video)...\n"
     ]
    },
    {
     "name": "stderr",
     "output_type": "stream",
     "text": [
      "The ANDROID client requires PoToken to obtain functional streams, See more details at https://github.com/JuanBindez/pytubefix/pull/209\n",
      "The ANDROID client requires PoToken to obtain functional streams, See more details at https://github.com/JuanBindez/pytubefix/pull/209\n"
     ]
    },
    {
     "name": "stdout",
     "output_type": "stream",
     "text": [
      "Downloading Sejarah Kapal Belon Sambas...\n"
     ]
    },
    {
     "name": "stderr",
     "output_type": "stream",
     "text": [
      "The ANDROID client requires PoToken to obtain functional streams, See more details at https://github.com/JuanBindez/pytubefix/pull/209\n",
      "The ANDROID client requires PoToken to obtain functional streams, See more details at https://github.com/JuanBindez/pytubefix/pull/209\n"
     ]
    },
    {
     "name": "stdout",
     "output_type": "stream",
     "text": [
      "Downloading Lagu Sambas - Kapal Belon Lirik...\n"
     ]
    },
    {
     "name": "stderr",
     "output_type": "stream",
     "text": [
      "The ANDROID client requires PoToken to obtain functional streams, See more details at https://github.com/JuanBindez/pytubefix/pull/209\n",
      "The ANDROID client requires PoToken to obtain functional streams, See more details at https://github.com/JuanBindez/pytubefix/pull/209\n"
     ]
    },
    {
     "name": "stdout",
     "output_type": "stream",
     "text": [
      "Downloading Sungai Kapuas - Lagu Daerah Kalimantan Barat (Lirik dan Terjemahan)...\n",
      "Duration of INDONESIAKU - Ekspedisi Sungai Kapuas Kalimantan Barat. is too long\n"
     ]
    },
    {
     "name": "stderr",
     "output_type": "stream",
     "text": [
      "The ANDROID client requires PoToken to obtain functional streams, See more details at https://github.com/JuanBindez/pytubefix/pull/209\n",
      "The ANDROID client requires PoToken to obtain functional streams, See more details at https://github.com/JuanBindez/pytubefix/pull/209\n"
     ]
    },
    {
     "name": "stdout",
     "output_type": "stream",
     "text": [
      "Downloading misteri sungai kapuas & penunggunya ||kalimantan barat...\n",
      "Duration of Misteri Sosok Makhluk Penunggu Sungai Kapuas Sempat Menampakan Diri? is too long\n"
     ]
    },
    {
     "name": "stderr",
     "output_type": "stream",
     "text": [
      "The ANDROID client requires PoToken to obtain functional streams, See more details at https://github.com/JuanBindez/pytubefix/pull/209\n",
      "The ANDROID client requires PoToken to obtain functional streams, See more details at https://github.com/JuanBindez/pytubefix/pull/209\n"
     ]
    },
    {
     "name": "stdout",
     "output_type": "stream",
     "text": [
      "Downloading Sungai Kapuas - Lagu Daerah Kalimantan Barat (Lirik dan Terjemahan)...\n",
      "Duration of #ggsemut Kehidupan nyata antara jembatan Kapuas dan Jembatan Landak #pontianakkota #kalimantanbarat is too long\n"
     ]
    },
    {
     "name": "stderr",
     "output_type": "stream",
     "text": [
      "The ANDROID client requires PoToken to obtain functional streams, See more details at https://github.com/JuanBindez/pytubefix/pull/209\n",
      "The ANDROID client requires PoToken to obtain functional streams, See more details at https://github.com/JuanBindez/pytubefix/pull/209\n"
     ]
    },
    {
     "name": "stdout",
     "output_type": "stream",
     "text": [
      "Downloading Lagu Sambas \"ALO' GALING LASSONG LABBAN\" Album Terigas Vol 1...\n"
     ]
    },
    {
     "name": "stderr",
     "output_type": "stream",
     "text": [
      "The ANDROID client requires PoToken to obtain functional streams, See more details at https://github.com/JuanBindez/pytubefix/pull/209\n",
      "The ANDROID client requires PoToken to obtain functional streams, See more details at https://github.com/JuanBindez/pytubefix/pull/209\n"
     ]
    },
    {
     "name": "stdout",
     "output_type": "stream",
     "text": [
      "Downloading lirik lagu sambas \"Alok Galing\"...\n"
     ]
    },
    {
     "name": "stderr",
     "output_type": "stream",
     "text": [
      "The ANDROID client requires PoToken to obtain functional streams, See more details at https://github.com/JuanBindez/pytubefix/pull/209\n",
      "The ANDROID client requires PoToken to obtain functional streams, See more details at https://github.com/JuanBindez/pytubefix/pull/209\n"
     ]
    },
    {
     "name": "stdout",
     "output_type": "stream",
     "text": [
      "Downloading Alo' Galing - EDM VERSION (Dwin Ft. Sri Manisa)...\n"
     ]
    },
    {
     "name": "stderr",
     "output_type": "stream",
     "text": [
      "The ANDROID client requires PoToken to obtain functional streams, See more details at https://github.com/JuanBindez/pytubefix/pull/209\n",
      "The ANDROID client requires PoToken to obtain functional streams, See more details at https://github.com/JuanBindez/pytubefix/pull/209\n"
     ]
    },
    {
     "name": "stdout",
     "output_type": "stream",
     "text": [
      "Downloading SEJARAH MAKAM KERAMAT BANTILAN...\n"
     ]
    },
    {
     "name": "stderr",
     "output_type": "stream",
     "text": [
      "The ANDROID client requires PoToken to obtain functional streams, See more details at https://github.com/JuanBindez/pytubefix/pull/209\n",
      "The ANDROID client requires PoToken to obtain functional streams, See more details at https://github.com/JuanBindez/pytubefix/pull/209\n"
     ]
    },
    {
     "name": "stdout",
     "output_type": "stream",
     "text": [
      "Downloading Ziarah ke kubur Datok Bantelan Putih Sambas Kalbar...\n"
     ]
    },
    {
     "name": "stderr",
     "output_type": "stream",
     "text": [
      "The ANDROID client requires PoToken to obtain functional streams, See more details at https://github.com/JuanBindez/pytubefix/pull/209\n",
      "The ANDROID client requires PoToken to obtain functional streams, See more details at https://github.com/JuanBindez/pytubefix/pull/209\n"
     ]
    },
    {
     "name": "stdout",
     "output_type": "stream",
     "text": [
      "Downloading Bantelan (covered by Yogi Rizaldi)...\n",
      "Duration of Legenda Batu Menangis | Cerita Rakyat Kalimantan Barat | Kisah Nusantara is too long\n",
      "Duration of CERITA RAKYAT SAMBAS BATU BELAH BATU BETANGKUP is too long\n",
      "Duration of BATU MENANGIS ~ Cerita Rakyat Kalimantan Barat | Dongeng Kita is too long\n",
      "Duration of LEGENDA BUJANG NADI DARE NANDUNG DIKUBUR HIDUP-HIDUP is too long\n",
      "Duration of LEGENDA MAKAM BUJANG NADI DARE NANDUNG, DIKIRA DIMALAYSIA, RUPANYA SAMBAS KALIMANTAN BARAT INDONESIA is too long\n",
      "Duration of Film Animasi 2D Cerita Rakyat Bujang Nadi & Dare Nandung dari Kabupaten Sambas is too long\n"
     ]
    },
    {
     "name": "stderr",
     "output_type": "stream",
     "text": [
      "The ANDROID client requires PoToken to obtain functional streams, See more details at https://github.com/JuanBindez/pytubefix/pull/209\n",
      "The ANDROID client requires PoToken to obtain functional streams, See more details at https://github.com/JuanBindez/pytubefix/pull/209\n"
     ]
    },
    {
     "name": "stdout",
     "output_type": "stream",
     "text": [
      "Downloading Lirik lagu Ca' uncang Sambas...\n"
     ]
    },
    {
     "name": "stderr",
     "output_type": "stream",
     "text": [
      "The ANDROID client requires PoToken to obtain functional streams, See more details at https://github.com/JuanBindez/pytubefix/pull/209\n",
      "The ANDROID client requires PoToken to obtain functional streams, See more details at https://github.com/JuanBindez/pytubefix/pull/209\n"
     ]
    },
    {
     "name": "stdout",
     "output_type": "stream",
     "text": [
      "Downloading Cak Uncang (Dengan Lirik)... lagu melayu sambas...\n",
      "Duration of Ca' Uncang - Ikanmas Ansambel is too long\n",
      "Duration of LAGU MELAYU SAMBAS - DARE SIBARRANG is too long\n"
     ]
    },
    {
     "name": "stderr",
     "output_type": "stream",
     "text": [
      "The ANDROID client requires PoToken to obtain functional streams, See more details at https://github.com/JuanBindez/pytubefix/pull/209\n",
      "The ANDROID client requires PoToken to obtain functional streams, See more details at https://github.com/JuanBindez/pytubefix/pull/209\n"
     ]
    },
    {
     "name": "stdout",
     "output_type": "stream",
     "text": [
      "Downloading Dare Sibarang (recomposition)...\n",
      "Duration of Tandak Sambas Cover By;Ifan Seventeen is too long\n"
     ]
    },
    {
     "name": "stderr",
     "output_type": "stream",
     "text": [
      "The ANDROID client requires PoToken to obtain functional streams, See more details at https://github.com/JuanBindez/pytubefix/pull/209\n"
     ]
    },
    {
     "name": "stdout",
     "output_type": "stream",
     "text": [
      "Duration of Tandak Sambas Cover By;Ifan Seventeen is too long\n",
      "Downloading Chord dan Not Balok Lagu Darilah Saing...\n"
     ]
    },
    {
     "name": "stderr",
     "output_type": "stream",
     "text": [
      "The ANDROID client requires PoToken to obtain functional streams, See more details at https://github.com/JuanBindez/pytubefix/pull/209\n"
     ]
    },
    {
     "name": "stdout",
     "output_type": "stream",
     "text": [
      "Duration of LAGU MELAYU SAMBAS - DARILAH SAING is too long\n"
     ]
    },
    {
     "name": "stderr",
     "output_type": "stream",
     "text": [
      "The ANDROID client requires PoToken to obtain functional streams, See more details at https://github.com/JuanBindez/pytubefix/pull/209\n",
      "The ANDROID client requires PoToken to obtain functional streams, See more details at https://github.com/JuanBindez/pytubefix/pull/209\n"
     ]
    },
    {
     "name": "stdout",
     "output_type": "stream",
     "text": [
      "Downloading Sungai Kapuas - Lagu Daerah Kalimantan Barat (Lirik dan Terjemahan)...\n"
     ]
    },
    {
     "name": "stderr",
     "output_type": "stream",
     "text": [
      "The ANDROID client requires PoToken to obtain functional streams, See more details at https://github.com/JuanBindez/pytubefix/pull/209\n",
      "The ANDROID client requires PoToken to obtain functional streams, See more details at https://github.com/JuanBindez/pytubefix/pull/209\n"
     ]
    },
    {
     "name": "stdout",
     "output_type": "stream",
     "text": [
      "Downloading Lirik lagu Kote Pontianak] Lagu daerah Kalimantan Barat...\n"
     ]
    },
    {
     "name": "stderr",
     "output_type": "stream",
     "text": [
      "The ANDROID client requires PoToken to obtain functional streams, See more details at https://github.com/JuanBindez/pytubefix/pull/209\n",
      "The ANDROID client requires PoToken to obtain functional streams, See more details at https://github.com/JuanBindez/pytubefix/pull/209\n"
     ]
    },
    {
     "name": "stdout",
     "output_type": "stream",
     "text": [
      "Downloading Sejarah Asal Mula Sungai Kapuas Kalimantan Barat...\n"
     ]
    },
    {
     "name": "stderr",
     "output_type": "stream",
     "text": [
      "The ANDROID client requires PoToken to obtain functional streams, See more details at https://github.com/JuanBindez/pytubefix/pull/209\n",
      "The ANDROID client requires PoToken to obtain functional streams, See more details at https://github.com/JuanBindez/pytubefix/pull/209\n"
     ]
    },
    {
     "name": "stdout",
     "output_type": "stream",
     "text": [
      "Downloading Kaing Lunggi By. Wike Widowati (Official Musik Video)...\n",
      "Duration of Lagu Sambas \"Kaing Lunggi\" Album Terigas Vol 1 is too long\n"
     ]
    },
    {
     "name": "stderr",
     "output_type": "stream",
     "text": [
      "The ANDROID client requires PoToken to obtain functional streams, See more details at https://github.com/JuanBindez/pytubefix/pull/209\n",
      "The ANDROID client requires PoToken to obtain functional streams, See more details at https://github.com/JuanBindez/pytubefix/pull/209\n"
     ]
    },
    {
     "name": "stdout",
     "output_type": "stream",
     "text": [
      "Downloading Kaing Lunggi - Bulyan Musthafa (1989)...\n",
      "Duration of Kabupaten Terluas di Provinsi Kalimantan Barat, Kalbar. is too long\n"
     ]
    },
    {
     "name": "stderr",
     "output_type": "stream",
     "text": [
      "The ANDROID client requires PoToken to obtain functional streams, See more details at https://github.com/JuanBindez/pytubefix/pull/209\n",
      "The ANDROID client requires PoToken to obtain functional streams, See more details at https://github.com/JuanBindez/pytubefix/pull/209\n"
     ]
    },
    {
     "name": "stdout",
     "output_type": "stream",
     "text": [
      "Downloading Sejarah Provinsi Kalimantan Barat yang Dulu Dikenal Borneo Barat | Tagar...\n",
      "Duration of Mengenal suku Dayak badamea di Kalimantan barat is too long\n",
      "Duration of Tari Ruai - KALIMANTAN BARAT INDONESIA CULTURE By NURSING FESTIVAL UPH 2018 (Got talent) is too long\n",
      "Duration of TARI RUAI // Kalimantan Barat / Dancer : Naning , Ndari , Nanda is too long\n",
      "Duration of ASAL USUL BURUNG RUAI~ Cerita Rakyat Kalimantan Barat | Dongeng Kita is too long\n"
     ]
    },
    {
     "name": "stderr",
     "output_type": "stream",
     "text": [
      "The ANDROID client requires PoToken to obtain functional streams, See more details at https://github.com/JuanBindez/pytubefix/pull/209\n",
      "The ANDROID client requires PoToken to obtain functional streams, See more details at https://github.com/JuanBindez/pytubefix/pull/209\n"
     ]
    },
    {
     "name": "stdout",
     "output_type": "stream",
     "text": [
      "Downloading Prayogo Pangestu, Orang terkaya di Indonesia, ternyata kelahiran Sungai Betung Kalimantan Barat...\n",
      "Duration of Apakah Suku Melayu Adalah Dayak? Sejarah Suku Melayu di Kalimantan Barat is too long\n",
      "Duration of SUKU - SUKU BESAR YANG MENDIAMI KALIMANTAN BARAT is too long\n"
     ]
    },
    {
     "name": "stderr",
     "output_type": "stream",
     "text": [
      "The ANDROID client requires PoToken to obtain functional streams, See more details at https://github.com/JuanBindez/pytubefix/pull/209\n",
      "The ANDROID client requires PoToken to obtain functional streams, See more details at https://github.com/JuanBindez/pytubefix/pull/209\n"
     ]
    },
    {
     "name": "stdout",
     "output_type": "stream",
     "text": [
      "Downloading Prayogo Pangestu, Orang terkaya di Indonesia, ternyata kelahiran Sungai Betung Kalimantan Barat...\n"
     ]
    },
    {
     "name": "stderr",
     "output_type": "stream",
     "text": [
      "The ANDROID client requires PoToken to obtain functional streams, See more details at https://github.com/JuanBindez/pytubefix/pull/209\n",
      "The ANDROID client requires PoToken to obtain functional streams, See more details at https://github.com/JuanBindez/pytubefix/pull/209\n"
     ]
    },
    {
     "name": "stdout",
     "output_type": "stream",
     "text": [
      "Downloading Budaya dan Kekhasan Provinsi Kalimantan Barat - Seri Budaya Indonesia...\n",
      "Duration of Apakah Suku Melayu Adalah Dayak? Sejarah Suku Melayu di Kalimantan Barat is too long\n"
     ]
    },
    {
     "name": "stderr",
     "output_type": "stream",
     "text": [
      "The ANDROID client requires PoToken to obtain functional streams, See more details at https://github.com/JuanBindez/pytubefix/pull/209\n",
      "The ANDROID client requires PoToken to obtain functional streams, See more details at https://github.com/JuanBindez/pytubefix/pull/209\n"
     ]
    },
    {
     "name": "stdout",
     "output_type": "stream",
     "text": [
      "Downloading Prayogo Pangestu, Orang terkaya di Indonesia, ternyata kelahiran Sungai Betung Kalimantan Barat...\n"
     ]
    },
    {
     "name": "stderr",
     "output_type": "stream",
     "text": [
      "The ANDROID client requires PoToken to obtain functional streams, See more details at https://github.com/JuanBindez/pytubefix/pull/209\n",
      "The ANDROID client requires PoToken to obtain functional streams, See more details at https://github.com/JuanBindez/pytubefix/pull/209\n"
     ]
    },
    {
     "name": "stdout",
     "output_type": "stream",
     "text": [
      "Downloading Kerajaan Tertua di Kalimantan Barat...\n",
      "Duration of Daftar NAMA-NAMA pahlawan Nasional dari Kalimantan Barat ‼️🇮🇩 is too long\n"
     ]
    },
    {
     "name": "stderr",
     "output_type": "stream",
     "text": [
      "The ANDROID client requires PoToken to obtain functional streams, See more details at https://github.com/JuanBindez/pytubefix/pull/209\n",
      "The ANDROID client requires PoToken to obtain functional streams, See more details at https://github.com/JuanBindez/pytubefix/pull/209\n"
     ]
    },
    {
     "name": "stdout",
     "output_type": "stream",
     "text": [
      "Downloading Sungai Kapuas - Lagu Daerah Kalimantan Barat (Lirik dan Terjemahan)...\n"
     ]
    },
    {
     "name": "stderr",
     "output_type": "stream",
     "text": [
      "The ANDROID client requires PoToken to obtain functional streams, See more details at https://github.com/JuanBindez/pytubefix/pull/209\n",
      "The ANDROID client requires PoToken to obtain functional streams, See more details at https://github.com/JuanBindez/pytubefix/pull/209\n"
     ]
    },
    {
     "name": "stdout",
     "output_type": "stream",
     "text": [
      "Downloading CIK CIK PERIUK | Lagu Daerah Kalimantan Barat | Budaya Indonesia | Dongeng Kita...\n"
     ]
    },
    {
     "name": "stderr",
     "output_type": "stream",
     "text": [
      "The ANDROID client requires PoToken to obtain functional streams, See more details at https://github.com/JuanBindez/pytubefix/pull/209\n",
      "The ANDROID client requires PoToken to obtain functional streams, See more details at https://github.com/JuanBindez/pytubefix/pull/209\n"
     ]
    },
    {
     "name": "stdout",
     "output_type": "stream",
     "text": [
      "Downloading Lirik lagu Kote Pontianak] Lagu daerah Kalimantan Barat...\n"
     ]
    },
    {
     "name": "stderr",
     "output_type": "stream",
     "text": [
      "The ANDROID client requires PoToken to obtain functional streams, See more details at https://github.com/JuanBindez/pytubefix/pull/209\n",
      "The ANDROID client requires PoToken to obtain functional streams, See more details at https://github.com/JuanBindez/pytubefix/pull/209\n"
     ]
    },
    {
     "name": "stdout",
     "output_type": "stream",
     "text": [
      "Downloading Lirik lagu sambas kebanjiran...\n"
     ]
    },
    {
     "name": "stderr",
     "output_type": "stream",
     "text": [
      "The ANDROID client requires PoToken to obtain functional streams, See more details at https://github.com/JuanBindez/pytubefix/pull/209\n",
      "The ANDROID client requires PoToken to obtain functional streams, See more details at https://github.com/JuanBindez/pytubefix/pull/209\n"
     ]
    },
    {
     "name": "stdout",
     "output_type": "stream",
     "text": [
      "Downloading Sungai Sambas Kebanjiran by Falsafah Melayu...\n"
     ]
    },
    {
     "name": "stderr",
     "output_type": "stream",
     "text": [
      "The ANDROID client requires PoToken to obtain functional streams, See more details at https://github.com/JuanBindez/pytubefix/pull/209\n",
      "The ANDROID client requires PoToken to obtain functional streams, See more details at https://github.com/JuanBindez/pytubefix/pull/209\n"
     ]
    },
    {
     "name": "stdout",
     "output_type": "stream",
     "text": [
      "Downloading Karaoke Lagu Sambas \"Sambas Kebanjiran\"...\n",
      "Duration of semangkin indah , exploring danau sebedang di tahun 2023 apa saja yang baru? is too long\n",
      "Duration of Motovlog PCX Iron Man ke PONDOK KITTE Danau Sebedang | Wisata Danau Sebedang 2022 is too long\n",
      "Duration of PONDOK KITTE UJUNG DANAU SEBEDANG, WISATA ALAM DAN KULINER KHAS SAMBAS KALIMANTAN BARAT. is too long\n"
     ]
    },
    {
     "name": "stderr",
     "output_type": "stream",
     "text": [
      "The ANDROID client requires PoToken to obtain functional streams, See more details at https://github.com/JuanBindez/pytubefix/pull/209\n",
      "The ANDROID client requires PoToken to obtain functional streams, See more details at https://github.com/JuanBindez/pytubefix/pull/209\n"
     ]
    },
    {
     "name": "stdout",
     "output_type": "stream",
     "text": [
      "Downloading CIK CIK PERIUK | Lagu Daerah Kalimantan Barat | Budaya Indonesia | Dongeng Kita...\n",
      "Duration of PESONA ALAM DAN BUDAYA KALBAR! Keliling Kota & Kabupaten yang Ada di Kalimantan Barat is too long\n",
      "Duration of ASAL USUL  SEKUMBAK DAN DESA LELA SAMBAS KALIMANTAN BARAT INDONESIA is too long\n",
      "Duration of Lagu Sambas \"TIKANNANG URANG TUE\" Album Terigas Vol 1 is too long\n"
     ]
    },
    {
     "name": "stderr",
     "output_type": "stream",
     "text": [
      "The ANDROID client requires PoToken to obtain functional streams, See more details at https://github.com/JuanBindez/pytubefix/pull/209\n",
      "The ANDROID client requires PoToken to obtain functional streams, See more details at https://github.com/JuanBindez/pytubefix/pull/209\n"
     ]
    },
    {
     "name": "stdout",
     "output_type": "stream",
     "text": [
      "Downloading Tikannang urang tue...\n"
     ]
    },
    {
     "name": "stderr",
     "output_type": "stream",
     "text": [
      "The ANDROID client requires PoToken to obtain functional streams, See more details at https://github.com/JuanBindez/pytubefix/pull/209\n",
      "The ANDROID client requires PoToken to obtain functional streams, See more details at https://github.com/JuanBindez/pytubefix/pull/209\n"
     ]
    },
    {
     "name": "stdout",
     "output_type": "stream",
     "text": [
      "Downloading LAGU SAMBAS TIKANANG URANG TUE Cover Rock #lagusambas...\n",
      "Duration of Ting Ting Kededai - Imam S Arifin  ( KETAPANG ) is too long\n",
      "Duration of Kecantikan Gadis Amoy Kalimantan Barat! Singkawang Mayoritas Tionghoa, Kota Toleransi di Indonesia is too long\n",
      "Duration of Single Kedua Aldo Sagala - Jahe ke' Jahe (Official Musik Video) is too long\n",
      "Duration of Tandak Sambas Cover By;Ifan Seventeen is too long\n"
     ]
    },
    {
     "name": "stderr",
     "output_type": "stream",
     "text": [
      "The ANDROID client requires PoToken to obtain functional streams, See more details at https://github.com/JuanBindez/pytubefix/pull/209\n",
      "The ANDROID client requires PoToken to obtain functional streams, See more details at https://github.com/JuanBindez/pytubefix/pull/209\n"
     ]
    },
    {
     "name": "stdout",
     "output_type": "stream",
     "text": [
      "Downloading Tandak Sambas merupakan tari tradisional Kalimantan Barat...\n",
      "Duration of Tanda Sambas Tradisional.( Penata Tari Juhermi Thahir. Penari Sanggar Kijang Berantai) is too long\n"
     ]
    },
    {
     "name": "stderr",
     "output_type": "stream",
     "text": [
      "The ANDROID client requires PoToken to obtain functional streams, See more details at https://github.com/JuanBindez/pytubefix/pull/209\n",
      "The ANDROID client requires PoToken to obtain functional streams, See more details at https://github.com/JuanBindez/pytubefix/pull/209\n"
     ]
    },
    {
     "name": "stdout",
     "output_type": "stream",
     "text": [
      "Downloading Ampar Ampar Pisang | Lagu Daerah Kalimantan Selatan | Diva bernyanyi | Diva The Series Official...\n"
     ]
    },
    {
     "name": "stderr",
     "output_type": "stream",
     "text": [
      "The ANDROID client requires PoToken to obtain functional streams, See more details at https://github.com/JuanBindez/pytubefix/pull/209\n",
      "The ANDROID client requires PoToken to obtain functional streams, See more details at https://github.com/JuanBindez/pytubefix/pull/209\n"
     ]
    },
    {
     "name": "stdout",
     "output_type": "stream",
     "text": [
      "Downloading TARI AMPAR AMPAR PISANG. TARIAN KALIMANTAN SELATAN. DILENGKAPI SINOPSIS....\n"
     ]
    },
    {
     "name": "stderr",
     "output_type": "stream",
     "text": [
      "The ANDROID client requires PoToken to obtain functional streams, See more details at https://github.com/JuanBindez/pytubefix/pull/209\n",
      "The ANDROID client requires PoToken to obtain functional streams, See more details at https://github.com/JuanBindez/pytubefix/pull/209\n"
     ]
    },
    {
     "name": "stdout",
     "output_type": "stream",
     "text": [
      "Downloading Aampar Ampar Pisang (Lagu Daerah Kalimantan Selatan)...\n"
     ]
    },
    {
     "name": "stderr",
     "output_type": "stream",
     "text": [
      "The ANDROID client requires PoToken to obtain functional streams, See more details at https://github.com/JuanBindez/pytubefix/pull/209\n",
      "The ANDROID client requires PoToken to obtain functional streams, See more details at https://github.com/JuanBindez/pytubefix/pull/209\n"
     ]
    },
    {
     "name": "stdout",
     "output_type": "stream",
     "text": [
      "Downloading Lagu Banjar Paris Barantai - Pandaz feat Alint Markani & Mangmoy...\n"
     ]
    },
    {
     "name": "stderr",
     "output_type": "stream",
     "text": [
      "The ANDROID client requires PoToken to obtain functional streams, See more details at https://github.com/JuanBindez/pytubefix/pull/209\n",
      "The ANDROID client requires PoToken to obtain functional streams, See more details at https://github.com/JuanBindez/pytubefix/pull/209\n"
     ]
    },
    {
     "name": "stdout",
     "output_type": "stream",
     "text": [
      "Downloading PARIS BARANTAI - Tari Daerah Kalimantan Selatan...\n"
     ]
    },
    {
     "name": "stderr",
     "output_type": "stream",
     "text": [
      "The ANDROID client requires PoToken to obtain functional streams, See more details at https://github.com/JuanBindez/pytubefix/pull/209\n",
      "The ANDROID client requires PoToken to obtain functional streams, See more details at https://github.com/JuanBindez/pytubefix/pull/209\n"
     ]
    },
    {
     "name": "stdout",
     "output_type": "stream",
     "text": [
      "Downloading TARI KREASI PARIS BARANTAI.. MUDAH DITIRU!!!...\n"
     ]
    },
    {
     "name": "stderr",
     "output_type": "stream",
     "text": [
      "The ANDROID client requires PoToken to obtain functional streams, See more details at https://github.com/JuanBindez/pytubefix/pull/209\n",
      "The ANDROID client requires PoToken to obtain functional streams, See more details at https://github.com/JuanBindez/pytubefix/pull/209\n"
     ]
    },
    {
     "name": "stdout",
     "output_type": "stream",
     "text": [
      "Downloading SAPUTANGAN BABUNCU AMPAT - Aasilah Cilla | Lirik & Terjemahan | Lagu Banjar Terbaru | 25th...\n"
     ]
    },
    {
     "name": "stderr",
     "output_type": "stream",
     "text": [
      "The ANDROID client requires PoToken to obtain functional streams, See more details at https://github.com/JuanBindez/pytubefix/pull/209\n",
      "The ANDROID client requires PoToken to obtain functional streams, See more details at https://github.com/JuanBindez/pytubefix/pull/209\n"
     ]
    },
    {
     "name": "stdout",
     "output_type": "stream",
     "text": [
      "Downloading Sapu Tangan Babuncu Ampat - Lagu Daerah Kalimantan Selatan (Lirik dan Terjemahan)...\n"
     ]
    },
    {
     "name": "stderr",
     "output_type": "stream",
     "text": [
      "The ANDROID client requires PoToken to obtain functional streams, See more details at https://github.com/JuanBindez/pytubefix/pull/209\n",
      "The ANDROID client requires PoToken to obtain functional streams, See more details at https://github.com/JuanBindez/pytubefix/pull/209\n"
     ]
    },
    {
     "name": "stdout",
     "output_type": "stream",
     "text": [
      "Downloading KARAOKE SAPU TANGAN BABUNCU AMPAT   Lagu Daerah Kalimantan Selatan...\n"
     ]
    },
    {
     "name": "stderr",
     "output_type": "stream",
     "text": [
      "The ANDROID client requires PoToken to obtain functional streams, See more details at https://github.com/JuanBindez/pytubefix/pull/209\n",
      "The ANDROID client requires PoToken to obtain functional streams, See more details at https://github.com/JuanBindez/pytubefix/pull/209\n"
     ]
    },
    {
     "name": "stdout",
     "output_type": "stream",
     "text": [
      "Downloading ANAK PIPIT - Aasilah Cilla x @Mangmoyr (Panting) | Lirik & Artinya | Lagu Banjar Terbaru | 21th...\n",
      "Duration of Lagu Daerah Kalimantan Selatan - Anak Pipit (Lirik) is too long\n"
     ]
    },
    {
     "name": "stderr",
     "output_type": "stream",
     "text": [
      "The ANDROID client requires PoToken to obtain functional streams, See more details at https://github.com/JuanBindez/pytubefix/pull/209\n",
      "The ANDROID client requires PoToken to obtain functional streams, See more details at https://github.com/JuanBindez/pytubefix/pull/209\n"
     ]
    },
    {
     "name": "stdout",
     "output_type": "stream",
     "text": [
      "Downloading Lagu Banjar - Anak Pipit Cover Pandaz ft Anisa Cahayani...\n"
     ]
    },
    {
     "name": "stderr",
     "output_type": "stream",
     "text": [
      "The ANDROID client requires PoToken to obtain functional streams, See more details at https://github.com/JuanBindez/pytubefix/pull/209\n",
      "The ANDROID client requires PoToken to obtain functional streams, See more details at https://github.com/JuanBindez/pytubefix/pull/209\n"
     ]
    },
    {
     "name": "stdout",
     "output_type": "stream",
     "text": [
      "Downloading Ayun Apan - Aw.Syarbaini (Cover - Pandaz ft Alint,Mangmoy) Lagu banjar...\n"
     ]
    },
    {
     "name": "stderr",
     "output_type": "stream",
     "text": [
      "The ANDROID client requires PoToken to obtain functional streams, See more details at https://github.com/JuanBindez/pytubefix/pull/209\n",
      "The ANDROID client requires PoToken to obtain functional streams, See more details at https://github.com/JuanBindez/pytubefix/pull/209\n"
     ]
    },
    {
     "name": "stdout",
     "output_type": "stream",
     "text": [
      "Downloading AYUN APAN - Grup Musik Panting KARANTIKA NADA ( Ceksound )...\n",
      "Duration of Saradipa Etnic - Ayun Apan is too long\n",
      "Duration of JAPIN RANTAUAN Koreografer SIRAJUL HUDA is too long\n",
      "Duration of Japin rantauan by adhi saladri is too long\n",
      "Duration of JAPIN RANTAUAN - SMAN 1 ANJIR MUARA is too long\n",
      "Error processing song: could not convert string to float: '1.21.52'\n",
      "Duration of MERDUNYA LIVE MUSIK PANTING 'IYA KADA' - ASLI KALIMANTAN SELATAN MEMBUAT PERASAAN DAMAI is too long\n",
      "Duration of KAMBANG GOYANG (Ciptaan Anang Ardiansyah) - Anna Husna - Musik Panting Manis Kasay is too long\n"
     ]
    },
    {
     "name": "stderr",
     "output_type": "stream",
     "text": [
      "The ANDROID client requires PoToken to obtain functional streams, See more details at https://github.com/JuanBindez/pytubefix/pull/209\n"
     ]
    },
    {
     "name": "stdout",
     "output_type": "stream",
     "text": [
      "Duration of Tari Tirik Lalan Kalimantan Selatan - Festival Lomba Seni dan Olahraga Nasional UNY 2021 is too long\n",
      "Downloading Lagu Banjar Tirik Lalan - Pandaz Feat Alint Markani (Cover)...\n"
     ]
    },
    {
     "name": "stderr",
     "output_type": "stream",
     "text": [
      "The ANDROID client requires PoToken to obtain functional streams, See more details at https://github.com/JuanBindez/pytubefix/pull/209\n"
     ]
    },
    {
     "name": "stdout",
     "output_type": "stream",
     "text": [
      "Duration of Lagu Banjar - Tirik Lalan is too long\n"
     ]
    },
    {
     "name": "stderr",
     "output_type": "stream",
     "text": [
      "The ANDROID client requires PoToken to obtain functional streams, See more details at https://github.com/JuanBindez/pytubefix/pull/209\n",
      "The ANDROID client requires PoToken to obtain functional streams, See more details at https://github.com/JuanBindez/pytubefix/pull/209\n"
     ]
    },
    {
     "name": "stdout",
     "output_type": "stream",
     "text": [
      "Downloading Lirik Lagu HALIN ( Lagu Daerah Kalimantan Selatan / Lagu Banjar)...\n"
     ]
    },
    {
     "name": "stderr",
     "output_type": "stream",
     "text": [
      "The ANDROID client requires PoToken to obtain functional streams, See more details at https://github.com/JuanBindez/pytubefix/pull/209\n",
      "The ANDROID client requires PoToken to obtain functional streams, See more details at https://github.com/JuanBindez/pytubefix/pull/209\n"
     ]
    },
    {
     "name": "stdout",
     "output_type": "stream",
     "text": [
      "Downloading Lirik Lagu HALIN  Lagu Daerah Kalimantan Selatan...\n",
      "Duration of Halin cover lagu banjar imjohanah is too long\n"
     ]
    },
    {
     "name": "stderr",
     "output_type": "stream",
     "text": [
      "The ANDROID client requires PoToken to obtain functional streams, See more details at https://github.com/JuanBindez/pytubefix/pull/209\n",
      "The ANDROID client requires PoToken to obtain functional streams, See more details at https://github.com/JuanBindez/pytubefix/pull/209\n"
     ]
    },
    {
     "name": "stdout",
     "output_type": "stream",
     "text": [
      "Downloading Tari Japin _ Mandung-mandung oleh grup Karantika Nada....\n"
     ]
    },
    {
     "name": "stderr",
     "output_type": "stream",
     "text": [
      "The ANDROID client requires PoToken to obtain functional streams, See more details at https://github.com/JuanBindez/pytubefix/pull/209\n",
      "The ANDROID client requires PoToken to obtain functional streams, See more details at https://github.com/JuanBindez/pytubefix/pull/209\n"
     ]
    },
    {
     "name": "stdout",
     "output_type": "stream",
     "text": [
      "Downloading Lagu Banjar Mandung-Mandung Cipta. Abdullah Mandung Versi Traditional Art of the Music Panting...\n"
     ]
    },
    {
     "name": "stderr",
     "output_type": "stream",
     "text": [
      "The ANDROID client requires PoToken to obtain functional streams, See more details at https://github.com/JuanBindez/pytubefix/pull/209\n",
      "The ANDROID client requires PoToken to obtain functional streams, See more details at https://github.com/JuanBindez/pytubefix/pull/209\n"
     ]
    },
    {
     "name": "stdout",
     "output_type": "stream",
     "text": [
      "Downloading Musik Panting Kamilau Intan - Mandung mandung...\n",
      "Duration of ASAL USUL BANJARMASIN ~ Cerita Rakyat Kalimantan Selatan | Dongeng Kita is too long\n",
      "Duration of TERDAPAT API ABADI !! INILAH SEJARAH & FAKTA KABUPATEN TABALONG KALIMANTAN SELATAN is too long\n",
      "Duration of SEMPAT TERPISAH DARI INDONESIA || Inilah Sejarah & Fakta Provinsi Kalimantan Selatan is too long\n",
      "Duration of Taingat Kasih - Live Musik Panting KARANG TARUNA MINA SARI Desa Halangan is too long\n"
     ]
    },
    {
     "name": "stderr",
     "output_type": "stream",
     "text": [
      "The ANDROID client requires PoToken to obtain functional streams, See more details at https://github.com/JuanBindez/pytubefix/pull/209\n",
      "The ANDROID client requires PoToken to obtain functional streams, See more details at https://github.com/JuanBindez/pytubefix/pull/209\n"
     ]
    },
    {
     "name": "stdout",
     "output_type": "stream",
     "text": [
      "Downloading taingat kasih...\n"
     ]
    },
    {
     "name": "stderr",
     "output_type": "stream",
     "text": [
      "The ANDROID client requires PoToken to obtain functional streams, See more details at https://github.com/JuanBindez/pytubefix/pull/209\n",
      "The ANDROID client requires PoToken to obtain functional streams, See more details at https://github.com/JuanBindez/pytubefix/pull/209\n"
     ]
    },
    {
     "name": "stdout",
     "output_type": "stream",
     "text": [
      "Downloading TA INGAT KASIH Grup Musik Panting para_tutus_sap...\n",
      "Duration of Siti Zubaidah - KEJAM!!! Kekasih pergi meninggalkan. is too long\n"
     ]
    },
    {
     "name": "stderr",
     "output_type": "stream",
     "text": [
      "The ANDROID client requires PoToken to obtain functional streams, See more details at https://github.com/JuanBindez/pytubefix/pull/209\n",
      "The ANDROID client requires PoToken to obtain functional streams, See more details at https://github.com/JuanBindez/pytubefix/pull/209\n"
     ]
    },
    {
     "name": "stdout",
     "output_type": "stream",
     "text": [
      "Downloading Haznah Haron - Siti Zubaidah (Official Audio)...\n",
      "Error processing song: could not convert string to float: '1.27.06'\n"
     ]
    },
    {
     "name": "stderr",
     "output_type": "stream",
     "text": [
      "The ANDROID client requires PoToken to obtain functional streams, See more details at https://github.com/JuanBindez/pytubefix/pull/209\n",
      "The ANDROID client requires PoToken to obtain functional streams, See more details at https://github.com/JuanBindez/pytubefix/pull/209\n"
     ]
    },
    {
     "name": "stdout",
     "output_type": "stream",
     "text": [
      "Duration of Kurihing Balu I Puji Ayu_Dewi Mahriani I Melodia Musik Panting is too long\n",
      "Duration of KURIHING BALU - Grup Musik Panting KARANTIKA NADA ( CEKSOUND ) is too long\n",
      "Downloading Kurihing Balu - Grup Sirang Bastari dari Parigi Rantau Tapin...\n"
     ]
    },
    {
     "name": "stderr",
     "output_type": "stream",
     "text": [
      "The ANDROID client requires PoToken to obtain functional streams, See more details at https://github.com/JuanBindez/pytubefix/pull/209\n",
      "The ANDROID client requires PoToken to obtain functional streams, See more details at https://github.com/JuanBindez/pytubefix/pull/209\n"
     ]
    },
    {
     "name": "stdout",
     "output_type": "stream",
     "text": [
      "Downloading BAJANJI HATI - Santa Hoky - Dangdut Banjar Kalimantan Selatan...\n"
     ]
    },
    {
     "name": "stderr",
     "output_type": "stream",
     "text": [
      "The ANDROID client requires PoToken to obtain functional streams, See more details at https://github.com/JuanBindez/pytubefix/pull/209\n",
      "The ANDROID client requires PoToken to obtain functional streams, See more details at https://github.com/JuanBindez/pytubefix/pull/209\n"
     ]
    },
    {
     "name": "stdout",
     "output_type": "stream",
     "text": [
      "Downloading BAJANJI HATI   Santa Hoky   Dangdut Banjar Kalimantan Selatan   YouTube...\n"
     ]
    },
    {
     "name": "stderr",
     "output_type": "stream",
     "text": [
      "The ANDROID client requires PoToken to obtain functional streams, See more details at https://github.com/JuanBindez/pytubefix/pull/209\n",
      "The ANDROID client requires PoToken to obtain functional streams, See more details at https://github.com/JuanBindez/pytubefix/pull/209\n"
     ]
    },
    {
     "name": "stdout",
     "output_type": "stream",
     "text": [
      "Downloading Bajanji Hati...\n",
      "Duration of pulau pandan gitar tunggal_sedihhh is too long\n",
      "Duration of live GITAR TUNGGAL pulau pandan ds. Kelumpang is too long\n",
      "Duration of Lagu : pulau pandan ogan oku sumsel is too long\n"
     ]
    },
    {
     "name": "stderr",
     "output_type": "stream",
     "text": [
      "The ANDROID client requires PoToken to obtain functional streams, See more details at https://github.com/JuanBindez/pytubefix/pull/209\n",
      "The ANDROID client requires PoToken to obtain functional streams, See more details at https://github.com/JuanBindez/pytubefix/pull/209\n"
     ]
    },
    {
     "name": "stdout",
     "output_type": "stream",
     "text": [
      "Downloading Musik panting (lagu banjar) - Guna Guna Nikitak, Ciptaan A.W Syabaini...\n",
      "Duration of Musik Panting Banjar Nakula Tarikat  ( Lagu Banjar ) - Guna GUna Nikitak, Ciptaan A.W Syarbaini is too long\n",
      "Duration of Guna-Guna Nikitak - Sanggar Musik Panting Kambang Hati  (Lagu Banjar) is too long\n",
      "Duration of Kelompok 28 Hincang Hincang is too long\n"
     ]
    },
    {
     "name": "stderr",
     "output_type": "stream",
     "text": [
      "The ANDROID client requires PoToken to obtain functional streams, See more details at https://github.com/JuanBindez/pytubefix/pull/209\n",
      "The ANDROID client requires PoToken to obtain functional streams, See more details at https://github.com/JuanBindez/pytubefix/pull/209\n"
     ]
    },
    {
     "name": "stdout",
     "output_type": "stream",
     "text": [
      "Downloading Kelompok 28_Hincang-Hincang...\n"
     ]
    },
    {
     "name": "stderr",
     "output_type": "stream",
     "text": [
      "The ANDROID client requires PoToken to obtain functional streams, See more details at https://github.com/JuanBindez/pytubefix/pull/209\n",
      "The ANDROID client requires PoToken to obtain functional streams, See more details at https://github.com/JuanBindez/pytubefix/pull/209\n"
     ]
    },
    {
     "name": "stdout",
     "output_type": "stream",
     "text": [
      "Downloading Hincang-Hincang - DAH. AW. Syarbaini...\n",
      "Duration of COVER LAGU BANJAR TALANJUR BATUNANGAN. is too long\n",
      "Duration of MUSIK PANTING MAWAR SARI, YA SAYANG,BATAWAK PANTUN,TALANJUR BATUNANGAN. Senin 29-8-2022 MURUNG ILUNG is too long\n",
      "Duration of Marista - Lagu Banjar is too long\n",
      "Duration of Lagu banjar\"Batawak Pantun\"cipta.DAH AW Syarbaini Versi sanggar seni tradisional musik panting banja is too long\n",
      "Duration of Batawak Pantun (A.W. Syarbaini) - Musik Panting Kalsel is too long\n",
      "Duration of Lagu Banjar\"Batawak Pantun\"Cipt.DAH.AW.Syarbaini Versi Traditional Art of the Music Panting Banjar is too long\n"
     ]
    },
    {
     "name": "stderr",
     "output_type": "stream",
     "text": [
      "The ANDROID client requires PoToken to obtain functional streams, See more details at https://github.com/JuanBindez/pytubefix/pull/209\n",
      "The ANDROID client requires PoToken to obtain functional streams, See more details at https://github.com/JuanBindez/pytubefix/pull/209\n"
     ]
    },
    {
     "name": "stdout",
     "output_type": "stream",
     "text": [
      "Downloading Badindang Ria Musik PANTING SANGGAM  Tradisional BANJAR Kalimantan Selatan...\n",
      "Duration of Lagu banjar badindang ria cipta. NN versi musik tradisional panting tepian in da ah samarinda kaltim is too long\n"
     ]
    },
    {
     "name": "stderr",
     "output_type": "stream",
     "text": [
      "The ANDROID client requires PoToken to obtain functional streams, See more details at https://github.com/JuanBindez/pytubefix/pull/209\n",
      "The ANDROID client requires PoToken to obtain functional streams, See more details at https://github.com/JuanBindez/pytubefix/pull/209\n"
     ]
    },
    {
     "name": "stdout",
     "output_type": "stream",
     "text": [
      "Downloading Lagu Banjar Badindang Ria, Ading Bastari - Banua Raya Simphony, Banjarmasin Sasirangan Festival 2017...\n"
     ]
    },
    {
     "name": "stderr",
     "output_type": "stream",
     "text": [
      "The ANDROID client requires PoToken to obtain functional streams, See more details at https://github.com/JuanBindez/pytubefix/pull/209\n",
      "The ANDROID client requires PoToken to obtain functional streams, See more details at https://github.com/JuanBindez/pytubefix/pull/209\n"
     ]
    },
    {
     "name": "stdout",
     "output_type": "stream",
     "text": [
      "Downloading Lagu Banjar Alahai Sayang - Pandaz feat Aaulia Rina...\n",
      "Duration of Lagu Banjar-Alahai Sayang is too long\n",
      "Duration of Lagu Banjar - Alahai sayang - Cover Pandaz ft Tommy Kaganangan,Mona julia,Mangmoy is too long\n",
      "Duration of Paris Tangkawang (Panting-Babun-Gong) is too long\n"
     ]
    },
    {
     "name": "stderr",
     "output_type": "stream",
     "text": [
      "The ANDROID client requires PoToken to obtain functional streams, See more details at https://github.com/JuanBindez/pytubefix/pull/209\n",
      "The ANDROID client requires PoToken to obtain functional streams, See more details at https://github.com/JuanBindez/pytubefix/pull/209\n"
     ]
    },
    {
     "name": "stdout",
     "output_type": "stream",
     "text": [
      "Downloading Musik Panting Versi Bahari || Paris Tengkawang || Lagu Banjar || Kesenian Khas Kalimantan Selatan...\n",
      "Duration of PARIS TANGKAWANG - ALNADA ENTERTAIMENT is too long\n"
     ]
    },
    {
     "name": "stderr",
     "output_type": "stream",
     "text": [
      "The ANDROID client requires PoToken to obtain functional streams, See more details at https://github.com/JuanBindez/pytubefix/pull/209\n"
     ]
    },
    {
     "name": "stdout",
     "output_type": "stream",
     "text": [
      "Duration of Mamuai Wanyi (Original) - Musik Panting Jepen Kalimantan Selatan is too long\n",
      "Duration of Musik Panting Kamilau Intan - Mamuai Wanyi is too long\n",
      "Downloading MUSIK JAPIN / PANTING BANJAR DENGAN JUDUL MAMUAI WANYI ( MEMANEN MADU LEBAH)...\n"
     ]
    },
    {
     "name": "stderr",
     "output_type": "stream",
     "text": [
      "The ANDROID client requires PoToken to obtain functional streams, See more details at https://github.com/JuanBindez/pytubefix/pull/209\n",
      "The ANDROID client requires PoToken to obtain functional streams, See more details at https://github.com/JuanBindez/pytubefix/pull/209\n",
      "The ANDROID client requires PoToken to obtain functional streams, See more details at https://github.com/JuanBindez/pytubefix/pull/209\n"
     ]
    },
    {
     "name": "stdout",
     "output_type": "stream",
     "text": [
      "Downloading Lagu Banjar - Ampat Lima (Cover) Pandaz ft AlintMarkani,Anisacahayani,Mangmoy,Iim...\n"
     ]
    },
    {
     "name": "stderr",
     "output_type": "stream",
     "text": [
      "The ANDROID client requires PoToken to obtain functional streams, See more details at https://github.com/JuanBindez/pytubefix/pull/209\n",
      "The ANDROID client requires PoToken to obtain functional streams, See more details at https://github.com/JuanBindez/pytubefix/pull/209\n"
     ]
    },
    {
     "name": "stdout",
     "output_type": "stream",
     "text": [
      "Downloading Lagu Banjar Ampat Lima Cipt  H  Anang Ardiansyah...\n"
     ]
    },
    {
     "name": "stderr",
     "output_type": "stream",
     "text": [
      "The ANDROID client requires PoToken to obtain functional streams, See more details at https://github.com/JuanBindez/pytubefix/pull/209\n",
      "The ANDROID client requires PoToken to obtain functional streams, See more details at https://github.com/JuanBindez/pytubefix/pull/209\n"
     ]
    },
    {
     "name": "stdout",
     "output_type": "stream",
     "text": [
      "Downloading MEDLEY Lagu Banjar (Ampat Lima-Pambatangan-Baras Kuning-Anak Pipit) | Cover by Zulfah Naily...\n"
     ]
    },
    {
     "name": "stderr",
     "output_type": "stream",
     "text": [
      "The ANDROID client requires PoToken to obtain functional streams, See more details at https://github.com/JuanBindez/pytubefix/pull/209\n",
      "The ANDROID client requires PoToken to obtain functional streams, See more details at https://github.com/JuanBindez/pytubefix/pull/209\n"
     ]
    },
    {
     "name": "stdout",
     "output_type": "stream",
     "text": [
      "Downloading Lagu Banjar KAKAMBAN HABANG (cover) Pandaz feat Rinawati,Mangmoy #pandazversion...\n"
     ]
    },
    {
     "name": "stderr",
     "output_type": "stream",
     "text": [
      "The ANDROID client requires PoToken to obtain functional streams, See more details at https://github.com/JuanBindez/pytubefix/pull/209\n",
      "The ANDROID client requires PoToken to obtain functional streams, See more details at https://github.com/JuanBindez/pytubefix/pull/209\n"
     ]
    },
    {
     "name": "stdout",
     "output_type": "stream",
     "text": [
      "Downloading KAKAMBAN HABANG - Ratna Sari - Dangdut Banjar Kalimantan Selatan...\n"
     ]
    },
    {
     "name": "stderr",
     "output_type": "stream",
     "text": [
      "The ANDROID client requires PoToken to obtain functional streams, See more details at https://github.com/JuanBindez/pytubefix/pull/209\n",
      "The ANDROID client requires PoToken to obtain functional streams, See more details at https://github.com/JuanBindez/pytubefix/pull/209\n"
     ]
    },
    {
     "name": "stdout",
     "output_type": "stream",
     "text": [
      "Downloading Lagu Banjar Kakamban Habang Cipt Anang Ardiansyah...\n"
     ]
    },
    {
     "name": "stderr",
     "output_type": "stream",
     "text": [
      "The ANDROID client requires PoToken to obtain functional streams, See more details at https://github.com/JuanBindez/pytubefix/pull/209\n",
      "The ANDROID client requires PoToken to obtain functional streams, See more details at https://github.com/JuanBindez/pytubefix/pull/209\n"
     ]
    },
    {
     "name": "stdout",
     "output_type": "stream",
     "text": [
      "Downloading Curiak Island: A Closer Look At Proboscis Monkeys...\n",
      "Duration of Eksotika Pulau Curiak is too long\n"
     ]
    },
    {
     "name": "stderr",
     "output_type": "stream",
     "text": [
      "The ANDROID client requires PoToken to obtain functional streams, See more details at https://github.com/JuanBindez/pytubefix/pull/209\n",
      "The ANDROID client requires PoToken to obtain functional streams, See more details at https://github.com/JuanBindez/pytubefix/pull/209\n"
     ]
    },
    {
     "name": "stdout",
     "output_type": "stream",
     "text": [
      "Downloading curiak h.anang ardiansyah cover by Tommy Kaganangan ft Pandaz & moy lagu banjar...\n"
     ]
    },
    {
     "name": "stderr",
     "output_type": "stream",
     "text": [
      "The ANDROID client requires PoToken to obtain functional streams, See more details at https://github.com/JuanBindez/pytubefix/pull/209\n",
      "The ANDROID client requires PoToken to obtain functional streams, See more details at https://github.com/JuanBindez/pytubefix/pull/209\n"
     ]
    },
    {
     "name": "stdout",
     "output_type": "stream",
     "text": [
      "Downloading Lagu Banjar Baras Kuning (Cover)Pandaz fT TommyKaganangan,Anisacahayani,Alint,moy,iim #pandazversion...\n"
     ]
    },
    {
     "name": "stderr",
     "output_type": "stream",
     "text": [
      "The ANDROID client requires PoToken to obtain functional streams, See more details at https://github.com/JuanBindez/pytubefix/pull/209\n",
      "The ANDROID client requires PoToken to obtain functional streams, See more details at https://github.com/JuanBindez/pytubefix/pull/209\n"
     ]
    },
    {
     "name": "stdout",
     "output_type": "stream",
     "text": [
      "Downloading Baras Kuning Lagu Banjar | Ciptaan : Rasni/Dino | Cover R.H LISNA @ 2022...\n"
     ]
    },
    {
     "name": "stderr",
     "output_type": "stream",
     "text": [
      "The ANDROID client requires PoToken to obtain functional streams, See more details at https://github.com/JuanBindez/pytubefix/pull/209\n",
      "The ANDROID client requires PoToken to obtain functional streams, See more details at https://github.com/JuanBindez/pytubefix/pull/209\n"
     ]
    },
    {
     "name": "stdout",
     "output_type": "stream",
     "text": [
      "Downloading Lagu Banjar Baras Kuning Lirik...\n",
      "Duration of Mancari Si Jantung Hati - Karya: A. Thamrin - Re-Arrangement is too long\n"
     ]
    },
    {
     "name": "stderr",
     "output_type": "stream",
     "text": [
      "The ANDROID client requires PoToken to obtain functional streams, See more details at https://github.com/JuanBindez/pytubefix/pull/209\n",
      "The ANDROID client requires PoToken to obtain functional streams, See more details at https://github.com/JuanBindez/pytubefix/pull/209\n"
     ]
    },
    {
     "name": "stdout",
     "output_type": "stream",
     "text": [
      "Downloading mancari si jantung hati - h sjachrani mataja...\n"
     ]
    },
    {
     "name": "stderr",
     "output_type": "stream",
     "text": [
      "The ANDROID client requires PoToken to obtain functional streams, See more details at https://github.com/JuanBindez/pytubefix/pull/209\n",
      "The ANDROID client requires PoToken to obtain functional streams, See more details at https://github.com/JuanBindez/pytubefix/pull/209\n"
     ]
    },
    {
     "name": "stdout",
     "output_type": "stream",
     "text": [
      "Downloading Khalifah - Si Jantung Hati (Official Music Video)...\n"
     ]
    },
    {
     "name": "stderr",
     "output_type": "stream",
     "text": [
      "The ANDROID client requires PoToken to obtain functional streams, See more details at https://github.com/JuanBindez/pytubefix/pull/209\n",
      "The ANDROID client requires PoToken to obtain functional streams, See more details at https://github.com/JuanBindez/pytubefix/pull/209\n"
     ]
    },
    {
     "name": "stdout",
     "output_type": "stream",
     "text": [
      "Downloading Lagu banjar\"Jangan menangis\"cipta.DAH.AW Syarbaini versi Sanggar Seni Tradisional Musik Panting...\n"
     ]
    },
    {
     "name": "stderr",
     "output_type": "stream",
     "text": [
      "The ANDROID client requires PoToken to obtain functional streams, See more details at https://github.com/JuanBindez/pytubefix/pull/209\n",
      "The ANDROID client requires PoToken to obtain functional streams, See more details at https://github.com/JuanBindez/pytubefix/pull/209\n"
     ]
    },
    {
     "name": "stdout",
     "output_type": "stream",
     "text": [
      "Downloading JANGAN MANANGIS - Grup Musik Panting KARANTIKA NADA ( CEKSOUND )...\n",
      "Duration of Musik Panting Kamilau Intan - Jangan Manangis is too long\n"
     ]
    },
    {
     "name": "stderr",
     "output_type": "stream",
     "text": [
      "The ANDROID client requires PoToken to obtain functional streams, See more details at https://github.com/JuanBindez/pytubefix/pull/209\n",
      "The ANDROID client requires PoToken to obtain functional streams, See more details at https://github.com/JuanBindez/pytubefix/pull/209\n"
     ]
    },
    {
     "name": "stdout",
     "output_type": "stream",
     "text": [
      "Downloading Lagu Banjar-Amas Mirah Cipt  RB, Sby...\n"
     ]
    },
    {
     "name": "stderr",
     "output_type": "stream",
     "text": [
      "The ANDROID client requires PoToken to obtain functional streams, See more details at https://github.com/JuanBindez/pytubefix/pull/209\n",
      "The ANDROID client requires PoToken to obtain functional streams, See more details at https://github.com/JuanBindez/pytubefix/pull/209\n"
     ]
    },
    {
     "name": "stdout",
     "output_type": "stream",
     "text": [
      "Downloading Lagu Banjar Amas Mirah (Cover) - Pandaz ft Agseisa Idol...\n",
      "Duration of Baigal Japin  dengan lagu Amas Mirah is too long\n",
      "Duration of Musik Panting Banjar Nakula Tarikat  ( Lagu Banjar ) - Kampung Barikin is too long\n"
     ]
    },
    {
     "name": "stderr",
     "output_type": "stream",
     "text": [
      "The ANDROID client requires PoToken to obtain functional streams, See more details at https://github.com/JuanBindez/pytubefix/pull/209\n",
      "The ANDROID client requires PoToken to obtain functional streams, See more details at https://github.com/JuanBindez/pytubefix/pull/209\n"
     ]
    },
    {
     "name": "stdout",
     "output_type": "stream",
     "text": [
      "Downloading seni budaya kampung barikin...\n",
      "Duration of VLOG - Jalan Jalan di Kampung Seniman (Barikin) is too long\n"
     ]
    },
    {
     "name": "stderr",
     "output_type": "stream",
     "text": [
      "The ANDROID client requires PoToken to obtain functional streams, See more details at https://github.com/JuanBindez/pytubefix/pull/209\n",
      "The ANDROID client requires PoToken to obtain functional streams, See more details at https://github.com/JuanBindez/pytubefix/pull/209\n"
     ]
    },
    {
     "name": "stdout",
     "output_type": "stream",
     "text": [
      "Downloading KAMBANG GOYANG - A Gani Samatha - Dangdut Banjar @ Kalimantan Selatan...\n",
      "Duration of KAMBANG GOYANG (Ciptaan Anang Ardiansyah) - Anna Husna - Musik Panting Manis Kasay is too long\n"
     ]
    },
    {
     "name": "stderr",
     "output_type": "stream",
     "text": [
      "The ANDROID client requires PoToken to obtain functional streams, See more details at https://github.com/JuanBindez/pytubefix/pull/209\n",
      "The ANDROID client requires PoToken to obtain functional streams, See more details at https://github.com/JuanBindez/pytubefix/pull/209\n"
     ]
    },
    {
     "name": "stdout",
     "output_type": "stream",
     "text": [
      "Downloading Lagu Banjar - Kambang Goyang (Cover) Pandaz feat Riris,Mangmoy...\n",
      "Duration of ASAL USUL BANJARMASIN ~ Cerita Rakyat Kalimantan Selatan | Dongeng Kita is too long\n",
      "Duration of TARI DINDANG MARAJUT | POSKO LA-BASTARI KANDANGAN is too long\n"
     ]
    },
    {
     "name": "stderr",
     "output_type": "stream",
     "text": [
      "The ANDROID client requires PoToken to obtain functional streams, See more details at https://github.com/JuanBindez/pytubefix/pull/209\n",
      "The ANDROID client requires PoToken to obtain functional streams, See more details at https://github.com/JuanBindez/pytubefix/pull/209\n"
     ]
    },
    {
     "name": "stdout",
     "output_type": "stream",
     "text": [
      "Downloading Budaya dan Kekhasan Provinsi Kalimantan Selatan - Seri Budaya Indonesia...\n",
      "Duration of [Full Movie] Legenda Lancang Kuning is too long\n"
     ]
    },
    {
     "name": "stderr",
     "output_type": "stream",
     "text": [
      "The ANDROID client requires PoToken to obtain functional streams, See more details at https://github.com/JuanBindez/pytubefix/pull/209\n",
      "The ANDROID client requires PoToken to obtain functional streams, See more details at https://github.com/JuanBindez/pytubefix/pull/209\n"
     ]
    },
    {
     "name": "stdout",
     "output_type": "stream",
     "text": [
      "Downloading Kenapa Provinsi Riau Disebut Bumi Lancang Kuning?...\n"
     ]
    },
    {
     "name": "stderr",
     "output_type": "stream",
     "text": [
      "The ANDROID client requires PoToken to obtain functional streams, See more details at https://github.com/JuanBindez/pytubefix/pull/209\n",
      "The ANDROID client requires PoToken to obtain functional streams, See more details at https://github.com/JuanBindez/pytubefix/pull/209\n"
     ]
    },
    {
     "name": "stdout",
     "output_type": "stream",
     "text": [
      "Downloading Lancang Kuning - Lagu Melayu Riau...\n",
      "Duration of Koreografi Tari Tradisional Kalimantan Selatan \"Bagandang Nyiru\" - SENDRATASIK UNLAM/ULM Banjarmasin is too long\n",
      "Duration of Tari Tradisional dari Kalimantan Selatan\"Bagandang Nyiru\" is too long\n",
      "Duration of TARI BAGANDANG NYIRU DARI KALIMANTAN SELATAN OLEH SDN 013 PENJURU DALAM ACARA KKG GUGUS PATTIMURA is too long\n",
      "Duration of Kisah Janji Persaudaraan Suku Dayak Dan Suku Banjar di Alam Sebelah Kalimantan is too long\n",
      "Duration of Haning   Lagu Dayak   Lirik dan terjemahannya is too long\n",
      "Duration of DJ DAYAK FULL BEAT LAGU MALIHI VIRAL TIK TOK TERBARU 2023 YANG KALIAN CARI ! is too long\n",
      "Duration of Tari Tirik Lalan Kalimantan Selatan - Festival Lomba Seni dan Olahraga Nasional UNY 2021 is too long\n",
      "Downloading Tirik - TIRIK LALAN - Lagu Tradisional Suku BANJAR - Musik Panting Kalimantan Selatan...\n"
     ]
    },
    {
     "name": "stderr",
     "output_type": "stream",
     "text": [
      "The ANDROID client requires PoToken to obtain functional streams, See more details at https://github.com/JuanBindez/pytubefix/pull/209\n",
      "The ANDROID client requires PoToken to obtain functional streams, See more details at https://github.com/JuanBindez/pytubefix/pull/209\n"
     ]
    },
    {
     "name": "stdout",
     "output_type": "stream",
     "text": [
      "Duration of Tempat Wisata Paling Kekinian di Kalimantan Selatan is too long\n",
      "Duration of TARI RADAP RAHAYU asli BANJAR (KALSEL) ACARA PELANTIKAN PENGURUS IDI WILAYAH KALSEL is too long\n",
      "Duration of Tari Radap Rahayu, Warisan Budaya Takbenda Indonesia (Asal Kalimantan Selatan) is too long\n",
      "Duration of Tari Radap Rahayu is too long\n",
      "Duration of Sinoman Hadrah Bissalam ~ Tetap Semangat Walau Panas is too long\n",
      "Duration of GRUP SINOMAN HADRAH KALIMANTAN SELATAN BERSATU‼️PENYAMBUTAN CALON PRESIDEN RI ANIES BASWEDAN is too long\n",
      "Duration of Ya Jaddanal Arsyadi - Guru Hakim | Syair Datu Kalampaian Disertai Lirik Arab Dan Artinya is too long\n"
     ]
    },
    {
     "name": "stderr",
     "output_type": "stream",
     "text": [
      "The ANDROID client requires PoToken to obtain functional streams, See more details at https://github.com/JuanBindez/pytubefix/pull/209\n",
      "The ANDROID client requires PoToken to obtain functional streams, See more details at https://github.com/JuanBindez/pytubefix/pull/209\n"
     ]
    },
    {
     "name": "stdout",
     "output_type": "stream",
     "text": [
      "Downloading Kalayar // Lagu Daerah Kalimantan Tengah...\n"
     ]
    },
    {
     "name": "stderr",
     "output_type": "stream",
     "text": [
      "The ANDROID client requires PoToken to obtain functional streams, See more details at https://github.com/JuanBindez/pytubefix/pull/209\n",
      "The ANDROID client requires PoToken to obtain functional streams, See more details at https://github.com/JuanBindez/pytubefix/pull/209\n"
     ]
    },
    {
     "name": "stdout",
     "output_type": "stream",
     "text": [
      "Downloading Kalayar (chord)...\n"
     ]
    },
    {
     "name": "stderr",
     "output_type": "stream",
     "text": [
      "The ANDROID client requires PoToken to obtain functional streams, See more details at https://github.com/JuanBindez/pytubefix/pull/209\n",
      "The ANDROID client requires PoToken to obtain functional streams, See more details at https://github.com/JuanBindez/pytubefix/pull/209\n"
     ]
    },
    {
     "name": "stdout",
     "output_type": "stream",
     "text": [
      "Downloading Kalayar...\n"
     ]
    },
    {
     "name": "stderr",
     "output_type": "stream",
     "text": [
      "The ANDROID client requires PoToken to obtain functional streams, See more details at https://github.com/JuanBindez/pytubefix/pull/209\n",
      "The ANDROID client requires PoToken to obtain functional streams, See more details at https://github.com/JuanBindez/pytubefix/pull/209\n"
     ]
    },
    {
     "name": "stdout",
     "output_type": "stream",
     "text": [
      "Downloading Naluya...\n"
     ]
    },
    {
     "name": "stderr",
     "output_type": "stream",
     "text": [
      "The ANDROID client requires PoToken to obtain functional streams, See more details at https://github.com/JuanBindez/pytubefix/pull/209\n",
      "The ANDROID client requires PoToken to obtain functional streams, See more details at https://github.com/JuanBindez/pytubefix/pull/209\n"
     ]
    },
    {
     "name": "stdout",
     "output_type": "stream",
     "text": [
      "Downloading Chord dan Not Balok Lagu Naluya - Lagu Daerah Kalimantan Tengah...\n"
     ]
    },
    {
     "name": "stderr",
     "output_type": "stream",
     "text": [
      "The ANDROID client requires PoToken to obtain functional streams, See more details at https://github.com/JuanBindez/pytubefix/pull/209\n",
      "The ANDROID client requires PoToken to obtain functional streams, See more details at https://github.com/JuanBindez/pytubefix/pull/209\n"
     ]
    },
    {
     "name": "stdout",
     "output_type": "stream",
     "text": [
      "Downloading Kalayar // Lagu Daerah Kalimantan Tengah...\n"
     ]
    },
    {
     "name": "stderr",
     "output_type": "stream",
     "text": [
      "The ANDROID client requires PoToken to obtain functional streams, See more details at https://github.com/JuanBindez/pytubefix/pull/209\n",
      "The ANDROID client requires PoToken to obtain functional streams, See more details at https://github.com/JuanBindez/pytubefix/pull/209\n"
     ]
    },
    {
     "name": "stdout",
     "output_type": "stream",
     "text": [
      "Downloading Tumpi Wayu - Lagu Daerah Kalimantan Tengah (dengan Lirik)...\n"
     ]
    },
    {
     "name": "stderr",
     "output_type": "stream",
     "text": [
      "The ANDROID client requires PoToken to obtain functional streams, See more details at https://github.com/JuanBindez/pytubefix/pull/209\n",
      "The ANDROID client requires PoToken to obtain functional streams, See more details at https://github.com/JuanBindez/pytubefix/pull/209\n"
     ]
    },
    {
     "name": "stdout",
     "output_type": "stream",
     "text": [
      "Downloading Tamu misterius saat tengah malam | lampor...\n",
      "Duration of Tari Pomonte Asli | Karya Alm. Hasan M Bahasyuan | Sulteng | Kota Palu is too long\n"
     ]
    },
    {
     "name": "stderr",
     "output_type": "stream",
     "text": [
      "The ANDROID client requires PoToken to obtain functional streams, See more details at https://github.com/JuanBindez/pytubefix/pull/209\n",
      "The ANDROID client requires PoToken to obtain functional streams, See more details at https://github.com/JuanBindez/pytubefix/pull/209\n"
     ]
    },
    {
     "name": "stdout",
     "output_type": "stream",
     "text": [
      "Downloading Tumpi Wayu - Lagu Daerah Kalimantan Tengah (dengan Lirik)...\n"
     ]
    },
    {
     "name": "stderr",
     "output_type": "stream",
     "text": [
      "The ANDROID client requires PoToken to obtain functional streams, See more details at https://github.com/JuanBindez/pytubefix/pull/209\n",
      "The ANDROID client requires PoToken to obtain functional streams, See more details at https://github.com/JuanBindez/pytubefix/pull/209\n"
     ]
    },
    {
     "name": "stdout",
     "output_type": "stream",
     "text": [
      "Downloading Tumpi Wayu (Kalimantan Tengah)...\n"
     ]
    },
    {
     "name": "stderr",
     "output_type": "stream",
     "text": [
      "The ANDROID client requires PoToken to obtain functional streams, See more details at https://github.com/JuanBindez/pytubefix/pull/209\n",
      "The ANDROID client requires PoToken to obtain functional streams, See more details at https://github.com/JuanBindez/pytubefix/pull/209\n"
     ]
    },
    {
     "name": "stdout",
     "output_type": "stream",
     "text": [
      "Downloading TUMPI WAYU - LAGU DAERAH KALIMANTAN TENGAH ( COVER VERSION BY.ACADEMY )...\n"
     ]
    },
    {
     "name": "stderr",
     "output_type": "stream",
     "text": [
      "The ANDROID client requires PoToken to obtain functional streams, See more details at https://github.com/JuanBindez/pytubefix/pull/209\n",
      "The ANDROID client requires PoToken to obtain functional streams, See more details at https://github.com/JuanBindez/pytubefix/pull/209\n"
     ]
    },
    {
     "name": "stdout",
     "output_type": "stream",
     "text": [
      "Downloading MANARI MANASAI LIRIK | LAGU DAERAH KALIMANTAN TENGAH #lagudaerah #Indonesia #savelagudaerah...\n"
     ]
    },
    {
     "name": "stderr",
     "output_type": "stream",
     "text": [
      "The ANDROID client requires PoToken to obtain functional streams, See more details at https://github.com/JuanBindez/pytubefix/pull/209\n",
      "The ANDROID client requires PoToken to obtain functional streams, See more details at https://github.com/JuanBindez/pytubefix/pull/209\n"
     ]
    },
    {
     "name": "stdout",
     "output_type": "stream",
     "text": [
      "Downloading LIRIK MANARI MANASAI | LAGU DAERAH KALIMANTAN TENGAH...\n"
     ]
    },
    {
     "name": "stderr",
     "output_type": "stream",
     "text": [
      "The ANDROID client requires PoToken to obtain functional streams, See more details at https://github.com/JuanBindez/pytubefix/pull/209\n",
      "The ANDROID client requires PoToken to obtain functional streams, See more details at https://github.com/JuanBindez/pytubefix/pull/209\n"
     ]
    },
    {
     "name": "stdout",
     "output_type": "stream",
     "text": [
      "Downloading Tari Manasai - Kolaborasi Kanwil DJPb dan KPPN lingkup Provinsi Kalimantan Tengah...\n"
     ]
    },
    {
     "name": "stderr",
     "output_type": "stream",
     "text": [
      "The ANDROID client requires PoToken to obtain functional streams, See more details at https://github.com/JuanBindez/pytubefix/pull/209\n",
      "The ANDROID client requires PoToken to obtain functional streams, See more details at https://github.com/JuanBindez/pytubefix/pull/209\n"
     ]
    },
    {
     "name": "stdout",
     "output_type": "stream",
     "text": [
      "Downloading OH INDANG OH APANG-Lagu Daerah Kalimantan Tengah #subscribe...\n"
     ]
    },
    {
     "name": "stderr",
     "output_type": "stream",
     "text": [
      "The ANDROID client requires PoToken to obtain functional streams, See more details at https://github.com/JuanBindez/pytubefix/pull/209\n",
      "The ANDROID client requires PoToken to obtain functional streams, See more details at https://github.com/JuanBindez/pytubefix/pull/209\n"
     ]
    },
    {
     "name": "stdout",
     "output_type": "stream",
     "text": [
      "Downloading Lagu adat Kalimantan - Oh indang oh apang...\n"
     ]
    },
    {
     "name": "stderr",
     "output_type": "stream",
     "text": [
      "The ANDROID client requires PoToken to obtain functional streams, See more details at https://github.com/JuanBindez/pytubefix/pull/209\n",
      "The ANDROID client requires PoToken to obtain functional streams, See more details at https://github.com/JuanBindez/pytubefix/pull/209\n"
     ]
    },
    {
     "name": "stdout",
     "output_type": "stream",
     "text": [
      "Downloading LIRIK BUAH KARUHEI | #3 LAGU DAERAH KALIMANTAN TENGAH...\n"
     ]
    },
    {
     "name": "stderr",
     "output_type": "stream",
     "text": [
      "The ANDROID client requires PoToken to obtain functional streams, See more details at https://github.com/JuanBindez/pytubefix/pull/209\n",
      "The ANDROID client requires PoToken to obtain functional streams, See more details at https://github.com/JuanBindez/pytubefix/pull/209\n"
     ]
    },
    {
     "name": "stdout",
     "output_type": "stream",
     "text": [
      "Downloading Legenda Kalimantan Tengah \" Bawi Kuwu \"...\n",
      "Duration of CERITA LEGENDA BAWI KUWU TUMBANG RAKUMPIT || KALIMANTAN TENGAH is too long\n"
     ]
    },
    {
     "name": "stderr",
     "output_type": "stream",
     "text": [
      "The ANDROID client requires PoToken to obtain functional streams, See more details at https://github.com/JuanBindez/pytubefix/pull/209\n",
      "The ANDROID client requires PoToken to obtain functional streams, See more details at https://github.com/JuanBindez/pytubefix/pull/209\n"
     ]
    },
    {
     "name": "stdout",
     "output_type": "stream",
     "text": [
      "Downloading Lokasi Tempat Sandung Bawi Kuwu...\n"
     ]
    },
    {
     "name": "stderr",
     "output_type": "stream",
     "text": [
      "The ANDROID client requires PoToken to obtain functional streams, See more details at https://github.com/JuanBindez/pytubefix/pull/209\n",
      "The ANDROID client requires PoToken to obtain functional streams, See more details at https://github.com/JuanBindez/pytubefix/pull/209\n"
     ]
    },
    {
     "name": "stdout",
     "output_type": "stream",
     "text": [
      "Downloading Tumpi Wayu - Lagu Daerah Kalimantan Tengah (dengan Lirik)...\n",
      "Downloading Chord dan Not Balok Lagu Naluya - Lagu Daerah Kalimantan Tengah...\n"
     ]
    },
    {
     "name": "stderr",
     "output_type": "stream",
     "text": [
      "The ANDROID client requires PoToken to obtain functional streams, See more details at https://github.com/JuanBindez/pytubefix/pull/209\n",
      "The ANDROID client requires PoToken to obtain functional streams, See more details at https://github.com/JuanBindez/pytubefix/pull/209\n",
      "The ANDROID client requires PoToken to obtain functional streams, See more details at https://github.com/JuanBindez/pytubefix/pull/209\n",
      "The ANDROID client requires PoToken to obtain functional streams, See more details at https://github.com/JuanBindez/pytubefix/pull/209\n"
     ]
    },
    {
     "name": "stdout",
     "output_type": "stream",
     "text": [
      "Downloading LIRIK LAGU DAERAH KALIMANTAN TENGAH | ISEN MULANG |...\n"
     ]
    },
    {
     "name": "stderr",
     "output_type": "stream",
     "text": [
      "The ANDROID client requires PoToken to obtain functional streams, See more details at https://github.com/JuanBindez/pytubefix/pull/209\n",
      "The ANDROID client requires PoToken to obtain functional streams, See more details at https://github.com/JuanBindez/pytubefix/pull/209\n"
     ]
    },
    {
     "name": "stdout",
     "output_type": "stream",
     "text": [
      "Downloading Kalayar // Lagu Daerah Kalimantan Tengah...\n",
      "Duration of Daftar Kota dan Kabupaten di Provinsi Kalimantan Tengah is too long\n"
     ]
    },
    {
     "name": "stderr",
     "output_type": "stream",
     "text": [
      "The ANDROID client requires PoToken to obtain functional streams, See more details at https://github.com/JuanBindez/pytubefix/pull/209\n",
      "The ANDROID client requires PoToken to obtain functional streams, See more details at https://github.com/JuanBindez/pytubefix/pull/209\n"
     ]
    },
    {
     "name": "stdout",
     "output_type": "stream",
     "text": [
      "Downloading Kalayar...\n"
     ]
    },
    {
     "name": "stderr",
     "output_type": "stream",
     "text": [
      "The ANDROID client requires PoToken to obtain functional streams, See more details at https://github.com/JuanBindez/pytubefix/pull/209\n",
      "The ANDROID client requires PoToken to obtain functional streams, See more details at https://github.com/JuanBindez/pytubefix/pull/209\n"
     ]
    },
    {
     "name": "stdout",
     "output_type": "stream",
     "text": [
      "Downloading Tari Indung Indung - Tari Kreasi Daerah Kalimantan Timur - Tari Kreasi Islami Mudah dihafal...\n"
     ]
    },
    {
     "name": "stderr",
     "output_type": "stream",
     "text": [
      "The ANDROID client requires PoToken to obtain functional streams, See more details at https://github.com/JuanBindez/pytubefix/pull/209\n",
      "The ANDROID client requires PoToken to obtain functional streams, See more details at https://github.com/JuanBindez/pytubefix/pull/209\n"
     ]
    },
    {
     "name": "stdout",
     "output_type": "stream",
     "text": [
      "Downloading Video Lirik Lagu Daerah | Indung-Indung...\n"
     ]
    },
    {
     "name": "stderr",
     "output_type": "stream",
     "text": [
      "The ANDROID client requires PoToken to obtain functional streams, See more details at https://github.com/JuanBindez/pytubefix/pull/209\n",
      "The ANDROID client requires PoToken to obtain functional streams, See more details at https://github.com/JuanBindez/pytubefix/pull/209\n"
     ]
    },
    {
     "name": "stdout",
     "output_type": "stream",
     "text": [
      "Downloading INDUNG INDUNG-Lagu Daerah Kalimantan Timur...\n",
      "Duration of OH ADINGKOH (Arr. Gerhard Gere) - Voice Of SWCU || 3rd Prize Of Ethnic Category in BCFC 2023 is too long\n"
     ]
    },
    {
     "name": "stderr",
     "output_type": "stream",
     "text": [
      "The ANDROID client requires PoToken to obtain functional streams, See more details at https://github.com/JuanBindez/pytubefix/pull/209\n",
      "The ANDROID client requires PoToken to obtain functional streams, See more details at https://github.com/JuanBindez/pytubefix/pull/209\n"
     ]
    },
    {
     "name": "stdout",
     "output_type": "stream",
     "text": [
      "Downloading Video Lirik Lagu Daerah | Indung-Indung...\n"
     ]
    },
    {
     "name": "stderr",
     "output_type": "stream",
     "text": [
      "The ANDROID client requires PoToken to obtain functional streams, See more details at https://github.com/JuanBindez/pytubefix/pull/209\n",
      "The ANDROID client requires PoToken to obtain functional streams, See more details at https://github.com/JuanBindez/pytubefix/pull/209\n"
     ]
    },
    {
     "name": "stdout",
     "output_type": "stream",
     "text": [
      "Downloading Lagu Daerah Kalimantan Timur: Sabarai - cipt.: Djuriansyah, S.E. (Video lirik)...\n"
     ]
    },
    {
     "name": "stderr",
     "output_type": "stream",
     "text": [
      "The ANDROID client requires PoToken to obtain functional streams, See more details at https://github.com/JuanBindez/pytubefix/pull/209\n",
      "The ANDROID client requires PoToken to obtain functional streams, See more details at https://github.com/JuanBindez/pytubefix/pull/209\n"
     ]
    },
    {
     "name": "stdout",
     "output_type": "stream",
     "text": [
      "Downloading BULAN HAJI - Lagu Pop BANJAR Kalimantan Timur...\n"
     ]
    },
    {
     "name": "stderr",
     "output_type": "stream",
     "text": [
      "The ANDROID client requires PoToken to obtain functional streams, See more details at https://github.com/JuanBindez/pytubefix/pull/209\n",
      "The ANDROID client requires PoToken to obtain functional streams, See more details at https://github.com/JuanBindez/pytubefix/pull/209\n"
     ]
    },
    {
     "name": "stdout",
     "output_type": "stream",
     "text": [
      "Downloading BULAN HAJI - cipt. Djuriansyah S.E. : Lagu Daerah Kaltim [Video Lirik]...\n"
     ]
    },
    {
     "name": "stderr",
     "output_type": "stream",
     "text": [
      "The ANDROID client requires PoToken to obtain functional streams, See more details at https://github.com/JuanBindez/pytubefix/pull/209\n",
      "The ANDROID client requires PoToken to obtain functional streams, See more details at https://github.com/JuanBindez/pytubefix/pull/209\n"
     ]
    },
    {
     "name": "stdout",
     "output_type": "stream",
     "text": [
      "Downloading Hari Ini, 356 Jemaah Calon Haji Asal Kalimantan Timur Diberangkatkan ke Tanah Suci...\n"
     ]
    },
    {
     "name": "stderr",
     "output_type": "stream",
     "text": [
      "The ANDROID client requires PoToken to obtain functional streams, See more details at https://github.com/JuanBindez/pytubefix/pull/209\n",
      "The ANDROID client requires PoToken to obtain functional streams, See more details at https://github.com/JuanBindez/pytubefix/pull/209\n"
     ]
    },
    {
     "name": "stdout",
     "output_type": "stream",
     "text": [
      "Downloading Buah Bolok - Lagu Daerah Kalimantan Timur (dengan Lirik)...\n"
     ]
    },
    {
     "name": "stderr",
     "output_type": "stream",
     "text": [
      "The ANDROID client requires PoToken to obtain functional streams, See more details at https://github.com/JuanBindez/pytubefix/pull/209\n",
      "The ANDROID client requires PoToken to obtain functional streams, See more details at https://github.com/JuanBindez/pytubefix/pull/209\n"
     ]
    },
    {
     "name": "stdout",
     "output_type": "stream",
     "text": [
      "Downloading Lagu Daerah Kalimantan Timur : Buah Bolok - Yessi Enggar ft. @aliffakod3414...\n"
     ]
    },
    {
     "name": "stderr",
     "output_type": "stream",
     "text": [
      "The ANDROID client requires PoToken to obtain functional streams, See more details at https://github.com/JuanBindez/pytubefix/pull/209\n",
      "The ANDROID client requires PoToken to obtain functional streams, See more details at https://github.com/JuanBindez/pytubefix/pull/209\n"
     ]
    },
    {
     "name": "stdout",
     "output_type": "stream",
     "text": [
      "Downloading BUAH BOLOK  Lirik Kutai - Indonesia (Lagu Daerah KUTAI, Kalimantan Timur) by Awang Ferdian Hidayat...\n",
      "Duration of BURUNG ENGGANG MERISTA - cipt.: Djuriansyah, S.E. [Lagu Daerah Kalimantan Timur | Video Lyrics ver.] is too long\n"
     ]
    },
    {
     "name": "stderr",
     "output_type": "stream",
     "text": [
      "The ANDROID client requires PoToken to obtain functional streams, See more details at https://github.com/JuanBindez/pytubefix/pull/209\n",
      "The ANDROID client requires PoToken to obtain functional streams, See more details at https://github.com/JuanBindez/pytubefix/pull/209\n"
     ]
    },
    {
     "name": "stdout",
     "output_type": "stream",
     "text": [
      "Downloading Lagu Daerah Kalimantan Timur \"Burung Enggang Merista\" (acooustic version)...\n",
      "Duration of Lagu daerah kalimantan timur BURUNG ENGGANG MERISTA is too long\n"
     ]
    },
    {
     "name": "stderr",
     "output_type": "stream",
     "text": [
      "The ANDROID client requires PoToken to obtain functional streams, See more details at https://github.com/JuanBindez/pytubefix/pull/209\n",
      "The ANDROID client requires PoToken to obtain functional streams, See more details at https://github.com/JuanBindez/pytubefix/pull/209\n"
     ]
    },
    {
     "name": "stdout",
     "output_type": "stream",
     "text": [
      "Downloading LAMIN TALUNGSUR - cipt.: Dra. Zairelawati | Lagu Daerah Berau Kaltim [Video Lyrics ver.]...\n",
      "Duration of Lamin Talungsur is too long\n",
      "Duration of Lirik Lagu Nusantara - Lamin Talungsur - Kalimantan Timur is too long\n"
     ]
    },
    {
     "name": "stderr",
     "output_type": "stream",
     "text": [
      "The ANDROID client requires PoToken to obtain functional streams, See more details at https://github.com/JuanBindez/pytubefix/pull/209\n",
      "The ANDROID client requires PoToken to obtain functional streams, See more details at https://github.com/JuanBindez/pytubefix/pull/209\n"
     ]
    },
    {
     "name": "stdout",
     "output_type": "stream",
     "text": [
      "Downloading Bebilin - Lagu Daerah Kalimantan Utara (Lirik dan Terjemahan)...\n"
     ]
    },
    {
     "name": "stderr",
     "output_type": "stream",
     "text": [
      "The ANDROID client requires PoToken to obtain functional streams, See more details at https://github.com/JuanBindez/pytubefix/pull/209\n",
      "The ANDROID client requires PoToken to obtain functional streams, See more details at https://github.com/JuanBindez/pytubefix/pull/209\n"
     ]
    },
    {
     "name": "stdout",
     "output_type": "stream",
     "text": [
      "Downloading Video Lirik Lagu Daerah | Bebilin...\n"
     ]
    },
    {
     "name": "stderr",
     "output_type": "stream",
     "text": [
      "The ANDROID client requires PoToken to obtain functional streams, See more details at https://github.com/JuanBindez/pytubefix/pull/209\n",
      "The ANDROID client requires PoToken to obtain functional streams, See more details at https://github.com/JuanBindez/pytubefix/pull/209\n"
     ]
    },
    {
     "name": "stdout",
     "output_type": "stream",
     "text": [
      "Downloading Bebilin // Lagu Daerah Kalimantan Utara...\n"
     ]
    },
    {
     "name": "stderr",
     "output_type": "stream",
     "text": [
      "The ANDROID client requires PoToken to obtain functional streams, See more details at https://github.com/JuanBindez/pytubefix/pull/209\n",
      "The ANDROID client requires PoToken to obtain functional streams, See more details at https://github.com/JuanBindez/pytubefix/pull/209\n"
     ]
    },
    {
     "name": "stdout",
     "output_type": "stream",
     "text": [
      "Downloading TARI PINANG SENDAWAR ‼️ HUT Kota Tanjung Selor Ke-233 & Kabupaten Bulungan Ke-63...\n"
     ]
    },
    {
     "name": "stderr",
     "output_type": "stream",
     "text": [
      "The ANDROID client requires PoToken to obtain functional streams, See more details at https://github.com/JuanBindez/pytubefix/pull/209\n",
      "The ANDROID client requires PoToken to obtain functional streams, See more details at https://github.com/JuanBindez/pytubefix/pull/209\n"
     ]
    },
    {
     "name": "stdout",
     "output_type": "stream",
     "text": [
      "Downloading Lagu Pinang Sendawar...\n"
     ]
    },
    {
     "name": "stderr",
     "output_type": "stream",
     "text": [
      "The ANDROID client requires PoToken to obtain functional streams, See more details at https://github.com/JuanBindez/pytubefix/pull/209\n",
      "The ANDROID client requires PoToken to obtain functional streams, See more details at https://github.com/JuanBindez/pytubefix/pull/209\n"
     ]
    },
    {
     "name": "stdout",
     "output_type": "stream",
     "text": [
      "Downloading Bebilin - Lagu Daerah Kalimantan Utara (Lirik dan Terjemahan)...\n"
     ]
    },
    {
     "name": "stderr",
     "output_type": "stream",
     "text": [
      "The ANDROID client requires PoToken to obtain functional streams, See more details at https://github.com/JuanBindez/pytubefix/pull/209\n",
      "The ANDROID client requires PoToken to obtain functional streams, See more details at https://github.com/JuanBindez/pytubefix/pull/209\n"
     ]
    },
    {
     "name": "stdout",
     "output_type": "stream",
     "text": [
      "Downloading Bebilin - Lagu Daerah Kalimantan Utara (Lirik dan Terjemahan)...\n"
     ]
    },
    {
     "name": "stderr",
     "output_type": "stream",
     "text": [
      "The ANDROID client requires PoToken to obtain functional streams, See more details at https://github.com/JuanBindez/pytubefix/pull/209\n",
      "The ANDROID client requires PoToken to obtain functional streams, See more details at https://github.com/JuanBindez/pytubefix/pull/209\n"
     ]
    },
    {
     "name": "stdout",
     "output_type": "stream",
     "text": [
      "Downloading Lagu Lan E Tuyang - Kalimantan Utara dan Aransemen Karakter Rasa Ingin Tahu...\n"
     ]
    },
    {
     "name": "stderr",
     "output_type": "stream",
     "text": [
      "The ANDROID client requires PoToken to obtain functional streams, See more details at https://github.com/JuanBindez/pytubefix/pull/209\n",
      "The ANDROID client requires PoToken to obtain functional streams, See more details at https://github.com/JuanBindez/pytubefix/pull/209\n"
     ]
    },
    {
     "name": "stdout",
     "output_type": "stream",
     "text": [
      "Downloading Lan E Tuyang  - Uyau Moris (Dayak Kenyah Song)...\n",
      "Duration of Cangget Agung - Lagu Daerah Lampung (Lirik dan Terjemahan) is too long\n",
      "Duration of Cangget Agung - Lagu Daerah Lampung [Lirik, Aksara dan Terjemahan] is too long\n"
     ]
    },
    {
     "name": "stderr",
     "output_type": "stream",
     "text": [
      "The ANDROID client requires PoToken to obtain functional streams, See more details at https://github.com/JuanBindez/pytubefix/pull/209\n",
      "The ANDROID client requires PoToken to obtain functional streams, See more details at https://github.com/JuanBindez/pytubefix/pull/209\n"
     ]
    },
    {
     "name": "stdout",
     "output_type": "stream",
     "text": [
      "Downloading Sindikat Sisa Semalam - Cangget Agung - Music Video - Lagu Daerah Lampung...\n"
     ]
    },
    {
     "name": "stderr",
     "output_type": "stream",
     "text": [
      "The ANDROID client requires PoToken to obtain functional streams, See more details at https://github.com/JuanBindez/pytubefix/pull/209\n",
      "The ANDROID client requires PoToken to obtain functional streams, See more details at https://github.com/JuanBindez/pytubefix/pull/209\n"
     ]
    },
    {
     "name": "stdout",
     "output_type": "stream",
     "text": [
      "Downloading LIPANG LIPANG DANG_ lagu daerah Lampung _ Vok. Iwan Sagita _ Neza Official Record ( OMV )...\n",
      "Duration of Lipang Lipang Dang - Lagu Daerah Lampung (dengan Lirik) is too long\n"
     ]
    },
    {
     "name": "stderr",
     "output_type": "stream",
     "text": [
      "The ANDROID client requires PoToken to obtain functional streams, See more details at https://github.com/JuanBindez/pytubefix/pull/209\n",
      "The ANDROID client requires PoToken to obtain functional streams, See more details at https://github.com/JuanBindez/pytubefix/pull/209\n"
     ]
    },
    {
     "name": "stdout",
     "output_type": "stream",
     "text": [
      "Downloading Pang Lipang Dang...\n",
      "Duration of SANG BUMI RUWAI JURAI lirik lagu is too long\n"
     ]
    },
    {
     "name": "stderr",
     "output_type": "stream",
     "text": [
      "The ANDROID client requires PoToken to obtain functional streams, See more details at https://github.com/JuanBindez/pytubefix/pull/209\n",
      "The ANDROID client requires PoToken to obtain functional streams, See more details at https://github.com/JuanBindez/pytubefix/pull/209\n"
     ]
    },
    {
     "name": "stdout",
     "output_type": "stream",
     "text": [
      "Downloading LAGU DAERAH LAMPUNG \"SANG BUMI RUA JURAI\" CIPT. SYAIFUL ANWAR (LIRIK - TERJEMAH) COVER BY TRI SUAKA...\n",
      "Duration of SANG BUMI RUWA JURAI - SYAIFUL ANWAR - POP LAMPUNG is too long\n"
     ]
    },
    {
     "name": "stderr",
     "output_type": "stream",
     "text": [
      "The ANDROID client requires PoToken to obtain functional streams, See more details at https://github.com/JuanBindez/pytubefix/pull/209\n",
      "The ANDROID client requires PoToken to obtain functional streams, See more details at https://github.com/JuanBindez/pytubefix/pull/209\n"
     ]
    },
    {
     "name": "stdout",
     "output_type": "stream",
     "text": [
      "Downloading Bumi Lampung - Lagu Daerah Lampung (Karoke, Lirik dan Terjemahan)...\n"
     ]
    },
    {
     "name": "stderr",
     "output_type": "stream",
     "text": [
      "The ANDROID client requires PoToken to obtain functional streams, See more details at https://github.com/JuanBindez/pytubefix/pull/209\n",
      "The ANDROID client requires PoToken to obtain functional streams, See more details at https://github.com/JuanBindez/pytubefix/pull/209\n"
     ]
    },
    {
     "name": "stdout",
     "output_type": "stream",
     "text": [
      "Downloading Lagu Daerah Lampung - Bumi Lampung (Lirik)...\n"
     ]
    },
    {
     "name": "stderr",
     "output_type": "stream",
     "text": [
      "The ANDROID client requires PoToken to obtain functional streams, See more details at https://github.com/JuanBindez/pytubefix/pull/209\n",
      "The ANDROID client requires PoToken to obtain functional streams, See more details at https://github.com/JuanBindez/pytubefix/pull/209\n"
     ]
    },
    {
     "name": "stdout",
     "output_type": "stream",
     "text": [
      "Downloading LAGU DAERAH LAMPUNG \"SANG BUMI RUA JURAI\" CIPT. SYAIFUL ANWAR (LIRIK - TERJEMAH) COVER BY TRI SUAKA...\n"
     ]
    },
    {
     "name": "stderr",
     "output_type": "stream",
     "text": [
      "The ANDROID client requires PoToken to obtain functional streams, See more details at https://github.com/JuanBindez/pytubefix/pull/209\n",
      "The ANDROID client requires PoToken to obtain functional streams, See more details at https://github.com/JuanBindez/pytubefix/pull/209\n"
     ]
    },
    {
     "name": "stdout",
     "output_type": "stream",
     "text": [
      "Downloading LAGU LAMPUNG, Sakai sembayan...\n",
      "Duration of SAKAI SEMBAYAN - ERMALA SG - DANGDUT LAMPUNG is too long\n"
     ]
    },
    {
     "name": "stderr",
     "output_type": "stream",
     "text": [
      "The ANDROID client requires PoToken to obtain functional streams, See more details at https://github.com/JuanBindez/pytubefix/pull/209\n",
      "The ANDROID client requires PoToken to obtain functional streams, See more details at https://github.com/JuanBindez/pytubefix/pull/209\n"
     ]
    },
    {
     "name": "stdout",
     "output_type": "stream",
     "text": [
      "Downloading Bahasa Lampung (Sakai Sambayan)...\n"
     ]
    },
    {
     "name": "stderr",
     "output_type": "stream",
     "text": [
      "The ANDROID client requires PoToken to obtain functional streams, See more details at https://github.com/JuanBindez/pytubefix/pull/209\n",
      "The ANDROID client requires PoToken to obtain functional streams, See more details at https://github.com/JuanBindez/pytubefix/pull/209\n"
     ]
    },
    {
     "name": "stdout",
     "output_type": "stream",
     "text": [
      "Downloading Lagu Daerah Lampung - Seminung (Lirik)...\n",
      "Duration of KISAH MISTIS GUNUNG SEMINUNG #seminung #okusatu is too long\n"
     ]
    },
    {
     "name": "stderr",
     "output_type": "stream",
     "text": [
      "The ANDROID client requires PoToken to obtain functional streams, See more details at https://github.com/JuanBindez/pytubefix/pull/209\n",
      "The ANDROID client requires PoToken to obtain functional streams, See more details at https://github.com/JuanBindez/pytubefix/pull/209\n"
     ]
    },
    {
     "name": "stdout",
     "output_type": "stream",
     "text": [
      "Downloading Seminung || lirik dan arti - lagu lampung - cover...\n"
     ]
    },
    {
     "name": "stderr",
     "output_type": "stream",
     "text": [
      "The ANDROID client requires PoToken to obtain functional streams, See more details at https://github.com/JuanBindez/pytubefix/pull/209\n",
      "The ANDROID client requires PoToken to obtain functional streams, See more details at https://github.com/JuanBindez/pytubefix/pull/209\n"
     ]
    },
    {
     "name": "stdout",
     "output_type": "stream",
     "text": [
      "Downloading MULOH TUNGGA - ELY MARTA - DANGDUT LAMPUNG...\n"
     ]
    },
    {
     "name": "stderr",
     "output_type": "stream",
     "text": [
      "The ANDROID client requires PoToken to obtain functional streams, See more details at https://github.com/JuanBindez/pytubefix/pull/209\n",
      "The ANDROID client requires PoToken to obtain functional streams, See more details at https://github.com/JuanBindez/pytubefix/pull/209\n"
     ]
    },
    {
     "name": "stdout",
     "output_type": "stream",
     "text": [
      "Downloading Lagu Lampung Populer 2022 || MOLOH TUNGGA Cipt: Rusli / Etmain || cover: Zia Paku & Dj Endra...\n"
     ]
    },
    {
     "name": "stderr",
     "output_type": "stream",
     "text": [
      "The ANDROID client requires PoToken to obtain functional streams, See more details at https://github.com/JuanBindez/pytubefix/pull/209\n",
      "The ANDROID client requires PoToken to obtain functional streams, See more details at https://github.com/JuanBindez/pytubefix/pull/209\n"
     ]
    },
    {
     "name": "stdout",
     "output_type": "stream",
     "text": [
      "Downloading LAGU LAMPUNG PEMBUKA - WINDA SANJAYA - MOLOH TUNGGA...\n"
     ]
    },
    {
     "name": "stderr",
     "output_type": "stream",
     "text": [
      "The ANDROID client requires PoToken to obtain functional streams, See more details at https://github.com/JuanBindez/pytubefix/pull/209\n",
      "The ANDROID client requires PoToken to obtain functional streams, See more details at https://github.com/JuanBindez/pytubefix/pull/209\n"
     ]
    },
    {
     "name": "stdout",
     "output_type": "stream",
     "text": [
      "Downloading PUNYANDANGAN - lagu Lampung (lirik) || Cipt.Rusli Z...\n"
     ]
    },
    {
     "name": "stderr",
     "output_type": "stream",
     "text": [
      "The ANDROID client requires PoToken to obtain functional streams, See more details at https://github.com/JuanBindez/pytubefix/pull/209\n",
      "The ANDROID client requires PoToken to obtain functional streams, See more details at https://github.com/JuanBindez/pytubefix/pull/209\n"
     ]
    },
    {
     "name": "stdout",
     "output_type": "stream",
     "text": [
      "Downloading Punyandangan Lagu Lampung Cover Rudy Ashari Adista Tv...\n"
     ]
    },
    {
     "name": "stderr",
     "output_type": "stream",
     "text": [
      "The ANDROID client requires PoToken to obtain functional streams, See more details at https://github.com/JuanBindez/pytubefix/pull/209\n",
      "The ANDROID client requires PoToken to obtain functional streams, See more details at https://github.com/JuanBindez/pytubefix/pull/209\n"
     ]
    },
    {
     "name": "stdout",
     "output_type": "stream",
     "text": [
      "Downloading Punyandangan - Karaoke No Vocal - Nada Wanita - Lagu Lampung (Remix) - Cipt. Rusli Z. - Key : Em...\n"
     ]
    },
    {
     "name": "stderr",
     "output_type": "stream",
     "text": [
      "The ANDROID client requires PoToken to obtain functional streams, See more details at https://github.com/JuanBindez/pytubefix/pull/209\n",
      "The ANDROID client requires PoToken to obtain functional streams, See more details at https://github.com/JuanBindez/pytubefix/pull/209\n"
     ]
    },
    {
     "name": "stdout",
     "output_type": "stream",
     "text": [
      "Downloading ANAK TUPAI (lagu lampung)...\n"
     ]
    },
    {
     "name": "stderr",
     "output_type": "stream",
     "text": [
      "The ANDROID client requires PoToken to obtain functional streams, See more details at https://github.com/JuanBindez/pytubefix/pull/209\n",
      "The ANDROID client requires PoToken to obtain functional streams, See more details at https://github.com/JuanBindez/pytubefix/pull/209\n"
     ]
    },
    {
     "name": "stdout",
     "output_type": "stream",
     "text": [
      "Downloading Wat Moneh Anak Topay Lagu Lampung...\n"
     ]
    },
    {
     "name": "stderr",
     "output_type": "stream",
     "text": [
      "The ANDROID client requires PoToken to obtain functional streams, See more details at https://github.com/JuanBindez/pytubefix/pull/209\n",
      "The ANDROID client requires PoToken to obtain functional streams, See more details at https://github.com/JuanBindez/pytubefix/pull/209\n"
     ]
    },
    {
     "name": "stdout",
     "output_type": "stream",
     "text": [
      "Downloading lagu lampung ANAK TUPAI...\n",
      "Duration of \"Adi-Adi Laun Lambar\" merupakan lagu daerah yang berasal dari Lampung. is too long\n",
      "Duration of adi adi laun lambar is too long\n",
      "Duration of ' ADI-ADI SUKU DAYA  OKU SELATAN  - MASNUN / GITAR TUNGGAL BATANGHARI SEMBILAN SUMATERA SELATAN 1978 is too long\n",
      "Duration of Bunga-bunganna Masamba is too long\n"
     ]
    },
    {
     "name": "stderr",
     "output_type": "stream",
     "text": [
      "The ANDROID client requires PoToken to obtain functional streams, See more details at https://github.com/JuanBindez/pytubefix/pull/209\n",
      "The ANDROID client requires PoToken to obtain functional streams, See more details at https://github.com/JuanBindez/pytubefix/pull/209\n"
     ]
    },
    {
     "name": "stdout",
     "output_type": "stream",
     "text": [
      "Downloading Bunga Bungana Masamba...\n"
     ]
    },
    {
     "name": "stderr",
     "output_type": "stream",
     "text": [
      "The ANDROID client requires PoToken to obtain functional streams, See more details at https://github.com/JuanBindez/pytubefix/pull/209\n",
      "The ANDROID client requires PoToken to obtain functional streams, See more details at https://github.com/JuanBindez/pytubefix/pull/209\n"
     ]
    },
    {
     "name": "stdout",
     "output_type": "stream",
     "text": [
      "Downloading LAGU MAKASSAR : BUNGA BUNGANNA MASAMBA Voc. Iwan Tompo Cipt. Arsyad Basir (Lyric)...\n",
      "Duration of Langkah..!!! Lagu legend Tradisional Bugis Wajo | Tapalla- Palla is too long\n"
     ]
    },
    {
     "name": "stderr",
     "output_type": "stream",
     "text": [
      "The ANDROID client requires PoToken to obtain functional streams, See more details at https://github.com/JuanBindez/pytubefix/pull/209\n",
      "The ANDROID client requires PoToken to obtain functional streams, See more details at https://github.com/JuanBindez/pytubefix/pull/209\n"
     ]
    },
    {
     "name": "stdout",
     "output_type": "stream",
     "text": [
      "Downloading Kabupaten Luwu // Sulawesi Selatan #youtubeshorts #kabupatenLuwu #luwuSulawesiSelatan...\n",
      "Duration of Lagu Bugis  TA'PALLA PALLA by La Yoedi Arlempe is too long\n"
     ]
    },
    {
     "name": "stderr",
     "output_type": "stream",
     "text": [
      "The ANDROID client requires PoToken to obtain functional streams, See more details at https://github.com/JuanBindez/pytubefix/pull/209\n",
      "The ANDROID client requires PoToken to obtain functional streams, See more details at https://github.com/JuanBindez/pytubefix/pull/209\n"
     ]
    },
    {
     "name": "stdout",
     "output_type": "stream",
     "text": [
      "Downloading Orang Ambon Manise -The Soja ( Official Music Video )...\n",
      "Duration of AMBON MANISE. Deretan Artis  terkenal asal Maluku is too long\n",
      "Duration of Hemi Pesulima & Nanaku - Maluku Tanah Pusaka is too long\n"
     ]
    },
    {
     "name": "stderr",
     "output_type": "stream",
     "text": [
      "The ANDROID client requires PoToken to obtain functional streams, See more details at https://github.com/JuanBindez/pytubefix/pull/209\n",
      "The ANDROID client requires PoToken to obtain functional streams, See more details at https://github.com/JuanBindez/pytubefix/pull/209\n"
     ]
    },
    {
     "name": "stdout",
     "output_type": "stream",
     "text": [
      "Downloading AYO MAMA | LAGU DAERAH MALUKU...\n"
     ]
    },
    {
     "name": "stderr",
     "output_type": "stream",
     "text": [
      "The ANDROID client requires PoToken to obtain functional streams, See more details at https://github.com/JuanBindez/pytubefix/pull/209\n",
      "The ANDROID client requires PoToken to obtain functional streams, See more details at https://github.com/JuanBindez/pytubefix/pull/209\n"
     ]
    },
    {
     "name": "stdout",
     "output_type": "stream",
     "text": [
      "Downloading Tari AYO MAMA - Tari Kreasi Maluku Mudah Untuk Anak PAUD & TK...\n"
     ]
    },
    {
     "name": "stderr",
     "output_type": "stream",
     "text": [
      "The ANDROID client requires PoToken to obtain functional streams, See more details at https://github.com/JuanBindez/pytubefix/pull/209\n",
      "The ANDROID client requires PoToken to obtain functional streams, See more details at https://github.com/JuanBindez/pytubefix/pull/209\n"
     ]
    },
    {
     "name": "stdout",
     "output_type": "stream",
     "text": [
      "Downloading AYO MAMA - Lagu Daerah Maluku (lirik dan vokal)...\n"
     ]
    },
    {
     "name": "stderr",
     "output_type": "stream",
     "text": [
      "The ANDROID client requires PoToken to obtain functional streams, See more details at https://github.com/JuanBindez/pytubefix/pull/209\n",
      "The ANDROID client requires PoToken to obtain functional streams, See more details at https://github.com/JuanBindez/pytubefix/pull/209\n"
     ]
    },
    {
     "name": "stdout",
     "output_type": "stream",
     "text": [
      "Downloading Buka Pintu - Lagu Daerah Maluku (Lirik dan Terjemahan)...\n"
     ]
    },
    {
     "name": "stderr",
     "output_type": "stream",
     "text": [
      "The ANDROID client requires PoToken to obtain functional streams, See more details at https://github.com/JuanBindez/pytubefix/pull/209\n",
      "The ANDROID client requires PoToken to obtain functional streams, See more details at https://github.com/JuanBindez/pytubefix/pull/209\n"
     ]
    },
    {
     "name": "stdout",
     "output_type": "stream",
     "text": [
      "Downloading KARAOKE BUKA PINTU    Lagu Daerah Maluku...\n"
     ]
    },
    {
     "name": "stderr",
     "output_type": "stream",
     "text": [
      "The ANDROID client requires PoToken to obtain functional streams, See more details at https://github.com/JuanBindez/pytubefix/pull/209\n",
      "The ANDROID client requires PoToken to obtain functional streams, See more details at https://github.com/JuanBindez/pytubefix/pull/209\n"
     ]
    },
    {
     "name": "stdout",
     "output_type": "stream",
     "text": [
      "Downloading Buka Pintu |Lirik| Lagu Daerah Maluku...\n"
     ]
    },
    {
     "name": "stderr",
     "output_type": "stream",
     "text": [
      "The ANDROID client requires PoToken to obtain functional streams, See more details at https://github.com/JuanBindez/pytubefix/pull/209\n",
      "The ANDROID client requires PoToken to obtain functional streams, See more details at https://github.com/JuanBindez/pytubefix/pull/209\n"
     ]
    },
    {
     "name": "stdout",
     "output_type": "stream",
     "text": [
      "Downloading Burung Kakaktua - Lagu Daerah Maluku (dengan Lirik)...\n"
     ]
    },
    {
     "name": "stderr",
     "output_type": "stream",
     "text": [
      "The ANDROID client requires PoToken to obtain functional streams, See more details at https://github.com/JuanBindez/pytubefix/pull/209\n",
      "The ANDROID client requires PoToken to obtain functional streams, See more details at https://github.com/JuanBindez/pytubefix/pull/209\n"
     ]
    },
    {
     "name": "stdout",
     "output_type": "stream",
     "text": [
      "Downloading DOKUMEN UPAYA REHABILITASI SATWA LANGKA BURUNG KAKATUA MALUKU...\n"
     ]
    },
    {
     "name": "stderr",
     "output_type": "stream",
     "text": [
      "The ANDROID client requires PoToken to obtain functional streams, See more details at https://github.com/JuanBindez/pytubefix/pull/209\n",
      "The ANDROID client requires PoToken to obtain functional streams, See more details at https://github.com/JuanBindez/pytubefix/pull/209\n"
     ]
    },
    {
     "name": "stdout",
     "output_type": "stream",
     "text": [
      "Downloading BURUNG KAKATUA MALUKU DAN NURI TERIAK #mollucancockatoo...\n"
     ]
    },
    {
     "name": "stderr",
     "output_type": "stream",
     "text": [
      "The ANDROID client requires PoToken to obtain functional streams, See more details at https://github.com/JuanBindez/pytubefix/pull/209\n",
      "The ANDROID client requires PoToken to obtain functional streams, See more details at https://github.com/JuanBindez/pytubefix/pull/209\n"
     ]
    },
    {
     "name": "stdout",
     "output_type": "stream",
     "text": [
      "Downloading Lagu \"Burung Tantina\" || Cipt. Sactje Hehanusa...\n"
     ]
    },
    {
     "name": "stderr",
     "output_type": "stream",
     "text": [
      "The ANDROID client requires PoToken to obtain functional streams, See more details at https://github.com/JuanBindez/pytubefix/pull/209\n",
      "The ANDROID client requires PoToken to obtain functional streams, See more details at https://github.com/JuanBindez/pytubefix/pull/209\n"
     ]
    },
    {
     "name": "stdout",
     "output_type": "stream",
     "text": [
      "Downloading Burung Tantina (Sio Tantina) Lagu Daerah Maluku...\n"
     ]
    },
    {
     "name": "stderr",
     "output_type": "stream",
     "text": [
      "The ANDROID client requires PoToken to obtain functional streams, See more details at https://github.com/JuanBindez/pytubefix/pull/209\n",
      "The ANDROID client requires PoToken to obtain functional streams, See more details at https://github.com/JuanBindez/pytubefix/pull/209\n"
     ]
    },
    {
     "name": "stdout",
     "output_type": "stream",
     "text": [
      "Downloading BURUNG TANTINA (Sio Tantina) | SHEMA - Lagu Tema 5 Kelas 2 SD | Lagu Daerah Maluku | Sactje Hehanusa...\n"
     ]
    },
    {
     "name": "stderr",
     "output_type": "stream",
     "text": [
      "The ANDROID client requires PoToken to obtain functional streams, See more details at https://github.com/JuanBindez/pytubefix/pull/209\n",
      "The ANDROID client requires PoToken to obtain functional streams, See more details at https://github.com/JuanBindez/pytubefix/pull/209\n"
     ]
    },
    {
     "name": "stdout",
     "output_type": "stream",
     "text": [
      "Downloading Goro Gorone - Lagu Daerah Maluku (dengan Lirik)...\n"
     ]
    },
    {
     "name": "stderr",
     "output_type": "stream",
     "text": [
      "The ANDROID client requires PoToken to obtain functional streams, See more details at https://github.com/JuanBindez/pytubefix/pull/209\n",
      "The ANDROID client requires PoToken to obtain functional streams, See more details at https://github.com/JuanBindez/pytubefix/pull/209\n"
     ]
    },
    {
     "name": "stdout",
     "output_type": "stream",
     "text": [
      "Downloading Goro Goro Ne - Lagu Tradisional Indonesia dari Maluku (Arr. Iwan Tanzil)...\n"
     ]
    },
    {
     "name": "stderr",
     "output_type": "stream",
     "text": [
      "The ANDROID client requires PoToken to obtain functional streams, See more details at https://github.com/JuanBindez/pytubefix/pull/209\n",
      "The ANDROID client requires PoToken to obtain functional streams, See more details at https://github.com/JuanBindez/pytubefix/pull/209\n"
     ]
    },
    {
     "name": "stdout",
     "output_type": "stream",
     "text": [
      "Downloading Goro-gorone (Ambon song)...\n",
      "Duration of Surga tak terExpose jalur pendakian Gunung Salahatu | Ambon Maluku is too long\n",
      "Duration of Gunung Salahutu 1023 MDPL | Ambon - Maluku | Drone view is too long\n"
     ]
    },
    {
     "name": "stderr",
     "output_type": "stream",
     "text": [
      "The ANDROID client requires PoToken to obtain functional streams, See more details at https://github.com/JuanBindez/pytubefix/pull/209\n",
      "The ANDROID client requires PoToken to obtain functional streams, See more details at https://github.com/JuanBindez/pytubefix/pull/209\n"
     ]
    },
    {
     "name": "stdout",
     "output_type": "stream",
     "text": [
      "Downloading Gunung Salahutu - Maluku...\n"
     ]
    },
    {
     "name": "stderr",
     "output_type": "stream",
     "text": [
      "The ANDROID client requires PoToken to obtain functional streams, See more details at https://github.com/JuanBindez/pytubefix/pull/209\n",
      "The ANDROID client requires PoToken to obtain functional streams, See more details at https://github.com/JuanBindez/pytubefix/pull/209\n"
     ]
    },
    {
     "name": "stdout",
     "output_type": "stream",
     "text": [
      "Downloading Hela Rotan  Lagi Daerah Maluku by Viola Merli...\n"
     ]
    },
    {
     "name": "stderr",
     "output_type": "stream",
     "text": [
      "The ANDROID client requires PoToken to obtain functional streams, See more details at https://github.com/JuanBindez/pytubefix/pull/209\n",
      "The ANDROID client requires PoToken to obtain functional streams, See more details at https://github.com/JuanBindez/pytubefix/pull/209\n"
     ]
    },
    {
     "name": "stdout",
     "output_type": "stream",
     "text": [
      "Downloading Hela Rotane (Maluku) - Arr. Ken Steven, Ork. Renardi Effendi...\n"
     ]
    },
    {
     "name": "stderr",
     "output_type": "stream",
     "text": [
      "The ANDROID client requires PoToken to obtain functional streams, See more details at https://github.com/JuanBindez/pytubefix/pull/209\n",
      "The ANDROID client requires PoToken to obtain functional streams, See more details at https://github.com/JuanBindez/pytubefix/pull/209\n"
     ]
    },
    {
     "name": "stdout",
     "output_type": "stream",
     "text": [
      "Downloading Hela Hela Rotan - Tania...\n"
     ]
    },
    {
     "name": "stderr",
     "output_type": "stream",
     "text": [
      "The ANDROID client requires PoToken to obtain functional streams, See more details at https://github.com/JuanBindez/pytubefix/pull/209\n",
      "The ANDROID client requires PoToken to obtain functional streams, See more details at https://github.com/JuanBindez/pytubefix/pull/209\n"
     ]
    },
    {
     "name": "stdout",
     "output_type": "stream",
     "text": [
      "Downloading Huhate - Lagu Daerah Maluku (dengan Lirik)...\n",
      "Duration of HUHATE (full movie) is too long\n"
     ]
    },
    {
     "name": "stderr",
     "output_type": "stream",
     "text": [
      "The ANDROID client requires PoToken to obtain functional streams, See more details at https://github.com/JuanBindez/pytubefix/pull/209\n",
      "The ANDROID client requires PoToken to obtain functional streams, See more details at https://github.com/JuanBindez/pytubefix/pull/209\n"
     ]
    },
    {
     "name": "stdout",
     "output_type": "stream",
     "text": [
      "Downloading Huhate - Ester...\n"
     ]
    },
    {
     "name": "stderr",
     "output_type": "stream",
     "text": [
      "The ANDROID client requires PoToken to obtain functional streams, See more details at https://github.com/JuanBindez/pytubefix/pull/209\n",
      "The ANDROID client requires PoToken to obtain functional streams, See more details at https://github.com/JuanBindez/pytubefix/pull/209\n"
     ]
    },
    {
     "name": "stdout",
     "output_type": "stream",
     "text": [
      "Downloading KOLE KOLE LAGU DAERAH MALUKU...\n",
      "Duration of KOLE - KOLE CINTA. Voc: Lexy & Tesya. Cipt : DoddyTelehala is too long\n"
     ]
    },
    {
     "name": "stderr",
     "output_type": "stream",
     "text": [
      "The ANDROID client requires PoToken to obtain functional streams, See more details at https://github.com/JuanBindez/pytubefix/pull/209\n",
      "The ANDROID client requires PoToken to obtain functional streams, See more details at https://github.com/JuanBindez/pytubefix/pull/209\n"
     ]
    },
    {
     "name": "stdout",
     "output_type": "stream",
     "text": [
      "Downloading Kole Kole...\n"
     ]
    },
    {
     "name": "stderr",
     "output_type": "stream",
     "text": [
      "The ANDROID client requires PoToken to obtain functional streams, See more details at https://github.com/JuanBindez/pytubefix/pull/209\n",
      "The ANDROID client requires PoToken to obtain functional streams, See more details at https://github.com/JuanBindez/pytubefix/pull/209\n"
     ]
    },
    {
     "name": "stdout",
     "output_type": "stream",
     "text": [
      "Downloading LEMBE LEMBE. Vokal Lirik Lagu Daerah Ambon Maluku....\n"
     ]
    },
    {
     "name": "stderr",
     "output_type": "stream",
     "text": [
      "The ANDROID client requires PoToken to obtain functional streams, See more details at https://github.com/JuanBindez/pytubefix/pull/209\n",
      "The ANDROID client requires PoToken to obtain functional streams, See more details at https://github.com/JuanBindez/pytubefix/pull/209\n"
     ]
    },
    {
     "name": "stdout",
     "output_type": "stream",
     "text": [
      "Downloading LEMBE LEMBE (traditional song from Ambon)...\n"
     ]
    },
    {
     "name": "stderr",
     "output_type": "stream",
     "text": [
      "The ANDROID client requires PoToken to obtain functional streams, See more details at https://github.com/JuanBindez/pytubefix/pull/209\n",
      "The ANDROID client requires PoToken to obtain functional streams, See more details at https://github.com/JuanBindez/pytubefix/pull/209\n"
     ]
    },
    {
     "name": "stdout",
     "output_type": "stream",
     "text": [
      "Downloading Lembe - Lembe (Maluku) - Arr PS. Budi Susanto Yohannes, Ork. Alvin Witarsa...\n"
     ]
    },
    {
     "name": "stderr",
     "output_type": "stream",
     "text": [
      "The ANDROID client requires PoToken to obtain functional streams, See more details at https://github.com/JuanBindez/pytubefix/pull/209\n",
      "The ANDROID client requires PoToken to obtain functional streams, See more details at https://github.com/JuanBindez/pytubefix/pull/209\n"
     ]
    },
    {
     "name": "stdout",
     "output_type": "stream",
     "text": [
      "Downloading Daniel Sahuleka - Mande Mande...\n"
     ]
    },
    {
     "name": "stderr",
     "output_type": "stream",
     "text": [
      "The ANDROID client requires PoToken to obtain functional streams, See more details at https://github.com/JuanBindez/pytubefix/pull/209\n",
      "The ANDROID client requires PoToken to obtain functional streams, See more details at https://github.com/JuanBindez/pytubefix/pull/209\n"
     ]
    },
    {
     "name": "stdout",
     "output_type": "stream",
     "text": [
      "Downloading Mande Mande - Iron Tapilaha I lagu Indonesia TImur ( Official Video Music)...\n"
     ]
    },
    {
     "name": "stderr",
     "output_type": "stream",
     "text": [
      "The ANDROID client requires PoToken to obtain functional streams, See more details at https://github.com/JuanBindez/pytubefix/pull/209\n",
      "The ANDROID client requires PoToken to obtain functional streams, See more details at https://github.com/JuanBindez/pytubefix/pull/209\n"
     ]
    },
    {
     "name": "stdout",
     "output_type": "stream",
     "text": [
      "Downloading MANDE MANDE - Juul & Rene...\n"
     ]
    },
    {
     "name": "stderr",
     "output_type": "stream",
     "text": [
      "The ANDROID client requires PoToken to obtain functional streams, See more details at https://github.com/JuanBindez/pytubefix/pull/209\n",
      "The ANDROID client requires PoToken to obtain functional streams, See more details at https://github.com/JuanBindez/pytubefix/pull/209\n"
     ]
    },
    {
     "name": "stdout",
     "output_type": "stream",
     "text": [
      "Downloading Naik Naik Ke Puncak Gunung Ambon / Maluku Lagu Daerah...\n"
     ]
    },
    {
     "name": "stderr",
     "output_type": "stream",
     "text": [
      "The ANDROID client requires PoToken to obtain functional streams, See more details at https://github.com/JuanBindez/pytubefix/pull/209\n",
      "The ANDROID client requires PoToken to obtain functional streams, See more details at https://github.com/JuanBindez/pytubefix/pull/209\n"
     ]
    },
    {
     "name": "stdout",
     "output_type": "stream",
     "text": [
      "Downloading NAIK NAIK KE PUNCAK GUNUNG | Diva Bernyanyi | Lagu Anak Channel...\n"
     ]
    },
    {
     "name": "stderr",
     "output_type": "stream",
     "text": [
      "The ANDROID client requires PoToken to obtain functional streams, See more details at https://github.com/JuanBindez/pytubefix/pull/209\n",
      "The ANDROID client requires PoToken to obtain functional streams, See more details at https://github.com/JuanBindez/pytubefix/pull/209\n"
     ]
    },
    {
     "name": "stdout",
     "output_type": "stream",
     "text": [
      "Downloading Lagu Daerah Maluku naik ke puncak gunung...\n"
     ]
    },
    {
     "name": "stderr",
     "output_type": "stream",
     "text": [
      "The ANDROID client requires PoToken to obtain functional streams, See more details at https://github.com/JuanBindez/pytubefix/pull/209\n",
      "The ANDROID client requires PoToken to obtain functional streams, See more details at https://github.com/JuanBindez/pytubefix/pull/209\n"
     ]
    },
    {
     "name": "stdout",
     "output_type": "stream",
     "text": [
      "Downloading Lagu Daerah Maluku \"Nona Manis Siapa yang Punya?\" by Ceo...\n"
     ]
    },
    {
     "name": "stderr",
     "output_type": "stream",
     "text": [
      "The ANDROID client requires PoToken to obtain functional streams, See more details at https://github.com/JuanBindez/pytubefix/pull/209\n",
      "The ANDROID client requires PoToken to obtain functional streams, See more details at https://github.com/JuanBindez/pytubefix/pull/209\n"
     ]
    },
    {
     "name": "stdout",
     "output_type": "stream",
     "text": [
      "Downloading NONA MANIS SIAPA YANG PUNYA | LAGU ANAK ANAK TERBARU 2022, LAGU DAERAH MALUKU...\n"
     ]
    },
    {
     "name": "stderr",
     "output_type": "stream",
     "text": [
      "The ANDROID client requires PoToken to obtain functional streams, See more details at https://github.com/JuanBindez/pytubefix/pull/209\n",
      "The ANDROID client requires PoToken to obtain functional streams, See more details at https://github.com/JuanBindez/pytubefix/pull/209\n"
     ]
    },
    {
     "name": "stdout",
     "output_type": "stream",
     "text": [
      "Downloading NONA MANIS SIAPA YANG PUNYA | Cover : Notje Latue | Lagu Daerah Maluku....\n"
     ]
    },
    {
     "name": "stderr",
     "output_type": "stream",
     "text": [
      "The ANDROID client requires PoToken to obtain functional streams, See more details at https://github.com/JuanBindez/pytubefix/pull/209\n",
      "The ANDROID client requires PoToken to obtain functional streams, See more details at https://github.com/JuanBindez/pytubefix/pull/209\n"
     ]
    },
    {
     "name": "stdout",
     "output_type": "stream",
     "text": [
      "Downloading O Ulate - Lagu Daerah Maluku (dengan Lirik)...\n"
     ]
    },
    {
     "name": "stderr",
     "output_type": "stream",
     "text": [
      "The ANDROID client requires PoToken to obtain functional streams, See more details at https://github.com/JuanBindez/pytubefix/pull/209\n",
      "The ANDROID client requires PoToken to obtain functional streams, See more details at https://github.com/JuanBindez/pytubefix/pull/209\n"
     ]
    },
    {
     "name": "stdout",
     "output_type": "stream",
     "text": [
      "Downloading O ULATE | Cover : Notje Latue | Lagu Daerah Maluku....\n"
     ]
    },
    {
     "name": "stderr",
     "output_type": "stream",
     "text": [
      "The ANDROID client requires PoToken to obtain functional streams, See more details at https://github.com/JuanBindez/pytubefix/pull/209\n",
      "The ANDROID client requires PoToken to obtain functional streams, See more details at https://github.com/JuanBindez/pytubefix/pull/209\n"
     ]
    },
    {
     "name": "stdout",
     "output_type": "stream",
     "text": [
      "Downloading Oscar Harris - O Ulate...\n",
      "Duration of LAGU MALUKU : OLE SIO Maluku Song (Lyric) is too long\n",
      "Duration of OLE SIO - Irjen Pol Drs. Royke Lumowa, MM (Official Music Video) is too long\n",
      "Duration of OLE SIO is too long\n"
     ]
    },
    {
     "name": "stderr",
     "output_type": "stream",
     "text": [
      "The ANDROID client requires PoToken to obtain functional streams, See more details at https://github.com/JuanBindez/pytubefix/pull/209\n",
      "The ANDROID client requires PoToken to obtain functional streams, See more details at https://github.com/JuanBindez/pytubefix/pull/209\n"
     ]
    },
    {
     "name": "stdout",
     "output_type": "stream",
     "text": [
      "Downloading RASA SAYANGE | Lagu Daerah Maluku | Budaya Indonesia | Dongeng Kita...\n"
     ]
    },
    {
     "name": "stderr",
     "output_type": "stream",
     "text": [
      "The ANDROID client requires PoToken to obtain functional streams, See more details at https://github.com/JuanBindez/pytubefix/pull/209\n",
      "The ANDROID client requires PoToken to obtain functional streams, See more details at https://github.com/JuanBindez/pytubefix/pull/209\n"
     ]
    },
    {
     "name": "stdout",
     "output_type": "stream",
     "text": [
      "Downloading LIRIK - RASA SAYANGE | LAGU PANTUN x Maluku | JOGETTT!!...\n"
     ]
    },
    {
     "name": "stderr",
     "output_type": "stream",
     "text": [
      "The ANDROID client requires PoToken to obtain functional streams, See more details at https://github.com/JuanBindez/pytubefix/pull/209\n",
      "The ANDROID client requires PoToken to obtain functional streams, See more details at https://github.com/JuanBindez/pytubefix/pull/209\n"
     ]
    },
    {
     "name": "stdout",
     "output_type": "stream",
     "text": [
      "Downloading RASA SAYANGE - Ifan Suady X Putri Reski (Lagu Daerah Maluku)...\n"
     ]
    },
    {
     "name": "stderr",
     "output_type": "stream",
     "text": [
      "The ANDROID client requires PoToken to obtain functional streams, See more details at https://github.com/JuanBindez/pytubefix/pull/209\n",
      "The ANDROID client requires PoToken to obtain functional streams, See more details at https://github.com/JuanBindez/pytubefix/pull/209\n"
     ]
    },
    {
     "name": "stdout",
     "output_type": "stream",
     "text": [
      "Downloading Sarinande - Lagu Daerah Maluku (dengan Lirik)...\n",
      "Duration of Sarinande (Maluku) - Arr. Fero Aldiansya S. is too long\n"
     ]
    },
    {
     "name": "stderr",
     "output_type": "stream",
     "text": [
      "The ANDROID client requires PoToken to obtain functional streams, See more details at https://github.com/JuanBindez/pytubefix/pull/209\n",
      "The ANDROID client requires PoToken to obtain functional streams, See more details at https://github.com/JuanBindez/pytubefix/pull/209\n"
     ]
    },
    {
     "name": "stdout",
     "output_type": "stream",
     "text": [
      "Downloading lirik SARINANDE - Lagu Anak - Cipt. .......... - Musik Pompi S....\n"
     ]
    },
    {
     "name": "stderr",
     "output_type": "stream",
     "text": [
      "The ANDROID client requires PoToken to obtain functional streams, See more details at https://github.com/JuanBindez/pytubefix/pull/209\n",
      "The ANDROID client requires PoToken to obtain functional streams, See more details at https://github.com/JuanBindez/pytubefix/pull/209\n"
     ]
    },
    {
     "name": "stdout",
     "output_type": "stream",
     "text": [
      "Downloading Saule (Lagu daerah dari Maluku) - N.N. [XY+AB STEREO RECORDING] without audio processing...\n"
     ]
    },
    {
     "name": "stderr",
     "output_type": "stream",
     "text": [
      "The ANDROID client requires PoToken to obtain functional streams, See more details at https://github.com/JuanBindez/pytubefix/pull/209\n",
      "The ANDROID client requires PoToken to obtain functional streams, See more details at https://github.com/JuanBindez/pytubefix/pull/209\n"
     ]
    },
    {
     "name": "stdout",
     "output_type": "stream",
     "text": [
      "Downloading Saule ft. Yopie Latul (Official Music Video)...\n"
     ]
    },
    {
     "name": "stderr",
     "output_type": "stream",
     "text": [
      "The ANDROID client requires PoToken to obtain functional streams, See more details at https://github.com/JuanBindez/pytubefix/pull/209\n",
      "The ANDROID client requires PoToken to obtain functional streams, See more details at https://github.com/JuanBindez/pytubefix/pull/209\n"
     ]
    },
    {
     "name": "stdout",
     "output_type": "stream",
     "text": [
      "Downloading Lirik Lagu Nusantara - Saule - Maluku...\n",
      "Duration of Sayang Kane ( Talalu Manise) is too long\n",
      "Duration of SAYANG KENE (INSTRUMENTAL - LAGU DAERAH MALUKU is too long\n",
      "Duration of Talalu Manis'ee (Version 2) is too long\n",
      "Duration of Museum Siwalima Sebagai Jati Diri Orang Maluku. #museumsiwalimavlog2021 is too long\n",
      "Duration of SIWALIMA - \"Medley Lagu Nusantara\" is too long\n",
      "Duration of BUDAYA MALUKU DARI MASA KE MASA. #museumsiwalimavlog2021 is too long\n"
     ]
    },
    {
     "name": "stderr",
     "output_type": "stream",
     "text": [
      "The ANDROID client requires PoToken to obtain functional streams, See more details at https://github.com/JuanBindez/pytubefix/pull/209\n",
      "The ANDROID client requires PoToken to obtain functional streams, See more details at https://github.com/JuanBindez/pytubefix/pull/209\n"
     ]
    },
    {
     "name": "stdout",
     "output_type": "stream",
     "text": [
      "Downloading SUDAH BERLAYAR | Cover : Notje Latue | Lagu Daerah Maluku....\n"
     ]
    },
    {
     "name": "stderr",
     "output_type": "stream",
     "text": [
      "The ANDROID client requires PoToken to obtain functional streams, See more details at https://github.com/JuanBindez/pytubefix/pull/209\n",
      "The ANDROID client requires PoToken to obtain functional streams, See more details at https://github.com/JuanBindez/pytubefix/pull/209\n"
     ]
    },
    {
     "name": "stdout",
     "output_type": "stream",
     "text": [
      "Downloading Jessica Manuputty - trad./ Sudah Berlayar (live @TivoliVredenburg Utrecht)...\n"
     ]
    },
    {
     "name": "stderr",
     "output_type": "stream",
     "text": [
      "The ANDROID client requires PoToken to obtain functional streams, See more details at https://github.com/JuanBindez/pytubefix/pull/209\n",
      "The ANDROID client requires PoToken to obtain functional streams, See more details at https://github.com/JuanBindez/pytubefix/pull/209\n"
     ]
    },
    {
     "name": "stdout",
     "output_type": "stream",
     "text": [
      "Downloading 4. Sudah Berlayar...\n"
     ]
    },
    {
     "name": "stderr",
     "output_type": "stream",
     "text": [
      "The ANDROID client requires PoToken to obtain functional streams, See more details at https://github.com/JuanBindez/pytubefix/pull/209\n",
      "The ANDROID client requires PoToken to obtain functional streams, See more details at https://github.com/JuanBindez/pytubefix/pull/209\n"
     ]
    },
    {
     "name": "stdout",
     "output_type": "stream",
     "text": [
      "Downloading Tanase (an Ambonese song)...\n"
     ]
    },
    {
     "name": "stderr",
     "output_type": "stream",
     "text": [
      "The ANDROID client requires PoToken to obtain functional streams, See more details at https://github.com/JuanBindez/pytubefix/pull/209\n",
      "The ANDROID client requires PoToken to obtain functional streams, See more details at https://github.com/JuanBindez/pytubefix/pull/209\n"
     ]
    },
    {
     "name": "stdout",
     "output_type": "stream",
     "text": [
      "Downloading Tanase [lirik/lyrick]...\n"
     ]
    },
    {
     "name": "stderr",
     "output_type": "stream",
     "text": [
      "The ANDROID client requires PoToken to obtain functional streams, See more details at https://github.com/JuanBindez/pytubefix/pull/209\n",
      "The ANDROID client requires PoToken to obtain functional streams, See more details at https://github.com/JuanBindez/pytubefix/pull/209\n"
     ]
    },
    {
     "name": "stdout",
     "output_type": "stream",
     "text": [
      "Downloading TANASE | Cover : Notje Latue | Lagu Daerah Maluku....\n"
     ]
    },
    {
     "name": "stderr",
     "output_type": "stream",
     "text": [
      "The ANDROID client requires PoToken to obtain functional streams, See more details at https://github.com/JuanBindez/pytubefix/pull/209\n",
      "The ANDROID client requires PoToken to obtain functional streams, See more details at https://github.com/JuanBindez/pytubefix/pull/209\n"
     ]
    },
    {
     "name": "stdout",
     "output_type": "stream",
     "text": [
      "Downloading toki tifa - PSM UNDIP - Diponegoro University Choir @ FPS ITB XXII (High Quality)...\n"
     ]
    },
    {
     "name": "stderr",
     "output_type": "stream",
     "text": [
      "The ANDROID client requires PoToken to obtain functional streams, See more details at https://github.com/JuanBindez/pytubefix/pull/209\n",
      "The ANDROID client requires PoToken to obtain functional streams, See more details at https://github.com/JuanBindez/pytubefix/pull/209\n"
     ]
    },
    {
     "name": "stdout",
     "output_type": "stream",
     "text": [
      "Downloading TOKI TIFA (Christian Izaac Tamaela) - Borneo Cantata...\n",
      "Duration of TOKI TIFA - PESONA INDONESIA Produksi TVRI Maluku 2024 is too long\n"
     ]
    },
    {
     "name": "stderr",
     "output_type": "stream",
     "text": [
      "The ANDROID client requires PoToken to obtain functional streams, See more details at https://github.com/JuanBindez/pytubefix/pull/209\n",
      "The ANDROID client requires PoToken to obtain functional streams, See more details at https://github.com/JuanBindez/pytubefix/pull/209\n"
     ]
    },
    {
     "name": "stdout",
     "output_type": "stream",
     "text": [
      "Downloading Waktu Hujan Sore Sore - Lagu Daerah Maluku by Viola Merli...\n"
     ]
    },
    {
     "name": "stderr",
     "output_type": "stream",
     "text": [
      "The ANDROID client requires PoToken to obtain functional streams, See more details at https://github.com/JuanBindez/pytubefix/pull/209\n",
      "The ANDROID client requires PoToken to obtain functional streams, See more details at https://github.com/JuanBindez/pytubefix/pull/209\n"
     ]
    },
    {
     "name": "stdout",
     "output_type": "stream",
     "text": [
      "Downloading Waktu Hujan Sore Sore - Nona Tapilaha I Lagu Indonesia Timur I pop Intim  (Official Video music)...\n"
     ]
    },
    {
     "name": "stderr",
     "output_type": "stream",
     "text": [
      "The ANDROID client requires PoToken to obtain functional streams, See more details at https://github.com/JuanBindez/pytubefix/pull/209\n",
      "The ANDROID client requires PoToken to obtain functional streams, See more details at https://github.com/JuanBindez/pytubefix/pull/209\n"
     ]
    },
    {
     "name": "stdout",
     "output_type": "stream",
     "text": [
      "Downloading Karaoke WAKTU HUJAN SORE SORE - Music By Lanno Mbauth...\n"
     ]
    },
    {
     "name": "stderr",
     "output_type": "stream",
     "text": [
      "The ANDROID client requires PoToken to obtain functional streams, See more details at https://github.com/JuanBindez/pytubefix/pull/209\n",
      "The ANDROID client requires PoToken to obtain functional streams, See more details at https://github.com/JuanBindez/pytubefix/pull/209\n"
     ]
    },
    {
     "name": "stdout",
     "output_type": "stream",
     "text": [
      "Downloading LAGU ANAK TUTU KODA dari NUSA TENGGARA BARAT...\n"
     ]
    },
    {
     "name": "stderr",
     "output_type": "stream",
     "text": [
      "The ANDROID client requires PoToken to obtain functional streams, See more details at https://github.com/JuanBindez/pytubefix/pull/209\n",
      "The ANDROID client requires PoToken to obtain functional streams, See more details at https://github.com/JuanBindez/pytubefix/pull/209\n"
     ]
    },
    {
     "name": "stdout",
     "output_type": "stream",
     "text": [
      "Downloading TUTU KODA-Lagu Daerah Nusa Tenggara Barat...\n"
     ]
    },
    {
     "name": "stderr",
     "output_type": "stream",
     "text": [
      "The ANDROID client requires PoToken to obtain functional streams, See more details at https://github.com/JuanBindez/pytubefix/pull/209\n",
      "The ANDROID client requires PoToken to obtain functional streams, See more details at https://github.com/JuanBindez/pytubefix/pull/209\n"
     ]
    },
    {
     "name": "stdout",
     "output_type": "stream",
     "text": [
      "Downloading BOLELEBO - LAGU DAERAH NTT | LAGU ANAK INDONESIA...\n",
      "Duration of 4 Suku Asli Nusa Tenggara Barat is too long\n"
     ]
    },
    {
     "name": "stderr",
     "output_type": "stream",
     "text": [
      "The ANDROID client requires PoToken to obtain functional streams, See more details at https://github.com/JuanBindez/pytubefix/pull/209\n",
      "The ANDROID client requires PoToken to obtain functional streams, See more details at https://github.com/JuanBindez/pytubefix/pull/209\n"
     ]
    },
    {
     "name": "stdout",
     "output_type": "stream",
     "text": [
      "Downloading TUTU KODA-Lagu Daerah Nusa Tenggara Barat...\n",
      "Duration of GEMU FAMIRE (Maumere) | Lagu Daerah Nusa Tenggara Timur (NTT) | Budaya Indonesia | Dongeng Kita is too long\n"
     ]
    },
    {
     "name": "stderr",
     "output_type": "stream",
     "text": [
      "The ANDROID client requires PoToken to obtain functional streams, See more details at https://github.com/JuanBindez/pytubefix/pull/209\n",
      "The ANDROID client requires PoToken to obtain functional streams, See more details at https://github.com/JuanBindez/pytubefix/pull/209\n"
     ]
    },
    {
     "name": "stdout",
     "output_type": "stream",
     "text": [
      "Downloading Orlen- Orlen - Lagu Daerah Nusa Tenggara Barat...\n"
     ]
    },
    {
     "name": "stderr",
     "output_type": "stream",
     "text": [
      "The ANDROID client requires PoToken to obtain functional streams, See more details at https://github.com/JuanBindez/pytubefix/pull/209\n",
      "The ANDROID client requires PoToken to obtain functional streams, See more details at https://github.com/JuanBindez/pytubefix/pull/209\n"
     ]
    },
    {
     "name": "stdout",
     "output_type": "stream",
     "text": [
      "Downloading Rawa Mbojo - Orlen Orlen | Video Lirik Lagu Bima Dompu...\n"
     ]
    },
    {
     "name": "stderr",
     "output_type": "stream",
     "text": [
      "The ANDROID client requires PoToken to obtain functional streams, See more details at https://github.com/JuanBindez/pytubefix/pull/209\n",
      "The ANDROID client requires PoToken to obtain functional streams, See more details at https://github.com/JuanBindez/pytubefix/pull/209\n"
     ]
    },
    {
     "name": "stdout",
     "output_type": "stream",
     "text": [
      "Downloading Lagu Bima - Orlen-Orlen - Mantika VG (Cover) by Rizky x Siti Nurhaliza...\n"
     ]
    },
    {
     "name": "stderr",
     "output_type": "stream",
     "text": [
      "The ANDROID client requires PoToken to obtain functional streams, See more details at https://github.com/JuanBindez/pytubefix/pull/209\n",
      "The ANDROID client requires PoToken to obtain functional streams, See more details at https://github.com/JuanBindez/pytubefix/pull/209\n"
     ]
    },
    {
     "name": "stdout",
     "output_type": "stream",
     "text": [
      "Downloading LAGU DAERAH NUSA TENGGARA TIMUR PAI MURA RAME...\n"
     ]
    },
    {
     "name": "stderr",
     "output_type": "stream",
     "text": [
      "The ANDROID client requires PoToken to obtain functional streams, See more details at https://github.com/JuanBindez/pytubefix/pull/209\n",
      "The ANDROID client requires PoToken to obtain functional streams, See more details at https://github.com/JuanBindez/pytubefix/pull/209\n"
     ]
    },
    {
     "name": "stdout",
     "output_type": "stream",
     "text": [
      "Downloading PAI MURA RAME-RAME || Ansambel Campuran ||...\n"
     ]
    },
    {
     "name": "stderr",
     "output_type": "stream",
     "text": [
      "The ANDROID client requires PoToken to obtain functional streams, See more details at https://github.com/JuanBindez/pytubefix/pull/209\n",
      "The ANDROID client requires PoToken to obtain functional streams, See more details at https://github.com/JuanBindez/pytubefix/pull/209\n"
     ]
    },
    {
     "name": "stdout",
     "output_type": "stream",
     "text": [
      "Downloading SMAN 1 LEBATUKAN LAGU PILIHAN|| PAI MURA RAME...\n"
     ]
    },
    {
     "name": "stderr",
     "output_type": "stream",
     "text": [
      "The ANDROID client requires PoToken to obtain functional streams, See more details at https://github.com/JuanBindez/pytubefix/pull/209\n",
      "The ANDROID client requires PoToken to obtain functional streams, See more details at https://github.com/JuanBindez/pytubefix/pull/209\n"
     ]
    },
    {
     "name": "stdout",
     "output_type": "stream",
     "text": [
      "Downloading Tebe Onana - Lagu Daerah Nusa Tenggara Timur (dengan Lirik)...\n"
     ]
    },
    {
     "name": "stderr",
     "output_type": "stream",
     "text": [
      "The ANDROID client requires PoToken to obtain functional streams, See more details at https://github.com/JuanBindez/pytubefix/pull/209\n",
      "The ANDROID client requires PoToken to obtain functional streams, See more details at https://github.com/JuanBindez/pytubefix/pull/209\n"
     ]
    },
    {
     "name": "stdout",
     "output_type": "stream",
     "text": [
      "Downloading TEBE ONANA LAGU JADUL NTT...\n"
     ]
    },
    {
     "name": "stderr",
     "output_type": "stream",
     "text": [
      "The ANDROID client requires PoToken to obtain functional streams, See more details at https://github.com/JuanBindez/pytubefix/pull/209\n",
      "The ANDROID client requires PoToken to obtain functional streams, See more details at https://github.com/JuanBindez/pytubefix/pull/209\n"
     ]
    },
    {
     "name": "stdout",
     "output_type": "stream",
     "text": [
      "Downloading Tebe Onana...\n"
     ]
    },
    {
     "name": "stderr",
     "output_type": "stream",
     "text": [
      "The ANDROID client requires PoToken to obtain functional streams, See more details at https://github.com/JuanBindez/pytubefix/pull/209\n",
      "The ANDROID client requires PoToken to obtain functional streams, See more details at https://github.com/JuanBindez/pytubefix/pull/209\n"
     ]
    },
    {
     "name": "stdout",
     "output_type": "stream",
     "text": [
      "Downloading TUTU KODA-Lagu Daerah Nusa Tenggara Barat...\n"
     ]
    },
    {
     "name": "stderr",
     "output_type": "stream",
     "text": [
      "The ANDROID client requires PoToken to obtain functional streams, See more details at https://github.com/JuanBindez/pytubefix/pull/209\n",
      "The ANDROID client requires PoToken to obtain functional streams, See more details at https://github.com/JuanBindez/pytubefix/pull/209\n"
     ]
    },
    {
     "name": "stdout",
     "output_type": "stream",
     "text": [
      "Downloading LAGU ANAK TUTU KODA dari NUSA TENGGARA BARAT...\n"
     ]
    },
    {
     "name": "stderr",
     "output_type": "stream",
     "text": [
      "The ANDROID client requires PoToken to obtain functional streams, See more details at https://github.com/JuanBindez/pytubefix/pull/209\n",
      "The ANDROID client requires PoToken to obtain functional streams, See more details at https://github.com/JuanBindez/pytubefix/pull/209\n"
     ]
    },
    {
     "name": "stdout",
     "output_type": "stream",
     "text": [
      "Downloading Tutu Koda | TRUST Orchestra | Gala Concert IOEF 2022...\n"
     ]
    },
    {
     "name": "stderr",
     "output_type": "stream",
     "text": [
      "The ANDROID client requires PoToken to obtain functional streams, See more details at https://github.com/JuanBindez/pytubefix/pull/209\n",
      "The ANDROID client requires PoToken to obtain functional streams, See more details at https://github.com/JuanBindez/pytubefix/pull/209\n"
     ]
    },
    {
     "name": "stdout",
     "output_type": "stream",
     "text": [
      "Downloading Kadal Nongak - Lagu Daerah NTB (Lirik dan Terjemahan)...\n"
     ]
    },
    {
     "name": "stderr",
     "output_type": "stream",
     "text": [
      "The ANDROID client requires PoToken to obtain functional streams, See more details at https://github.com/JuanBindez/pytubefix/pull/209\n",
      "The ANDROID client requires PoToken to obtain functional streams, See more details at https://github.com/JuanBindez/pytubefix/pull/209\n"
     ]
    },
    {
     "name": "stdout",
     "output_type": "stream",
     "text": [
      "Downloading UTS SENI TARI || TARI TRADISI NTB || KELOMPOK TARI KADAL NONGAK LOMBOK...\n"
     ]
    },
    {
     "name": "stderr",
     "output_type": "stream",
     "text": [
      "The ANDROID client requires PoToken to obtain functional streams, See more details at https://github.com/JuanBindez/pytubefix/pull/209\n",
      "The ANDROID client requires PoToken to obtain functional streams, See more details at https://github.com/JuanBindez/pytubefix/pull/209\n"
     ]
    },
    {
     "name": "stdout",
     "output_type": "stream",
     "text": [
      "Downloading lagu sasak KADAL NONGAQ _ BAIQ MEIDIYA (cover)...\n"
     ]
    },
    {
     "name": "stderr",
     "output_type": "stream",
     "text": [
      "The ANDROID client requires PoToken to obtain functional streams, See more details at https://github.com/JuanBindez/pytubefix/pull/209\n",
      "The ANDROID client requires PoToken to obtain functional streams, See more details at https://github.com/JuanBindez/pytubefix/pull/209\n"
     ]
    },
    {
     "name": "stdout",
     "output_type": "stream",
     "text": [
      "Downloading Anak Kambing Saya - Lagu Daerah NTT by Viola Merli...\n"
     ]
    },
    {
     "name": "stderr",
     "output_type": "stream",
     "text": [
      "The ANDROID client requires PoToken to obtain functional streams, See more details at https://github.com/JuanBindez/pytubefix/pull/209\n",
      "The ANDROID client requires PoToken to obtain functional streams, See more details at https://github.com/JuanBindez/pytubefix/pull/209\n"
     ]
    },
    {
     "name": "stdout",
     "output_type": "stream",
     "text": [
      "Downloading Anak Kambing Saya (Caca Marica Hei Hei) - Lagu Daerah NTT (Video Lirik) Song of Kids...\n"
     ]
    },
    {
     "name": "stderr",
     "output_type": "stream",
     "text": [
      "The ANDROID client requires PoToken to obtain functional streams, See more details at https://github.com/JuanBindez/pytubefix/pull/209\n",
      "The ANDROID client requires PoToken to obtain functional streams, See more details at https://github.com/JuanBindez/pytubefix/pull/209\n"
     ]
    },
    {
     "name": "stdout",
     "output_type": "stream",
     "text": [
      "Downloading Anak Kambing Saya - Lagu Daerah NTT (dengan Lirik)...\n"
     ]
    },
    {
     "name": "stderr",
     "output_type": "stream",
     "text": [
      "The ANDROID client requires PoToken to obtain functional streams, See more details at https://github.com/JuanBindez/pytubefix/pull/209\n",
      "The ANDROID client requires PoToken to obtain functional streams, See more details at https://github.com/JuanBindez/pytubefix/pull/209\n"
     ]
    },
    {
     "name": "stdout",
     "output_type": "stream",
     "text": [
      "Downloading BOLELEBO - LAGU DAERAH NTT | LAGU ANAK INDONESIA...\n"
     ]
    },
    {
     "name": "stderr",
     "output_type": "stream",
     "text": [
      "The ANDROID client requires PoToken to obtain functional streams, See more details at https://github.com/JuanBindez/pytubefix/pull/209\n",
      "The ANDROID client requires PoToken to obtain functional streams, See more details at https://github.com/JuanBindez/pytubefix/pull/209\n"
     ]
    },
    {
     "name": "stdout",
     "output_type": "stream",
     "text": [
      "Downloading Bolelebo - Ester...\n"
     ]
    },
    {
     "name": "stderr",
     "output_type": "stream",
     "text": [
      "The ANDROID client requires PoToken to obtain functional streams, See more details at https://github.com/JuanBindez/pytubefix/pull/209\n",
      "The ANDROID client requires PoToken to obtain functional streams, See more details at https://github.com/JuanBindez/pytubefix/pull/209\n"
     ]
    },
    {
     "name": "stdout",
     "output_type": "stream",
     "text": [
      "Downloading Bolelebo...\n"
     ]
    },
    {
     "name": "stderr",
     "output_type": "stream",
     "text": [
      "The ANDROID client requires PoToken to obtain functional streams, See more details at https://github.com/JuanBindez/pytubefix/pull/209\n",
      "The ANDROID client requires PoToken to obtain functional streams, See more details at https://github.com/JuanBindez/pytubefix/pull/209\n"
     ]
    },
    {
     "name": "stdout",
     "output_type": "stream",
     "text": [
      "Downloading DESAKU-Lagu Daerah NTT #subscribe...\n"
     ]
    },
    {
     "name": "stderr",
     "output_type": "stream",
     "text": [
      "The ANDROID client requires PoToken to obtain functional streams, See more details at https://github.com/JuanBindez/pytubefix/pull/209\n",
      "The ANDROID client requires PoToken to obtain functional streams, See more details at https://github.com/JuanBindez/pytubefix/pull/209\n"
     ]
    },
    {
     "name": "stdout",
     "output_type": "stream",
     "text": [
      "Downloading LAGU DAERAH NUSA TENGGARA TIMUR - Desaku (lirik lagu)...\n"
     ]
    },
    {
     "name": "stderr",
     "output_type": "stream",
     "text": [
      "The ANDROID client requires PoToken to obtain functional streams, See more details at https://github.com/JuanBindez/pytubefix/pull/209\n",
      "The ANDROID client requires PoToken to obtain functional streams, See more details at https://github.com/JuanBindez/pytubefix/pull/209\n"
     ]
    },
    {
     "name": "stdout",
     "output_type": "stream",
     "text": [
      "Downloading DESAKU - Lagu Anak | Lagu Daerah Nusa Tenggara Timur | Lagu Belajar Menyanyi | Lagu Anak Indonesia...\n"
     ]
    },
    {
     "name": "stderr",
     "output_type": "stream",
     "text": [
      "The ANDROID client requires PoToken to obtain functional streams, See more details at https://github.com/JuanBindez/pytubefix/pull/209\n",
      "The ANDROID client requires PoToken to obtain functional streams, See more details at https://github.com/JuanBindez/pytubefix/pull/209\n"
     ]
    },
    {
     "name": "stdout",
     "output_type": "stream",
     "text": [
      "Downloading Alam Lerang Wutun, Riangbaring...\n",
      "Duration of Lereng Wutun.NTT. is too long\n"
     ]
    },
    {
     "name": "stderr",
     "output_type": "stream",
     "text": [
      "The ANDROID client requires PoToken to obtain functional streams, See more details at https://github.com/JuanBindez/pytubefix/pull/209\n",
      "The ANDROID client requires PoToken to obtain functional streams, See more details at https://github.com/JuanBindez/pytubefix/pull/209\n"
     ]
    },
    {
     "name": "stdout",
     "output_type": "stream",
     "text": [
      "Downloading LERANG WUTUN...\n"
     ]
    },
    {
     "name": "stderr",
     "output_type": "stream",
     "text": [
      "The ANDROID client requires PoToken to obtain functional streams, See more details at https://github.com/JuanBindez/pytubefix/pull/209\n",
      "The ANDROID client requires PoToken to obtain functional streams, See more details at https://github.com/JuanBindez/pytubefix/pull/209\n"
     ]
    },
    {
     "name": "stdout",
     "output_type": "stream",
     "text": [
      "Downloading O Nina Noi (Arr. P. Riki Tukan) - Pendidikan Seni Unwira Choir...\n"
     ]
    },
    {
     "name": "stderr",
     "output_type": "stream",
     "text": [
      "The ANDROID client requires PoToken to obtain functional streams, See more details at https://github.com/JuanBindez/pytubefix/pull/209\n",
      "The ANDROID client requires PoToken to obtain functional streams, See more details at https://github.com/JuanBindez/pytubefix/pull/209\n"
     ]
    },
    {
     "name": "stdout",
     "output_type": "stream",
     "text": [
      "Downloading Lagu Pilihan - O NINA NOI (Lagu Daerah Timor)...\n"
     ]
    },
    {
     "name": "stderr",
     "output_type": "stream",
     "text": [
      "The ANDROID client requires PoToken to obtain functional streams, See more details at https://github.com/JuanBindez/pytubefix/pull/209\n",
      "The ANDROID client requires PoToken to obtain functional streams, See more details at https://github.com/JuanBindez/pytubefix/pull/209\n"
     ]
    },
    {
     "name": "stdout",
     "output_type": "stream",
     "text": [
      "Downloading O NINA NOI...\n"
     ]
    },
    {
     "name": "stderr",
     "output_type": "stream",
     "text": [
      "The ANDROID client requires PoToken to obtain functional streams, See more details at https://github.com/JuanBindez/pytubefix/pull/209\n",
      "The ANDROID client requires PoToken to obtain functional streams, See more details at https://github.com/JuanBindez/pytubefix/pull/209\n"
     ]
    },
    {
     "name": "stdout",
     "output_type": "stream",
     "text": [
      "Downloading BOLELEBO - LAGU DAERAH NTT | LAGU ANAK INDONESIA...\n"
     ]
    },
    {
     "name": "stderr",
     "output_type": "stream",
     "text": [
      "The ANDROID client requires PoToken to obtain functional streams, See more details at https://github.com/JuanBindez/pytubefix/pull/209\n",
      "The ANDROID client requires PoToken to obtain functional streams, See more details at https://github.com/JuanBindez/pytubefix/pull/209\n"
     ]
    },
    {
     "name": "stdout",
     "output_type": "stream",
     "text": [
      "Downloading Anak Kambing Saya - Lagu Daerah NTT by Viola Merli...\n"
     ]
    },
    {
     "name": "stderr",
     "output_type": "stream",
     "text": [
      "The ANDROID client requires PoToken to obtain functional streams, See more details at https://github.com/JuanBindez/pytubefix/pull/209\n",
      "The ANDROID client requires PoToken to obtain functional streams, See more details at https://github.com/JuanBindez/pytubefix/pull/209\n"
     ]
    },
    {
     "name": "stdout",
     "output_type": "stream",
     "text": [
      "Downloading Anak Kambing Saya - Lagu Daerah NTT (dengan Lirik)...\n"
     ]
    },
    {
     "name": "stderr",
     "output_type": "stream",
     "text": [
      "The ANDROID client requires PoToken to obtain functional streams, See more details at https://github.com/JuanBindez/pytubefix/pull/209\n",
      "The ANDROID client requires PoToken to obtain functional streams, See more details at https://github.com/JuanBindez/pytubefix/pull/209\n"
     ]
    },
    {
     "name": "stdout",
     "output_type": "stream",
     "text": [
      "Downloading Potong Bebek Angsa - Lagu Daerah NTT (dengan Lirik)...\n"
     ]
    },
    {
     "name": "stderr",
     "output_type": "stream",
     "text": [
      "The ANDROID client requires PoToken to obtain functional streams, See more details at https://github.com/JuanBindez/pytubefix/pull/209\n",
      "The ANDROID client requires PoToken to obtain functional streams, See more details at https://github.com/JuanBindez/pytubefix/pull/209\n"
     ]
    },
    {
     "name": "stdout",
     "output_type": "stream",
     "text": [
      "Downloading Potong bebek Angsa (Nusa Tenggara Timur)...\n"
     ]
    },
    {
     "name": "stderr",
     "output_type": "stream",
     "text": [
      "The ANDROID client requires PoToken to obtain functional streams, See more details at https://github.com/JuanBindez/pytubefix/pull/209\n",
      "The ANDROID client requires PoToken to obtain functional streams, See more details at https://github.com/JuanBindez/pytubefix/pull/209\n"
     ]
    },
    {
     "name": "stdout",
     "output_type": "stream",
     "text": [
      "Downloading KARAOKE POTONG BEBEK   Lagu Daerah NTT...\n",
      "Duration of Mana Lolo Banda - Lagu Daerah NTT (dengan Lirik) is too long\n"
     ]
    },
    {
     "name": "stderr",
     "output_type": "stream",
     "text": [
      "The ANDROID client requires PoToken to obtain functional streams, See more details at https://github.com/JuanBindez/pytubefix/pull/209\n",
      "The ANDROID client requires PoToken to obtain functional streams, See more details at https://github.com/JuanBindez/pytubefix/pull/209\n"
     ]
    },
    {
     "name": "stdout",
     "output_type": "stream",
     "text": [
      "Downloading Mana Lolo Banda. Voc. Grace. Improv. music Josh,Epi Embu, Robert EppeD...\n"
     ]
    },
    {
     "name": "stderr",
     "output_type": "stream",
     "text": [
      "The ANDROID client requires PoToken to obtain functional streams, See more details at https://github.com/JuanBindez/pytubefix/pull/209\n",
      "The ANDROID client requires PoToken to obtain functional streams, See more details at https://github.com/JuanBindez/pytubefix/pull/209\n"
     ]
    },
    {
     "name": "stdout",
     "output_type": "stream",
     "text": [
      "Downloading Perdana: Mana Lolo Banda (Arga Rakasiwi) oleh One Heartmony Choir - Mandiri Club Paduan Suara...\n",
      "Duration of Putar putar kopi is too long\n",
      "Duration of Putar-putar kopi.DAT is too long\n",
      "Duration of Putar Putar Kopi - Lagu Daerah NTT (dengan Lirik) is too long\n",
      "Duration of Ktong Pung FLOBAMORA || All Artist MUSIDULI || Official MV is too long\n",
      "Duration of Lagu daerah Nusa Tenggara Timur - Flobamora is too long\n"
     ]
    },
    {
     "name": "stderr",
     "output_type": "stream",
     "text": [
      "The ANDROID client requires PoToken to obtain functional streams, See more details at https://github.com/JuanBindez/pytubefix/pull/209\n",
      "The ANDROID client requires PoToken to obtain functional streams, See more details at https://github.com/JuanBindez/pytubefix/pull/209\n"
     ]
    },
    {
     "name": "stdout",
     "output_type": "stream",
     "text": [
      "Downloading Lagu Timur terbaru 2022 NTT Bercerita - Black Magic Ft Riana & Chrisno ( Lirik Video )...\n"
     ]
    },
    {
     "name": "stderr",
     "output_type": "stream",
     "text": [
      "The ANDROID client requires PoToken to obtain functional streams, See more details at https://github.com/JuanBindez/pytubefix/pull/209\n",
      "The ANDROID client requires PoToken to obtain functional streams, See more details at https://github.com/JuanBindez/pytubefix/pull/209\n"
     ]
    },
    {
     "name": "stdout",
     "output_type": "stream",
     "text": [
      "Downloading LAGU DAERAH NUSA TENGGARA TIMUR PAI MURA RAME...\n",
      "Duration of PAI MURA RAME (Lagu Daerah Flores Timur) | J.E.P.I Crew is too long\n"
     ]
    },
    {
     "name": "stderr",
     "output_type": "stream",
     "text": [
      "The ANDROID client requires PoToken to obtain functional streams, See more details at https://github.com/JuanBindez/pytubefix/pull/209\n",
      "The ANDROID client requires PoToken to obtain functional streams, See more details at https://github.com/JuanBindez/pytubefix/pull/209\n"
     ]
    },
    {
     "name": "stdout",
     "output_type": "stream",
     "text": [
      "Downloading SMAN 1 LEBATUKAN LAGU PILIHAN|| PAI MURA RAME...\n"
     ]
    },
    {
     "name": "stderr",
     "output_type": "stream",
     "text": [
      "The ANDROID client requires PoToken to obtain functional streams, See more details at https://github.com/JuanBindez/pytubefix/pull/209\n",
      "The ANDROID client requires PoToken to obtain functional streams, See more details at https://github.com/JuanBindez/pytubefix/pull/209\n"
     ]
    },
    {
     "name": "stdout",
     "output_type": "stream",
     "text": [
      "Downloading Alam Lerang Wutun, Riangbaring...\n",
      "Duration of Lereng Wutun.NTT. is too long\n"
     ]
    },
    {
     "name": "stderr",
     "output_type": "stream",
     "text": [
      "The ANDROID client requires PoToken to obtain functional streams, See more details at https://github.com/JuanBindez/pytubefix/pull/209\n",
      "The ANDROID client requires PoToken to obtain functional streams, See more details at https://github.com/JuanBindez/pytubefix/pull/209\n"
     ]
    },
    {
     "name": "stdout",
     "output_type": "stream",
     "text": [
      "Downloading Pesona Tanjung Lerang wutun,Riangbaring...\n"
     ]
    },
    {
     "name": "stderr",
     "output_type": "stream",
     "text": [
      "The ANDROID client requires PoToken to obtain functional streams, See more details at https://github.com/JuanBindez/pytubefix/pull/209\n",
      "The ANDROID client requires PoToken to obtain functional streams, See more details at https://github.com/JuanBindez/pytubefix/pull/209\n"
     ]
    },
    {
     "name": "stdout",
     "output_type": "stream",
     "text": [
      "Downloading Bolelebo - Ester...\n"
     ]
    },
    {
     "name": "stderr",
     "output_type": "stream",
     "text": [
      "The ANDROID client requires PoToken to obtain functional streams, See more details at https://github.com/JuanBindez/pytubefix/pull/209\n",
      "The ANDROID client requires PoToken to obtain functional streams, See more details at https://github.com/JuanBindez/pytubefix/pull/209\n"
     ]
    },
    {
     "name": "stdout",
     "output_type": "stream",
     "text": [
      "Downloading BOLELEBO - LAGU DAERAH NTT | LAGU ANAK INDONESIA...\n"
     ]
    },
    {
     "name": "stderr",
     "output_type": "stream",
     "text": [
      "The ANDROID client requires PoToken to obtain functional streams, See more details at https://github.com/JuanBindez/pytubefix/pull/209\n",
      "The ANDROID client requires PoToken to obtain functional streams, See more details at https://github.com/JuanBindez/pytubefix/pull/209\n"
     ]
    },
    {
     "name": "stdout",
     "output_type": "stream",
     "text": [
      "Downloading Bolelebo...\n"
     ]
    },
    {
     "name": "stderr",
     "output_type": "stream",
     "text": [
      "The ANDROID client requires PoToken to obtain functional streams, See more details at https://github.com/JuanBindez/pytubefix/pull/209\n",
      "The ANDROID client requires PoToken to obtain functional streams, See more details at https://github.com/JuanBindez/pytubefix/pull/209\n"
     ]
    },
    {
     "name": "stdout",
     "output_type": "stream",
     "text": [
      "Downloading TUTU KODA-Lagu Daerah Nusa Tenggara Barat...\n"
     ]
    },
    {
     "name": "stderr",
     "output_type": "stream",
     "text": [
      "The ANDROID client requires PoToken to obtain functional streams, See more details at https://github.com/JuanBindez/pytubefix/pull/209\n",
      "The ANDROID client requires PoToken to obtain functional streams, See more details at https://github.com/JuanBindez/pytubefix/pull/209\n"
     ]
    },
    {
     "name": "stdout",
     "output_type": "stream",
     "text": [
      "Downloading LAGU ANAK TUTU KODA dari NUSA TENGGARA BARAT...\n"
     ]
    },
    {
     "name": "stderr",
     "output_type": "stream",
     "text": [
      "The ANDROID client requires PoToken to obtain functional streams, See more details at https://github.com/JuanBindez/pytubefix/pull/209\n",
      "The ANDROID client requires PoToken to obtain functional streams, See more details at https://github.com/JuanBindez/pytubefix/pull/209\n"
     ]
    },
    {
     "name": "stdout",
     "output_type": "stream",
     "text": [
      "Downloading BOLELEBO - LAGU DAERAH NTT | LAGU ANAK INDONESIA...\n",
      "Duration of GEMU FAMIRE (Maumere) | Lagu Daerah Nusa Tenggara Timur (NTT) | Budaya Indonesia | Dongeng Kita is too long\n"
     ]
    },
    {
     "name": "stderr",
     "output_type": "stream",
     "text": [
      "The ANDROID client requires PoToken to obtain functional streams, See more details at https://github.com/JuanBindez/pytubefix/pull/209\n",
      "The ANDROID client requires PoToken to obtain functional streams, See more details at https://github.com/JuanBindez/pytubefix/pull/209\n"
     ]
    },
    {
     "name": "stdout",
     "output_type": "stream",
     "text": [
      "Downloading Gemu Famire (Lagu Daerah NTT)...\n",
      "Duration of PROFIL PROVINSI NUSA TENGGARA TIMUR is too long\n",
      "Duration of Lagu Daerah Oras Loron Malirin  yang berasal dari Timor, Nusa Tenggara Timur is too long\n"
     ]
    },
    {
     "name": "stderr",
     "output_type": "stream",
     "text": [
      "The ANDROID client requires PoToken to obtain functional streams, See more details at https://github.com/JuanBindez/pytubefix/pull/209\n",
      "The ANDROID client requires PoToken to obtain functional streams, See more details at https://github.com/JuanBindez/pytubefix/pull/209\n"
     ]
    },
    {
     "name": "stdout",
     "output_type": "stream",
     "text": [
      "Downloading Lirik lagu - Oras Loro Malirin...\n"
     ]
    },
    {
     "name": "stderr",
     "output_type": "stream",
     "text": [
      "The ANDROID client requires PoToken to obtain functional streams, See more details at https://github.com/JuanBindez/pytubefix/pull/209\n",
      "The ANDROID client requires PoToken to obtain functional streams, See more details at https://github.com/JuanBindez/pytubefix/pull/209\n"
     ]
    },
    {
     "name": "stdout",
     "output_type": "stream",
     "text": [
      "Downloading ORAS LORO MALIRIN (Official Lyrics dan Terjemahan)...\n"
     ]
    },
    {
     "name": "stderr",
     "output_type": "stream",
     "text": [
      "The ANDROID client requires PoToken to obtain functional streams, See more details at https://github.com/JuanBindez/pytubefix/pull/209\n",
      "The ANDROID client requires PoToken to obtain functional streams, See more details at https://github.com/JuanBindez/pytubefix/pull/209\n"
     ]
    },
    {
     "name": "stdout",
     "output_type": "stream",
     "text": [
      "Downloading LIRIK LAGU SABU 03_DAERAH NTT || ELE MOTO PARA LIRU || TERJEMAHAN LIRIK BAHASA INDONESIA...\n"
     ]
    },
    {
     "name": "stderr",
     "output_type": "stream",
     "text": [
      "The ANDROID client requires PoToken to obtain functional streams, See more details at https://github.com/JuanBindez/pytubefix/pull/209\n",
      "The ANDROID client requires PoToken to obtain functional streams, See more details at https://github.com/JuanBindez/pytubefix/pull/209\n"
     ]
    },
    {
     "name": "stdout",
     "output_type": "stream",
     "text": [
      "Downloading Lagu Ele Moto - Daerah Sabu...\n"
     ]
    },
    {
     "name": "stderr",
     "output_type": "stream",
     "text": [
      "The ANDROID client requires PoToken to obtain functional streams, See more details at https://github.com/JuanBindez/pytubefix/pull/209\n",
      "The ANDROID client requires PoToken to obtain functional streams, See more details at https://github.com/JuanBindez/pytubefix/pull/209\n"
     ]
    },
    {
     "name": "stdout",
     "output_type": "stream",
     "text": [
      "Downloading Ele Moto Para Liru Dody Rony Riwu Kaho...\n"
     ]
    },
    {
     "name": "stderr",
     "output_type": "stream",
     "text": [
      "The ANDROID client requires PoToken to obtain functional streams, See more details at https://github.com/JuanBindez/pytubefix/pull/209\n",
      "The ANDROID client requires PoToken to obtain functional streams, See more details at https://github.com/JuanBindez/pytubefix/pull/209\n"
     ]
    },
    {
     "name": "stdout",
     "output_type": "stream",
     "text": [
      "Downloading LAGU SEDIH ANAK SABU.NTT.😢😢😢BOLE JARU INA TANA YA E...😍😍...\n",
      "Duration of Bole Jaru (NN)#laguSabu#HerryAri#titindoke#popdaerahNTT is too long\n",
      "Duration of Lagu daerah Pulau Sabu - NTT - B'ole jaru.... is too long\n"
     ]
    },
    {
     "name": "stderr",
     "output_type": "stream",
     "text": [
      "The ANDROID client requires PoToken to obtain functional streams, See more details at https://github.com/JuanBindez/pytubefix/pull/209\n",
      "The ANDROID client requires PoToken to obtain functional streams, See more details at https://github.com/JuanBindez/pytubefix/pull/209\n"
     ]
    },
    {
     "name": "stdout",
     "output_type": "stream",
     "text": [
      "Downloading Tarian Ofalangga|Let's Lendo Dance Group|Musik Rote Ndao-NTT...\n"
     ]
    },
    {
     "name": "stderr",
     "output_type": "stream",
     "text": [
      "The ANDROID client requires PoToken to obtain functional streams, See more details at https://github.com/JuanBindez/pytubefix/pull/209\n",
      "The ANDROID client requires PoToken to obtain functional streams, See more details at https://github.com/JuanBindez/pytubefix/pull/209\n"
     ]
    },
    {
     "name": "stdout",
     "output_type": "stream",
     "text": [
      "Downloading Tarian Ofalangga Kreasi siswa SMA SAJ Kupang...\n"
     ]
    },
    {
     "name": "stderr",
     "output_type": "stream",
     "text": [
      "The ANDROID client requires PoToken to obtain functional streams, See more details at https://github.com/JuanBindez/pytubefix/pull/209\n",
      "The ANDROID client requires PoToken to obtain functional streams, See more details at https://github.com/JuanBindez/pytubefix/pull/209\n"
     ]
    },
    {
     "name": "stdout",
     "output_type": "stream",
     "text": [
      "Downloading Tarian Ofa Langga oleh Siswi SMPN 1 Lembor, Manggarai Barat, NTT...\n",
      "Duration of LAGU DAERAH \"NINA NOI\" - P.S. DINAS PARIWISATA DAN EKONOMI KREATIF PROVINSI NTT is too long\n",
      "Duration of PS. SEKRETARIAT DPRD PROVINSI NTT - NINA NOI || LAGU DAERAH TIMOR is too long\n"
     ]
    },
    {
     "name": "stderr",
     "output_type": "stream",
     "text": [
      "The ANDROID client requires PoToken to obtain functional streams, See more details at https://github.com/JuanBindez/pytubefix/pull/209\n",
      "The ANDROID client requires PoToken to obtain functional streams, See more details at https://github.com/JuanBindez/pytubefix/pull/209\n"
     ]
    },
    {
     "name": "stdout",
     "output_type": "stream",
     "text": [
      "Downloading Lagu Nina Noi - Lagu Daerah NTT Dinyanyikan oleh Siswa/i SMAN Webriamata...\n",
      "Duration of KUPANG ASALKU (Tanjung Kurung) || LINE DANCE || KUPANG NTT || CHOREO DENKA NDOLU || is too long\n"
     ]
    },
    {
     "name": "stderr",
     "output_type": "stream",
     "text": [
      "The ANDROID client requires PoToken to obtain functional streams, See more details at https://github.com/JuanBindez/pytubefix/pull/209\n",
      "The ANDROID client requires PoToken to obtain functional streams, See more details at https://github.com/JuanBindez/pytubefix/pull/209\n"
     ]
    },
    {
     "name": "stdout",
     "output_type": "stream",
     "text": [
      "Downloading LAGU TANJUNG KURUNG NTT...\n"
     ]
    },
    {
     "name": "stderr",
     "output_type": "stream",
     "text": [
      "The ANDROID client requires PoToken to obtain functional streams, See more details at https://github.com/JuanBindez/pytubefix/pull/209\n",
      "The ANDROID client requires PoToken to obtain functional streams, See more details at https://github.com/JuanBindez/pytubefix/pull/209\n"
     ]
    },
    {
     "name": "stdout",
     "output_type": "stream",
     "text": [
      "Downloading 02.Tio Fanta Pinem ~ TANJUNG KURUNG. (Lagu Kupang) Baca Deskripsi....\n"
     ]
    },
    {
     "name": "stderr",
     "output_type": "stream",
     "text": [
      "The ANDROID client requires PoToken to obtain functional streams, See more details at https://github.com/JuanBindez/pytubefix/pull/209\n",
      "The ANDROID client requires PoToken to obtain functional streams, See more details at https://github.com/JuanBindez/pytubefix/pull/209\n"
     ]
    },
    {
     "name": "stdout",
     "output_type": "stream",
     "text": [
      "Downloading MAI FALIE,,,RAPER KUPANG...\n"
     ]
    },
    {
     "name": "stderr",
     "output_type": "stream",
     "text": [
      "The ANDROID client requires PoToken to obtain functional streams, See more details at https://github.com/JuanBindez/pytubefix/pull/209\n",
      "The ANDROID client requires PoToken to obtain functional streams, See more details at https://github.com/JuanBindez/pytubefix/pull/209\n"
     ]
    },
    {
     "name": "stdout",
     "output_type": "stream",
     "text": [
      "Downloading MAI FALI E   COVER BY SISWA SISWI SDI SEDEOEN...\n"
     ]
    },
    {
     "name": "stderr",
     "output_type": "stream",
     "text": [
      "The ANDROID client requires PoToken to obtain functional streams, See more details at https://github.com/JuanBindez/pytubefix/pull/209\n",
      "The ANDROID client requires PoToken to obtain functional streams, See more details at https://github.com/JuanBindez/pytubefix/pull/209\n"
     ]
    },
    {
     "name": "stdout",
     "output_type": "stream",
     "text": [
      "Downloading Lagu Daerah Mai Fali E #SMAN 1 ADONARA TENGAH...\n"
     ]
    },
    {
     "name": "stderr",
     "output_type": "stream",
     "text": [
      "The ANDROID client requires PoToken to obtain functional streams, See more details at https://github.com/JuanBindez/pytubefix/pull/209\n",
      "The ANDROID client requires PoToken to obtain functional streams, See more details at https://github.com/JuanBindez/pytubefix/pull/209\n"
     ]
    },
    {
     "name": "stdout",
     "output_type": "stream",
     "text": [
      "Downloading Tebe Onana - Lagu Daerah Nusa Tenggara Timur (dengan Lirik)...\n"
     ]
    },
    {
     "name": "stderr",
     "output_type": "stream",
     "text": [
      "The ANDROID client requires PoToken to obtain functional streams, See more details at https://github.com/JuanBindez/pytubefix/pull/209\n",
      "The ANDROID client requires PoToken to obtain functional streams, See more details at https://github.com/JuanBindez/pytubefix/pull/209\n"
     ]
    },
    {
     "name": "stdout",
     "output_type": "stream",
     "text": [
      "Downloading Tebe O Nana - lagu daerah NTT...\n"
     ]
    },
    {
     "name": "stderr",
     "output_type": "stream",
     "text": [
      "The ANDROID client requires PoToken to obtain functional streams, See more details at https://github.com/JuanBindez/pytubefix/pull/209\n",
      "The ANDROID client requires PoToken to obtain functional streams, See more details at https://github.com/JuanBindez/pytubefix/pull/209\n"
     ]
    },
    {
     "name": "stdout",
     "output_type": "stream",
     "text": [
      "Downloading TEBE ONANA LAGU JADUL NTT...\n"
     ]
    },
    {
     "name": "stderr",
     "output_type": "stream",
     "text": [
      "The ANDROID client requires PoToken to obtain functional streams, See more details at https://github.com/JuanBindez/pytubefix/pull/209\n"
     ]
    },
    {
     "name": "stdout",
     "output_type": "stream",
     "text": [
      "Duration of Mana Lolo Banda - Lagu Daerah NTT (dengan Lirik) is too long\n",
      "Downloading Mana Lolo Banda. Voc. Grace. Improv. music Josh,Epi Embu, Robert EppeD...\n"
     ]
    },
    {
     "name": "stderr",
     "output_type": "stream",
     "text": [
      "The ANDROID client requires PoToken to obtain functional streams, See more details at https://github.com/JuanBindez/pytubefix/pull/209\n",
      "The ANDROID client requires PoToken to obtain functional streams, See more details at https://github.com/JuanBindez/pytubefix/pull/209\n",
      "The ANDROID client requires PoToken to obtain functional streams, See more details at https://github.com/JuanBindez/pytubefix/pull/209\n"
     ]
    },
    {
     "name": "stdout",
     "output_type": "stream",
     "text": [
      "Downloading Mana Lolo Banda Terbaru Versi  Alfred Gare Lagu Daerah Rote \"Mana Lolo Banda\" 2022...\n",
      "Duration of Asal-usul Manusia pertama di Pulau Timor, Nusa Tenggara Timur @arystethun is too long\n"
     ]
    },
    {
     "name": "stderr",
     "output_type": "stream",
     "text": [
      "The ANDROID client requires PoToken to obtain functional streams, See more details at https://github.com/JuanBindez/pytubefix/pull/209\n",
      "The ANDROID client requires PoToken to obtain functional streams, See more details at https://github.com/JuanBindez/pytubefix/pull/209\n"
     ]
    },
    {
     "name": "stdout",
     "output_type": "stream",
     "text": [
      "Downloading Sejarah Nusa Tenggara Timur dan Berbagai Potensi Wisatanya | Tagar...\n"
     ]
    },
    {
     "name": "stderr",
     "output_type": "stream",
     "text": [
      "The ANDROID client requires PoToken to obtain functional streams, See more details at https://github.com/JuanBindez/pytubefix/pull/209\n",
      "The ANDROID client requires PoToken to obtain functional streams, See more details at https://github.com/JuanBindez/pytubefix/pull/209\n"
     ]
    },
    {
     "name": "stdout",
     "output_type": "stream",
     "text": [
      "Downloading Momen Haru Pastor Asal NTT Bertemu Ayahnya yang Terpisah Selama 31 tahun | OneNews Update...\n",
      "Duration of BALE NAGI - Benny Panjaitan | Pop Larantuka, NTT is too long\n",
      "Duration of BALE NAGI - PUTRY PASANEA is too long\n",
      "Duration of BALE NAGI || Lagu Daerah Flores Timur NTT || HendMarkHoka_cover by request is too long\n",
      "Duration of Fali Nusa Lote   Ike Pandie   Pop Daerah NTT is too long\n"
     ]
    },
    {
     "name": "stderr",
     "output_type": "stream",
     "text": [
      "The ANDROID client requires PoToken to obtain functional streams, See more details at https://github.com/JuanBindez/pytubefix/pull/209\n",
      "The ANDROID client requires PoToken to obtain functional streams, See more details at https://github.com/JuanBindez/pytubefix/pull/209\n"
     ]
    },
    {
     "name": "stdout",
     "output_type": "stream",
     "text": [
      "Downloading Nusa Mansuek - Lagu Daerah Rote - NTT | Cover By JUNANTT (Video Lyrics)...\n",
      "Duration of Lagu Daerah Rote || Fali Nusa Lote || Ndolu Official is too long\n"
     ]
    },
    {
     "name": "stderr",
     "output_type": "stream",
     "text": [
      "The ANDROID client requires PoToken to obtain functional streams, See more details at https://github.com/JuanBindez/pytubefix/pull/209\n",
      "The ANDROID client requires PoToken to obtain functional streams, See more details at https://github.com/JuanBindez/pytubefix/pull/209\n"
     ]
    },
    {
     "name": "stdout",
     "output_type": "stream",
     "text": [
      "Downloading PEKI LEWO...\n"
     ]
    },
    {
     "name": "stderr",
     "output_type": "stream",
     "text": [
      "The ANDROID client requires PoToken to obtain functional streams, See more details at https://github.com/JuanBindez/pytubefix/pull/209\n",
      "The ANDROID client requires PoToken to obtain functional streams, See more details at https://github.com/JuanBindez/pytubefix/pull/209\n"
     ]
    },
    {
     "name": "stdout",
     "output_type": "stream",
     "text": [
      "Downloading DENDE REO (ADONARA DOAN KAE) TIKTOK VIRAL || LINE DANCE || KUPANG NTT || CHOREO DENKA NDOLU ||...\n",
      "Duration of LEWORO PIRING SINA (LIRIK + LAGU) is too long\n"
     ]
    },
    {
     "name": "stderr",
     "output_type": "stream",
     "text": [
      "The ANDROID client requires PoToken to obtain functional streams, See more details at https://github.com/JuanBindez/pytubefix/pull/209\n",
      "The ANDROID client requires PoToken to obtain functional streams, See more details at https://github.com/JuanBindez/pytubefix/pull/209\n"
     ]
    },
    {
     "name": "stdout",
     "output_type": "stream",
     "text": [
      "Downloading \" Leworo Piring Sina E\". Improv. Musik oleh Trio Musisi : Josh, Epi Embu Agapitus dan Robert EppeD...\n"
     ]
    },
    {
     "name": "stderr",
     "output_type": "stream",
     "text": [
      "The ANDROID client requires PoToken to obtain functional streams, See more details at https://github.com/JuanBindez/pytubefix/pull/209\n",
      "The ANDROID client requires PoToken to obtain functional streams, See more details at https://github.com/JuanBindez/pytubefix/pull/209\n"
     ]
    },
    {
     "name": "stdout",
     "output_type": "stream",
     "text": [
      "Downloading Lagu Timur terbaru 2022 NTT Bercerita - Black Magic Ft Riana & Chrisno ( Lirik Video )...\n"
     ]
    },
    {
     "name": "stderr",
     "output_type": "stream",
     "text": [
      "The ANDROID client requires PoToken to obtain functional streams, See more details at https://github.com/JuanBindez/pytubefix/pull/209\n",
      "The ANDROID client requires PoToken to obtain functional streams, See more details at https://github.com/JuanBindez/pytubefix/pull/209\n"
     ]
    },
    {
     "name": "stdout",
     "output_type": "stream",
     "text": [
      "Downloading Lewo Ro Piring Sina...\n",
      "Duration of Keliling Kota Kalabahi Alor | Drone footage is too long\n",
      "Duration of Benarkah ini PULAU TERSERAM di INDONESIA?! - Alor, NTT is too long\n",
      "Duration of KALABAHI KOTA KENARI | COVER LAGU DAERAH ALOR NUSA TENGGARA TIMUR SUFIRAH MASANG is too long\n",
      "Duration of Asal-usul Manusia pertama di Pulau Timor, Nusa Tenggara Timur @arystethun is too long\n"
     ]
    },
    {
     "name": "stderr",
     "output_type": "stream",
     "text": [
      "The ANDROID client requires PoToken to obtain functional streams, See more details at https://github.com/JuanBindez/pytubefix/pull/209\n",
      "The ANDROID client requires PoToken to obtain functional streams, See more details at https://github.com/JuanBindez/pytubefix/pull/209\n"
     ]
    },
    {
     "name": "stdout",
     "output_type": "stream",
     "text": [
      "Downloading Sejarah Nusa Tenggara Timur dan Berbagai Potensi Wisatanya | Tagar...\n",
      "Duration of INILAH SUKU-SUKU TERKENAL DI NUSA TENGGARA TIMUR,NTT is too long\n"
     ]
    },
    {
     "name": "stderr",
     "output_type": "stream",
     "text": [
      "The ANDROID client requires PoToken to obtain functional streams, See more details at https://github.com/JuanBindez/pytubefix/pull/209\n",
      "The ANDROID client requires PoToken to obtain functional streams, See more details at https://github.com/JuanBindez/pytubefix/pull/209\n"
     ]
    },
    {
     "name": "stdout",
     "output_type": "stream",
     "text": [
      "Downloading MUNA BUKI x DODAKADO - ELFRIDA MAURE Ft BakawanCoustic Live at Festival Dugong 2022 ||ALOR MUSIKGRAM...\n"
     ]
    },
    {
     "name": "stderr",
     "output_type": "stream",
     "text": [
      "The ANDROID client requires PoToken to obtain functional streams, See more details at https://github.com/JuanBindez/pytubefix/pull/209\n",
      "The ANDROID client requires PoToken to obtain functional streams, See more details at https://github.com/JuanBindez/pytubefix/pull/209\n"
     ]
    },
    {
     "name": "stdout",
     "output_type": "stream",
     "text": [
      "Downloading Lagu daerah Alor, Nusa Tenggara Timur - Muna Buki (Gunung Muna) #familycover #rakat #lagutimur #ntt...\n"
     ]
    },
    {
     "name": "stderr",
     "output_type": "stream",
     "text": [
      "The ANDROID client requires PoToken to obtain functional streams, See more details at https://github.com/JuanBindez/pytubefix/pull/209\n",
      "The ANDROID client requires PoToken to obtain functional streams, See more details at https://github.com/JuanBindez/pytubefix/pull/209\n"
     ]
    },
    {
     "name": "stdout",
     "output_type": "stream",
     "text": [
      "Downloading Do Dakado - Muna Buki ( Cover Lagu Taramiti Tominuku ) Lagu Daerah Kab. Alor...\n"
     ]
    },
    {
     "name": "stderr",
     "output_type": "stream",
     "text": [
      "The ANDROID client requires PoToken to obtain functional streams, See more details at https://github.com/JuanBindez/pytubefix/pull/209\n",
      "The ANDROID client requires PoToken to obtain functional streams, See more details at https://github.com/JuanBindez/pytubefix/pull/209\n"
     ]
    },
    {
     "name": "stdout",
     "output_type": "stream",
     "text": [
      "Downloading KELOMPOK 91 SINJI TENA...\n"
     ]
    },
    {
     "name": "stderr",
     "output_type": "stream",
     "text": [
      "The ANDROID client requires PoToken to obtain functional streams, See more details at https://github.com/JuanBindez/pytubefix/pull/209\n",
      "The ANDROID client requires PoToken to obtain functional streams, See more details at https://github.com/JuanBindez/pytubefix/pull/209\n"
     ]
    },
    {
     "name": "stdout",
     "output_type": "stream",
     "text": [
      "Downloading lagu Alor Sinji Tena...\n",
      "Duration of Sinji Tena & Bala Bo Leko - XII IPS 1 || Kirab Budaya 2023 is too long\n",
      "Duration of Asal-usul Manusia pertama di Pulau Timor, Nusa Tenggara Timur @arystethun is too long\n"
     ]
    },
    {
     "name": "stderr",
     "output_type": "stream",
     "text": [
      "The ANDROID client requires PoToken to obtain functional streams, See more details at https://github.com/JuanBindez/pytubefix/pull/209\n",
      "The ANDROID client requires PoToken to obtain functional streams, See more details at https://github.com/JuanBindez/pytubefix/pull/209\n"
     ]
    },
    {
     "name": "stdout",
     "output_type": "stream",
     "text": [
      "Downloading Sejarah Nusa Tenggara Timur dan Berbagai Potensi Wisatanya | Tagar...\n",
      "Duration of INILAH SUKU-SUKU TERKENAL DI NUSA TENGGARA TIMUR,NTT is too long\n",
      "Duration of GEMU FAMIRE (Maumere) | Lagu Daerah Nusa Tenggara Timur (NTT) | Budaya Indonesia | Dongeng Kita is too long\n"
     ]
    },
    {
     "name": "stderr",
     "output_type": "stream",
     "text": [
      "The ANDROID client requires PoToken to obtain functional streams, See more details at https://github.com/JuanBindez/pytubefix/pull/209\n",
      "The ANDROID client requires PoToken to obtain functional streams, See more details at https://github.com/JuanBindez/pytubefix/pull/209\n"
     ]
    },
    {
     "name": "stdout",
     "output_type": "stream",
     "text": [
      "Downloading Gemu Famire (Lagu Daerah NTT)...\n",
      "Duration of de ROSEN GROUP  -  LAGU2 POP DAERAH NUSA TENGGARA TIMUR VOL. 5 (SIDE A) is too long\n",
      "Duration of GEMU FAMIRE (Maumere) | Lagu Daerah Nusa Tenggara Timur (NTT) | Budaya Indonesia | Dongeng Kita is too long\n"
     ]
    },
    {
     "name": "stderr",
     "output_type": "stream",
     "text": [
      "The ANDROID client requires PoToken to obtain functional streams, See more details at https://github.com/JuanBindez/pytubefix/pull/209\n",
      "The ANDROID client requires PoToken to obtain functional streams, See more details at https://github.com/JuanBindez/pytubefix/pull/209\n"
     ]
    },
    {
     "name": "stdout",
     "output_type": "stream",
     "text": [
      "Downloading Gemu Famire (Lagu Daerah NTT)...\n"
     ]
    },
    {
     "name": "stderr",
     "output_type": "stream",
     "text": [
      "The ANDROID client requires PoToken to obtain functional streams, See more details at https://github.com/JuanBindez/pytubefix/pull/209\n",
      "The ANDROID client requires PoToken to obtain functional streams, See more details at https://github.com/JuanBindez/pytubefix/pull/209\n"
     ]
    },
    {
     "name": "stdout",
     "output_type": "stream",
     "text": [
      "Downloading Sejarah Nusa Tenggara Timur dan Berbagai Potensi Wisatanya | Tagar...\n"
     ]
    },
    {
     "name": "stderr",
     "output_type": "stream",
     "text": [
      "The ANDROID client requires PoToken to obtain functional streams, See more details at https://github.com/JuanBindez/pytubefix/pull/209\n",
      "The ANDROID client requires PoToken to obtain functional streams, See more details at https://github.com/JuanBindez/pytubefix/pull/209\n"
     ]
    },
    {
     "name": "stdout",
     "output_type": "stream",
     "text": [
      "Downloading lagu MANUK RAE LEWO E  -  NTT...\n"
     ]
    },
    {
     "name": "stderr",
     "output_type": "stream",
     "text": [
      "The ANDROID client requires PoToken to obtain functional streams, See more details at https://github.com/JuanBindez/pytubefix/pull/209\n",
      "The ANDROID client requires PoToken to obtain functional streams, See more details at https://github.com/JuanBindez/pytubefix/pull/209\n"
     ]
    },
    {
     "name": "stdout",
     "output_type": "stream",
     "text": [
      "Downloading INA RAE LEWO - Wens Kopong | Cipt. Wens Kopong - Pop Flores Timur, NTT....\n",
      "Duration of GAMBUS ALOR - MANUNG RAE LEWO- SUARA MERDU DARI ALOR NTT ABNG ARIYAT DAN ABNG SADAM is too long\n"
     ]
    },
    {
     "name": "stderr",
     "output_type": "stream",
     "text": [
      "The ANDROID client requires PoToken to obtain functional streams, See more details at https://github.com/JuanBindez/pytubefix/pull/209\n",
      "The ANDROID client requires PoToken to obtain functional streams, See more details at https://github.com/JuanBindez/pytubefix/pull/209\n"
     ]
    },
    {
     "name": "stdout",
     "output_type": "stream",
     "text": [
      "Downloading Kisah ayah selamatkan putranya yang terombang-ambing di laut ❤️❤️...\n",
      "Duration of 29# FILM NTT 2024 : WARISAN is too long\n",
      "Duration of TFR - ORANG NTT Ft. Hasta Hanzo_Elin Heke_Andre TMK & Donal Manuain (Official Music Video) is too long\n"
     ]
    },
    {
     "name": "stderr",
     "output_type": "stream",
     "text": [
      "The ANDROID client requires PoToken to obtain functional streams, See more details at https://github.com/JuanBindez/pytubefix/pull/209\n",
      "The ANDROID client requires PoToken to obtain functional streams, See more details at https://github.com/JuanBindez/pytubefix/pull/209\n"
     ]
    },
    {
     "name": "stdout",
     "output_type": "stream",
     "text": [
      "Downloading Soa mina/Bengu rele kaju. Thomo Siwemole. lagu lawas Ngada....\n"
     ]
    },
    {
     "name": "stderr",
     "output_type": "stream",
     "text": [
      "The ANDROID client requires PoToken to obtain functional streams, See more details at https://github.com/JuanBindez/pytubefix/pull/209\n",
      "The ANDROID client requires PoToken to obtain functional streams, See more details at https://github.com/JuanBindez/pytubefix/pull/209\n"
     ]
    },
    {
     "name": "stdout",
     "output_type": "stream",
     "text": [
      "Downloading \"Bengure Le Kaju\" lagu NTT by the choir of SMP Negeri 1 Bajawa...\n"
     ]
    },
    {
     "name": "stderr",
     "output_type": "stream",
     "text": [
      "The ANDROID client requires PoToken to obtain functional streams, See more details at https://github.com/JuanBindez/pytubefix/pull/209\n",
      "The ANDROID client requires PoToken to obtain functional streams, See more details at https://github.com/JuanBindez/pytubefix/pull/209\n"
     ]
    },
    {
     "name": "stdout",
     "output_type": "stream",
     "text": [
      "Downloading BENGU RELE KAJU - Paduan Suara SMA Katolik Sta. Maria Homba Karipit...\n"
     ]
    },
    {
     "name": "stderr",
     "output_type": "stream",
     "text": [
      "The ANDROID client requires PoToken to obtain functional streams, See more details at https://github.com/JuanBindez/pytubefix/pull/209\n",
      "The ANDROID client requires PoToken to obtain functional streams, See more details at https://github.com/JuanBindez/pytubefix/pull/209\n"
     ]
    },
    {
     "name": "stdout",
     "output_type": "stream",
     "text": [
      "Downloading O Ine Mora Ate-Feat Esthyn Ledo Neto||Mataraga Classic Edition|HQ Audio|...\n"
     ]
    },
    {
     "name": "stderr",
     "output_type": "stream",
     "text": [
      "The ANDROID client requires PoToken to obtain functional streams, See more details at https://github.com/JuanBindez/pytubefix/pull/209\n",
      "The ANDROID client requires PoToken to obtain functional streams, See more details at https://github.com/JuanBindez/pytubefix/pull/209\n"
     ]
    },
    {
     "name": "stdout",
     "output_type": "stream",
     "text": [
      "Downloading O INE MORA ATE: Cipt. NN, Arr. MATARAGA Vocal: Estin Ledoneto...\n"
     ]
    },
    {
     "name": "stderr",
     "output_type": "stream",
     "text": [
      "The ANDROID client requires PoToken to obtain functional streams, See more details at https://github.com/JuanBindez/pytubefix/pull/209\n",
      "The ANDROID client requires PoToken to obtain functional streams, See more details at https://github.com/JuanBindez/pytubefix/pull/209\n"
     ]
    },
    {
     "name": "stdout",
     "output_type": "stream",
     "text": [
      "Downloading LAGU DAERAH BAJAWA SEDIH   O INE MORA ATE...\n"
     ]
    },
    {
     "name": "stderr",
     "output_type": "stream",
     "text": [
      "The ANDROID client requires PoToken to obtain functional streams, See more details at https://github.com/JuanBindez/pytubefix/pull/209\n",
      "The ANDROID client requires PoToken to obtain functional streams, See more details at https://github.com/JuanBindez/pytubefix/pull/209\n"
     ]
    },
    {
     "name": "stdout",
     "output_type": "stream",
     "text": [
      "Downloading Henge’do, Tradisi Cium Hidung Masyarakat Sabu Raijua Nusa Tenggara Timur - EPS 28 #BersamaNewAvanza...\n"
     ]
    },
    {
     "name": "stderr",
     "output_type": "stream",
     "text": [
      "The ANDROID client requires PoToken to obtain functional streams, See more details at https://github.com/JuanBindez/pytubefix/pull/209\n",
      "The ANDROID client requires PoToken to obtain functional streams, See more details at https://github.com/JuanBindez/pytubefix/pull/209\n"
     ]
    },
    {
     "name": "stdout",
     "output_type": "stream",
     "text": [
      "Downloading HENGE'DO TRADISI CIUM HIDUNG ASAL SUKU SABU NUSA TENGGARA TIMUR (NTT)...\n",
      "Duration of Sejarah Hubungan Persaudaraan Suku Sumba (Humba) & Sabu (Hawu) di Pulau Sumba NTT is too long\n"
     ]
    },
    {
     "name": "stderr",
     "output_type": "stream",
     "text": [
      "The ANDROID client requires PoToken to obtain functional streams, See more details at https://github.com/JuanBindez/pytubefix/pull/209\n",
      "The ANDROID client requires PoToken to obtain functional streams, See more details at https://github.com/JuanBindez/pytubefix/pull/209\n"
     ]
    },
    {
     "name": "stdout",
     "output_type": "stream",
     "text": [
      "Downloading \"Aku Retang Bao\" Versi Jazz Big Band Adong😊...\n"
     ]
    },
    {
     "name": "stderr",
     "output_type": "stream",
     "text": [
      "The ANDROID client requires PoToken to obtain functional streams, See more details at https://github.com/JuanBindez/pytubefix/pull/209\n",
      "The ANDROID client requires PoToken to obtain functional streams, See more details at https://github.com/JuanBindez/pytubefix/pull/209\n"
     ]
    },
    {
     "name": "stdout",
     "output_type": "stream",
     "text": [
      "Downloading Cover lagu Daerah Manggarai NTT||Aku retang Bao...\n"
     ]
    },
    {
     "name": "stderr",
     "output_type": "stream",
     "text": [
      "The ANDROID client requires PoToken to obtain functional streams, See more details at https://github.com/JuanBindez/pytubefix/pull/209\n",
      "The ANDROID client requires PoToken to obtain functional streams, See more details at https://github.com/JuanBindez/pytubefix/pull/209\n"
     ]
    },
    {
     "name": "stdout",
     "output_type": "stream",
     "text": [
      "Downloading RENSI AMBANG Ft EKA KRISTIAN ...AKU RETANG BAO.....\n",
      "Duration of 7 DAERAH DI NTT DENGAN BELIS/MAS KAWIN TERMAHAL‼️NUSA TENGGARA TIMUR is too long\n",
      "Duration of \"Oli Gailaru Marada\". Improv Musik oleh Trio Musisi : Josh, Epi Embu Agapitus, Robert EppeD is too long\n",
      "Duration of Juara 1 Film Pendek | Kesenian Tradisional Provinsi Nusa Tenggara Timur | Tahun 2024 is too long\n"
     ]
    },
    {
     "name": "stderr",
     "output_type": "stream",
     "text": [
      "The ANDROID client requires PoToken to obtain functional streams, See more details at https://github.com/JuanBindez/pytubefix/pull/209\n",
      "The ANDROID client requires PoToken to obtain functional streams, See more details at https://github.com/JuanBindez/pytubefix/pull/209\n"
     ]
    },
    {
     "name": "stdout",
     "output_type": "stream",
     "text": [
      "Downloading E Mambo Simbo - Lagu Daerah Papua Barat (dengan Lirik)...\n",
      "Duration of ACEX2022 - SMP LABSCHOOL KEBAYORAN - TIM ARNESSA - TARI E MAMBO SIMBO is too long\n"
     ]
    },
    {
     "name": "stderr",
     "output_type": "stream",
     "text": [
      "The ANDROID client requires PoToken to obtain functional streams, See more details at https://github.com/JuanBindez/pytubefix/pull/209\n",
      "The ANDROID client requires PoToken to obtain functional streams, See more details at https://github.com/JuanBindez/pytubefix/pull/209\n"
     ]
    },
    {
     "name": "stdout",
     "output_type": "stream",
     "text": [
      "Downloading Tari Mambo Simbo - Papua - PAUD...\n"
     ]
    },
    {
     "name": "stderr",
     "output_type": "stream",
     "text": [
      "The ANDROID client requires PoToken to obtain functional streams, See more details at https://github.com/JuanBindez/pytubefix/pull/209\n",
      "The ANDROID client requires PoToken to obtain functional streams, See more details at https://github.com/JuanBindez/pytubefix/pull/209\n"
     ]
    },
    {
     "name": "stdout",
     "output_type": "stream",
     "text": [
      "Downloading Sajojo - Lagu Daerah Papua (dengan Lirik)...\n"
     ]
    },
    {
     "name": "stderr",
     "output_type": "stream",
     "text": [
      "The ANDROID client requires PoToken to obtain functional streams, See more details at https://github.com/JuanBindez/pytubefix/pull/209\n",
      "The ANDROID client requires PoToken to obtain functional streams, See more details at https://github.com/JuanBindez/pytubefix/pull/209\n"
     ]
    },
    {
     "name": "stdout",
     "output_type": "stream",
     "text": [
      "Downloading TARI NUSANTARA | SAJOJO PAPUA...\n"
     ]
    },
    {
     "name": "stderr",
     "output_type": "stream",
     "text": [
      "The ANDROID client requires PoToken to obtain functional streams, See more details at https://github.com/JuanBindez/pytubefix/pull/209\n",
      "The ANDROID client requires PoToken to obtain functional streams, See more details at https://github.com/JuanBindez/pytubefix/pull/209\n"
     ]
    },
    {
     "name": "stdout",
     "output_type": "stream",
     "text": [
      "Downloading SAJOJO (Reggae Version)...\n"
     ]
    },
    {
     "name": "stderr",
     "output_type": "stream",
     "text": [
      "The ANDROID client requires PoToken to obtain functional streams, See more details at https://github.com/JuanBindez/pytubefix/pull/209\n",
      "The ANDROID client requires PoToken to obtain functional streams, See more details at https://github.com/JuanBindez/pytubefix/pull/209\n"
     ]
    },
    {
     "name": "stdout",
     "output_type": "stream",
     "text": [
      "Downloading Tari Kreasi Papua YAMKO RAMBE YAMKO - Mudah Ditiru...\n"
     ]
    },
    {
     "name": "stderr",
     "output_type": "stream",
     "text": [
      "The ANDROID client requires PoToken to obtain functional streams, See more details at https://github.com/JuanBindez/pytubefix/pull/209\n",
      "The ANDROID client requires PoToken to obtain functional streams, See more details at https://github.com/JuanBindez/pytubefix/pull/209\n"
     ]
    },
    {
     "name": "stdout",
     "output_type": "stream",
     "text": [
      "Downloading Yamko Rambe Yamko (Lirik, Vokal, Terjemahan)...\n"
     ]
    },
    {
     "name": "stderr",
     "output_type": "stream",
     "text": [
      "The ANDROID client requires PoToken to obtain functional streams, See more details at https://github.com/JuanBindez/pytubefix/pull/209\n",
      "The ANDROID client requires PoToken to obtain functional streams, See more details at https://github.com/JuanBindez/pytubefix/pull/209\n"
     ]
    },
    {
     "name": "stdout",
     "output_type": "stream",
     "text": [
      "Downloading TARIAN INDONESIA TAMPIL DI JERMAN | Yamko Rambe Yamko Papua...\n"
     ]
    },
    {
     "name": "stderr",
     "output_type": "stream",
     "text": [
      "The ANDROID client requires PoToken to obtain functional streams, See more details at https://github.com/JuanBindez/pytubefix/pull/209\n",
      "The ANDROID client requires PoToken to obtain functional streams, See more details at https://github.com/JuanBindez/pytubefix/pull/209\n"
     ]
    },
    {
     "name": "stdout",
     "output_type": "stream",
     "text": [
      "Downloading Lancang Kuning - Lagu Melayu Riau...\n"
     ]
    },
    {
     "name": "stderr",
     "output_type": "stream",
     "text": [
      "The ANDROID client requires PoToken to obtain functional streams, See more details at https://github.com/JuanBindez/pytubefix/pull/209\n",
      "The ANDROID client requires PoToken to obtain functional streams, See more details at https://github.com/JuanBindez/pytubefix/pull/209\n"
     ]
    },
    {
     "name": "stdout",
     "output_type": "stream",
     "text": [
      "Downloading Lagu Daerah Riau \"Lancang Kuning\" Full Lirik...\n"
     ]
    },
    {
     "name": "stderr",
     "output_type": "stream",
     "text": [
      "The ANDROID client requires PoToken to obtain functional streams, See more details at https://github.com/JuanBindez/pytubefix/pull/209\n",
      "The ANDROID client requires PoToken to obtain functional streams, See more details at https://github.com/JuanBindez/pytubefix/pull/209\n"
     ]
    },
    {
     "name": "stdout",
     "output_type": "stream",
     "text": [
      "Downloading Ria - Lancang Kuning...\n",
      "Duration of Ocu Maantau   YouTube is too long\n"
     ]
    },
    {
     "name": "stderr",
     "output_type": "stream",
     "text": [
      "The ANDROID client requires PoToken to obtain functional streams, See more details at https://github.com/JuanBindez/pytubefix/pull/209\n",
      "The ANDROID client requires PoToken to obtain functional streams, See more details at https://github.com/JuanBindez/pytubefix/pull/209\n"
     ]
    },
    {
     "name": "stdout",
     "output_type": "stream",
     "text": [
      "Downloading OCU YUSRI KADES FT RENI RENITA - MAANTAU JAWUO...\n"
     ]
    },
    {
     "name": "stderr",
     "output_type": "stream",
     "text": [
      "The ANDROID client requires PoToken to obtain functional streams, See more details at https://github.com/JuanBindez/pytubefix/pull/209\n",
      "The ANDROID client requires PoToken to obtain functional streams, See more details at https://github.com/JuanBindez/pytubefix/pull/209\n"
     ]
    },
    {
     "name": "stdout",
     "output_type": "stream",
     "text": [
      "Downloading yusri kades - maantau jawuo...\n"
     ]
    },
    {
     "name": "stderr",
     "output_type": "stream",
     "text": [
      "The ANDROID client requires PoToken to obtain functional streams, See more details at https://github.com/JuanBindez/pytubefix/pull/209\n",
      "The ANDROID client requires PoToken to obtain functional streams, See more details at https://github.com/JuanBindez/pytubefix/pull/209\n"
     ]
    },
    {
     "name": "stdout",
     "output_type": "stream",
     "text": [
      "Downloading Rang Talu - Lagu Daerah Sumatera Barat (Lirik dan Terjemahan)...\n"
     ]
    },
    {
     "name": "stderr",
     "output_type": "stream",
     "text": [
      "The ANDROID client requires PoToken to obtain functional streams, See more details at https://github.com/JuanBindez/pytubefix/pull/209\n",
      "The ANDROID client requires PoToken to obtain functional streams, See more details at https://github.com/JuanBindez/pytubefix/pull/209\n"
     ]
    },
    {
     "name": "stdout",
     "output_type": "stream",
     "text": [
      "Downloading Rang Talu (Riau)...\n"
     ]
    },
    {
     "name": "stderr",
     "output_type": "stream",
     "text": [
      "The ANDROID client requires PoToken to obtain functional streams, See more details at https://github.com/JuanBindez/pytubefix/pull/209\n",
      "The ANDROID client requires PoToken to obtain functional streams, See more details at https://github.com/JuanBindez/pytubefix/pull/209\n"
     ]
    },
    {
     "name": "stdout",
     "output_type": "stream",
     "text": [
      "Downloading LAGU MINANG ~^~ RANG TALU...\n"
     ]
    },
    {
     "name": "stderr",
     "output_type": "stream",
     "text": [
      "The ANDROID client requires PoToken to obtain functional streams, See more details at https://github.com/JuanBindez/pytubefix/pull/209\n",
      "The ANDROID client requires PoToken to obtain functional streams, See more details at https://github.com/JuanBindez/pytubefix/pull/209\n"
     ]
    },
    {
     "name": "stdout",
     "output_type": "stream",
     "text": [
      "Downloading SOLERAM | Lagu Daerah Riau | Budaya Indonesia | Dongeng Kita...\n"
     ]
    },
    {
     "name": "stderr",
     "output_type": "stream",
     "text": [
      "The ANDROID client requires PoToken to obtain functional streams, See more details at https://github.com/JuanBindez/pytubefix/pull/209\n",
      "The ANDROID client requires PoToken to obtain functional streams, See more details at https://github.com/JuanBindez/pytubefix/pull/209\n"
     ]
    },
    {
     "name": "stdout",
     "output_type": "stream",
     "text": [
      "Downloading Lirik Soleram - Lagu Daerah Riau...\n"
     ]
    },
    {
     "name": "stderr",
     "output_type": "stream",
     "text": [
      "The ANDROID client requires PoToken to obtain functional streams, See more details at https://github.com/JuanBindez/pytubefix/pull/209\n",
      "The ANDROID client requires PoToken to obtain functional streams, See more details at https://github.com/JuanBindez/pytubefix/pull/209\n"
     ]
    },
    {
     "name": "stdout",
     "output_type": "stream",
     "text": [
      "Downloading Tari Soleram - Tari Kreasi Daerah Riau - Tari Mudah di Hafal...\n",
      "Duration of IYETH BUSTAMI LAKSMANA RAJA DI LAUT Official Music Video is too long\n"
     ]
    },
    {
     "name": "stderr",
     "output_type": "stream",
     "text": [
      "The ANDROID client requires PoToken to obtain functional streams, See more details at https://github.com/JuanBindez/pytubefix/pull/209\n",
      "The ANDROID client requires PoToken to obtain functional streams, See more details at https://github.com/JuanBindez/pytubefix/pull/209\n"
     ]
    },
    {
     "name": "stdout",
     "output_type": "stream",
     "text": [
      "Downloading Laksmana Raja Di Laut - Iyeth Bustami | Lagu Melayu Pelipur Hati Pelipur Lara [ Lirik ]...\n"
     ]
    },
    {
     "name": "stderr",
     "output_type": "stream",
     "text": [
      "The ANDROID client requires PoToken to obtain functional streams, See more details at https://github.com/JuanBindez/pytubefix/pull/209\n",
      "The ANDROID client requires PoToken to obtain functional streams, See more details at https://github.com/JuanBindez/pytubefix/pull/209\n"
     ]
    },
    {
     "name": "stdout",
     "output_type": "stream",
     "text": [
      "Downloading Tari Zapin Mahasiswi AGH IPB (Laksmana Raja di Laut, Penyanyi: M  Syukur feat Alex Sanderyan)...\n"
     ]
    },
    {
     "name": "stderr",
     "output_type": "stream",
     "text": [
      "The ANDROID client requires PoToken to obtain functional streams, See more details at https://github.com/JuanBindez/pytubefix/pull/209\n",
      "The ANDROID client requires PoToken to obtain functional streams, See more details at https://github.com/JuanBindez/pytubefix/pull/209\n"
     ]
    },
    {
     "name": "stdout",
     "output_type": "stream",
     "text": [
      "Downloading Lagu Pantai Solop HM Rusli Zaenal #solopbeach...\n"
     ]
    },
    {
     "name": "stderr",
     "output_type": "stream",
     "text": [
      "The ANDROID client requires PoToken to obtain functional streams, See more details at https://github.com/JuanBindez/pytubefix/pull/209\n",
      "The ANDROID client requires PoToken to obtain functional streams, See more details at https://github.com/JuanBindez/pytubefix/pull/209\n"
     ]
    },
    {
     "name": "stdout",
     "output_type": "stream",
     "text": [
      "Downloading PANTAI SOLOP_lagu Daerah Tembilahan...\n"
     ]
    },
    {
     "name": "stderr",
     "output_type": "stream",
     "text": [
      "The ANDROID client requires PoToken to obtain functional streams, See more details at https://github.com/JuanBindez/pytubefix/pull/209\n",
      "The ANDROID client requires PoToken to obtain functional streams, See more details at https://github.com/JuanBindez/pytubefix/pull/209\n"
     ]
    },
    {
     "name": "stdout",
     "output_type": "stream",
     "text": [
      "Downloading Lagu Daerah Riau (Tembilahan) \"Pantai Solop\" Full Lirik...\n",
      "Duration of DENDANG PANTUN \"Agar Terang Bawa Bersuluh\" is too long\n"
     ]
    },
    {
     "name": "stderr",
     "output_type": "stream",
     "text": [
      "The ANDROID client requires PoToken to obtain functional streams, See more details at https://github.com/JuanBindez/pytubefix/pull/209\n",
      "The ANDROID client requires PoToken to obtain functional streams, See more details at https://github.com/JuanBindez/pytubefix/pull/209\n"
     ]
    },
    {
     "name": "stdout",
     "output_type": "stream",
     "text": [
      "Downloading Kenapa Provinsi Riau Disebut Bumi Lancang Kuning?...\n"
     ]
    },
    {
     "name": "stderr",
     "output_type": "stream",
     "text": [
      "The ANDROID client requires PoToken to obtain functional streams, See more details at https://github.com/JuanBindez/pytubefix/pull/209\n",
      "The ANDROID client requires PoToken to obtain functional streams, See more details at https://github.com/JuanBindez/pytubefix/pull/209\n"
     ]
    },
    {
     "name": "stdout",
     "output_type": "stream",
     "text": [
      "Downloading Sejarah Terbentuknya Provinsi Riau...\n"
     ]
    },
    {
     "name": "stderr",
     "output_type": "stream",
     "text": [
      "The ANDROID client requires PoToken to obtain functional streams, See more details at https://github.com/JuanBindez/pytubefix/pull/209\n",
      "The ANDROID client requires PoToken to obtain functional streams, See more details at https://github.com/JuanBindez/pytubefix/pull/209\n"
     ]
    },
    {
     "name": "stdout",
     "output_type": "stream",
     "text": [
      "Downloading SOLERAM | Lagu Daerah Riau | Budaya Indonesia | Dongeng Kita...\n"
     ]
    },
    {
     "name": "stderr",
     "output_type": "stream",
     "text": [
      "The ANDROID client requires PoToken to obtain functional streams, See more details at https://github.com/JuanBindez/pytubefix/pull/209\n",
      "The ANDROID client requires PoToken to obtain functional streams, See more details at https://github.com/JuanBindez/pytubefix/pull/209\n"
     ]
    },
    {
     "name": "stdout",
     "output_type": "stream",
     "text": [
      "Downloading Lagu Aku Anak Pulau (Kepulauan Riau) - Tuan Angah (Lirik)...\n",
      "Duration of MERANTAU JAUH-GITAR TUNGGAL SEMENDE (sumatra selatan) is too long\n",
      "Duration of LANGGAM DIPADU VERSI GAZAL. SERI MERSING LAGU MELAYU. Pak Ngah Suhardi S.. Kepulauan Riau is too long\n",
      "Duration of 4 LAGU MERDU MELAYU RIAU -  KEPRI is too long\n",
      "Duration of Full Album Melayu Terbaik Pilihan Dengan Iringan Musik Yang Sedih Menyentuh Hati. is too long\n"
     ]
    },
    {
     "name": "stderr",
     "output_type": "stream",
     "text": [
      "The ANDROID client requires PoToken to obtain functional streams, See more details at https://github.com/JuanBindez/pytubefix/pull/209\n",
      "The ANDROID client requires PoToken to obtain functional streams, See more details at https://github.com/JuanBindez/pytubefix/pull/209\n"
     ]
    },
    {
     "name": "stdout",
     "output_type": "stream",
     "text": [
      "Downloading Lagu Pantai Solop HM Rusli Zaenal #solopbeach...\n"
     ]
    },
    {
     "name": "stderr",
     "output_type": "stream",
     "text": [
      "The ANDROID client requires PoToken to obtain functional streams, See more details at https://github.com/JuanBindez/pytubefix/pull/209\n",
      "The ANDROID client requires PoToken to obtain functional streams, See more details at https://github.com/JuanBindez/pytubefix/pull/209\n"
     ]
    },
    {
     "name": "stdout",
     "output_type": "stream",
     "text": [
      "Downloading Lagu Daerah Riau (Tembilahan) \"Pantai Solop\" Full Lirik...\n"
     ]
    },
    {
     "name": "stderr",
     "output_type": "stream",
     "text": [
      "The ANDROID client requires PoToken to obtain functional streams, See more details at https://github.com/JuanBindez/pytubefix/pull/209\n",
      "The ANDROID client requires PoToken to obtain functional streams, See more details at https://github.com/JuanBindez/pytubefix/pull/209\n"
     ]
    },
    {
     "name": "stdout",
     "output_type": "stream",
     "text": [
      "Downloading PANTAI SOLOP_lagu Daerah Tembilahan...\n",
      "Duration of Ratu Sikumbang - KUTANG BARENDO [Official Music Video] Lagu Minang Remix Terbaru 2019 is too long\n",
      "Duration of KAMPAR LAGU DAERAH KUTANG BARENDO / KUTANG BAGHENDO / EK LOLA is too long\n",
      "Duration of Abik - Eklola Kutang Barendo (ethnic) x hip hop Ft.Putri Azura (Cover) is too long\n",
      "Duration of IYETH BUSTAMI LAKSMANA RAJA DI LAUT Official Music Video is too long\n",
      "Duration of BUKAN MITOS !! INILAH JEJAK LAKSAMANA RAJA DILAUT (JEJAKATA-SEBALIK SYAIR) is too long\n"
     ]
    },
    {
     "name": "stderr",
     "output_type": "stream",
     "text": [
      "The ANDROID client requires PoToken to obtain functional streams, See more details at https://github.com/JuanBindez/pytubefix/pull/209\n",
      "The ANDROID client requires PoToken to obtain functional streams, See more details at https://github.com/JuanBindez/pytubefix/pull/209\n"
     ]
    },
    {
     "name": "stdout",
     "output_type": "stream",
     "text": [
      "Downloading ZAPIN LAKSAMANA RAJA DI LAUT cover by ORKES MELAYU NUANSA IRAMA (ROJER)...\n"
     ]
    },
    {
     "name": "stderr",
     "output_type": "stream",
     "text": [
      "The ANDROID client requires PoToken to obtain functional streams, See more details at https://github.com/JuanBindez/pytubefix/pull/209\n",
      "The ANDROID client requires PoToken to obtain functional streams, See more details at https://github.com/JuanBindez/pytubefix/pull/209\n"
     ]
    },
    {
     "name": "stdout",
     "output_type": "stream",
     "text": [
      "Downloading Kebangkitan Melayu (Pekanbaru, Riau Anthem)...\n"
     ]
    },
    {
     "name": "stderr",
     "output_type": "stream",
     "text": [
      "The ANDROID client requires PoToken to obtain functional streams, See more details at https://github.com/JuanBindez/pytubefix/pull/209\n",
      "The ANDROID client requires PoToken to obtain functional streams, See more details at https://github.com/JuanBindez/pytubefix/pull/209\n"
     ]
    },
    {
     "name": "stdout",
     "output_type": "stream",
     "text": [
      "Downloading Kebangkitan Melayu - Riau Rhythm Chambers Indonesia...\n"
     ]
    },
    {
     "name": "stderr",
     "output_type": "stream",
     "text": [
      "The ANDROID client requires PoToken to obtain functional streams, See more details at https://github.com/JuanBindez/pytubefix/pull/209\n",
      "The ANDROID client requires PoToken to obtain functional streams, See more details at https://github.com/JuanBindez/pytubefix/pull/209\n"
     ]
    },
    {
     "name": "stdout",
     "output_type": "stream",
     "text": [
      "Downloading Kebangkitan Melayu (Pekanbaru, Riau Anthem) | Sekata Official Cover...\n",
      "Duration of 7 TEMPAT WISATA DI BINTAN | WISATA KEPULAUAN RIAU (Kepri) hits dikunjungi is too long\n",
      "Duration of Pulau Bintan - Lagu Daerah Kepulauan Riau (dengan Lirik) is too long\n",
      "Duration of 10 hal terbaik di BINTAN Getaway| Panduan Perjalanan Bintan is too long\n",
      "Duration of Segantang Lada - Lagu Daerah Kepulauan Riau (dengan Lirik) is too long\n"
     ]
    },
    {
     "name": "stderr",
     "output_type": "stream",
     "text": [
      "The ANDROID client requires PoToken to obtain functional streams, See more details at https://github.com/JuanBindez/pytubefix/pull/209\n",
      "The ANDROID client requires PoToken to obtain functional streams, See more details at https://github.com/JuanBindez/pytubefix/pull/209\n"
     ]
    },
    {
     "name": "stdout",
     "output_type": "stream",
     "text": [
      "Downloading SEGANTANG LADA. Album JUNJUNG BUDAYA. PAK NGAH SUHARDI S. CIPT. DAUD KADIR Alm....\n"
     ]
    },
    {
     "name": "stderr",
     "output_type": "stream",
     "text": [
      "The ANDROID client requires PoToken to obtain functional streams, See more details at https://github.com/JuanBindez/pytubefix/pull/209\n",
      "The ANDROID client requires PoToken to obtain functional streams, See more details at https://github.com/JuanBindez/pytubefix/pull/209\n"
     ]
    },
    {
     "name": "stdout",
     "output_type": "stream",
     "text": [
      "Downloading Segantang Lada Lagu Daerah Kepulauan Riau...\n"
     ]
    },
    {
     "name": "stderr",
     "output_type": "stream",
     "text": [
      "The ANDROID client requires PoToken to obtain functional streams, See more details at https://github.com/JuanBindez/pytubefix/pull/209\n",
      "The ANDROID client requires PoToken to obtain functional streams, See more details at https://github.com/JuanBindez/pytubefix/pull/209\n"
     ]
    },
    {
     "name": "stdout",
     "output_type": "stream",
     "text": [
      "Downloading Tambelan 5 Agustus 2023...Kampong Melayu...kampung Kukup .....ramai🛣️...\n",
      "Duration of INDAHNYA PULAU TAMBELAN NEGERI DI ATAS LAUT // SURGANYA PARA PEMANCING MANIA // REVIEW is too long\n"
     ]
    },
    {
     "name": "stderr",
     "output_type": "stream",
     "text": [
      "The ANDROID client requires PoToken to obtain functional streams, See more details at https://github.com/JuanBindez/pytubefix/pull/209\n",
      "The ANDROID client requires PoToken to obtain functional streams, See more details at https://github.com/JuanBindez/pytubefix/pull/209\n"
     ]
    },
    {
     "name": "stdout",
     "output_type": "stream",
     "text": [
      "Downloading TAMBELAN TERCINTA...\n",
      "Duration of YANG MANAKAH M4K4M HANG TUAH YANG ASLI (DI MALAYSIA, DI RIAU ATAU DI PALEMBANG?) is too long\n",
      "Duration of MENELUSURI JEJAK HANG TUAH DI PULAU BINTAN | U-NEWS REPORTASE #EPS111 is too long\n",
      "Duration of IYETH BUSTAMI HANG TUAH Official Music Video is too long\n"
     ]
    },
    {
     "name": "stderr",
     "output_type": "stream",
     "text": [
      "The ANDROID client requires PoToken to obtain functional streams, See more details at https://github.com/JuanBindez/pytubefix/pull/209\n",
      "The ANDROID client requires PoToken to obtain functional streams, See more details at https://github.com/JuanBindez/pytubefix/pull/209\n"
     ]
    },
    {
     "name": "stdout",
     "output_type": "stream",
     "text": [
      "Downloading PERJALANAN MENUJU KAMPUNG HALAMAN || RUMAH, RIAU INDONESIA...\n",
      "Duration of RINDU KAMPUNG HALAMAN,,Lagu terbaru Tembilahan,, Vokal, Rafika Amalia,, Indragiri hilir Riau is too long\n"
     ]
    },
    {
     "name": "stderr",
     "output_type": "stream",
     "text": [
      "The ANDROID client requires PoToken to obtain functional streams, See more details at https://github.com/JuanBindez/pytubefix/pull/209\n",
      "The ANDROID client requires PoToken to obtain functional streams, See more details at https://github.com/JuanBindez/pytubefix/pull/209\n"
     ]
    },
    {
     "name": "stdout",
     "output_type": "stream",
     "text": [
      "Downloading Drs. zulham Djais - Rindu Kampung - ( Official Musik Video )...\n",
      "Duration of SUHARDI S. \"PAK NGAH BALEK (ZAPIN SRI GADING).VOCAL&ARR: PAKSUHARDI NGAH S.GUBAHAN TEJA ALHABD. is too long\n",
      "Duration of ZAPIN PAK NGAH BALIK cover by ORKES MELAYU ROJER (OM. ROJER) ~ ROJER KAJOL is too long\n"
     ]
    },
    {
     "name": "stderr",
     "output_type": "stream",
     "text": [
      "The ANDROID client requires PoToken to obtain functional streams, See more details at https://github.com/JuanBindez/pytubefix/pull/209\n",
      "The ANDROID client requires PoToken to obtain functional streams, See more details at https://github.com/JuanBindez/pytubefix/pull/209\n"
     ]
    },
    {
     "name": "stdout",
     "output_type": "stream",
     "text": [
      "Downloading PAK NGAH BALEK - LP3KD KEPULAUAN RIAU...\n",
      "Duration of Riau Philharmonic Orchestra Zapin Kasih Budi is too long\n"
     ]
    },
    {
     "name": "stderr",
     "output_type": "stream",
     "text": [
      "The ANDROID client requires PoToken to obtain functional streams, See more details at https://github.com/JuanBindez/pytubefix/pull/209\n",
      "The ANDROID client requires PoToken to obtain functional streams, See more details at https://github.com/JuanBindez/pytubefix/pull/209\n"
     ]
    },
    {
     "name": "stdout",
     "output_type": "stream",
     "text": [
      "Downloading Riau Street Musician | Kasih Budi | Live in Sikukeluang...\n",
      "Duration of Zapin Kasih Budi Karaoke S M Salim Melayu Versi Korg PA600 is too long\n",
      "Duration of INDO LOGO lirik ~ ᨕᨗ ᨉᨚ.  ᨒᨚ ᨁᨚ is too long\n",
      "Duration of Indo Logo is too long\n",
      "Duration of Lagu Bugis, Indo Logo - Cover Ananda Putri (dengan teks) is too long\n"
     ]
    },
    {
     "name": "stderr",
     "output_type": "stream",
     "text": [
      "The ANDROID client requires PoToken to obtain functional streams, See more details at https://github.com/JuanBindez/pytubefix/pull/209\n",
      "The ANDROID client requires PoToken to obtain functional streams, See more details at https://github.com/JuanBindez/pytubefix/pull/209\n"
     ]
    },
    {
     "name": "stdout",
     "output_type": "stream",
     "text": [
      "Downloading Ammaciang - Makassar...\n"
     ]
    },
    {
     "name": "stderr",
     "output_type": "stream",
     "text": [
      "The ANDROID client requires PoToken to obtain functional streams, See more details at https://github.com/JuanBindez/pytubefix/pull/209\n",
      "The ANDROID client requires PoToken to obtain functional streams, See more details at https://github.com/JuanBindez/pytubefix/pull/209\n"
     ]
    },
    {
     "name": "stdout",
     "output_type": "stream",
     "text": [
      "Downloading Ammaciang...\n"
     ]
    },
    {
     "name": "stderr",
     "output_type": "stream",
     "text": [
      "The ANDROID client requires PoToken to obtain functional streams, See more details at https://github.com/JuanBindez/pytubefix/pull/209\n",
      "The ANDROID client requires PoToken to obtain functional streams, See more details at https://github.com/JuanBindez/pytubefix/pull/209\n"
     ]
    },
    {
     "name": "stdout",
     "output_type": "stream",
     "text": [
      "Downloading Lagu Makassar \"AMMA CIANG\"...\n"
     ]
    },
    {
     "name": "stderr",
     "output_type": "stream",
     "text": [
      "The ANDROID client requires PoToken to obtain functional streams, See more details at https://github.com/JuanBindez/pytubefix/pull/209\n",
      "The ANDROID client requires PoToken to obtain functional streams, See more details at https://github.com/JuanBindez/pytubefix/pull/209\n"
     ]
    },
    {
     "name": "stdout",
     "output_type": "stream",
     "text": [
      "Downloading Ana'kukang - Makassar...\n"
     ]
    },
    {
     "name": "stderr",
     "output_type": "stream",
     "text": [
      "The ANDROID client requires PoToken to obtain functional streams, See more details at https://github.com/JuanBindez/pytubefix/pull/209\n",
      "The ANDROID client requires PoToken to obtain functional streams, See more details at https://github.com/JuanBindez/pytubefix/pull/209\n"
     ]
    },
    {
     "name": "stdout",
     "output_type": "stream",
     "text": [
      "Downloading Anak kukang Iwan tompo cover Ancha ds lengkap lirik dan artinya...\n",
      "Duration of Anak Kukang / Anak Yang Terbuang lagu makassar is too long\n"
     ]
    },
    {
     "name": "stderr",
     "output_type": "stream",
     "text": [
      "The ANDROID client requires PoToken to obtain functional streams, See more details at https://github.com/JuanBindez/pytubefix/pull/209\n",
      "The ANDROID client requires PoToken to obtain functional streams, See more details at https://github.com/JuanBindez/pytubefix/pull/209\n"
     ]
    },
    {
     "name": "stdout",
     "output_type": "stream",
     "text": [
      "Downloading Batti'-Batti' di Padang, Selayar (Sulawesi Selatan/South Sulawesi)...\n",
      "Duration of 06.Batti' Batti' Selayar - Supriadi Feat  Nur Atika - A' Rayu Rayu' is too long\n",
      "Duration of 05.Batti' Batti' - Supriadi Feat  Nur Atika  - Se're Rua is too long\n",
      "Duration of BULU ALAU'NA TEMPE-DIAN EKAWATY (Lirik) is too long\n",
      "Duration of Bugis Bulu Alauna Tempe # Dian Ekawaty is too long\n",
      "Duration of Bulu'alau'na Tempe is too long\n",
      "Duration of tabuhan gendang Pakarena is too long\n"
     ]
    },
    {
     "name": "stderr",
     "output_type": "stream",
     "text": [
      "The ANDROID client requires PoToken to obtain functional streams, See more details at https://github.com/JuanBindez/pytubefix/pull/209\n",
      "The ANDROID client requires PoToken to obtain functional streams, See more details at https://github.com/JuanBindez/pytubefix/pull/209\n"
     ]
    },
    {
     "name": "stdout",
     "output_type": "stream",
     "text": [
      "Downloading tunrung pakarena dari m dg tayang...\n",
      "Duration of PAKKARENA | PAGANGRANG MAKASSAR | GENDANG MAKASSAR | PART 5 is too long\n",
      "Duration of Tari Kreasi Nusantara - Tari Mappadendang Bugis Makassar is too long\n",
      "Duration of Keren! Tari Mappadendang | Tari Kreasi Sulawesi Selatan | Persembahan Santriwati Putri IMMIM Pangkep is too long\n"
     ]
    },
    {
     "name": "stderr",
     "output_type": "stream",
     "text": [
      "The ANDROID client requires PoToken to obtain functional streams, See more details at https://github.com/JuanBindez/pytubefix/pull/209\n",
      "The ANDROID client requires PoToken to obtain functional streams, See more details at https://github.com/JuanBindez/pytubefix/pull/209\n"
     ]
    },
    {
     "name": "stdout",
     "output_type": "stream",
     "text": [
      "Downloading Idenesia - Mengenal Sejarah Tradisi Mappadendang...\n"
     ]
    },
    {
     "name": "stderr",
     "output_type": "stream",
     "text": [
      "The ANDROID client requires PoToken to obtain functional streams, See more details at https://github.com/JuanBindez/pytubefix/pull/209\n",
      "The ANDROID client requires PoToken to obtain functional streams, See more details at https://github.com/JuanBindez/pytubefix/pull/209\n"
     ]
    },
    {
     "name": "stdout",
     "output_type": "stream",
     "text": [
      "Downloading Ma'Rencong - Rencong - LAGU DAERAH KHAS SULAWESI SELATAN DI PADUKAN DENGAN KECAPI YANG BEGITU ELOK...\n"
     ]
    },
    {
     "name": "stderr",
     "output_type": "stream",
     "text": [
      "The ANDROID client requires PoToken to obtain functional streams, See more details at https://github.com/JuanBindez/pytubefix/pull/209\n",
      "The ANDROID client requires PoToken to obtain functional streams, See more details at https://github.com/JuanBindez/pytubefix/pull/209\n"
     ]
    },
    {
     "name": "stdout",
     "output_type": "stream",
     "text": [
      "Downloading LAGU MAKASSAR - MA'RENCONG RENCONG # ISMAIL WAHID...\n"
     ]
    },
    {
     "name": "stderr",
     "output_type": "stream",
     "text": [
      "The ANDROID client requires PoToken to obtain functional streams, See more details at https://github.com/JuanBindez/pytubefix/pull/209\n",
      "The ANDROID client requires PoToken to obtain functional streams, See more details at https://github.com/JuanBindez/pytubefix/pull/209\n"
     ]
    },
    {
     "name": "stdout",
     "output_type": "stream",
     "text": [
      "Downloading Ma Rencong Rencong (arr. Budi Susanto Yohanes, SSAA arr. Nicholas Rio)...\n"
     ]
    },
    {
     "name": "stderr",
     "output_type": "stream",
     "text": [
      "The ANDROID client requires PoToken to obtain functional streams, See more details at https://github.com/JuanBindez/pytubefix/pull/209\n",
      "The ANDROID client requires PoToken to obtain functional streams, See more details at https://github.com/JuanBindez/pytubefix/pull/209\n"
     ]
    },
    {
     "name": "stdout",
     "output_type": "stream",
     "text": [
      "Downloading Ma'Rencong - Rencong - LAGU DAERAH KHAS SULAWESI SELATAN DI PADUKAN DENGAN KECAPI YANG BEGITU ELOK...\n"
     ]
    },
    {
     "name": "stderr",
     "output_type": "stream",
     "text": [
      "The ANDROID client requires PoToken to obtain functional streams, See more details at https://github.com/JuanBindez/pytubefix/pull/209\n",
      "The ANDROID client requires PoToken to obtain functional streams, See more details at https://github.com/JuanBindez/pytubefix/pull/209\n"
     ]
    },
    {
     "name": "stdout",
     "output_type": "stream",
     "text": [
      "Downloading LAGU MAKASSAR - MA'RENCONG RENCONG # ISMAIL WAHID...\n"
     ]
    },
    {
     "name": "stderr",
     "output_type": "stream",
     "text": [
      "The ANDROID client requires PoToken to obtain functional streams, See more details at https://github.com/JuanBindez/pytubefix/pull/209\n",
      "The ANDROID client requires PoToken to obtain functional streams, See more details at https://github.com/JuanBindez/pytubefix/pull/209\n"
     ]
    },
    {
     "name": "stdout",
     "output_type": "stream",
     "text": [
      "Downloading Gita Swara 46 dan Jasfintara Nababan: Ma Rencong Rencong (Budi Susanto Yohanes)...\n"
     ]
    },
    {
     "name": "stderr",
     "output_type": "stream",
     "text": [
      "The ANDROID client requires PoToken to obtain functional streams, See more details at https://github.com/JuanBindez/pytubefix/pull/209\n",
      "The ANDROID client requires PoToken to obtain functional streams, See more details at https://github.com/JuanBindez/pytubefix/pull/209\n"
     ]
    },
    {
     "name": "stdout",
     "output_type": "stream",
     "text": [
      "Downloading PAKARENA (Lagu Daerah Sulsel) - Ifan Suady Ft Putri Resky - Cover...\n"
     ]
    },
    {
     "name": "stderr",
     "output_type": "stream",
     "text": [
      "The ANDROID client requires PoToken to obtain functional streams, See more details at https://github.com/JuanBindez/pytubefix/pull/209\n",
      "The ANDROID client requires PoToken to obtain functional streams, See more details at https://github.com/JuanBindez/pytubefix/pull/209\n"
     ]
    },
    {
     "name": "stdout",
     "output_type": "stream",
     "text": [
      "Downloading PAKARENA | Lagu Daerah Sulawesi Selatan | Budaya Indonesia | Dongeng Kita...\n"
     ]
    },
    {
     "name": "stderr",
     "output_type": "stream",
     "text": [
      "The ANDROID client requires PoToken to obtain functional streams, See more details at https://github.com/JuanBindez/pytubefix/pull/209\n",
      "The ANDROID client requires PoToken to obtain functional streams, See more details at https://github.com/JuanBindez/pytubefix/pull/209\n"
     ]
    },
    {
     "name": "stdout",
     "output_type": "stream",
     "text": [
      "Downloading Pakarena: Indonesian Court Dance from South Sulawesi [Live in South Sulawesi, Indonesia 1990]...\n"
     ]
    },
    {
     "name": "stderr",
     "output_type": "stream",
     "text": [
      "The ANDROID client requires PoToken to obtain functional streams, See more details at https://github.com/JuanBindez/pytubefix/pull/209\n",
      "The ANDROID client requires PoToken to obtain functional streams, See more details at https://github.com/JuanBindez/pytubefix/pull/209\n"
     ]
    },
    {
     "name": "stdout",
     "output_type": "stream",
     "text": [
      "Downloading Sulawesi pa'rasanganta.Makassar...\n"
     ]
    },
    {
     "name": "stderr",
     "output_type": "stream",
     "text": [
      "The ANDROID client requires PoToken to obtain functional streams, See more details at https://github.com/JuanBindez/pytubefix/pull/209\n",
      "The ANDROID client requires PoToken to obtain functional streams, See more details at https://github.com/JuanBindez/pytubefix/pull/209\n"
     ]
    },
    {
     "name": "stdout",
     "output_type": "stream",
     "text": [
      "Downloading SULAWESI PA'RASANGANTA (Vol.4 10/12) - Losquin Makassar...\n"
     ]
    },
    {
     "name": "stderr",
     "output_type": "stream",
     "text": [
      "The ANDROID client requires PoToken to obtain functional streams, See more details at https://github.com/JuanBindez/pytubefix/pull/209\n",
      "The ANDROID client requires PoToken to obtain functional streams, See more details at https://github.com/JuanBindez/pytubefix/pull/209\n"
     ]
    },
    {
     "name": "stdout",
     "output_type": "stream",
     "text": [
      "Downloading Sulawesi Pa'rasanganta...\n"
     ]
    },
    {
     "name": "stderr",
     "output_type": "stream",
     "text": [
      "The ANDROID client requires PoToken to obtain functional streams, See more details at https://github.com/JuanBindez/pytubefix/pull/209\n",
      "The ANDROID client requires PoToken to obtain functional streams, See more details at https://github.com/JuanBindez/pytubefix/pull/209\n"
     ]
    },
    {
     "name": "stdout",
     "output_type": "stream",
     "text": [
      "Downloading Lirik Lagu Nusantara - Tondok Kadadianku - Sulawesi Tengah...\n"
     ]
    },
    {
     "name": "stderr",
     "output_type": "stream",
     "text": [
      "The ANDROID client requires PoToken to obtain functional streams, See more details at https://github.com/JuanBindez/pytubefix/pull/209\n",
      "The ANDROID client requires PoToken to obtain functional streams, See more details at https://github.com/JuanBindez/pytubefix/pull/209\n"
     ]
    },
    {
     "name": "stdout",
     "output_type": "stream",
     "text": [
      "Downloading Tondok Kadadiangku - Lagu Daerah Sulawesi Selatan (dengan Lirik)...\n"
     ]
    },
    {
     "name": "stderr",
     "output_type": "stream",
     "text": [
      "The ANDROID client requires PoToken to obtain functional streams, See more details at https://github.com/JuanBindez/pytubefix/pull/209\n",
      "The ANDROID client requires PoToken to obtain functional streams, See more details at https://github.com/JuanBindez/pytubefix/pull/209\n"
     ]
    },
    {
     "name": "stdout",
     "output_type": "stream",
     "text": [
      "Downloading Video Lirik Lagu Daerah | Tondok Kadadianku...\n"
     ]
    },
    {
     "name": "stderr",
     "output_type": "stream",
     "text": [
      "The ANDROID client requires PoToken to obtain functional streams, See more details at https://github.com/JuanBindez/pytubefix/pull/209\n",
      "The ANDROID client requires PoToken to obtain functional streams, See more details at https://github.com/JuanBindez/pytubefix/pull/209\n"
     ]
    },
    {
     "name": "stdout",
     "output_type": "stream",
     "text": [
      "Downloading Video Lirik Lagu Daerah | Tope Gugu...\n"
     ]
    },
    {
     "name": "stderr",
     "output_type": "stream",
     "text": [
      "The ANDROID client requires PoToken to obtain functional streams, See more details at https://github.com/JuanBindez/pytubefix/pull/209\n",
      "The ANDROID client requires PoToken to obtain functional streams, See more details at https://github.com/JuanBindez/pytubefix/pull/209\n"
     ]
    },
    {
     "name": "stdout",
     "output_type": "stream",
     "text": [
      "Downloading TOPE GUGU Cover Ihram Hexal Lagu Delonan Anak-anak Bahasa Daerah Kaili Sulawesi Tengah...\n",
      "Duration of Tope Gugu (feat. Zarro Ananta) is too long\n",
      "Duration of Lagu Daerah Sulawesi Tenggara - Peia Tawa Tawa is too long\n"
     ]
    },
    {
     "name": "stderr",
     "output_type": "stream",
     "text": [
      "The ANDROID client requires PoToken to obtain functional streams, See more details at https://github.com/JuanBindez/pytubefix/pull/209\n",
      "The ANDROID client requires PoToken to obtain functional streams, See more details at https://github.com/JuanBindez/pytubefix/pull/209\n"
     ]
    },
    {
     "name": "stdout",
     "output_type": "stream",
     "text": [
      "Downloading PEIA TAWA TAWA INSTRUMENTAL WITH HIGH QUALITY AUDIO - LAGU DAERAH SULAWESI TENGGARA...\n"
     ]
    },
    {
     "name": "stderr",
     "output_type": "stream",
     "text": [
      "The ANDROID client requires PoToken to obtain functional streams, See more details at https://github.com/JuanBindez/pytubefix/pull/209\n",
      "The ANDROID client requires PoToken to obtain functional streams, See more details at https://github.com/JuanBindez/pytubefix/pull/209\n"
     ]
    },
    {
     "name": "stdout",
     "output_type": "stream",
     "text": [
      "Downloading Peia Tawa Tawa (Asal: Sulawesi Tenggara)...\n"
     ]
    },
    {
     "name": "stderr",
     "output_type": "stream",
     "text": [
      "The ANDROID client requires PoToken to obtain functional streams, See more details at https://github.com/JuanBindez/pytubefix/pull/209\n",
      "The ANDROID client requires PoToken to obtain functional streams, See more details at https://github.com/JuanBindez/pytubefix/pull/209\n"
     ]
    },
    {
     "name": "stdout",
     "output_type": "stream",
     "text": [
      "Downloading Tana Wolio - Lagu Daerah Sulawesi Tenggara (dengan Lirik)...\n",
      "Duration of \"Tana Wolio - Leundo Molulo\" Medley, Cover By Dharma Wanita Persatuan BPTD 18 Sultra is too long\n"
     ]
    },
    {
     "name": "stderr",
     "output_type": "stream",
     "text": [
      "The ANDROID client requires PoToken to obtain functional streams, See more details at https://github.com/JuanBindez/pytubefix/pull/209\n",
      "The ANDROID client requires PoToken to obtain functional streams, See more details at https://github.com/JuanBindez/pytubefix/pull/209\n"
     ]
    },
    {
     "name": "stdout",
     "output_type": "stream",
     "text": [
      "Downloading KARAOKE TANA WOLIO/LAGU DAERAH SULAWESI TENGGARA...\n"
     ]
    },
    {
     "name": "stderr",
     "output_type": "stream",
     "text": [
      "The ANDROID client requires PoToken to obtain functional streams, See more details at https://github.com/JuanBindez/pytubefix/pull/209\n",
      "The ANDROID client requires PoToken to obtain functional streams, See more details at https://github.com/JuanBindez/pytubefix/pull/209\n"
     ]
    },
    {
     "name": "stdout",
     "output_type": "stream",
     "text": [
      "Downloading Esa Mokan - Lagu Daerah Sulawesi Utara (Lirik dan Terjemahan)...\n"
     ]
    },
    {
     "name": "stderr",
     "output_type": "stream",
     "text": [
      "The ANDROID client requires PoToken to obtain functional streams, See more details at https://github.com/JuanBindez/pytubefix/pull/209\n",
      "The ANDROID client requires PoToken to obtain functional streams, See more details at https://github.com/JuanBindez/pytubefix/pull/209\n"
     ]
    },
    {
     "name": "stdout",
     "output_type": "stream",
     "text": [
      "Downloading LAGU DAERAH SULAWESI UTARA - Esa Mokan (lirik lagu)...\n"
     ]
    },
    {
     "name": "stderr",
     "output_type": "stream",
     "text": [
      "The ANDROID client requires PoToken to obtain functional streams, See more details at https://github.com/JuanBindez/pytubefix/pull/209\n",
      "The ANDROID client requires PoToken to obtain functional streams, See more details at https://github.com/JuanBindez/pytubefix/pull/209\n"
     ]
    },
    {
     "name": "stdout",
     "output_type": "stream",
     "text": [
      "Downloading Esa Mokan...\n",
      "Duration of GADIS TARUNA (COVER) - YULI YUWONO is too long\n"
     ]
    },
    {
     "name": "stderr",
     "output_type": "stream",
     "text": [
      "The ANDROID client requires PoToken to obtain functional streams, See more details at https://github.com/JuanBindez/pytubefix/pull/209\n",
      "The ANDROID client requires PoToken to obtain functional streams, See more details at https://github.com/JuanBindez/pytubefix/pull/209\n"
     ]
    },
    {
     "name": "stdout",
     "output_type": "stream",
     "text": [
      "Downloading Gadis Taruna (JE Tatengkeng dan Ismail Marzuki) - by Johny Damar...\n"
     ]
    },
    {
     "name": "stderr",
     "output_type": "stream",
     "text": [
      "The ANDROID client requires PoToken to obtain functional streams, See more details at https://github.com/JuanBindez/pytubefix/pull/209\n",
      "The ANDROID client requires PoToken to obtain functional streams, See more details at https://github.com/JuanBindez/pytubefix/pull/209\n"
     ]
    },
    {
     "name": "stdout",
     "output_type": "stream",
     "text": [
      "Downloading GADIS TARUNA - DAMPELOS VG...\n"
     ]
    },
    {
     "name": "stderr",
     "output_type": "stream",
     "text": [
      "The ANDROID client requires PoToken to obtain functional streams, See more details at https://github.com/JuanBindez/pytubefix/pull/209\n",
      "The ANDROID client requires PoToken to obtain functional streams, See more details at https://github.com/JuanBindez/pytubefix/pull/209\n"
     ]
    },
    {
     "name": "stdout",
     "output_type": "stream",
     "text": [
      "Downloading O Ina Ni Keke - Lagu Daerah Sulawesi Utara (Lirik dan Terjemahan)...\n"
     ]
    },
    {
     "name": "stderr",
     "output_type": "stream",
     "text": [
      "The ANDROID client requires PoToken to obtain functional streams, See more details at https://github.com/JuanBindez/pytubefix/pull/209\n",
      "The ANDROID client requires PoToken to obtain functional streams, See more details at https://github.com/JuanBindez/pytubefix/pull/209\n"
     ]
    },
    {
     "name": "stdout",
     "output_type": "stream",
     "text": [
      "Downloading O INA NI KEKE - LAGU DAERAH SULAWESI UTARA...\n"
     ]
    },
    {
     "name": "stderr",
     "output_type": "stream",
     "text": [
      "The ANDROID client requires PoToken to obtain functional streams, See more details at https://github.com/JuanBindez/pytubefix/pull/209\n",
      "The ANDROID client requires PoToken to obtain functional streams, See more details at https://github.com/JuanBindez/pytubefix/pull/209\n"
     ]
    },
    {
     "name": "stdout",
     "output_type": "stream",
     "text": [
      "Downloading Lagu O INA NE KEKE - Lagu Daerah Sulawesi Utara...\n"
     ]
    },
    {
     "name": "stderr",
     "output_type": "stream",
     "text": [
      "The ANDROID client requires PoToken to obtain functional streams, See more details at https://github.com/JuanBindez/pytubefix/pull/209\n",
      "The ANDROID client requires PoToken to obtain functional streams, See more details at https://github.com/JuanBindez/pytubefix/pull/209\n"
     ]
    },
    {
     "name": "stdout",
     "output_type": "stream",
     "text": [
      "Downloading Sipatokaan - Ifan Suady x Putri Reski - Lagu Daerah Sulawesi Utara - Cover...\n"
     ]
    },
    {
     "name": "stderr",
     "output_type": "stream",
     "text": [
      "The ANDROID client requires PoToken to obtain functional streams, See more details at https://github.com/JuanBindez/pytubefix/pull/209\n",
      "The ANDROID client requires PoToken to obtain functional streams, See more details at https://github.com/JuanBindez/pytubefix/pull/209\n"
     ]
    },
    {
     "name": "stdout",
     "output_type": "stream",
     "text": [
      "Downloading SIPATOKAAN | Lagu Daerah Sulawesi Utara | Budaya Indonesia | Dongeng Kita...\n"
     ]
    },
    {
     "name": "stderr",
     "output_type": "stream",
     "text": [
      "The ANDROID client requires PoToken to obtain functional streams, See more details at https://github.com/JuanBindez/pytubefix/pull/209\n",
      "The ANDROID client requires PoToken to obtain functional streams, See more details at https://github.com/JuanBindez/pytubefix/pull/209\n"
     ]
    },
    {
     "name": "stdout",
     "output_type": "stream",
     "text": [
      "Downloading Sipatokaan (Lagu Daerah Sulawesi Utara)...\n"
     ]
    },
    {
     "name": "stderr",
     "output_type": "stream",
     "text": [
      "The ANDROID client requires PoToken to obtain functional streams, See more details at https://github.com/JuanBindez/pytubefix/pull/209\n",
      "The ANDROID client requires PoToken to obtain functional streams, See more details at https://github.com/JuanBindez/pytubefix/pull/209\n"
     ]
    },
    {
     "name": "stdout",
     "output_type": "stream",
     "text": [
      "Downloading Mirna, Herman - Tahanusangkara (Official Musik Video)...\n"
     ]
    },
    {
     "name": "stderr",
     "output_type": "stream",
     "text": [
      "The ANDROID client requires PoToken to obtain functional streams, See more details at https://github.com/JuanBindez/pytubefix/pull/209\n",
      "The ANDROID client requires PoToken to obtain functional streams, See more details at https://github.com/JuanBindez/pytubefix/pull/209\n"
     ]
    },
    {
     "name": "stdout",
     "output_type": "stream",
     "text": [
      "Downloading Mirna & Herman - Tahanusangkara (Official Musik Video)...\n",
      "Duration of Akustik Sangihe - Tahanusangkara by. Faren Yokung is too long\n"
     ]
    },
    {
     "name": "stderr",
     "output_type": "stream",
     "text": [
      "The ANDROID client requires PoToken to obtain functional streams, See more details at https://github.com/JuanBindez/pytubefix/pull/209\n",
      "The ANDROID client requires PoToken to obtain functional streams, See more details at https://github.com/JuanBindez/pytubefix/pull/209\n"
     ]
    },
    {
     "name": "stdout",
     "output_type": "stream",
     "text": [
      "Downloading SIPATOKAAN | Lagu Daerah Sulawesi Utara | Budaya Indonesia | Dongeng Kita...\n"
     ]
    },
    {
     "name": "stderr",
     "output_type": "stream",
     "text": [
      "The ANDROID client requires PoToken to obtain functional streams, See more details at https://github.com/JuanBindez/pytubefix/pull/209\n",
      "The ANDROID client requires PoToken to obtain functional streams, See more details at https://github.com/JuanBindez/pytubefix/pull/209\n"
     ]
    },
    {
     "name": "stdout",
     "output_type": "stream",
     "text": [
      "Downloading Sipatokaan - Ifan Suady x Putri Reski - Lagu Daerah Sulawesi Utara - Cover...\n"
     ]
    },
    {
     "name": "stderr",
     "output_type": "stream",
     "text": [
      "The ANDROID client requires PoToken to obtain functional streams, See more details at https://github.com/JuanBindez/pytubefix/pull/209\n",
      "The ANDROID client requires PoToken to obtain functional streams, See more details at https://github.com/JuanBindez/pytubefix/pull/209\n"
     ]
    },
    {
     "name": "stdout",
     "output_type": "stream",
     "text": [
      "Downloading Veronika Tan, Eks Istri Ahok yang Jadi Panitia Pengarah Natal Nasional 2024 di Sulawesi Utara...\n",
      "Duration of Anak Daro - Lagu Daerah Sumatera Barat (dengan Lirik) is too long\n"
     ]
    },
    {
     "name": "stderr",
     "output_type": "stream",
     "text": [
      "The ANDROID client requires PoToken to obtain functional streams, See more details at https://github.com/JuanBindez/pytubefix/pull/209\n",
      "The ANDROID client requires PoToken to obtain functional streams, See more details at https://github.com/JuanBindez/pytubefix/pull/209\n"
     ]
    },
    {
     "name": "stdout",
     "output_type": "stream",
     "text": [
      "Downloading Pesona adad Minang di arak keliling kampung Bersama Anak Daro & Marapulai...\n"
     ]
    },
    {
     "name": "stderr",
     "output_type": "stream",
     "text": [
      "The ANDROID client requires PoToken to obtain functional streams, See more details at https://github.com/JuanBindez/pytubefix/pull/209\n",
      "The ANDROID client requires PoToken to obtain functional streams, See more details at https://github.com/JuanBindez/pytubefix/pull/209\n"
     ]
    },
    {
     "name": "stdout",
     "output_type": "stream",
     "text": [
      "Downloading Anak Daro   Sumatra Barat...\n"
     ]
    },
    {
     "name": "stderr",
     "output_type": "stream",
     "text": [
      "The ANDROID client requires PoToken to obtain functional streams, See more details at https://github.com/JuanBindez/pytubefix/pull/209\n",
      "The ANDROID client requires PoToken to obtain functional streams, See more details at https://github.com/JuanBindez/pytubefix/pull/209\n"
     ]
    },
    {
     "name": "stdout",
     "output_type": "stream",
     "text": [
      "Downloading Ayam Den Lapeh // Lagu Daerah Sumatra Barat...\n"
     ]
    },
    {
     "name": "stderr",
     "output_type": "stream",
     "text": [
      "The ANDROID client requires PoToken to obtain functional streams, See more details at https://github.com/JuanBindez/pytubefix/pull/209\n",
      "The ANDROID client requires PoToken to obtain functional streams, See more details at https://github.com/JuanBindez/pytubefix/pull/209\n"
     ]
    },
    {
     "name": "stdout",
     "output_type": "stream",
     "text": [
      "Downloading Ria Amelia - Ayam Den Lapeh (Official Video) | Lagu Minang Populer...\n",
      "Duration of Ayam Den Lapeh is too long\n"
     ]
    },
    {
     "name": "stderr",
     "output_type": "stream",
     "text": [
      "The ANDROID client requires PoToken to obtain functional streams, See more details at https://github.com/JuanBindez/pytubefix/pull/209\n",
      "The ANDROID client requires PoToken to obtain functional streams, See more details at https://github.com/JuanBindez/pytubefix/pull/209\n"
     ]
    },
    {
     "name": "stdout",
     "output_type": "stream",
     "text": [
      "Downloading Badindin - Lagu Daerah Sumatera Barat (dengan Lirik)...\n"
     ]
    },
    {
     "name": "stderr",
     "output_type": "stream",
     "text": [
      "The ANDROID client requires PoToken to obtain functional streams, See more details at https://github.com/JuanBindez/pytubefix/pull/209\n",
      "The ANDROID client requires PoToken to obtain functional streams, See more details at https://github.com/JuanBindez/pytubefix/pull/209\n"
     ]
    },
    {
     "name": "stdout",
     "output_type": "stream",
     "text": [
      "Downloading Tari Indang ( Dindin Badindin ) | SD SEKARAN 2 AT UNNES | paramita dny...\n"
     ]
    },
    {
     "name": "stderr",
     "output_type": "stream",
     "text": [
      "The ANDROID client requires PoToken to obtain functional streams, See more details at https://github.com/JuanBindez/pytubefix/pull/209\n",
      "The ANDROID client requires PoToken to obtain functional streams, See more details at https://github.com/JuanBindez/pytubefix/pull/209\n"
     ]
    },
    {
     "name": "stdout",
     "output_type": "stream",
     "text": [
      "Downloading Tari Dindin Badindin Sumatera Barat |Rumah Belajar Mawinsya...\n"
     ]
    },
    {
     "name": "stderr",
     "output_type": "stream",
     "text": [
      "The ANDROID client requires PoToken to obtain functional streams, See more details at https://github.com/JuanBindez/pytubefix/pull/209\n",
      "The ANDROID client requires PoToken to obtain functional streams, See more details at https://github.com/JuanBindez/pytubefix/pull/209\n"
     ]
    },
    {
     "name": "stdout",
     "output_type": "stream",
     "text": [
      "Downloading BAREH SOLOK-Lagu Daerah Kab Solok,Sumatra Barat...\n"
     ]
    },
    {
     "name": "stderr",
     "output_type": "stream",
     "text": [
      "The ANDROID client requires PoToken to obtain functional streams, See more details at https://github.com/JuanBindez/pytubefix/pull/209\n",
      "The ANDROID client requires PoToken to obtain functional streams, See more details at https://github.com/JuanBindez/pytubefix/pull/209\n"
     ]
    },
    {
     "name": "stdout",
     "output_type": "stream",
     "text": [
      "Downloading Ria Amelia - Bareh Solok (Official Video) | Lagu Minang Populer...\n"
     ]
    },
    {
     "name": "stderr",
     "output_type": "stream",
     "text": [
      "The ANDROID client requires PoToken to obtain functional streams, See more details at https://github.com/JuanBindez/pytubefix/pull/209\n",
      "The ANDROID client requires PoToken to obtain functional streams, See more details at https://github.com/JuanBindez/pytubefix/pull/209\n"
     ]
    },
    {
     "name": "stdout",
     "output_type": "stream",
     "text": [
      "Downloading BAREH SOLOK -Lagu Minang|KARAOKE NADA WANITA​⁠ -Female-Cewek-Perempuan@ucokku...\n",
      "Duration of DAYUANG PALINGGAM COVER ALVIS DEVITRA - VIQRIE - FADEL ( DENDANG LAMO ) is too long\n",
      "Duration of SUBARANG PALINGGAM PADANG || Athifa Bubble is too long\n",
      "Duration of DAYUANG PALINGGAM Cover By Alvis Devitra, Viqrie, & Fadel is too long\n"
     ]
    },
    {
     "name": "stderr",
     "output_type": "stream",
     "text": [
      "The ANDROID client requires PoToken to obtain functional streams, See more details at https://github.com/JuanBindez/pytubefix/pull/209\n",
      "The ANDROID client requires PoToken to obtain functional streams, See more details at https://github.com/JuanBindez/pytubefix/pull/209\n"
     ]
    },
    {
     "name": "stdout",
     "output_type": "stream",
     "text": [
      "Downloading SIPAKUGELANG-Lagu Daerah Sumatra Barat...\n"
     ]
    },
    {
     "name": "stderr",
     "output_type": "stream",
     "text": [
      "The ANDROID client requires PoToken to obtain functional streams, See more details at https://github.com/JuanBindez/pytubefix/pull/209\n",
      "The ANDROID client requires PoToken to obtain functional streams, See more details at https://github.com/JuanBindez/pytubefix/pull/209\n"
     ]
    },
    {
     "name": "stdout",
     "output_type": "stream",
     "text": [
      "Downloading Gelang Si Paku Gelang, Sayonara - Lagu Populer Anak Indonesia 2022 (Lirik dan Animasi)...\n"
     ]
    },
    {
     "name": "stderr",
     "output_type": "stream",
     "text": [
      "The ANDROID client requires PoToken to obtain functional streams, See more details at https://github.com/JuanBindez/pytubefix/pull/209\n",
      "The ANDROID client requires PoToken to obtain functional streams, See more details at https://github.com/JuanBindez/pytubefix/pull/209\n"
     ]
    },
    {
     "name": "stdout",
     "output_type": "stream",
     "text": [
      "Downloading Gelang Sipaku Gelang medley Sayonara...\n"
     ]
    },
    {
     "name": "stderr",
     "output_type": "stream",
     "text": [
      "The ANDROID client requires PoToken to obtain functional streams, See more details at https://github.com/JuanBindez/pytubefix/pull/209\n",
      "The ANDROID client requires PoToken to obtain functional streams, See more details at https://github.com/JuanBindez/pytubefix/pull/209\n"
     ]
    },
    {
     "name": "stdout",
     "output_type": "stream",
     "text": [
      "Downloading KA PARAK TINGGA-Lagu Daerah Sumatra Barat...\n"
     ]
    },
    {
     "name": "stderr",
     "output_type": "stream",
     "text": [
      "The ANDROID client requires PoToken to obtain functional streams, See more details at https://github.com/JuanBindez/pytubefix/pull/209\n",
      "The ANDROID client requires PoToken to obtain functional streams, See more details at https://github.com/JuanBindez/pytubefix/pull/209\n"
     ]
    },
    {
     "name": "stdout",
     "output_type": "stream",
     "text": [
      "Downloading LAGU DAERAH SUMATERA BARAT - kaparak tingga (lirik lagu)...\n"
     ]
    },
    {
     "name": "stderr",
     "output_type": "stream",
     "text": [
      "The ANDROID client requires PoToken to obtain functional streams, See more details at https://github.com/JuanBindez/pytubefix/pull/209\n",
      "The ANDROID client requires PoToken to obtain functional streams, See more details at https://github.com/JuanBindez/pytubefix/pull/209\n"
     ]
    },
    {
     "name": "stdout",
     "output_type": "stream",
     "text": [
      "Downloading Kaparak Tingga...\n"
     ]
    },
    {
     "name": "stderr",
     "output_type": "stream",
     "text": [
      "The ANDROID client requires PoToken to obtain functional streams, See more details at https://github.com/JuanBindez/pytubefix/pull/209\n",
      "The ANDROID client requires PoToken to obtain functional streams, See more details at https://github.com/JuanBindez/pytubefix/pull/209\n"
     ]
    },
    {
     "name": "stdout",
     "output_type": "stream",
     "text": [
      "Downloading Kambanglah Bungo - Lagu Daerah Minangkabau (lirik)...\n"
     ]
    },
    {
     "name": "stderr",
     "output_type": "stream",
     "text": [
      "The ANDROID client requires PoToken to obtain functional streams, See more details at https://github.com/JuanBindez/pytubefix/pull/209\n",
      "The ANDROID client requires PoToken to obtain functional streams, See more details at https://github.com/JuanBindez/pytubefix/pull/209\n"
     ]
    },
    {
     "name": "stdout",
     "output_type": "stream",
     "text": [
      "Downloading Kambanglah Bungo - Alan...\n"
     ]
    },
    {
     "name": "stderr",
     "output_type": "stream",
     "text": [
      "The ANDROID client requires PoToken to obtain functional streams, See more details at https://github.com/JuanBindez/pytubefix/pull/209\n",
      "The ANDROID client requires PoToken to obtain functional streams, See more details at https://github.com/JuanBindez/pytubefix/pull/209\n"
     ]
    },
    {
     "name": "stdout",
     "output_type": "stream",
     "text": [
      "Downloading Video Lirik Lagu Daerah | Kambanglah Bungo...\n"
     ]
    },
    {
     "name": "stderr",
     "output_type": "stream",
     "text": [
      "The ANDROID client requires PoToken to obtain functional streams, See more details at https://github.com/JuanBindez/pytubefix/pull/209\n",
      "The ANDROID client requires PoToken to obtain functional streams, See more details at https://github.com/JuanBindez/pytubefix/pull/209\n"
     ]
    },
    {
     "name": "stdout",
     "output_type": "stream",
     "text": [
      "Downloading Kampuang Nan Jauh Dimato - Lagu Daerah Sumatera Barat (Lirik dan Terjemahan)...\n"
     ]
    },
    {
     "name": "stderr",
     "output_type": "stream",
     "text": [
      "The ANDROID client requires PoToken to obtain functional streams, See more details at https://github.com/JuanBindez/pytubefix/pull/209\n",
      "The ANDROID client requires PoToken to obtain functional streams, See more details at https://github.com/JuanBindez/pytubefix/pull/209\n"
     ]
    },
    {
     "name": "stdout",
     "output_type": "stream",
     "text": [
      "Downloading Kampuang Nan Jauah Di Mato | Diva Bernyanyi | Lagu Daerah | Lagu Anak Channel...\n"
     ]
    },
    {
     "name": "stderr",
     "output_type": "stream",
     "text": [
      "The ANDROID client requires PoToken to obtain functional streams, See more details at https://github.com/JuanBindez/pytubefix/pull/209\n",
      "The ANDROID client requires PoToken to obtain functional streams, See more details at https://github.com/JuanBindez/pytubefix/pull/209\n"
     ]
    },
    {
     "name": "stdout",
     "output_type": "stream",
     "text": [
      "Downloading KAMPUANG NAN JAUH DI MATO | LAGU DAERAH SUMATERA BARAT...\n"
     ]
    },
    {
     "name": "stderr",
     "output_type": "stream",
     "text": [
      "The ANDROID client requires PoToken to obtain functional streams, See more details at https://github.com/JuanBindez/pytubefix/pull/209\n",
      "The ANDROID client requires PoToken to obtain functional streams, See more details at https://github.com/JuanBindez/pytubefix/pull/209\n"
     ]
    },
    {
     "name": "stdout",
     "output_type": "stream",
     "text": [
      "Downloading LAGU DAERAH SUMATERA BARAT - kaparak tingga (lirik lagu)...\n"
     ]
    },
    {
     "name": "stderr",
     "output_type": "stream",
     "text": [
      "The ANDROID client requires PoToken to obtain functional streams, See more details at https://github.com/JuanBindez/pytubefix/pull/209\n",
      "The ANDROID client requires PoToken to obtain functional streams, See more details at https://github.com/JuanBindez/pytubefix/pull/209\n"
     ]
    },
    {
     "name": "stdout",
     "output_type": "stream",
     "text": [
      "Downloading Kaparak Tingga...\n"
     ]
    },
    {
     "name": "stderr",
     "output_type": "stream",
     "text": [
      "The ANDROID client requires PoToken to obtain functional streams, See more details at https://github.com/JuanBindez/pytubefix/pull/209\n",
      "The ANDROID client requires PoToken to obtain functional streams, See more details at https://github.com/JuanBindez/pytubefix/pull/209\n"
     ]
    },
    {
     "name": "stdout",
     "output_type": "stream",
     "text": [
      "Downloading KA PARAK TINGGA-Lagu Daerah Sumatra Barat...\n",
      "Duration of Kutang   barendo minang lamo melati is too long\n",
      "Duration of Ratu Sikumbang - KUTANG BARENDO [Official Music Video] Lagu Minang Remix Terbaru 2019 is too long\n"
     ]
    },
    {
     "name": "stderr",
     "output_type": "stream",
     "text": [
      "The ANDROID client requires PoToken to obtain functional streams, See more details at https://github.com/JuanBindez/pytubefix/pull/209\n",
      "The ANDROID client requires PoToken to obtain functional streams, See more details at https://github.com/JuanBindez/pytubefix/pull/209\n"
     ]
    },
    {
     "name": "stdout",
     "output_type": "stream",
     "text": [
      "Downloading Kutang barendo lagu minang...\n"
     ]
    },
    {
     "name": "stderr",
     "output_type": "stream",
     "text": [
      "The ANDROID client requires PoToken to obtain functional streams, See more details at https://github.com/JuanBindez/pytubefix/pull/209\n",
      "The ANDROID client requires PoToken to obtain functional streams, See more details at https://github.com/JuanBindez/pytubefix/pull/209\n"
     ]
    },
    {
     "name": "stdout",
     "output_type": "stream",
     "text": [
      "Downloading Kintani - Laruik Sanjo (Official Video Clip HD)...\n"
     ]
    },
    {
     "name": "stderr",
     "output_type": "stream",
     "text": [
      "The ANDROID client requires PoToken to obtain functional streams, See more details at https://github.com/JuanBindez/pytubefix/pull/209\n",
      "The ANDROID client requires PoToken to obtain functional streams, See more details at https://github.com/JuanBindez/pytubefix/pull/209\n"
     ]
    },
    {
     "name": "stdout",
     "output_type": "stream",
     "text": [
      "Downloading LAH LARUIK SANJO - CHRISTOFFER NELWAN(NUSANTARA BERDENDANG) GUITAR COVER + LIRIK...\n"
     ]
    },
    {
     "name": "stderr",
     "output_type": "stream",
     "text": [
      "The ANDROID client requires PoToken to obtain functional streams, See more details at https://github.com/JuanBindez/pytubefix/pull/209\n",
      "The ANDROID client requires PoToken to obtain functional streams, See more details at https://github.com/JuanBindez/pytubefix/pull/209\n"
     ]
    },
    {
     "name": "stdout",
     "output_type": "stream",
     "text": [
      "Downloading Lah Laruik Sanjo (Sumatera Barat)...\n"
     ]
    },
    {
     "name": "stderr",
     "output_type": "stream",
     "text": [
      "The ANDROID client requires PoToken to obtain functional streams, See more details at https://github.com/JuanBindez/pytubefix/pull/209\n",
      "The ANDROID client requires PoToken to obtain functional streams, See more details at https://github.com/JuanBindez/pytubefix/pull/209\n"
     ]
    },
    {
     "name": "stdout",
     "output_type": "stream",
     "text": [
      "Downloading Mak Inang - Ikke Nurjanah...\n"
     ]
    },
    {
     "name": "stderr",
     "output_type": "stream",
     "text": [
      "The ANDROID client requires PoToken to obtain functional streams, See more details at https://github.com/JuanBindez/pytubefix/pull/209\n",
      "The ANDROID client requires PoToken to obtain functional streams, See more details at https://github.com/JuanBindez/pytubefix/pull/209\n"
     ]
    },
    {
     "name": "stdout",
     "output_type": "stream",
     "text": [
      "Downloading Mak Inang - Ikke Nurjannah (Lirik lagu)...\n",
      "Duration of LAGU JAMBI ~ MAK INANG ~ RADINAL ~  Official Video Music APH Management is too long\n"
     ]
    },
    {
     "name": "stderr",
     "output_type": "stream",
     "text": [
      "The ANDROID client requires PoToken to obtain functional streams, See more details at https://github.com/JuanBindez/pytubefix/pull/209\n"
     ]
    },
    {
     "name": "stdout",
     "output_type": "stream",
     "text": [
      "Duration of Lagu Minang - Renima - Malam Bainai (Official Video Lagu Minang) is too long\n",
      "Downloading Lagu Daerah Minangkabau   Malam Baiko...\n"
     ]
    },
    {
     "name": "stderr",
     "output_type": "stream",
     "text": [
      "The ANDROID client requires PoToken to obtain functional streams, See more details at https://github.com/JuanBindez/pytubefix/pull/209\n"
     ]
    },
    {
     "name": "stdout",
     "output_type": "stream",
     "text": [
      "Duration of Malam Bainai is too long\n"
     ]
    },
    {
     "name": "stderr",
     "output_type": "stream",
     "text": [
      "The ANDROID client requires PoToken to obtain functional streams, See more details at https://github.com/JuanBindez/pytubefix/pull/209\n",
      "The ANDROID client requires PoToken to obtain functional streams, See more details at https://github.com/JuanBindez/pytubefix/pull/209\n"
     ]
    },
    {
     "name": "stdout",
     "output_type": "stream",
     "text": [
      "Downloading SIPAKUGELANG-Lagu Daerah Sumatra Barat...\n"
     ]
    },
    {
     "name": "stderr",
     "output_type": "stream",
     "text": [
      "The ANDROID client requires PoToken to obtain functional streams, See more details at https://github.com/JuanBindez/pytubefix/pull/209\n",
      "The ANDROID client requires PoToken to obtain functional streams, See more details at https://github.com/JuanBindez/pytubefix/pull/209\n"
     ]
    },
    {
     "name": "stdout",
     "output_type": "stream",
     "text": [
      "Downloading Gelang Si Paku Gelang, Sayonara - Lagu Populer Anak Indonesia 2022 (Lirik dan Animasi)...\n"
     ]
    },
    {
     "name": "stderr",
     "output_type": "stream",
     "text": [
      "The ANDROID client requires PoToken to obtain functional streams, See more details at https://github.com/JuanBindez/pytubefix/pull/209\n",
      "The ANDROID client requires PoToken to obtain functional streams, See more details at https://github.com/JuanBindez/pytubefix/pull/209\n"
     ]
    },
    {
     "name": "stdout",
     "output_type": "stream",
     "text": [
      "Downloading CENGKOK | PAKU GELANG SUMATERA BARAT | Cover Wen Simahgoda...\n",
      "Duration of Lagu Minang - Renima - Malam Bainai (Official Video Lagu Minang) is too long\n"
     ]
    },
    {
     "name": "stderr",
     "output_type": "stream",
     "text": [
      "The ANDROID client requires PoToken to obtain functional streams, See more details at https://github.com/JuanBindez/pytubefix/pull/209\n",
      "The ANDROID client requires PoToken to obtain functional streams, See more details at https://github.com/JuanBindez/pytubefix/pull/209\n"
     ]
    },
    {
     "name": "stdout",
     "output_type": "stream",
     "text": [
      "Downloading Malam malam Bainai //Tarian Dari Daerah Padang Sumatera Barat...\n",
      "Duration of Malam Bainai is too long\n"
     ]
    },
    {
     "name": "stderr",
     "output_type": "stream",
     "text": [
      "The ANDROID client requires PoToken to obtain functional streams, See more details at https://github.com/JuanBindez/pytubefix/pull/209\n",
      "The ANDROID client requires PoToken to obtain functional streams, See more details at https://github.com/JuanBindez/pytubefix/pull/209\n"
     ]
    },
    {
     "name": "stdout",
     "output_type": "stream",
     "text": [
      "Downloading DEFRI JULIANT FT PUSPA INDAH - SERINGGIT DUA KUPANG (OFFICIAL MUSIC VIDEO)...\n"
     ]
    },
    {
     "name": "stderr",
     "output_type": "stream",
     "text": [
      "The ANDROID client requires PoToken to obtain functional streams, See more details at https://github.com/JuanBindez/pytubefix/pull/209\n",
      "The ANDROID client requires PoToken to obtain functional streams, See more details at https://github.com/JuanBindez/pytubefix/pull/209\n"
     ]
    },
    {
     "name": "stdout",
     "output_type": "stream",
     "text": [
      "Downloading Seringgit Dua Kupang (Lagu Daerah Sumatera Barat) - Gamelan Sang Saptaswara...\n"
     ]
    },
    {
     "name": "stderr",
     "output_type": "stream",
     "text": [
      "The ANDROID client requires PoToken to obtain functional streams, See more details at https://github.com/JuanBindez/pytubefix/pull/209\n",
      "The ANDROID client requires PoToken to obtain functional streams, See more details at https://github.com/JuanBindez/pytubefix/pull/209\n"
     ]
    },
    {
     "name": "stdout",
     "output_type": "stream",
     "text": [
      "Downloading Duo Diva - Jawa Minang (Official Music Video)...\n"
     ]
    },
    {
     "name": "stderr",
     "output_type": "stream",
     "text": [
      "The ANDROID client requires PoToken to obtain functional streams, See more details at https://github.com/JuanBindez/pytubefix/pull/209\n",
      "The ANDROID client requires PoToken to obtain functional streams, See more details at https://github.com/JuanBindez/pytubefix/pull/209\n"
     ]
    },
    {
     "name": "stdout",
     "output_type": "stream",
     "text": [
      "Downloading Tak Tong Tong - Lagu Daerah Sumatera Barat (Lirik dan Terjemahan)...\n"
     ]
    },
    {
     "name": "stderr",
     "output_type": "stream",
     "text": [
      "The ANDROID client requires PoToken to obtain functional streams, See more details at https://github.com/JuanBindez/pytubefix/pull/209\n",
      "The ANDROID client requires PoToken to obtain functional streams, See more details at https://github.com/JuanBindez/pytubefix/pull/209\n"
     ]
    },
    {
     "name": "stdout",
     "output_type": "stream",
     "text": [
      "Downloading TAK TONG TONG INSTRUMENTAL MINANG (HIGH QUALITY AUDIO) - LAGU DAERAH SUMATERA BARAT...\n",
      "Duration of Tari Tak Tong Tong - Tutorial dan Video Pembelajaran is too long\n"
     ]
    },
    {
     "name": "stderr",
     "output_type": "stream",
     "text": [
      "The ANDROID client requires PoToken to obtain functional streams, See more details at https://github.com/JuanBindez/pytubefix/pull/209\n",
      "The ANDROID client requires PoToken to obtain functional streams, See more details at https://github.com/JuanBindez/pytubefix/pull/209\n"
     ]
    },
    {
     "name": "stdout",
     "output_type": "stream",
     "text": [
      "Downloading Tari Payung || Sumatera Barat...\n"
     ]
    },
    {
     "name": "stderr",
     "output_type": "stream",
     "text": [
      "The ANDROID client requires PoToken to obtain functional streams, See more details at https://github.com/JuanBindez/pytubefix/pull/209\n",
      "The ANDROID client requires PoToken to obtain functional streams, See more details at https://github.com/JuanBindez/pytubefix/pull/209\n"
     ]
    },
    {
     "name": "stdout",
     "output_type": "stream",
     "text": [
      "Downloading Tari Payung Sumatera Barat ( Penampilan dari Siswi SMP Almubarak Kelas 9)...\n",
      "Duration of Tari Payung (Babendi Bendi) - Kosentra Group is too long\n"
     ]
    },
    {
     "name": "stderr",
     "output_type": "stream",
     "text": [
      "The ANDROID client requires PoToken to obtain functional streams, See more details at https://github.com/JuanBindez/pytubefix/pull/209\n",
      "The ANDROID client requires PoToken to obtain functional streams, See more details at https://github.com/JuanBindez/pytubefix/pull/209\n"
     ]
    },
    {
     "name": "stdout",
     "output_type": "stream",
     "text": [
      "Downloading Lagu Daerah Indonesia || Sumatera Selatan || Cuk Mak ilang...\n",
      "Duration of Cuk Mak Ilang - Lagu Daerah Sumatera Selatan (dengan Lirik) is too long\n"
     ]
    },
    {
     "name": "stderr",
     "output_type": "stream",
     "text": [
      "The ANDROID client requires PoToken to obtain functional streams, See more details at https://github.com/JuanBindez/pytubefix/pull/209\n",
      "The ANDROID client requires PoToken to obtain functional streams, See more details at https://github.com/JuanBindez/pytubefix/pull/209\n"
     ]
    },
    {
     "name": "stdout",
     "output_type": "stream",
     "text": [
      "Downloading CUK MAK ILANG - NABILA MAHARANI FT TRI SUAKA (Acoustic)...\n"
     ]
    },
    {
     "name": "stderr",
     "output_type": "stream",
     "text": [
      "The ANDROID client requires PoToken to obtain functional streams, See more details at https://github.com/JuanBindez/pytubefix/pull/209\n",
      "The ANDROID client requires PoToken to obtain functional streams, See more details at https://github.com/JuanBindez/pytubefix/pull/209\n"
     ]
    },
    {
     "name": "stdout",
     "output_type": "stream",
     "text": [
      "Downloading Dek Sangke - Lagu Daerah Sumatera Selatan (Lirik dan Terjemahan)...\n"
     ]
    },
    {
     "name": "stderr",
     "output_type": "stream",
     "text": [
      "The ANDROID client requires PoToken to obtain functional streams, See more details at https://github.com/JuanBindez/pytubefix/pull/209\n",
      "The ANDROID client requires PoToken to obtain functional streams, See more details at https://github.com/JuanBindez/pytubefix/pull/209\n"
     ]
    },
    {
     "name": "stdout",
     "output_type": "stream",
     "text": [
      "Downloading DEK SANGKE - Lagu dan Tari Nusantara - Lagu Anak...\n"
     ]
    },
    {
     "name": "stderr",
     "output_type": "stream",
     "text": [
      "The ANDROID client requires PoToken to obtain functional streams, See more details at https://github.com/JuanBindez/pytubefix/pull/209\n",
      "The ANDROID client requires PoToken to obtain functional streams, See more details at https://github.com/JuanBindez/pytubefix/pull/209\n"
     ]
    },
    {
     "name": "stdout",
     "output_type": "stream",
     "text": [
      "Downloading Vienna Fridiana - Dek Sangke...\n"
     ]
    },
    {
     "name": "stderr",
     "output_type": "stream",
     "text": [
      "The ANDROID client requires PoToken to obtain functional streams, See more details at https://github.com/JuanBindez/pytubefix/pull/209\n",
      "The ANDROID client requires PoToken to obtain functional streams, See more details at https://github.com/JuanBindez/pytubefix/pull/209\n"
     ]
    },
    {
     "name": "stdout",
     "output_type": "stream",
     "text": [
      "Downloading Kebile-bile (Karaoke) Lagu Daerah Sumatera Selatan...\n"
     ]
    },
    {
     "name": "stderr",
     "output_type": "stream",
     "text": [
      "The ANDROID client requires PoToken to obtain functional streams, See more details at https://github.com/JuanBindez/pytubefix/pull/209\n",
      "The ANDROID client requires PoToken to obtain functional streams, See more details at https://github.com/JuanBindez/pytubefix/pull/209\n"
     ]
    },
    {
     "name": "stdout",
     "output_type": "stream",
     "text": [
      "Downloading KABILE BILE - LAGU SUMATERA SELATAN - Lirik di Deskripsi - Musik Indonesia...\n",
      "Duration of Kebile  Bile is too long\n",
      "Duration of Tari Tanggai - Tanggai Dance is too long\n",
      "Duration of Tari Tanggai By Seni Tari IMASFEK UNSRI is too long\n",
      "Duration of Tari Tanggai berasal dari provinsi sumatera selatan.. is too long\n"
     ]
    },
    {
     "name": "stderr",
     "output_type": "stream",
     "text": [
      "The ANDROID client requires PoToken to obtain functional streams, See more details at https://github.com/JuanBindez/pytubefix/pull/209\n",
      "The ANDROID client requires PoToken to obtain functional streams, See more details at https://github.com/JuanBindez/pytubefix/pull/209\n"
     ]
    },
    {
     "name": "stdout",
     "output_type": "stream",
     "text": [
      "Downloading YA SAMAN - LAGU DAERAH SUMATERA SELATAN (DENGAN LIRIK)...\n"
     ]
    },
    {
     "name": "stderr",
     "output_type": "stream",
     "text": [
      "The ANDROID client requires PoToken to obtain functional streams, See more details at https://github.com/JuanBindez/pytubefix/pull/209\n",
      "The ANDROID client requires PoToken to obtain functional streams, See more details at https://github.com/JuanBindez/pytubefix/pull/209\n"
     ]
    },
    {
     "name": "stdout",
     "output_type": "stream",
     "text": [
      "Downloading BAWAIN LAGU ASIK DARI PALEMBANG!! YA SAMAN (COVER) BY TRI SUAKA...\n"
     ]
    },
    {
     "name": "stderr",
     "output_type": "stream",
     "text": [
      "The ANDROID client requires PoToken to obtain functional streams, See more details at https://github.com/JuanBindez/pytubefix/pull/209\n",
      "The ANDROID client requires PoToken to obtain functional streams, See more details at https://github.com/JuanBindez/pytubefix/pull/209\n"
     ]
    },
    {
     "name": "stdout",
     "output_type": "stream",
     "text": [
      "Downloading Ya Saman...\n"
     ]
    },
    {
     "name": "stderr",
     "output_type": "stream",
     "text": [
      "The ANDROID client requires PoToken to obtain functional streams, See more details at https://github.com/JuanBindez/pytubefix/pull/209\n",
      "The ANDROID client requires PoToken to obtain functional streams, See more details at https://github.com/JuanBindez/pytubefix/pull/209\n"
     ]
    },
    {
     "name": "stdout",
     "output_type": "stream",
     "text": [
      "Downloading Butet cover Lirik lagu daerah sumatera utara #butet...\n"
     ]
    },
    {
     "name": "stderr",
     "output_type": "stream",
     "text": [
      "The ANDROID client requires PoToken to obtain functional streams, See more details at https://github.com/JuanBindez/pytubefix/pull/209\n",
      "The ANDROID client requires PoToken to obtain functional streams, See more details at https://github.com/JuanBindez/pytubefix/pull/209\n"
     ]
    },
    {
     "name": "stdout",
     "output_type": "stream",
     "text": [
      "Downloading Butet - Thania (official video)...\n"
     ]
    },
    {
     "name": "stderr",
     "output_type": "stream",
     "text": [
      "The ANDROID client requires PoToken to obtain functional streams, See more details at https://github.com/JuanBindez/pytubefix/pull/209\n",
      "The ANDROID client requires PoToken to obtain functional streams, See more details at https://github.com/JuanBindez/pytubefix/pull/209\n"
     ]
    },
    {
     "name": "stdout",
     "output_type": "stream",
     "text": [
      "Downloading \"BUTET\" July Manurung Lagu perjuangan Tapanuli...\n"
     ]
    },
    {
     "name": "stderr",
     "output_type": "stream",
     "text": [
      "The ANDROID client requires PoToken to obtain functional streams, See more details at https://github.com/JuanBindez/pytubefix/pull/209\n",
      "The ANDROID client requires PoToken to obtain functional streams, See more details at https://github.com/JuanBindez/pytubefix/pull/209\n"
     ]
    },
    {
     "name": "stdout",
     "output_type": "stream",
     "text": [
      "Downloading CIKALA LE PONGPONG Cipt. Daulat Padang ( Official Video ) Style Voice...\n",
      "Duration of Cikala Le Pong Pong - Welcome to Sidikalang is too long\n"
     ]
    },
    {
     "name": "stderr",
     "output_type": "stream",
     "text": [
      "The ANDROID client requires PoToken to obtain functional streams, See more details at https://github.com/JuanBindez/pytubefix/pull/209\n",
      "The ANDROID client requires PoToken to obtain functional streams, See more details at https://github.com/JuanBindez/pytubefix/pull/209\n"
     ]
    },
    {
     "name": "stdout",
     "output_type": "stream",
     "text": [
      "Downloading Cikala le pongpong COVER by: Sidabutar musik tigadolok Cipt: Daulat Padang ❗ LAGU PAKPAK...\n"
     ]
    },
    {
     "name": "stderr",
     "output_type": "stream",
     "text": [
      "The ANDROID client requires PoToken to obtain functional streams, See more details at https://github.com/JuanBindez/pytubefix/pull/209\n",
      "The ANDROID client requires PoToken to obtain functional streams, See more details at https://github.com/JuanBindez/pytubefix/pull/209\n"
     ]
    },
    {
     "name": "stdout",
     "output_type": "stream",
     "text": [
      "Downloading Cindy Pasaribu - Dago Inang Sarge (Official Video Music)...\n"
     ]
    },
    {
     "name": "stderr",
     "output_type": "stream",
     "text": [
      "The ANDROID client requires PoToken to obtain functional streams, See more details at https://github.com/JuanBindez/pytubefix/pull/209\n",
      "The ANDROID client requires PoToken to obtain functional streams, See more details at https://github.com/JuanBindez/pytubefix/pull/209\n"
     ]
    },
    {
     "name": "stdout",
     "output_type": "stream",
     "text": [
      "Downloading Dago Inang Sarge - TRIO MARIHOT             (P'Dhede Ciptamas).wmv...\n"
     ]
    },
    {
     "name": "stderr",
     "output_type": "stream",
     "text": [
      "The ANDROID client requires PoToken to obtain functional streams, See more details at https://github.com/JuanBindez/pytubefix/pull/209\n",
      "The ANDROID client requires PoToken to obtain functional streams, See more details at https://github.com/JuanBindez/pytubefix/pull/209\n"
     ]
    },
    {
     "name": "stdout",
     "output_type": "stream",
     "text": [
      "Downloading Dago Inang Sarge...\n"
     ]
    },
    {
     "name": "stderr",
     "output_type": "stream",
     "text": [
      "The ANDROID client requires PoToken to obtain functional streams, See more details at https://github.com/JuanBindez/pytubefix/pull/209\n",
      "The ANDROID client requires PoToken to obtain functional streams, See more details at https://github.com/JuanBindez/pytubefix/pull/209\n"
     ]
    },
    {
     "name": "stdout",
     "output_type": "stream",
     "text": [
      "Downloading KETA BO. Vokal Lirik dan Arti Terjemahan Lagu Daerah Sumatera Utara. Ciptaan : Nahum Situmorang...\n"
     ]
    },
    {
     "name": "stderr",
     "output_type": "stream",
     "text": [
      "The ANDROID client requires PoToken to obtain functional streams, See more details at https://github.com/JuanBindez/pytubefix/pull/209\n",
      "The ANDROID client requires PoToken to obtain functional streams, See more details at https://github.com/JuanBindez/pytubefix/pull/209\n"
     ]
    },
    {
     "name": "stdout",
     "output_type": "stream",
     "text": [
      "Downloading Ketabo Ketabo~Adilahar Sianipar Ft Nurul Tampubolon(Official Music VideoRMP)#LaguTapselTerbaru...\n"
     ]
    },
    {
     "name": "stderr",
     "output_type": "stream",
     "text": [
      "The ANDROID client requires PoToken to obtain functional streams, See more details at https://github.com/JuanBindez/pytubefix/pull/209\n",
      "The ANDROID client requires PoToken to obtain functional streams, See more details at https://github.com/JuanBindez/pytubefix/pull/209\n"
     ]
    },
    {
     "name": "stdout",
     "output_type": "stream",
     "text": [
      "Downloading Ketabo Ketabo (feat. Cindy Pasaribu)...\n",
      "Duration of LELENG MA HUPAIMA STYLE VOICE is too long\n",
      "Duration of LELENG SAI HUPAIMA is too long\n",
      "Duration of Senada Trio Terbaru | Leleng Sai Hupaima - Cipt. Tilhang Gultom | Mantap Panarik Nai Bah is too long\n"
     ]
    },
    {
     "name": "stderr",
     "output_type": "stream",
     "text": [
      "The ANDROID client requires PoToken to obtain functional streams, See more details at https://github.com/JuanBindez/pytubefix/pull/209\n",
      "The ANDROID client requires PoToken to obtain functional streams, See more details at https://github.com/JuanBindez/pytubefix/pull/209\n"
     ]
    },
    {
     "name": "stdout",
     "output_type": "stream",
     "text": [
      "Downloading Lisoi (Sumatera Utara) - Arr. Fero Aldiansya...\n"
     ]
    },
    {
     "name": "stderr",
     "output_type": "stream",
     "text": [
      "The ANDROID client requires PoToken to obtain functional streams, See more details at https://github.com/JuanBindez/pytubefix/pull/209\n",
      "The ANDROID client requires PoToken to obtain functional streams, See more details at https://github.com/JuanBindez/pytubefix/pull/209\n"
     ]
    },
    {
     "name": "stdout",
     "output_type": "stream",
     "text": [
      "Downloading LISOI - Lagu Daerah Sumatera Utara - batak - Choir...\n"
     ]
    },
    {
     "name": "stderr",
     "output_type": "stream",
     "text": [
      "The ANDROID client requires PoToken to obtain functional streams, See more details at https://github.com/JuanBindez/pytubefix/pull/209\n",
      "The ANDROID client requires PoToken to obtain functional streams, See more details at https://github.com/JuanBindez/pytubefix/pull/209\n"
     ]
    },
    {
     "name": "stdout",
     "output_type": "stream",
     "text": [
      "Downloading Lisoi (Tapanuli) - Arr. Fero Aldiansya S....\n",
      "Duration of MADEKDEK MA GAMBIRI | Suryanto Siregar | Lagu Batak yang hampir TERLUPAKAN is too long\n"
     ]
    },
    {
     "name": "stderr",
     "output_type": "stream",
     "text": [
      "The ANDROID client requires PoToken to obtain functional streams, See more details at https://github.com/JuanBindez/pytubefix/pull/209\n",
      "The ANDROID client requires PoToken to obtain functional streams, See more details at https://github.com/JuanBindez/pytubefix/pull/209\n"
     ]
    },
    {
     "name": "stdout",
     "output_type": "stream",
     "text": [
      "Downloading Madekdek Ma Gambiri - Christine Panjaitan (Lyric Video)...\n"
     ]
    },
    {
     "name": "stderr",
     "output_type": "stream",
     "text": [
      "The ANDROID client requires PoToken to obtain functional streams, See more details at https://github.com/JuanBindez/pytubefix/pull/209\n",
      "The ANDROID client requires PoToken to obtain functional streams, See more details at https://github.com/JuanBindez/pytubefix/pull/209\n"
     ]
    },
    {
     "name": "stdout",
     "output_type": "stream",
     "text": [
      "Downloading Madekdek Ma Gambiri...\n"
     ]
    },
    {
     "name": "stderr",
     "output_type": "stream",
     "text": [
      "The ANDROID client requires PoToken to obtain functional streams, See more details at https://github.com/JuanBindez/pytubefix/pull/209\n",
      "The ANDROID client requires PoToken to obtain functional streams, See more details at https://github.com/JuanBindez/pytubefix/pull/209\n"
     ]
    },
    {
     "name": "stdout",
     "output_type": "stream",
     "text": [
      "Downloading Lagu Mariam Tomong (Tapanuli - Sumatera Utara) + Lirik...\n"
     ]
    },
    {
     "name": "stderr",
     "output_type": "stream",
     "text": [
      "The ANDROID client requires PoToken to obtain functional streams, See more details at https://github.com/JuanBindez/pytubefix/pull/209\n",
      "The ANDROID client requires PoToken to obtain functional streams, See more details at https://github.com/JuanBindez/pytubefix/pull/209\n"
     ]
    },
    {
     "name": "stdout",
     "output_type": "stream",
     "text": [
      "Downloading Lagu mariam tomong (tapanuli)...\n"
     ]
    },
    {
     "name": "stderr",
     "output_type": "stream",
     "text": [
      "The ANDROID client requires PoToken to obtain functional streams, See more details at https://github.com/JuanBindez/pytubefix/pull/209\n",
      "The ANDROID client requires PoToken to obtain functional streams, See more details at https://github.com/JuanBindez/pytubefix/pull/209\n"
     ]
    },
    {
     "name": "stdout",
     "output_type": "stream",
     "text": [
      "Downloading MARIAM TOMONG - Lagu Daerah Tapanuli Sumatera Utara...\n"
     ]
    },
    {
     "name": "stderr",
     "output_type": "stream",
     "text": [
      "The ANDROID client requires PoToken to obtain functional streams, See more details at https://github.com/JuanBindez/pytubefix/pull/209\n",
      "The ANDROID client requires PoToken to obtain functional streams, See more details at https://github.com/JuanBindez/pytubefix/pull/209\n"
     ]
    },
    {
     "name": "stdout",
     "output_type": "stream",
     "text": [
      "Downloading RINTO HARAHAP - NASONANG DO HITA NADUA (Cipt. Nahum Situmorang/1986)...\n"
     ]
    },
    {
     "name": "stderr",
     "output_type": "stream",
     "text": [
      "The ANDROID client requires PoToken to obtain functional streams, See more details at https://github.com/JuanBindez/pytubefix/pull/209\n",
      "The ANDROID client requires PoToken to obtain functional streams, See more details at https://github.com/JuanBindez/pytubefix/pull/209\n"
     ]
    },
    {
     "name": "stdout",
     "output_type": "stream",
     "text": [
      "Downloading Nasonang Do Hita Nadua (feat. Deasy Puspitasari)...\n"
     ]
    },
    {
     "name": "stderr",
     "output_type": "stream",
     "text": [
      "The ANDROID client requires PoToken to obtain functional streams, See more details at https://github.com/JuanBindez/pytubefix/pull/209\n",
      "The ANDROID client requires PoToken to obtain functional streams, See more details at https://github.com/JuanBindez/pytubefix/pull/209\n"
     ]
    },
    {
     "name": "stdout",
     "output_type": "stream",
     "text": [
      "Downloading Na Sonang Do Hita Na Dua - Nahum Situmorang (Covered by MarTinka)...\n",
      "Duration of Medley Lagu Batak (O PIO-SENGKO-SENGKO-TILLO-TILLO) by Asima Gurning ft Juniper Marpaung is too long\n"
     ]
    },
    {
     "name": "stderr",
     "output_type": "stream",
     "text": [
      "The ANDROID client requires PoToken to obtain functional streams, See more details at https://github.com/JuanBindez/pytubefix/pull/209\n",
      "The ANDROID client requires PoToken to obtain functional streams, See more details at https://github.com/JuanBindez/pytubefix/pull/209\n"
     ]
    },
    {
     "name": "stdout",
     "output_type": "stream",
     "text": [
      "Downloading The Bataks Band - O PIO (Cover) | Practice Room Session...\n"
     ]
    },
    {
     "name": "stderr",
     "output_type": "stream",
     "text": [
      "The ANDROID client requires PoToken to obtain functional streams, See more details at https://github.com/JuanBindez/pytubefix/pull/209\n",
      "The ANDROID client requires PoToken to obtain functional streams, See more details at https://github.com/JuanBindez/pytubefix/pull/209\n"
     ]
    },
    {
     "name": "stdout",
     "output_type": "stream",
     "text": [
      "Downloading O Pio...\n"
     ]
    },
    {
     "name": "stderr",
     "output_type": "stream",
     "text": [
      "The ANDROID client requires PoToken to obtain functional streams, See more details at https://github.com/JuanBindez/pytubefix/pull/209\n",
      "The ANDROID client requires PoToken to obtain functional streams, See more details at https://github.com/JuanBindez/pytubefix/pull/209\n"
     ]
    },
    {
     "name": "stdout",
     "output_type": "stream",
     "text": [
      "Downloading Piso Surit - Djaga Depari -  Viky Sianipar - Toba Dream...\n"
     ]
    },
    {
     "name": "stderr",
     "output_type": "stream",
     "text": [
      "The ANDROID client requires PoToken to obtain functional streams, See more details at https://github.com/JuanBindez/pytubefix/pull/209\n",
      "The ANDROID client requires PoToken to obtain functional streams, See more details at https://github.com/JuanBindez/pytubefix/pull/209\n"
     ]
    },
    {
     "name": "stdout",
     "output_type": "stream",
     "text": [
      "Downloading LAGU KARO PISO SURIT NETTY VERA BANGUN MUSIK KULCAPI MANTAP...\n"
     ]
    },
    {
     "name": "stderr",
     "output_type": "stream",
     "text": [
      "The ANDROID client requires PoToken to obtain functional streams, See more details at https://github.com/JuanBindez/pytubefix/pull/209\n",
      "The ANDROID client requires PoToken to obtain functional streams, See more details at https://github.com/JuanBindez/pytubefix/pull/209\n"
     ]
    },
    {
     "name": "stdout",
     "output_type": "stream",
     "text": [
      "Downloading Piso Surit (feat. Mega Sihombing)...\n"
     ]
    },
    {
     "name": "stderr",
     "output_type": "stream",
     "text": [
      "The ANDROID client requires PoToken to obtain functional streams, See more details at https://github.com/JuanBindez/pytubefix/pull/209\n",
      "The ANDROID client requires PoToken to obtain functional streams, See more details at https://github.com/JuanBindez/pytubefix/pull/209\n"
     ]
    },
    {
     "name": "stdout",
     "output_type": "stream",
     "text": [
      "Downloading Rambadia - Lagu Daerah Sumatera Utara (dengan Lirik)...\n"
     ]
    },
    {
     "name": "stderr",
     "output_type": "stream",
     "text": [
      "The ANDROID client requires PoToken to obtain functional streams, See more details at https://github.com/JuanBindez/pytubefix/pull/209\n",
      "The ANDROID client requires PoToken to obtain functional streams, See more details at https://github.com/JuanBindez/pytubefix/pull/209\n"
     ]
    },
    {
     "name": "stdout",
     "output_type": "stream",
     "text": [
      "Downloading Lagu Daerah || Sumatera Utara || Ramba Dia || Indonesia...\n"
     ]
    },
    {
     "name": "stderr",
     "output_type": "stream",
     "text": [
      "The ANDROID client requires PoToken to obtain functional streams, See more details at https://github.com/JuanBindez/pytubefix/pull/209\n",
      "The ANDROID client requires PoToken to obtain functional streams, See more details at https://github.com/JuanBindez/pytubefix/pull/209\n"
     ]
    },
    {
     "name": "stdout",
     "output_type": "stream",
     "text": [
      "Downloading Rambadia...\n"
     ]
    },
    {
     "name": "stderr",
     "output_type": "stream",
     "text": [
      "The ANDROID client requires PoToken to obtain functional streams, See more details at https://github.com/JuanBindez/pytubefix/pull/209\n",
      "The ANDROID client requires PoToken to obtain functional streams, See more details at https://github.com/JuanBindez/pytubefix/pull/209\n"
     ]
    },
    {
     "name": "stdout",
     "output_type": "stream",
     "text": [
      "Downloading Lagu daerah Sumatera Utara (Tapanuli) Say Selamat Ma Sineger versi suara MUPPET...\n"
     ]
    },
    {
     "name": "stderr",
     "output_type": "stream",
     "text": [
      "The ANDROID client requires PoToken to obtain functional streams, See more details at https://github.com/JuanBindez/pytubefix/pull/209\n",
      "The ANDROID client requires PoToken to obtain functional streams, See more details at https://github.com/JuanBindez/pytubefix/pull/209\n"
     ]
    },
    {
     "name": "stdout",
     "output_type": "stream",
     "text": [
      "Downloading Sai selamat ma ●SINEGER-NEGER● [ SIBUAL-BUALI ] Lagu batak zaman dulu cover : Aryanto sidabutar...\n"
     ]
    },
    {
     "name": "stderr",
     "output_type": "stream",
     "text": [
      "The ANDROID client requires PoToken to obtain functional streams, See more details at https://github.com/JuanBindez/pytubefix/pull/209\n",
      "The ANDROID client requires PoToken to obtain functional streams, See more details at https://github.com/JuanBindez/pytubefix/pull/209\n"
     ]
    },
    {
     "name": "stdout",
     "output_type": "stream",
     "text": [
      "Downloading Sineger Neger - Nona Tapilaha (Lagu Batak Terbaru (Official Video Music)...\n"
     ]
    },
    {
     "name": "stderr",
     "output_type": "stream",
     "text": [
      "The ANDROID client requires PoToken to obtain functional streams, See more details at https://github.com/JuanBindez/pytubefix/pull/209\n",
      "The ANDROID client requires PoToken to obtain functional streams, See more details at https://github.com/JuanBindez/pytubefix/pull/209\n"
     ]
    },
    {
     "name": "stdout",
     "output_type": "stream",
     "text": [
      "Downloading Sengko - Sengko Arr. Mangaratua Simanjuntak II Lagu Batak II Folklore II @SICF 2018...\n"
     ]
    },
    {
     "name": "stderr",
     "output_type": "stream",
     "text": [
      "The ANDROID client requires PoToken to obtain functional streams, See more details at https://github.com/JuanBindez/pytubefix/pull/209\n",
      "The ANDROID client requires PoToken to obtain functional streams, See more details at https://github.com/JuanBindez/pytubefix/pull/209\n"
     ]
    },
    {
     "name": "stdout",
     "output_type": "stream",
     "text": [
      "Downloading SENGKO SENGKO-Lagu Daerah Sumatra Utara...\n",
      "Duration of Grup SD : Tarian Sengko Sengko Dainang is too long\n"
     ]
    },
    {
     "name": "stderr",
     "output_type": "stream",
     "text": [
      "The ANDROID client requires PoToken to obtain functional streams, See more details at https://github.com/JuanBindez/pytubefix/pull/209\n",
      "The ANDROID client requires PoToken to obtain functional streams, See more details at https://github.com/JuanBindez/pytubefix/pull/209\n"
     ]
    },
    {
     "name": "stdout",
     "output_type": "stream",
     "text": [
      "Downloading Tari Sigulempong, Sumatera Utara - Sanggar Tari Sriwedari - Indonesian Traditional Dance...\n"
     ]
    },
    {
     "name": "stderr",
     "output_type": "stream",
     "text": [
      "The ANDROID client requires PoToken to obtain functional streams, See more details at https://github.com/JuanBindez/pytubefix/pull/209\n",
      "The ANDROID client requires PoToken to obtain functional streams, See more details at https://github.com/JuanBindez/pytubefix/pull/209\n"
     ]
    },
    {
     "name": "stdout",
     "output_type": "stream",
     "text": [
      "Downloading Tari Sigulempong  x Tak tong tong by Sensasi 💃🏻✨...\n"
     ]
    },
    {
     "name": "stderr",
     "output_type": "stream",
     "text": [
      "The ANDROID client requires PoToken to obtain functional streams, See more details at https://github.com/JuanBindez/pytubefix/pull/209\n",
      "The ANDROID client requires PoToken to obtain functional streams, See more details at https://github.com/JuanBindez/pytubefix/pull/209\n"
     ]
    },
    {
     "name": "stdout",
     "output_type": "stream",
     "text": [
      "Downloading Sigulempong...\n"
     ]
    },
    {
     "name": "stderr",
     "output_type": "stream",
     "text": [
      "The ANDROID client requires PoToken to obtain functional streams, See more details at https://github.com/JuanBindez/pytubefix/pull/209\n",
      "The ANDROID client requires PoToken to obtain functional streams, See more details at https://github.com/JuanBindez/pytubefix/pull/209\n"
     ]
    },
    {
     "name": "stdout",
     "output_type": "stream",
     "text": [
      "Downloading Sik Sik Sibatumanikam - Lagu Daerah Sumatera Utara (dengan Lirik)...\n"
     ]
    },
    {
     "name": "stderr",
     "output_type": "stream",
     "text": [
      "The ANDROID client requires PoToken to obtain functional streams, See more details at https://github.com/JuanBindez/pytubefix/pull/209\n",
      "The ANDROID client requires PoToken to obtain functional streams, See more details at https://github.com/JuanBindez/pytubefix/pull/209\n"
     ]
    },
    {
     "name": "stdout",
     "output_type": "stream",
     "text": [
      "Downloading Consolatio Choir Universitas Sumatera Utara: Siksik si batu manikkam, ICCC MARKTOBERDORF 2017...\n"
     ]
    },
    {
     "name": "stderr",
     "output_type": "stream",
     "text": [
      "The ANDROID client requires PoToken to obtain functional streams, See more details at https://github.com/JuanBindez/pytubefix/pull/209\n",
      "The ANDROID client requires PoToken to obtain functional streams, See more details at https://github.com/JuanBindez/pytubefix/pull/209\n"
     ]
    },
    {
     "name": "stdout",
     "output_type": "stream",
     "text": [
      "Downloading Sik Sik Batumanikam...\n"
     ]
    },
    {
     "name": "stderr",
     "output_type": "stream",
     "text": [
      "The ANDROID client requires PoToken to obtain functional streams, See more details at https://github.com/JuanBindez/pytubefix/pull/209\n",
      "The ANDROID client requires PoToken to obtain functional streams, See more details at https://github.com/JuanBindez/pytubefix/pull/209\n"
     ]
    },
    {
     "name": "stdout",
     "output_type": "stream",
     "text": [
      "Downloading Tari SINANGGAR TULO - Persembahan PIKA PILOG pada acara puncak HUT PIKA PI Group Ke-5 tahun 2021...\n"
     ]
    },
    {
     "name": "stderr",
     "output_type": "stream",
     "text": [
      "The ANDROID client requires PoToken to obtain functional streams, See more details at https://github.com/JuanBindez/pytubefix/pull/209\n",
      "The ANDROID client requires PoToken to obtain functional streams, See more details at https://github.com/JuanBindez/pytubefix/pull/209\n"
     ]
    },
    {
     "name": "stdout",
     "output_type": "stream",
     "text": [
      "Downloading SINANGGAR TULLO | Lagu Daerah Sumatera Utara | Budaya Indonesia | Dongeng Kita...\n",
      "Duration of Titin Ginting - Sinanggar Tullo (Official Music Video) is too long\n",
      "Duration of PUNXGOARAN - SING SING SO (official video) is too long\n",
      "Duration of SING SING SO is too long\n"
     ]
    },
    {
     "name": "stderr",
     "output_type": "stream",
     "text": [
      "The ANDROID client requires PoToken to obtain functional streams, See more details at https://github.com/JuanBindez/pytubefix/pull/209\n",
      "The ANDROID client requires PoToken to obtain functional streams, See more details at https://github.com/JuanBindez/pytubefix/pull/209\n"
     ]
    },
    {
     "name": "stdout",
     "output_type": "stream",
     "text": [
      "Downloading Sing sing so, lirik_dan_terjemahan_bahasa_indonesia...\n"
     ]
    },
    {
     "name": "stderr",
     "output_type": "stream",
     "text": [
      "The ANDROID client requires PoToken to obtain functional streams, See more details at https://github.com/JuanBindez/pytubefix/pull/209\n",
      "The ANDROID client requires PoToken to obtain functional streams, See more details at https://github.com/JuanBindez/pytubefix/pull/209\n"
     ]
    },
    {
     "name": "stdout",
     "output_type": "stream",
     "text": [
      "Downloading SITARA TILLO. Instrumental Lirik Batak & Arti Lagu Sumatera Utara. Arr Music: VJ Raja Oloan...\n",
      "Duration of Sitara Tillo - UP Star Band Employee Gathering PLN UIW Sumatera Utara 2019 is too long\n"
     ]
    },
    {
     "name": "stderr",
     "output_type": "stream",
     "text": [
      "The ANDROID client requires PoToken to obtain functional streams, See more details at https://github.com/JuanBindez/pytubefix/pull/209\n",
      "The ANDROID client requires PoToken to obtain functional streams, See more details at https://github.com/JuanBindez/pytubefix/pull/209\n"
     ]
    },
    {
     "name": "stdout",
     "output_type": "stream",
     "text": [
      "Downloading Viky Sianipar  Ft. Alsant Nababan - Sitara Tilo (Official Lyrics Video)...\n"
     ]
    },
    {
     "name": "stderr",
     "output_type": "stream",
     "text": [
      "The ANDROID client requires PoToken to obtain functional streams, See more details at https://github.com/JuanBindez/pytubefix/pull/209\n",
      "The ANDROID client requires PoToken to obtain functional streams, See more details at https://github.com/JuanBindez/pytubefix/pull/209\n"
     ]
    },
    {
     "name": "stdout",
     "output_type": "stream",
     "text": [
      "Downloading Alusi Au - Lagu Daerah Sumatera Utara (Lirik dan Terjemahan)...\n"
     ]
    },
    {
     "name": "stderr",
     "output_type": "stream",
     "text": [
      "The ANDROID client requires PoToken to obtain functional streams, See more details at https://github.com/JuanBindez/pytubefix/pull/209\n",
      "The ANDROID client requires PoToken to obtain functional streams, See more details at https://github.com/JuanBindez/pytubefix/pull/209\n"
     ]
    },
    {
     "name": "stdout",
     "output_type": "stream",
     "text": [
      "Downloading sori ya katulla - lofi cover...\n",
      "Duration of ILU NI ANAK SIANGKANGAN  ( Official Video ) STYLE VOICE is too long\n",
      "Duration of Sejarah singkat TARUTUNG | Tarutung Na Uli (original) is too long\n",
      "Duration of VIRAL...!!! Lagu Batak Terbaru Tarutung Na Uli  -  B. Marada Hutagalung is too long\n",
      "Duration of Tarutung Na Uli - B. Marada Hutagalung is too long\n"
     ]
    },
    {
     "name": "stderr",
     "output_type": "stream",
     "text": [
      "The ANDROID client requires PoToken to obtain functional streams, See more details at https://github.com/JuanBindez/pytubefix/pull/209\n",
      "The ANDROID client requires PoToken to obtain functional streams, See more details at https://github.com/JuanBindez/pytubefix/pull/209\n"
     ]
    },
    {
     "name": "stdout",
     "output_type": "stream",
     "text": [
      "Downloading Tano Niha - Lagu Daerah Sumatera Utara (Lirik dan Terjemahan)...\n",
      "Duration of Lagu Daerah Kepulauan Nias: Tanõ Niha Banua Somasido + lirik is too long\n"
     ]
    },
    {
     "name": "stderr",
     "output_type": "stream",
     "text": [
      "The ANDROID client requires PoToken to obtain functional streams, See more details at https://github.com/JuanBindez/pytubefix/pull/209\n",
      "The ANDROID client requires PoToken to obtain functional streams, See more details at https://github.com/JuanBindez/pytubefix/pull/209\n"
     ]
    },
    {
     "name": "stdout",
     "output_type": "stream",
     "text": [
      "Downloading Tano Niha Omasi'o...\n"
     ]
    },
    {
     "name": "stderr",
     "output_type": "stream",
     "text": [
      "The ANDROID client requires PoToken to obtain functional streams, See more details at https://github.com/JuanBindez/pytubefix/pull/209\n",
      "The ANDROID client requires PoToken to obtain functional streams, See more details at https://github.com/JuanBindez/pytubefix/pull/209\n"
     ]
    },
    {
     "name": "stdout",
     "output_type": "stream",
     "text": [
      "Downloading Pitik Tukung (Lirik) - Vocal Shema | Tembang Dolanan | Lagu Daerah Yogyakarta...\n"
     ]
    },
    {
     "name": "stderr",
     "output_type": "stream",
     "text": [
      "The ANDROID client requires PoToken to obtain functional streams, See more details at https://github.com/JuanBindez/pytubefix/pull/209\n",
      "The ANDROID client requires PoToken to obtain functional streams, See more details at https://github.com/JuanBindez/pytubefix/pull/209\n"
     ]
    },
    {
     "name": "stdout",
     "output_type": "stream",
     "text": [
      "Downloading Pitik Tukung...\n"
     ]
    },
    {
     "name": "stderr",
     "output_type": "stream",
     "text": [
      "The ANDROID client requires PoToken to obtain functional streams, See more details at https://github.com/JuanBindez/pytubefix/pull/209\n",
      "The ANDROID client requires PoToken to obtain functional streams, See more details at https://github.com/JuanBindez/pytubefix/pull/209\n"
     ]
    },
    {
     "name": "stdout",
     "output_type": "stream",
     "text": [
      "Downloading Pitik Tukung  (Kumpulan Tembang Dolanan Vol 2)...\n",
      "Duration of TEMBANG SINOM PARIJATHA SLENDRO 9 DAN LIRIK OLEH PAGUYUBAN PANATACARA YOGYAKARTA is too long\n"
     ]
    },
    {
     "name": "stderr",
     "output_type": "stream",
     "text": [
      "The ANDROID client requires PoToken to obtain functional streams, See more details at https://github.com/JuanBindez/pytubefix/pull/209\n",
      "The ANDROID client requires PoToken to obtain functional streams, See more details at https://github.com/JuanBindez/pytubefix/pull/209\n"
     ]
    },
    {
     "name": "stdout",
     "output_type": "stream",
     "text": [
      "Downloading Sinom Parijatha Slendro 9 Paguyuban Panatacara Yogyakarta (PPY) Group 3...\n",
      "Duration of SINOM LOGONDHANG Pl Brg - Paguyuban Panatacara Yogyakarta is too long\n"
     ]
    },
    {
     "name": "stderr",
     "output_type": "stream",
     "text": [
      "The ANDROID client requires PoToken to obtain functional streams, See more details at https://github.com/JuanBindez/pytubefix/pull/209\n",
      "The ANDROID client requires PoToken to obtain functional streams, See more details at https://github.com/JuanBindez/pytubefix/pull/209\n"
     ]
    },
    {
     "name": "stdout",
     "output_type": "stream",
     "text": [
      "Downloading SUWE ORA JAMU-Lagu Daerah DI Yogyakarta...\n"
     ]
    },
    {
     "name": "stderr",
     "output_type": "stream",
     "text": [
      "The ANDROID client requires PoToken to obtain functional streams, See more details at https://github.com/JuanBindez/pytubefix/pull/209\n",
      "The ANDROID client requires PoToken to obtain functional streams, See more details at https://github.com/JuanBindez/pytubefix/pull/209\n"
     ]
    },
    {
     "name": "stdout",
     "output_type": "stream",
     "text": [
      "Downloading Suwe Ora Jamu - Lagu Daerah Yogyakarta (Lirik dan Terjemahan)...\n"
     ]
    },
    {
     "name": "stderr",
     "output_type": "stream",
     "text": [
      "The ANDROID client requires PoToken to obtain functional streams, See more details at https://github.com/JuanBindez/pytubefix/pull/209\n",
      "The ANDROID client requires PoToken to obtain functional streams, See more details at https://github.com/JuanBindez/pytubefix/pull/209\n"
     ]
    },
    {
     "name": "stdout",
     "output_type": "stream",
     "text": [
      "Downloading SUWE ORA JAMU - Lagu dan Tari Nusantara - Lagu Anak...\n"
     ]
    },
    {
     "name": "stderr",
     "output_type": "stream",
     "text": [
      "The ANDROID client requires PoToken to obtain functional streams, See more details at https://github.com/JuanBindez/pytubefix/pull/209\n",
      "The ANDROID client requires PoToken to obtain functional streams, See more details at https://github.com/JuanBindez/pytubefix/pull/209\n"
     ]
    },
    {
     "name": "stdout",
     "output_type": "stream",
     "text": [
      "Downloading Te Kate Dipanah...\n",
      "Duration of Gending Jawa][Dolanan][Te Kate Dipanah. is too long\n"
     ]
    },
    {
     "name": "stderr",
     "output_type": "stream",
     "text": [
      "The ANDROID client requires PoToken to obtain functional streams, See more details at https://github.com/JuanBindez/pytubefix/pull/209\n",
      "The ANDROID client requires PoToken to obtain functional streams, See more details at https://github.com/JuanBindez/pytubefix/pull/209\n"
     ]
    },
    {
     "name": "stdout",
     "output_type": "stream",
     "text": [
      "Downloading Te Kate Dipanah...\n"
     ]
    },
    {
     "name": "stderr",
     "output_type": "stream",
     "text": [
      "The ANDROID client requires PoToken to obtain functional streams, See more details at https://github.com/JuanBindez/pytubefix/pull/209\n",
      "The ANDROID client requires PoToken to obtain functional streams, See more details at https://github.com/JuanBindez/pytubefix/pull/209\n"
     ]
    },
    {
     "name": "stdout",
     "output_type": "stream",
     "text": [
      "Downloading Kidang Talun...\n"
     ]
    },
    {
     "name": "stderr",
     "output_type": "stream",
     "text": [
      "The ANDROID client requires PoToken to obtain functional streams, See more details at https://github.com/JuanBindez/pytubefix/pull/209\n",
      "The ANDROID client requires PoToken to obtain functional streams, See more details at https://github.com/JuanBindez/pytubefix/pull/209\n"
     ]
    },
    {
     "name": "stdout",
     "output_type": "stream",
     "text": [
      "Downloading Lagu Anak-Anak Animasi |  Kidang Talun  | Odelia...\n"
     ]
    },
    {
     "name": "stderr",
     "output_type": "stream",
     "text": [
      "The ANDROID client requires PoToken to obtain functional streams, See more details at https://github.com/JuanBindez/pytubefix/pull/209\n",
      "The ANDROID client requires PoToken to obtain functional streams, See more details at https://github.com/JuanBindez/pytubefix/pull/209\n"
     ]
    },
    {
     "name": "stdout",
     "output_type": "stream",
     "text": [
      "Downloading Kidang Talun Ciptaan RC Hardjasoebrata - Vocal Shema | Tembang Dolanan | Lagu Daerah Yogyakarta...\n"
     ]
    },
    {
     "name": "stderr",
     "output_type": "stream",
     "text": [
      "The ANDROID client requires PoToken to obtain functional streams, See more details at https://github.com/JuanBindez/pytubefix/pull/209\n",
      "The ANDROID client requires PoToken to obtain functional streams, See more details at https://github.com/JuanBindez/pytubefix/pull/209\n"
     ]
    },
    {
     "name": "stdout",
     "output_type": "stream",
     "text": [
      "Downloading Menthok Menthok Takkandani - Sanggar Greget...\n"
     ]
    },
    {
     "name": "stderr",
     "output_type": "stream",
     "text": [
      "The ANDROID client requires PoToken to obtain functional streams, See more details at https://github.com/JuanBindez/pytubefix/pull/209\n",
      "The ANDROID client requires PoToken to obtain functional streams, See more details at https://github.com/JuanBindez/pytubefix/pull/209\n"
     ]
    },
    {
     "name": "stdout",
     "output_type": "stream",
     "text": [
      "Downloading Menthok - menthok | Tembang Dolanan | Freya Shereen #rayakanmerdekamu...\n"
     ]
    },
    {
     "name": "stderr",
     "output_type": "stream",
     "text": [
      "The ANDROID client requires PoToken to obtain functional streams, See more details at https://github.com/JuanBindez/pytubefix/pull/209\n",
      "The ANDROID client requires PoToken to obtain functional streams, See more details at https://github.com/JuanBindez/pytubefix/pull/209\n"
     ]
    },
    {
     "name": "stdout",
     "output_type": "stream",
     "text": [
      "Downloading Mentok mentok tak kandani | Tembang Dolanan ♫ Lagu Bahasa Jawa Kelas 1 ❤️...\n"
     ]
    },
    {
     "name": "stderr",
     "output_type": "stream",
     "text": [
      "The ANDROID client requires PoToken to obtain functional streams, See more details at https://github.com/JuanBindez/pytubefix/pull/209\n",
      "The ANDROID client requires PoToken to obtain functional streams, See more details at https://github.com/JuanBindez/pytubefix/pull/209\n"
     ]
    },
    {
     "name": "stdout",
     "output_type": "stream",
     "text": [
      "Downloading Kupu Kuwi...\n",
      "Duration of KUPU KUWI VERONICA VERA F is too long\n"
     ]
    },
    {
     "name": "stderr",
     "output_type": "stream",
     "text": [
      "The ANDROID client requires PoToken to obtain functional streams, See more details at https://github.com/JuanBindez/pytubefix/pull/209\n",
      "The ANDROID client requires PoToken to obtain functional streams, See more details at https://github.com/JuanBindez/pytubefix/pull/209\n"
     ]
    },
    {
     "name": "stdout",
     "output_type": "stream",
     "text": [
      "Downloading Kupu Kuwi...\n",
      "Duration of SRAGENAN CAMPURSARI CAPING GUNUNG GUBUK ASMORO KEMBANG RAWE CAMPURSARI NNS PRODUKTION is too long\n"
     ]
    },
    {
     "name": "stderr",
     "output_type": "stream",
     "text": [
      "The ANDROID client requires PoToken to obtain functional streams, See more details at https://github.com/JuanBindez/pytubefix/pull/209\n",
      "The ANDROID client requires PoToken to obtain functional streams, See more details at https://github.com/JuanBindez/pytubefix/pull/209\n"
     ]
    },
    {
     "name": "stdout",
     "output_type": "stream",
     "text": [
      "Downloading Yeni Inka ft Ageng Music - Caping Gunung (Official Live Music)...\n",
      "Duration of Waljinah - Caping Gunung' Langgam Campursari Sang Maestro is too long\n",
      "Duration of Walang Kekek - Lagu Daerah Yogyakarta (Lirik & Terjemahan) [versi original] is too long\n",
      "Duration of Walang Kekek [Versi Original]  - Lagu Daerah Yogyakarta - Jawa Tengah - Indonesia is too long\n"
     ]
    },
    {
     "name": "stderr",
     "output_type": "stream",
     "text": [
      "The ANDROID client requires PoToken to obtain functional streams, See more details at https://github.com/JuanBindez/pytubefix/pull/209\n",
      "The ANDROID client requires PoToken to obtain functional streams, See more details at https://github.com/JuanBindez/pytubefix/pull/209\n"
     ]
    },
    {
     "name": "stdout",
     "output_type": "stream",
     "text": [
      "Downloading Walang Kekek - Waldjinah...\n"
     ]
    },
    {
     "name": "stderr",
     "output_type": "stream",
     "text": [
      "The ANDROID client requires PoToken to obtain functional streams, See more details at https://github.com/JuanBindez/pytubefix/pull/209\n",
      "The ANDROID client requires PoToken to obtain functional streams, See more details at https://github.com/JuanBindez/pytubefix/pull/209\n"
     ]
    },
    {
     "name": "stdout",
     "output_type": "stream",
     "text": [
      "Downloading Getuk, Jajanan Legendaris Khas Magelang | RAGAM INDONESIA (17/05/21)...\n"
     ]
    },
    {
     "name": "stderr",
     "output_type": "stream",
     "text": [
      "The ANDROID client requires PoToken to obtain functional streams, See more details at https://github.com/JuanBindez/pytubefix/pull/209\n",
      "The ANDROID client requires PoToken to obtain functional streams, See more details at https://github.com/JuanBindez/pytubefix/pull/209\n"
     ]
    },
    {
     "name": "stdout",
     "output_type": "stream",
     "text": [
      "Downloading Ida Ayu Swastika dan Iis Mawanti - Getuk - IMC RECORD JAVA...\n",
      "Duration of BUKAN BASIC KULINER TAPI NEKAT‼️USAHA MODAL PINJEM SODARA BERAWAL 3KG SEKARANG TERSEBAR PULUHAN TOKO is too long\n"
     ]
    }
   ],
   "source": [
    "dl_res = []\n",
    "\n",
    "for index, row in data.iterrows():\n",
    "    # Search for songs with the name and region keywords\n",
    "    keyword = f\"{row['Nama Lagu']} asal {row['Asal Daerah']}\"\n",
    "    searched_songs = search_yt(keyword)\n",
    "    \n",
    "    # Loop through the search results\n",
    "    for song in searched_songs:\n",
    "        try:\n",
    "            duration = float(song.get('duration', 0))  # Ambil durasi dan default ke 0 jika tidak ada\n",
    "            if duration <= 5:  # Filter berdasarkan durasi\n",
    "                # Download the video using dl_video function\n",
    "                path = dl_video(song['url'])\n",
    "                \n",
    "                # Append the result to dl_res list\n",
    "                dl_res.append({\n",
    "                    'title': song['title'],\n",
    "                    'region': row['Asal Daerah'],\n",
    "                    'keyword': keyword,\n",
    "                    'duration': duration,\n",
    "                    'url': song['url'],\n",
    "                    'path': path\n",
    "                })\n",
    "            else:\n",
    "                print(f\"Duration of {song['title']} is too long\")\n",
    "        except Exception as e:\n",
    "            print(f\"Error processing song: {e}\")\n",
    "\n"
   ]
  },
  {
   "cell_type": "markdown",
   "metadata": {},
   "source": [
    "### Save list of songs to csv"
   ]
  },
  {
   "cell_type": "code",
   "execution_count": 12,
   "metadata": {},
   "outputs": [],
   "source": [
    "df = pd.DataFrame(dl_res)\n",
    "\n",
    "df.to_csv('data/results.csv', sep=';', index=False)"
   ]
  },
  {
   "cell_type": "markdown",
   "metadata": {},
   "source": [
    "### Convert to wav format"
   ]
  },
  {
   "cell_type": "code",
   "execution_count": 13,
   "metadata": {},
   "outputs": [],
   "source": [
    "import os\n",
    "import subprocess\n",
    "\n",
    "os.makedirs('datasets/wav_songs', exist_ok=True)\n",
    "\n",
    "def convert_to_wav(path):\n",
    "    if path is None:\n",
    "        print(f'File is not found: {path}')\n",
    "        return None\n",
    "    try:\n",
    "        # path = path\n",
    "        wav_path = path.replace('songs', 'wav_songs').replace('.mp3', '.wav')\n",
    "        \n",
    "        if os.path.exists(wav_path):\n",
    "            return wav_path\n",
    "        \n",
    "        print(f'Converting {path} to:\\n{wav_path}')\n",
    "        subprocess.run(['ffmpeg', '-i', path, wav_path], stdout=subprocess.PIPE, stderr=subprocess.PIPE)\n",
    "        \n",
    "        return wav_path\n",
    "    except Exception as e:\n",
    "        print(e)\n",
    "        return None"
   ]
  },
  {
   "cell_type": "code",
   "execution_count": 14,
   "metadata": {},
   "outputs": [
    {
     "name": "stdout",
     "output_type": "stream",
     "text": [
      "Converting datasets/songs/bungong_jeumpa_lirik_dan_terjemahan_lagu_daerah_aceh_dongeng_kita.mp3 to:\n",
      "datasets/wav_songs/bungong_jeumpa_lirik_dan_terjemahan_lagu_daerah_aceh_dongeng_kita.wav\n",
      "Converting datasets/songs/bungong_jeumpa_putri_ariani_cover_lagu_daerah_aceh.mp3 to:\n",
      "datasets/wav_songs/bungong_jeumpa_putri_ariani_cover_lagu_daerah_aceh.wav\n",
      "Converting datasets/songs/tari_bungong_jeumpa_aceh_rumah_belajar_mawinsya.mp3 to:\n",
      "datasets/wav_songs/tari_bungong_jeumpa_aceh_rumah_belajar_mawinsya.wav\n",
      "Converting datasets/songs/jambo_safira_amalia_official_music_video.mp3 to:\n",
      "datasets/wav_songs/jambo_safira_amalia_official_music_video.wav\n",
      "Converting datasets/songs/tarian_aceh_jambo_jambo.mp3 to:\n",
      "datasets/wav_songs/tarian_aceh_jambo_jambo.wav\n",
      "Converting datasets/songs/lembah_alas_lagu_daerah_aceh_dengan_lirik.mp3 to:\n",
      "datasets/wav_songs/lembah_alas_lagu_daerah_aceh_dengan_lirik.wav\n",
      "Converting datasets/songs/lembah_alas_lagu_daerah_aceh_enjoy_pesona_musik_indonesia.mp3 to:\n",
      "datasets/wav_songs/lembah_alas_lagu_daerah_aceh_enjoy_pesona_musik_indonesia.wav\n",
      "Converting datasets/songs/aceh_lon_sayang_lagu_daerah_aceh_lirik_dan_terjemahan.mp3 to:\n",
      "datasets/wav_songs/aceh_lon_sayang_lagu_daerah_aceh_lirik_dan_terjemahan.wav\n",
      "Converting datasets/songs/lagu_aceh_lon_sayang_lagu_daerah_aceh.mp3 to:\n",
      "datasets/wav_songs/lagu_aceh_lon_sayang_lagu_daerah_aceh.wav\n",
      "Converting datasets/songs/aceh_lon_sayang_lagu_aceh_.mp3 to:\n",
      "datasets/wav_songs/aceh_lon_sayang_lagu_aceh_.wav\n",
      "Converting datasets/songs/tawar_sedenge_lagu_wajib_aceh_tengah_ar_moese_orchestra.mp3 to:\n",
      "datasets/wav_songs/tawar_sedenge_lagu_wajib_aceh_tengah_ar_moese_orchestra.wav\n",
      "Converting datasets/songs/tsunami_aceh_lagu_aneuk_yatim_vocal_rafly.mp3 to:\n",
      "datasets/wav_songs/tsunami_aceh_lagu_aneuk_yatim_vocal_rafly.wav\n",
      "Converting datasets/songs/dewa_ayu.mp3 to:\n",
      "datasets/wav_songs/dewa_ayu.wav\n",
      "Converting datasets/songs/dewa_ayu_lagu_rakyat_bali.mp3 to:\n",
      "datasets/wav_songs/dewa_ayu_lagu_rakyat_bali.wav\n",
      "Converting datasets/songs/video_lirik_lagu_daerah_macepetcepetan.mp3 to:\n",
      "datasets/wav_songs/video_lirik_lagu_daerah_macepetcepetan.wav\n",
      "Converting datasets/songs/macepet_cepetan_lagu_daerah_bali.mp3 to:\n",
      "datasets/wav_songs/macepet_cepetan_lagu_daerah_bali.wav\n",
      "Converting datasets/songs/lagu_rare_bali_macepetcepetan.mp3 to:\n",
      "datasets/wav_songs/lagu_rare_bali_macepetcepetan.wav\n",
      "Converting datasets/songs/mejangeran_lagu_daerah_bali_diva_bernyanyi_diva_the_series_official.mp3 to:\n",
      "datasets/wav_songs/mejangeran_lagu_daerah_bali_diva_bernyanyi_diva_the_series_official.wav\n",
      "Converting datasets/songs/sukma_ayu_nariswari_mejangeran.mp3 to:\n",
      "datasets/wav_songs/sukma_ayu_nariswari_mejangeran.wav\n",
      "Converting datasets/songs/intan_laksmi_mejangeran_lagu_daerah_bali_official_music_video_.mp3 to:\n",
      "datasets/wav_songs/intan_laksmi_mejangeran_lagu_daerah_bali_official_music_video_.wav\n",
      "Converting datasets/songs/meyongmeyong_bali.mp3 to:\n",
      "datasets/wav_songs/meyongmeyong_bali.wav\n",
      "Converting datasets/songs/meyong_meyong_bali_arr_felix_avi_navoska_choir_18th_national_folklore_festival.mp3 to:\n",
      "datasets/wav_songs/meyong_meyong_bali_arr_felix_avi_navoska_choir_18th_national_folklore_festival.wav\n",
      "Converting datasets/songs/lagu_anakanak_meong_meong_lagi_bali.mp3 to:\n",
      "datasets/wav_songs/lagu_anakanak_meong_meong_lagi_bali.wav\n",
      "Converting datasets/songs/lagu_anak_ngusak_asik_dari_bali.mp3 to:\n",
      "datasets/wav_songs/lagu_anak_ngusak_asik_dari_bali.wav\n",
      "Converting datasets/songs/chord_dan_not_balok_lagu_ngusak_asik.mp3 to:\n",
      "datasets/wav_songs/chord_dan_not_balok_lagu_ngusak_asik.wav\n",
      "Converting datasets/songs/ngusak_asik_nuusak_asik_lagu_daerah_bali_untuk_kwartet_gitar_seni_musik_uksw.mp3 to:\n",
      "datasets/wav_songs/ngusak_asik_nuusak_asik_lagu_daerah_bali_untuk_kwartet_gitar_seni_musik_uksw.wav\n",
      "Converting datasets/songs/putri_cening_ayu_balinese_song_lagu_bali.mp3 to:\n",
      "datasets/wav_songs/putri_cening_ayu_balinese_song_lagu_bali.wav\n",
      "Converting datasets/songs/lagu_bali_rare_putri_cening_ayu.mp3 to:\n",
      "datasets/wav_songs/lagu_bali_rare_putri_cening_ayu.wav\n",
      "Converting datasets/songs/tari_pendet_penyambutan.mp3 to:\n",
      "datasets/wav_songs/tari_pendet_penyambutan.wav\n",
      "Converting datasets/songs/ratu_anom_by_indi.mp3 to:\n",
      "datasets/wav_songs/ratu_anom_by_indi.wav\n",
      "Converting datasets/songs/ratu_anom_bali_kids_song.mp3 to:\n",
      "datasets/wav_songs/ratu_anom_bali_kids_song.wav\n",
      "Converting datasets/songs/ratu_anom.mp3 to:\n",
      "datasets/wav_songs/ratu_anom.wav\n",
      "Converting datasets/songs/yok_miak_lagu_daerah_bangka_belitung_dengan_lirik.mp3 to:\n",
      "datasets/wav_songs/yok_miak_lagu_daerah_bangka_belitung_dengan_lirik.wav\n",
      "Converting datasets/songs/yok_miak_lagu_bangka_belitung_lagu_babel.mp3 to:\n",
      "datasets/wav_songs/yok_miak_lagu_bangka_belitung_lagu_babel.wav\n",
      "Converting datasets/songs/nyok_miak_karaoke_lagu_daerah_bangkabelitung.mp3 to:\n",
      "datasets/wav_songs/nyok_miak_karaoke_lagu_daerah_bangkabelitung.wav\n",
      "Converting datasets/songs/alam_wisata_pulau_bangka_lirik_lagu_bangka_belitung_lagu_babel.mp3 to:\n",
      "datasets/wav_songs/alam_wisata_pulau_bangka_lirik_lagu_bangka_belitung_lagu_babel.wav\n",
      "Converting datasets/songs/lirik_lagu_bangka_alam_wisata_pulau_bangka_hq_audio.mp3 to:\n",
      "datasets/wav_songs/lirik_lagu_bangka_alam_wisata_pulau_bangka_hq_audio.wav\n",
      "Converting datasets/songs/rp_project_alam_wisata_pulau_bangka_akustik_cover_lagu_daerah_bangka_belitung.mp3 to:\n",
      "datasets/wav_songs/rp_project_alam_wisata_pulau_bangka_akustik_cover_lagu_daerah_bangka_belitung.wav\n",
      "Converting datasets/songs/men_sahang_lah_mirah_lirik_lagu_bangka_belitung.mp3 to:\n",
      "datasets/wav_songs/men_sahang_lah_mirah_lirik_lagu_bangka_belitung.wav\n",
      "Converting datasets/songs/lirik_lagu_bangka_men_sahang_lah_mirah.mp3 to:\n",
      "datasets/wav_songs/lirik_lagu_bangka_men_sahang_lah_mirah.wav\n",
      "Converting datasets/songs/nasib_sibujang_saro_erwin_selawang.mp3 to:\n",
      "datasets/wav_songs/nasib_sibujang_saro_erwin_selawang.wav\n",
      "Converting datasets/songs/lirik_lagu_bujang_tua_lagu_bujang_tua_bangka_voc_cecep.mp3 to:\n",
      "datasets/wav_songs/lirik_lagu_bujang_tua_lagu_bujang_tua_bangka_voc_cecep.wav\n",
      "Converting datasets/songs/lirik_lagu_bangka_icak_icak_dek_tau_tommy_ali_hq_audio.mp3 to:\n",
      "datasets/wav_songs/lirik_lagu_bangka_icak_icak_dek_tau_tommy_ali_hq_audio.wav\n",
      "Converting datasets/songs/rp_project_icak_icak_dek_tau_cover_lagu_daerah_bangka_belitung.mp3 to:\n",
      "datasets/wav_songs/rp_project_icak_icak_dek_tau_cover_lagu_daerah_bangka_belitung.wav\n",
      "Converting datasets/songs/lirik_lagu_daerah_terbaik_bangka_belitung_icakicak_dek_tau_video_lirik.mp3 to:\n",
      "datasets/wav_songs/lirik_lagu_daerah_terbaik_bangka_belitung_icakicak_dek_tau_video_lirik.wav\n",
      "Converting datasets/songs/dayung_sampan_lagu_daerah_banten_dengan_lirik.mp3 to:\n",
      "datasets/wav_songs/dayung_sampan_lagu_daerah_banten_dengan_lirik.wav\n",
      "Converting datasets/songs/video_lirik_lagu_daerah_dayung_sampan.mp3 to:\n",
      "datasets/wav_songs/video_lirik_lagu_daerah_dayung_sampan.wav\n",
      "Converting datasets/songs/_teresa_teng_dayung_sampan_indonesian_.mp3 to:\n",
      "datasets/wav_songs/_teresa_teng_dayung_sampan_indonesian_.wav\n",
      "Converting datasets/songs/jereh_bu_gurulagu_daerah_bantenlirik_dan_terjemahan.mp3 to:\n",
      "datasets/wav_songs/jereh_bu_gurulagu_daerah_bantenlirik_dan_terjemahan.wav\n",
      "Converting datasets/songs/jereh_bu_guru_lagu_daerah_banten_lirik_dan_terjemahan.mp3 to:\n",
      "datasets/wav_songs/jereh_bu_guru_lagu_daerah_banten_lirik_dan_terjemahan.wav\n",
      "Converting datasets/songs/jereh_bu_guru_lagu_daerah_banten_cover_napasha.mp3 to:\n",
      "datasets/wav_songs/jereh_bu_guru_lagu_daerah_banten_cover_napasha.wav\n",
      "Converting datasets/songs/video_lirik_lagu_daerah_tong_sarakah.mp3 to:\n",
      "datasets/wav_songs/video_lirik_lagu_daerah_tong_sarakah.wav\n",
      "Converting datasets/songs/tong_sarakah.mp3 to:\n",
      "datasets/wav_songs/tong_sarakah.wav\n",
      "Converting datasets/songs/lagu_daerah_banten_tong_sarakah.mp3 to:\n",
      "datasets/wav_songs/lagu_daerah_banten_tong_sarakah.wav\n",
      "Converting datasets/songs/lirik_lagu_sungai_suci_lagu_daerah_bengkulu.mp3 to:\n",
      "datasets/wav_songs/lirik_lagu_sungai_suci_lagu_daerah_bengkulu.wav\n",
      "Converting datasets/songs/lagu_daerah_bengkulu_sungai_suci.mp3 to:\n",
      "datasets/wav_songs/lagu_daerah_bengkulu_sungai_suci.wav\n",
      "Converting datasets/songs/lagu_daerah_bengkulu_umang_umang.mp3 to:\n",
      "datasets/wav_songs/lagu_daerah_bengkulu_umang_umang.wav\n",
      "Converting datasets/songs/ketemu_jualan_kelomang_umang_umang_dipasar_asalnya_dari_pantai_bengkulu_taqykids_youtuberpemula.mp3 to:\n",
      "datasets/wav_songs/ketemu_jualan_kelomang_umang_umang_dipasar_asalnya_dari_pantai_bengkulu_taqykids_youtuberpemula.wav\n",
      "Converting datasets/songs/pegi_berayak_lagu_bengkulu.mp3 to:\n",
      "datasets/wav_songs/pegi_berayak_lagu_bengkulu.wav\n",
      "Converting datasets/songs/lagu_pegi_berayak_cover_lirik_lagu_daerah_bengkulu.mp3 to:\n",
      "datasets/wav_songs/lagu_pegi_berayak_cover_lirik_lagu_daerah_bengkulu.wav\n",
      "Converting datasets/songs/indahnya_pantai_panjang_ragam_indonesia.mp3 to:\n",
      "datasets/wav_songs/indahnya_pantai_panjang_ragam_indonesia.wav\n",
      "Converting datasets/songs/lagu_daerah_bengkulu_ibo_official_music_video.mp3 to:\n",
      "datasets/wav_songs/lagu_daerah_bengkulu_ibo_official_music_video.wav\n",
      "Converting datasets/songs/taneak_tanai_lagu_daerah_bengkulu_lirik_dan_terjemahan.mp3 to:\n",
      "datasets/wav_songs/taneak_tanai_lagu_daerah_bengkulu_lirik_dan_terjemahan.wav\n",
      "Converting datasets/songs/taneak_tanai_lagu_daerah_bengkulu.mp3 to:\n",
      "datasets/wav_songs/taneak_tanai_lagu_daerah_bengkulu.wav\n",
      "Converting datasets/songs/lagu_daerah_bengkulu_taneak_tanai.mp3 to:\n",
      "datasets/wav_songs/lagu_daerah_bengkulu_taneak_tanai.wav\n",
      "Converting datasets/songs/jibeak_weo_dan_lirik_lagu_daerah_rejang_bengkulu.mp3 to:\n",
      "datasets/wav_songs/jibeak_weo_dan_lirik_lagu_daerah_rejang_bengkulu.wav\n",
      "Converting datasets/songs/jibeak_we_o_lagu_daerah_rejang_bengkulu_cover_bobby_mawardi.mp3 to:\n",
      "datasets/wav_songs/jibeak_we_o_lagu_daerah_rejang_bengkulu_cover_bobby_mawardi.wav\n",
      "Converting datasets/songs/lagu_daerah_bengkulu_rejang_jibeak_aweio.mp3 to:\n",
      "datasets/wav_songs/lagu_daerah_bengkulu_rejang_jibeak_aweio.wav\n",
      "Converting datasets/songs/pantai_malabero_lagu_daerah_bengkulu_.mp3 to:\n",
      "datasets/wav_songs/pantai_malabero_lagu_daerah_bengkulu_.wav\n",
      "Converting datasets/songs/pantai_malaberolagu_daerah_bengkulu.mp3 to:\n",
      "datasets/wav_songs/pantai_malaberolagu_daerah_bengkulu.wav\n",
      "Converting datasets/songs/lagu_daerah_bengkulu_pantai_malabero.mp3 to:\n",
      "datasets/wav_songs/lagu_daerah_bengkulu_pantai_malabero.wav\n",
      "Converting datasets/songs/semulen_keme.mp3 to:\n",
      "datasets/wav_songs/semulen_keme.wav\n",
      "Converting datasets/songs/semulen_keme_gadis_kami_lagu_daerah_rejang_dklik_band_cover_bengkulu_indonesia.mp3 to:\n",
      "datasets/wav_songs/semulen_keme_gadis_kami_lagu_daerah_rejang_dklik_band_cover_bengkulu_indonesia.wav\n",
      "Converting datasets/songs/lagu_daerah_rejang_lebong_semulen_keme.mp3 to:\n",
      "datasets/wav_songs/lagu_daerah_rejang_lebong_semulen_keme.wav\n",
      "Converting datasets/songs/lagu_daerah_kota_cuup_cover_mekproduction_ft_nada_fentia.mp3 to:\n",
      "datasets/wav_songs/lagu_daerah_kota_cuup_cover_mekproduction_ft_nada_fentia.wav\n",
      "Converting datasets/songs/lagu_rejang_cuup_kota_idaman.mp3 to:\n",
      "datasets/wav_songs/lagu_rejang_cuup_kota_idaman.wav\n",
      "Converting datasets/songs/lagu_daerah_bengkulu_rejang_curup_kota_idaman.mp3 to:\n",
      "datasets/wav_songs/lagu_daerah_bengkulu_rejang_curup_kota_idaman.wav\n",
      "Converting datasets/songs/lagu_daerah_bengkulu_yo_botoi_botoimp4.mp3 to:\n",
      "datasets/wav_songs/lagu_daerah_bengkulu_yo_botoi_botoimp4.wav\n",
      "Converting datasets/songs/tosca_yobotoi_botoi.mp3 to:\n",
      "datasets/wav_songs/tosca_yobotoi_botoi.wav\n",
      "Converting datasets/songs/lagu_daerah_bengkulu_selatan_sekundang_setungguan_lirik.mp3 to:\n",
      "datasets/wav_songs/lagu_daerah_bengkulu_selatan_sekundang_setungguan_lirik.wav\n",
      "Converting datasets/songs/sekundang_setungguanlagu_daerah_bengkulu.mp3 to:\n",
      "datasets/wav_songs/sekundang_setungguanlagu_daerah_bengkulu.wav\n",
      "Converting datasets/songs/sekundang_setungguanlagu_daerah_manna.mp3 to:\n",
      "datasets/wav_songs/sekundang_setungguanlagu_daerah_manna.wav\n",
      "Converting datasets/songs/lagu_daerah_bengkulu_ikan_pais.mp3 to:\n",
      "datasets/wav_songs/lagu_daerah_bengkulu_ikan_pais.wav\n",
      "Converting datasets/songs/ikan_pais_lagu_daerah_bengkulu_dengan_lirik.mp3 to:\n",
      "datasets/wav_songs/ikan_pais_lagu_daerah_bengkulu_dengan_lirik.wav\n",
      "Converting datasets/songs/jarvis_ikan_pais.mp3 to:\n",
      "datasets/wav_songs/jarvis_ikan_pais.wav\n",
      "Converting datasets/songs/lagu_daerah_gorontalo_dabu_dabu_lo_kamate.mp3 to:\n",
      "datasets/wav_songs/lagu_daerah_gorontalo_dabu_dabu_lo_kamate.wav\n",
      "Converting datasets/songs/dabu_dabu_lo_tamate_cover_udin_ahmad_x_cha_cha_tarian_tradisi.mp3 to:\n",
      "datasets/wav_songs/dabu_dabu_lo_tamate_cover_udin_ahmad_x_cha_cha_tarian_tradisi.wav\n",
      "Converting datasets/songs/binde_biluhuta_evans_siringo_ringo_i_lagu_gorontalo_i_pop_indonesia_timur_official_video_music.mp3 to:\n",
      "datasets/wav_songs/binde_biluhuta_evans_siringo_ringo_i_lagu_gorontalo_i_pop_indonesia_timur_official_video_music.wav\n",
      "Converting datasets/songs/binde_biluhuta_lagu_daerah_gorontalo_dengan_lirik.mp3 to:\n",
      "datasets/wav_songs/binde_biluhuta_lagu_daerah_gorontalo_dengan_lirik.wav\n",
      "Converting datasets/songs/lagu_gorontalo_binthe_biluhuta_i_cover_i_by_trio_sagela_ft_oby_cs.mp3 to:\n",
      "datasets/wav_songs/lagu_gorontalo_binthe_biluhuta_i_cover_i_by_trio_sagela_ft_oby_cs.wav\n",
      "Converting datasets/songs/lagu_daerah_gorontalo_hulondalo_lipuu_to_lo_tawu_lo_hulondalo_ma_to_lipu_lo_tawu.mp3 to:\n",
      "datasets/wav_songs/lagu_daerah_gorontalo_hulondalo_lipuu_to_lo_tawu_lo_hulondalo_ma_to_lipu_lo_tawu.wav\n",
      "Converting datasets/songs/lagu_daerah_gorontalo_moleleyangi.mp3 to:\n",
      "datasets/wav_songs/lagu_daerah_gorontalo_moleleyangi.wav\n",
      "Converting datasets/songs/lagu_pop_gorontalo_tahuli_li_mama_daph_anwar_pasaribu_official_music_video.mp3 to:\n",
      "datasets/wav_songs/lagu_pop_gorontalo_tahuli_li_mama_daph_anwar_pasaribu_official_music_video.wav\n",
      "Converting datasets/songs/lagu_gorontalo_tahuli_li_mama.mp3 to:\n",
      "datasets/wav_songs/lagu_gorontalo_tahuli_li_mama.wav\n",
      "Converting datasets/songs/yamko_rambe_yamko_lirik_vokal_terjemahan.mp3 to:\n",
      "datasets/wav_songs/yamko_rambe_yamko_lirik_vokal_terjemahan.wav\n",
      "Converting datasets/songs/lirik_lagu_yamko_rambe_yamkopapuairian_jaya.mp3 to:\n",
      "datasets/wav_songs/lirik_lagu_yamko_rambe_yamkopapuairian_jaya.wav\n",
      "Converting datasets/songs/yamko_rambe_yamko.mp3 to:\n",
      "datasets/wav_songs/yamko_rambe_yamko.wav\n",
      "Converting datasets/songs/lagu_jali_jali_ini_dia_si_jali_jali_lagu_daerah_dki_jakarta_2022_lirik_dan_animasi_song_of_kids.mp3 to:\n",
      "datasets/wav_songs/lagu_jali_jali_ini_dia_si_jali_jali_lagu_daerah_dki_jakarta_2022_lirik_dan_animasi_song_of_kids.wav\n",
      "Converting datasets/songs/lirik_lagu_jali_jali_lagu_daerah_khas_betawijakarta.mp3 to:\n",
      "datasets/wav_songs/lirik_lagu_jali_jali_lagu_daerah_khas_betawijakarta.wav\n",
      "Converting datasets/songs/jali_jali_lagu_daerah_jakarta_dengan_lirik.mp3 to:\n",
      "datasets/wav_songs/jali_jali_lagu_daerah_jakarta_dengan_lirik.wav\n",
      "Converting datasets/songs/orkes_sekar_kedaton_keroncong_kemayoran_cover.mp3 to:\n",
      "datasets/wav_songs/orkes_sekar_kedaton_keroncong_kemayoran_cover.wav\n",
      "Converting datasets/songs/keroncong_kemayoran.mp3 to:\n",
      "datasets/wav_songs/keroncong_kemayoran.wav\n",
      "Converting datasets/songs/kicir_kicir_lagu_dan_tari_nusantara_lagu_anak.mp3 to:\n",
      "datasets/wav_songs/kicir_kicir_lagu_dan_tari_nusantara_lagu_anak.wav\n",
      "Converting datasets/songs/kicir_kicir_lagu_daerah_jakarta_betawi_diva_bernyanyi_diva_the_series_official.mp3 to:\n",
      "datasets/wav_songs/kicir_kicir_lagu_daerah_jakarta_betawi_diva_bernyanyi_diva_the_series_official.wav\n",
      "Converting datasets/songs/kicir_kicir_jakarta.mp3 to:\n",
      "datasets/wav_songs/kicir_kicir_jakarta.wav\n",
      "Converting datasets/songs/lenggang_kangkung_dki_jakarta.mp3 to:\n",
      "datasets/wav_songs/lenggang_kangkung_dki_jakarta.wav\n",
      "Converting datasets/songs/tarian_lenggang_kangkung_betawi.mp3 to:\n",
      "datasets/wav_songs/tarian_lenggang_kangkung_betawi.wav\n",
      "Converting datasets/songs/lagu_anak_lenggang_kangkung_karaoke_lagu_anak_vision_kids.mp3 to:\n",
      "datasets/wav_songs/lagu_anak_lenggang_kangkung_karaoke_lagu_anak_vision_kids.wav\n",
      "Converting datasets/songs/ondel_ondel_lagu_daerah_dki_jakarta_betawi_budaya_indonesia_dongeng_kita.mp3 to:\n",
      "datasets/wav_songs/ondel_ondel_lagu_daerah_dki_jakarta_betawi_budaya_indonesia_dongeng_kita.wav\n",
      "Converting datasets/songs/ondel_ondel_lagu_daerah_dki_jakarta_ondel_ondel_betawi_remix.mp3 to:\n",
      "datasets/wav_songs/ondel_ondel_lagu_daerah_dki_jakarta_ondel_ondel_betawi_remix.wav\n",
      "Converting datasets/songs/ronggeng_jakarta.mp3 to:\n",
      "datasets/wav_songs/ronggeng_jakarta.wav\n",
      "Converting datasets/songs/video_lirik_lagu_daerah_ronggeng_jakarta.mp3 to:\n",
      "datasets/wav_songs/video_lirik_lagu_daerah_ronggeng_jakarta.wav\n",
      "Converting datasets/songs/ronggeng_nyentrik.mp3 to:\n",
      "datasets/wav_songs/ronggeng_nyentrik.wav\n",
      "Converting datasets/songs/sirih_kuning_lagu_daerah_jakarta_dengan_lirik.mp3 to:\n",
      "datasets/wav_songs/sirih_kuning_lagu_daerah_jakarta_dengan_lirik.wav\n",
      "Converting datasets/songs/surilang_lagu_jakarta.mp3 to:\n",
      "datasets/wav_songs/surilang_lagu_jakarta.wav\n",
      "Converting datasets/songs/surilang_karaoke.mp3 to:\n",
      "datasets/wav_songs/surilang_karaoke.wav\n",
      "Converting datasets/songs/surilang.mp3 to:\n",
      "datasets/wav_songs/surilang.wav\n",
      "Converting datasets/songs/7_kelap_kelip.mp3 to:\n",
      "datasets/wav_songs/7_kelap_kelip.wav\n",
      "Converting datasets/songs/kelap_kelip_jakarta_betawi.mp3 to:\n",
      "datasets/wav_songs/kelap_kelip_jakarta_betawi.wav\n",
      "Converting datasets/songs/song_from_old_djakarta_kelap_kelip.mp3 to:\n",
      "datasets/wav_songs/song_from_old_djakarta_kelap_kelip.wav\n",
      "Converting datasets/songs/hujan_gerimis_benjamin_sueb_at_hotel_grand_sahid_jakarta_cover_by_deo_entertainment.mp3 to:\n",
      "datasets/wav_songs/hujan_gerimis_benjamin_sueb_at_hotel_grand_sahid_jakarta_cover_by_deo_entertainment.wav\n",
      "Converting datasets/songs/hujan_gerimis.mp3 to:\n",
      "datasets/wav_songs/hujan_gerimis.wav\n",
      "Converting datasets/songs/benyamin_s_ida_royani_hujan_gerimis.mp3 to:\n",
      "datasets/wav_songs/benyamin_s_ida_royani_hujan_gerimis.wav\n",
      "Converting datasets/songs/dayung_sampan_ekskul_paduan_suara_smp_kk_marsudirini_jakarta_utara.mp3 to:\n",
      "datasets/wav_songs/dayung_sampan_ekskul_paduan_suara_smp_kk_marsudirini_jakarta_utara.wav\n",
      "Converting datasets/songs/abang_pulang_benyamin_suebida_royani.mp3 to:\n",
      "datasets/wav_songs/abang_pulang_benyamin_suebida_royani.wav\n",
      "Converting datasets/songs/abang_pulang.mp3 to:\n",
      "datasets/wav_songs/abang_pulang.wav\n",
      "Converting datasets/songs/sang_bango.mp3 to:\n",
      "datasets/wav_songs/sang_bango.wav\n",
      "Converting datasets/songs/sang_bango_benyamin_s_.mp3 to:\n",
      "datasets/wav_songs/sang_bango_benyamin_s_.wav\n",
      "Converting datasets/songs/sang_bango_binyamin_s_cover_by_bang_pengky_top_tukang_ojek_pengkolan.mp3 to:\n",
      "datasets/wav_songs/sang_bango_binyamin_s_cover_by_bang_pengky_top_tukang_ojek_pengkolan.wav\n",
      "Converting datasets/songs/dodoi_si_dodoi_lagu_daerah_jambi_dengan_lirik.mp3 to:\n",
      "datasets/wav_songs/dodoi_si_dodoi_lagu_daerah_jambi_dengan_lirik.wav\n",
      "Converting datasets/songs/dodoi_si_dodoi_daniel_saniara.mp3 to:\n",
      "datasets/wav_songs/dodoi_si_dodoi_daniel_saniara.wav\n",
      "Converting datasets/songs/tari_injit_injit_semut_tari_kreasi_daerah_jambi_mudah_untuk_anak_tk_paud_pemula.mp3 to:\n",
      "datasets/wav_songs/tari_injit_injit_semut_tari_kreasi_daerah_jambi_mudah_untuk_anak_tk_paud_pemula.wav\n",
      "Converting datasets/songs/injitinjit_semut_lagu_daerah_jambi_lirik_lagu.mp3 to:\n",
      "datasets/wav_songs/injitinjit_semut_lagu_daerah_jambi_lirik_lagu.wav\n",
      "Converting datasets/songs/terbaik_lirik_lagu_injitinjit_semut_lagu_tematik_ceo_jati_atmodjo.mp3 to:\n",
      "datasets/wav_songs/terbaik_lirik_lagu_injitinjit_semut_lagu_tematik_ceo_jati_atmodjo.wav\n",
      "Converting datasets/songs/pinang_muda_jambi.mp3 to:\n",
      "datasets/wav_songs/pinang_muda_jambi.wav\n",
      "Converting datasets/songs/pinang_muda_lagu_daerah_jambi_dengan_lirik.mp3 to:\n",
      "datasets/wav_songs/pinang_muda_lagu_daerah_jambi_dengan_lirik.wav\n",
      "Converting datasets/songs/manfaat_buah_pinang_muda_efek_sampingnya_untuk_kesehatan.mp3 to:\n",
      "datasets/wav_songs/manfaat_buah_pinang_muda_efek_sampingnya_untuk_kesehatan.wav\n",
      "Converting datasets/songs/timang_timang_anakku_sayang_lagu_daerah_jambi.mp3 to:\n",
      "datasets/wav_songs/timang_timang_anakku_sayang_lagu_daerah_jambi.wav\n",
      "Converting datasets/songs/jambi_mantap_ala_supik_lancip_edisi6.mp3 to:\n",
      "datasets/wav_songs/jambi_mantap_ala_supik_lancip_edisi6.wav\n",
      "Converting datasets/songs/video_lirik_negeri_jambi.mp3 to:\n",
      "datasets/wav_songs/video_lirik_negeri_jambi.wav\n",
      "Converting datasets/songs/asal_usul_angso_duo_jambi.mp3 to:\n",
      "datasets/wav_songs/asal_usul_angso_duo_jambi.wav\n",
      "Converting datasets/songs/lagu_jambi_idak_disangko_sangko_nara_afriani.mp3 to:\n",
      "datasets/wav_songs/lagu_jambi_idak_disangko_sangko_nara_afriani.wav\n",
      "Converting datasets/songs/lagu_angso_duo_daerah_jambi.mp3 to:\n",
      "datasets/wav_songs/lagu_angso_duo_daerah_jambi.wav\n",
      "Converting datasets/songs/orang_kayo_hitam_lagu_jambi.mp3 to:\n",
      "datasets/wav_songs/orang_kayo_hitam_lagu_jambi.wav\n",
      "Converting datasets/songs/ayu_muaro_jambi_lagu_daerah_provinsi_jambi_.mp3 to:\n",
      "datasets/wav_songs/ayu_muaro_jambi_lagu_daerah_provinsi_jambi_.wav\n",
      "Converting datasets/songs/selayang_pandang_kabupaten_sarolangun_2020.mp3 to:\n",
      "datasets/wav_songs/selayang_pandang_kabupaten_sarolangun_2020.wav\n",
      "Converting datasets/songs/ratusan_nelayan_di_jambi_takut_melaut_akibat_cuaca_ekstrem.mp3 to:\n",
      "datasets/wav_songs/ratusan_nelayan_di_jambi_takut_melaut_akibat_cuaca_ekstrem.wav\n",
      "Converting datasets/songs/ratusan_nelayan_di_jambi_sambut_gerakan_pengibaran_seribu_merah_putih.mp3 to:\n",
      "datasets/wav_songs/ratusan_nelayan_di_jambi_sambut_gerakan_pengibaran_seribu_merah_putih.wav\n",
      "Converting datasets/songs/cuaca_exstrem_permukiman_nelayan_di_tanjung_jabung_jambi_diterpa_ombak_besar_inews_sore_1701.mp3 to:\n",
      "datasets/wav_songs/cuaca_exstrem_permukiman_nelayan_di_tanjung_jabung_jambi_diterpa_ombak_besar_inews_sore_1701.wav\n",
      "Converting datasets/songs/lagu_jambi_gadis_rimbo_bujang_denies_sary_bae_official_video_music_amran_arzuna.mp3 to:\n",
      "datasets/wav_songs/lagu_jambi_gadis_rimbo_bujang_denies_sary_bae_official_video_music_amran_arzuna.wav\n",
      "Converting datasets/songs/nostalgia_lagu_daerah_jambi_cik_minah_dagang_manumpang_abdi_bagawie.mp3 to:\n",
      "datasets/wav_songs/nostalgia_lagu_daerah_jambi_cik_minah_dagang_manumpang_abdi_bagawie.wav\n",
      "Converting datasets/songs/lagu_daerah_jambi_dagang_manumpang_cik_minah_karaoke.mp3 to:\n",
      "datasets/wav_songs/lagu_daerah_jambi_dagang_manumpang_cik_minah_karaoke.wav\n",
      "Converting datasets/songs/dagang_menumpang_karaoke_lagu_daerah_jambi.mp3 to:\n",
      "datasets/wav_songs/dagang_menumpang_karaoke_lagu_daerah_jambi.wav\n",
      "Converting datasets/songs/husni_thamrin_tanjung_bajure_lagu_daerah_jambi.mp3 to:\n",
      "datasets/wav_songs/husni_thamrin_tanjung_bajure_lagu_daerah_jambi.wav\n",
      "Converting datasets/songs/tanjung_bajure_lagu_daerah_jambi.mp3 to:\n",
      "datasets/wav_songs/tanjung_bajure_lagu_daerah_jambi.wav\n",
      "Converting datasets/songs/nining_meida_bajing_luncat_official_lyric_version.mp3 to:\n",
      "datasets/wav_songs/nining_meida_bajing_luncat_official_lyric_version.wav\n",
      "Converting datasets/songs/bajing_luncat.mp3 to:\n",
      "datasets/wav_songs/bajing_luncat.wav\n",
      "Converting datasets/songs/lirik_lagu_bubuy_bulan_lagu_daerah_jawa_barat.mp3 to:\n",
      "datasets/wav_songs/lirik_lagu_bubuy_bulan_lagu_daerah_jawa_barat.wav\n",
      "Converting datasets/songs/bubuy_bulan_lirik_lagu_daerah_jawa_barat_versi_anak_tema_7_kelas_4_sd_vocal_shema.mp3 to:\n",
      "datasets/wav_songs/bubuy_bulan_lirik_lagu_daerah_jawa_barat_versi_anak_tema_7_kelas_4_sd_vocal_shema.wav\n",
      "Converting datasets/songs/bubuy_bulan.mp3 to:\n",
      "datasets/wav_songs/bubuy_bulan.wav\n",
      "Converting datasets/songs/cing_cangkeling_lagu_daerah_jawa_barat_dengan_lirik.mp3 to:\n",
      "datasets/wav_songs/cing_cangkeling_lagu_daerah_jawa_barat_dengan_lirik.wav\n",
      "Converting datasets/songs/tarian_cing_cangkeling_anak_tk.mp3 to:\n",
      "datasets/wav_songs/tarian_cing_cangkeling_anak_tk.wav\n",
      "Converting datasets/songs/lagu_anak_terbaru_terpopuler_es_lilin_lagu_daerah_jawa_barat.mp3 to:\n",
      "datasets/wav_songs/lagu_anak_terbaru_terpopuler_es_lilin_lagu_daerah_jawa_barat.wav\n",
      "Converting datasets/songs/es_lilin_lagu_daerah_jawa_barat_lirik_dan_terjemahan.mp3 to:\n",
      "datasets/wav_songs/es_lilin_lagu_daerah_jawa_barat_lirik_dan_terjemahan.wav\n",
      "Converting datasets/songs/lirik_lagu_manuk_dadali.mp3 to:\n",
      "datasets/wav_songs/lirik_lagu_manuk_dadali.wav\n",
      "Converting datasets/songs/tari_manuk_dadalijawa_barat_keragaman_budaya_indonesia_xi_ips_4.mp3 to:\n",
      "datasets/wav_songs/tari_manuk_dadalijawa_barat_keragaman_budaya_indonesia_xi_ips_4.wav\n",
      "Converting datasets/songs/aty_surya_manuk_dadali.mp3 to:\n",
      "datasets/wav_songs/aty_surya_manuk_dadali.wav\n",
      "Converting datasets/songs/neng_geulis_lagu_daerah_jawa_barat_lirik_dan_terjemahan.mp3 to:\n",
      "datasets/wav_songs/neng_geulis_lagu_daerah_jawa_barat_lirik_dan_terjemahan.wav\n",
      "Converting datasets/songs/neng_geulis.mp3 to:\n",
      "datasets/wav_songs/neng_geulis.wav\n",
      "Converting datasets/songs/bi_jawa_barat_studi_banding_ke_industri_tenun_ntt.mp3 to:\n",
      "datasets/wav_songs/bi_jawa_barat_studi_banding_ke_industri_tenun_ntt.wav\n",
      "Converting datasets/songs/showcasing_umkm_kategori_kain_tenun_dan_batik_jawa_barat_dalam_rangka_kki_seri_1_2020_di_jawa_barat.mp3 to:\n",
      "datasets/wav_songs/showcasing_umkm_kategori_kain_tenun_dan_batik_jawa_barat_dalam_rangka_kki_seri_1_2020_di_jawa_barat.wav\n",
      "Converting datasets/songs/panon_hideung_lirik_kawih_sunda_urangsunda.mp3 to:\n",
      "datasets/wav_songs/panon_hideung_lirik_kawih_sunda_urangsunda.wav\n",
      "Converting datasets/songs/panon_hideung_live_anjar_boleaz_ft_sora_saparakanca.mp3 to:\n",
      "datasets/wav_songs/panon_hideung_live_anjar_boleaz_ft_sora_saparakanca.wav\n",
      "Converting datasets/songs/panon_hideung_karaoke_lagu_daerah_jawa_barat.mp3 to:\n",
      "datasets/wav_songs/panon_hideung_karaoke_lagu_daerah_jawa_barat.wav\n",
      "Converting datasets/songs/deni_kristiani_pepeling_official_music_video_.mp3 to:\n",
      "datasets/wav_songs/deni_kristiani_pepeling_official_music_video_.wav\n",
      "Converting datasets/songs/lirik_peyeum_bandung_lagu_daerah_jawa_barat.mp3 to:\n",
      "datasets/wav_songs/lirik_peyeum_bandung_lagu_daerah_jawa_barat.wav\n",
      "Converting datasets/songs/begini_lho_cara_membuat_peuyeum_jejak_anak_negeri.mp3 to:\n",
      "datasets/wav_songs/begini_lho_cara_membuat_peuyeum_jejak_anak_negeri.wav\n",
      "Converting datasets/songs/peuyeum_bandung_nining_meida.mp3 to:\n",
      "datasets/wav_songs/peuyeum_bandung_nining_meida.wav\n",
      "Converting datasets/songs/pileuleuyan_lagu_daerah_jawa_barat_budaya_indonesia_dongeng_kita.mp3 to:\n",
      "datasets/wav_songs/pileuleuyan_lagu_daerah_jawa_barat_budaya_indonesia_dongeng_kita.wav\n",
      "Converting datasets/songs/pileuleuyan.mp3 to:\n",
      "datasets/wav_songs/pileuleuyan.wav\n",
      "Converting datasets/songs/tokecang_lagu_daerah_jawa_barat_budaya_indonesia_dongeng_kita.mp3 to:\n",
      "datasets/wav_songs/tokecang_lagu_daerah_jawa_barat_budaya_indonesia_dongeng_kita.wav\n",
      "Converting datasets/songs/lagu_tokecang_lirik.mp3 to:\n",
      "datasets/wav_songs/lagu_tokecang_lirik.wav\n",
      "Converting datasets/songs/tokecang_vito.mp3 to:\n",
      "datasets/wav_songs/tokecang_vito.wav\n",
      "Converting datasets/songs/warung_pojok_nazmi_nadia_x_krishna_sagara_live_session.mp3 to:\n",
      "datasets/wav_songs/warung_pojok_nazmi_nadia_x_krishna_sagara_live_session.wav\n",
      "Converting datasets/songs/warung_pojok_lagu_daerah_jawa_barat_dengan_lirik.mp3 to:\n",
      "datasets/wav_songs/warung_pojok_lagu_daerah_jawa_barat_dengan_lirik.wav\n",
      "Converting datasets/songs/warung_pojok.mp3 to:\n",
      "datasets/wav_songs/warung_pojok.wav\n",
      "Converting datasets/songs/kisah_inspiratif_rina_marlina_atlet_para_bulu_tangkis_asal_tasikmalaya_yang_harumkan_nama_bangsa.mp3 to:\n",
      "datasets/wav_songs/kisah_inspiratif_rina_marlina_atlet_para_bulu_tangkis_asal_tasikmalaya_yang_harumkan_nama_bangsa.wav\n",
      "Converting datasets/songs/raih_beasiswa_bulutangkis_12_atlet_junior_resmi_gabung_pb_djarum.mp3 to:\n",
      "datasets/wav_songs/raih_beasiswa_bulutangkis_12_atlet_junior_resmi_gabung_pb_djarum.wav\n",
      "Converting datasets/songs/cinta_nusa_kawih_lagu_daerah_media_ajar_vokal_usia_sdsmpsma.mp3 to:\n",
      "datasets/wav_songs/cinta_nusa_kawih_lagu_daerah_media_ajar_vokal_usia_sdsmpsma.wav\n",
      "Converting datasets/songs/cinta_nusa_lirik_kawih_sunda.mp3 to:\n",
      "datasets/wav_songs/cinta_nusa_lirik_kawih_sunda.wav\n",
      "Converting datasets/songs/cinta_nusa_video_lirik_hq_audio_kawih_sunda.mp3 to:\n",
      "datasets/wav_songs/cinta_nusa_video_lirik_hq_audio_kawih_sunda.wav\n",
      "Converting datasets/songs/colenak_berasal_dari_kata_dicocol_enak_jajanan_khas_tanah_sunda_jawa_barat.mp3 to:\n",
      "datasets/wav_songs/colenak_berasal_dari_kata_dicocol_enak_jajanan_khas_tanah_sunda_jawa_barat.wav\n",
      "Converting datasets/songs/resep_colenak_bandung_super_legitmanisgurihdijamin_ketagihanresepmasakantapesingkong.mp3 to:\n",
      "datasets/wav_songs/resep_colenak_bandung_super_legitmanisgurihdijamin_ketagihanresepmasakantapesingkong.wav\n",
      "Converting datasets/songs/enakresep_colenak_khas_bandung_rasa_bintang_lima.mp3 to:\n",
      "datasets/wav_songs/enakresep_colenak_khas_bandung_rasa_bintang_lima.wav\n",
      "Converting datasets/songs/tari_lingkung_lembur_jawa_barat.mp3 to:\n",
      "datasets/wav_songs/tari_lingkung_lembur_jawa_barat.wav\n",
      "Converting datasets/songs/elfas_singers_02_medley_lingkung_lembur_sisindiran_tokecang_cingcangkeling_sunda.mp3 to:\n",
      "datasets/wav_songs/elfas_singers_02_medley_lingkung_lembur_sisindiran_tokecang_cingcangkeling_sunda.wav\n",
      "Converting datasets/songs/karaoke_lingkung_lembur_ciptmang_koko.mp3 to:\n",
      "datasets/wav_songs/karaoke_lingkung_lembur_ciptmang_koko.wav\n",
      "Converting datasets/songs/reumbeuy_bandung_tembang_sunda_cianjuran_lagu_sunda_bunga_dessri_live.mp3 to:\n",
      "datasets/wav_songs/reumbeuy_bandung_tembang_sunda_cianjuran_lagu_sunda_bunga_dessri_live.wav\n",
      "Converting datasets/songs/reumbeuy_bandunglyricssundanese_classical_music_for_sleeping.mp3 to:\n",
      "datasets/wav_songs/reumbeuy_bandunglyricssundanese_classical_music_for_sleeping.wav\n",
      "Converting datasets/songs/tembang_macapat_pocung_bapak_pocung_dudu_watu_dudu_gunung_lirik_dan_artiterjemahan.mp3 to:\n",
      "datasets/wav_songs/tembang_macapat_pocung_bapak_pocung_dudu_watu_dudu_gunung_lirik_dan_artiterjemahan.wav\n",
      "Converting datasets/songs/cublak_cublak_suweng_lagu_daerah_jawa_tengah_diva_bernyanyi_diva_the_series_official.mp3 to:\n",
      "datasets/wav_songs/cublak_cublak_suweng_lagu_daerah_jawa_tengah_diva_bernyanyi_diva_the_series_official.wav\n",
      "Converting datasets/songs/tari_kreasi_daerah_jawa_tengah_medley_cublak_suweng_gundul_pacul_suwe_ora_jamu_lir_ilir.mp3 to:\n",
      "datasets/wav_songs/tari_kreasi_daerah_jawa_tengah_medley_cublak_suweng_gundul_pacul_suwe_ora_jamu_lir_ilir.wav\n",
      "Converting datasets/songs/cublak_cublak_suweng_lagu_daerah_jawa_tengah_dengan_lirik.mp3 to:\n",
      "datasets/wav_songs/cublak_cublak_suweng_lagu_daerah_jawa_tengah_dengan_lirik.wav\n",
      "Converting datasets/songs/inilah_joget_bareng_flashmob_semarang_rumah_kita_dalam_rangka_hari_jadi_kota_semarang_ke_476.mp3 to:\n",
      "datasets/wav_songs/inilah_joget_bareng_flashmob_semarang_rumah_kita_dalam_rangka_hari_jadi_kota_semarang_ke_476.wav\n",
      "Converting datasets/songs/gek_kepriye_lagu_daerah_jawa_tengah.mp3 to:\n",
      "datasets/wav_songs/gek_kepriye_lagu_daerah_jawa_tengah.wav\n",
      "Converting datasets/songs/gek_kepriye_lagu_daerah_jawa_tengah_.mp3 to:\n",
      "datasets/wav_songs/gek_kepriye_lagu_daerah_jawa_tengah_.wav\n",
      "Converting datasets/songs/lagu_daerah_jawa_tengah_gek_kepriye_lirik_lagu.mp3 to:\n",
      "datasets/wav_songs/lagu_daerah_jawa_tengah_gek_kepriye_lirik_lagu.wav\n",
      "Converting datasets/songs/gundul_gundul_pacul_lagu_anak_lagu_daerah_jawa_tengah.mp3 to:\n",
      "datasets/wav_songs/gundul_gundul_pacul_lagu_anak_lagu_daerah_jawa_tengah.wav\n",
      "Converting datasets/songs/gundul_pacul_lagu_anak_indonesia.mp3 to:\n",
      "datasets/wav_songs/gundul_pacul_lagu_anak_indonesia.wav\n",
      "Converting datasets/songs/lirik_gundul_pacul_lagu_daerah_jawa_tengah.mp3 to:\n",
      "datasets/wav_songs/lirik_gundul_pacul_lagu_daerah_jawa_tengah.wav\n",
      "Converting datasets/songs/lir_ilir_lagu_daerah_jawa_tengah_budaya_indonesia_dongeng_kita.mp3 to:\n",
      "datasets/wav_songs/lir_ilir_lagu_daerah_jawa_tengah_budaya_indonesia_dongeng_kita.wav\n",
      "Converting datasets/songs/jamuran_taman_siswa_yogyakarta_mk.mp3 to:\n",
      "datasets/wav_songs/jamuran_taman_siswa_yogyakarta_mk.wav\n",
      "Converting datasets/songs/jamuran_lirik_ciptaan_ki_hadi_sukatno_vocal_shema_tembang_dolanan_lagu_daerah_jawa_tengah.mp3 to:\n",
      "datasets/wav_songs/jamuran_lirik_ciptaan_ki_hadi_sukatno_vocal_shema_tembang_dolanan_lagu_daerah_jawa_tengah.wav\n",
      "Converting datasets/songs/jamuran.mp3 to:\n",
      "datasets/wav_songs/jamuran.wav\n",
      "Converting datasets/songs/jaranan_lagu_daerah_jawa_tengah_lirik_dan_terjemahan.mp3 to:\n",
      "datasets/wav_songs/jaranan_lagu_daerah_jawa_tengah_lirik_dan_terjemahan.wav\n",
      "Converting datasets/songs/padang_bulan_taman_siswa_yogyakarta.mp3 to:\n",
      "datasets/wav_songs/padang_bulan_taman_siswa_yogyakarta.wav\n",
      "Converting datasets/songs/lirik_padang_wulan_lagu_daerah_jawa_tengah.mp3 to:\n",
      "datasets/wav_songs/lirik_padang_wulan_lagu_daerah_jawa_tengah.wav\n",
      "Converting datasets/songs/padhang_wulan_jawa_tengah_lagu_daerah_indonesia.mp3 to:\n",
      "datasets/wav_songs/padhang_wulan_jawa_tengah_lagu_daerah_indonesia.wav\n",
      "Converting datasets/songs/gambang_suling_ciptaan_ki_narto_sabdo_vocal_shema_tembang_dolanan_lagu_daerah_jawa_tengah.mp3 to:\n",
      "datasets/wav_songs/gambang_suling_ciptaan_ki_narto_sabdo_vocal_shema_tembang_dolanan_lagu_daerah_jawa_tengah.wav\n",
      "Converting datasets/songs/gambang_suling_lagu_daerah_jawa_tengah_lirik_dan_terjemahan.mp3 to:\n",
      "datasets/wav_songs/gambang_suling_lagu_daerah_jawa_tengah_lirik_dan_terjemahan.wav\n",
      "Converting datasets/songs/tari_gambang_suling_tari_kreasi_daerah_mudah_untuk_anak_paud_tk_sd.mp3 to:\n",
      "datasets/wav_songs/tari_gambang_suling_tari_kreasi_daerah_mudah_untuk_anak_paud_tk_sd.wav\n",
      "Converting datasets/songs/lagu_dondong_opo_salak_animasi_cerita_indonesia_aci.mp3 to:\n",
      "datasets/wav_songs/lagu_dondong_opo_salak_animasi_cerita_indonesia_aci.wav\n",
      "Converting datasets/songs/lagu_anak_dondong_opo_salak_zafira_lagu_anak_indonesia_belajar_menyanyi.mp3 to:\n",
      "datasets/wav_songs/lagu_anak_dondong_opo_salak_zafira_lagu_anak_indonesia_belajar_menyanyi.wav\n",
      "Converting datasets/songs/dondong_opo_salak_siho_live_acoustic_cover.mp3 to:\n",
      "datasets/wav_songs/dondong_opo_salak_siho_live_acoustic_cover.wav\n",
      "Converting datasets/songs/10_sekolah_terbaik_2021_di_kab_banyumas_jawa_tengah.mp3 to:\n",
      "datasets/wav_songs/10_sekolah_terbaik_2021_di_kab_banyumas_jawa_tengah.wav\n",
      "Converting datasets/songs/top_6_sekolah_di_kabupaten_semarang_jawa_tengah.mp3 to:\n",
      "datasets/wav_songs/top_6_sekolah_di_kabupaten_semarang_jawa_tengah.wav\n",
      "Converting datasets/songs/smkn_jateng_sekolah_asrama_gratis_unggulan_jawa_tengah.mp3 to:\n",
      "datasets/wav_songs/smkn_jateng_sekolah_asrama_gratis_unggulan_jawa_tengah.wav\n",
      "Converting datasets/songs/didi_kempot_stasiun_balapan_official_music_video.mp3 to:\n",
      "datasets/wav_songs/didi_kempot_stasiun_balapan_official_music_video.wav\n",
      "Converting datasets/songs/lagu_madura_kembang_malathe_lirik_dan_terjemahan.mp3 to:\n",
      "datasets/wav_songs/lagu_madura_kembang_malathe_lirik_dan_terjemahan.wav\n",
      "Converting datasets/songs/kembang_malathe.mp3 to:\n",
      "datasets/wav_songs/kembang_malathe.wav\n",
      "Converting datasets/songs/kembang_malateh_pote.mp3 to:\n",
      "datasets/wav_songs/kembang_malateh_pote.wav\n",
      "Converting datasets/songs/kerraban_sape_lagu_daerah_jawa_timur_dengan_lirik.mp3 to:\n",
      "datasets/wav_songs/kerraban_sape_lagu_daerah_jawa_timur_dengan_lirik.wav\n",
      "Converting datasets/songs/kerraban_sape.mp3 to:\n",
      "datasets/wav_songs/kerraban_sape.wav\n",
      "Converting datasets/songs/video_lirik_lagu_daerah_kerraban_sape.mp3 to:\n",
      "datasets/wav_songs/video_lirik_lagu_daerah_kerraban_sape.wav\n",
      "Converting datasets/songs/rek_ayo_rek_lagu_daerah_jawa_timur_diva_bernyanyi_diva_the_series_official.mp3 to:\n",
      "datasets/wav_songs/rek_ayo_rek_lagu_daerah_jawa_timur_diva_bernyanyi_diva_the_series_official.wav\n",
      "Converting datasets/songs/lagu_daerah_indonesia_rek_ayo_rek_jawa_timur_lirik_lagu_.mp3 to:\n",
      "datasets/wav_songs/lagu_daerah_indonesia_rek_ayo_rek_jawa_timur_lirik_lagu_.wav\n",
      "Converting datasets/songs/tanduk_majeng_lagu_daerah_madura.mp3 to:\n",
      "datasets/wav_songs/tanduk_majeng_lagu_daerah_madura.wav\n",
      "Converting datasets/songs/tanduk_majeng_cover_lagu_daerah_madura.mp3 to:\n",
      "datasets/wav_songs/tanduk_majeng_cover_lagu_daerah_madura.wav\n",
      "Converting datasets/songs/lagu_madura_gai_bintang_lirik_dan_terjemahan.mp3 to:\n",
      "datasets/wav_songs/lagu_madura_gai_bintang_lirik_dan_terjemahan.wav\n",
      "Converting datasets/songs/ghai_bintang.mp3 to:\n",
      "datasets/wav_songs/ghai_bintang.wav\n",
      "Converting datasets/songs/lindri_taman_siswa_yogyakarta.mp3 to:\n",
      "datasets/wav_songs/lindri_taman_siswa_yogyakarta.wav\n",
      "Converting datasets/songs/lindri_taman_siswa_k.mp3 to:\n",
      "datasets/wav_songs/lindri_taman_siswa_k.wav\n",
      "Converting datasets/songs/lindri.mp3 to:\n",
      "datasets/wav_songs/lindri.wav\n",
      "Converting datasets/songs/sentot_grimis_grimis.mp3 to:\n",
      "datasets/wav_songs/sentot_grimis_grimis.wav\n",
      "Converting datasets/songs/tejo_grimis_grimis.mp3 to:\n",
      "datasets/wav_songs/tejo_grimis_grimis.wav\n",
      "Converting datasets/songs/bapak_tane.mp3 to:\n",
      "datasets/wav_songs/bapak_tane.wav\n",
      "Converting datasets/songs/lagu_daerah_bapak_tane_jawa_timur_lirik.mp3 to:\n",
      "datasets/wav_songs/lagu_daerah_bapak_tane_jawa_timur_lirik.wav\n",
      "Converting datasets/songs/pajjhar_lagghu.mp3 to:\n",
      "datasets/wav_songs/pajjhar_lagghu.wav\n",
      "Converting datasets/songs/didi_kempot_tanjung_perak_lyric.mp3 to:\n",
      "datasets/wav_songs/didi_kempot_tanjung_perak_lyric.wav\n",
      "Converting datasets/songs/lagu_daerah_jawa_timur_tanjung_perak.mp3 to:\n",
      "datasets/wav_songs/lagu_daerah_jawa_timur_tanjung_perak.wav\n",
      "Converting datasets/songs/paksi_band_tanjung_perak_keroncong_modern.mp3 to:\n",
      "datasets/wav_songs/paksi_band_tanjung_perak_keroncong_modern.wav\n",
      "Converting datasets/songs/tanoker_ledokombo_jember_kampung_wisata_belajar.mp3 to:\n",
      "datasets/wav_songs/tanoker_ledokombo_jember_kampung_wisata_belajar.wav\n",
      "Converting datasets/songs/lagu_anak_dhe_nong_dhe_ni_nang_tan_pangantanan_sumenep_madura_by_moh_lutfi.mp3 to:\n",
      "datasets/wav_songs/lagu_anak_dhe_nong_dhe_ni_nang_tan_pangantanan_sumenep_madura_by_moh_lutfi.wav\n",
      "Converting datasets/songs/tradisi_tan_pangantanan_sumenep_dhe_nong_dhe_ni_nang.mp3 to:\n",
      "datasets/wav_songs/tradisi_tan_pangantanan_sumenep_dhe_nong_dhe_ni_nang.wav\n",
      "Converting datasets/songs/lir_sa_alir_fajar_syahid_winda_nefira.mp3 to:\n",
      "datasets/wav_songs/lir_sa_alir_fajar_syahid_winda_nefira.wav\n",
      "Converting datasets/songs/lagu_daerah_madura_lir_saalir_menggema_di_istana_merdeka.mp3 to:\n",
      "datasets/wav_songs/lagu_daerah_madura_lir_saalir_menggema_di_istana_merdeka.wav\n",
      "Converting datasets/songs/lir_saalir_lagu_tradisional_madura_lirik.mp3 to:\n",
      "datasets/wav_songs/lir_saalir_lagu_tradisional_madura_lirik.wav\n",
      "Converting datasets/songs/jan_anjin_lagu_enmaenan_madura.mp3 to:\n",
      "datasets/wav_songs/jan_anjin_lagu_enmaenan_madura.wav\n",
      "Converting datasets/songs/lagu_madura_amaen_jen_anjenan.mp3 to:\n",
      "datasets/wav_songs/lagu_madura_amaen_jen_anjenan.wav\n",
      "Converting datasets/songs/orang_naik_pesawat_di_luar.mp3 to:\n",
      "datasets/wav_songs/orang_naik_pesawat_di_luar.wav\n",
      "File is not found: None\n",
      "Converting datasets/songs/tari_indang_din_din_badindin_di_arena_cfd_sudirman_street_pekanbaru.mp3 to:\n",
      "datasets/wav_songs/tari_indang_din_din_badindin_di_arena_cfd_sudirman_street_pekanbaru.wav\n",
      "Converting datasets/songs/badindin_lagu_daerah_sumatera_barat_dengan_lirik.mp3 to:\n",
      "datasets/wav_songs/badindin_lagu_daerah_sumatera_barat_dengan_lirik.wav\n",
      "Converting datasets/songs/tari_indang_dindin_badindin.mp3 to:\n",
      "datasets/wav_songs/tari_indang_dindin_badindin.wav\n",
      "Converting datasets/songs/yohanis_fransiskus_lema_ansy_lema_komitmen_bangun_ntt_rela_melepaskan_kursi_dpr_ri.mp3 to:\n",
      "datasets/wav_songs/yohanis_fransiskus_lema_ansy_lema_komitmen_bangun_ntt_rela_melepaskan_kursi_dpr_ri.wav\n",
      "Converting datasets/songs/yohanis_fransiskus_lema_berbagi_cita_cita_dan_harapan_bersama_warga_ende.mp3 to:\n",
      "datasets/wav_songs/yohanis_fransiskus_lema_berbagi_cita_cita_dan_harapan_bersama_warga_ende.wav\n",
      "Converting datasets/songs/ole_olang.mp3 to:\n",
      "datasets/wav_songs/ole_olang.wav\n",
      "Converting datasets/songs/selvy_ayunda_manis_robenah_lakar_benyak_oreng_selebur_new_rgs.mp3 to:\n",
      "datasets/wav_songs/selvy_ayunda_manis_robenah_lakar_benyak_oreng_selebur_new_rgs.wav\n",
      "Converting datasets/songs/obuk_celleng_selvi_ayunda_official_live_music.mp3 to:\n",
      "datasets/wav_songs/obuk_celleng_selvi_ayunda_official_live_music.wav\n",
      "Converting datasets/songs/lagu_anak_anak_pok_ame_ame.mp3 to:\n",
      "datasets/wav_songs/lagu_anak_anak_pok_ame_ame.wav\n",
      "File is not found: None\n",
      "Converting datasets/songs/ccp_shinbis_house_spesial_ramadhan.mp3 to:\n",
      "datasets/wav_songs/ccp_shinbis_house_spesial_ramadhan.wav\n",
      "Converting datasets/songs/mop_papua_rumah_sakit_epenkah_cupen_toh_volume_2.mp3 to:\n",
      "datasets/wav_songs/mop_papua_rumah_sakit_epenkah_cupen_toh_volume_2.wav\n",
      "Converting datasets/songs/bencana_banjir_melanda_beberapa_desa_di_jawa_timur.mp3 to:\n",
      "datasets/wav_songs/bencana_banjir_melanda_beberapa_desa_di_jawa_timur.wav\n",
      "Converting datasets/songs/pocong_bangun_siang_bolong.mp3 to:\n",
      "datasets/wav_songs/pocong_bangun_siang_bolong.wav\n",
      "Converting datasets/songs/rabbids_invasion_season_4_opening.mp3 to:\n",
      "datasets/wav_songs/rabbids_invasion_season_4_opening.wav\n",
      "Converting datasets/songs/ikan_raksasa.mp3 to:\n",
      "datasets/wav_songs/ikan_raksasa.wav\n",
      "Converting datasets/songs/lagu_cingcangkeling_animasi_cerita_indonesia_aci.mp3 to:\n",
      "datasets/wav_songs/lagu_cingcangkeling_animasi_cerita_indonesia_aci.wav\n",
      "Converting datasets/songs/tari_cing_cangkeling_tari_kreasi_tari_daerah_anak_tk_paud_mudah_ditirukan.mp3 to:\n",
      "datasets/wav_songs/tari_cing_cangkeling_tari_kreasi_tari_daerah_anak_tk_paud_mudah_ditirukan.wav\n",
      "Converting datasets/songs/lagu_madura_bing_anak_pantun_dalam_lagu_lirik_dan_terjemahan_lagumadura.mp3 to:\n",
      "datasets/wav_songs/lagu_madura_bing_anak_pantun_dalam_lagu_lirik_dan_terjemahan_lagumadura.wav\n",
      "Converting datasets/songs/bing_ana.mp3 to:\n",
      "datasets/wav_songs/bing_ana.wav\n",
      "Converting datasets/songs/cik_cik_periuk_lagu_daerah_kalimantan_barat_budaya_indonesia_dongeng_kita.mp3 to:\n",
      "datasets/wav_songs/cik_cik_periuk_lagu_daerah_kalimantan_barat_budaya_indonesia_dongeng_kita.wav\n",
      "Converting datasets/songs/tari_cik_cik_periuk_tari_kreasi_daerah_kalimantan_barat_tarian_mudah_anak_tk_sd.mp3 to:\n",
      "datasets/wav_songs/tari_cik_cik_periuk_tari_kreasi_daerah_kalimantan_barat_tarian_mudah_anak_tk_sd.wav\n",
      "Converting datasets/songs/cik_cik_periuk_lagu_daerah_kalimantan_barat_lirik_dan_terjemahan.mp3 to:\n",
      "datasets/wav_songs/cik_cik_periuk_lagu_daerah_kalimantan_barat_lirik_dan_terjemahan.wav\n",
      "Converting datasets/songs/sungai_kapuas_lagu_daerah_kalimantan_barat_lirik_dan_terjemahan.mp3 to:\n",
      "datasets/wav_songs/sungai_kapuas_lagu_daerah_kalimantan_barat_lirik_dan_terjemahan.wav\n",
      "Converting datasets/songs/sungai_kapuas.mp3 to:\n",
      "datasets/wav_songs/sungai_kapuas.wav\n",
      "Converting datasets/songs/aek_kapuas_karaoke_version_lagu_daerah_kalimantan_barat.mp3 to:\n",
      "datasets/wav_songs/aek_kapuas_karaoke_version_lagu_daerah_kalimantan_barat.wav\n",
      "Converting datasets/songs/masjid_jami_pontianak_simbol_kemajuan_islam_di_kalimantan_barat.mp3 to:\n",
      "datasets/wav_songs/masjid_jami_pontianak_simbol_kemajuan_islam_di_kalimantan_barat.wav\n",
      "Converting datasets/songs/masjid_tertua_dan_masjid_terbesar_dipontianak_kalimantan_barat.mp3 to:\n",
      "datasets/wav_songs/masjid_tertua_dan_masjid_terbesar_dipontianak_kalimantan_barat.wav\n",
      "Converting datasets/songs/alon_alon_lagu_daerah_sambas_kalimantan_barat.mp3 to:\n",
      "datasets/wav_songs/alon_alon_lagu_daerah_sambas_kalimantan_barat.wav\n",
      "Converting datasets/songs/slank_alon_alon_asal_kelakon_official_music_video.mp3 to:\n",
      "datasets/wav_songs/slank_alon_alon_asal_kelakon_official_music_video.wav\n",
      "Converting datasets/songs/kapal_belon_ost_kembang_polaria_official_music_video.mp3 to:\n",
      "datasets/wav_songs/kapal_belon_ost_kembang_polaria_official_music_video.wav\n",
      "Converting datasets/songs/sejarah_kapal_belon_sambas.mp3 to:\n",
      "datasets/wav_songs/sejarah_kapal_belon_sambas.wav\n",
      "Converting datasets/songs/lagu_sambas_kapal_belon_lirik.mp3 to:\n",
      "datasets/wav_songs/lagu_sambas_kapal_belon_lirik.wav\n",
      "Converting datasets/songs/misteri_sungai_kapuas_penunggunya_kalimantan_barat.mp3 to:\n",
      "datasets/wav_songs/misteri_sungai_kapuas_penunggunya_kalimantan_barat.wav\n",
      "Converting datasets/songs/lagu_sambas_alo_galing_lassong_labban_album_terigas_vol_1.mp3 to:\n",
      "datasets/wav_songs/lagu_sambas_alo_galing_lassong_labban_album_terigas_vol_1.wav\n",
      "Converting datasets/songs/lirik_lagu_sambas_alok_galing.mp3 to:\n",
      "datasets/wav_songs/lirik_lagu_sambas_alok_galing.wav\n",
      "Converting datasets/songs/alo_galing_edm_version_dwin_ft_sri_manisa.mp3 to:\n",
      "datasets/wav_songs/alo_galing_edm_version_dwin_ft_sri_manisa.wav\n",
      "Converting datasets/songs/sejarah_makam_keramat_bantilan.mp3 to:\n",
      "datasets/wav_songs/sejarah_makam_keramat_bantilan.wav\n",
      "Converting datasets/songs/ziarah_ke_kubur_datok_bantelan_putih_sambas_kalbar.mp3 to:\n",
      "datasets/wav_songs/ziarah_ke_kubur_datok_bantelan_putih_sambas_kalbar.wav\n",
      "Converting datasets/songs/bantelan_covered_by_yogi_rizaldi.mp3 to:\n",
      "datasets/wav_songs/bantelan_covered_by_yogi_rizaldi.wav\n",
      "Converting datasets/songs/lirik_lagu_ca_uncang_sambas.mp3 to:\n",
      "datasets/wav_songs/lirik_lagu_ca_uncang_sambas.wav\n",
      "Converting datasets/songs/cak_uncang_dengan_lirik_lagu_melayu_sambas.mp3 to:\n",
      "datasets/wav_songs/cak_uncang_dengan_lirik_lagu_melayu_sambas.wav\n",
      "Converting datasets/songs/dare_sibarang_recomposition.mp3 to:\n",
      "datasets/wav_songs/dare_sibarang_recomposition.wav\n",
      "Converting datasets/songs/chord_dan_not_balok_lagu_darilah_saing.mp3 to:\n",
      "datasets/wav_songs/chord_dan_not_balok_lagu_darilah_saing.wav\n",
      "Converting datasets/songs/lirik_lagu_kote_pontianak_lagu_daerah_kalimantan_barat.mp3 to:\n",
      "datasets/wav_songs/lirik_lagu_kote_pontianak_lagu_daerah_kalimantan_barat.wav\n",
      "Converting datasets/songs/sejarah_asal_mula_sungai_kapuas_kalimantan_barat.mp3 to:\n",
      "datasets/wav_songs/sejarah_asal_mula_sungai_kapuas_kalimantan_barat.wav\n",
      "Converting datasets/songs/kaing_lunggi_by_wike_widowati_official_musik_video.mp3 to:\n",
      "datasets/wav_songs/kaing_lunggi_by_wike_widowati_official_musik_video.wav\n",
      "Converting datasets/songs/kaing_lunggi_bulyan_musthafa_1989.mp3 to:\n",
      "datasets/wav_songs/kaing_lunggi_bulyan_musthafa_1989.wav\n",
      "Converting datasets/songs/sejarah_provinsi_kalimantan_barat_yang_dulu_dikenal_borneo_barat_tagar.mp3 to:\n",
      "datasets/wav_songs/sejarah_provinsi_kalimantan_barat_yang_dulu_dikenal_borneo_barat_tagar.wav\n",
      "Converting datasets/songs/prayogo_pangestu_orang_terkaya_di_indonesia_ternyata_kelahiran_sungai_betung_kalimantan_barat.mp3 to:\n",
      "datasets/wav_songs/prayogo_pangestu_orang_terkaya_di_indonesia_ternyata_kelahiran_sungai_betung_kalimantan_barat.wav\n",
      "Converting datasets/songs/budaya_dan_kekhasan_provinsi_kalimantan_barat_seri_budaya_indonesia.mp3 to:\n",
      "datasets/wav_songs/budaya_dan_kekhasan_provinsi_kalimantan_barat_seri_budaya_indonesia.wav\n",
      "Converting datasets/songs/kerajaan_tertua_di_kalimantan_barat.mp3 to:\n",
      "datasets/wav_songs/kerajaan_tertua_di_kalimantan_barat.wav\n",
      "Converting datasets/songs/lirik_lagu_sambas_kebanjiran.mp3 to:\n",
      "datasets/wav_songs/lirik_lagu_sambas_kebanjiran.wav\n",
      "Converting datasets/songs/sungai_sambas_kebanjiran_by_falsafah_melayu.mp3 to:\n",
      "datasets/wav_songs/sungai_sambas_kebanjiran_by_falsafah_melayu.wav\n",
      "Converting datasets/songs/karaoke_lagu_sambas_sambas_kebanjiran.mp3 to:\n",
      "datasets/wav_songs/karaoke_lagu_sambas_sambas_kebanjiran.wav\n",
      "Converting datasets/songs/tikannang_urang_tue.mp3 to:\n",
      "datasets/wav_songs/tikannang_urang_tue.wav\n",
      "Converting datasets/songs/lagu_sambas_tikanang_urang_tue_cover_rock_lagusambas.mp3 to:\n",
      "datasets/wav_songs/lagu_sambas_tikanang_urang_tue_cover_rock_lagusambas.wav\n",
      "Converting datasets/songs/tandak_sambas_merupakan_tari_tradisional_kalimantan_barat.mp3 to:\n",
      "datasets/wav_songs/tandak_sambas_merupakan_tari_tradisional_kalimantan_barat.wav\n",
      "Converting datasets/songs/ampar_ampar_pisang_lagu_daerah_kalimantan_selatan_diva_bernyanyi_diva_the_series_official.mp3 to:\n",
      "datasets/wav_songs/ampar_ampar_pisang_lagu_daerah_kalimantan_selatan_diva_bernyanyi_diva_the_series_official.wav\n",
      "Converting datasets/songs/tari_ampar_ampar_pisang_tarian_kalimantan_selatan_dilengkapi_sinopsis.mp3 to:\n",
      "datasets/wav_songs/tari_ampar_ampar_pisang_tarian_kalimantan_selatan_dilengkapi_sinopsis.wav\n",
      "Converting datasets/songs/aampar_ampar_pisang_lagu_daerah_kalimantan_selatan.mp3 to:\n",
      "datasets/wav_songs/aampar_ampar_pisang_lagu_daerah_kalimantan_selatan.wav\n",
      "Converting datasets/songs/lagu_banjar_paris_barantai_pandaz_feat_alint_markani_mangmoy.mp3 to:\n",
      "datasets/wav_songs/lagu_banjar_paris_barantai_pandaz_feat_alint_markani_mangmoy.wav\n",
      "Converting datasets/songs/paris_barantai_tari_daerah_kalimantan_selatan.mp3 to:\n",
      "datasets/wav_songs/paris_barantai_tari_daerah_kalimantan_selatan.wav\n",
      "Converting datasets/songs/tari_kreasi_paris_barantai_mudah_ditiru.mp3 to:\n",
      "datasets/wav_songs/tari_kreasi_paris_barantai_mudah_ditiru.wav\n",
      "Converting datasets/songs/saputangan_babuncu_ampat_aasilah_cilla_lirik_terjemahan_lagu_banjar_terbaru_25th.mp3 to:\n",
      "datasets/wav_songs/saputangan_babuncu_ampat_aasilah_cilla_lirik_terjemahan_lagu_banjar_terbaru_25th.wav\n",
      "Converting datasets/songs/sapu_tangan_babuncu_ampat_lagu_daerah_kalimantan_selatan_lirik_dan_terjemahan.mp3 to:\n",
      "datasets/wav_songs/sapu_tangan_babuncu_ampat_lagu_daerah_kalimantan_selatan_lirik_dan_terjemahan.wav\n",
      "Converting datasets/songs/karaoke_sapu_tangan_babuncu_ampat_lagu_daerah_kalimantan_selatan.mp3 to:\n",
      "datasets/wav_songs/karaoke_sapu_tangan_babuncu_ampat_lagu_daerah_kalimantan_selatan.wav\n",
      "Converting datasets/songs/anak_pipit_aasilah_cilla_x_mangmoyr_panting_lirik_artinya_lagu_banjar_terbaru_21th.mp3 to:\n",
      "datasets/wav_songs/anak_pipit_aasilah_cilla_x_mangmoyr_panting_lirik_artinya_lagu_banjar_terbaru_21th.wav\n",
      "Converting datasets/songs/lagu_banjar_anak_pipit_cover_pandaz_ft_anisa_cahayani.mp3 to:\n",
      "datasets/wav_songs/lagu_banjar_anak_pipit_cover_pandaz_ft_anisa_cahayani.wav\n",
      "Converting datasets/songs/ayun_apan_awsyarbaini_cover_pandaz_ft_alintmangmoy_lagu_banjar.mp3 to:\n",
      "datasets/wav_songs/ayun_apan_awsyarbaini_cover_pandaz_ft_alintmangmoy_lagu_banjar.wav\n",
      "Converting datasets/songs/ayun_apan_grup_musik_panting_karantika_nada_ceksound_.mp3 to:\n",
      "datasets/wav_songs/ayun_apan_grup_musik_panting_karantika_nada_ceksound_.wav\n",
      "Converting datasets/songs/lagu_banjar_tirik_lalan_pandaz_feat_alint_markani_cover.mp3 to:\n",
      "datasets/wav_songs/lagu_banjar_tirik_lalan_pandaz_feat_alint_markani_cover.wav\n",
      "Converting datasets/songs/lirik_lagu_halin_lagu_daerah_kalimantan_selatan_lagu_banjar.mp3 to:\n",
      "datasets/wav_songs/lirik_lagu_halin_lagu_daerah_kalimantan_selatan_lagu_banjar.wav\n",
      "Converting datasets/songs/lirik_lagu_halin_lagu_daerah_kalimantan_selatan.mp3 to:\n",
      "datasets/wav_songs/lirik_lagu_halin_lagu_daerah_kalimantan_selatan.wav\n",
      "Converting datasets/songs/tari_japin_mandungmandung_oleh_grup_karantika_nada.mp3 to:\n",
      "datasets/wav_songs/tari_japin_mandungmandung_oleh_grup_karantika_nada.wav\n",
      "Converting datasets/songs/lagu_banjar_mandungmandung_cipta_abdullah_mandung_versi_traditional_art_of_the_music_panting.mp3 to:\n",
      "datasets/wav_songs/lagu_banjar_mandungmandung_cipta_abdullah_mandung_versi_traditional_art_of_the_music_panting.wav\n",
      "Converting datasets/songs/musik_panting_kamilau_intan_mandung_mandung.mp3 to:\n",
      "datasets/wav_songs/musik_panting_kamilau_intan_mandung_mandung.wav\n",
      "Converting datasets/songs/taingat_kasih.mp3 to:\n",
      "datasets/wav_songs/taingat_kasih.wav\n",
      "Converting datasets/songs/ta_ingat_kasih_grup_musik_panting_para_tutus_sap.mp3 to:\n",
      "datasets/wav_songs/ta_ingat_kasih_grup_musik_panting_para_tutus_sap.wav\n",
      "Converting datasets/songs/haznah_haron_siti_zubaidah_official_audio.mp3 to:\n",
      "datasets/wav_songs/haznah_haron_siti_zubaidah_official_audio.wav\n",
      "Converting datasets/songs/kurihing_balu_grup_sirang_bastari_dari_parigi_rantau_tapin.mp3 to:\n",
      "datasets/wav_songs/kurihing_balu_grup_sirang_bastari_dari_parigi_rantau_tapin.wav\n",
      "Converting datasets/songs/bajanji_hati_santa_hoky_dangdut_banjar_kalimantan_selatan.mp3 to:\n",
      "datasets/wav_songs/bajanji_hati_santa_hoky_dangdut_banjar_kalimantan_selatan.wav\n",
      "Converting datasets/songs/bajanji_hati_santa_hoky_dangdut_banjar_kalimantan_selatan_youtube.mp3 to:\n",
      "datasets/wav_songs/bajanji_hati_santa_hoky_dangdut_banjar_kalimantan_selatan_youtube.wav\n",
      "Converting datasets/songs/bajanji_hati.mp3 to:\n",
      "datasets/wav_songs/bajanji_hati.wav\n",
      "Converting datasets/songs/musik_panting_lagu_banjar_guna_guna_nikitak_ciptaan_aw_syabaini.mp3 to:\n",
      "datasets/wav_songs/musik_panting_lagu_banjar_guna_guna_nikitak_ciptaan_aw_syabaini.wav\n",
      "Converting datasets/songs/kelompok_28_hincanghincang.mp3 to:\n",
      "datasets/wav_songs/kelompok_28_hincanghincang.wav\n",
      "Converting datasets/songs/hincanghincang_dah_aw_syarbaini.mp3 to:\n",
      "datasets/wav_songs/hincanghincang_dah_aw_syarbaini.wav\n",
      "Converting datasets/songs/badindang_ria_musik_panting_sanggam_tradisional_banjar_kalimantan_selatan.mp3 to:\n",
      "datasets/wav_songs/badindang_ria_musik_panting_sanggam_tradisional_banjar_kalimantan_selatan.wav\n",
      "Converting datasets/songs/lagu_banjar_badindang_ria_ading_bastari_banua_raya_simphony_banjarmasin_sasirangan_festival_2017.mp3 to:\n",
      "datasets/wav_songs/lagu_banjar_badindang_ria_ading_bastari_banua_raya_simphony_banjarmasin_sasirangan_festival_2017.wav\n",
      "Converting datasets/songs/lagu_banjar_alahai_sayang_pandaz_feat_aaulia_rina.mp3 to:\n",
      "datasets/wav_songs/lagu_banjar_alahai_sayang_pandaz_feat_aaulia_rina.wav\n",
      "Converting datasets/songs/musik_panting_versi_bahari_paris_tengkawang_lagu_banjar_kesenian_khas_kalimantan_selatan.mp3 to:\n",
      "datasets/wav_songs/musik_panting_versi_bahari_paris_tengkawang_lagu_banjar_kesenian_khas_kalimantan_selatan.wav\n",
      "Converting datasets/songs/musik_japin_panting_banjar_dengan_judul_mamuai_wanyi_memanen_madu_lebah.mp3 to:\n",
      "datasets/wav_songs/musik_japin_panting_banjar_dengan_judul_mamuai_wanyi_memanen_madu_lebah.wav\n",
      "Converting datasets/songs/lagu_banjar_ampat_lima_cover_pandaz_ft_alintmarkanianisacahayanimangmoyiim.mp3 to:\n",
      "datasets/wav_songs/lagu_banjar_ampat_lima_cover_pandaz_ft_alintmarkanianisacahayanimangmoyiim.wav\n",
      "Converting datasets/songs/lagu_banjar_ampat_lima_cipt_h_anang_ardiansyah.mp3 to:\n",
      "datasets/wav_songs/lagu_banjar_ampat_lima_cipt_h_anang_ardiansyah.wav\n",
      "Converting datasets/songs/medley_lagu_banjar_ampat_limapambatanganbaras_kuninganak_pipit_cover_by_zulfah_naily.mp3 to:\n",
      "datasets/wav_songs/medley_lagu_banjar_ampat_limapambatanganbaras_kuninganak_pipit_cover_by_zulfah_naily.wav\n",
      "Converting datasets/songs/lagu_banjar_kakamban_habang_cover_pandaz_feat_rinawatimangmoy_pandazversion.mp3 to:\n",
      "datasets/wav_songs/lagu_banjar_kakamban_habang_cover_pandaz_feat_rinawatimangmoy_pandazversion.wav\n",
      "Converting datasets/songs/kakamban_habang_ratna_sari_dangdut_banjar_kalimantan_selatan.mp3 to:\n",
      "datasets/wav_songs/kakamban_habang_ratna_sari_dangdut_banjar_kalimantan_selatan.wav\n",
      "Converting datasets/songs/lagu_banjar_kakamban_habang_cipt_anang_ardiansyah.mp3 to:\n",
      "datasets/wav_songs/lagu_banjar_kakamban_habang_cipt_anang_ardiansyah.wav\n",
      "Converting datasets/songs/curiak_island_a_closer_look_at_proboscis_monkeys.mp3 to:\n",
      "datasets/wav_songs/curiak_island_a_closer_look_at_proboscis_monkeys.wav\n",
      "Converting datasets/songs/curiak_hanang_ardiansyah_cover_by_tommy_kaganangan_ft_pandaz_moy_lagu_banjar.mp3 to:\n",
      "datasets/wav_songs/curiak_hanang_ardiansyah_cover_by_tommy_kaganangan_ft_pandaz_moy_lagu_banjar.wav\n",
      "Converting datasets/songs/lagu_banjar_baras_kuning_coverpandaz_ft_tommykaganangananisacahayanialintmoyiim_pandazversion.mp3 to:\n",
      "datasets/wav_songs/lagu_banjar_baras_kuning_coverpandaz_ft_tommykaganangananisacahayanialintmoyiim_pandazversion.wav\n",
      "Converting datasets/songs/baras_kuning_lagu_banjar_ciptaan_rasnidino_cover_rh_lisna_2022.mp3 to:\n",
      "datasets/wav_songs/baras_kuning_lagu_banjar_ciptaan_rasnidino_cover_rh_lisna_2022.wav\n",
      "Converting datasets/songs/lagu_banjar_baras_kuning_lirik.mp3 to:\n",
      "datasets/wav_songs/lagu_banjar_baras_kuning_lirik.wav\n",
      "Converting datasets/songs/mancari_si_jantung_hati_h_sjachrani_mataja.mp3 to:\n",
      "datasets/wav_songs/mancari_si_jantung_hati_h_sjachrani_mataja.wav\n",
      "Converting datasets/songs/khalifah_si_jantung_hati_official_music_video.mp3 to:\n",
      "datasets/wav_songs/khalifah_si_jantung_hati_official_music_video.wav\n",
      "Converting datasets/songs/lagu_banjarjangan_menangisciptadahaw_syarbaini_versi_sanggar_seni_tradisional_musik_panting.mp3 to:\n",
      "datasets/wav_songs/lagu_banjarjangan_menangisciptadahaw_syarbaini_versi_sanggar_seni_tradisional_musik_panting.wav\n",
      "Converting datasets/songs/jangan_manangis_grup_musik_panting_karantika_nada_ceksound_.mp3 to:\n",
      "datasets/wav_songs/jangan_manangis_grup_musik_panting_karantika_nada_ceksound_.wav\n",
      "Converting datasets/songs/lagu_banjaramas_mirah_cipt_rb_sby.mp3 to:\n",
      "datasets/wav_songs/lagu_banjaramas_mirah_cipt_rb_sby.wav\n",
      "Converting datasets/songs/lagu_banjar_amas_mirah_cover_pandaz_ft_agseisa_idol.mp3 to:\n",
      "datasets/wav_songs/lagu_banjar_amas_mirah_cover_pandaz_ft_agseisa_idol.wav\n",
      "Converting datasets/songs/seni_budaya_kampung_barikin.mp3 to:\n",
      "datasets/wav_songs/seni_budaya_kampung_barikin.wav\n",
      "Converting datasets/songs/kambang_goyang_a_gani_samatha_dangdut_banjar_kalimantan_selatan.mp3 to:\n",
      "datasets/wav_songs/kambang_goyang_a_gani_samatha_dangdut_banjar_kalimantan_selatan.wav\n",
      "Converting datasets/songs/lagu_banjar_kambang_goyang_cover_pandaz_feat_rirismangmoy.mp3 to:\n",
      "datasets/wav_songs/lagu_banjar_kambang_goyang_cover_pandaz_feat_rirismangmoy.wav\n",
      "Converting datasets/songs/budaya_dan_kekhasan_provinsi_kalimantan_selatan_seri_budaya_indonesia.mp3 to:\n",
      "datasets/wav_songs/budaya_dan_kekhasan_provinsi_kalimantan_selatan_seri_budaya_indonesia.wav\n",
      "Converting datasets/songs/kenapa_provinsi_riau_disebut_bumi_lancang_kuning.mp3 to:\n",
      "datasets/wav_songs/kenapa_provinsi_riau_disebut_bumi_lancang_kuning.wav\n",
      "Converting datasets/songs/lancang_kuning_lagu_melayu_riau.mp3 to:\n",
      "datasets/wav_songs/lancang_kuning_lagu_melayu_riau.wav\n",
      "Converting datasets/songs/tirik_tirik_lalan_lagu_tradisional_suku_banjar_musik_panting_kalimantan_selatan.mp3 to:\n",
      "datasets/wav_songs/tirik_tirik_lalan_lagu_tradisional_suku_banjar_musik_panting_kalimantan_selatan.wav\n",
      "Converting datasets/songs/kalayar_lagu_daerah_kalimantan_tengah.mp3 to:\n",
      "datasets/wav_songs/kalayar_lagu_daerah_kalimantan_tengah.wav\n",
      "Converting datasets/songs/kalayar_chord.mp3 to:\n",
      "datasets/wav_songs/kalayar_chord.wav\n",
      "Converting datasets/songs/kalayar.mp3 to:\n",
      "datasets/wav_songs/kalayar.wav\n",
      "Converting datasets/songs/naluya.mp3 to:\n",
      "datasets/wav_songs/naluya.wav\n",
      "Converting datasets/songs/chord_dan_not_balok_lagu_naluya_lagu_daerah_kalimantan_tengah.mp3 to:\n",
      "datasets/wav_songs/chord_dan_not_balok_lagu_naluya_lagu_daerah_kalimantan_tengah.wav\n",
      "Converting datasets/songs/tumpi_wayu_lagu_daerah_kalimantan_tengah_dengan_lirik.mp3 to:\n",
      "datasets/wav_songs/tumpi_wayu_lagu_daerah_kalimantan_tengah_dengan_lirik.wav\n",
      "Converting datasets/songs/tamu_misterius_saat_tengah_malam_lampor.mp3 to:\n",
      "datasets/wav_songs/tamu_misterius_saat_tengah_malam_lampor.wav\n",
      "Converting datasets/songs/tumpi_wayu_kalimantan_tengah.mp3 to:\n",
      "datasets/wav_songs/tumpi_wayu_kalimantan_tengah.wav\n",
      "Converting datasets/songs/tumpi_wayu_lagu_daerah_kalimantan_tengah_cover_version_byacademy_.mp3 to:\n",
      "datasets/wav_songs/tumpi_wayu_lagu_daerah_kalimantan_tengah_cover_version_byacademy_.wav\n",
      "Converting datasets/songs/manari_manasai_lirik_lagu_daerah_kalimantan_tengah_lagudaerah_indonesia_savelagudaerah.mp3 to:\n",
      "datasets/wav_songs/manari_manasai_lirik_lagu_daerah_kalimantan_tengah_lagudaerah_indonesia_savelagudaerah.wav\n",
      "Converting datasets/songs/lirik_manari_manasai_lagu_daerah_kalimantan_tengah.mp3 to:\n",
      "datasets/wav_songs/lirik_manari_manasai_lagu_daerah_kalimantan_tengah.wav\n",
      "Converting datasets/songs/tari_manasai_kolaborasi_kanwil_djpb_dan_kppn_lingkup_provinsi_kalimantan_tengah.mp3 to:\n",
      "datasets/wav_songs/tari_manasai_kolaborasi_kanwil_djpb_dan_kppn_lingkup_provinsi_kalimantan_tengah.wav\n",
      "Converting datasets/songs/oh_indang_oh_apanglagu_daerah_kalimantan_tengah_subscribe.mp3 to:\n",
      "datasets/wav_songs/oh_indang_oh_apanglagu_daerah_kalimantan_tengah_subscribe.wav\n",
      "Converting datasets/songs/lagu_adat_kalimantan_oh_indang_oh_apang.mp3 to:\n",
      "datasets/wav_songs/lagu_adat_kalimantan_oh_indang_oh_apang.wav\n",
      "Converting datasets/songs/lirik_buah_karuhei_3_lagu_daerah_kalimantan_tengah.mp3 to:\n",
      "datasets/wav_songs/lirik_buah_karuhei_3_lagu_daerah_kalimantan_tengah.wav\n",
      "Converting datasets/songs/legenda_kalimantan_tengah_bawi_kuwu_.mp3 to:\n",
      "datasets/wav_songs/legenda_kalimantan_tengah_bawi_kuwu_.wav\n",
      "Converting datasets/songs/lokasi_tempat_sandung_bawi_kuwu.mp3 to:\n",
      "datasets/wav_songs/lokasi_tempat_sandung_bawi_kuwu.wav\n",
      "Converting datasets/songs/lirik_lagu_daerah_kalimantan_tengah_isen_mulang_.mp3 to:\n",
      "datasets/wav_songs/lirik_lagu_daerah_kalimantan_tengah_isen_mulang_.wav\n",
      "Converting datasets/songs/tari_indung_indung_tari_kreasi_daerah_kalimantan_timur_tari_kreasi_islami_mudah_dihafal.mp3 to:\n",
      "datasets/wav_songs/tari_indung_indung_tari_kreasi_daerah_kalimantan_timur_tari_kreasi_islami_mudah_dihafal.wav\n",
      "Converting datasets/songs/video_lirik_lagu_daerah_indungindung.mp3 to:\n",
      "datasets/wav_songs/video_lirik_lagu_daerah_indungindung.wav\n",
      "Converting datasets/songs/indung_indunglagu_daerah_kalimantan_timur.mp3 to:\n",
      "datasets/wav_songs/indung_indunglagu_daerah_kalimantan_timur.wav\n",
      "Converting datasets/songs/lagu_daerah_kalimantan_timur_sabarai_cipt_djuriansyah_se_video_lirik.mp3 to:\n",
      "datasets/wav_songs/lagu_daerah_kalimantan_timur_sabarai_cipt_djuriansyah_se_video_lirik.wav\n",
      "Converting datasets/songs/bulan_haji_lagu_pop_banjar_kalimantan_timur.mp3 to:\n",
      "datasets/wav_songs/bulan_haji_lagu_pop_banjar_kalimantan_timur.wav\n",
      "Converting datasets/songs/bulan_haji_cipt_djuriansyah_se_lagu_daerah_kaltim_video_lirik.mp3 to:\n",
      "datasets/wav_songs/bulan_haji_cipt_djuriansyah_se_lagu_daerah_kaltim_video_lirik.wav\n",
      "Converting datasets/songs/hari_ini_356_jemaah_calon_haji_asal_kalimantan_timur_diberangkatkan_ke_tanah_suci.mp3 to:\n",
      "datasets/wav_songs/hari_ini_356_jemaah_calon_haji_asal_kalimantan_timur_diberangkatkan_ke_tanah_suci.wav\n",
      "Converting datasets/songs/buah_bolok_lagu_daerah_kalimantan_timur_dengan_lirik.mp3 to:\n",
      "datasets/wav_songs/buah_bolok_lagu_daerah_kalimantan_timur_dengan_lirik.wav\n",
      "Converting datasets/songs/lagu_daerah_kalimantan_timur_buah_bolok_yessi_enggar_ft_aliffakod3414.mp3 to:\n",
      "datasets/wav_songs/lagu_daerah_kalimantan_timur_buah_bolok_yessi_enggar_ft_aliffakod3414.wav\n",
      "Converting datasets/songs/buah_bolok_lirik_kutai_indonesia_lagu_daerah_kutai_kalimantan_timur_by_awang_ferdian_hidayat.mp3 to:\n",
      "datasets/wav_songs/buah_bolok_lirik_kutai_indonesia_lagu_daerah_kutai_kalimantan_timur_by_awang_ferdian_hidayat.wav\n",
      "Converting datasets/songs/lagu_daerah_kalimantan_timur_burung_enggang_merista_acooustic_version.mp3 to:\n",
      "datasets/wav_songs/lagu_daerah_kalimantan_timur_burung_enggang_merista_acooustic_version.wav\n",
      "Converting datasets/songs/lamin_talungsur_cipt_dra_zairelawati_lagu_daerah_berau_kaltim_video_lyrics_ver.mp3 to:\n",
      "datasets/wav_songs/lamin_talungsur_cipt_dra_zairelawati_lagu_daerah_berau_kaltim_video_lyrics_ver.wav\n",
      "Converting datasets/songs/bebilin_lagu_daerah_kalimantan_utara_lirik_dan_terjemahan.mp3 to:\n",
      "datasets/wav_songs/bebilin_lagu_daerah_kalimantan_utara_lirik_dan_terjemahan.wav\n",
      "Converting datasets/songs/video_lirik_lagu_daerah_bebilin.mp3 to:\n",
      "datasets/wav_songs/video_lirik_lagu_daerah_bebilin.wav\n",
      "Converting datasets/songs/bebilin_lagu_daerah_kalimantan_utara.mp3 to:\n",
      "datasets/wav_songs/bebilin_lagu_daerah_kalimantan_utara.wav\n",
      "Converting datasets/songs/tari_pinang_sendawar_hut_kota_tanjung_selor_ke233_kabupaten_bulungan_ke63.mp3 to:\n",
      "datasets/wav_songs/tari_pinang_sendawar_hut_kota_tanjung_selor_ke233_kabupaten_bulungan_ke63.wav\n",
      "Converting datasets/songs/lagu_pinang_sendawar.mp3 to:\n",
      "datasets/wav_songs/lagu_pinang_sendawar.wav\n",
      "Converting datasets/songs/lagu_lan_e_tuyang_kalimantan_utara_dan_aransemen_karakter_rasa_ingin_tahu.mp3 to:\n",
      "datasets/wav_songs/lagu_lan_e_tuyang_kalimantan_utara_dan_aransemen_karakter_rasa_ingin_tahu.wav\n",
      "Converting datasets/songs/lan_e_tuyang_uyau_moris_dayak_kenyah_song.mp3 to:\n",
      "datasets/wav_songs/lan_e_tuyang_uyau_moris_dayak_kenyah_song.wav\n",
      "Converting datasets/songs/sindikat_sisa_semalam_cangget_agung_music_video_lagu_daerah_lampung.mp3 to:\n",
      "datasets/wav_songs/sindikat_sisa_semalam_cangget_agung_music_video_lagu_daerah_lampung.wav\n",
      "Converting datasets/songs/lipang_lipang_dang_lagu_daerah_lampung_vok_iwan_sagita_neza_official_record_omv_.mp3 to:\n",
      "datasets/wav_songs/lipang_lipang_dang_lagu_daerah_lampung_vok_iwan_sagita_neza_official_record_omv_.wav\n",
      "Converting datasets/songs/pang_lipang_dang.mp3 to:\n",
      "datasets/wav_songs/pang_lipang_dang.wav\n",
      "Converting datasets/songs/lagu_daerah_lampung_sang_bumi_rua_jurai_cipt_syaiful_anwar_lirik_terjemah_cover_by_tri_suaka.mp3 to:\n",
      "datasets/wav_songs/lagu_daerah_lampung_sang_bumi_rua_jurai_cipt_syaiful_anwar_lirik_terjemah_cover_by_tri_suaka.wav\n",
      "Converting datasets/songs/bumi_lampung_lagu_daerah_lampung_karoke_lirik_dan_terjemahan.mp3 to:\n",
      "datasets/wav_songs/bumi_lampung_lagu_daerah_lampung_karoke_lirik_dan_terjemahan.wav\n",
      "Converting datasets/songs/lagu_daerah_lampung_bumi_lampung_lirik.mp3 to:\n",
      "datasets/wav_songs/lagu_daerah_lampung_bumi_lampung_lirik.wav\n",
      "Converting datasets/songs/lagu_lampung_sakai_sembayan.mp3 to:\n",
      "datasets/wav_songs/lagu_lampung_sakai_sembayan.wav\n",
      "Converting datasets/songs/bahasa_lampung_sakai_sambayan.mp3 to:\n",
      "datasets/wav_songs/bahasa_lampung_sakai_sambayan.wav\n",
      "Converting datasets/songs/lagu_daerah_lampung_seminung_lirik.mp3 to:\n",
      "datasets/wav_songs/lagu_daerah_lampung_seminung_lirik.wav\n",
      "Converting datasets/songs/seminung_lirik_dan_arti_lagu_lampung_cover.mp3 to:\n",
      "datasets/wav_songs/seminung_lirik_dan_arti_lagu_lampung_cover.wav\n",
      "Converting datasets/songs/muloh_tungga_ely_marta_dangdut_lampung.mp3 to:\n",
      "datasets/wav_songs/muloh_tungga_ely_marta_dangdut_lampung.wav\n",
      "Converting datasets/songs/lagu_lampung_populer_2022_moloh_tungga_cipt_rusli_etmain_cover_zia_paku_dj_endra.mp3 to:\n",
      "datasets/wav_songs/lagu_lampung_populer_2022_moloh_tungga_cipt_rusli_etmain_cover_zia_paku_dj_endra.wav\n",
      "Converting datasets/songs/lagu_lampung_pembuka_winda_sanjaya_moloh_tungga.mp3 to:\n",
      "datasets/wav_songs/lagu_lampung_pembuka_winda_sanjaya_moloh_tungga.wav\n",
      "Converting datasets/songs/punyandangan_lagu_lampung_lirik_ciptrusli_z.mp3 to:\n",
      "datasets/wav_songs/punyandangan_lagu_lampung_lirik_ciptrusli_z.wav\n",
      "Converting datasets/songs/punyandangan_lagu_lampung_cover_rudy_ashari_adista_tv.mp3 to:\n",
      "datasets/wav_songs/punyandangan_lagu_lampung_cover_rudy_ashari_adista_tv.wav\n",
      "Converting datasets/songs/punyandangan_karaoke_no_vocal_nada_wanita_lagu_lampung_remix_cipt_rusli_z_key_em.mp3 to:\n",
      "datasets/wav_songs/punyandangan_karaoke_no_vocal_nada_wanita_lagu_lampung_remix_cipt_rusli_z_key_em.wav\n",
      "Converting datasets/songs/anak_tupai_lagu_lampung.mp3 to:\n",
      "datasets/wav_songs/anak_tupai_lagu_lampung.wav\n",
      "Converting datasets/songs/wat_moneh_anak_topay_lagu_lampung.mp3 to:\n",
      "datasets/wav_songs/wat_moneh_anak_topay_lagu_lampung.wav\n",
      "Converting datasets/songs/lagu_lampung_anak_tupai.mp3 to:\n",
      "datasets/wav_songs/lagu_lampung_anak_tupai.wav\n",
      "Converting datasets/songs/bunga_bungana_masamba.mp3 to:\n",
      "datasets/wav_songs/bunga_bungana_masamba.wav\n",
      "Converting datasets/songs/lagu_makassar_bunga_bunganna_masamba_voc_iwan_tompo_cipt_arsyad_basir_lyric.mp3 to:\n",
      "datasets/wav_songs/lagu_makassar_bunga_bunganna_masamba_voc_iwan_tompo_cipt_arsyad_basir_lyric.wav\n",
      "Converting datasets/songs/kabupaten_luwu_sulawesi_selatan_youtubeshorts_kabupatenluwu_luwusulawesiselatan.mp3 to:\n",
      "datasets/wav_songs/kabupaten_luwu_sulawesi_selatan_youtubeshorts_kabupatenluwu_luwusulawesiselatan.wav\n",
      "Converting datasets/songs/orang_ambon_manise_the_soja_official_music_video_.mp3 to:\n",
      "datasets/wav_songs/orang_ambon_manise_the_soja_official_music_video_.wav\n",
      "Converting datasets/songs/ayo_mama_lagu_daerah_maluku.mp3 to:\n",
      "datasets/wav_songs/ayo_mama_lagu_daerah_maluku.wav\n",
      "Converting datasets/songs/tari_ayo_mama_tari_kreasi_maluku_mudah_untuk_anak_paud_tk.mp3 to:\n",
      "datasets/wav_songs/tari_ayo_mama_tari_kreasi_maluku_mudah_untuk_anak_paud_tk.wav\n",
      "Converting datasets/songs/ayo_mama_lagu_daerah_maluku_lirik_dan_vokal.mp3 to:\n",
      "datasets/wav_songs/ayo_mama_lagu_daerah_maluku_lirik_dan_vokal.wav\n",
      "Converting datasets/songs/buka_pintu_lagu_daerah_maluku_lirik_dan_terjemahan.mp3 to:\n",
      "datasets/wav_songs/buka_pintu_lagu_daerah_maluku_lirik_dan_terjemahan.wav\n",
      "Converting datasets/songs/karaoke_buka_pintu_lagu_daerah_maluku.mp3 to:\n",
      "datasets/wav_songs/karaoke_buka_pintu_lagu_daerah_maluku.wav\n",
      "Converting datasets/songs/buka_pintu_lirik_lagu_daerah_maluku.mp3 to:\n",
      "datasets/wav_songs/buka_pintu_lirik_lagu_daerah_maluku.wav\n",
      "Converting datasets/songs/burung_kakaktua_lagu_daerah_maluku_dengan_lirik.mp3 to:\n",
      "datasets/wav_songs/burung_kakaktua_lagu_daerah_maluku_dengan_lirik.wav\n",
      "Converting datasets/songs/dokumen_upaya_rehabilitasi_satwa_langka_burung_kakatua_maluku.mp3 to:\n",
      "datasets/wav_songs/dokumen_upaya_rehabilitasi_satwa_langka_burung_kakatua_maluku.wav\n",
      "Converting datasets/songs/burung_kakatua_maluku_dan_nuri_teriak_mollucancockatoo.mp3 to:\n",
      "datasets/wav_songs/burung_kakatua_maluku_dan_nuri_teriak_mollucancockatoo.wav\n",
      "Converting datasets/songs/lagu_burung_tantina_cipt_sactje_hehanusa.mp3 to:\n",
      "datasets/wav_songs/lagu_burung_tantina_cipt_sactje_hehanusa.wav\n",
      "Converting datasets/songs/burung_tantina_sio_tantina_lagu_daerah_maluku.mp3 to:\n",
      "datasets/wav_songs/burung_tantina_sio_tantina_lagu_daerah_maluku.wav\n",
      "Converting datasets/songs/burung_tantina_sio_tantina_shema_lagu_tema_5_kelas_2_sd_lagu_daerah_maluku_sactje_hehanusa.mp3 to:\n",
      "datasets/wav_songs/burung_tantina_sio_tantina_shema_lagu_tema_5_kelas_2_sd_lagu_daerah_maluku_sactje_hehanusa.wav\n",
      "Converting datasets/songs/goro_gorone_lagu_daerah_maluku_dengan_lirik.mp3 to:\n",
      "datasets/wav_songs/goro_gorone_lagu_daerah_maluku_dengan_lirik.wav\n",
      "Converting datasets/songs/goro_goro_ne_lagu_tradisional_indonesia_dari_maluku_arr_iwan_tanzil.mp3 to:\n",
      "datasets/wav_songs/goro_goro_ne_lagu_tradisional_indonesia_dari_maluku_arr_iwan_tanzil.wav\n",
      "Converting datasets/songs/gorogorone_ambon_song.mp3 to:\n",
      "datasets/wav_songs/gorogorone_ambon_song.wav\n",
      "Converting datasets/songs/gunung_salahutu_maluku.mp3 to:\n",
      "datasets/wav_songs/gunung_salahutu_maluku.wav\n",
      "Converting datasets/songs/hela_rotan_lagi_daerah_maluku_by_viola_merli.mp3 to:\n",
      "datasets/wav_songs/hela_rotan_lagi_daerah_maluku_by_viola_merli.wav\n",
      "Converting datasets/songs/hela_rotane_maluku_arr_ken_steven_ork_renardi_effendi.mp3 to:\n",
      "datasets/wav_songs/hela_rotane_maluku_arr_ken_steven_ork_renardi_effendi.wav\n",
      "Converting datasets/songs/hela_hela_rotan_tania.mp3 to:\n",
      "datasets/wav_songs/hela_hela_rotan_tania.wav\n",
      "Converting datasets/songs/huhate_lagu_daerah_maluku_dengan_lirik.mp3 to:\n",
      "datasets/wav_songs/huhate_lagu_daerah_maluku_dengan_lirik.wav\n",
      "Converting datasets/songs/huhate_ester.mp3 to:\n",
      "datasets/wav_songs/huhate_ester.wav\n",
      "Converting datasets/songs/kole_kole_lagu_daerah_maluku.mp3 to:\n",
      "datasets/wav_songs/kole_kole_lagu_daerah_maluku.wav\n",
      "Converting datasets/songs/kole_kole.mp3 to:\n",
      "datasets/wav_songs/kole_kole.wav\n",
      "Converting datasets/songs/lembe_lembe_vokal_lirik_lagu_daerah_ambon_maluku.mp3 to:\n",
      "datasets/wav_songs/lembe_lembe_vokal_lirik_lagu_daerah_ambon_maluku.wav\n",
      "Converting datasets/songs/lembe_lembe_traditional_song_from_ambon.mp3 to:\n",
      "datasets/wav_songs/lembe_lembe_traditional_song_from_ambon.wav\n",
      "Converting datasets/songs/lembe_lembe_maluku_arr_ps_budi_susanto_yohannes_ork_alvin_witarsa.mp3 to:\n",
      "datasets/wav_songs/lembe_lembe_maluku_arr_ps_budi_susanto_yohannes_ork_alvin_witarsa.wav\n",
      "Converting datasets/songs/daniel_sahuleka_mande_mande.mp3 to:\n",
      "datasets/wav_songs/daniel_sahuleka_mande_mande.wav\n",
      "Converting datasets/songs/mande_mande_iron_tapilaha_i_lagu_indonesia_timur_official_video_music.mp3 to:\n",
      "datasets/wav_songs/mande_mande_iron_tapilaha_i_lagu_indonesia_timur_official_video_music.wav\n",
      "Converting datasets/songs/mande_mande_juul_rene.mp3 to:\n",
      "datasets/wav_songs/mande_mande_juul_rene.wav\n",
      "Converting datasets/songs/naik_naik_ke_puncak_gunung_ambon_maluku_lagu_daerah.mp3 to:\n",
      "datasets/wav_songs/naik_naik_ke_puncak_gunung_ambon_maluku_lagu_daerah.wav\n",
      "Converting datasets/songs/naik_naik_ke_puncak_gunung_diva_bernyanyi_lagu_anak_channel.mp3 to:\n",
      "datasets/wav_songs/naik_naik_ke_puncak_gunung_diva_bernyanyi_lagu_anak_channel.wav\n",
      "Converting datasets/songs/lagu_daerah_maluku_naik_ke_puncak_gunung.mp3 to:\n",
      "datasets/wav_songs/lagu_daerah_maluku_naik_ke_puncak_gunung.wav\n",
      "Converting datasets/songs/lagu_daerah_maluku_nona_manis_siapa_yang_punya_by_ceo.mp3 to:\n",
      "datasets/wav_songs/lagu_daerah_maluku_nona_manis_siapa_yang_punya_by_ceo.wav\n",
      "Converting datasets/songs/nona_manis_siapa_yang_punya_lagu_anak_anak_terbaru_2022_lagu_daerah_maluku.mp3 to:\n",
      "datasets/wav_songs/nona_manis_siapa_yang_punya_lagu_anak_anak_terbaru_2022_lagu_daerah_maluku.wav\n",
      "Converting datasets/songs/nona_manis_siapa_yang_punya_cover_notje_latue_lagu_daerah_maluku.mp3 to:\n",
      "datasets/wav_songs/nona_manis_siapa_yang_punya_cover_notje_latue_lagu_daerah_maluku.wav\n",
      "Converting datasets/songs/o_ulate_lagu_daerah_maluku_dengan_lirik.mp3 to:\n",
      "datasets/wav_songs/o_ulate_lagu_daerah_maluku_dengan_lirik.wav\n",
      "Converting datasets/songs/o_ulate_cover_notje_latue_lagu_daerah_maluku.mp3 to:\n",
      "datasets/wav_songs/o_ulate_cover_notje_latue_lagu_daerah_maluku.wav\n",
      "Converting datasets/songs/oscar_harris_o_ulate.mp3 to:\n",
      "datasets/wav_songs/oscar_harris_o_ulate.wav\n",
      "Converting datasets/songs/rasa_sayange_lagu_daerah_maluku_budaya_indonesia_dongeng_kita.mp3 to:\n",
      "datasets/wav_songs/rasa_sayange_lagu_daerah_maluku_budaya_indonesia_dongeng_kita.wav\n",
      "Converting datasets/songs/lirik_rasa_sayange_lagu_pantun_x_maluku_jogettt.mp3 to:\n",
      "datasets/wav_songs/lirik_rasa_sayange_lagu_pantun_x_maluku_jogettt.wav\n",
      "Converting datasets/songs/rasa_sayange_ifan_suady_x_putri_reski_lagu_daerah_maluku.mp3 to:\n",
      "datasets/wav_songs/rasa_sayange_ifan_suady_x_putri_reski_lagu_daerah_maluku.wav\n",
      "Converting datasets/songs/sarinande_lagu_daerah_maluku_dengan_lirik.mp3 to:\n",
      "datasets/wav_songs/sarinande_lagu_daerah_maluku_dengan_lirik.wav\n",
      "Converting datasets/songs/lirik_sarinande_lagu_anak_cipt_musik_pompi_s.mp3 to:\n",
      "datasets/wav_songs/lirik_sarinande_lagu_anak_cipt_musik_pompi_s.wav\n",
      "Converting datasets/songs/saule_lagu_daerah_dari_maluku_nn_xyab_stereo_recording_without_audio_processing.mp3 to:\n",
      "datasets/wav_songs/saule_lagu_daerah_dari_maluku_nn_xyab_stereo_recording_without_audio_processing.wav\n",
      "Converting datasets/songs/saule_ft_yopie_latul_official_music_video.mp3 to:\n",
      "datasets/wav_songs/saule_ft_yopie_latul_official_music_video.wav\n",
      "Converting datasets/songs/lirik_lagu_nusantara_saule_maluku.mp3 to:\n",
      "datasets/wav_songs/lirik_lagu_nusantara_saule_maluku.wav\n",
      "Converting datasets/songs/sudah_berlayar_cover_notje_latue_lagu_daerah_maluku.mp3 to:\n",
      "datasets/wav_songs/sudah_berlayar_cover_notje_latue_lagu_daerah_maluku.wav\n",
      "Converting datasets/songs/jessica_manuputty_trad_sudah_berlayar_live_tivolivredenburg_utrecht.mp3 to:\n",
      "datasets/wav_songs/jessica_manuputty_trad_sudah_berlayar_live_tivolivredenburg_utrecht.wav\n",
      "Converting datasets/songs/4_sudah_berlayar.mp3 to:\n",
      "datasets/wav_songs/4_sudah_berlayar.wav\n",
      "Converting datasets/songs/tanase_an_ambonese_song.mp3 to:\n",
      "datasets/wav_songs/tanase_an_ambonese_song.wav\n",
      "Converting datasets/songs/tanase_liriklyrick.mp3 to:\n",
      "datasets/wav_songs/tanase_liriklyrick.wav\n",
      "Converting datasets/songs/tanase_cover_notje_latue_lagu_daerah_maluku.mp3 to:\n",
      "datasets/wav_songs/tanase_cover_notje_latue_lagu_daerah_maluku.wav\n",
      "Converting datasets/songs/toki_tifa_psm_undip_diponegoro_university_choir_fps_itb_xxii_high_quality.mp3 to:\n",
      "datasets/wav_songs/toki_tifa_psm_undip_diponegoro_university_choir_fps_itb_xxii_high_quality.wav\n",
      "Converting datasets/songs/toki_tifa_christian_izaac_tamaela_borneo_cantata.mp3 to:\n",
      "datasets/wav_songs/toki_tifa_christian_izaac_tamaela_borneo_cantata.wav\n",
      "Converting datasets/songs/waktu_hujan_sore_sore_lagu_daerah_maluku_by_viola_merli.mp3 to:\n",
      "datasets/wav_songs/waktu_hujan_sore_sore_lagu_daerah_maluku_by_viola_merli.wav\n",
      "Converting datasets/songs/waktu_hujan_sore_sore_nona_tapilaha_i_lagu_indonesia_timur_i_pop_intim_official_video_music.mp3 to:\n",
      "datasets/wav_songs/waktu_hujan_sore_sore_nona_tapilaha_i_lagu_indonesia_timur_i_pop_intim_official_video_music.wav\n",
      "Converting datasets/songs/karaoke_waktu_hujan_sore_sore_music_by_lanno_mbauth.mp3 to:\n",
      "datasets/wav_songs/karaoke_waktu_hujan_sore_sore_music_by_lanno_mbauth.wav\n",
      "Converting datasets/songs/lagu_anak_tutu_koda_dari_nusa_tenggara_barat.mp3 to:\n",
      "datasets/wav_songs/lagu_anak_tutu_koda_dari_nusa_tenggara_barat.wav\n",
      "Converting datasets/songs/tutu_kodalagu_daerah_nusa_tenggara_barat.mp3 to:\n",
      "datasets/wav_songs/tutu_kodalagu_daerah_nusa_tenggara_barat.wav\n",
      "Converting datasets/songs/bolelebo_lagu_daerah_ntt_lagu_anak_indonesia.mp3 to:\n",
      "datasets/wav_songs/bolelebo_lagu_daerah_ntt_lagu_anak_indonesia.wav\n",
      "Converting datasets/songs/orlen_orlen_lagu_daerah_nusa_tenggara_barat.mp3 to:\n",
      "datasets/wav_songs/orlen_orlen_lagu_daerah_nusa_tenggara_barat.wav\n",
      "Converting datasets/songs/rawa_mbojo_orlen_orlen_video_lirik_lagu_bima_dompu.mp3 to:\n",
      "datasets/wav_songs/rawa_mbojo_orlen_orlen_video_lirik_lagu_bima_dompu.wav\n",
      "Converting datasets/songs/lagu_bima_orlenorlen_mantika_vg_cover_by_rizky_x_siti_nurhaliza.mp3 to:\n",
      "datasets/wav_songs/lagu_bima_orlenorlen_mantika_vg_cover_by_rizky_x_siti_nurhaliza.wav\n",
      "Converting datasets/songs/lagu_daerah_nusa_tenggara_timur_pai_mura_rame.mp3 to:\n",
      "datasets/wav_songs/lagu_daerah_nusa_tenggara_timur_pai_mura_rame.wav\n",
      "Converting datasets/songs/pai_mura_ramerame_ansambel_campuran_.mp3 to:\n",
      "datasets/wav_songs/pai_mura_ramerame_ansambel_campuran_.wav\n",
      "Converting datasets/songs/sman_1_lebatukan_lagu_pilihan_pai_mura_rame.mp3 to:\n",
      "datasets/wav_songs/sman_1_lebatukan_lagu_pilihan_pai_mura_rame.wav\n",
      "Converting datasets/songs/tebe_onana_lagu_daerah_nusa_tenggara_timur_dengan_lirik.mp3 to:\n",
      "datasets/wav_songs/tebe_onana_lagu_daerah_nusa_tenggara_timur_dengan_lirik.wav\n",
      "Converting datasets/songs/tebe_onana_lagu_jadul_ntt.mp3 to:\n",
      "datasets/wav_songs/tebe_onana_lagu_jadul_ntt.wav\n",
      "Converting datasets/songs/tebe_onana.mp3 to:\n",
      "datasets/wav_songs/tebe_onana.wav\n",
      "Converting datasets/songs/tutu_koda_trust_orchestra_gala_concert_ioef_2022.mp3 to:\n",
      "datasets/wav_songs/tutu_koda_trust_orchestra_gala_concert_ioef_2022.wav\n",
      "Converting datasets/songs/kadal_nongak_lagu_daerah_ntb_lirik_dan_terjemahan.mp3 to:\n",
      "datasets/wav_songs/kadal_nongak_lagu_daerah_ntb_lirik_dan_terjemahan.wav\n",
      "Converting datasets/songs/uts_seni_tari_tari_tradisi_ntb_kelompok_tari_kadal_nongak_lombok.mp3 to:\n",
      "datasets/wav_songs/uts_seni_tari_tari_tradisi_ntb_kelompok_tari_kadal_nongak_lombok.wav\n",
      "Converting datasets/songs/lagu_sasak_kadal_nongaq_baiq_meidiya_cover.mp3 to:\n",
      "datasets/wav_songs/lagu_sasak_kadal_nongaq_baiq_meidiya_cover.wav\n",
      "Converting datasets/songs/anak_kambing_saya_lagu_daerah_ntt_by_viola_merli.mp3 to:\n",
      "datasets/wav_songs/anak_kambing_saya_lagu_daerah_ntt_by_viola_merli.wav\n",
      "Converting datasets/songs/anak_kambing_saya_caca_marica_hei_hei_lagu_daerah_ntt_video_lirik_song_of_kids.mp3 to:\n",
      "datasets/wav_songs/anak_kambing_saya_caca_marica_hei_hei_lagu_daerah_ntt_video_lirik_song_of_kids.wav\n",
      "Converting datasets/songs/anak_kambing_saya_lagu_daerah_ntt_dengan_lirik.mp3 to:\n",
      "datasets/wav_songs/anak_kambing_saya_lagu_daerah_ntt_dengan_lirik.wav\n",
      "Converting datasets/songs/bolelebo_ester.mp3 to:\n",
      "datasets/wav_songs/bolelebo_ester.wav\n",
      "Converting datasets/songs/bolelebo.mp3 to:\n",
      "datasets/wav_songs/bolelebo.wav\n",
      "Converting datasets/songs/desakulagu_daerah_ntt_subscribe.mp3 to:\n",
      "datasets/wav_songs/desakulagu_daerah_ntt_subscribe.wav\n",
      "Converting datasets/songs/lagu_daerah_nusa_tenggara_timur_desaku_lirik_lagu.mp3 to:\n",
      "datasets/wav_songs/lagu_daerah_nusa_tenggara_timur_desaku_lirik_lagu.wav\n",
      "Converting datasets/songs/desaku_lagu_anak_lagu_daerah_nusa_tenggara_timur_lagu_belajar_menyanyi_lagu_anak_indonesia.mp3 to:\n",
      "datasets/wav_songs/desaku_lagu_anak_lagu_daerah_nusa_tenggara_timur_lagu_belajar_menyanyi_lagu_anak_indonesia.wav\n",
      "Converting datasets/songs/alam_lerang_wutun_riangbaring.mp3 to:\n",
      "datasets/wav_songs/alam_lerang_wutun_riangbaring.wav\n",
      "Converting datasets/songs/lerang_wutun.mp3 to:\n",
      "datasets/wav_songs/lerang_wutun.wav\n",
      "Converting datasets/songs/o_nina_noi_arr_p_riki_tukan_pendidikan_seni_unwira_choir.mp3 to:\n",
      "datasets/wav_songs/o_nina_noi_arr_p_riki_tukan_pendidikan_seni_unwira_choir.wav\n",
      "Converting datasets/songs/lagu_pilihan_o_nina_noi_lagu_daerah_timor.mp3 to:\n",
      "datasets/wav_songs/lagu_pilihan_o_nina_noi_lagu_daerah_timor.wav\n",
      "Converting datasets/songs/o_nina_noi.mp3 to:\n",
      "datasets/wav_songs/o_nina_noi.wav\n",
      "Converting datasets/songs/potong_bebek_angsa_lagu_daerah_ntt_dengan_lirik.mp3 to:\n",
      "datasets/wav_songs/potong_bebek_angsa_lagu_daerah_ntt_dengan_lirik.wav\n",
      "Converting datasets/songs/potong_bebek_angsa_nusa_tenggara_timur.mp3 to:\n",
      "datasets/wav_songs/potong_bebek_angsa_nusa_tenggara_timur.wav\n",
      "Converting datasets/songs/karaoke_potong_bebek_lagu_daerah_ntt.mp3 to:\n",
      "datasets/wav_songs/karaoke_potong_bebek_lagu_daerah_ntt.wav\n",
      "Converting datasets/songs/mana_lolo_banda_voc_grace_improv_music_joshepi_embu_robert_epped.mp3 to:\n",
      "datasets/wav_songs/mana_lolo_banda_voc_grace_improv_music_joshepi_embu_robert_epped.wav\n",
      "Converting datasets/songs/perdana_mana_lolo_banda_arga_rakasiwi_oleh_one_heartmony_choir_mandiri_club_paduan_suara.mp3 to:\n",
      "datasets/wav_songs/perdana_mana_lolo_banda_arga_rakasiwi_oleh_one_heartmony_choir_mandiri_club_paduan_suara.wav\n",
      "Converting datasets/songs/lagu_timur_terbaru_2022_ntt_bercerita_black_magic_ft_riana_chrisno_lirik_video_.mp3 to:\n",
      "datasets/wav_songs/lagu_timur_terbaru_2022_ntt_bercerita_black_magic_ft_riana_chrisno_lirik_video_.wav\n",
      "Converting datasets/songs/pesona_tanjung_lerang_wutunriangbaring.mp3 to:\n",
      "datasets/wav_songs/pesona_tanjung_lerang_wutunriangbaring.wav\n",
      "Converting datasets/songs/gemu_famire_lagu_daerah_ntt.mp3 to:\n",
      "datasets/wav_songs/gemu_famire_lagu_daerah_ntt.wav\n",
      "Converting datasets/songs/lirik_lagu_oras_loro_malirin.mp3 to:\n",
      "datasets/wav_songs/lirik_lagu_oras_loro_malirin.wav\n",
      "Converting datasets/songs/oras_loro_malirin_official_lyrics_dan_terjemahan.mp3 to:\n",
      "datasets/wav_songs/oras_loro_malirin_official_lyrics_dan_terjemahan.wav\n",
      "Converting datasets/songs/lirik_lagu_sabu_03_daerah_ntt_ele_moto_para_liru_terjemahan_lirik_bahasa_indonesia.mp3 to:\n",
      "datasets/wav_songs/lirik_lagu_sabu_03_daerah_ntt_ele_moto_para_liru_terjemahan_lirik_bahasa_indonesia.wav\n",
      "Converting datasets/songs/lagu_ele_moto_daerah_sabu.mp3 to:\n",
      "datasets/wav_songs/lagu_ele_moto_daerah_sabu.wav\n",
      "Converting datasets/songs/ele_moto_para_liru_dody_rony_riwu_kaho.mp3 to:\n",
      "datasets/wav_songs/ele_moto_para_liru_dody_rony_riwu_kaho.wav\n",
      "Converting datasets/songs/lagu_sedih_anak_sabunttbole_jaru_ina_tana_ya_e.mp3 to:\n",
      "datasets/wav_songs/lagu_sedih_anak_sabunttbole_jaru_ina_tana_ya_e.wav\n",
      "Converting datasets/songs/tarian_ofalanggalets_lendo_dance_groupmusik_rote_ndaontt.mp3 to:\n",
      "datasets/wav_songs/tarian_ofalanggalets_lendo_dance_groupmusik_rote_ndaontt.wav\n",
      "Converting datasets/songs/tarian_ofalangga_kreasi_siswa_sma_saj_kupang.mp3 to:\n",
      "datasets/wav_songs/tarian_ofalangga_kreasi_siswa_sma_saj_kupang.wav\n",
      "Converting datasets/songs/tarian_ofa_langga_oleh_siswi_smpn_1_lembor_manggarai_barat_ntt.mp3 to:\n",
      "datasets/wav_songs/tarian_ofa_langga_oleh_siswi_smpn_1_lembor_manggarai_barat_ntt.wav\n",
      "Converting datasets/songs/lagu_nina_noi_lagu_daerah_ntt_dinyanyikan_oleh_siswai_sman_webriamata.mp3 to:\n",
      "datasets/wav_songs/lagu_nina_noi_lagu_daerah_ntt_dinyanyikan_oleh_siswai_sman_webriamata.wav\n",
      "Converting datasets/songs/lagu_tanjung_kurung_ntt.mp3 to:\n",
      "datasets/wav_songs/lagu_tanjung_kurung_ntt.wav\n",
      "Converting datasets/songs/02tio_fanta_pinem_tanjung_kurung_lagu_kupang_baca_deskripsi.mp3 to:\n",
      "datasets/wav_songs/02tio_fanta_pinem_tanjung_kurung_lagu_kupang_baca_deskripsi.wav\n",
      "Converting datasets/songs/mai_falieraper_kupang.mp3 to:\n",
      "datasets/wav_songs/mai_falieraper_kupang.wav\n",
      "Converting datasets/songs/mai_fali_e_cover_by_siswa_siswi_sdi_sedeoen.mp3 to:\n",
      "datasets/wav_songs/mai_fali_e_cover_by_siswa_siswi_sdi_sedeoen.wav\n",
      "Converting datasets/songs/lagu_daerah_mai_fali_e_sman_1_adonara_tengah.mp3 to:\n",
      "datasets/wav_songs/lagu_daerah_mai_fali_e_sman_1_adonara_tengah.wav\n",
      "Converting datasets/songs/tebe_o_nana_lagu_daerah_ntt.mp3 to:\n",
      "datasets/wav_songs/tebe_o_nana_lagu_daerah_ntt.wav\n",
      "Converting datasets/songs/mana_lolo_banda_terbaru_versi_alfred_gare_lagu_daerah_rote_mana_lolo_banda_2022.mp3 to:\n",
      "datasets/wav_songs/mana_lolo_banda_terbaru_versi_alfred_gare_lagu_daerah_rote_mana_lolo_banda_2022.wav\n",
      "Converting datasets/songs/sejarah_nusa_tenggara_timur_dan_berbagai_potensi_wisatanya_tagar.mp3 to:\n",
      "datasets/wav_songs/sejarah_nusa_tenggara_timur_dan_berbagai_potensi_wisatanya_tagar.wav\n",
      "Converting datasets/songs/momen_haru_pastor_asal_ntt_bertemu_ayahnya_yang_terpisah_selama_31_tahun_onenews_update.mp3 to:\n",
      "datasets/wav_songs/momen_haru_pastor_asal_ntt_bertemu_ayahnya_yang_terpisah_selama_31_tahun_onenews_update.wav\n",
      "Converting datasets/songs/nusa_mansuek_lagu_daerah_rote_ntt_cover_by_junantt_video_lyrics.mp3 to:\n",
      "datasets/wav_songs/nusa_mansuek_lagu_daerah_rote_ntt_cover_by_junantt_video_lyrics.wav\n",
      "Converting datasets/songs/peki_lewo.mp3 to:\n",
      "datasets/wav_songs/peki_lewo.wav\n",
      "Converting datasets/songs/dende_reo_adonara_doan_kae_tiktok_viral_line_dance_kupang_ntt_choreo_denka_ndolu_.mp3 to:\n",
      "datasets/wav_songs/dende_reo_adonara_doan_kae_tiktok_viral_line_dance_kupang_ntt_choreo_denka_ndolu_.wav\n",
      "Converting datasets/songs/_leworo_piring_sina_e_improv_musik_oleh_trio_musisi_josh_epi_embu_agapitus_dan_robert_epped.mp3 to:\n",
      "datasets/wav_songs/_leworo_piring_sina_e_improv_musik_oleh_trio_musisi_josh_epi_embu_agapitus_dan_robert_epped.wav\n",
      "Converting datasets/songs/lewo_ro_piring_sina.mp3 to:\n",
      "datasets/wav_songs/lewo_ro_piring_sina.wav\n",
      "Converting datasets/songs/muna_buki_x_dodakado_elfrida_maure_ft_bakawancoustic_live_at_festival_dugong_2022_alor_musikgram.mp3 to:\n",
      "datasets/wav_songs/muna_buki_x_dodakado_elfrida_maure_ft_bakawancoustic_live_at_festival_dugong_2022_alor_musikgram.wav\n",
      "Converting datasets/songs/lagu_daerah_alor_nusa_tenggara_timur_muna_buki_gunung_muna_familycover_rakat_lagutimur_ntt.mp3 to:\n",
      "datasets/wav_songs/lagu_daerah_alor_nusa_tenggara_timur_muna_buki_gunung_muna_familycover_rakat_lagutimur_ntt.wav\n",
      "Converting datasets/songs/do_dakado_muna_buki_cover_lagu_taramiti_tominuku_lagu_daerah_kab_alor.mp3 to:\n",
      "datasets/wav_songs/do_dakado_muna_buki_cover_lagu_taramiti_tominuku_lagu_daerah_kab_alor.wav\n",
      "Converting datasets/songs/kelompok_91_sinji_tena.mp3 to:\n",
      "datasets/wav_songs/kelompok_91_sinji_tena.wav\n",
      "Converting datasets/songs/lagu_alor_sinji_tena.mp3 to:\n",
      "datasets/wav_songs/lagu_alor_sinji_tena.wav\n",
      "Converting datasets/songs/lagu_manuk_rae_lewo_e_ntt.mp3 to:\n",
      "datasets/wav_songs/lagu_manuk_rae_lewo_e_ntt.wav\n",
      "Converting datasets/songs/ina_rae_lewo_wens_kopong_cipt_wens_kopong_pop_flores_timur_ntt.mp3 to:\n",
      "datasets/wav_songs/ina_rae_lewo_wens_kopong_cipt_wens_kopong_pop_flores_timur_ntt.wav\n",
      "Converting datasets/songs/kisah_ayah_selamatkan_putranya_yang_terombangambing_di_laut_.mp3 to:\n",
      "datasets/wav_songs/kisah_ayah_selamatkan_putranya_yang_terombangambing_di_laut_.wav\n",
      "Converting datasets/songs/soa_minabengu_rele_kaju_thomo_siwemole_lagu_lawas_ngada.mp3 to:\n",
      "datasets/wav_songs/soa_minabengu_rele_kaju_thomo_siwemole_lagu_lawas_ngada.wav\n",
      "Converting datasets/songs/bengure_le_kaju_lagu_ntt_by_the_choir_of_smp_negeri_1_bajawa.mp3 to:\n",
      "datasets/wav_songs/bengure_le_kaju_lagu_ntt_by_the_choir_of_smp_negeri_1_bajawa.wav\n",
      "Converting datasets/songs/bengu_rele_kaju_paduan_suara_sma_katolik_sta_maria_homba_karipit.mp3 to:\n",
      "datasets/wav_songs/bengu_rele_kaju_paduan_suara_sma_katolik_sta_maria_homba_karipit.wav\n",
      "Converting datasets/songs/o_ine_mora_atefeat_esthyn_ledo_netomataraga_classic_editionhq_audio.mp3 to:\n",
      "datasets/wav_songs/o_ine_mora_atefeat_esthyn_ledo_netomataraga_classic_editionhq_audio.wav\n",
      "Converting datasets/songs/o_ine_mora_ate_cipt_nn_arr_mataraga_vocal_estin_ledoneto.mp3 to:\n",
      "datasets/wav_songs/o_ine_mora_ate_cipt_nn_arr_mataraga_vocal_estin_ledoneto.wav\n",
      "Converting datasets/songs/lagu_daerah_bajawa_sedih_o_ine_mora_ate.mp3 to:\n",
      "datasets/wav_songs/lagu_daerah_bajawa_sedih_o_ine_mora_ate.wav\n",
      "Converting datasets/songs/hengedo_tradisi_cium_hidung_masyarakat_sabu_raijua_nusa_tenggara_timur_eps_28_bersamanewavanza.mp3 to:\n",
      "datasets/wav_songs/hengedo_tradisi_cium_hidung_masyarakat_sabu_raijua_nusa_tenggara_timur_eps_28_bersamanewavanza.wav\n",
      "Converting datasets/songs/hengedo_tradisi_cium_hidung_asal_suku_sabu_nusa_tenggara_timur_ntt.mp3 to:\n",
      "datasets/wav_songs/hengedo_tradisi_cium_hidung_asal_suku_sabu_nusa_tenggara_timur_ntt.wav\n",
      "Converting datasets/songs/aku_retang_bao_versi_jazz_big_band_adong.mp3 to:\n",
      "datasets/wav_songs/aku_retang_bao_versi_jazz_big_band_adong.wav\n",
      "Converting datasets/songs/cover_lagu_daerah_manggarai_nttaku_retang_bao.mp3 to:\n",
      "datasets/wav_songs/cover_lagu_daerah_manggarai_nttaku_retang_bao.wav\n",
      "Converting datasets/songs/rensi_ambang_ft_eka_kristian_aku_retang_bao.mp3 to:\n",
      "datasets/wav_songs/rensi_ambang_ft_eka_kristian_aku_retang_bao.wav\n",
      "Converting datasets/songs/e_mambo_simbo_lagu_daerah_papua_barat_dengan_lirik.mp3 to:\n",
      "datasets/wav_songs/e_mambo_simbo_lagu_daerah_papua_barat_dengan_lirik.wav\n",
      "Converting datasets/songs/tari_mambo_simbo_papua_paud.mp3 to:\n",
      "datasets/wav_songs/tari_mambo_simbo_papua_paud.wav\n",
      "Converting datasets/songs/sajojo_lagu_daerah_papua_dengan_lirik.mp3 to:\n",
      "datasets/wav_songs/sajojo_lagu_daerah_papua_dengan_lirik.wav\n",
      "Converting datasets/songs/tari_nusantara_sajojo_papua.mp3 to:\n",
      "datasets/wav_songs/tari_nusantara_sajojo_papua.wav\n",
      "Converting datasets/songs/sajojo_reggae_version.mp3 to:\n",
      "datasets/wav_songs/sajojo_reggae_version.wav\n",
      "Converting datasets/songs/tari_kreasi_papua_yamko_rambe_yamko_mudah_ditiru.mp3 to:\n",
      "datasets/wav_songs/tari_kreasi_papua_yamko_rambe_yamko_mudah_ditiru.wav\n",
      "Converting datasets/songs/tarian_indonesia_tampil_di_jerman_yamko_rambe_yamko_papua.mp3 to:\n",
      "datasets/wav_songs/tarian_indonesia_tampil_di_jerman_yamko_rambe_yamko_papua.wav\n",
      "Converting datasets/songs/lagu_daerah_riau_lancang_kuning_full_lirik.mp3 to:\n",
      "datasets/wav_songs/lagu_daerah_riau_lancang_kuning_full_lirik.wav\n",
      "Converting datasets/songs/ria_lancang_kuning.mp3 to:\n",
      "datasets/wav_songs/ria_lancang_kuning.wav\n",
      "Converting datasets/songs/ocu_yusri_kades_ft_reni_renita_maantau_jawuo.mp3 to:\n",
      "datasets/wav_songs/ocu_yusri_kades_ft_reni_renita_maantau_jawuo.wav\n",
      "Converting datasets/songs/yusri_kades_maantau_jawuo.mp3 to:\n",
      "datasets/wav_songs/yusri_kades_maantau_jawuo.wav\n",
      "Converting datasets/songs/rang_talu_lagu_daerah_sumatera_barat_lirik_dan_terjemahan.mp3 to:\n",
      "datasets/wav_songs/rang_talu_lagu_daerah_sumatera_barat_lirik_dan_terjemahan.wav\n",
      "Converting datasets/songs/rang_talu_riau.mp3 to:\n",
      "datasets/wav_songs/rang_talu_riau.wav\n",
      "Converting datasets/songs/lagu_minang_rang_talu.mp3 to:\n",
      "datasets/wav_songs/lagu_minang_rang_talu.wav\n",
      "Converting datasets/songs/soleram_lagu_daerah_riau_budaya_indonesia_dongeng_kita.mp3 to:\n",
      "datasets/wav_songs/soleram_lagu_daerah_riau_budaya_indonesia_dongeng_kita.wav\n",
      "Converting datasets/songs/lirik_soleram_lagu_daerah_riau.mp3 to:\n",
      "datasets/wav_songs/lirik_soleram_lagu_daerah_riau.wav\n",
      "Converting datasets/songs/tari_soleram_tari_kreasi_daerah_riau_tari_mudah_di_hafal.mp3 to:\n",
      "datasets/wav_songs/tari_soleram_tari_kreasi_daerah_riau_tari_mudah_di_hafal.wav\n",
      "Converting datasets/songs/laksmana_raja_di_laut_iyeth_bustami_lagu_melayu_pelipur_hati_pelipur_lara_lirik_.mp3 to:\n",
      "datasets/wav_songs/laksmana_raja_di_laut_iyeth_bustami_lagu_melayu_pelipur_hati_pelipur_lara_lirik_.wav\n",
      "Converting datasets/songs/tari_zapin_mahasiswi_agh_ipb_laksmana_raja_di_laut_penyanyi_m_syukur_feat_alex_sanderyan.mp3 to:\n",
      "datasets/wav_songs/tari_zapin_mahasiswi_agh_ipb_laksmana_raja_di_laut_penyanyi_m_syukur_feat_alex_sanderyan.wav\n",
      "Converting datasets/songs/lagu_pantai_solop_hm_rusli_zaenal_solopbeach.mp3 to:\n",
      "datasets/wav_songs/lagu_pantai_solop_hm_rusli_zaenal_solopbeach.wav\n",
      "Converting datasets/songs/pantai_solop_lagu_daerah_tembilahan.mp3 to:\n",
      "datasets/wav_songs/pantai_solop_lagu_daerah_tembilahan.wav\n",
      "Converting datasets/songs/lagu_daerah_riau_tembilahan_pantai_solop_full_lirik.mp3 to:\n",
      "datasets/wav_songs/lagu_daerah_riau_tembilahan_pantai_solop_full_lirik.wav\n",
      "Converting datasets/songs/sejarah_terbentuknya_provinsi_riau.mp3 to:\n",
      "datasets/wav_songs/sejarah_terbentuknya_provinsi_riau.wav\n",
      "Converting datasets/songs/lagu_aku_anak_pulau_kepulauan_riau_tuan_angah_lirik.mp3 to:\n",
      "datasets/wav_songs/lagu_aku_anak_pulau_kepulauan_riau_tuan_angah_lirik.wav\n",
      "Converting datasets/songs/zapin_laksamana_raja_di_laut_cover_by_orkes_melayu_nuansa_irama_rojer.mp3 to:\n",
      "datasets/wav_songs/zapin_laksamana_raja_di_laut_cover_by_orkes_melayu_nuansa_irama_rojer.wav\n",
      "Converting datasets/songs/kebangkitan_melayu_pekanbaru_riau_anthem.mp3 to:\n",
      "datasets/wav_songs/kebangkitan_melayu_pekanbaru_riau_anthem.wav\n",
      "Converting datasets/songs/kebangkitan_melayu_riau_rhythm_chambers_indonesia.mp3 to:\n",
      "datasets/wav_songs/kebangkitan_melayu_riau_rhythm_chambers_indonesia.wav\n",
      "Converting datasets/songs/kebangkitan_melayu_pekanbaru_riau_anthem_sekata_official_cover.mp3 to:\n",
      "datasets/wav_songs/kebangkitan_melayu_pekanbaru_riau_anthem_sekata_official_cover.wav\n",
      "Converting datasets/songs/segantang_lada_album_junjung_budaya_pak_ngah_suhardi_s_cipt_daud_kadir_alm.mp3 to:\n",
      "datasets/wav_songs/segantang_lada_album_junjung_budaya_pak_ngah_suhardi_s_cipt_daud_kadir_alm.wav\n",
      "Converting datasets/songs/segantang_lada_lagu_daerah_kepulauan_riau.mp3 to:\n",
      "datasets/wav_songs/segantang_lada_lagu_daerah_kepulauan_riau.wav\n",
      "Converting datasets/songs/tambelan_5_agustus_2023kampong_melayukampung_kukup_ramai.mp3 to:\n",
      "datasets/wav_songs/tambelan_5_agustus_2023kampong_melayukampung_kukup_ramai.wav\n",
      "Converting datasets/songs/tambelan_tercinta.mp3 to:\n",
      "datasets/wav_songs/tambelan_tercinta.wav\n",
      "Converting datasets/songs/perjalanan_menuju_kampung_halaman_rumah_riau_indonesia.mp3 to:\n",
      "datasets/wav_songs/perjalanan_menuju_kampung_halaman_rumah_riau_indonesia.wav\n",
      "Converting datasets/songs/drs_zulham_djais_rindu_kampung_official_musik_video_.mp3 to:\n",
      "datasets/wav_songs/drs_zulham_djais_rindu_kampung_official_musik_video_.wav\n",
      "Converting datasets/songs/pak_ngah_balek_lp3kd_kepulauan_riau.mp3 to:\n",
      "datasets/wav_songs/pak_ngah_balek_lp3kd_kepulauan_riau.wav\n",
      "Converting datasets/songs/riau_street_musician_kasih_budi_live_in_sikukeluang.mp3 to:\n",
      "datasets/wav_songs/riau_street_musician_kasih_budi_live_in_sikukeluang.wav\n",
      "Converting datasets/songs/ammaciang_makassar.mp3 to:\n",
      "datasets/wav_songs/ammaciang_makassar.wav\n",
      "Converting datasets/songs/ammaciang.mp3 to:\n",
      "datasets/wav_songs/ammaciang.wav\n",
      "Converting datasets/songs/lagu_makassar_amma_ciang.mp3 to:\n",
      "datasets/wav_songs/lagu_makassar_amma_ciang.wav\n",
      "Converting datasets/songs/anakukang_makassar.mp3 to:\n",
      "datasets/wav_songs/anakukang_makassar.wav\n",
      "Converting datasets/songs/anak_kukang_iwan_tompo_cover_ancha_ds_lengkap_lirik_dan_artinya.mp3 to:\n",
      "datasets/wav_songs/anak_kukang_iwan_tompo_cover_ancha_ds_lengkap_lirik_dan_artinya.wav\n",
      "Converting datasets/songs/battibatti_di_padang_selayar_sulawesi_selatansouth_sulawesi.mp3 to:\n",
      "datasets/wav_songs/battibatti_di_padang_selayar_sulawesi_selatansouth_sulawesi.wav\n",
      "Converting datasets/songs/tunrung_pakarena_dari_m_dg_tayang.mp3 to:\n",
      "datasets/wav_songs/tunrung_pakarena_dari_m_dg_tayang.wav\n",
      "Converting datasets/songs/idenesia_mengenal_sejarah_tradisi_mappadendang.mp3 to:\n",
      "datasets/wav_songs/idenesia_mengenal_sejarah_tradisi_mappadendang.wav\n",
      "Converting datasets/songs/marencong_rencong_lagu_daerah_khas_sulawesi_selatan_di_padukan_dengan_kecapi_yang_begitu_elok.mp3 to:\n",
      "datasets/wav_songs/marencong_rencong_lagu_daerah_khas_sulawesi_selatan_di_padukan_dengan_kecapi_yang_begitu_elok.wav\n",
      "Converting datasets/songs/lagu_makassar_marencong_rencong_ismail_wahid.mp3 to:\n",
      "datasets/wav_songs/lagu_makassar_marencong_rencong_ismail_wahid.wav\n",
      "Converting datasets/songs/ma_rencong_rencong_arr_budi_susanto_yohanes_ssaa_arr_nicholas_rio.mp3 to:\n",
      "datasets/wav_songs/ma_rencong_rencong_arr_budi_susanto_yohanes_ssaa_arr_nicholas_rio.wav\n",
      "Converting datasets/songs/gita_swara_46_dan_jasfintara_nababan_ma_rencong_rencong_budi_susanto_yohanes.mp3 to:\n",
      "datasets/wav_songs/gita_swara_46_dan_jasfintara_nababan_ma_rencong_rencong_budi_susanto_yohanes.wav\n",
      "Converting datasets/songs/pakarena_lagu_daerah_sulsel_ifan_suady_ft_putri_resky_cover.mp3 to:\n",
      "datasets/wav_songs/pakarena_lagu_daerah_sulsel_ifan_suady_ft_putri_resky_cover.wav\n",
      "Converting datasets/songs/pakarena_lagu_daerah_sulawesi_selatan_budaya_indonesia_dongeng_kita.mp3 to:\n",
      "datasets/wav_songs/pakarena_lagu_daerah_sulawesi_selatan_budaya_indonesia_dongeng_kita.wav\n",
      "Converting datasets/songs/pakarena_indonesian_court_dance_from_south_sulawesi_live_in_south_sulawesi_indonesia_1990.mp3 to:\n",
      "datasets/wav_songs/pakarena_indonesian_court_dance_from_south_sulawesi_live_in_south_sulawesi_indonesia_1990.wav\n",
      "Converting datasets/songs/sulawesi_parasangantamakassar.mp3 to:\n",
      "datasets/wav_songs/sulawesi_parasangantamakassar.wav\n",
      "Converting datasets/songs/sulawesi_parasanganta_vol4_1012_losquin_makassar.mp3 to:\n",
      "datasets/wav_songs/sulawesi_parasanganta_vol4_1012_losquin_makassar.wav\n",
      "Converting datasets/songs/sulawesi_parasanganta.mp3 to:\n",
      "datasets/wav_songs/sulawesi_parasanganta.wav\n",
      "Converting datasets/songs/lirik_lagu_nusantara_tondok_kadadianku_sulawesi_tengah.mp3 to:\n",
      "datasets/wav_songs/lirik_lagu_nusantara_tondok_kadadianku_sulawesi_tengah.wav\n",
      "Converting datasets/songs/tondok_kadadiangku_lagu_daerah_sulawesi_selatan_dengan_lirik.mp3 to:\n",
      "datasets/wav_songs/tondok_kadadiangku_lagu_daerah_sulawesi_selatan_dengan_lirik.wav\n",
      "Converting datasets/songs/video_lirik_lagu_daerah_tondok_kadadianku.mp3 to:\n",
      "datasets/wav_songs/video_lirik_lagu_daerah_tondok_kadadianku.wav\n",
      "Converting datasets/songs/video_lirik_lagu_daerah_tope_gugu.mp3 to:\n",
      "datasets/wav_songs/video_lirik_lagu_daerah_tope_gugu.wav\n",
      "Converting datasets/songs/tope_gugu_cover_ihram_hexal_lagu_delonan_anakanak_bahasa_daerah_kaili_sulawesi_tengah.mp3 to:\n",
      "datasets/wav_songs/tope_gugu_cover_ihram_hexal_lagu_delonan_anakanak_bahasa_daerah_kaili_sulawesi_tengah.wav\n",
      "Converting datasets/songs/peia_tawa_tawa_instrumental_with_high_quality_audio_lagu_daerah_sulawesi_tenggara.mp3 to:\n",
      "datasets/wav_songs/peia_tawa_tawa_instrumental_with_high_quality_audio_lagu_daerah_sulawesi_tenggara.wav\n",
      "Converting datasets/songs/peia_tawa_tawa_asal_sulawesi_tenggara.mp3 to:\n",
      "datasets/wav_songs/peia_tawa_tawa_asal_sulawesi_tenggara.wav\n",
      "Converting datasets/songs/tana_wolio_lagu_daerah_sulawesi_tenggara_dengan_lirik.mp3 to:\n",
      "datasets/wav_songs/tana_wolio_lagu_daerah_sulawesi_tenggara_dengan_lirik.wav\n",
      "Converting datasets/songs/karaoke_tana_woliolagu_daerah_sulawesi_tenggara.mp3 to:\n",
      "datasets/wav_songs/karaoke_tana_woliolagu_daerah_sulawesi_tenggara.wav\n",
      "Converting datasets/songs/esa_mokan_lagu_daerah_sulawesi_utara_lirik_dan_terjemahan.mp3 to:\n",
      "datasets/wav_songs/esa_mokan_lagu_daerah_sulawesi_utara_lirik_dan_terjemahan.wav\n",
      "Converting datasets/songs/lagu_daerah_sulawesi_utara_esa_mokan_lirik_lagu.mp3 to:\n",
      "datasets/wav_songs/lagu_daerah_sulawesi_utara_esa_mokan_lirik_lagu.wav\n",
      "Converting datasets/songs/esa_mokan.mp3 to:\n",
      "datasets/wav_songs/esa_mokan.wav\n",
      "Converting datasets/songs/gadis_taruna_je_tatengkeng_dan_ismail_marzuki_by_johny_damar.mp3 to:\n",
      "datasets/wav_songs/gadis_taruna_je_tatengkeng_dan_ismail_marzuki_by_johny_damar.wav\n",
      "Converting datasets/songs/gadis_taruna_dampelos_vg.mp3 to:\n",
      "datasets/wav_songs/gadis_taruna_dampelos_vg.wav\n",
      "Converting datasets/songs/o_ina_ni_keke_lagu_daerah_sulawesi_utara_lirik_dan_terjemahan.mp3 to:\n",
      "datasets/wav_songs/o_ina_ni_keke_lagu_daerah_sulawesi_utara_lirik_dan_terjemahan.wav\n",
      "Converting datasets/songs/o_ina_ni_keke_lagu_daerah_sulawesi_utara.mp3 to:\n",
      "datasets/wav_songs/o_ina_ni_keke_lagu_daerah_sulawesi_utara.wav\n",
      "Converting datasets/songs/lagu_o_ina_ne_keke_lagu_daerah_sulawesi_utara.mp3 to:\n",
      "datasets/wav_songs/lagu_o_ina_ne_keke_lagu_daerah_sulawesi_utara.wav\n",
      "Converting datasets/songs/sipatokaan_ifan_suady_x_putri_reski_lagu_daerah_sulawesi_utara_cover.mp3 to:\n",
      "datasets/wav_songs/sipatokaan_ifan_suady_x_putri_reski_lagu_daerah_sulawesi_utara_cover.wav\n",
      "Converting datasets/songs/sipatokaan_lagu_daerah_sulawesi_utara_budaya_indonesia_dongeng_kita.mp3 to:\n",
      "datasets/wav_songs/sipatokaan_lagu_daerah_sulawesi_utara_budaya_indonesia_dongeng_kita.wav\n",
      "Converting datasets/songs/sipatokaan_lagu_daerah_sulawesi_utara.mp3 to:\n",
      "datasets/wav_songs/sipatokaan_lagu_daerah_sulawesi_utara.wav\n",
      "Converting datasets/songs/mirna_herman_tahanusangkara_official_musik_video.mp3 to:\n",
      "datasets/wav_songs/mirna_herman_tahanusangkara_official_musik_video.wav\n",
      "Converting datasets/songs/veronika_tan_eks_istri_ahok_yang_jadi_panitia_pengarah_natal_nasional_2024_di_sulawesi_utara.mp3 to:\n",
      "datasets/wav_songs/veronika_tan_eks_istri_ahok_yang_jadi_panitia_pengarah_natal_nasional_2024_di_sulawesi_utara.wav\n",
      "Converting datasets/songs/pesona_adad_minang_di_arak_keliling_kampung_bersama_anak_daro_marapulai.mp3 to:\n",
      "datasets/wav_songs/pesona_adad_minang_di_arak_keliling_kampung_bersama_anak_daro_marapulai.wav\n",
      "Converting datasets/songs/anak_daro_sumatra_barat.mp3 to:\n",
      "datasets/wav_songs/anak_daro_sumatra_barat.wav\n",
      "Converting datasets/songs/ayam_den_lapeh_lagu_daerah_sumatra_barat.mp3 to:\n",
      "datasets/wav_songs/ayam_den_lapeh_lagu_daerah_sumatra_barat.wav\n",
      "Converting datasets/songs/ria_amelia_ayam_den_lapeh_official_video_lagu_minang_populer.mp3 to:\n",
      "datasets/wav_songs/ria_amelia_ayam_den_lapeh_official_video_lagu_minang_populer.wav\n",
      "Converting datasets/songs/tari_indang_dindin_badindin_sd_sekaran_2_at_unnes_paramita_dny.mp3 to:\n",
      "datasets/wav_songs/tari_indang_dindin_badindin_sd_sekaran_2_at_unnes_paramita_dny.wav\n",
      "Converting datasets/songs/tari_dindin_badindin_sumatera_barat_rumah_belajar_mawinsya.mp3 to:\n",
      "datasets/wav_songs/tari_dindin_badindin_sumatera_barat_rumah_belajar_mawinsya.wav\n",
      "Converting datasets/songs/bareh_soloklagu_daerah_kab_soloksumatra_barat.mp3 to:\n",
      "datasets/wav_songs/bareh_soloklagu_daerah_kab_soloksumatra_barat.wav\n",
      "Converting datasets/songs/ria_amelia_bareh_solok_official_video_lagu_minang_populer.mp3 to:\n",
      "datasets/wav_songs/ria_amelia_bareh_solok_official_video_lagu_minang_populer.wav\n",
      "Converting datasets/songs/bareh_solok_lagu_minangkaraoke_nada_wanita_femalecewekperempuanucokku.mp3 to:\n",
      "datasets/wav_songs/bareh_solok_lagu_minangkaraoke_nada_wanita_femalecewekperempuanucokku.wav\n",
      "Converting datasets/songs/sipakugelanglagu_daerah_sumatra_barat.mp3 to:\n",
      "datasets/wav_songs/sipakugelanglagu_daerah_sumatra_barat.wav\n",
      "Converting datasets/songs/gelang_si_paku_gelang_sayonara_lagu_populer_anak_indonesia_2022_lirik_dan_animasi.mp3 to:\n",
      "datasets/wav_songs/gelang_si_paku_gelang_sayonara_lagu_populer_anak_indonesia_2022_lirik_dan_animasi.wav\n",
      "Converting datasets/songs/gelang_sipaku_gelang_medley_sayonara.mp3 to:\n",
      "datasets/wav_songs/gelang_sipaku_gelang_medley_sayonara.wav\n",
      "Converting datasets/songs/ka_parak_tinggalagu_daerah_sumatra_barat.mp3 to:\n",
      "datasets/wav_songs/ka_parak_tinggalagu_daerah_sumatra_barat.wav\n",
      "Converting datasets/songs/lagu_daerah_sumatera_barat_kaparak_tingga_lirik_lagu.mp3 to:\n",
      "datasets/wav_songs/lagu_daerah_sumatera_barat_kaparak_tingga_lirik_lagu.wav\n",
      "Converting datasets/songs/kaparak_tingga.mp3 to:\n",
      "datasets/wav_songs/kaparak_tingga.wav\n",
      "Converting datasets/songs/kambanglah_bungo_lagu_daerah_minangkabau_lirik.mp3 to:\n",
      "datasets/wav_songs/kambanglah_bungo_lagu_daerah_minangkabau_lirik.wav\n",
      "Converting datasets/songs/kambanglah_bungo_alan.mp3 to:\n",
      "datasets/wav_songs/kambanglah_bungo_alan.wav\n",
      "Converting datasets/songs/video_lirik_lagu_daerah_kambanglah_bungo.mp3 to:\n",
      "datasets/wav_songs/video_lirik_lagu_daerah_kambanglah_bungo.wav\n",
      "Converting datasets/songs/kampuang_nan_jauh_dimato_lagu_daerah_sumatera_barat_lirik_dan_terjemahan.mp3 to:\n",
      "datasets/wav_songs/kampuang_nan_jauh_dimato_lagu_daerah_sumatera_barat_lirik_dan_terjemahan.wav\n",
      "Converting datasets/songs/kampuang_nan_jauah_di_mato_diva_bernyanyi_lagu_daerah_lagu_anak_channel.mp3 to:\n",
      "datasets/wav_songs/kampuang_nan_jauah_di_mato_diva_bernyanyi_lagu_daerah_lagu_anak_channel.wav\n",
      "Converting datasets/songs/kampuang_nan_jauh_di_mato_lagu_daerah_sumatera_barat.mp3 to:\n",
      "datasets/wav_songs/kampuang_nan_jauh_di_mato_lagu_daerah_sumatera_barat.wav\n",
      "Converting datasets/songs/kutang_barendo_lagu_minang.mp3 to:\n",
      "datasets/wav_songs/kutang_barendo_lagu_minang.wav\n",
      "Converting datasets/songs/kintani_laruik_sanjo_official_video_clip_hd.mp3 to:\n",
      "datasets/wav_songs/kintani_laruik_sanjo_official_video_clip_hd.wav\n",
      "Converting datasets/songs/lah_laruik_sanjo_christoffer_nelwannusantara_berdendang_guitar_cover_lirik.mp3 to:\n",
      "datasets/wav_songs/lah_laruik_sanjo_christoffer_nelwannusantara_berdendang_guitar_cover_lirik.wav\n",
      "Converting datasets/songs/lah_laruik_sanjo_sumatera_barat.mp3 to:\n",
      "datasets/wav_songs/lah_laruik_sanjo_sumatera_barat.wav\n",
      "Converting datasets/songs/mak_inang_ikke_nurjanah.mp3 to:\n",
      "datasets/wav_songs/mak_inang_ikke_nurjanah.wav\n",
      "Converting datasets/songs/mak_inang_ikke_nurjannah_lirik_lagu.mp3 to:\n",
      "datasets/wav_songs/mak_inang_ikke_nurjannah_lirik_lagu.wav\n",
      "Converting datasets/songs/lagu_daerah_minangkabau_malam_baiko.mp3 to:\n",
      "datasets/wav_songs/lagu_daerah_minangkabau_malam_baiko.wav\n",
      "Converting datasets/songs/cengkok_paku_gelang_sumatera_barat_cover_wen_simahgoda.mp3 to:\n",
      "datasets/wav_songs/cengkok_paku_gelang_sumatera_barat_cover_wen_simahgoda.wav\n",
      "Converting datasets/songs/malam_malam_bainai_tarian_dari_daerah_padang_sumatera_barat.mp3 to:\n",
      "datasets/wav_songs/malam_malam_bainai_tarian_dari_daerah_padang_sumatera_barat.wav\n",
      "Converting datasets/songs/defri_juliant_ft_puspa_indah_seringgit_dua_kupang_official_music_video.mp3 to:\n",
      "datasets/wav_songs/defri_juliant_ft_puspa_indah_seringgit_dua_kupang_official_music_video.wav\n",
      "Converting datasets/songs/seringgit_dua_kupang_lagu_daerah_sumatera_barat_gamelan_sang_saptaswara.mp3 to:\n",
      "datasets/wav_songs/seringgit_dua_kupang_lagu_daerah_sumatera_barat_gamelan_sang_saptaswara.wav\n",
      "Converting datasets/songs/duo_diva_jawa_minang_official_music_video.mp3 to:\n",
      "datasets/wav_songs/duo_diva_jawa_minang_official_music_video.wav\n",
      "Converting datasets/songs/tak_tong_tong_lagu_daerah_sumatera_barat_lirik_dan_terjemahan.mp3 to:\n",
      "datasets/wav_songs/tak_tong_tong_lagu_daerah_sumatera_barat_lirik_dan_terjemahan.wav\n",
      "Converting datasets/songs/tak_tong_tong_instrumental_minang_high_quality_audio_lagu_daerah_sumatera_barat.mp3 to:\n",
      "datasets/wav_songs/tak_tong_tong_instrumental_minang_high_quality_audio_lagu_daerah_sumatera_barat.wav\n",
      "Converting datasets/songs/tari_payung_sumatera_barat.mp3 to:\n",
      "datasets/wav_songs/tari_payung_sumatera_barat.wav\n",
      "Converting datasets/songs/tari_payung_sumatera_barat_penampilan_dari_siswi_smp_almubarak_kelas_9.mp3 to:\n",
      "datasets/wav_songs/tari_payung_sumatera_barat_penampilan_dari_siswi_smp_almubarak_kelas_9.wav\n",
      "Converting datasets/songs/lagu_daerah_indonesia_sumatera_selatan_cuk_mak_ilang.mp3 to:\n",
      "datasets/wav_songs/lagu_daerah_indonesia_sumatera_selatan_cuk_mak_ilang.wav\n",
      "Converting datasets/songs/cuk_mak_ilang_nabila_maharani_ft_tri_suaka_acoustic.mp3 to:\n",
      "datasets/wav_songs/cuk_mak_ilang_nabila_maharani_ft_tri_suaka_acoustic.wav\n",
      "Converting datasets/songs/dek_sangke_lagu_daerah_sumatera_selatan_lirik_dan_terjemahan.mp3 to:\n",
      "datasets/wav_songs/dek_sangke_lagu_daerah_sumatera_selatan_lirik_dan_terjemahan.wav\n",
      "Converting datasets/songs/dek_sangke_lagu_dan_tari_nusantara_lagu_anak.mp3 to:\n",
      "datasets/wav_songs/dek_sangke_lagu_dan_tari_nusantara_lagu_anak.wav\n",
      "Converting datasets/songs/vienna_fridiana_dek_sangke.mp3 to:\n",
      "datasets/wav_songs/vienna_fridiana_dek_sangke.wav\n",
      "Converting datasets/songs/kebilebile_karaoke_lagu_daerah_sumatera_selatan.mp3 to:\n",
      "datasets/wav_songs/kebilebile_karaoke_lagu_daerah_sumatera_selatan.wav\n",
      "Converting datasets/songs/kabile_bile_lagu_sumatera_selatan_lirik_di_deskripsi_musik_indonesia.mp3 to:\n",
      "datasets/wav_songs/kabile_bile_lagu_sumatera_selatan_lirik_di_deskripsi_musik_indonesia.wav\n",
      "Converting datasets/songs/ya_saman_lagu_daerah_sumatera_selatan_dengan_lirik.mp3 to:\n",
      "datasets/wav_songs/ya_saman_lagu_daerah_sumatera_selatan_dengan_lirik.wav\n",
      "Converting datasets/songs/bawain_lagu_asik_dari_palembang_ya_saman_cover_by_tri_suaka.mp3 to:\n",
      "datasets/wav_songs/bawain_lagu_asik_dari_palembang_ya_saman_cover_by_tri_suaka.wav\n",
      "Converting datasets/songs/ya_saman.mp3 to:\n",
      "datasets/wav_songs/ya_saman.wav\n",
      "Converting datasets/songs/butet_cover_lirik_lagu_daerah_sumatera_utara_butet.mp3 to:\n",
      "datasets/wav_songs/butet_cover_lirik_lagu_daerah_sumatera_utara_butet.wav\n",
      "Converting datasets/songs/butet_thania_official_video.mp3 to:\n",
      "datasets/wav_songs/butet_thania_official_video.wav\n",
      "Converting datasets/songs/butet_july_manurung_lagu_perjuangan_tapanuli.mp3 to:\n",
      "datasets/wav_songs/butet_july_manurung_lagu_perjuangan_tapanuli.wav\n",
      "Converting datasets/songs/cikala_le_pongpong_cipt_daulat_padang_official_video_style_voice.mp3 to:\n",
      "datasets/wav_songs/cikala_le_pongpong_cipt_daulat_padang_official_video_style_voice.wav\n",
      "Converting datasets/songs/cikala_le_pongpong_cover_by_sidabutar_musik_tigadolok_cipt_daulat_padang_lagu_pakpak.mp3 to:\n",
      "datasets/wav_songs/cikala_le_pongpong_cover_by_sidabutar_musik_tigadolok_cipt_daulat_padang_lagu_pakpak.wav\n",
      "Converting datasets/songs/cindy_pasaribu_dago_inang_sarge_official_video_music.mp3 to:\n",
      "datasets/wav_songs/cindy_pasaribu_dago_inang_sarge_official_video_music.wav\n",
      "Converting datasets/songs/dago_inang_sarge_trio_marihot_pdhede_ciptamaswmv.mp3 to:\n",
      "datasets/wav_songs/dago_inang_sarge_trio_marihot_pdhede_ciptamaswmv.wav\n",
      "Converting datasets/songs/dago_inang_sarge.mp3 to:\n",
      "datasets/wav_songs/dago_inang_sarge.wav\n",
      "Converting datasets/songs/keta_bo_vokal_lirik_dan_arti_terjemahan_lagu_daerah_sumatera_utara_ciptaan_nahum_situmorang.mp3 to:\n",
      "datasets/wav_songs/keta_bo_vokal_lirik_dan_arti_terjemahan_lagu_daerah_sumatera_utara_ciptaan_nahum_situmorang.wav\n",
      "Converting datasets/songs/ketabo_ketaboadilahar_sianipar_ft_nurul_tampubolonofficial_music_videormplagutapselterbaru.mp3 to:\n",
      "datasets/wav_songs/ketabo_ketaboadilahar_sianipar_ft_nurul_tampubolonofficial_music_videormplagutapselterbaru.wav\n",
      "Converting datasets/songs/ketabo_ketabo_feat_cindy_pasaribu.mp3 to:\n",
      "datasets/wav_songs/ketabo_ketabo_feat_cindy_pasaribu.wav\n",
      "Converting datasets/songs/lisoi_sumatera_utara_arr_fero_aldiansya.mp3 to:\n",
      "datasets/wav_songs/lisoi_sumatera_utara_arr_fero_aldiansya.wav\n",
      "Converting datasets/songs/lisoi_lagu_daerah_sumatera_utara_batak_choir.mp3 to:\n",
      "datasets/wav_songs/lisoi_lagu_daerah_sumatera_utara_batak_choir.wav\n",
      "Converting datasets/songs/lisoi_tapanuli_arr_fero_aldiansya_s.mp3 to:\n",
      "datasets/wav_songs/lisoi_tapanuli_arr_fero_aldiansya_s.wav\n",
      "Converting datasets/songs/madekdek_ma_gambiri_christine_panjaitan_lyric_video.mp3 to:\n",
      "datasets/wav_songs/madekdek_ma_gambiri_christine_panjaitan_lyric_video.wav\n",
      "Converting datasets/songs/madekdek_ma_gambiri.mp3 to:\n",
      "datasets/wav_songs/madekdek_ma_gambiri.wav\n",
      "Converting datasets/songs/lagu_mariam_tomong_tapanuli_sumatera_utara_lirik.mp3 to:\n",
      "datasets/wav_songs/lagu_mariam_tomong_tapanuli_sumatera_utara_lirik.wav\n",
      "Converting datasets/songs/lagu_mariam_tomong_tapanuli.mp3 to:\n",
      "datasets/wav_songs/lagu_mariam_tomong_tapanuli.wav\n",
      "Converting datasets/songs/mariam_tomong_lagu_daerah_tapanuli_sumatera_utara.mp3 to:\n",
      "datasets/wav_songs/mariam_tomong_lagu_daerah_tapanuli_sumatera_utara.wav\n",
      "Converting datasets/songs/rinto_harahap_nasonang_do_hita_nadua_cipt_nahum_situmorang1986.mp3 to:\n",
      "datasets/wav_songs/rinto_harahap_nasonang_do_hita_nadua_cipt_nahum_situmorang1986.wav\n",
      "Converting datasets/songs/nasonang_do_hita_nadua_feat_deasy_puspitasari.mp3 to:\n",
      "datasets/wav_songs/nasonang_do_hita_nadua_feat_deasy_puspitasari.wav\n",
      "Converting datasets/songs/na_sonang_do_hita_na_dua_nahum_situmorang_covered_by_martinka.mp3 to:\n",
      "datasets/wav_songs/na_sonang_do_hita_na_dua_nahum_situmorang_covered_by_martinka.wav\n",
      "Converting datasets/songs/the_bataks_band_o_pio_cover_practice_room_session.mp3 to:\n",
      "datasets/wav_songs/the_bataks_band_o_pio_cover_practice_room_session.wav\n",
      "Converting datasets/songs/o_pio.mp3 to:\n",
      "datasets/wav_songs/o_pio.wav\n",
      "Converting datasets/songs/piso_surit_djaga_depari_viky_sianipar_toba_dream.mp3 to:\n",
      "datasets/wav_songs/piso_surit_djaga_depari_viky_sianipar_toba_dream.wav\n",
      "Converting datasets/songs/lagu_karo_piso_surit_netty_vera_bangun_musik_kulcapi_mantap.mp3 to:\n",
      "datasets/wav_songs/lagu_karo_piso_surit_netty_vera_bangun_musik_kulcapi_mantap.wav\n",
      "Converting datasets/songs/piso_surit_feat_mega_sihombing.mp3 to:\n",
      "datasets/wav_songs/piso_surit_feat_mega_sihombing.wav\n",
      "Converting datasets/songs/rambadia_lagu_daerah_sumatera_utara_dengan_lirik.mp3 to:\n",
      "datasets/wav_songs/rambadia_lagu_daerah_sumatera_utara_dengan_lirik.wav\n",
      "Converting datasets/songs/lagu_daerah_sumatera_utara_ramba_dia_indonesia.mp3 to:\n",
      "datasets/wav_songs/lagu_daerah_sumatera_utara_ramba_dia_indonesia.wav\n",
      "Converting datasets/songs/rambadia.mp3 to:\n",
      "datasets/wav_songs/rambadia.wav\n",
      "Converting datasets/songs/lagu_daerah_sumatera_utara_tapanuli_say_selamat_ma_sineger_versi_suara_muppet.mp3 to:\n",
      "datasets/wav_songs/lagu_daerah_sumatera_utara_tapanuli_say_selamat_ma_sineger_versi_suara_muppet.wav\n",
      "Converting datasets/songs/sai_selamat_ma_sinegerneger_sibualbuali_lagu_batak_zaman_dulu_cover_aryanto_sidabutar.mp3 to:\n",
      "datasets/wav_songs/sai_selamat_ma_sinegerneger_sibualbuali_lagu_batak_zaman_dulu_cover_aryanto_sidabutar.wav\n",
      "Converting datasets/songs/sineger_neger_nona_tapilaha_lagu_batak_terbaru_official_video_music.mp3 to:\n",
      "datasets/wav_songs/sineger_neger_nona_tapilaha_lagu_batak_terbaru_official_video_music.wav\n",
      "Converting datasets/songs/sengko_sengko_arr_mangaratua_simanjuntak_ii_lagu_batak_ii_folklore_ii_sicf_2018.mp3 to:\n",
      "datasets/wav_songs/sengko_sengko_arr_mangaratua_simanjuntak_ii_lagu_batak_ii_folklore_ii_sicf_2018.wav\n",
      "Converting datasets/songs/sengko_sengkolagu_daerah_sumatra_utara.mp3 to:\n",
      "datasets/wav_songs/sengko_sengkolagu_daerah_sumatra_utara.wav\n",
      "Converting datasets/songs/tari_sigulempong_sumatera_utara_sanggar_tari_sriwedari_indonesian_traditional_dance.mp3 to:\n",
      "datasets/wav_songs/tari_sigulempong_sumatera_utara_sanggar_tari_sriwedari_indonesian_traditional_dance.wav\n",
      "Converting datasets/songs/tari_sigulempong_x_tak_tong_tong_by_sensasi_.mp3 to:\n",
      "datasets/wav_songs/tari_sigulempong_x_tak_tong_tong_by_sensasi_.wav\n",
      "Converting datasets/songs/sigulempong.mp3 to:\n",
      "datasets/wav_songs/sigulempong.wav\n",
      "Converting datasets/songs/sik_sik_sibatumanikam_lagu_daerah_sumatera_utara_dengan_lirik.mp3 to:\n",
      "datasets/wav_songs/sik_sik_sibatumanikam_lagu_daerah_sumatera_utara_dengan_lirik.wav\n",
      "Converting datasets/songs/consolatio_choir_universitas_sumatera_utara_siksik_si_batu_manikkam_iccc_marktoberdorf_2017.mp3 to:\n",
      "datasets/wav_songs/consolatio_choir_universitas_sumatera_utara_siksik_si_batu_manikkam_iccc_marktoberdorf_2017.wav\n",
      "Converting datasets/songs/sik_sik_batumanikam.mp3 to:\n",
      "datasets/wav_songs/sik_sik_batumanikam.wav\n",
      "Converting datasets/songs/tari_sinanggar_tulo_persembahan_pika_pilog_pada_acara_puncak_hut_pika_pi_group_ke5_tahun_2021.mp3 to:\n",
      "datasets/wav_songs/tari_sinanggar_tulo_persembahan_pika_pilog_pada_acara_puncak_hut_pika_pi_group_ke5_tahun_2021.wav\n",
      "Converting datasets/songs/sinanggar_tullo_lagu_daerah_sumatera_utara_budaya_indonesia_dongeng_kita.mp3 to:\n",
      "datasets/wav_songs/sinanggar_tullo_lagu_daerah_sumatera_utara_budaya_indonesia_dongeng_kita.wav\n",
      "Converting datasets/songs/sing_sing_so_lirik_dan_terjemahan_bahasa_indonesia.mp3 to:\n",
      "datasets/wav_songs/sing_sing_so_lirik_dan_terjemahan_bahasa_indonesia.wav\n",
      "Converting datasets/songs/sitara_tillo_instrumental_lirik_batak_arti_lagu_sumatera_utara_arr_music_vj_raja_oloan.mp3 to:\n",
      "datasets/wav_songs/sitara_tillo_instrumental_lirik_batak_arti_lagu_sumatera_utara_arr_music_vj_raja_oloan.wav\n",
      "Converting datasets/songs/viky_sianipar_ft_alsant_nababan_sitara_tilo_official_lyrics_video.mp3 to:\n",
      "datasets/wav_songs/viky_sianipar_ft_alsant_nababan_sitara_tilo_official_lyrics_video.wav\n",
      "Converting datasets/songs/alusi_au_lagu_daerah_sumatera_utara_lirik_dan_terjemahan.mp3 to:\n",
      "datasets/wav_songs/alusi_au_lagu_daerah_sumatera_utara_lirik_dan_terjemahan.wav\n",
      "Converting datasets/songs/sori_ya_katulla_lofi_cover.mp3 to:\n",
      "datasets/wav_songs/sori_ya_katulla_lofi_cover.wav\n",
      "Converting datasets/songs/tano_niha_lagu_daerah_sumatera_utara_lirik_dan_terjemahan.mp3 to:\n",
      "datasets/wav_songs/tano_niha_lagu_daerah_sumatera_utara_lirik_dan_terjemahan.wav\n",
      "Converting datasets/songs/tano_niha_omasio.mp3 to:\n",
      "datasets/wav_songs/tano_niha_omasio.wav\n",
      "Converting datasets/songs/pitik_tukung_lirik_vocal_shema_tembang_dolanan_lagu_daerah_yogyakarta.mp3 to:\n",
      "datasets/wav_songs/pitik_tukung_lirik_vocal_shema_tembang_dolanan_lagu_daerah_yogyakarta.wav\n",
      "Converting datasets/songs/pitik_tukung.mp3 to:\n",
      "datasets/wav_songs/pitik_tukung.wav\n",
      "Converting datasets/songs/pitik_tukung_kumpulan_tembang_dolanan_vol_2.mp3 to:\n",
      "datasets/wav_songs/pitik_tukung_kumpulan_tembang_dolanan_vol_2.wav\n",
      "Converting datasets/songs/sinom_parijatha_slendro_9_paguyuban_panatacara_yogyakarta_ppy_group_3.mp3 to:\n",
      "datasets/wav_songs/sinom_parijatha_slendro_9_paguyuban_panatacara_yogyakarta_ppy_group_3.wav\n",
      "Converting datasets/songs/suwe_ora_jamulagu_daerah_di_yogyakarta.mp3 to:\n",
      "datasets/wav_songs/suwe_ora_jamulagu_daerah_di_yogyakarta.wav\n",
      "Converting datasets/songs/suwe_ora_jamu_lagu_daerah_yogyakarta_lirik_dan_terjemahan.mp3 to:\n",
      "datasets/wav_songs/suwe_ora_jamu_lagu_daerah_yogyakarta_lirik_dan_terjemahan.wav\n",
      "Converting datasets/songs/suwe_ora_jamu_lagu_dan_tari_nusantara_lagu_anak.mp3 to:\n",
      "datasets/wav_songs/suwe_ora_jamu_lagu_dan_tari_nusantara_lagu_anak.wav\n",
      "Converting datasets/songs/te_kate_dipanah.mp3 to:\n",
      "datasets/wav_songs/te_kate_dipanah.wav\n",
      "Converting datasets/songs/kidang_talun.mp3 to:\n",
      "datasets/wav_songs/kidang_talun.wav\n",
      "Converting datasets/songs/lagu_anakanak_animasi_kidang_talun_odelia.mp3 to:\n",
      "datasets/wav_songs/lagu_anakanak_animasi_kidang_talun_odelia.wav\n",
      "Converting datasets/songs/kidang_talun_ciptaan_rc_hardjasoebrata_vocal_shema_tembang_dolanan_lagu_daerah_yogyakarta.mp3 to:\n",
      "datasets/wav_songs/kidang_talun_ciptaan_rc_hardjasoebrata_vocal_shema_tembang_dolanan_lagu_daerah_yogyakarta.wav\n",
      "Converting datasets/songs/menthok_menthok_takkandani_sanggar_greget.mp3 to:\n",
      "datasets/wav_songs/menthok_menthok_takkandani_sanggar_greget.wav\n",
      "Converting datasets/songs/menthok_menthok_tembang_dolanan_freya_shereen_rayakanmerdekamu.mp3 to:\n",
      "datasets/wav_songs/menthok_menthok_tembang_dolanan_freya_shereen_rayakanmerdekamu.wav\n",
      "Converting datasets/songs/mentok_mentok_tak_kandani_tembang_dolanan_lagu_bahasa_jawa_kelas_1_.mp3 to:\n",
      "datasets/wav_songs/mentok_mentok_tak_kandani_tembang_dolanan_lagu_bahasa_jawa_kelas_1_.wav\n",
      "Converting datasets/songs/kupu_kuwi.mp3 to:\n",
      "datasets/wav_songs/kupu_kuwi.wav\n",
      "Converting datasets/songs/yeni_inka_ft_ageng_music_caping_gunung_official_live_music.mp3 to:\n",
      "datasets/wav_songs/yeni_inka_ft_ageng_music_caping_gunung_official_live_music.wav\n",
      "Converting datasets/songs/walang_kekek_waldjinah.mp3 to:\n",
      "datasets/wav_songs/walang_kekek_waldjinah.wav\n",
      "Converting datasets/songs/getuk_jajanan_legendaris_khas_magelang_ragam_indonesia_170521.mp3 to:\n",
      "datasets/wav_songs/getuk_jajanan_legendaris_khas_magelang_ragam_indonesia_170521.wav\n",
      "Converting datasets/songs/ida_ayu_swastika_dan_iis_mawanti_getuk_imc_record_java.mp3 to:\n",
      "datasets/wav_songs/ida_ayu_swastika_dan_iis_mawanti_getuk_imc_record_java.wav\n"
     ]
    }
   ],
   "source": [
    "df['wav_path'] = df['path'].apply(convert_to_wav)"
   ]
  },
  {
   "cell_type": "code",
   "execution_count": 15,
   "metadata": {},
   "outputs": [],
   "source": [
    "df.head()\n",
    "\n",
    "df.to_csv('data/results_wav.csv', sep=';', index=False)"
   ]
  }
 ],
 "metadata": {
  "kernelspec": {
   "display_name": "Python 3",
   "language": "python",
   "name": "python3"
  },
  "language_info": {
   "codemirror_mode": {
    "name": "ipython",
    "version": 3
   },
   "file_extension": ".py",
   "mimetype": "text/x-python",
   "name": "python",
   "nbconvert_exporter": "python",
   "pygments_lexer": "ipython3",
   "version": "3.10.5"
  }
 },
 "nbformat": 4,
 "nbformat_minor": 2
}
