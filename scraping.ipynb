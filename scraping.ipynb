{
 "cells": [
  {
   "cell_type": "code",
   "execution_count": 79,
   "metadata": {},
   "outputs": [],
   "source": [
    "import pandas as pd\n",
    "from youtube_search import YoutubeSearch\n",
    "from pytubefix import YouTube\n"
   ]
  },
  {
   "cell_type": "code",
   "execution_count": 80,
   "metadata": {},
   "outputs": [
    {
     "data": {
      "text/html": [
       "<div>\n",
       "<style scoped>\n",
       "    .dataframe tbody tr th:only-of-type {\n",
       "        vertical-align: middle;\n",
       "    }\n",
       "\n",
       "    .dataframe tbody tr th {\n",
       "        vertical-align: top;\n",
       "    }\n",
       "\n",
       "    .dataframe thead th {\n",
       "        text-align: right;\n",
       "    }\n",
       "</style>\n",
       "<table border=\"1\" class=\"dataframe\">\n",
       "  <thead>\n",
       "    <tr style=\"text-align: right;\">\n",
       "      <th></th>\n",
       "      <th>nama</th>\n",
       "      <th>daerah</th>\n",
       "      <th>keyword</th>\n",
       "      <th>lirik</th>\n",
       "    </tr>\n",
       "  </thead>\n",
       "  <tbody>\n",
       "    <tr>\n",
       "      <th>0</th>\n",
       "      <td>Kicir-Kicir</td>\n",
       "      <td>Jakarta</td>\n",
       "      <td>jakarta</td>\n",
       "      <td>NaN</td>\n",
       "    </tr>\n",
       "    <tr>\n",
       "      <th>1</th>\n",
       "      <td>Ondel Ondel</td>\n",
       "      <td>jakarta</td>\n",
       "      <td>Jakarta</td>\n",
       "      <td>NaN</td>\n",
       "    </tr>\n",
       "    <tr>\n",
       "      <th>2</th>\n",
       "      <td>Manuk Dadali</td>\n",
       "      <td>jawa barat</td>\n",
       "      <td>jawa barat</td>\n",
       "      <td>NaN</td>\n",
       "    </tr>\n",
       "  </tbody>\n",
       "</table>\n",
       "</div>"
      ],
      "text/plain": [
       "           nama      daerah     keyword  lirik\n",
       "0   Kicir-Kicir     Jakarta     jakarta    NaN\n",
       "1   Ondel Ondel     jakarta     Jakarta    NaN\n",
       "2  Manuk Dadali  jawa barat  jawa barat    NaN"
      ]
     },
     "execution_count": 80,
     "metadata": {},
     "output_type": "execute_result"
    }
   ],
   "source": [
    "data = pd.read_csv('data/data.csv', sep=';')\n",
    "\n",
    "data.head()"
   ]
  },
  {
   "cell_type": "code",
   "execution_count": 81,
   "metadata": {},
   "outputs": [],
   "source": [
    "def search_yt(query):\n",
    "    results = YoutubeSearch(query, max_results=5).to_dict()\n",
    "\n",
    "    for i in range(5):\n",
    "        results[i]['url'] = 'https://www.youtube.com' + results[i]['url_suffix']\n",
    "        \n",
    "    return results\n",
    "\n",
    "def dl_video(query):\n",
    "    yt = YouTube(query, 'MWEB')\n",
    "    print(f'Downloading {yt.title}...')\n",
    "    \n",
    "    ys = yt.streams.get_audio_only()\n",
    "    ys.download(mp3=True, output_path='songs', filename=yt.title)\n",
    "    \n",
    "    return f'/songs/{yt.title}.mp3'\n",
    "    "
   ]
  },
  {
   "cell_type": "code",
   "execution_count": 82,
   "metadata": {},
   "outputs": [
    {
     "name": "stdout",
     "output_type": "stream",
     "text": [
      "Downloading KICIR KICIR | Lagu Daerah DKI Jakarta - Betawi | Budaya Indonesia | Dongeng Kita...\n",
      "Downloading Tari Daerah ~ Kicir-kicir DKI Jakarta |Rumah Belajar Mawinsya...\n",
      "Downloading Kicir Kicir (Lagu Daerah Betawi)...\n",
      "Downloading Kicir-kicir | Lagu Daerah Jakarta - Instrumental...\n",
      "Downloading senam kicir kicir lomba 2024...\n",
      "Downloading ONDEL ONDEL | Lagu Daerah DKI Jakarta - Betawi | Budaya Indonesia | Dongeng Kita...\n",
      "Downloading ONDEL ONDEL 💞 LAGU DAERAH DKI JAKARTA | ONDEL ONDEL BETAWI REMIX...\n",
      "Downloading ONDEL ONDEL BETAWI 💞 LAGU DAERAH DKI JAKARTA | ONDEL-ONDEL...\n",
      "Downloading ONDEL ONDEL ✅️ Lagu Daerah DKI Jakarta | Lagu Ondel Ondel Betawi Remix...\n",
      "Downloading Asal-usul Ondel-Ondel | Dongeng Bahasa Indonesia | AKM Literasi SD...\n",
      "Downloading Lirik Lagu manuk Dadali...\n",
      "Downloading Tari Manuk Dadali-Jawa Barat || \"Keragaman Budaya Indonesia\" XI IPS 4...\n",
      "Downloading Aty Surya - Manuk Dadali...\n",
      "Downloading KARAOKE MANUK DADALI   Lagu Daerah Jawa Barat...\n",
      "Downloading Lagu Daerah Manuk Dadali dan Lirik \"Apa Ya Makna Lagu Daerah Kita?\"...\n"
     ]
    }
   ],
   "source": [
    "results = []\n",
    "\n",
    "for index, row in data.iterrows():\n",
    "    songs = search_yt(f\"{row['nama']} asal {row['daerah']}\")\n",
    "    \n",
    "    result_entry = {\n",
    "        'nama': row['nama'],\n",
    "        'daerah': row['daerah'],\n",
    "        'keyword': row['keyword'],\n",
    "        'songs': []\n",
    "    }\n",
    "\n",
    "    for song in songs:\n",
    "        path = dl_video(song['url'])\n",
    "        result_entry['songs'].append({\n",
    "            'title': song['title'],\n",
    "            'url': song['url'],\n",
    "            'path': path\n",
    "        })\n",
    "    \n",
    "    results.append(result_entry)\n"
   ]
  }
 ],
 "metadata": {
  "kernelspec": {
   "display_name": "Python 3",
   "language": "python",
   "name": "python3"
  },
  "language_info": {
   "codemirror_mode": {
    "name": "ipython",
    "version": 3
   },
   "file_extension": ".py",
   "mimetype": "text/x-python",
   "name": "python",
   "nbconvert_exporter": "python",
   "pygments_lexer": "ipython3",
   "version": "3.11.6"
  }
 },
 "nbformat": 4,
 "nbformat_minor": 2
}
