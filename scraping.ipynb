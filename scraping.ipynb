{
 "cells": [
  {
   "cell_type": "code",
   "execution_count": 52,
   "metadata": {},
   "outputs": [],
   "source": [
    "import pandas as pd\n",
    "from youtube_search import YoutubeSearch\n",
    "from pytubefix import YouTube\n",
    "import re"
   ]
  },
  {
   "cell_type": "markdown",
   "metadata": {},
   "source": [
    "### Load Scrapping Result"
   ]
  },
  {
   "cell_type": "code",
   "execution_count": 53,
   "metadata": {},
   "outputs": [
    {
     "data": {
      "text/html": [
       "<div>\n",
       "<style scoped>\n",
       "    .dataframe tbody tr th:only-of-type {\n",
       "        vertical-align: middle;\n",
       "    }\n",
       "\n",
       "    .dataframe tbody tr th {\n",
       "        vertical-align: top;\n",
       "    }\n",
       "\n",
       "    .dataframe thead th {\n",
       "        text-align: right;\n",
       "    }\n",
       "</style>\n",
       "<table border=\"1\" class=\"dataframe\">\n",
       "  <thead>\n",
       "    <tr style=\"text-align: right;\">\n",
       "      <th></th>\n",
       "      <th>nama</th>\n",
       "      <th>daerah</th>\n",
       "      <th>keyword</th>\n",
       "      <th>lirik</th>\n",
       "    </tr>\n",
       "  </thead>\n",
       "  <tbody>\n",
       "    <tr>\n",
       "      <th>0</th>\n",
       "      <td>Kicir-Kicir</td>\n",
       "      <td>Jakarta</td>\n",
       "      <td>jakarta</td>\n",
       "      <td>NaN</td>\n",
       "    </tr>\n",
       "    <tr>\n",
       "      <th>1</th>\n",
       "      <td>Ondel Ondel</td>\n",
       "      <td>jakarta</td>\n",
       "      <td>Jakarta</td>\n",
       "      <td>NaN</td>\n",
       "    </tr>\n",
       "    <tr>\n",
       "      <th>2</th>\n",
       "      <td>Manuk Dadali</td>\n",
       "      <td>jawa barat</td>\n",
       "      <td>jawa barat</td>\n",
       "      <td>NaN</td>\n",
       "    </tr>\n",
       "  </tbody>\n",
       "</table>\n",
       "</div>"
      ],
      "text/plain": [
       "           nama      daerah     keyword  lirik\n",
       "0   Kicir-Kicir     Jakarta     jakarta    NaN\n",
       "1   Ondel Ondel     jakarta     Jakarta    NaN\n",
       "2  Manuk Dadali  jawa barat  jawa barat    NaN"
      ]
     },
     "execution_count": 53,
     "metadata": {},
     "output_type": "execute_result"
    }
   ],
   "source": [
    "data = pd.read_csv('data/data.csv', sep=';')\n",
    "\n",
    "data.head()"
   ]
  },
  {
   "cell_type": "markdown",
   "metadata": {},
   "source": [
    "### Search and Download Music Function"
   ]
  },
  {
   "cell_type": "code",
   "execution_count": 54,
   "metadata": {},
   "outputs": [],
   "source": [
    "def search_yt(query):\n",
    "    results = YoutubeSearch(query, max_results=3).to_dict()\n",
    "\n",
    "    for i in range(len(results)):\n",
    "        results[i]['url'] = 'https://www.youtube.com' + results[i]['url_suffix']\n",
    "        \n",
    "    return results\n",
    "\n",
    "def normalized_yt_title(title):\n",
    "    text = title.lower()\n",
    "    text = text.replace(' ', '_')\n",
    "    text = re.sub(r'[^a-z0-9_]', '', text)\n",
    "    text = re.sub(r'_{2,}', '_', text)\n",
    "    \n",
    "    return text\n",
    "\n",
    "def dl_video(query):\n",
    "    try:\n",
    "        yt = YouTube(query, 'MWEB')\n",
    "        print(f'Downloading {yt.title}...')\n",
    "        \n",
    "        normalized_title = normalized_yt_title(yt.title)\n",
    "        \n",
    "        ys = yt.streams.get_audio_only()\n",
    "        ys.download(mp3=True, output_path='songs', filename=normalized_title)\n",
    "        \n",
    "        return f'/songs/{normalized_title}.mp3'\n",
    "    except Exception as e:\n",
    "        print(e)\n",
    "        return None\n",
    "    "
   ]
  },
  {
   "cell_type": "code",
   "execution_count": 55,
   "metadata": {},
   "outputs": [
    {
     "name": "stdout",
     "output_type": "stream",
     "text": [
      "Downloading KICIR KICIR - Lagu dan Tari Nusantara - Lagu Anak...\n",
      "Downloading KICIR KICIR | Lagu Daerah Jakarta (Betawi) | Diva bernyanyi | Diva The Series Official...\n",
      "Downloading Kicir Kicir Jakarta...\n",
      "Downloading ONDEL ONDEL | Lagu Daerah DKI Jakarta - Betawi | Budaya Indonesia | Dongeng Kita...\n",
      "Downloading ONDEL ONDEL 💞 LAGU DAERAH DKI JAKARTA | ONDEL ONDEL BETAWI REMIX...\n",
      "Downloading Parade Ondel ondeL Betawi di Pantai ANCOL ~ Komunitas Ondel-ondel Dki Jakarta...\n",
      "Downloading Lagu manuk dadali...\n",
      "Downloading Aty Surya - Manuk Dadali...\n",
      "Downloading Lagu Daerah Manuk Dadali dan Lirik \"Apa Ya Makna Lagu Daerah Kita?\"...\n"
     ]
    }
   ],
   "source": [
    "results = []\n",
    "\n",
    "for index, row in data.iterrows():\n",
    "    songs = search_yt(f\"{row['nama']} asal {row['daerah']}\")\n",
    "    \n",
    "    result_entry = {\n",
    "        'nama': row['nama'],\n",
    "        'daerah': row['daerah'],\n",
    "        'keyword': row['keyword'],\n",
    "        'songs': []\n",
    "    }\n",
    "\n",
    "    for song in songs:\n",
    "        path = dl_video(song['url'])\n",
    "        result_entry['songs'].append({\n",
    "            'title': song['title'],\n",
    "            'url': song['url'],\n",
    "            'path': path\n",
    "        })\n",
    "    \n",
    "    results.append(result_entry)\n"
   ]
  },
  {
   "cell_type": "markdown",
   "metadata": {},
   "source": [
    "### Data Selection"
   ]
  },
  {
   "cell_type": "code",
   "execution_count": 56,
   "metadata": {},
   "outputs": [],
   "source": [
    "df = pd.DataFrame(results)\n",
    "df_songs = pd.DataFrame([song for result in results for song in result['songs']])"
   ]
  },
  {
   "cell_type": "code",
   "execution_count": 57,
   "metadata": {},
   "outputs": [
    {
     "data": {
      "text/html": [
       "<div>\n",
       "<style scoped>\n",
       "    .dataframe tbody tr th:only-of-type {\n",
       "        vertical-align: middle;\n",
       "    }\n",
       "\n",
       "    .dataframe tbody tr th {\n",
       "        vertical-align: top;\n",
       "    }\n",
       "\n",
       "    .dataframe thead th {\n",
       "        text-align: right;\n",
       "    }\n",
       "</style>\n",
       "<table border=\"1\" class=\"dataframe\">\n",
       "  <thead>\n",
       "    <tr style=\"text-align: right;\">\n",
       "      <th></th>\n",
       "      <th>nama</th>\n",
       "      <th>daerah</th>\n",
       "      <th>keyword</th>\n",
       "      <th>songs</th>\n",
       "    </tr>\n",
       "  </thead>\n",
       "  <tbody>\n",
       "    <tr>\n",
       "      <th>0</th>\n",
       "      <td>Kicir-Kicir</td>\n",
       "      <td>Jakarta</td>\n",
       "      <td>jakarta</td>\n",
       "      <td>[{'title': 'KICIR KICIR - Lagu dan Tari Nusant...</td>\n",
       "    </tr>\n",
       "    <tr>\n",
       "      <th>1</th>\n",
       "      <td>Ondel Ondel</td>\n",
       "      <td>jakarta</td>\n",
       "      <td>Jakarta</td>\n",
       "      <td>[{'title': 'ONDEL ONDEL | Lagu Daerah DKI Jaka...</td>\n",
       "    </tr>\n",
       "    <tr>\n",
       "      <th>2</th>\n",
       "      <td>Manuk Dadali</td>\n",
       "      <td>jawa barat</td>\n",
       "      <td>jawa barat</td>\n",
       "      <td>[{'title': 'Lagu manuk dadali', 'url': 'https:...</td>\n",
       "    </tr>\n",
       "  </tbody>\n",
       "</table>\n",
       "</div>"
      ],
      "text/plain": [
       "           nama      daerah     keyword  \\\n",
       "0   Kicir-Kicir     Jakarta     jakarta   \n",
       "1   Ondel Ondel     jakarta     Jakarta   \n",
       "2  Manuk Dadali  jawa barat  jawa barat   \n",
       "\n",
       "                                               songs  \n",
       "0  [{'title': 'KICIR KICIR - Lagu dan Tari Nusant...  \n",
       "1  [{'title': 'ONDEL ONDEL | Lagu Daerah DKI Jaka...  \n",
       "2  [{'title': 'Lagu manuk dadali', 'url': 'https:...  "
      ]
     },
     "execution_count": 57,
     "metadata": {},
     "output_type": "execute_result"
    }
   ],
   "source": [
    "df.head()"
   ]
  },
  {
   "cell_type": "code",
   "execution_count": 58,
   "metadata": {},
   "outputs": [
    {
     "data": {
      "text/html": [
       "<div>\n",
       "<style scoped>\n",
       "    .dataframe tbody tr th:only-of-type {\n",
       "        vertical-align: middle;\n",
       "    }\n",
       "\n",
       "    .dataframe tbody tr th {\n",
       "        vertical-align: top;\n",
       "    }\n",
       "\n",
       "    .dataframe thead th {\n",
       "        text-align: right;\n",
       "    }\n",
       "</style>\n",
       "<table border=\"1\" class=\"dataframe\">\n",
       "  <thead>\n",
       "    <tr style=\"text-align: right;\">\n",
       "      <th></th>\n",
       "      <th>title</th>\n",
       "      <th>url</th>\n",
       "      <th>path</th>\n",
       "    </tr>\n",
       "  </thead>\n",
       "  <tbody>\n",
       "    <tr>\n",
       "      <th>0</th>\n",
       "      <td>KICIR KICIR - Lagu dan Tari Nusantara - Lagu Anak</td>\n",
       "      <td>https://www.youtube.com/watch?v=0wTJULU2REc&amp;pp...</td>\n",
       "      <td>/songs/kicir_kicir_lagu_dan_tari_nusantara_lag...</td>\n",
       "    </tr>\n",
       "    <tr>\n",
       "      <th>1</th>\n",
       "      <td>KICIR KICIR | Lagu Daerah Jakarta (Betawi) | D...</td>\n",
       "      <td>https://www.youtube.com/watch?v=LU3YHPgRxQo&amp;pp...</td>\n",
       "      <td>/songs/kicir_kicir_lagu_daerah_jakarta_betawi_...</td>\n",
       "    </tr>\n",
       "    <tr>\n",
       "      <th>2</th>\n",
       "      <td>Kicir Kicir Jakarta</td>\n",
       "      <td>https://www.youtube.com/watch?v=jMynoFKskhc&amp;pp...</td>\n",
       "      <td>/songs/kicir_kicir_jakarta.mp3</td>\n",
       "    </tr>\n",
       "    <tr>\n",
       "      <th>3</th>\n",
       "      <td>ONDEL ONDEL | Lagu Daerah DKI Jakarta - Betawi...</td>\n",
       "      <td>https://www.youtube.com/watch?v=wardyOl-EHo&amp;pp...</td>\n",
       "      <td>/songs/ondel_ondel_lagu_daerah_dki_jakarta_bet...</td>\n",
       "    </tr>\n",
       "    <tr>\n",
       "      <th>4</th>\n",
       "      <td>ONDEL ONDEL 💞 LAGU DAERAH DKI JAKARTA | ONDEL ...</td>\n",
       "      <td>https://www.youtube.com/watch?v=_X39qcf41ZU&amp;pp...</td>\n",
       "      <td>/songs/ondel_ondel_lagu_daerah_dki_jakarta_ond...</td>\n",
       "    </tr>\n",
       "  </tbody>\n",
       "</table>\n",
       "</div>"
      ],
      "text/plain": [
       "                                               title  \\\n",
       "0  KICIR KICIR - Lagu dan Tari Nusantara - Lagu Anak   \n",
       "1  KICIR KICIR | Lagu Daerah Jakarta (Betawi) | D...   \n",
       "2                                Kicir Kicir Jakarta   \n",
       "3  ONDEL ONDEL | Lagu Daerah DKI Jakarta - Betawi...   \n",
       "4  ONDEL ONDEL 💞 LAGU DAERAH DKI JAKARTA | ONDEL ...   \n",
       "\n",
       "                                                 url  \\\n",
       "0  https://www.youtube.com/watch?v=0wTJULU2REc&pp...   \n",
       "1  https://www.youtube.com/watch?v=LU3YHPgRxQo&pp...   \n",
       "2  https://www.youtube.com/watch?v=jMynoFKskhc&pp...   \n",
       "3  https://www.youtube.com/watch?v=wardyOl-EHo&pp...   \n",
       "4  https://www.youtube.com/watch?v=_X39qcf41ZU&pp...   \n",
       "\n",
       "                                                path  \n",
       "0  /songs/kicir_kicir_lagu_dan_tari_nusantara_lag...  \n",
       "1  /songs/kicir_kicir_lagu_daerah_jakarta_betawi_...  \n",
       "2                     /songs/kicir_kicir_jakarta.mp3  \n",
       "3  /songs/ondel_ondel_lagu_daerah_dki_jakarta_bet...  \n",
       "4  /songs/ondel_ondel_lagu_daerah_dki_jakarta_ond...  "
      ]
     },
     "execution_count": 58,
     "metadata": {},
     "output_type": "execute_result"
    }
   ],
   "source": [
    "df_songs.head()"
   ]
  },
  {
   "cell_type": "code",
   "execution_count": 59,
   "metadata": {},
   "outputs": [],
   "source": [
    "# import os\n",
    "\n",
    "# def convert_path(path):\n",
    "#     if path is None:\n",
    "#         return None\n",
    "#     return str(os.path.abspath(path))\n",
    "\n",
    "# df_songs['path'] = df_songs['path'].apply(convert_path)"
   ]
  },
  {
   "cell_type": "code",
   "execution_count": 60,
   "metadata": {},
   "outputs": [],
   "source": [
    "# df_songs.head()"
   ]
  },
  {
   "cell_type": "code",
   "execution_count": 61,
   "metadata": {},
   "outputs": [],
   "source": [
    "# #remove the first three character of path\n",
    "# def remove_first_three(path):\n",
    "#     if path is None:\n",
    "#         return None\n",
    "#     return path[3:]\n",
    "\n",
    "# df_songs['path'] = df_songs['path'].apply(remove_first_three)"
   ]
  },
  {
   "cell_type": "code",
   "execution_count": 62,
   "metadata": {},
   "outputs": [],
   "source": [
    "# df_songs.head()"
   ]
  },
  {
   "cell_type": "code",
   "execution_count": 84,
   "metadata": {},
   "outputs": [],
   "source": [
    "# import subprocess\n",
    "\n",
    "# os.makedirs('wav_songs', exist_ok=True)\n",
    "\n",
    "# def convert_to_wav(path):\n",
    "#     if path is None:\n",
    "#         print(f'File is not found: {path}')\n",
    "#         return None\n",
    "#     try:\n",
    "#         abs_path = os.path.abspath(path)\n",
    "#         wav_path = abs_path.replace('songs', 'wav_songs').replace('.mp3', '.wav')\n",
    "        \n",
    "#         subprocess.run(['ffmpeg', '-i', abs_path, wav_path])\n",
    "#         return wav_path\n",
    "#     except Exception as e:\n",
    "#         print(e)\n",
    "#         return None"
   ]
  },
  {
   "cell_type": "code",
   "execution_count": 85,
   "metadata": {},
   "outputs": [
    {
     "name": "stdout",
     "output_type": "stream",
     "text": [
      "[WinError 2] The system cannot find the file specified\n",
      "[WinError 2] The system cannot find the file specified\n",
      "[WinError 2] The system cannot find the file specified\n",
      "[WinError 2] The system cannot find the file specified\n",
      "[WinError 2] The system cannot find the file specified\n",
      "[WinError 2] The system cannot find the file specified\n",
      "[WinError 2] The system cannot find the file specified\n",
      "[WinError 2] The system cannot find the file specified\n",
      "[WinError 2] The system cannot find the file specified\n"
     ]
    }
   ],
   "source": [
    "# df_songs['wav_path'] = df_songs['path'].apply(convert_to_wav)"
   ]
  },
  {
   "cell_type": "code",
   "execution_count": 83,
   "metadata": {},
   "outputs": [
    {
     "data": {
      "text/html": [
       "<div>\n",
       "<style scoped>\n",
       "    .dataframe tbody tr th:only-of-type {\n",
       "        vertical-align: middle;\n",
       "    }\n",
       "\n",
       "    .dataframe tbody tr th {\n",
       "        vertical-align: top;\n",
       "    }\n",
       "\n",
       "    .dataframe thead th {\n",
       "        text-align: right;\n",
       "    }\n",
       "</style>\n",
       "<table border=\"1\" class=\"dataframe\">\n",
       "  <thead>\n",
       "    <tr style=\"text-align: right;\">\n",
       "      <th></th>\n",
       "      <th>title</th>\n",
       "      <th>url</th>\n",
       "      <th>path</th>\n",
       "      <th>wav_path</th>\n",
       "    </tr>\n",
       "  </thead>\n",
       "  <tbody>\n",
       "    <tr>\n",
       "      <th>0</th>\n",
       "      <td>KICIR KICIR - Lagu dan Tari Nusantara - Lagu Anak</td>\n",
       "      <td>https://www.youtube.com/watch?v=0wTJULU2REc&amp;pp...</td>\n",
       "      <td>/songs/kicir_kicir_lagu_dan_tari_nusantara_lag...</td>\n",
       "      <td>None</td>\n",
       "    </tr>\n",
       "    <tr>\n",
       "      <th>1</th>\n",
       "      <td>KICIR KICIR | Lagu Daerah Jakarta (Betawi) | D...</td>\n",
       "      <td>https://www.youtube.com/watch?v=LU3YHPgRxQo&amp;pp...</td>\n",
       "      <td>/songs/kicir_kicir_lagu_daerah_jakarta_betawi_...</td>\n",
       "      <td>None</td>\n",
       "    </tr>\n",
       "    <tr>\n",
       "      <th>2</th>\n",
       "      <td>Kicir Kicir Jakarta</td>\n",
       "      <td>https://www.youtube.com/watch?v=jMynoFKskhc&amp;pp...</td>\n",
       "      <td>/songs/kicir_kicir_jakarta.mp3</td>\n",
       "      <td>None</td>\n",
       "    </tr>\n",
       "    <tr>\n",
       "      <th>3</th>\n",
       "      <td>ONDEL ONDEL | Lagu Daerah DKI Jakarta - Betawi...</td>\n",
       "      <td>https://www.youtube.com/watch?v=wardyOl-EHo&amp;pp...</td>\n",
       "      <td>/songs/ondel_ondel_lagu_daerah_dki_jakarta_bet...</td>\n",
       "      <td>None</td>\n",
       "    </tr>\n",
       "    <tr>\n",
       "      <th>4</th>\n",
       "      <td>ONDEL ONDEL 💞 LAGU DAERAH DKI JAKARTA | ONDEL ...</td>\n",
       "      <td>https://www.youtube.com/watch?v=_X39qcf41ZU&amp;pp...</td>\n",
       "      <td>/songs/ondel_ondel_lagu_daerah_dki_jakarta_ond...</td>\n",
       "      <td>None</td>\n",
       "    </tr>\n",
       "  </tbody>\n",
       "</table>\n",
       "</div>"
      ],
      "text/plain": [
       "                                               title  \\\n",
       "0  KICIR KICIR - Lagu dan Tari Nusantara - Lagu Anak   \n",
       "1  KICIR KICIR | Lagu Daerah Jakarta (Betawi) | D...   \n",
       "2                                Kicir Kicir Jakarta   \n",
       "3  ONDEL ONDEL | Lagu Daerah DKI Jakarta - Betawi...   \n",
       "4  ONDEL ONDEL 💞 LAGU DAERAH DKI JAKARTA | ONDEL ...   \n",
       "\n",
       "                                                 url  \\\n",
       "0  https://www.youtube.com/watch?v=0wTJULU2REc&pp...   \n",
       "1  https://www.youtube.com/watch?v=LU3YHPgRxQo&pp...   \n",
       "2  https://www.youtube.com/watch?v=jMynoFKskhc&pp...   \n",
       "3  https://www.youtube.com/watch?v=wardyOl-EHo&pp...   \n",
       "4  https://www.youtube.com/watch?v=_X39qcf41ZU&pp...   \n",
       "\n",
       "                                                path wav_path  \n",
       "0  /songs/kicir_kicir_lagu_dan_tari_nusantara_lag...     None  \n",
       "1  /songs/kicir_kicir_lagu_daerah_jakarta_betawi_...     None  \n",
       "2                     /songs/kicir_kicir_jakarta.mp3     None  \n",
       "3  /songs/ondel_ondel_lagu_daerah_dki_jakarta_bet...     None  \n",
       "4  /songs/ondel_ondel_lagu_daerah_dki_jakarta_ond...     None  "
      ]
     },
     "execution_count": 83,
     "metadata": {},
     "output_type": "execute_result"
    }
   ],
   "source": [
    "# df_songs.head()"
   ]
  },
  {
   "cell_type": "markdown",
   "metadata": {},
   "source": [
    "### Mengubah MP3 menjadi WAV"
   ]
  },
  {
   "cell_type": "code",
   "execution_count": 65,
   "metadata": {},
   "outputs": [],
   "source": [
    "# # mengubah mp3 menjadi wav\n",
    "# import pydub\n",
    "# from pydub import AudioSegment\n",
    "\n",
    "# os.makedirs('wav_songs', exist_ok=True)\n",
    "\n",
    "# def mp3_to_wav(path):\n",
    "#     if path is None: \n",
    "#         return None \n",
    "    \n",
    "#     try:\n",
    "#         sound = AudioSegment.from_mp3(path) \n",
    "#         wav_path = os.path.join('wav_songs', os.path.basename(path).replace('.mp3', '.wav'))\n",
    "#         sound.export(wav_path, format='wav')\n",
    "#         return wav_path\n",
    "#     except Exception as e:\n",
    "#         print(e)\n",
    "#         return None"
   ]
  },
  {
   "cell_type": "code",
   "execution_count": 66,
   "metadata": {},
   "outputs": [],
   "source": [
    "# # Convert MP3 to WAV and create new column wav_path\n",
    "# df_songs['wav_path'] = df_songs['path'].apply(mp3_to_wav)"
   ]
  },
  {
   "cell_type": "code",
   "execution_count": 78,
   "metadata": {},
   "outputs": [
    {
     "data": {
      "text/html": [
       "<div>\n",
       "<style scoped>\n",
       "    .dataframe tbody tr th:only-of-type {\n",
       "        vertical-align: middle;\n",
       "    }\n",
       "\n",
       "    .dataframe tbody tr th {\n",
       "        vertical-align: top;\n",
       "    }\n",
       "\n",
       "    .dataframe thead th {\n",
       "        text-align: right;\n",
       "    }\n",
       "</style>\n",
       "<table border=\"1\" class=\"dataframe\">\n",
       "  <thead>\n",
       "    <tr style=\"text-align: right;\">\n",
       "      <th></th>\n",
       "      <th>title</th>\n",
       "      <th>url</th>\n",
       "      <th>path</th>\n",
       "      <th>wav_path</th>\n",
       "    </tr>\n",
       "  </thead>\n",
       "  <tbody>\n",
       "    <tr>\n",
       "      <th>0</th>\n",
       "      <td>KICIR KICIR - Lagu dan Tari Nusantara - Lagu Anak</td>\n",
       "      <td>https://www.youtube.com/watch?v=0wTJULU2REc&amp;pp...</td>\n",
       "      <td>/songs/kicir_kicir_lagu_dan_tari_nusantara_lag...</td>\n",
       "      <td>None</td>\n",
       "    </tr>\n",
       "    <tr>\n",
       "      <th>1</th>\n",
       "      <td>KICIR KICIR | Lagu Daerah Jakarta (Betawi) | D...</td>\n",
       "      <td>https://www.youtube.com/watch?v=LU3YHPgRxQo&amp;pp...</td>\n",
       "      <td>/songs/kicir_kicir_lagu_daerah_jakarta_betawi_...</td>\n",
       "      <td>None</td>\n",
       "    </tr>\n",
       "    <tr>\n",
       "      <th>2</th>\n",
       "      <td>Kicir Kicir Jakarta</td>\n",
       "      <td>https://www.youtube.com/watch?v=jMynoFKskhc&amp;pp...</td>\n",
       "      <td>/songs/kicir_kicir_jakarta.mp3</td>\n",
       "      <td>None</td>\n",
       "    </tr>\n",
       "    <tr>\n",
       "      <th>3</th>\n",
       "      <td>ONDEL ONDEL | Lagu Daerah DKI Jakarta - Betawi...</td>\n",
       "      <td>https://www.youtube.com/watch?v=wardyOl-EHo&amp;pp...</td>\n",
       "      <td>/songs/ondel_ondel_lagu_daerah_dki_jakarta_bet...</td>\n",
       "      <td>None</td>\n",
       "    </tr>\n",
       "    <tr>\n",
       "      <th>4</th>\n",
       "      <td>ONDEL ONDEL 💞 LAGU DAERAH DKI JAKARTA | ONDEL ...</td>\n",
       "      <td>https://www.youtube.com/watch?v=_X39qcf41ZU&amp;pp...</td>\n",
       "      <td>/songs/ondel_ondel_lagu_daerah_dki_jakarta_ond...</td>\n",
       "      <td>None</td>\n",
       "    </tr>\n",
       "  </tbody>\n",
       "</table>\n",
       "</div>"
      ],
      "text/plain": [
       "                                               title  \\\n",
       "0  KICIR KICIR - Lagu dan Tari Nusantara - Lagu Anak   \n",
       "1  KICIR KICIR | Lagu Daerah Jakarta (Betawi) | D...   \n",
       "2                                Kicir Kicir Jakarta   \n",
       "3  ONDEL ONDEL | Lagu Daerah DKI Jakarta - Betawi...   \n",
       "4  ONDEL ONDEL 💞 LAGU DAERAH DKI JAKARTA | ONDEL ...   \n",
       "\n",
       "                                                 url  \\\n",
       "0  https://www.youtube.com/watch?v=0wTJULU2REc&pp...   \n",
       "1  https://www.youtube.com/watch?v=LU3YHPgRxQo&pp...   \n",
       "2  https://www.youtube.com/watch?v=jMynoFKskhc&pp...   \n",
       "3  https://www.youtube.com/watch?v=wardyOl-EHo&pp...   \n",
       "4  https://www.youtube.com/watch?v=_X39qcf41ZU&pp...   \n",
       "\n",
       "                                                path wav_path  \n",
       "0  /songs/kicir_kicir_lagu_dan_tari_nusantara_lag...     None  \n",
       "1  /songs/kicir_kicir_lagu_daerah_jakarta_betawi_...     None  \n",
       "2                     /songs/kicir_kicir_jakarta.mp3     None  \n",
       "3  /songs/ondel_ondel_lagu_daerah_dki_jakarta_bet...     None  \n",
       "4  /songs/ondel_ondel_lagu_daerah_dki_jakarta_ond...     None  "
      ]
     },
     "execution_count": 78,
     "metadata": {},
     "output_type": "execute_result"
    }
   ],
   "source": [
    "df_songs.head()"
   ]
  },
  {
   "cell_type": "markdown",
   "metadata": {},
   "source": [
    "#### Durasi Lagu\n",
    "Masih error, path harus seperti ini:\n",
    "`songs\\senam kicir kicir lomba 2024.mp3`"
   ]
  },
  {
   "cell_type": "code",
   "execution_count": 68,
   "metadata": {},
   "outputs": [],
   "source": [
    "# from pydub import AudioSegment\n",
    "# from pydub.utils import which\n",
    "# AudioSegment.converter = which(\"ffmpeg\")\n",
    "\n",
    "# list_songs = []\n",
    "\n",
    "# for row in df_songs.iterrows():\n",
    "#     path = row[1]['path']\n",
    "#     if path is None:\n",
    "#         continue\n",
    "#     try:\n",
    "#         audio = AudioSegment.from_file(path)\n",
    "#         print(f'Processing {path}...')\n",
    "#         list_songs.append({\n",
    "#             'title': row[1]['title'],\n",
    "#             'path': path,\n",
    "#             'duration': len(audio) / 1000  # Duration in seconds\n",
    "#         })\n",
    "#     except Exception as e:\n",
    "#         print(f\"Error processing {path}: {e}\")\n",
    "#         continue"
   ]
  },
  {
   "cell_type": "code",
   "execution_count": 69,
   "metadata": {},
   "outputs": [],
   "source": [
    "# df_list_songs = pd.DataFrame(list_songs)\n",
    "# df_list_songs"
   ]
  },
  {
   "cell_type": "code",
   "execution_count": null,
   "metadata": {},
   "outputs": [],
   "source": []
  }
 ],
 "metadata": {
  "kernelspec": {
   "display_name": "Python 3",
   "language": "python",
   "name": "python3"
  },
  "language_info": {
   "codemirror_mode": {
    "name": "ipython",
    "version": 3
   },
   "file_extension": ".py",
   "mimetype": "text/x-python",
   "name": "python",
   "nbconvert_exporter": "python",
   "pygments_lexer": "ipython3",
   "version": "3.12.3"
  }
 },
 "nbformat": 4,
 "nbformat_minor": 2
}
