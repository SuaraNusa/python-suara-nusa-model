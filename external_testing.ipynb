{
 "cells": [
  {
   "cell_type": "code",
   "execution_count": null,
   "metadata": {},
   "outputs": [],
   "source": [
    "import tensorflow as tf\n",
    "import pandas as pd\n",
    "import librosa\n",
    "import numpy as np\n",
    "from pydub import AudioSegment\n",
    "from io import BytesIO"
   ]
  },
  {
   "cell_type": "code",
   "execution_count": 43,
   "metadata": {},
   "outputs": [
    {
     "data": {
      "text/plain": [
       "'2.18.0'"
      ]
     },
     "execution_count": 43,
     "metadata": {},
     "output_type": "execute_result"
    }
   ],
   "source": [
    "tf.__version__"
   ]
  },
  {
   "cell_type": "code",
   "execution_count": 44,
   "metadata": {},
   "outputs": [],
   "source": [
    "# load model\n",
    "model = tf.keras.models.load_model('model/model.keras')\n",
    "\n",
    "# load class names\n",
    "class_names = pd.read_csv('model/class_names.csv')"
   ]
  },
  {
   "cell_type": "code",
   "execution_count": 45,
   "metadata": {},
   "outputs": [
    {
     "data": {
      "text/html": [
       "<div>\n",
       "<style scoped>\n",
       "    .dataframe tbody tr th:only-of-type {\n",
       "        vertical-align: middle;\n",
       "    }\n",
       "\n",
       "    .dataframe tbody tr th {\n",
       "        vertical-align: top;\n",
       "    }\n",
       "\n",
       "    .dataframe thead th {\n",
       "        text-align: right;\n",
       "    }\n",
       "</style>\n",
       "<table border=\"1\" class=\"dataframe\">\n",
       "  <thead>\n",
       "    <tr style=\"text-align: right;\">\n",
       "      <th></th>\n",
       "      <th>class_name</th>\n",
       "      <th>class_code</th>\n",
       "    </tr>\n",
       "  </thead>\n",
       "  <tbody>\n",
       "    <tr>\n",
       "      <th>0</th>\n",
       "      <td>Aek Kapus</td>\n",
       "      <td>0</td>\n",
       "    </tr>\n",
       "    <tr>\n",
       "      <th>1</th>\n",
       "      <td>Akai Bipamare</td>\n",
       "      <td>1</td>\n",
       "    </tr>\n",
       "    <tr>\n",
       "      <th>2</th>\n",
       "      <td>Ampar-Ampar Pisang</td>\n",
       "      <td>2</td>\n",
       "    </tr>\n",
       "    <tr>\n",
       "      <th>3</th>\n",
       "      <td>Anak Daro</td>\n",
       "      <td>3</td>\n",
       "    </tr>\n",
       "    <tr>\n",
       "      <th>4</th>\n",
       "      <td>Anak Kambing Saya</td>\n",
       "      <td>4</td>\n",
       "    </tr>\n",
       "    <tr>\n",
       "      <th>...</th>\n",
       "      <td>...</td>\n",
       "      <td>...</td>\n",
       "    </tr>\n",
       "    <tr>\n",
       "      <th>98</th>\n",
       "      <td>Tumpi Wayu</td>\n",
       "      <td>98</td>\n",
       "    </tr>\n",
       "    <tr>\n",
       "      <th>99</th>\n",
       "      <td>Tutu Koda</td>\n",
       "      <td>99</td>\n",
       "    </tr>\n",
       "    <tr>\n",
       "      <th>100</th>\n",
       "      <td>Waktu Hujan Sore-Sore</td>\n",
       "      <td>100</td>\n",
       "    </tr>\n",
       "    <tr>\n",
       "      <th>101</th>\n",
       "      <td>Yamko Rambe Yamko</td>\n",
       "      <td>101</td>\n",
       "    </tr>\n",
       "    <tr>\n",
       "      <th>102</th>\n",
       "      <td>Yo Botoi Botoi</td>\n",
       "      <td>102</td>\n",
       "    </tr>\n",
       "  </tbody>\n",
       "</table>\n",
       "<p>103 rows × 2 columns</p>\n",
       "</div>"
      ],
      "text/plain": [
       "                class_name  class_code\n",
       "0                Aek Kapus           0\n",
       "1            Akai Bipamare           1\n",
       "2       Ampar-Ampar Pisang           2\n",
       "3                Anak Daro           3\n",
       "4        Anak Kambing Saya           4\n",
       "..                     ...         ...\n",
       "98              Tumpi Wayu          98\n",
       "99               Tutu Koda          99\n",
       "100  Waktu Hujan Sore-Sore         100\n",
       "101      Yamko Rambe Yamko         101\n",
       "102         Yo Botoi Botoi         102\n",
       "\n",
       "[103 rows x 2 columns]"
      ]
     },
     "execution_count": 45,
     "metadata": {},
     "output_type": "execute_result"
    }
   ],
   "source": [
    "class_names"
   ]
  },
  {
   "cell_type": "code",
   "execution_count": 46,
   "metadata": {},
   "outputs": [],
   "source": [
    "def convert_to_wav(audio_path):\n",
    "    # check if already wav\n",
    "    if audio_path.endswith('.wav'):\n",
    "        return audio_path\n",
    "    \n",
    "    # load audio\n",
    "    audio = AudioSegment.from_file(audio_path)\n",
    "    \n",
    "    # convert to wav\n",
    "    wav_audio = BytesIO()\n",
    "    \n",
    "    audio.export(wav_audio, format='wav')\n",
    "    \n",
    "    wav_audio.seek(0)\n",
    "    \n",
    "    return wav_audio\n",
    "\n",
    "def mfcc_features(file_path):\n",
    "    try:\n",
    "        audio, sample_rate = librosa.load(file_path) \n",
    "        mfccs = librosa.feature.mfcc(y=audio, sr=sample_rate, n_mfcc=40)\n",
    "        mfccs_processed = np.mean(mfccs.T,axis=0)\n",
    "    except Exception as e:\n",
    "        print(\"Error encountered while parsing file: \", file_path)\n",
    "        return None \n",
    "     \n",
    "    return mfccs_processed\n",
    "\n",
    "def predict_song(model, file_path):\n",
    "    wav = convert_to_wav(file_path)\n",
    "    features = mfcc_features(wav)\n",
    "    \n",
    "    if features is None:\n",
    "        return None\n",
    "    \n",
    "    features = features.reshape(1, -1)\n",
    "    pred = model.predict(features)\n",
    "    \n",
    "    pred_class = np.argmax(pred)\n",
    "    pred_prob = pred[0][pred_class]\n",
    "    \n",
    "    return pred_class, pred_prob"
   ]
  },
  {
   "cell_type": "code",
   "execution_count": 47,
   "metadata": {},
   "outputs": [
    {
     "name": "stdout",
     "output_type": "stream",
     "text": [
      "Predicting SERU_JUGA_Ikutan_Tari_kreasi_manuk_dadali_[_YouConvert.net_].mp3\n"
     ]
    },
    {
     "name": "stdout",
     "output_type": "stream",
     "text": [
      "\u001b[1m1/1\u001b[0m \u001b[32m━━━━━━━━━━━━━━━━━━━━\u001b[0m\u001b[37m\u001b[0m \u001b[1m0s\u001b[0m 112ms/step\n",
      "Predicted class: Butet with probability 0.21\n",
      "\n",
      "Predicting KARAOKE_MANUK_DADALI_Lagu_Daerah_Jawa_Barat_[_YouConvert.net_].mp3\n",
      "\u001b[1m1/1\u001b[0m \u001b[32m━━━━━━━━━━━━━━━━━━━━\u001b[0m\u001b[37m\u001b[0m \u001b[1m0s\u001b[0m 41ms/step\n",
      "Predicted class: Manuk Dadali with probability 0.98\n",
      "\n",
      "Predicting manuk_dadali_manual1.m4a\n",
      "\u001b[1m1/1\u001b[0m \u001b[32m━━━━━━━━━━━━━━━━━━━━\u001b[0m\u001b[37m\u001b[0m \u001b[1m0s\u001b[0m 42ms/step\n",
      "Predicted class: Tumpi Wayu with probability 0.46\n",
      "\n",
      "Predicting manuk_dadali_manual2.m4a\n",
      "\u001b[1m1/1\u001b[0m \u001b[32m━━━━━━━━━━━━━━━━━━━━\u001b[0m\u001b[37m\u001b[0m \u001b[1m0s\u001b[0m 56ms/step\n",
      "Predicted class: Borero with probability 0.99\n",
      "\n"
     ]
    }
   ],
   "source": [
    "# read folder test to predict\n",
    "import os\n",
    "\n",
    "folder = 'test'\n",
    "\n",
    "for file in os.listdir(folder):\n",
    "    print(f'Predicting {file}')\n",
    "    \n",
    "    predict_title, pred_prob = predict_song(model, os.path.join(folder, file))\n",
    "    print(f'Predicted class: {class_names.iloc[predict_title, 0]} with probability {pred_prob:.2f}\\n')"
   ]
  }
 ],
 "metadata": {
  "kernelspec": {
   "display_name": "Python 3",
   "language": "python",
   "name": "python3"
  },
  "language_info": {
   "codemirror_mode": {
    "name": "ipython",
    "version": 3
   },
   "file_extension": ".py",
   "mimetype": "text/x-python",
   "name": "python",
   "nbconvert_exporter": "python",
   "pygments_lexer": "ipython3",
   "version": "3.10.15"
  }
 },
 "nbformat": 4,
 "nbformat_minor": 2
}
